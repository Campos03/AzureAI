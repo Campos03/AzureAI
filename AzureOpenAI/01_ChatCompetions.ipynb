{
 "cells": [
  {
   "attachments": {},
   "cell_type": "markdown",
   "metadata": {},
   "source": [
    "# Get started using chat completions with Azure OpenAI Service\n"
   ]
  },
  {
   "cell_type": "markdown",
   "metadata": {},
   "source": [
    "## Install Library"
   ]
  },
  {
   "cell_type": "code",
   "execution_count": null,
   "metadata": {},
   "outputs": [],
   "source": [
    "%pip install openai\n",
    "%pip install python-dotenv"
   ]
  },
  {
   "cell_type": "code",
   "execution_count": 1,
   "metadata": {},
   "outputs": [
    {
     "name": "stdout",
     "output_type": "stream",
     "text": [
      "Azure OpenAI Endpoint: https://ziggyopenai01.openai.azure.com/\n",
      "Azure OpenAI Key: c10c1655b5d7469f9c70e98da73b2d39\n",
      "Azure OpenAI Deployment: gpt-4o\n",
      "Azure OpenAI API Version: 2025-03-01-preview\n"
     ]
    }
   ],
   "source": [
    "from dotenv import load_dotenv\n",
    "import os\n",
    "\n",
    "load_dotenv() # take environment variables from .env.\n",
    "\n",
    "azure_openai_endpoint = os.getenv(\"AZURE_OPENAI_ENDPOINT\")\n",
    "azure_openai_key = os.getenv(\"AZURE_OPENAI_API_KEY\")\n",
    "azure_openai_deployment = os.getenv(\"AZURE_OPENAI_CHAT_DEPLOYMENT_NAME\")\n",
    "azure_openai_api_version = \"2025-03-01-preview\"\n",
    "\n",
    "print(f\"Azure OpenAI Endpoint: {azure_openai_endpoint}\")\n",
    "print(f\"Azure OpenAI Key: {azure_openai_key}\")\n",
    "print(f\"Azure OpenAI Deployment: {azure_openai_deployment}\")\n",
    "print(f\"Azure OpenAI API Version: {azure_openai_api_version}\")\n"
   ]
  },
  {
   "attachments": {},
   "cell_type": "markdown",
   "metadata": {},
   "source": [
    "## Generate a text response"
   ]
  },
  {
   "cell_type": "code",
   "execution_count": 2,
   "metadata": {},
   "outputs": [],
   "source": [
    "from openai import AzureOpenAI\n",
    "\n",
    "# Create an AzureOpenAI client\n",
    "openai_client = AzureOpenAI(\n",
    "    # to get version: https://learn.microsoft.com/en-us/azure/ai-services/openai/api-version-deprecation\n",
    "    api_version=azure_openai_api_version,\n",
    "    azure_endpoint=azure_openai_endpoint,\n",
    "    api_key=azure_openai_key\n",
    ")"
   ]
  },
  {
   "cell_type": "code",
   "execution_count": 4,
   "metadata": {},
   "outputs": [],
   "source": [
    "response = openai_client.chat.completions.create(\n",
    "    model=azure_openai_deployment,\n",
    "    messages=[\n",
    "        {\"role\": \"system\", \"content\": \"You are a helpful assistant.\"},\n",
    "        {\"role\": \"user\", \"content\": \"Does Azure OpenAI support customer managed keys?\"},\n",
    "        {\"role\": \"assistant\", \"content\": \"Yes, customer managed keys are supported by Azure OpenAI.\"},\n",
    "        {\"role\": \"user\", \"content\": \"Do other Azure AI services support this too?\"}\n",
    "    ]\n",
    ")"
   ]
  },
  {
   "cell_type": "code",
   "execution_count": 5,
   "metadata": {},
   "outputs": [
    {
     "name": "stdout",
     "output_type": "stream",
     "text": [
      "Full Response:\n",
      "\n",
      "{\n",
      "    \"id\": \"chatcmpl-BOxveGv62QvTysXNo2AOojo3v6F1r\",\n",
      "    \"choices\": [\n",
      "        {\n",
      "            \"finish_reason\": \"stop\",\n",
      "            \"index\": 0,\n",
      "            \"logprobs\": null,\n",
      "            \"message\": {\n",
      "                \"content\": \"Yes, several other Azure AI services support customer managed keys (CMK). These services allow you to manage the encryption keys for data stored and processed by the services. Some of the Azure AI services that support customer managed keys include:\\n\\n1. **Azure Cognitive Services**: Various services under Azure Cognitive Services, such as Text Analytics, Computer Vision, Face, and Translator, support customer managed keys.\\n2. **Azure Machine Learning**: Azure Machine Learning supports customer managed keys for encrypting data stored in the service.\\n3. **Azure Synapse Analytics**: This service allows you to control and manage your encryption keys for data at rest.\\n\\nThese services give enterprises greater control over their encryption keys, improving security and compliance with regulations that require strict management of encryption keys and sensitive information.\\n\\nTo use customer managed keys with these services, you typically need to integrate the services with Azure Key Vault, which is a service that provides secure key management and allows you to create, import, and manage cryptographic keys and secrets.\",\n",
      "                \"refusal\": null,\n",
      "                \"role\": \"assistant\"\n",
      "            },\n",
      "            \"content_filter_results\": {\n",
      "                \"hate\": {\n",
      "                    \"filtered\": false,\n",
      "                    \"severity\": \"safe\"\n",
      "                },\n",
      "                \"protected_material_code\": {\n",
      "                    \"filtered\": false,\n",
      "                    \"detected\": false\n",
      "                },\n",
      "                \"protected_material_text\": {\n",
      "                    \"filtered\": false,\n",
      "                    \"detected\": false\n",
      "                },\n",
      "                \"self_harm\": {\n",
      "                    \"filtered\": false,\n",
      "                    \"severity\": \"safe\"\n",
      "                },\n",
      "                \"sexual\": {\n",
      "                    \"filtered\": false,\n",
      "                    \"severity\": \"safe\"\n",
      "                },\n",
      "                \"violence\": {\n",
      "                    \"filtered\": false,\n",
      "                    \"severity\": \"safe\"\n",
      "                }\n",
      "            }\n",
      "        }\n",
      "    ],\n",
      "    \"created\": 1745289938,\n",
      "    \"model\": \"gpt-4o-2024-05-13\",\n",
      "    \"object\": \"chat.completion\",\n",
      "    \"system_fingerprint\": \"fp_ee1d74bde0\",\n",
      "    \"usage\": {\n",
      "        \"completion_tokens\": 203,\n",
      "        \"prompt_tokens\": 55,\n",
      "        \"total_tokens\": 258,\n",
      "        \"completion_tokens_details\": {\n",
      "            \"accepted_prediction_tokens\": 0,\n",
      "            \"audio_tokens\": 0,\n",
      "            \"reasoning_tokens\": 0,\n",
      "            \"rejected_prediction_tokens\": 0\n",
      "        },\n",
      "        \"prompt_tokens_details\": {\n",
      "            \"audio_tokens\": 0,\n",
      "            \"cached_tokens\": 0\n",
      "        }\n",
      "    },\n",
      "    \"prompt_filter_results\": [\n",
      "        {\n",
      "            \"prompt_index\": 0,\n",
      "            \"content_filter_results\": {\n",
      "                \"hate\": {\n",
      "                    \"filtered\": false,\n",
      "                    \"severity\": \"safe\"\n",
      "                },\n",
      "                \"jailbreak\": {\n",
      "                    \"filtered\": false,\n",
      "                    \"detected\": false\n",
      "                },\n",
      "                \"self_harm\": {\n",
      "                    \"filtered\": false,\n",
      "                    \"severity\": \"safe\"\n",
      "                },\n",
      "                \"sexual\": {\n",
      "                    \"filtered\": false,\n",
      "                    \"severity\": \"safe\"\n",
      "                },\n",
      "                \"violence\": {\n",
      "                    \"filtered\": false,\n",
      "                    \"severity\": \"safe\"\n",
      "                }\n",
      "            }\n",
      "        }\n",
      "    ]\n",
      "}\n"
     ]
    }
   ],
   "source": [
    "import json\n",
    "\n",
    "# Pretty print the entire response as JSON\n",
    "if response:\n",
    "    print(\"Full Response:\\n\")\n",
    "    # Convert the response to a dictionary before serializing\n",
    "    response_dict = response.to_dict()  # Assuming the response object has a `to_dict` method\n",
    "    print(json.dumps(response_dict, indent=4))  # Pretty-print with 4 spaces indentation\n",
    "else:\n",
    "    print(\"No response received from the assistant.\")"
   ]
  },
  {
   "cell_type": "code",
   "execution_count": 6,
   "metadata": {},
   "outputs": [
    {
     "name": "stdout",
     "output_type": "stream",
     "text": [
      "Yes, several other Azure AI services support customer managed keys (CMK). These services allow you to manage the encryption keys for data stored and processed by the services. Some of the Azure AI services that support customer managed keys include:\n",
      "\n",
      "1. **Azure Cognitive Services**: Various services under Azure Cognitive Services, such as Text Analytics, Computer Vision, Face, and Translator, support customer managed keys.\n",
      "2. **Azure Machine Learning**: Azure Machine Learning supports customer managed keys for encrypting data stored in the service.\n",
      "3. **Azure Synapse Analytics**: This service allows you to control and manage your encryption keys for data at rest.\n",
      "\n",
      "These services give enterprises greater control over their encryption keys, improving security and compliance with regulations that require strict management of encryption keys and sensitive information.\n",
      "\n",
      "To use customer managed keys with these services, you typically need to integrate the services with Azure Key Vault, which is a service that provides secure key management and allows you to create, import, and manage cryptographic keys and secrets.\n"
     ]
    }
   ],
   "source": [
    "print(response.choices[0].message.content)"
   ]
  }
 ],
 "metadata": {
  "kernelspec": {
   "display_name": "Python 3",
   "language": "python",
   "name": "python3"
  },
  "language_info": {
   "codemirror_mode": {
    "name": "ipython",
    "version": 3
   },
   "file_extension": ".py",
   "mimetype": "text/x-python",
   "name": "python",
   "nbconvert_exporter": "python",
   "pygments_lexer": "ipython3",
   "version": "3.12.1"
  },
  "orig_nbformat": 4
 },
 "nbformat": 4,
 "nbformat_minor": 2
}
