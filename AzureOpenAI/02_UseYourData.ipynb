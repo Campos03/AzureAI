{
 "cells": [
  {
   "attachments": {},
   "cell_type": "markdown",
   "metadata": {},
   "source": [
    "# Chat with Azure OpenAI models using your own data\n"
   ]
  },
  {
   "cell_type": "code",
   "execution_count": 1,
   "metadata": {},
   "outputs": [],
   "source": [
    "from dotenv import load_dotenv\n",
    "import os\n",
    "\n",
    "load_dotenv() # take environment variables from .env.\n",
    "\n",
    "azure_openai_endpoint = os.getenv(\"AZURE_OPENAI_ENDPOINT\")\n",
    "azure_openai_key = os.getenv(\"AZURE_OPENAI_API_KEY\")\n",
    "azure_openai_deployment = os.getenv(\"AZURE_OPENAI_CHAT_DEPLOYMENT_NAME\")\n",
    "azure_openai_api_version = \"2024-10-01-preview\"\n",
    "\n",
    "azure_search_service_endpoint = os.getenv(\"AZURE_SEARCH_SERVICE_ENDPOINT\")\n",
    "azure_search_service_admin_key = os.getenv(\"AZURE_SEARCH_ADMIN_KEY\")\n",
    "azure_search_service_index_name = \"product-index-01\"\n"
   ]
  },
  {
   "attachments": {},
   "cell_type": "markdown",
   "metadata": {},
   "source": [
    "## Generate a text response"
   ]
  },
  {
   "cell_type": "code",
   "execution_count": 2,
   "metadata": {},
   "outputs": [],
   "source": [
    "from openai import AzureOpenAI\n",
    "\n",
    "# Create an AzureOpenAI client\n",
    "openai_client = AzureOpenAI(\n",
    "    # to get version: https://learn.microsoft.com/en-us/azure/ai-services/openai/api-version-deprecation\n",
    "    api_version=azure_openai_api_version,\n",
    "    azure_endpoint=azure_openai_endpoint,\n",
    "    api_key=azure_openai_key\n",
    ")"
   ]
  },
  {
   "cell_type": "code",
   "execution_count": 3,
   "metadata": {},
   "outputs": [
    {
     "name": "stdout",
     "output_type": "stream",
     "text": [
      "assistant: The price of the TrailMaster X4 Tent is $250 [doc3].\n"
     ]
    }
   ],
   "source": [
    "response = openai_client.chat.completions.create(\n",
    "    model=azure_openai_deployment,\n",
    "    messages=[\n",
    "        {\n",
    "            \"role\": \"user\",\n",
    "            \"content\": \"What is the price of the TrailMaster X4 Tent?\",\n",
    "        },\n",
    "    ],\n",
    "    extra_body={\n",
    "        \"data_sources\":[\n",
    "            {\n",
    "                \"type\": \"azure_search\",\n",
    "                \"parameters\": {\n",
    "                    \"endpoint\": azure_search_service_endpoint,\n",
    "                    \"index_name\": azure_search_service_index_name,\n",
    "                    \"authentication\": {\n",
    "                        \"type\": \"api_key\",\n",
    "                        \"key\": azure_search_service_admin_key,\n",
    "                    }\n",
    "                }\n",
    "            }\n",
    "        ],\n",
    "    }\n",
    ")\n",
    "\n",
    "print(f\"{response.choices[0].message.role}: {response.choices[0].message.content}\")"
   ]
  },
  {
   "cell_type": "code",
   "execution_count": 4,
   "metadata": {},
   "outputs": [
    {
     "name": "stdout",
     "output_type": "stream",
     "text": [
      "Full Response:\n",
      "\n",
      "{\n",
      "    \"id\": \"bd9c3356-cee8-49aa-b20d-d37049f007a1\",\n",
      "    \"choices\": [\n",
      "        {\n",
      "            \"finish_reason\": \"stop\",\n",
      "            \"index\": 0,\n",
      "            \"message\": {\n",
      "                \"content\": \"The price of the TrailMaster X4 Tent is $250 [doc3].\",\n",
      "                \"role\": \"assistant\",\n",
      "                \"end_turn\": true,\n",
      "                \"context\": {\n",
      "                    \"citations\": [\n",
      "                        {\n",
      "                            \"content\": \"Title: product_info_1.pdfIt's comfortable and has many useful features, but the green color just isn't my \\nfavorite. Overall, it's a good tent.\\n5) **Rating:** 5\\n   **Review:** This tent is perfect for my family camping trips. The spacious \\ninterior and convenient storage pocket make it easy to stay organized. It's also \\nsuper easy to set up, making it a great addition to our gear.\\n## FAQ\\n1) Can the TrailMaster X4 Tent be used in winter conditions?\\n   The TrailMaster X4 Tent is designed for 3-season use and may not be suitable for\\nextreme winter conditions with heavy snow and freezing temperatures.\\n2) How many people can comfortably sleep in the TrailMaster X4 Tent?\\n   The TrailMaster X4 Tent can comfortably accommodate up to 4 people with room for\\ntheir gear.\\n3) Is there a warranty on the TrailMaster X4 Tent?\\n   Yes, the TrailMaster X4 Tent comes with a 2-year limited warranty against \\nmanufacturing defects.\\n4) Are there any additional accessories included with the TrailMaster X4 Tent?\\n   The TrailMaster X4 Tent includes a rainfly, tent stakes, guy lines, and a carry \\nbag for easy transport.\\n5) Can the TrailMaster X4 Tent be easily carried during hikes?\\n   Yes, the TrailMaster X4 Tent weighs just 12lbs, and when packed in its carry \\nbag, it can be comfortably carried during hikes.\",\n",
      "                            \"title\": \"\",\n",
      "                            \"url\": \"product_info_1.pdf\",\n",
      "                            \"filepath\": \"product_info_1.pdf\",\n",
      "                            \"chunk_id\": \"1\"\n",
      "                        },\n",
      "                        {\n",
      "                            \"content\": \"Title: product_info_1.pdf   - Our warranty is non-transferable and applies only to the original purchaser of\\nthe TrailMaster X4 Tent.\\n   - The warranty does not cover any incidental or consequential damages resulting \\nfrom the use or inability to use the tent.\\n   - Any unauthorized repairs or alterations void the warranty.\\n### Contact Information\\nIf you have any questions or need further assistance, please contact our customer \\nsupport:\\n- Customer Support Phone: +1-800-123-4567\\n- Customer Support Email: support@example.com\\n## Return Policy\\n - **If Membership status \\\"None        \\\":** Returns are accepted within 30 days\\nof purchase, provided the tent is unused, undamaged and in its original packaging. \\nCustomer is responsible for the cost of return shipping. Once the returned item is \\nreceived, a refund will be issued for the cost of the item minus a 10% restocking \\nfee. If the item was damaged during shipping or if there is a defect, the customer \\nshould contact customer service within 7 days of receiving the item.\\n - **If Membership status \\\"Gold\\\":** Returns are accepted within 60 days of \\npurchase, provided the tent is unused, undamaged and in its original packaging. \\nFree return shipping is provided. Once the returned item is received, a full refund\\nwill be issued. If the item was damaged during shipping or if there is a defect, \\nthe customer should contact customer service within 7 days of receiving the item.\\n - **If Membership status \\\"Platinum\\\":** Returns are accepted within 90 days of \\npurchase, provided the tent is unused, undamaged and in its original packaging. \\nFree return shipping is provided, and a full refund will be issued. If the item was\\ndamaged during shipping or if there is a defect, the customer should contact \\ncustomer service within 7 days of receiving the item.\\n## Reviews\\n1) **Rating:** 5\\n   **Review:** I am extremely happy with my TrailMaster X4 Tent! It's spacious, \\neasy to set up, and kept me dry during a storm. The UV protection is a great \\naddition too. Highly recommend it to anyone who loves camping!\\n2) **Rating:** 3\\n   **Review:** I bought the TrailMaster X4 Tent, and while it's waterproof and has \\na spacious interior, I found it a bit difficult to set up. It's a decent tent, but \\nI wish it were easier to assemble.\\n3) **Rating:** 5\\n   **Review:** The TrailMaster X4 Tent is a fantastic investment for any serious \\ncamper. The easy setup and spacious interior make it perfect for extended trips, \\nand the waterproof design kept us dry in heavy rain.\\n4) **Rating:** 4\\n   **Review:** I like the TrailMaster X4 Tent, but I wish it came in more colors. \",\n",
      "                            \"title\": \"\",\n",
      "                            \"url\": \"product_info_1.pdf\",\n",
      "                            \"filepath\": \"product_info_1.pdf\",\n",
      "                            \"chunk_id\": \"2\"\n",
      "                        },\n",
      "                        {\n",
      "                            \"content\": \"Title: product_info_1.pdf# Information about product item_number: 1\\nTrailMaster X4 Tent, price $250,\\n## Brand\\nOutdoorLiving\\n## Category\\nTents\\n## Features\\n- Polyester material for durability\\n- Spacious interior to accommodate multiple people\\n- Easy setup with included instructions\\n- Water-resistant construction to withstand light rain\\n- Mesh panels for ventilation and insect protection\\n- Rainfly included for added weather protection\\n- Multiple doors for convenient entry and exit\\n- Interior pockets for organizing small items\\n- Reflective guy lines for improved visibility at night\\n- Freestanding design for easy setup and relocation\\n- Carry bag included for convenient storage and transportation\\n## Technical Specs\\n**Best Use**: Camping  \\n**Capacity**: 4-person  \\n**Season Rating**: 3-season  \\n**Setup**: Freestanding  \\n**Material**: Polyester  \\n**Waterproof**: Yes  \\n**Floor Area**: 80 square feet  \\n**Peak Height**: 6 feet  \\n**Number of Doors**: 2  \\n**Color**: Green  \\n**Rainfly**: Included  \\n**Rainfly Waterproof Rating**: 2000mm  \\n**Tent Poles**: Aluminum  \\n**Pole Diameter**: 9mm  \\n**Ventilation**: Mesh panels and adjustable vents  \\n**Interior Pockets**: Yes (4 pockets)  \\n**Gear Loft**: Included  \\n**Footprint**: Sold separately  \\n**Guy Lines**: Reflective  \\n**Stakes**: Aluminum  \\n**Carry Bag**: Included  \\n**Dimensions**: 10ft x 8ft x 6ft (length x width x peak height)  \\n**Packed Size**: 24 inches x 8 inches  \\n**Weight**: 12 lbs  \\n## TrailMaster X4 Tent User Guide\",\n",
      "                            \"title\": \"\",\n",
      "                            \"url\": \"product_info_1.pdf\",\n",
      "                            \"filepath\": \"product_info_1.pdf\",\n",
      "                            \"chunk_id\": \"3\"\n",
      "                        },\n",
      "                        {\n",
      "                            \"content\": \"Title: product_info_1.pdf### Introduction\\nThank you for choosing the TrailMaster X4 Tent. This user guide provides \\ninstructions on how to set up, use, and maintain your tent effectively. Please read\\nthis guide thoroughly before using the tent.\\n### Package Contents\\nEnsure that the package includes the following components:\\n- TrailMaster X4 Tent body\\n- Tent poles\\n- Rainfly (if applicable)\\n- Stakes and guy lines\\n- Carry bag\\n- User Guide\\nIf any components are missing or damaged, please contact our customer support \\nimmediately.\\n### Tent Setup\\n#### Step 1: Selecting a Suitable Location\\n- Find a level and clear area for pitching the tent.\\n- Remove any sharp objects or debris that could damage the tent floor.\\n#### Step 2: Unpacking and Organizing Components\\n- Lay out all the tent components on the ground.\\n- Familiarize yourself with each part, including the tent body, poles, rainfly, \\nstakes, and guy lines.\\n#### Step 3: Assembling the Tent Poles\\n- Connect the tent poles according to their designated color codes or numbering.\\n- Slide the connected poles through the pole sleeves or attach them to the tent \\nbody clips.\\n#### Step 4: Setting up the Tent Body\\n- Begin at one end and raise the tent body by pushing up the poles.\\n- Ensure that the tent body is evenly stretched and centered.\\n- Secure the tent body to the ground using stakes and guy lines as needed.\\n#### Step 5: Attaching the Rainfly (if applicable)\\n- If your tent includes a rainfly, spread it over the tent body.\\n- Attach the rainfly to the tent corners and secure it with the provided buckles or\\nclips.\",\n",
      "                            \"title\": \"\",\n",
      "                            \"url\": \"product_info_1.pdf\",\n",
      "                            \"filepath\": \"product_info_1.pdf\",\n",
      "                            \"chunk_id\": \"0\"\n",
      "                        },\n",
      "                        {\n",
      "                            \"content\": \"Title: product_info_1.pdf6. **Avoid Sharp Objects**: Keep sharp objects away from the tent to prevent damage\\nto the fabric or punctures.\\n7. **Avoid Using Harsh Chemicals**: Do not use harsh chemicals or abrasive cleaners\\non the tent, as they may damage the material.\\n8. **Don't Store Wet**: Do not store the tent when it is wet or damp, as it can \\nlead to mold, mildew, or fabric deterioration.\\n9. **Avoid Direct Sunlight**: Avoid prolonged exposure of the tent to direct \\nsunlight, as it can cause fading or weakening of the fabric.\\n10. **Don't Neglect Maintenance**: Regularly clean and maintain the tent according \\nto the provided instructions to ensure its longevity and performance.\\n## Warranty Information\\nThank you for purchasing the TrailMaster X4 Tent. We are confident in the quality \\nand durability of our product. This warranty provides coverage for any \\nmanufacturing defects or issues that may arise during normal use of the tent. \\nPlease read the terms and conditions of the warranty below:\\n1. **Warranty Coverage**: The TrailMaster X4 Tent is covered by a **2-year limited \\nwarranty** from the date of purchase. This warranty covers manufacturing defects in\\nmaterials and workmanship.\\n2. **What is Covered**:\\n   - Seam or fabric tears that occur under normal use and are not a result of \\nmisuse or abuse.\\n   - Issues with the tent poles, zippers, buckles, or other hardware components \\nthat affect the functionality of the tent.\\n   - Problems with the rainfly or other included accessories that impact the \\nperformance of the tent.\\n3. **What is Not Covered**:\\n   - Damage caused by misuse, abuse, or improper care of the tent.\\n   - Normal wear and tear or cosmetic damage that does not affect the functionality\\nof the tent.\\n   - Damage caused by extreme weather conditions, natural disasters, or acts of \\nnature.\\n   - Any modifications or alterations made to the tent by the user.\\n4. **Claim Process**:\\n   - In the event of a warranty claim, please contact our customer support (contact\\ndetails provided in the user guide) to initiate the process.\\n   - Provide proof of purchase, including the date and place of purchase, along \\nwith a detailed description and supporting evidence of the issue.\\n5. **Resolution Options**:\\n   - Upon receipt of the warranty claim, our customer support team will assess the \\nissue and determine the appropriate resolution.\\n   - Options may include repair, replacement of the defective parts, or, if \\nnecessary, replacement of the entire tent.\\n6. **Limitations and Exclusions**:\",\n",
      "                            \"title\": \"\",\n",
      "                            \"url\": \"product_info_1.pdf\",\n",
      "                            \"filepath\": \"product_info_1.pdf\",\n",
      "                            \"chunk_id\": \"4\"\n",
      "                        }\n",
      "                    ],\n",
      "                    \"intent\": \"[\\\"TrailMaster X4 Tent price\\\", \\\"cost of TrailMaster X4 Tent\\\", \\\"TrailMaster X4 Tent pricing\\\"]\"\n",
      "                }\n",
      "            }\n",
      "        }\n",
      "    ],\n",
      "    \"created\": 1744945077,\n",
      "    \"model\": \"gpt-4o\",\n",
      "    \"object\": \"extensions.chat.completion\",\n",
      "    \"system_fingerprint\": \"fp_ee1d74bde0\",\n",
      "    \"usage\": {\n",
      "        \"completion_tokens\": 43,\n",
      "        \"prompt_tokens\": 4599,\n",
      "        \"total_tokens\": 4642\n",
      "    }\n",
      "}\n"
     ]
    }
   ],
   "source": [
    "import json\n",
    "\n",
    "# Pretty print the Entire response as JSON\n",
    "if response:\n",
    "    print(\"Full Response:\\n\")\n",
    "    # Convert the response to a dictionary before serializing\n",
    "    response_dict = response.to_dict()  # Assuming the response object has a `to_dict` method\n",
    "    print(json.dumps(response_dict, indent=4))  # Pretty-print with 4 spaces indentation\n",
    "else:\n",
    "    print(\"No response received from the assistant.\")"
   ]
  },
  {
   "cell_type": "code",
   "execution_count": 25,
   "metadata": {},
   "outputs": [
    {
     "name": "stdout",
     "output_type": "stream",
     "text": [
      "Citation 1: {'content': \"Title: product_info_1.pdfIt's comfortable and has many useful features, but the green color just isn't my \\nfavorite. Overall, it's a good tent.\\n5) **Rating:** 5\\n   **Review:** This tent is perfect for my family camping trips. The spacious \\ninterior and convenient storage pocket make it easy to stay organized. It's also \\nsuper easy to set up, making it a great addition to our gear.\\n## FAQ\\n1) Can the TrailMaster X4 Tent be used in winter conditions?\\n   The TrailMaster X4 Tent is designed for 3-season use and may not be suitable for\\nextreme winter conditions with heavy snow and freezing temperatures.\\n2) How many people can comfortably sleep in the TrailMaster X4 Tent?\\n   The TrailMaster X4 Tent can comfortably accommodate up to 4 people with room for\\ntheir gear.\\n3) Is there a warranty on the TrailMaster X4 Tent?\\n   Yes, the TrailMaster X4 Tent comes with a 2-year limited warranty against \\nmanufacturing defects.\\n4) Are there any additional accessories included with the TrailMaster X4 Tent?\\n   The TrailMaster X4 Tent includes a rainfly, tent stakes, guy lines, and a carry \\nbag for easy transport.\\n5) Can the TrailMaster X4 Tent be easily carried during hikes?\\n   Yes, the TrailMaster X4 Tent weighs just 12lbs, and when packed in its carry \\nbag, it can be comfortably carried during hikes.\", 'title': '', 'url': 'product_info_1.pdf', 'filepath': 'product_info_1.pdf', 'chunk_id': '1'}\n",
      "Citation 2: {'content': 'Title: product_info_1.pdf   - Our warranty is non-transferable and applies only to the original purchaser of\\nthe TrailMaster X4 Tent.\\n   - The warranty does not cover any incidental or consequential damages resulting \\nfrom the use or inability to use the tent.\\n   - Any unauthorized repairs or alterations void the warranty.\\n### Contact Information\\nIf you have any questions or need further assistance, please contact our customer \\nsupport:\\n- Customer Support Phone: +1-800-123-4567\\n- Customer Support Email: support@example.com\\n## Return Policy\\n - **If Membership status \"None        \":** Returns are accepted within 30 days\\nof purchase, provided the tent is unused, undamaged and in its original packaging. \\nCustomer is responsible for the cost of return shipping. Once the returned item is \\nreceived, a refund will be issued for the cost of the item minus a 10% restocking \\nfee. If the item was damaged during shipping or if there is a defect, the customer \\nshould contact customer service within 7 days of receiving the item.\\n - **If Membership status \"Gold\":** Returns are accepted within 60 days of \\npurchase, provided the tent is unused, undamaged and in its original packaging. \\nFree return shipping is provided. Once the returned item is received, a full refund\\nwill be issued. If the item was damaged during shipping or if there is a defect, \\nthe customer should contact customer service within 7 days of receiving the item.\\n - **If Membership status \"Platinum\":** Returns are accepted within 90 days of \\npurchase, provided the tent is unused, undamaged and in its original packaging. \\nFree return shipping is provided, and a full refund will be issued. If the item was\\ndamaged during shipping or if there is a defect, the customer should contact \\ncustomer service within 7 days of receiving the item.\\n## Reviews\\n1) **Rating:** 5\\n   **Review:** I am extremely happy with my TrailMaster X4 Tent! It\\'s spacious, \\neasy to set up, and kept me dry during a storm. The UV protection is a great \\naddition too. Highly recommend it to anyone who loves camping!\\n2) **Rating:** 3\\n   **Review:** I bought the TrailMaster X4 Tent, and while it\\'s waterproof and has \\na spacious interior, I found it a bit difficult to set up. It\\'s a decent tent, but \\nI wish it were easier to assemble.\\n3) **Rating:** 5\\n   **Review:** The TrailMaster X4 Tent is a fantastic investment for any serious \\ncamper. The easy setup and spacious interior make it perfect for extended trips, \\nand the waterproof design kept us dry in heavy rain.\\n4) **Rating:** 4\\n   **Review:** I like the TrailMaster X4 Tent, but I wish it came in more colors. ', 'title': '', 'url': 'product_info_1.pdf', 'filepath': 'product_info_1.pdf', 'chunk_id': '2'}\n",
      "Citation 3: {'content': 'Title: product_info_1.pdf# Information about product item_number: 1\\nTrailMaster X4 Tent, price $250,\\n## Brand\\nOutdoorLiving\\n## Category\\nTents\\n## Features\\n- Polyester material for durability\\n- Spacious interior to accommodate multiple people\\n- Easy setup with included instructions\\n- Water-resistant construction to withstand light rain\\n- Mesh panels for ventilation and insect protection\\n- Rainfly included for added weather protection\\n- Multiple doors for convenient entry and exit\\n- Interior pockets for organizing small items\\n- Reflective guy lines for improved visibility at night\\n- Freestanding design for easy setup and relocation\\n- Carry bag included for convenient storage and transportation\\n## Technical Specs\\n**Best Use**: Camping  \\n**Capacity**: 4-person  \\n**Season Rating**: 3-season  \\n**Setup**: Freestanding  \\n**Material**: Polyester  \\n**Waterproof**: Yes  \\n**Floor Area**: 80 square feet  \\n**Peak Height**: 6 feet  \\n**Number of Doors**: 2  \\n**Color**: Green  \\n**Rainfly**: Included  \\n**Rainfly Waterproof Rating**: 2000mm  \\n**Tent Poles**: Aluminum  \\n**Pole Diameter**: 9mm  \\n**Ventilation**: Mesh panels and adjustable vents  \\n**Interior Pockets**: Yes (4 pockets)  \\n**Gear Loft**: Included  \\n**Footprint**: Sold separately  \\n**Guy Lines**: Reflective  \\n**Stakes**: Aluminum  \\n**Carry Bag**: Included  \\n**Dimensions**: 10ft x 8ft x 6ft (length x width x peak height)  \\n**Packed Size**: 24 inches x 8 inches  \\n**Weight**: 12 lbs  \\n## TrailMaster X4 Tent User Guide', 'title': '', 'url': 'product_info_1.pdf', 'filepath': 'product_info_1.pdf', 'chunk_id': '3'}\n",
      "Citation 4: {'content': 'Title: product_info_1.pdf### Introduction\\nThank you for choosing the TrailMaster X4 Tent. This user guide provides \\ninstructions on how to set up, use, and maintain your tent effectively. Please read\\nthis guide thoroughly before using the tent.\\n### Package Contents\\nEnsure that the package includes the following components:\\n- TrailMaster X4 Tent body\\n- Tent poles\\n- Rainfly (if applicable)\\n- Stakes and guy lines\\n- Carry bag\\n- User Guide\\nIf any components are missing or damaged, please contact our customer support \\nimmediately.\\n### Tent Setup\\n#### Step 1: Selecting a Suitable Location\\n- Find a level and clear area for pitching the tent.\\n- Remove any sharp objects or debris that could damage the tent floor.\\n#### Step 2: Unpacking and Organizing Components\\n- Lay out all the tent components on the ground.\\n- Familiarize yourself with each part, including the tent body, poles, rainfly, \\nstakes, and guy lines.\\n#### Step 3: Assembling the Tent Poles\\n- Connect the tent poles according to their designated color codes or numbering.\\n- Slide the connected poles through the pole sleeves or attach them to the tent \\nbody clips.\\n#### Step 4: Setting up the Tent Body\\n- Begin at one end and raise the tent body by pushing up the poles.\\n- Ensure that the tent body is evenly stretched and centered.\\n- Secure the tent body to the ground using stakes and guy lines as needed.\\n#### Step 5: Attaching the Rainfly (if applicable)\\n- If your tent includes a rainfly, spread it over the tent body.\\n- Attach the rainfly to the tent corners and secure it with the provided buckles or\\nclips.', 'title': '', 'url': 'product_info_1.pdf', 'filepath': 'product_info_1.pdf', 'chunk_id': '0'}\n",
      "Citation 5: {'content': \"Title: product_info_1.pdf6. **Avoid Sharp Objects**: Keep sharp objects away from the tent to prevent damage\\nto the fabric or punctures.\\n7. **Avoid Using Harsh Chemicals**: Do not use harsh chemicals or abrasive cleaners\\non the tent, as they may damage the material.\\n8. **Don't Store Wet**: Do not store the tent when it is wet or damp, as it can \\nlead to mold, mildew, or fabric deterioration.\\n9. **Avoid Direct Sunlight**: Avoid prolonged exposure of the tent to direct \\nsunlight, as it can cause fading or weakening of the fabric.\\n10. **Don't Neglect Maintenance**: Regularly clean and maintain the tent according \\nto the provided instructions to ensure its longevity and performance.\\n## Warranty Information\\nThank you for purchasing the TrailMaster X4 Tent. We are confident in the quality \\nand durability of our product. This warranty provides coverage for any \\nmanufacturing defects or issues that may arise during normal use of the tent. \\nPlease read the terms and conditions of the warranty below:\\n1. **Warranty Coverage**: The TrailMaster X4 Tent is covered by a **2-year limited \\nwarranty** from the date of purchase. This warranty covers manufacturing defects in\\nmaterials and workmanship.\\n2. **What is Covered**:\\n   - Seam or fabric tears that occur under normal use and are not a result of \\nmisuse or abuse.\\n   - Issues with the tent poles, zippers, buckles, or other hardware components \\nthat affect the functionality of the tent.\\n   - Problems with the rainfly or other included accessories that impact the \\nperformance of the tent.\\n3. **What is Not Covered**:\\n   - Damage caused by misuse, abuse, or improper care of the tent.\\n   - Normal wear and tear or cosmetic damage that does not affect the functionality\\nof the tent.\\n   - Damage caused by extreme weather conditions, natural disasters, or acts of \\nnature.\\n   - Any modifications or alterations made to the tent by the user.\\n4. **Claim Process**:\\n   - In the event of a warranty claim, please contact our customer support (contact\\ndetails provided in the user guide) to initiate the process.\\n   - Provide proof of purchase, including the date and place of purchase, along \\nwith a detailed description and supporting evidence of the issue.\\n5. **Resolution Options**:\\n   - Upon receipt of the warranty claim, our customer support team will assess the \\nissue and determine the appropriate resolution.\\n   - Options may include repair, replacement of the defective parts, or, if \\nnecessary, replacement of the entire tent.\\n6. **Limitations and Exclusions**:\", 'title': '', 'url': 'product_info_1.pdf', 'filepath': 'product_info_1.pdf', 'chunk_id': '4'}\n"
     ]
    }
   ],
   "source": [
    "# Convert the response object to a dictionary\n",
    "response_dict = response.to_dict()  # Assuming the response object has a `to_dict` method\n",
    "\n",
    "# Safely extract and print all citations\n",
    "try:\n",
    "    citations = response_dict['choices'][0]['message']['context']['citations']\n",
    "    for i, citation in enumerate(citations):\n",
    "        print(f\"Citation {i + 1}: {citation}\")\n",
    "except KeyError as e:\n",
    "    print(f\"KeyError: {e}. The expected key is missing in the response.\")\n",
    "except IndexError as e:\n",
    "    print(f\"IndexError: {e}. The expected list index is out of range.\")"
   ]
  },
  {
   "cell_type": "code",
   "execution_count": null,
   "metadata": {},
   "outputs": [
    {
     "name": "stdout",
     "output_type": "stream",
     "text": [
      "Full Response:\n",
      "\n",
      "{\n",
      "    \"id\": \"359aa963-18d4-4989-880b-3078a2d47270\",\n",
      "    \"choices\": [\n",
      "        {\n",
      "            \"finish_reason\": \"stop\",\n",
      "            \"index\": 0,\n",
      "            \"message\": {\n",
      "                \"content\": \"The price of the TrailMaster X4 Tent is $250 [doc3].\",\n",
      "                \"role\": \"assistant\",\n",
      "                \"end_turn\": true,\n",
      "                \"context\": {\n",
      "                    \"citations\": [\n",
      "                        {\n",
      "                            \"content\": \"Title: product_info_1.pdfIt's comfortable and has many useful features, but the green color just isn't my \\nfavorite. Overall, it's a good tent.\\n5) **Rating:** 5\\n   **Review:** This tent is perfect for my family camping trips. The spacious \\ninterior and convenient storage pocket make it easy to stay organized. It's also \\nsuper easy to set up, making it a great addition to our gear.\\n## FAQ\\n1) Can the TrailMaster X4 Tent be used in winter conditions?\\n   The TrailMaster X4 Tent is designed for 3-season use and may not be suitable for\\nextreme winter conditions with heavy snow and freezing temperatures.\\n2) How many people can comfortably sleep in the TrailMaster X4 Tent?\\n   The TrailMaster X4 Tent can comfortably accommodate up to 4 people with room for\\ntheir gear.\\n3) Is there a warranty on the TrailMaster X4 Tent?\\n   Yes, the TrailMaster X4 Tent comes with a 2-year limited warranty against \\nmanufacturing defects.\\n4) Are there any additional accessories included with the TrailMaster X4 Tent?\\n   The TrailMaster X4 Tent includes a rainfly, tent stakes, guy lines, and a carry \\nbag for easy transport.\\n5) Can the TrailMaster X4 Tent be easily carried during hikes?\\n   Yes, the TrailMaster X4 Tent weighs just 12lbs, and when packed in its carry \\nbag, it can be comfortably carried during hikes.\",\n",
      "                            \"title\": \"\",\n",
      "                            \"url\": \"product_info_1.pdf\",\n",
      "                            \"filepath\": \"product_info_1.pdf\",\n",
      "                            \"chunk_id\": \"1\"\n",
      "                        },\n",
      "                        {\n",
      "                            \"content\": \"Title: product_info_1.pdf   - Our warranty is non-transferable and applies only to the original purchaser of\\nthe TrailMaster X4 Tent.\\n   - The warranty does not cover any incidental or consequential damages resulting \\nfrom the use or inability to use the tent.\\n   - Any unauthorized repairs or alterations void the warranty.\\n### Contact Information\\nIf you have any questions or need further assistance, please contact our customer \\nsupport:\\n- Customer Support Phone: +1-800-123-4567\\n- Customer Support Email: support@example.com\\n## Return Policy\\n - **If Membership status \\\"None        \\\":** Returns are accepted within 30 days\\nof purchase, provided the tent is unused, undamaged and in its original packaging. \\nCustomer is responsible for the cost of return shipping. Once the returned item is \\nreceived, a refund will be issued for the cost of the item minus a 10% restocking \\nfee. If the item was damaged during shipping or if there is a defect, the customer \\nshould contact customer service within 7 days of receiving the item.\\n - **If Membership status \\\"Gold\\\":** Returns are accepted within 60 days of \\npurchase, provided the tent is unused, undamaged and in its original packaging. \\nFree return shipping is provided. Once the returned item is received, a full refund\\nwill be issued. If the item was damaged during shipping or if there is a defect, \\nthe customer should contact customer service within 7 days of receiving the item.\\n - **If Membership status \\\"Platinum\\\":** Returns are accepted within 90 days of \\npurchase, provided the tent is unused, undamaged and in its original packaging. \\nFree return shipping is provided, and a full refund will be issued. If the item was\\ndamaged during shipping or if there is a defect, the customer should contact \\ncustomer service within 7 days of receiving the item.\\n## Reviews\\n1) **Rating:** 5\\n   **Review:** I am extremely happy with my TrailMaster X4 Tent! It's spacious, \\neasy to set up, and kept me dry during a storm. The UV protection is a great \\naddition too. Highly recommend it to anyone who loves camping!\\n2) **Rating:** 3\\n   **Review:** I bought the TrailMaster X4 Tent, and while it's waterproof and has \\na spacious interior, I found it a bit difficult to set up. It's a decent tent, but \\nI wish it were easier to assemble.\\n3) **Rating:** 5\\n   **Review:** The TrailMaster X4 Tent is a fantastic investment for any serious \\ncamper. The easy setup and spacious interior make it perfect for extended trips, \\nand the waterproof design kept us dry in heavy rain.\\n4) **Rating:** 4\\n   **Review:** I like the TrailMaster X4 Tent, but I wish it came in more colors. \",\n",
      "                            \"title\": \"\",\n",
      "                            \"url\": \"product_info_1.pdf\",\n",
      "                            \"filepath\": \"product_info_1.pdf\",\n",
      "                            \"chunk_id\": \"2\"\n",
      "                        },\n",
      "                        {\n",
      "                            \"content\": \"Title: product_info_1.pdf# Information about product item_number: 1\\nTrailMaster X4 Tent, price $250,\\n## Brand\\nOutdoorLiving\\n## Category\\nTents\\n## Features\\n- Polyester material for durability\\n- Spacious interior to accommodate multiple people\\n- Easy setup with included instructions\\n- Water-resistant construction to withstand light rain\\n- Mesh panels for ventilation and insect protection\\n- Rainfly included for added weather protection\\n- Multiple doors for convenient entry and exit\\n- Interior pockets for organizing small items\\n- Reflective guy lines for improved visibility at night\\n- Freestanding design for easy setup and relocation\\n- Carry bag included for convenient storage and transportation\\n## Technical Specs\\n**Best Use**: Camping  \\n**Capacity**: 4-person  \\n**Season Rating**: 3-season  \\n**Setup**: Freestanding  \\n**Material**: Polyester  \\n**Waterproof**: Yes  \\n**Floor Area**: 80 square feet  \\n**Peak Height**: 6 feet  \\n**Number of Doors**: 2  \\n**Color**: Green  \\n**Rainfly**: Included  \\n**Rainfly Waterproof Rating**: 2000mm  \\n**Tent Poles**: Aluminum  \\n**Pole Diameter**: 9mm  \\n**Ventilation**: Mesh panels and adjustable vents  \\n**Interior Pockets**: Yes (4 pockets)  \\n**Gear Loft**: Included  \\n**Footprint**: Sold separately  \\n**Guy Lines**: Reflective  \\n**Stakes**: Aluminum  \\n**Carry Bag**: Included  \\n**Dimensions**: 10ft x 8ft x 6ft (length x width x peak height)  \\n**Packed Size**: 24 inches x 8 inches  \\n**Weight**: 12 lbs  \\n## TrailMaster X4 Tent User Guide\",\n",
      "                            \"title\": \"\",\n",
      "                            \"url\": \"product_info_1.pdf\",\n",
      "                            \"filepath\": \"product_info_1.pdf\",\n",
      "                            \"chunk_id\": \"3\"\n",
      "                        },\n",
      "                        {\n",
      "                            \"content\": \"Title: product_info_1.pdf### Introduction\\nThank you for choosing the TrailMaster X4 Tent. This user guide provides \\ninstructions on how to set up, use, and maintain your tent effectively. Please read\\nthis guide thoroughly before using the tent.\\n### Package Contents\\nEnsure that the package includes the following components:\\n- TrailMaster X4 Tent body\\n- Tent poles\\n- Rainfly (if applicable)\\n- Stakes and guy lines\\n- Carry bag\\n- User Guide\\nIf any components are missing or damaged, please contact our customer support \\nimmediately.\\n### Tent Setup\\n#### Step 1: Selecting a Suitable Location\\n- Find a level and clear area for pitching the tent.\\n- Remove any sharp objects or debris that could damage the tent floor.\\n#### Step 2: Unpacking and Organizing Components\\n- Lay out all the tent components on the ground.\\n- Familiarize yourself with each part, including the tent body, poles, rainfly, \\nstakes, and guy lines.\\n#### Step 3: Assembling the Tent Poles\\n- Connect the tent poles according to their designated color codes or numbering.\\n- Slide the connected poles through the pole sleeves or attach them to the tent \\nbody clips.\\n#### Step 4: Setting up the Tent Body\\n- Begin at one end and raise the tent body by pushing up the poles.\\n- Ensure that the tent body is evenly stretched and centered.\\n- Secure the tent body to the ground using stakes and guy lines as needed.\\n#### Step 5: Attaching the Rainfly (if applicable)\\n- If your tent includes a rainfly, spread it over the tent body.\\n- Attach the rainfly to the tent corners and secure it with the provided buckles or\\nclips.\",\n",
      "                            \"title\": \"\",\n",
      "                            \"url\": \"product_info_1.pdf\",\n",
      "                            \"filepath\": \"product_info_1.pdf\",\n",
      "                            \"chunk_id\": \"0\"\n",
      "                        },\n",
      "                        {\n",
      "                            \"content\": \"Title: product_info_1.pdf6. **Avoid Sharp Objects**: Keep sharp objects away from the tent to prevent damage\\nto the fabric or punctures.\\n7. **Avoid Using Harsh Chemicals**: Do not use harsh chemicals or abrasive cleaners\\non the tent, as they may damage the material.\\n8. **Don't Store Wet**: Do not store the tent when it is wet or damp, as it can \\nlead to mold, mildew, or fabric deterioration.\\n9. **Avoid Direct Sunlight**: Avoid prolonged exposure of the tent to direct \\nsunlight, as it can cause fading or weakening of the fabric.\\n10. **Don't Neglect Maintenance**: Regularly clean and maintain the tent according \\nto the provided instructions to ensure its longevity and performance.\\n## Warranty Information\\nThank you for purchasing the TrailMaster X4 Tent. We are confident in the quality \\nand durability of our product. This warranty provides coverage for any \\nmanufacturing defects or issues that may arise during normal use of the tent. \\nPlease read the terms and conditions of the warranty below:\\n1. **Warranty Coverage**: The TrailMaster X4 Tent is covered by a **2-year limited \\nwarranty** from the date of purchase. This warranty covers manufacturing defects in\\nmaterials and workmanship.\\n2. **What is Covered**:\\n   - Seam or fabric tears that occur under normal use and are not a result of \\nmisuse or abuse.\\n   - Issues with the tent poles, zippers, buckles, or other hardware components \\nthat affect the functionality of the tent.\\n   - Problems with the rainfly or other included accessories that impact the \\nperformance of the tent.\\n3. **What is Not Covered**:\\n   - Damage caused by misuse, abuse, or improper care of the tent.\\n   - Normal wear and tear or cosmetic damage that does not affect the functionality\\nof the tent.\\n   - Damage caused by extreme weather conditions, natural disasters, or acts of \\nnature.\\n   - Any modifications or alterations made to the tent by the user.\\n4. **Claim Process**:\\n   - In the event of a warranty claim, please contact our customer support (contact\\ndetails provided in the user guide) to initiate the process.\\n   - Provide proof of purchase, including the date and place of purchase, along \\nwith a detailed description and supporting evidence of the issue.\\n5. **Resolution Options**:\\n   - Upon receipt of the warranty claim, our customer support team will assess the \\nissue and determine the appropriate resolution.\\n   - Options may include repair, replacement of the defective parts, or, if \\nnecessary, replacement of the entire tent.\\n6. **Limitations and Exclusions**:\",\n",
      "                            \"title\": \"\",\n",
      "                            \"url\": \"product_info_1.pdf\",\n",
      "                            \"filepath\": \"product_info_1.pdf\",\n",
      "                            \"chunk_id\": \"4\"\n",
      "                        }\n",
      "                    ],\n",
      "                    \"intent\": \"[\\\"TrailMaster X4 Tent price\\\", \\\"cost of TrailMaster X4 Tent\\\", \\\"TrailMaster X4 Tent pricing\\\"]\"\n",
      "                }\n",
      "            }\n",
      "        }\n",
      "    ],\n",
      "    \"created\": 1744871150,\n",
      "    \"model\": \"gpt-4o\",\n",
      "    \"object\": \"extensions.chat.completion\",\n",
      "    \"system_fingerprint\": \"fp_ee1d74bde0\",\n",
      "    \"usage\": {\n",
      "        \"completion_tokens\": 43,\n",
      "        \"prompt_tokens\": 4599,\n",
      "        \"total_tokens\": 4642\n",
      "    }\n",
      "}\n"
     ]
    }
   ],
   "source": []
  }
 ],
 "metadata": {
  "kernelspec": {
   "display_name": "Python 3",
   "language": "python",
   "name": "python3"
  },
  "language_info": {
   "codemirror_mode": {
    "name": "ipython",
    "version": 3
   },
   "file_extension": ".py",
   "mimetype": "text/x-python",
   "name": "python",
   "nbconvert_exporter": "python",
   "pygments_lexer": "ipython3",
   "version": "3.12.1"
  },
  "orig_nbformat": 4
 },
 "nbformat": 4,
 "nbformat_minor": 2
}
