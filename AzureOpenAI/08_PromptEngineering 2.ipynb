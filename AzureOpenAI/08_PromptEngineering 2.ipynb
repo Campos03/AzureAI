{
 "cells": [
  {
   "cell_type": "markdown",
   "id": "352565b4",
   "metadata": {},
   "source": [
    "# Additional Prompt Engineering Lab\n",
    "\n",
    "Implement Chat Completion to test the scenarios below"
   ]
  },
  {
   "cell_type": "code",
   "execution_count": null,
   "id": "e3c68034",
   "metadata": {},
   "outputs": [],
   "source": [
    "# Student to implement Chat Completion Function here"
   ]
  },
  {
   "cell_type": "markdown",
   "id": "a37ed4f5",
   "metadata": {},
   "source": [
    "## Instruct the model to act as a persona\n",
    "\n",
    "When you want the model to take a specific point of view or perspective when answering a question, you can ask it to act as a persona.\n",
    "\n",
    "You can create different personas for various business roles. Think of roles like a product manager, data analyst, customer service expert, or teacher. Define the persona and add more detail to what you expect that persona to know or do to get tailored, context-driven responses."
   ]
  },
  {
   "cell_type": "code",
   "execution_count": null,
   "id": "5570a9ae",
   "metadata": {},
   "outputs": [],
   "source": [
    "## System Prompt: None\n",
    "## User Prompt: Write a one-sentence description of a CRM product.\n",
    "\n",
    "# Student Code:"
   ]
  },
  {
   "cell_type": "code",
   "execution_count": null,
   "id": "42261ed0",
   "metadata": {},
   "outputs": [],
   "source": [
    "## System Prompt: You're a seasoned marketing professional that writes advertising copy for an audience of technical customers.\n",
    "## User Prompt: Write a one-sentence description of a CRM product.\n",
    "\n",
    "# Student Code:"
   ]
  },
  {
   "cell_type": "markdown",
   "id": "8a530027",
   "metadata": {},
   "source": [
    "## Ask for better question suggestions\n",
    "\n",
    "When you want the model to help refine your question, you can ask it to suggest better ways to phrase your query. You can also ask it to provide extra context.\n",
    "\n",
    "When you encourage the model to suggest clarifications or extra details can help you ask the right questions and achieve better, more accurate answers in fewer interactions."
   ]
  },
  {
   "cell_type": "code",
   "execution_count": null,
   "id": "b31aade9",
   "metadata": {},
   "outputs": [],
   "source": [
    "## System Prompt: You're an AI chef who can advise on menus.\n",
    "## User Prompt: I have to host a dinner party for four people. What should I cook?\n",
    "\n",
    "# Student Code:"
   ]
  },
  {
   "cell_type": "code",
   "execution_count": null,
   "id": "e210285a",
   "metadata": {},
   "outputs": [],
   "source": [
    "## System Prompt: You're an AI chef who can advise on menus. You're approachable and always want to provide the best advice you can.\n",
    "## User Prompt: I have to host a dinner party for four people. What should I cook? What other information do you need to help me plan a great meal for my guests?\n",
    "\n",
    "# Student Code:"
   ]
  },
  {
   "cell_type": "markdown",
   "id": "f2ee772f",
   "metadata": {},
   "source": [
    "## Specify the desired format for responses\n",
    "\n",
    "When you want the model to generate output in a specific format, you can provide a template or structure in your prompt.\n",
    "\n",
    "You can apply this approach to other scenarios where a specific format is needed, such as generating emails, summaries, proposals, or even code and scripts. Define the format template clearly and provide details on how you want the output structured to get consistent and organized responses."
   ]
  },
  {
   "cell_type": "code",
   "execution_count": null,
   "id": "223b714a",
   "metadata": {},
   "outputs": [],
   "source": [
    "## System Prompt: You're a helpful AI assistant.\n",
    "## User Prompt: What happened in the 2018 Soccer World Cup final?\n",
    "\n",
    "# Student Code:"
   ]
  },
  {
   "cell_type": "code",
   "execution_count": null,
   "id": "ea42113a",
   "metadata": {},
   "outputs": [],
   "source": [
    "## System Prompt: You're a helpful AI assistant for sports reporters.\n",
    "## User Prompt: What happened in the 2018 Soccer World Cup final? Format the result to show the match date, location, and the two teams competing. Then the final score, and finally any notable events that occurred during the match.\n",
    "\n",
    "# Student Code:"
   ]
  },
  {
   "cell_type": "markdown",
   "id": "e4dc50cb",
   "metadata": {},
   "source": [
    "## Ask for an explanation of reasoning\n",
    "\n",
    "When you want the model to explain the reasoning behind its answers, you can ask the model to automatically reflect on its rationale and assumptions after providing a response.\n",
    "\n",
    "You can apply this approach when you want explanations in data analysis, marketing strategy, or technical troubleshooting. When you ask the model to define its reasoning, you use a technique called chain-of-thought to make it think step by step."
   ]
  },
  {
   "cell_type": "code",
   "execution_count": null,
   "id": "67810257",
   "metadata": {},
   "outputs": [],
   "source": [
    "## System Prompt: You're an AI math assistant.\n",
    "## User Prompt: A right-angled triangle has a hypotenuse side of length 3 cm and an adjacent side length of 2cm.What is the length of the remaining side?\n",
    "\n",
    "# Student Code:"
   ]
  },
  {
   "cell_type": "code",
   "execution_count": null,
   "id": "8742dbc8",
   "metadata": {},
   "outputs": [],
   "source": [
    "## System Prompt: You're an AI math assistant. You always explain your answers.\n",
    "## User Prompt: A right-angled triangle has a hypotenuse side of length 3 cm and an adjacent side length of 2cm.What is the length of the remaining side?\n",
    "\n",
    "# Student Code:"
   ]
  },
  {
   "cell_type": "markdown",
   "id": "8c100f8a",
   "metadata": {},
   "source": [
    "## Add context\n",
    "\n",
    "When you want the model to focus on specific topics, you can specify the context to consider. You can also tell the model to ignore irrelevant information.\n",
    "\n",
    "By defining what the model should focus on or disregard, you can ensure the conversation stays on track and generate more relevant, tailored responses.\n",
    "\n"
   ]
  },
  {
   "cell_type": "code",
   "execution_count": null,
   "id": "d4e1570b",
   "metadata": {},
   "outputs": [],
   "source": [
    "## System Prompt: You're an AI travel assistant\n",
    "## User Prompt: When should I visit Edinburgh?\n",
    "\n",
    "# Student Code:"
   ]
  },
  {
   "cell_type": "code",
   "execution_count": null,
   "id": "f32e0000",
   "metadata": {},
   "outputs": [],
   "source": [
    "## System Prompt: You're an AI travel assistant\n",
    "## User Prompt: When should I visit Edinburgh? I'm particularly interested in attending Scotland's home matches in the Six Nations rugby tournament.\n",
    "\n",
    "# Student Code:"
   ]
  }
 ],
 "metadata": {
  "language_info": {
   "name": "python"
  }
 },
 "nbformat": 4,
 "nbformat_minor": 5
}
