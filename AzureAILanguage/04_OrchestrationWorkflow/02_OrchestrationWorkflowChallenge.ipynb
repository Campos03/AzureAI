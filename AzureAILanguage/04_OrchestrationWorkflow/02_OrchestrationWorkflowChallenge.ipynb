{
 "cells": [
  {
   "cell_type": "markdown",
   "id": "c1da5414",
   "metadata": {},
   "source": [
    "# Orchestration Workflow Challenge\n",
    "\n",
    "Create an orchestration workflow for the Contoso Travel Company.\n",
    "\n",
    "Requirements:\n",
    "1. Azure AI Language Resource\n",
    "2. Conversational Language Understanding model deployed for the Travel company.\n",
    "3. Custom Question Answering model deployed using the Travel FAQ document.\n",
    "4. Name the project: Python-Orchestration-Challenge\n",
    "5. Name the model: Python-Orchestration-Model-Challenge\n",
    "6. Create and test the project in Python."
   ]
  }
 ],
 "metadata": {
  "language_info": {
   "name": "python"
  }
 },
 "nbformat": 4,
 "nbformat_minor": 5
}
