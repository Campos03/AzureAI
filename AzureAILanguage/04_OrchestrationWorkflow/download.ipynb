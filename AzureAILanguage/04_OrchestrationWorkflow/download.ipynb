{
 "cells": [
  {
   "cell_type": "code",
   "execution_count": 1,
   "id": "8706e3be",
   "metadata": {},
   "outputs": [
    {
     "name": "stdout",
     "output_type": "stream",
     "text": [
      "{'resultUrl': 'https://ziggylanguagedemocomplete.cognitiveservices.azure.com/language/authoring/analyze-conversations/projects/OrchestrationWorkflow/export/jobs/b2a6aca8-ef7f-43cc-8cb4-da36ec922dea_638802720000000000/result?api-version=2023-04-01', 'jobId': 'b2a6aca8-ef7f-43cc-8cb4-da36ec922dea_638802720000000000', 'createdDateTime': '2025-04-15T09:20:04Z', 'lastUpdatedDateTime': '2025-04-15T09:20:04Z', 'expirationDateTime': '2025-04-22T09:20:04Z', 'status': 'succeeded'}\n"
     ]
    }
   ],
   "source": [
    "from azure.ai.language.conversations.authoring import ConversationAuthoringClient\n",
    "from azure.core.credentials import AzureKeyCredential\n",
    "import os\n",
    "\n",
    "# Load Azure configurations from environment variables\n",
    "# Ensure that AZURE_AI_LANGUAGE_KEY and AZURE_AI_LANGUAGE_ENDPOINT are set in your environment\n",
    "language_key = os.environ.get('AZURE_AI_LANGUAGE_KEY')\n",
    "language_endpoint = os.environ.get('AZURE_AI_LANGUAGE_ENDPOINT')\n",
    "\n",
    "# Represents the Project Name\n",
    "project_name = \"OrchestrationWorkflow\"\n",
    "# Represents the output model label.\n",
    "modelLabel = \"OrchestrationModel\"  \n",
    "\n",
    "credential = AzureKeyCredential(language_key)\n",
    "conversation_authoring_client = ConversationAuthoringClient(\n",
    "        endpoint=language_endpoint,\n",
    "        credential=credential\n",
    ")\n",
    "\n",
    "export_result = conversation_authoring_client.begin_export_project(\n",
    "    project_name=project_name, \n",
    "    string_index_type=\"Utf16CodeUnit\",\n",
    "    trained_model_label=modelLabel,\n",
    "    \n",
    ").result()\n",
    "\n",
    "print(export_result)"
   ]
  },
  {
   "cell_type": "code",
   "execution_count": 2,
   "id": "23541706",
   "metadata": {},
   "outputs": [
    {
     "name": "stdout",
     "output_type": "stream",
     "text": [
      "{\n",
      "    \"projectFileVersion\": \"2023-04-01\",\n",
      "    \"stringIndexType\": \"Utf16CodeUnit\",\n",
      "    \"metadata\": {\n",
      "        \"projectKind\": \"Orchestration\",\n",
      "        \"settings\": {\n",
      "            \"confidenceThreshold\": 0.0,\n",
      "            \"normalizeCasing\": false,\n",
      "            \"augmentDiacritics\": false\n",
      "        },\n",
      "        \"projectName\": \"OrchestrationWorkflow\",\n",
      "        \"multilingual\": false,\n",
      "        \"description\": \"sample orchestration workflow\",\n",
      "        \"language\": \"en-us\"\n",
      "    },\n",
      "    \"assets\": {\n",
      "        \"projectKind\": \"Orchestration\",\n",
      "        \"intents\": [\n",
      "            {\n",
      "                \"category\": \"None\"\n",
      "            },\n",
      "            {\n",
      "                \"category\": \"Intent_CLU\",\n",
      "                \"orchestration\": {\n",
      "                    \"targetProjectKind\": \"Conversation\",\n",
      "                    \"conversationOrchestration\": {\n",
      "                        \"projectName\": \"MyProject1\",\n",
      "                        \"deploymentName\": \"\"\n",
      "                    }\n",
      "                }\n",
      "            },\n",
      "            {\n",
      "                \"category\": \"Intent_QA\",\n",
      "                \"orchestration\": {\n",
      "                    \"targetProjectKind\": \"QuestionAnswering\",\n",
      "                    \"questionAnsweringOrchestration\": {\n",
      "                        \"projectName\": \"SurfaceProject\"\n",
      "                    }\n",
      "                }\n",
      "            }\n",
      "        ],\n",
      "        \"entities\": [],\n",
      "        \"utterances\": []\n",
      "    }\n",
      "}\n"
     ]
    }
   ],
   "source": [
    "import requests\n",
    "import json\n",
    "import os\n",
    "\n",
    "# URL from the result\n",
    "result_url = export_result['resultUrl']\n",
    "\n",
    "# Azure API Key (replace with your actual key)\n",
    "api_key = os.environ.get(\"AZURE_AI_LANGUAGE_KEY\")\n",
    "\n",
    "# Make the GET request\n",
    "headers = {\n",
    "    \"Ocp-Apim-Subscription-Key\": api_key\n",
    "}\n",
    "response = requests.get(result_url, headers=headers)\n",
    "\n",
    "# Check the response status\n",
    "if response.status_code == 200:\n",
    "    result_data = response.json()\n",
    "    \n",
    "    # Print the result_data in a properly formatted JSON\n",
    "    print(json.dumps(result_data, indent=4))\n",
    "    \n",
    "    # Optionally, save it to a file\n",
    "    with open(\"exported_orchestration_data.json\", \"w\") as json_file:\n",
    "        json.dump(result_data, json_file, indent=4)\n",
    "else:\n",
    "    print(f\"Failed to fetch data. Status Code: {response.status_code}, Response: {response.text}\")"
   ]
  }
 ],
 "metadata": {
  "kernelspec": {
   "display_name": "Python 3",
   "language": "python",
   "name": "python3"
  },
  "language_info": {
   "codemirror_mode": {
    "name": "ipython",
    "version": 3
   },
   "file_extension": ".py",
   "mimetype": "text/x-python",
   "name": "python",
   "nbconvert_exporter": "python",
   "pygments_lexer": "ipython3",
   "version": "3.12.1"
  }
 },
 "nbformat": 4,
 "nbformat_minor": 5
}
