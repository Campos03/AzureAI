{
 "cells": [
  {
   "cell_type": "markdown",
   "id": "8d9b835b",
   "metadata": {},
   "source": [
    "# Conversation Language Understanding Solution"
   ]
  },
  {
   "cell_type": "markdown",
   "id": "c21cc2cc",
   "metadata": {},
   "source": [
    "## Install Library"
   ]
  },
  {
   "cell_type": "code",
   "execution_count": null,
   "id": "77321b14",
   "metadata": {},
   "outputs": [],
   "source": [
    "%pip install azure-ai-language-conversations"
   ]
  },
  {
   "cell_type": "markdown",
   "id": "5d86b43a",
   "metadata": {},
   "source": [
    "## Load Azure Configurations"
   ]
  },
  {
   "cell_type": "code",
   "execution_count": 1,
   "id": "843df002",
   "metadata": {},
   "outputs": [],
   "source": [
    "import os\n",
    "\n",
    "# Load Azure configurations from environment variables\n",
    "# Ensure that AZURE_AI_LANGUAGE_KEY and AZURE_AI_LANGUAGE_ENDPOINT are set in your environment\n",
    "language_key = os.environ.get('AZURE_AI_LANGUAGE_KEY')\n",
    "language_endpoint = os.environ.get('AZURE_AI_LANGUAGE_ENDPOINT')\n",
    "\n",
    "# Represents the Project Name\n",
    "project_name = \"CLU_Challenge\"\n",
    "# Represents the output model label.\n",
    "modelLabel = \"Travel_CLU\"  "
   ]
  },
  {
   "cell_type": "markdown",
   "id": "f7f30eb4",
   "metadata": {},
   "source": [
    "## Create ConversationAuthoringClient"
   ]
  },
  {
   "cell_type": "code",
   "execution_count": 10,
   "id": "29fb1ebf",
   "metadata": {},
   "outputs": [],
   "source": [
    "from azure.ai.language.conversations.authoring import ConversationAuthoringClient\n",
    "from azure.core.credentials import AzureKeyCredential\n",
    "\n",
    "# Authenticate the client using Azure Key and Endpoint\n",
    "def authenticate_client():\n",
    "    \"\"\"\n",
    "    Authenticates the Azure ConversationAuthoringClient using the provided key and endpoint.\n",
    "\n",
    "    Returns:\n",
    "        ConversationAuthoringClient: An authenticated client for Azure Conversation Authoring.\n",
    "    \"\"\"\n",
    "    credential = AzureKeyCredential(language_key)\n",
    "    client = ConversationAuthoringClient(\n",
    "        endpoint=language_endpoint,\n",
    "        credential=credential\n",
    "    )\n",
    "    return client\n",
    "\n",
    "# Initialize the client\n",
    "conversation_authoring_client = authenticate_client()"
   ]
  },
  {
   "cell_type": "markdown",
   "id": "60e6b6bf",
   "metadata": {},
   "source": [
    "## Create a Project"
   ]
  },
  {
   "cell_type": "code",
   "execution_count": 16,
   "id": "4a576e5c",
   "metadata": {},
   "outputs": [
    {
     "data": {
      "text/plain": [
       "{'createdDateTime': '2025-04-15T05:10:35Z',\n",
       " 'lastModifiedDateTime': '2025-04-15T05:10:35Z',\n",
       " 'projectKind': 'Conversation',\n",
       " 'settings': {'confidenceThreshold': 0.0,\n",
       "  'normalizeCasing': False,\n",
       "  'augmentDiacritics': False},\n",
       " 'projectName': 'CLU_Challenge',\n",
       " 'multilingual': False,\n",
       " 'description': 'Sample project made in Python',\n",
       " 'language': 'en-us'}"
      ]
     },
     "execution_count": 16,
     "metadata": {},
     "output_type": "execute_result"
    }
   ],
   "source": [
    "project = {\n",
    "        \"language\": \"en-us\",  # The project language. This is BCP-47 representation of a language. For example, use \"en\" for English, \"en-gb\" for English (UK), \"es\" for Spanish etc. Required.\n",
    "        \"projectKind\": \"Conversation\",  # Represents the project kind. Required. Known values are: \"Conversation\" and \"Orchestration\".\n",
    "        \"projectName\": project_name,  # The new project name. Required.\n",
    "        \"description\": \"Sample project made in Python\",  # Optional. The project description.\n",
    "        \"multilingual\": False,  # Optional. Whether the project would be used for multiple languages or not.\n",
    "        \"settings\": {\n",
    "           \"confidenceThreshold\": 0.0,  # The threshold of the intent with the highest confidence, at which the prediction will automatically be changed to None. The value of the threshold should be between 0 and 1 inclusive. Required.\n",
    "       }\n",
    "   }\n",
    "\n",
    "conversation_authoring_client.create_project(project_name, project)"
   ]
  },
  {
   "cell_type": "markdown",
   "id": "4759e46c",
   "metadata": {},
   "source": [
    "## Define Project Assets: Intents, Entities, and Utterances\n",
    "\n",
    "Must have 15 Utterances per Intent"
   ]
  },
  {
   "cell_type": "code",
   "execution_count": 17,
   "id": "63bb1432",
   "metadata": {},
   "outputs": [],
   "source": [
    "import json\n",
    "\n",
    "# Filepath to the JSON file\n",
    "file = \"exported_challenge_data.json\"\n",
    "\n",
    "# Open and load the JSON file\n",
    "with open(file, \"r\") as json_file:\n",
    "    project_assets = json.load(json_file)"
   ]
  },
  {
   "cell_type": "markdown",
   "id": "8c52e7a7",
   "metadata": {},
   "source": [
    "## Import Project"
   ]
  },
  {
   "cell_type": "code",
   "execution_count": 18,
   "id": "e7a21872",
   "metadata": {},
   "outputs": [
    {
     "name": "stdout",
     "output_type": "stream",
     "text": [
      "{'jobId': 'b660ed86-b291-4097-a21e-8ef29822258f_638802720000000000', 'createdDateTime': '2025-04-15T05:10:47Z', 'lastUpdatedDateTime': '2025-04-15T05:10:47Z', 'expirationDateTime': '2025-04-22T05:10:47Z', 'status': 'succeeded'}\n"
     ]
    }
   ],
   "source": [
    "poller = conversation_authoring_client.begin_import_project(\n",
    "    project_name=project_name,\n",
    "    project=project_assets,\n",
    ")\n",
    "response = poller.result()\n",
    "print(response)"
   ]
  },
  {
   "cell_type": "markdown",
   "id": "dd2962a3",
   "metadata": {},
   "source": [
    "## Train Model"
   ]
  },
  {
   "cell_type": "code",
   "execution_count": 19,
   "id": "ecaf7c78",
   "metadata": {},
   "outputs": [
    {
     "name": "stdout",
     "output_type": "stream",
     "text": [
      "{'result': {'modelLabel': 'Travel_CLU', 'trainingConfigVersion': '2022-09-01', 'trainingMode': 'standard', 'trainingStatus': {'percentComplete': 100, 'startDateTime': '2025-04-15T05:10:59.5074808Z', 'endDateTime': '2025-04-15T05:11:02.585138Z', 'status': 'succeeded'}, 'evaluationStatus': {'percentComplete': 100, 'startDateTime': '2025-04-15T05:11:03.407674Z', 'endDateTime': '2025-04-15T05:11:18.4336257Z', 'status': 'succeeded'}}, 'jobId': 'd39b297b-033f-40ac-989d-b271aa933cff_638802720000000000', 'createdDateTime': '2025-04-15T05:10:58Z', 'lastUpdatedDateTime': '2025-04-15T05:12:03Z', 'expirationDateTime': '2025-04-22T05:10:58Z', 'status': 'succeeded', 'warnings': []}\n"
     ]
    }
   ],
   "source": [
    "# JSON input template you can fill out and use as your body input.\n",
    "configuration = {\n",
    "    \"modelLabel\": modelLabel,  # Represents the output model label. Required.\n",
    "    \"trainingMode\": \"standard\",  # Represents the mode of the training operation. Required. Known values are: \"advanced\" and \"standard\".\n",
    "    \"evaluationOptions\": {\n",
    "        \"kind\": \"manual\",  # Optional. Represents the evaluation kind. By default, the evaluation kind is set to percentage. Known values are: \"percentage\" and \"manual\".\n",
    "        # \"testingSplitPercentage\": 0,  # Optional. Represents the testing dataset split percentage. Only needed in case the evaluation kind is percentage.\n",
    "        # \"trainingSplitPercentage\": 0  # Optional. Represents the training dataset split percentage. Only needed in case the evaluation kind is percentage.\n",
    "    },\n",
    "    #\"trainingConfigVersion\": \"str\"  # Optional. Represents training config version. By default, \"latest\" value is used which uses the latest released training config version.\n",
    "   }\n",
    "\n",
    "poller = conversation_authoring_client.begin_train(project_name=project_name,configuration=configuration)\n",
    "response = poller.result()\n",
    "print(response)"
   ]
  },
  {
   "cell_type": "markdown",
   "id": "9045e798",
   "metadata": {},
   "source": [
    "## Display Model Evaluation Summary"
   ]
  },
  {
   "cell_type": "code",
   "execution_count": 20,
   "id": "a1c90b7f",
   "metadata": {},
   "outputs": [
    {
     "name": "stdout",
     "output_type": "stream",
     "text": [
      "{'entitiesEvaluation': {'confusionMatrix': {'Date': {'Date': {'normalizedValue': 100.0, 'rawValue': 8.0}}, 'Hotel': {'Hotel': {'normalizedValue': 76.03306, 'rawValue': 8.0}, 'Location': {'normalizedValue': 23.966942, 'rawValue': 2.521739}}, 'Location': {'Location': {'normalizedValue': 87.5, 'rawValue': 14.0}, 'Hotel': {'normalizedValue': 12.5, 'rawValue': 2.0}}, 'NumOfRooms': {'NumOfRooms': {'normalizedValue': 100.0, 'rawValue': 7.0}}, 'NumOfTickets': {'NumOfTickets': {'normalizedValue': 100.0, 'rawValue': 7.0}}, '$none': {'$none': {'normalizedValue': 96.87931, 'rawValue': 55.802475}, 'Date': {'normalizedValue': 0.7309942, 'rawValue': 0.42105263}, 'Hotel': {'normalizedValue': 1.3480393, 'rawValue': 0.7764706}, 'Location': {'normalizedValue': 1.0416669, 'rawValue': 0.6}}}, 'entities': {'Date': {'f1': 0.9411764740943909, 'precision': 0.8888888955116272, 'recall': 1.0, 'truePositiveCount': 8, 'trueNegativeCount': 0, 'falsePositiveCount': 1, 'falseNegativeCount': 0}, 'NumOfRooms': {'f1': 1.0, 'precision': 1.0, 'recall': 1.0, 'truePositiveCount': 7, 'trueNegativeCount': 0, 'falsePositiveCount': 0, 'falseNegativeCount': 0}, 'Hotel': {'f1': 0.5333333611488342, 'precision': 0.5714285969734192, 'recall': 0.5, 'truePositiveCount': 4, 'trueNegativeCount': 0, 'falsePositiveCount': 3, 'falseNegativeCount': 4}, 'Location': {'f1': 0.9032257795333862, 'precision': 0.8235294222831726, 'recall': 1.0, 'truePositiveCount': 14, 'trueNegativeCount': 0, 'falsePositiveCount': 3, 'falseNegativeCount': 0}, 'NumOfTickets': {'f1': 1.0, 'precision': 1.0, 'recall': 1.0, 'truePositiveCount': 7, 'trueNegativeCount': 0, 'falsePositiveCount': 0, 'falseNegativeCount': 0}}, 'microF1': 0.8791208, 'microPrecision': 0.85106385, 'microRecall': 0.90909094, 'macroF1': 0.8755471, 'macroPrecision': 0.8567694, 'macroRecall': 0.9}, 'intentsEvaluation': {'confusionMatrix': {'None': {'None': {'normalizedValue': 80.0, 'rawValue': 4.0}, 'Book': {'normalizedValue': 20.0, 'rawValue': 1.0}}, 'Book': {'Book': {'normalizedValue': 100.0, 'rawValue': 6.0}}, 'Cancel': {'Cancel': {'normalizedValue': 100.0, 'rawValue': 7.0}}}, 'intents': {'None': {'f1': 0.8888888955116272, 'precision': 1.0, 'recall': 0.800000011920929, 'truePositiveCount': 4, 'trueNegativeCount': 13, 'falsePositiveCount': 0, 'falseNegativeCount': 1}, 'Book': {'f1': 0.9230769872665405, 'precision': 0.8571428656578064, 'recall': 1.0, 'truePositiveCount': 6, 'trueNegativeCount': 11, 'falsePositiveCount': 1, 'falseNegativeCount': 0}, 'Cancel': {'f1': 1.0, 'precision': 1.0, 'recall': 1.0, 'truePositiveCount': 7, 'trueNegativeCount': 11, 'falsePositiveCount': 0, 'falseNegativeCount': 0}}, 'microF1': 0.9444444, 'microPrecision': 0.9444444, 'microRecall': 0.9444444, 'macroF1': 0.93732196, 'macroPrecision': 0.95238096, 'macroRecall': 0.93333334}, 'evaluationOptions': {'kind': 'manual'}}\n"
     ]
    }
   ],
   "source": [
    "evaluation_summary = conversation_authoring_client.get_model_evaluation_summary(project_name=project_name, trained_model_label=modelLabel)\n",
    "print(evaluation_summary)"
   ]
  },
  {
   "cell_type": "markdown",
   "id": "d050ffe5",
   "metadata": {},
   "source": [
    "## Deploy the Trained Model"
   ]
  },
  {
   "cell_type": "code",
   "execution_count": 21,
   "id": "9f1b5a8b",
   "metadata": {},
   "outputs": [
    {
     "name": "stdout",
     "output_type": "stream",
     "text": [
      "{'deploymentName': 'Travel_CLU', 'modelId': 'Travel_CLU-20250415T051203-fee8336c9cf145e9aac120e5feca04d0', 'lastTrainedDateTime': '2025-04-15T05:12:03.5877353Z', 'lastDeployedDateTime': '2025-04-15T05:12:19Z', 'deploymentExpirationDate': '2026-08-31', 'modelTrainingConfigVersion': '2022-09-01'}\n"
     ]
    }
   ],
   "source": [
    "deployment = {\n",
    "       \"trainedModelLabel\": modelLabel  # Represents the trained model label. Required.\n",
    "   }\n",
    "\n",
    "trained_model = conversation_authoring_client.begin_deploy_project(project_name=project_name, deployment_name=modelLabel, deployment=deployment)\n",
    "response = trained_model.result()\n",
    "print(response)"
   ]
  },
  {
   "cell_type": "markdown",
   "id": "4c9db5e8",
   "metadata": {},
   "source": [
    "## Making the Request"
   ]
  },
  {
   "cell_type": "markdown",
   "id": "ca2e1abc",
   "metadata": {},
   "source": [
    "\n",
    "## Create a ConversationAnalysisClient"
   ]
  },
  {
   "cell_type": "code",
   "execution_count": 2,
   "id": "0d5548f0",
   "metadata": {},
   "outputs": [],
   "source": [
    "from azure.ai.language.conversations import ConversationAnalysisClient\n",
    "from azure.core.credentials import AzureKeyCredential\n",
    "\n",
    "credential = AzureKeyCredential(language_key)\n",
    "conversation_analysis_client = ConversationAnalysisClient(\n",
    "        endpoint=language_endpoint,\n",
    "        credential=credential\n",
    ")"
   ]
  },
  {
   "cell_type": "markdown",
   "id": "557bf355",
   "metadata": {},
   "source": [
    "## Helper function to Send requests"
   ]
  },
  {
   "cell_type": "code",
   "execution_count": 3,
   "id": "aa23f764",
   "metadata": {},
   "outputs": [],
   "source": [
    "# Analyze the utterance using the deployed model\n",
    "def analyze_utterance(utterance):\n",
    "    \"\"\"\n",
    "    Analyzes the given utterance using the deployed model.\n",
    "\n",
    "    Args:\n",
    "        utterance (str): The utterance to analyze.\n",
    "\n",
    "    Returns:\n",
    "        dict: The analysis result.\n",
    "    \"\"\"\n",
    "    result = conversation_analysis_client.analyze_conversation(\n",
    "        task={\n",
    "            \"kind\": \"Conversation\",\n",
    "            \"analysisInput\": {\n",
    "                \"conversationItem\": {\n",
    "                    \"participantId\": \"1\",\n",
    "                    \"id\": \"1\",\n",
    "                    \"modality\": \"text\",\n",
    "                    \"language\": \"en\",\n",
    "                    \"text\": utterance\n",
    "                },\n",
    "                \"isLoggingEnabled\": False\n",
    "            },\n",
    "            \"parameters\": {\n",
    "                \"projectName\": project_name,\n",
    "                \"deploymentName\": modelLabel,\n",
    "                \"verbose\": True\n",
    "            }\n",
    "        }\n",
    "    )\n",
    "\n",
    "    # Extract and print the prediction details\n",
    "    prediction = result['result']['prediction']\n",
    "\n",
    "    print(\"Query:\", result['result']['query'])\n",
    "    print(\"Top Intent:\", prediction['topIntent'])\n",
    "    print(\"Project Kind:\", prediction['projectKind'])\n",
    "    print(\"\\nIntents:\")\n",
    "    for intent in prediction['intents']:\n",
    "        print(f\"  - {intent['category']}: {intent['confidenceScore']:.2f}\")\n",
    "\n",
    "    print(\"\\nEntities:\")\n",
    "    for entity in prediction['entities']:\n",
    "        print(f\"  - {entity['category']}: '{entity['text']}' (Offset: {entity['offset']}, Length: {entity['length']}, Confidence: {entity['confidenceScore']:.2f})\")"
   ]
  },
  {
   "cell_type": "code",
   "execution_count": 4,
   "id": "bbc72c72",
   "metadata": {},
   "outputs": [
    {
     "name": "stdout",
     "output_type": "stream",
     "text": [
      "Query: \n",
      "    I would like to revoke my 3 flight tickets to Sydney for June 20 \n",
      "    and also revoke my reservation for 3 rooms at Park Hyatt Sydney.\n",
      "    Could you please help with the revocation and provide any necessary information?\n",
      "\n",
      "Top Intent: Cancel\n",
      "Project Kind: Conversation\n",
      "\n",
      "Intents:\n",
      "  - Cancel: 0.93\n",
      "  - Book: 0.78\n",
      "  - None: 0.45\n",
      "\n",
      "Entities:\n",
      "  - NumOfTickets: '3 flight tickets' (Offset: 31, Length: 16, Confidence: 1.00)\n",
      "  - Location: 'Sydney' (Offset: 51, Length: 6, Confidence: 1.00)\n",
      "  - Date: 'June 20' (Offset: 62, Length: 7, Confidence: 1.00)\n",
      "  - NumOfRooms: '3 rooms' (Offset: 110, Length: 7, Confidence: 1.00)\n",
      "  - Hotel: 'Park Hyatt Sydney' (Offset: 121, Length: 17, Confidence: 1.00)\n"
     ]
    }
   ],
   "source": [
    "# Sample utterance to analyze\n",
    "utterance = \"\"\"\n",
    "    I would like to revoke my 3 flight tickets to Sydney for June 20 \n",
    "    and also revoke my reservation for 3 rooms at Park Hyatt Sydney.\n",
    "    Could you please help with the revocation and provide any necessary information?\n",
    "\"\"\"\n",
    "\n",
    "analyze_utterance(utterance)"
   ]
  },
  {
   "cell_type": "code",
   "execution_count": 10,
   "id": "8eeea6e7",
   "metadata": {},
   "outputs": [
    {
     "name": "stdout",
     "output_type": "stream",
     "text": [
      "Query: I want to travel to Paris next month\n",
      "Top Intent: None\n",
      "Project Kind: Conversation\n",
      "\n",
      "Intents:\n",
      "  - None: 0.78\n",
      "  - Book: 0.69\n",
      "  - Cancel: 0.56\n",
      "\n",
      "Entities:\n",
      "  - Location: 'Paris' (Offset: 20, Length: 5, Confidence: 1.00)\n",
      "  - Date: 'next month' (Offset: 26, Length: 10, Confidence: 1.00)\n"
     ]
    }
   ],
   "source": [
    "# Sample utterance to analyze\n",
    "utterance = \"I want to travel to Paris next month\"\n",
    "analyze_utterance(utterance)"
   ]
  },
  {
   "cell_type": "code",
   "execution_count": 7,
   "id": "e3dc847f",
   "metadata": {},
   "outputs": [
    {
     "name": "stdout",
     "output_type": "stream",
     "text": [
      "Query: \n",
      "    I would like to book 2 tickets to Sydney for June 20. \n",
      "    Could you please check the availability and assist with the reservation?\n",
      "\n",
      "Top Intent: Book\n",
      "Project Kind: Conversation\n",
      "\n",
      "Intents:\n",
      "  - Book: 0.97\n",
      "  - Cancel: 0.87\n",
      "  - None: 0.67\n",
      "\n",
      "Entities:\n",
      "  - NumOfTickets: '2 tickets' (Offset: 26, Length: 9, Confidence: 1.00)\n",
      "  - Location: 'Sydney' (Offset: 39, Length: 6, Confidence: 1.00)\n",
      "  - Date: 'June 20' (Offset: 50, Length: 7, Confidence: 1.00)\n"
     ]
    }
   ],
   "source": [
    "# Sample utterance to analyze\n",
    "utterance = \"\"\"\n",
    "    I would like to book 2 tickets to Sydney for June 20. \n",
    "    Could you please check the availability and assist with the reservation?\n",
    "\"\"\"\n",
    "\n",
    "analyze_utterance(utterance)"
   ]
  },
  {
   "cell_type": "code",
   "execution_count": 9,
   "id": "1cc0a4ce",
   "metadata": {},
   "outputs": [
    {
     "name": "stdout",
     "output_type": "stream",
     "text": [
      "Query: \n",
      "    I like 2 rooms at Park Hyatt Sydney for June 20.\n",
      "\n",
      "Top Intent: Book\n",
      "Project Kind: Conversation\n",
      "\n",
      "Intents:\n",
      "  - Book: 0.90\n",
      "  - Cancel: 0.69\n",
      "  - None: 0.59\n",
      "\n",
      "Entities:\n",
      "  - NumOfRooms: '2 rooms' (Offset: 12, Length: 7, Confidence: 1.00)\n",
      "  - Hotel: 'Park Hyatt Sydney' (Offset: 23, Length: 17, Confidence: 1.00)\n",
      "  - Date: 'June 20' (Offset: 45, Length: 7, Confidence: 1.00)\n"
     ]
    }
   ],
   "source": [
    "# Sample utterance to analyze\n",
    "utterance = \"\"\"\n",
    "    I like 2 rooms at Park Hyatt Sydney for June 20.\n",
    "\"\"\"\n",
    "\n",
    "analyze_utterance(utterance)"
   ]
  }
 ],
 "metadata": {
  "kernelspec": {
   "display_name": "Python 3",
   "language": "python",
   "name": "python3"
  },
  "language_info": {
   "codemirror_mode": {
    "name": "ipython",
    "version": 3
   },
   "file_extension": ".py",
   "mimetype": "text/x-python",
   "name": "python",
   "nbconvert_exporter": "python",
   "pygments_lexer": "ipython3",
   "version": "3.12.1"
  }
 },
 "nbformat": 4,
 "nbformat_minor": 5
}
