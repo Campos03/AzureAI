{
 "cells": [
  {
   "cell_type": "markdown",
   "id": "1a865ec8",
   "metadata": {},
   "source": [
    "## Conversation Language Understanding Challenge\n",
    "\n",
    "Create a Conversation Language Understanding application for a travel agency.\n",
    "* **Intents**:\n",
    "    - Book\n",
    "    - Cancel\n",
    "\n",
    "* **Entities** (Use pre-built entities whenever possible):\n",
    "    - Date\n",
    "    - Hotel\n",
    "    - Location\n",
    "    - NumOfRooms (number of hotel rooms booked)\n",
    "    - NumOfTickets (numbe of flight tickets booked)\n",
    "\n",
    "Directions:\n",
    "1. Create a Language Resource that supports CLU.\n",
    "2. Create the project named \"CLU_Challenge\" either in the Language Studio or through code.\n",
    "3. Deploy the model named \"Travel_CLU\"\n",
    "3. Provide a request in both POSTMAN and through code."
   ]
  }
 ],
 "metadata": {
  "language_info": {
   "name": "python"
  }
 },
 "nbformat": 4,
 "nbformat_minor": 5
}
