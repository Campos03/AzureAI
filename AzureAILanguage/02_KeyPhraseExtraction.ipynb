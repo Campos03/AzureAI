{
 "cells": [
  {
   "cell_type": "markdown",
   "id": "4188a7b7",
   "metadata": {},
   "source": [
    "# Key Phrase Extraction"
   ]
  },
  {
   "cell_type": "markdown",
   "id": "437ee1ca",
   "metadata": {},
   "source": [
    "## Load Azure Configurations"
   ]
  },
  {
   "cell_type": "code",
   "execution_count": 1,
   "id": "19d5bbb4",
   "metadata": {},
   "outputs": [],
   "source": [
    "import os\n",
    "\n",
    "language_key = os.environ.get('AZURE_AI_LANGUAGE_KEY')\n",
    "language_endpoint = os.environ.get('AZURE_AI_LANGUAGE_ENDPOINT')"
   ]
  },
  {
   "cell_type": "markdown",
   "id": "bfadda43",
   "metadata": {},
   "source": [
    "## Create a Text Analysis client"
   ]
  },
  {
   "cell_type": "code",
   "execution_count": 2,
   "id": "c54294b1",
   "metadata": {},
   "outputs": [],
   "source": [
    "from azure.ai.textanalytics import TextAnalyticsClient\n",
    "from azure.core.credentials import AzureKeyCredential\n",
    "\n",
    "# Authenticate the client using your key and endpoint \n",
    "def authenticate_client():\n",
    "    ta_credential = AzureKeyCredential(language_key)\n",
    "    text_analytics_client = TextAnalyticsClient(\n",
    "            endpoint=language_endpoint, \n",
    "            credential=ta_credential)\n",
    "    return text_analytics_client\n",
    "\n",
    "client = authenticate_client()"
   ]
  },
  {
   "cell_type": "markdown",
   "id": "186d6d31",
   "metadata": {},
   "source": [
    "## Extract Key Phrases Function"
   ]
  },
  {
   "cell_type": "code",
   "execution_count": 4,
   "id": "b991ec26",
   "metadata": {},
   "outputs": [],
   "source": [
    "def key_phrase_extraction(client, documents):\n",
    "\n",
    "    result = client.extract_key_phrases(documents)\n",
    "\n",
    "    # Print the results\n",
    "    for idx, doc in enumerate(result):\n",
    "        if not doc.is_error:\n",
    "            print(\"Key phrases in article #{}: {}\".format(\n",
    "                idx + 1,\n",
    "                \", \".join(doc.key_phrases)\n",
    "            ))"
   ]
  },
  {
   "cell_type": "code",
   "execution_count": 5,
   "id": "55ea532d",
   "metadata": {},
   "outputs": [
    {
     "name": "stdout",
     "output_type": "stream",
     "text": [
      "Key phrases in article #1: D.C. Autumn, beautiful season, clearer view, blue sky, yellow leaves, Washington, DC, trees, city, forests, ground\n",
      "Key phrases in article #2: United States workers, start date, Redmond, WA, past, days, Microsoft, pandemic, end, sight\n",
      "Key phrases in article #3: new coffee shop, Redmond, WA, Employees, Microsoft, campus, workers\n"
     ]
    }
   ],
   "source": [
    "documents = [\n",
    "    \"\"\"\n",
    "    Washington, D.C. Autumn in DC is a uniquely beautiful season. The leaves fall from the trees\n",
    "    in a city chock-full of forests, leaving yellow leaves on the ground and a clearer view of the\n",
    "    blue sky above...\n",
    "    \"\"\",\n",
    "    \"\"\"\n",
    "    Redmond, WA. In the past few days, Microsoft has decided to further postpone the start date of\n",
    "    its United States workers, due to the pandemic that rages with no end in sight...\n",
    "    \"\"\",\n",
    "    \"\"\"\n",
    "    Redmond, WA. Employees at Microsoft can be excited about the new coffee shop that will open on campus\n",
    "    once workers no longer have to work remotely...\n",
    "    \"\"\"\n",
    "]\n",
    "\n",
    "key_phrase_extraction(client, documents)"
   ]
  }
 ],
 "metadata": {
  "kernelspec": {
   "display_name": "Python 3",
   "language": "python",
   "name": "python3"
  },
  "language_info": {
   "codemirror_mode": {
    "name": "ipython",
    "version": 3
   },
   "file_extension": ".py",
   "mimetype": "text/x-python",
   "name": "python",
   "nbconvert_exporter": "python",
   "pygments_lexer": "ipython3",
   "version": "3.12.1"
  }
 },
 "nbformat": 4,
 "nbformat_minor": 5
}
