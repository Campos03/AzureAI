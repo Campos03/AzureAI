{
 "cells": [
  {
   "cell_type": "markdown",
   "id": "4188a7b7",
   "metadata": {},
   "source": [
    "# Key Phrase Extraction\n",
    "\n",
    "Use key phrase extraction to quickly identify the main concepts in text"
   ]
  },
  {
   "cell_type": "markdown",
   "id": "437ee1ca",
   "metadata": {},
   "source": [
    "## Load Azure Configurations"
   ]
  },
  {
   "cell_type": "code",
   "execution_count": 1,
   "id": "19d5bbb4",
   "metadata": {},
   "outputs": [],
   "source": [
    "import os\n",
    "\n",
    "# Load Azure configurations from environment variables\n",
    "# Ensure that AZURE_AI_LANGUAGE_KEY and AZURE_AI_LANGUAGE_ENDPOINT are set in your environment\n",
    "language_key = os.environ.get('AZURE_AI_LANGUAGE_KEY')\n",
    "language_endpoint = os.environ.get('AZURE_AI_LANGUAGE_ENDPOINT')"
   ]
  },
  {
   "cell_type": "markdown",
   "id": "bfadda43",
   "metadata": {},
   "source": [
    "## Create a Text Analysis client"
   ]
  },
  {
   "cell_type": "code",
   "execution_count": 2,
   "id": "c54294b1",
   "metadata": {},
   "outputs": [],
   "source": [
    "from azure.ai.textanalytics import TextAnalyticsClient\n",
    "from azure.core.credentials import AzureKeyCredential\n",
    "\n",
    "# Authenticate the client using Azure Key and Endpoint\n",
    "def authenticate_client():\n",
    "    \"\"\"\n",
    "    Authenticates the Azure Text Analytics client using the provided key and endpoint.\n",
    "\n",
    "    Returns:\n",
    "        TextAnalyticsClient: An authenticated client for Azure Text Analytics.\n",
    "    \"\"\"\n",
    "    ta_credential = AzureKeyCredential(language_key)\n",
    "    text_analytics_client = TextAnalyticsClient(\n",
    "        endpoint=language_endpoint,\n",
    "        credential=ta_credential\n",
    "    )\n",
    "    return text_analytics_client\n",
    "\n",
    "# Initialize the client\n",
    "client = authenticate_client()"
   ]
  },
  {
   "cell_type": "markdown",
   "id": "186d6d31",
   "metadata": {},
   "source": [
    "## Extract Key Phrases Function"
   ]
  },
  {
   "cell_type": "code",
   "execution_count": 3,
   "id": "b991ec26",
   "metadata": {},
   "outputs": [],
   "source": [
    "def key_phrase_extraction(client, documents):\n",
    "    \"\"\"\n",
    "    Extracts key phrases from the provided documents using the Azure Text Analytics client.\n",
    "\n",
    "    Args:\n",
    "        client (TextAnalyticsClient): An authenticated Azure Text Analytics client.\n",
    "        documents (list of str): A list of text documents to analyze for key phrases.\n",
    "\n",
    "    Returns:\n",
    "        None: Prints the extracted key phrases for each document.\n",
    "    \"\"\"\n",
    "    # Call the Azure Text Analytics API to extract key phrases from the documents\n",
    "    result = client.extract_key_phrases(documents)\n",
    "\n",
    "    print(\"Key Phrases:\\n\")\n",
    "\n",
    "    # Iterate through the results for each document\n",
    "    for idx, doc in enumerate(result):  # Enumerate to get the document index\n",
    "        # Check if the result for the document is valid\n",
    "        if not doc.is_error:\n",
    "            # Print the key phrases for the document\n",
    "            print(\"Key phrases in document #{}: {}\".format(\n",
    "                idx + 1,  # 1-based index for readability\n",
    "                \", \".join(doc.key_phrases)  # Join the key phrases with commas\n",
    "            ))\n",
    "        else:\n",
    "            # Print an error message if the document result contains an error\n",
    "            print(f\"Error in document with ID {doc.id}: {doc.error}\")"
   ]
  },
  {
   "cell_type": "code",
   "execution_count": 4,
   "id": "55ea532d",
   "metadata": {},
   "outputs": [
    {
     "name": "stdout",
     "output_type": "stream",
     "text": [
      "Key Phrases:\n",
      "\n",
      "Key phrases in document #1: D.C. Autumn, beautiful season, clearer view, blue sky, yellow leaves, Washington, DC, trees, city, forests, ground\n",
      "Key phrases in document #2: United States workers, start date, Redmond, WA, past, days, Microsoft, pandemic, end, sight\n",
      "Key phrases in document #3: new coffee shop, Redmond, WA, Employees, Microsoft, campus, workers\n"
     ]
    }
   ],
   "source": [
    "documents = [\n",
    "    \"\"\"\n",
    "    Washington, D.C. Autumn in DC is a uniquely beautiful season. The leaves fall from the trees\n",
    "    in a city chock-full of forests, leaving yellow leaves on the ground and a clearer view of the\n",
    "    blue sky above...\n",
    "    \"\"\",\n",
    "    \"\"\"\n",
    "    Redmond, WA. In the past few days, Microsoft has decided to further postpone the start date of\n",
    "    its United States workers, due to the pandemic that rages with no end in sight...\n",
    "    \"\"\",\n",
    "    \"\"\"\n",
    "    Redmond, WA. Employees at Microsoft can be excited about the new coffee shop that will open on campus\n",
    "    once workers no longer have to work remotely...\n",
    "    \"\"\"\n",
    "]\n",
    "\n",
    "key_phrase_extraction(client, documents)"
   ]
  }
 ],
 "metadata": {
  "kernelspec": {
   "display_name": "Python 3",
   "language": "python",
   "name": "python3"
  },
  "language_info": {
   "codemirror_mode": {
    "name": "ipython",
    "version": 3
   },
   "file_extension": ".py",
   "mimetype": "text/x-python",
   "name": "python",
   "nbconvert_exporter": "python",
   "pygments_lexer": "ipython3",
   "version": "3.12.1"
  }
 },
 "nbformat": 4,
 "nbformat_minor": 5
}
