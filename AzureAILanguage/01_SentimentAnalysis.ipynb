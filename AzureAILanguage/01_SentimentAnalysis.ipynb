{
 "cells": [
  {
   "cell_type": "markdown",
   "id": "8d9b835b",
   "metadata": {},
   "source": [
    "# Sentiment Analysis and Opinion Mining"
   ]
  },
  {
   "cell_type": "markdown",
   "id": "c21cc2cc",
   "metadata": {},
   "source": [
    "## Install Library"
   ]
  },
  {
   "cell_type": "code",
   "execution_count": null,
   "id": "77321b14",
   "metadata": {},
   "outputs": [],
   "source": [
    "%pip install azure-ai-textanalytics"
   ]
  },
  {
   "cell_type": "markdown",
   "id": "5d86b43a",
   "metadata": {},
   "source": [
    "## Load Azure Configurations"
   ]
  },
  {
   "cell_type": "code",
   "execution_count": 1,
   "id": "843df002",
   "metadata": {},
   "outputs": [],
   "source": [
    "import os\n",
    "\n",
    "language_key = os.environ.get('AZURE_AI_LANGUAGE_KEY')\n",
    "language_endpoint = os.environ.get('AZURE_AI_LANGUAGE_ENDPOINT')"
   ]
  },
  {
   "cell_type": "markdown",
   "id": "f7f30eb4",
   "metadata": {},
   "source": [
    "## Create a Text Analysis client"
   ]
  },
  {
   "cell_type": "code",
   "execution_count": 2,
   "id": "29fb1ebf",
   "metadata": {},
   "outputs": [],
   "source": [
    "from azure.ai.textanalytics import TextAnalyticsClient\n",
    "from azure.core.credentials import AzureKeyCredential\n",
    "\n",
    "# Authenticate the client using your key and endpoint \n",
    "def authenticate_client():\n",
    "    ta_credential = AzureKeyCredential(language_key)\n",
    "    text_analytics_client = TextAnalyticsClient(\n",
    "            endpoint=language_endpoint, \n",
    "            credential=ta_credential)\n",
    "    return text_analytics_client\n",
    "\n",
    "client = authenticate_client()"
   ]
  },
  {
   "cell_type": "markdown",
   "id": "60e6b6bf",
   "metadata": {},
   "source": [
    "## Analyze Sentiment function"
   ]
  },
  {
   "cell_type": "code",
   "execution_count": 14,
   "id": "4a576e5c",
   "metadata": {},
   "outputs": [],
   "source": [
    "def sentiment_analysis_with_opinion_mining(client, documents):\n",
    "\n",
    "    result = client.analyze_sentiment(documents, show_opinion_mining=True)\n",
    "    doc_result = [doc for doc in result if not doc.is_error]\n",
    "\n",
    "    for doc_idx, document in enumerate(doc_result, start=1):\n",
    "        print(\"Document {} Sentiment: {}\".format(doc_idx, document.sentiment))\n",
    "        print(\"Overall scores: positive={0:.2f}; neutral={1:.2f}; negative={2:.2f}\".format(\n",
    "            document.confidence_scores.positive,\n",
    "            document.confidence_scores.neutral,\n",
    "            document.confidence_scores.negative,\n",
    "        ))\n",
    "        for idx, sentence in enumerate(document.sentences, start=1):\n",
    "            print(\"  Sentence {}: {}\".format(idx, sentence.text))\n",
    "            print(\"    Sentiment: {}\".format(sentence.sentiment))\n",
    "            print(\"    Scores: Positive={0:.2f}, Neutral={1:.2f}, Negative={2:.2f}\".format(\n",
    "                sentence.confidence_scores.positive,\n",
    "                sentence.confidence_scores.neutral,\n",
    "                sentence.confidence_scores.negative,\n",
    "            ))\n",
    "            for mined_opinion in sentence.mined_opinions:\n",
    "                target = mined_opinion.target\n",
    "                print(\"      Target '{}' ({})\".format(target.text, target.sentiment))\n",
    "                print(\"      Scores: Positive={0:.2f}, Negative={1:.2f}\".format(\n",
    "                    target.confidence_scores.positive,\n",
    "                    target.confidence_scores.negative,\n",
    "                ))\n",
    "                for assessment in mined_opinion.assessments:\n",
    "                    print(\"        Assessment '{}' ({})\".format(assessment.text, assessment.sentiment))\n",
    "                    print(\"        Scores: Positive={0:.2f}, Negative={1:.2f}\".format(\n",
    "                        assessment.confidence_scores.positive,\n",
    "                        assessment.confidence_scores.negative,\n",
    "                    ))"
   ]
  },
  {
   "cell_type": "code",
   "execution_count": null,
   "id": "c450031d",
   "metadata": {},
   "outputs": [
    {
     "name": "stdout",
     "output_type": "stream",
     "text": [
      "Document 1 Sentiment: positive\n",
      "Overall scores: positive=0.97; neutral=0.03; negative=0.00\n",
      "  Sentence 1: I had the best day of my life. \n",
      "    Sentiment: positive\n",
      "    Scores: Positive=0.98, Neutral=0.02, Negative=0.00\n",
      "  Sentence 2: I decided to go sky-diving and it made me appreciate my whole life so much more.     \n",
      "    Sentiment: positive\n",
      "    Scores: Positive=0.96, Neutral=0.04, Negative=0.00\n",
      "      Target 'sky-diving' (positive)\n",
      "      Scores: Positive=1.00, Negative=0.00\n",
      "        Assessment 'appreciate' (positive)\n",
      "        Scores: Positive=1.00, Negative=0.00\n",
      "  Sentence 3: I developed a deep-connection with my instructor as well, and I feel as if I've made a life-long friend in her.\n",
      "    Sentiment: neutral\n",
      "    Scores: Positive=0.26, Neutral=0.73, Negative=0.01\n",
      "Document 2 Sentiment: negative\n",
      "Overall scores: positive=0.00; neutral=0.00; negative=1.00\n",
      "  Sentence 1: This was a waste of my time. \n",
      "    Sentiment: negative\n",
      "    Scores: Positive=0.00, Neutral=0.00, Negative=1.00\n",
      "  Sentence 2: All of the views on this drop are extremely boring, all I saw was grass. \n",
      "    Sentiment: negative\n",
      "    Scores: Positive=0.00, Neutral=0.00, Negative=1.00\n",
      "      Target 'views' (negative)\n",
      "      Scores: Positive=0.03, Negative=0.97\n",
      "        Assessment 'boring' (negative)\n",
      "        Scores: Positive=0.03, Negative=0.97\n",
      "  Sentence 3: 0/10 would     not recommend to any divers, even first timers.\n",
      "    Sentiment: negative\n",
      "    Scores: Positive=0.00, Neutral=0.00, Negative=1.00\n",
      "Document 3 Sentiment: positive\n",
      "Overall scores: positive=0.99; neutral=0.01; negative=0.00\n",
      "  Sentence 1: I only have one word for my experience: WOW!!! \n",
      "    Sentiment: positive\n",
      "    Scores: Positive=0.98, Neutral=0.01, Negative=0.00\n",
      "      Target 'experience' (positive)\n",
      "      Scores: Positive=1.00, Negative=0.00\n",
      "        Assessment 'WOW' (positive)\n",
      "        Scores: Positive=1.00, Negative=0.00\n",
      "  Sentence 2: I can't believe I have had such a wonderful skydiving company right     in my backyard this whole time! \n",
      "    Sentiment: positive\n",
      "    Scores: Positive=0.99, Neutral=0.00, Negative=0.00\n",
      "      Target 'skydiving company' (positive)\n",
      "      Scores: Positive=1.00, Negative=0.00\n",
      "        Assessment 'wonderful' (positive)\n",
      "        Scores: Positive=1.00, Negative=0.00\n",
      "  Sentence 3: I will definitely be a repeat customer, and I want to take my grandmother skydiving too,     I know she'll love it!\n",
      "    Sentiment: positive\n",
      "    Scores: Positive=0.99, Neutral=0.00, Negative=0.00\n"
     ]
    }
   ],
   "source": [
    "documents = [\n",
    "    \"\"\"I had the best day of my life. \n",
    "    I decided to go sky-diving and it made me appreciate my whole life so much more.\n",
    "    I developed a deep-connection with my instructor as well, and I feel as if I've made a life-long friend in her.\"\"\",\n",
    "\n",
    "    \"\"\"This was a waste of my time. \n",
    "    All of the views on this drop are extremely boring, all I saw was grass. \n",
    "    0/10 would not recommend to any divers, even first timers.\"\"\",\n",
    "    \n",
    "    \"\"\"I only have one word for my experience: WOW!!! \n",
    "    I can't believe I have had such a wonderful skydiving company right in my backyard this whole time! \n",
    "    I will definitely be a repeat customer, and I want to take my grandmother skydiving too, I know she'll love it!\"\"\"\n",
    "]\n",
    "\n",
    "sentiment_analysis_with_opinion_mining(client, documents)"
   ]
  }
 ],
 "metadata": {
  "kernelspec": {
   "display_name": "Python 3",
   "language": "python",
   "name": "python3"
  },
  "language_info": {
   "codemirror_mode": {
    "name": "ipython",
    "version": 3
   },
   "file_extension": ".py",
   "mimetype": "text/x-python",
   "name": "python",
   "nbconvert_exporter": "python",
   "pygments_lexer": "ipython3",
   "version": "3.12.1"
  }
 },
 "nbformat": 4,
 "nbformat_minor": 5
}
