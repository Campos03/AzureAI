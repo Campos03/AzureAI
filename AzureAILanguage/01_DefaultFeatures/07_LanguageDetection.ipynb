{
 "cells": [
  {
   "cell_type": "markdown",
   "id": "8d9b835b",
   "metadata": {},
   "source": [
    "# Language Detection\n",
    "\n",
    "https://learn.microsoft.com/en-us/azure/ai-services/language-service/language-detection/overview?wt.mc_id=MVP_322781"
   ]
  },
  {
   "cell_type": "markdown",
   "id": "c21cc2cc",
   "metadata": {},
   "source": [
    "## Install Library"
   ]
  },
  {
   "cell_type": "code",
   "execution_count": null,
   "id": "77321b14",
   "metadata": {},
   "outputs": [],
   "source": [
    "%pip install azure-ai-textanalytics"
   ]
  },
  {
   "cell_type": "markdown",
   "id": "5d86b43a",
   "metadata": {},
   "source": [
    "## Load Azure Configurations"
   ]
  },
  {
   "cell_type": "code",
   "execution_count": 1,
   "id": "843df002",
   "metadata": {},
   "outputs": [],
   "source": [
    "import os\n",
    "\n",
    "# Load Azure configurations from environment variables\n",
    "# Ensure that AZURE_AI_LANGUAGE_KEY and AZURE_AI_LANGUAGE_ENDPOINT are set in your environment\n",
    "language_key = os.environ.get('AZURE_AI_LANGUAGE_KEY')\n",
    "language_endpoint = os.environ.get('AZURE_AI_LANGUAGE_ENDPOINT')"
   ]
  },
  {
   "cell_type": "markdown",
   "id": "f7f30eb4",
   "metadata": {},
   "source": [
    "## Create a Text Analysis client"
   ]
  },
  {
   "cell_type": "code",
   "execution_count": 2,
   "id": "29fb1ebf",
   "metadata": {},
   "outputs": [],
   "source": [
    "from azure.ai.textanalytics import TextAnalyticsClient\n",
    "from azure.core.credentials import AzureKeyCredential\n",
    "\n",
    "# Authenticate the client using Azure Key and Endpoint\n",
    "def authenticate_client():\n",
    "    \"\"\"\n",
    "    Authenticates the Azure Text Analytics client using the provided key and endpoint.\n",
    "\n",
    "    Returns:\n",
    "        TextAnalyticsClient: An authenticated client for Azure Text Analytics.\n",
    "    \"\"\"\n",
    "    ta_credential = AzureKeyCredential(language_key)\n",
    "    text_analytics_client = TextAnalyticsClient(\n",
    "        endpoint=language_endpoint,\n",
    "        credential=ta_credential\n",
    "    )\n",
    "    return text_analytics_client\n",
    "\n",
    "# Initialize the client\n",
    "client = authenticate_client()"
   ]
  },
  {
   "cell_type": "markdown",
   "id": "60e6b6bf",
   "metadata": {},
   "source": [
    "## Detect Language function"
   ]
  },
  {
   "cell_type": "code",
   "execution_count": 29,
   "id": "4a576e5c",
   "metadata": {},
   "outputs": [],
   "source": [
    "def detect_language(client, documents):\n",
    "    \"\"\"\n",
    "    Detects the language of each document in the provided list.\n",
    "\n",
    "    Args:\n",
    "        client (TextAnalyticsClient): The authenticated Azure Text Analytics client.\n",
    "        documents (list): A list of documents to analyze.\n",
    "\n",
    "    Returns:\n",
    "        None\n",
    "    \"\"\"\n",
    "    # Call the Azure Text Analytics API to detect the language of the documents\n",
    "    result = client.detect_language(documents)\n",
    "    \n",
    "    # Filter out documents that encountered errors during processing\n",
    "    reviewed_docs = [doc for doc in result if not doc.is_error]\n",
    "    \n",
    "    # Iterate over the successfully processed documents\n",
    "    for idx, doc in enumerate(reviewed_docs, start=1):\n",
    "        # Print the detected language name and its ISO639-1 code for each document\n",
    "        print(\"Document #{} is in '{}', which has ISO639-1 name '{}'\\\\n\".format(\n",
    "            idx, doc.primary_language.name, doc.primary_language.iso6391_name\n",
    "        ))"
   ]
  },
  {
   "cell_type": "code",
   "execution_count": 30,
   "id": "c450031d",
   "metadata": {},
   "outputs": [],
   "source": [
    "documents = [\n",
    "    \"\"\"\n",
    "    This document is written in English.\n",
    "    \"\"\",\n",
    "    \n",
    "    \"\"\"\n",
    "    Ce document est rédigé en Français.\n",
    "    \"\"\",\n",
    "\n",
    "    \"\"\"\n",
    "    Este documento está escrito en español.\n",
    "    \"\"\",\n",
    "\n",
    "    \"\"\"\n",
    "    Dieses Dokument ist auf Deutsch verfasst.\n",
    "    \"\"\",\n",
    "\n",
    "    \"\"\"\n",
    "    これは日本語で書かれたドキュメントです。\n",
    "    \"\"\",\n",
    "\n",
    "    \"\"\"\n",
    "    هذا مستند مكتوب باللغة العربية.\n",
    "    \"\"\",\n",
    "\n",
    "    \"\"\"\n",
    "    I love visiting Paris because the architecture is magnifique and the food is always délicieux.\n",
    "    \"\"\",\n",
    "\n",
    "    \"\"\"\n",
    "    I love visiting Paris because the architecture is magnifique and the food is always délicieux. \n",
    "    La Seine est particulièrement belle au coucher du soleil.\n",
    "    \"\"\",\n",
    "]"
   ]
  },
  {
   "cell_type": "code",
   "execution_count": 31,
   "id": "f42eec15",
   "metadata": {},
   "outputs": [
    {
     "name": "stdout",
     "output_type": "stream",
     "text": [
      "Document #1 is in 'English', which has ISO639-1 name 'en'\\n\n",
      "Document #2 is in 'French', which has ISO639-1 name 'fr'\\n\n",
      "Document #3 is in 'Spanish', which has ISO639-1 name 'es'\\n\n",
      "Document #4 is in 'German', which has ISO639-1 name 'de'\\n\n",
      "Document #5 is in 'Japanese', which has ISO639-1 name 'ja'\\n\n",
      "Document #6 is in 'Arabic', which has ISO639-1 name 'ar'\\n\n",
      "Document #7 is in 'English', which has ISO639-1 name 'en'\\n\n",
      "Document #8 is in 'French', which has ISO639-1 name 'fr'\\n\n"
     ]
    }
   ],
   "source": [
    "# Call the detect_language function to analyze the documents\n",
    "detect_language(client, documents)"
   ]
  }
 ],
 "metadata": {
  "kernelspec": {
   "display_name": "Python 3",
   "language": "python",
   "name": "python3"
  },
  "language_info": {
   "codemirror_mode": {
    "name": "ipython",
    "version": 3
   },
   "file_extension": ".py",
   "mimetype": "text/x-python",
   "name": "python",
   "nbconvert_exporter": "python",
   "pygments_lexer": "ipython3",
   "version": "3.12.1"
  }
 },
 "nbformat": 4,
 "nbformat_minor": 5
}
