{
 "cells": [
  {
   "cell_type": "markdown",
   "id": "8d9b835b",
   "metadata": {},
   "source": [
    "# Sentiment Analysis and Opinion Mining\n",
    "\n",
    "https://learn.microsoft.com/en-us/azure/ai-services/language-service/sentiment-opinion-mining/overview?wt.mc_id=MVP_322781"
   ]
  },
  {
   "cell_type": "markdown",
   "id": "c21cc2cc",
   "metadata": {},
   "source": [
    "## Install Library"
   ]
  },
  {
   "cell_type": "code",
   "execution_count": null,
   "id": "77321b14",
   "metadata": {},
   "outputs": [],
   "source": [
    "%pip install azure-ai-textanalytics"
   ]
  },
  {
   "cell_type": "markdown",
   "id": "5d86b43a",
   "metadata": {},
   "source": [
    "## Load Azure Configurations"
   ]
  },
  {
   "cell_type": "code",
   "execution_count": 1,
   "id": "843df002",
   "metadata": {},
   "outputs": [],
   "source": [
    "import os\n",
    "\n",
    "# Load Azure configurations from environment variables\n",
    "# Ensure that AZURE_AI_LANGUAGE_KEY and AZURE_AI_LANGUAGE_ENDPOINT are set in your environment\n",
    "language_key = os.environ.get('AZURE_AI_LANGUAGE_KEY')\n",
    "language_endpoint = os.environ.get('AZURE_AI_LANGUAGE_ENDPOINT')"
   ]
  },
  {
   "cell_type": "markdown",
   "id": "f7f30eb4",
   "metadata": {},
   "source": [
    "## Create a Text Analytics client"
   ]
  },
  {
   "cell_type": "code",
   "execution_count": 2,
   "id": "29fb1ebf",
   "metadata": {},
   "outputs": [],
   "source": [
    "from azure.ai.textanalytics import TextAnalyticsClient\n",
    "from azure.core.credentials import AzureKeyCredential\n",
    "\n",
    "# Authenticate the client using Azure Key and Endpoint\n",
    "def authenticate_client():\n",
    "    \"\"\"\n",
    "    Authenticates the Azure Text Analytics client using the provided key and endpoint.\n",
    "\n",
    "    Returns:\n",
    "        TextAnalyticsClient: An authenticated client for Azure Text Analytics.\n",
    "    \"\"\"\n",
    "    ta_credential = AzureKeyCredential(language_key)\n",
    "    text_analytics_client = TextAnalyticsClient(\n",
    "        endpoint=language_endpoint,\n",
    "        credential=ta_credential\n",
    "    )\n",
    "    return text_analytics_client\n",
    "\n",
    "# Initialize the client\n",
    "client = authenticate_client()"
   ]
  },
  {
   "cell_type": "markdown",
   "id": "60e6b6bf",
   "metadata": {},
   "source": [
    "## Analyze Sentiment function"
   ]
  },
  {
   "cell_type": "code",
   "execution_count": 3,
   "id": "4a576e5c",
   "metadata": {},
   "outputs": [],
   "source": [
    "def sentiment_analysis_with_opinion_mining(client, documents):\n",
    "    \"\"\"\n",
    "    Analyzes the sentiment of the provided documents and extracts opinions using the Azure Text Analytics client.\n",
    "\n",
    "    Args:\n",
    "        client (TextAnalyticsClient): An authenticated Azure Text Analytics client.\n",
    "        documents (list of str): A list of text documents to analyze for sentiment and opinions.\n",
    "\n",
    "    Returns:\n",
    "        None: Prints the sentiment analysis results, including overall sentiment, sentence-level sentiment, \n",
    "              and mined opinions for each document.\n",
    "    \"\"\"\n",
    "    # Call the Azure Text Analytics API to analyze sentiment with opinion mining\n",
    "    result = client.analyze_sentiment(documents, show_opinion_mining=True)\n",
    "\n",
    "    # Filter out documents with errors\n",
    "    doc_result = [doc for doc in result if not doc.is_error]\n",
    "\n",
    "    # Iterate through the results for each valid document\n",
    "    for doc_idx, document in enumerate(doc_result, start=1):  # Start index at 1 for readability\n",
    "        # Print the overall sentiment of the document\n",
    "        print(\"Document {} Sentiment: {}\".format(doc_idx, document.sentiment))\n",
    "        print(\"Overall scores: positive={0:.2f}; neutral={1:.2f}; negative={2:.2f}\".format(\n",
    "            document.confidence_scores.positive,\n",
    "            document.confidence_scores.neutral,\n",
    "            document.confidence_scores.negative,\n",
    "        ))\n",
    "\n",
    "        # Iterate through each sentence in the document\n",
    "        for idx, sentence in enumerate(document.sentences, start=1):\n",
    "            # Print the sentiment of the sentence\n",
    "            print(\"  Sentence {}: {}\".format(idx, sentence.text))\n",
    "            print(\"    Sentiment: {}\".format(sentence.sentiment))\n",
    "            print(\"    Scores: Positive={0:.2f}, Neutral={1:.2f}, Negative={2:.2f}\".format(\n",
    "                sentence.confidence_scores.positive,\n",
    "                sentence.confidence_scores.neutral,\n",
    "                sentence.confidence_scores.negative,\n",
    "            ))\n",
    "\n",
    "            # Initialize a counter for mined opinions\n",
    "            opinion_counter = 1\n",
    "\n",
    "            # Iterate through mined opinions in the sentence\n",
    "            for mined_opinion in sentence.mined_opinions:\n",
    "                # Label the mined opinion\n",
    "                print(f\"    Mined Opinion {opinion_counter}:\")\n",
    "                opinion_counter += 1\n",
    "\n",
    "                # Print the target of the opinion\n",
    "                target = mined_opinion.target\n",
    "                print(\"      Target '{}' ({})\".format(target.text, target.sentiment))\n",
    "                print(\"      Scores: Positive={0:.2f}, Negative={1:.2f}\".format(\n",
    "                    target.confidence_scores.positive,\n",
    "                    target.confidence_scores.negative,\n",
    "                ))\n",
    "\n",
    "                # Print the assessments related to the target\n",
    "                for assessment in mined_opinion.assessments:\n",
    "                    print(\"        Assessment '{}' ({})\".format(assessment.text, assessment.sentiment))\n",
    "                    print(\"        Scores: Positive={0:.2f}, Negative={1:.2f}\".format(\n",
    "                        assessment.confidence_scores.positive,\n",
    "                        assessment.confidence_scores.negative,\n",
    "                    ))\n",
    "\n",
    "        # Add a blank line after each document for better readability\n",
    "        print()"
   ]
  },
  {
   "cell_type": "code",
   "execution_count": 4,
   "id": "c450031d",
   "metadata": {},
   "outputs": [
    {
     "name": "stdout",
     "output_type": "stream",
     "text": [
      "Document 1 Sentiment: positive\n",
      "Overall scores: positive=0.97; neutral=0.03; negative=0.00\n",
      "  Sentence 1: I had the best day of my life.      \n",
      "    Sentiment: positive\n",
      "    Scores: Positive=0.98, Neutral=0.02, Negative=0.00\n",
      "  Sentence 2: I decided to go sky-diving and it made me appreciate my whole life so much more.     \n",
      "    Sentiment: positive\n",
      "    Scores: Positive=0.96, Neutral=0.04, Negative=0.00\n",
      "    Mined Opinion 1:\n",
      "      Target 'sky-diving' (positive)\n",
      "      Scores: Positive=1.00, Negative=0.00\n",
      "        Assessment 'appreciate' (positive)\n",
      "        Scores: Positive=1.00, Negative=0.00\n",
      "  Sentence 3: I developed a deep-connection with my instructor as well, and I feel as if I've made a life-long friend in her.\n",
      "    Sentiment: neutral\n",
      "    Scores: Positive=0.26, Neutral=0.73, Negative=0.01\n",
      "\n",
      "Document 2 Sentiment: negative\n",
      "Overall scores: positive=0.00; neutral=0.00; negative=1.00\n",
      "  Sentence 1: This was a waste of my time.      \n",
      "    Sentiment: negative\n",
      "    Scores: Positive=0.00, Neutral=0.00, Negative=1.00\n",
      "  Sentence 2: All of the views on this drop are extremely boring, all I saw was grass.      \n",
      "    Sentiment: negative\n",
      "    Scores: Positive=0.00, Neutral=0.00, Negative=1.00\n",
      "    Mined Opinion 1:\n",
      "      Target 'views' (negative)\n",
      "      Scores: Positive=0.03, Negative=0.97\n",
      "        Assessment 'boring' (negative)\n",
      "        Scores: Positive=0.03, Negative=0.97\n",
      "  Sentence 3: 0/10 would not recommend to any divers, even first timers.\n",
      "    Sentiment: negative\n",
      "    Scores: Positive=0.00, Neutral=0.00, Negative=1.00\n",
      "\n",
      "Document 3 Sentiment: positive\n",
      "Overall scores: positive=1.00; neutral=0.00; negative=0.00\n",
      "  Sentence 1: The staff was incredibly friendly, the rooms were spotless, and the location was perfect for sightseeing.      \n",
      "    Sentiment: positive\n",
      "    Scores: Positive=1.00, Neutral=0.00, Negative=0.00\n",
      "    Mined Opinion 1:\n",
      "      Target 'staff' (positive)\n",
      "      Scores: Positive=1.00, Negative=0.00\n",
      "        Assessment 'friendly' (positive)\n",
      "        Scores: Positive=1.00, Negative=0.00\n",
      "    Mined Opinion 2:\n",
      "      Target 'rooms' (positive)\n",
      "      Scores: Positive=1.00, Negative=0.00\n",
      "        Assessment 'spotless' (positive)\n",
      "        Scores: Positive=1.00, Negative=0.00\n",
      "    Mined Opinion 3:\n",
      "      Target 'location' (positive)\n",
      "      Scores: Positive=1.00, Negative=0.00\n",
      "        Assessment 'perfect' (positive)\n",
      "        Scores: Positive=1.00, Negative=0.00\n",
      "  Sentence 2: Additionally, the breakfast buffet was delicious, the pool area was well-maintained, and the concierge service was very helpful.\n",
      "    Sentiment: positive\n",
      "    Scores: Positive=1.00, Neutral=0.00, Negative=0.00\n",
      "    Mined Opinion 1:\n",
      "      Target 'breakfast buffet' (positive)\n",
      "      Scores: Positive=1.00, Negative=0.00\n",
      "        Assessment 'delicious' (positive)\n",
      "        Scores: Positive=1.00, Negative=0.00\n",
      "    Mined Opinion 2:\n",
      "      Target 'pool area' (positive)\n",
      "      Scores: Positive=1.00, Negative=0.00\n",
      "        Assessment 'well-maintained' (positive)\n",
      "        Scores: Positive=1.00, Negative=0.00\n",
      "    Mined Opinion 3:\n",
      "      Target 'concierge service' (positive)\n",
      "      Scores: Positive=1.00, Negative=0.00\n",
      "        Assessment 'helpful' (positive)\n",
      "        Scores: Positive=1.00, Negative=0.00\n",
      "\n"
     ]
    }
   ],
   "source": [
    "documents = [\n",
    "    \"\"\"I had the best day of my life. \n",
    "    I decided to go sky-diving and it made me appreciate my whole life so much more.\n",
    "    I developed a deep-connection with my instructor as well, and I feel as if I've made a life-long friend in her.\"\"\",\n",
    "\n",
    "    \"\"\"This was a waste of my time. \n",
    "    All of the views on this drop are extremely boring, all I saw was grass. \n",
    "    0/10 would not recommend to any divers, even first timers.\"\"\",\n",
    "    \n",
    "    \"\"\"The staff was incredibly friendly, the rooms were spotless, and the location was perfect for sightseeing. \n",
    "    Additionally, the breakfast buffet was delicious, the pool area was well-maintained, and the concierge service was very helpful.\"\"\"\n",
    "]\n",
    "\n",
    "sentiment_analysis_with_opinion_mining(client, documents)"
   ]
  }
 ],
 "metadata": {
  "kernelspec": {
   "display_name": "Python 3",
   "language": "python",
   "name": "python3"
  },
  "language_info": {
   "codemirror_mode": {
    "name": "ipython",
    "version": 3
   },
   "file_extension": ".py",
   "mimetype": "text/x-python",
   "name": "python",
   "nbconvert_exporter": "python",
   "pygments_lexer": "ipython3",
   "version": "3.12.1"
  }
 },
 "nbformat": 4,
 "nbformat_minor": 5
}
