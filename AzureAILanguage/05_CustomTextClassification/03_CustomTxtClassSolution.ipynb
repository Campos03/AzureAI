{
 "cells": [
  {
   "cell_type": "markdown",
   "id": "8d9b835b",
   "metadata": {},
   "source": [
    "# Custom Text Classification Solution"
   ]
  },
  {
   "cell_type": "markdown",
   "id": "5d86b43a",
   "metadata": {},
   "source": [
    "## Load Azure Configurations"
   ]
  },
  {
   "cell_type": "code",
   "execution_count": 56,
   "id": "843df002",
   "metadata": {},
   "outputs": [],
   "source": [
    "import os\n",
    "\n",
    "# Load Azure configurations from environment variables\n",
    "# Ensure that AZURE_AI_LANGUAGE_KEY and AZURE_AI_LANGUAGE_ENDPOINT are set in your environment\n",
    "language_key = os.environ.get('AZURE_AI_LANGUAGE_KEY')\n",
    "language_endpoint = os.environ.get('AZURE_AI_LANGUAGE_ENDPOINT')\n",
    "\n",
    "project_name = \"EmailClassifier\"\n",
    "model_name = \"emailclassifiermodel\""
   ]
  },
  {
   "cell_type": "markdown",
   "id": "f7f30eb4",
   "metadata": {},
   "source": [
    "## Import Project Job"
   ]
  },
  {
   "cell_type": "code",
   "execution_count": 58,
   "id": "5c0c38f2",
   "metadata": {},
   "outputs": [],
   "source": [
    "import json\n",
    "\n",
    "# Path to the JSON file\n",
    "file_path = \"emailLabel.json\"\n",
    "\n",
    "# Load the JSON file\n",
    "with open(file_path, \"r\") as file:\n",
    "    json_data = json.load(file)\n"
   ]
  },
  {
   "cell_type": "code",
   "execution_count": 75,
   "id": "29fb1ebf",
   "metadata": {},
   "outputs": [
    {
     "name": "stdout",
     "output_type": "stream",
     "text": [
      "Import result: https://ziggylanguagedemocomplete.cognitiveservices.azure.com/language/authoring/analyze-text/projects/EmailClassifier/import/jobs/2df461a9-f628-4c51-b01c-f8fb17a154d5_638803584000000000?api-version=2022-05-01\n"
     ]
    }
   ],
   "source": [
    "import requests\n",
    "import json\n",
    "\n",
    "# Create a new analyzer\n",
    "def import_project(request_body):\n",
    "    \n",
    "    url = f\"{language_endpoint}/language/authoring/analyze-text/projects/{project_name}/:import?api-version=2022-05-01\"\n",
    "    headers = {\n",
    "        \"Ocp-Apim-Subscription-Key\": language_key,\n",
    "    }\n",
    "    \n",
    "    response = requests.post(url, headers=headers, data=json.dumps(request_body))\n",
    "    # The 201 (Created) response includes an Operation-Location header containing a URL that you can use to track the status of this asynchronous creation operation.\n",
    "    operation_location = response.headers.get(\"Operation-Location\")\n",
    "    return operation_location\n",
    "\n",
    "import_result = import_project(json_data)\n",
    "print(f\"Import result: {import_result}\")"
   ]
  },
  {
   "cell_type": "markdown",
   "id": "60e6b6bf",
   "metadata": {},
   "source": [
    "## Get Import Job Status"
   ]
  },
  {
   "cell_type": "code",
   "execution_count": 76,
   "id": "3e55704c",
   "metadata": {},
   "outputs": [],
   "source": [
    "def import_project_status(import_result):\n",
    "    \n",
    "    headers = {\n",
    "        \"Ocp-Apim-Subscription-Key\": language_key,\n",
    "    }\n",
    "    \n",
    "    response = requests.get(import_result, headers=headers)\n",
    "\n",
    "    if response.status_code == 200:  # Success\n",
    "        # Parse the JSON response\n",
    "        response_data = response.json()\n",
    "        # Pretty print the JSON data with indentation\n",
    "        print(json.dumps(response_data, indent=4))\n",
    "    else:\n",
    "        print(f\"Error: {response.status_code} - {response.text}\")"
   ]
  },
  {
   "cell_type": "code",
   "execution_count": 77,
   "id": "23f3fbdb",
   "metadata": {},
   "outputs": [
    {
     "name": "stdout",
     "output_type": "stream",
     "text": [
      "{\n",
      "    \"jobId\": \"2df461a9-f628-4c51-b01c-f8fb17a154d5_638803584000000000\",\n",
      "    \"createdDateTime\": \"2025-04-16T18:14:03Z\",\n",
      "    \"lastUpdatedDateTime\": \"2025-04-16T18:14:03Z\",\n",
      "    \"expirationDateTime\": \"2025-04-23T18:14:03Z\",\n",
      "    \"status\": \"succeeded\"\n",
      "}\n"
     ]
    }
   ],
   "source": [
    "import_project_status(import_result)"
   ]
  },
  {
   "cell_type": "markdown",
   "id": "af70340e",
   "metadata": {},
   "source": [
    "## Train your model"
   ]
  },
  {
   "cell_type": "code",
   "execution_count": 78,
   "id": "e9ae410c",
   "metadata": {},
   "outputs": [],
   "source": [
    "train_body = {\n",
    "\t\"modelLabel\": model_name,\n",
    "\t\"trainingConfigVersion\": \"2022-05-01\",\n",
    "\t\"evaluationOptions\": {\n",
    "\t\t\"kind\": \"percentage\",\n",
    "\t\t\"trainingSplitPercentage\": 80,\n",
    "\t\t\"testingSplitPercentage\": 20\n",
    "\t}\n",
    "}"
   ]
  },
  {
   "cell_type": "code",
   "execution_count": 79,
   "id": "892e8e9f",
   "metadata": {},
   "outputs": [],
   "source": [
    "import requests\n",
    "import json\n",
    "\n",
    "# Create a new analyzer\n",
    "def train_model(request_body):\n",
    "    \n",
    "    url = f\"{language_endpoint}/language/authoring/analyze-text/projects/{project_name}/:train?api-version=2022-05-01\"\n",
    "\n",
    "    headers = {\n",
    "        \"Ocp-Apim-Subscription-Key\": language_key,\n",
    "    }\n",
    "    \n",
    "    response = requests.post(url, headers=headers, data=json.dumps(request_body))\n",
    "    # The 201 (Created) response includes an Operation-Location header containing a URL that you can use to track the status of this asynchronous creation operation.\n",
    "    operation_location = response.headers.get(\"Operation-Location\")\n",
    "    return operation_location"
   ]
  },
  {
   "cell_type": "code",
   "execution_count": 80,
   "id": "69fb22f2",
   "metadata": {},
   "outputs": [
    {
     "name": "stdout",
     "output_type": "stream",
     "text": [
      "Train result: https://ziggylanguagedemocomplete.cognitiveservices.azure.com/language/authoring/analyze-text/projects/EmailClassifier/train/jobs/5fad969b-7189-4c76-9dfe-6379c080431a_638803584000000000?api-version=2022-05-01\n"
     ]
    }
   ],
   "source": [
    "train_result = train_model(train_body)\n",
    "print(f\"Train result: {train_result}\")"
   ]
  },
  {
   "cell_type": "markdown",
   "id": "2fc2cfa9",
   "metadata": {},
   "source": [
    "## Get training job status"
   ]
  },
  {
   "cell_type": "code",
   "execution_count": 81,
   "id": "b718be0d",
   "metadata": {},
   "outputs": [],
   "source": [
    "def train_model_status(train_result):\n",
    "    \n",
    "    headers = {\n",
    "        \"Ocp-Apim-Subscription-Key\": language_key,\n",
    "    }\n",
    "        \n",
    "    response = requests.get(train_result, headers=headers)\n",
    "        \n",
    "    if response.status_code == 200:  # Success\n",
    "        # Parse the JSON response\n",
    "        response_data = response.json()\n",
    "        # Pretty print the JSON data with indentation\n",
    "        print(json.dumps(response_data, indent=4))\n",
    "    else:\n",
    "        print(f\"Error: {response.status_code} - {response.text}\")"
   ]
  },
  {
   "cell_type": "code",
   "execution_count": 93,
   "id": "27a09397",
   "metadata": {},
   "outputs": [
    {
     "name": "stdout",
     "output_type": "stream",
     "text": [
      "{\n",
      "    \"result\": {\n",
      "        \"modelLabel\": \"emailclassifiermodel\",\n",
      "        \"trainingConfigVersion\": \"2022-05-01\",\n",
      "        \"trainingStatus\": {\n",
      "            \"percentComplete\": 100,\n",
      "            \"startDateTime\": \"2025-04-16T18:14:18.7987661Z\",\n",
      "            \"endDateTime\": \"2025-04-16T18:14:24.5313026Z\",\n",
      "            \"status\": \"succeeded\"\n",
      "        },\n",
      "        \"evaluationStatus\": {\n",
      "            \"percentComplete\": 100,\n",
      "            \"startDateTime\": \"2025-04-16T18:14:25.5792561Z\",\n",
      "            \"endDateTime\": \"2025-04-16T18:14:42.9470222Z\",\n",
      "            \"status\": \"succeeded\"\n",
      "        }\n",
      "    },\n",
      "    \"jobId\": \"5fad969b-7189-4c76-9dfe-6379c080431a_638803584000000000\",\n",
      "    \"createdDateTime\": \"2025-04-16T18:14:17Z\",\n",
      "    \"lastUpdatedDateTime\": \"2025-04-16T18:15:26Z\",\n",
      "    \"expirationDateTime\": \"2025-04-23T18:14:17Z\",\n",
      "    \"status\": \"succeeded\",\n",
      "    \"warnings\": []\n",
      "}\n"
     ]
    }
   ],
   "source": [
    "train_model_status(train_result)"
   ]
  },
  {
   "cell_type": "markdown",
   "id": "8ef0d1ca",
   "metadata": {},
   "source": [
    "## View your text classification model's evaluation and details"
   ]
  },
  {
   "cell_type": "code",
   "execution_count": 94,
   "id": "b6ec83c4",
   "metadata": {},
   "outputs": [],
   "source": [
    "def view_model_details():\n",
    "    \n",
    "    url = f\"{language_endpoint}/language/authoring/analyze-text/projects/{project_name}/models/{model_name}/evaluation/summary-result?api-version=2022-05-01\"\n",
    "\n",
    "    headers = {\n",
    "        \"Ocp-Apim-Subscription-Key\": language_key,\n",
    "    }\n",
    "        \n",
    "    response = requests.get(url, headers=headers)\n",
    "        \n",
    "    if response.status_code == 200:  # Success\n",
    "        # Parse the JSON response\n",
    "        response_data = response.json()\n",
    "        # Pretty print the JSON data with indentation\n",
    "        print(json.dumps(response_data, indent=4))\n",
    "    else:\n",
    "        print(f\"Error: {response.status_code} - {response.text}\")"
   ]
  },
  {
   "cell_type": "code",
   "execution_count": 95,
   "id": "0cf057a7",
   "metadata": {},
   "outputs": [
    {
     "name": "stdout",
     "output_type": "stream",
     "text": [
      "{\n",
      "    \"projectKind\": \"CustomSingleLabelClassification\",\n",
      "    \"customSingleLabelClassificationEvaluation\": {\n",
      "        \"confusionMatrix\": {\n",
      "            \"Account_Management\": {\n",
      "                \"Account_Management\": {\n",
      "                    \"normalizedValue\": 40.0,\n",
      "                    \"rawValue\": 2.0\n",
      "                },\n",
      "                \"Billing_and_Payments\": {\n",
      "                    \"normalizedValue\": 60.0,\n",
      "                    \"rawValue\": 3.0\n",
      "                }\n",
      "            },\n",
      "            \"Billing_and_Payments\": {\n",
      "                \"Billing_and_Payments\": {\n",
      "                    \"normalizedValue\": 100.0,\n",
      "                    \"rawValue\": 5.0\n",
      "                }\n",
      "            },\n",
      "            \"Order_and_Shipping\": {\n",
      "                \"Order_and_Shipping\": {\n",
      "                    \"normalizedValue\": 100.0,\n",
      "                    \"rawValue\": 5.0\n",
      "                }\n",
      "            },\n",
      "            \"Product_Information\": {\n",
      "                \"Product_Information\": {\n",
      "                    \"normalizedValue\": 100.0,\n",
      "                    \"rawValue\": 5.0\n",
      "                }\n",
      "            },\n",
      "            \"Technical_Support\": {\n",
      "                \"Technical_Support\": {\n",
      "                    \"normalizedValue\": 100.0,\n",
      "                    \"rawValue\": 5.0\n",
      "                }\n",
      "            },\n",
      "            \"None\": {}\n",
      "        },\n",
      "        \"classes\": {\n",
      "            \"Technical_Support\": {\n",
      "                \"f1\": 1.0,\n",
      "                \"precision\": 1.0,\n",
      "                \"recall\": 1.0,\n",
      "                \"truePositiveCount\": 5,\n",
      "                \"trueNegativeCount\": 20,\n",
      "                \"falsePositiveCount\": 0,\n",
      "                \"falseNegativeCount\": 0\n",
      "            },\n",
      "            \"Product_Information\": {\n",
      "                \"f1\": 1.0,\n",
      "                \"precision\": 1.0,\n",
      "                \"recall\": 1.0,\n",
      "                \"truePositiveCount\": 5,\n",
      "                \"trueNegativeCount\": 20,\n",
      "                \"falsePositiveCount\": 0,\n",
      "                \"falseNegativeCount\": 0\n",
      "            },\n",
      "            \"Order_and_Shipping\": {\n",
      "                \"f1\": 1.0,\n",
      "                \"precision\": 1.0,\n",
      "                \"recall\": 1.0,\n",
      "                \"truePositiveCount\": 5,\n",
      "                \"trueNegativeCount\": 20,\n",
      "                \"falsePositiveCount\": 0,\n",
      "                \"falseNegativeCount\": 0\n",
      "            },\n",
      "            \"Billing_and_Payments\": {\n",
      "                \"f1\": 0.7692307829856873,\n",
      "                \"precision\": 0.625,\n",
      "                \"recall\": 1.0,\n",
      "                \"truePositiveCount\": 5,\n",
      "                \"trueNegativeCount\": 17,\n",
      "                \"falsePositiveCount\": 3,\n",
      "                \"falseNegativeCount\": 0\n",
      "            },\n",
      "            \"Account_Management\": {\n",
      "                \"f1\": 0.5714285969734192,\n",
      "                \"precision\": 1.0,\n",
      "                \"recall\": 0.4000000059604645,\n",
      "                \"truePositiveCount\": 2,\n",
      "                \"trueNegativeCount\": 20,\n",
      "                \"falsePositiveCount\": 0,\n",
      "                \"falseNegativeCount\": 3\n",
      "            },\n",
      "            \"None\": {\n",
      "                \"f1\": 0.0,\n",
      "                \"precision\": 0.0,\n",
      "                \"recall\": 0.0,\n",
      "                \"truePositiveCount\": 0,\n",
      "                \"trueNegativeCount\": 0,\n",
      "                \"falsePositiveCount\": 0,\n",
      "                \"falseNegativeCount\": 0\n",
      "            }\n",
      "        },\n",
      "        \"microF1\": 0.88,\n",
      "        \"microPrecision\": 0.88,\n",
      "        \"microRecall\": 0.88,\n",
      "        \"macroF1\": 0.86813194,\n",
      "        \"macroPrecision\": 0.925,\n",
      "        \"macroRecall\": 0.88\n",
      "    },\n",
      "    \"evaluationOptions\": {\n",
      "        \"kind\": \"percentage\",\n",
      "        \"trainingSplitPercentage\": 80,\n",
      "        \"testingSplitPercentage\": 20\n",
      "    }\n",
      "}\n"
     ]
    }
   ],
   "source": [
    "view_model_details()"
   ]
  },
  {
   "cell_type": "markdown",
   "id": "18435725",
   "metadata": {},
   "source": [
    "## Deploy your model"
   ]
  },
  {
   "cell_type": "code",
   "execution_count": 96,
   "id": "b4643b9e",
   "metadata": {},
   "outputs": [],
   "source": [
    "def deploy_model():\n",
    "    \n",
    "    url = f\"{language_endpoint}/language/authoring/analyze-text/projects/{project_name}/deployments/{model_name}?api-version=2022-05-01\"\n",
    "\n",
    "    body = {\n",
    "        \"trainedModelLabel\": model_name\n",
    "    }\n",
    "\n",
    "    headers = {\n",
    "        \"Ocp-Apim-Subscription-Key\": language_key,\n",
    "    }\n",
    "        \n",
    "    response = requests.put(url, headers=headers, data=json.dumps(body))\n",
    "        \n",
    "    # The 201 (Created) response includes an Operation-Location header containing a URL that you can use to track the status of this asynchronous creation operation.\n",
    "    operation_location = response.headers.get(\"Operation-Location\")\n",
    "    return operation_location"
   ]
  },
  {
   "cell_type": "code",
   "execution_count": 97,
   "id": "86ec4d93",
   "metadata": {},
   "outputs": [
    {
     "name": "stdout",
     "output_type": "stream",
     "text": [
      "Deploy result: https://ziggylanguagedemocomplete.cognitiveservices.azure.com/language/authoring/analyze-text/projects/EmailClassifier/deployments/emailclassifiermodel/jobs/c46929b7-270b-467d-8bd0-1856ce842f77_638803584000000000?api-version=2022-05-01\n"
     ]
    }
   ],
   "source": [
    "deploy_result = deploy_model()\n",
    "print(f\"Deploy result: {deploy_result}\")"
   ]
  },
  {
   "cell_type": "markdown",
   "id": "f5daa9f3",
   "metadata": {},
   "source": [
    "## Get deployment job status"
   ]
  },
  {
   "cell_type": "code",
   "execution_count": 98,
   "id": "575b8b82",
   "metadata": {},
   "outputs": [],
   "source": [
    "def view_deployment_status(deploy_result):\n",
    "    \n",
    "    \n",
    "    headers = {\n",
    "        \"Ocp-Apim-Subscription-Key\": language_key,\n",
    "    }\n",
    "        \n",
    "    response = requests.get(deploy_result, headers=headers)\n",
    "        \n",
    "    if response.status_code == 200:  # Success\n",
    "        # Parse the JSON response\n",
    "        response_data = response.json()\n",
    "        # Pretty print the JSON data with indentation\n",
    "        print(json.dumps(response_data, indent=4))\n",
    "    else:\n",
    "        print(f\"Error: {response.status_code} - {response.text}\")"
   ]
  },
  {
   "cell_type": "code",
   "execution_count": 99,
   "id": "1bebc838",
   "metadata": {},
   "outputs": [
    {
     "name": "stdout",
     "output_type": "stream",
     "text": [
      "{\n",
      "    \"jobId\": \"c46929b7-270b-467d-8bd0-1856ce842f77_638803584000000000\",\n",
      "    \"createdDateTime\": \"2025-04-16T18:16:21Z\",\n",
      "    \"lastUpdatedDateTime\": \"2025-04-16T18:16:24Z\",\n",
      "    \"expirationDateTime\": \"2025-04-23T18:16:21Z\",\n",
      "    \"status\": \"succeeded\"\n",
      "}\n"
     ]
    }
   ],
   "source": [
    "view_deployment_status(deploy_result)"
   ]
  },
  {
   "cell_type": "markdown",
   "id": "5f489b99",
   "metadata": {},
   "source": [
    "## Perform Classification"
   ]
  },
  {
   "cell_type": "code",
   "execution_count": 100,
   "id": "f547047c",
   "metadata": {},
   "outputs": [],
   "source": [
    "from azure.ai.textanalytics import TextAnalyticsClient\n",
    "from azure.core.credentials import AzureKeyCredential\n",
    "\n",
    "# Authenticate the client using Azure Key and Endpoint\n",
    "def authenticate_client():\n",
    "    \"\"\"\n",
    "    Authenticates the Azure Text Analytics client using the provided key and endpoint.\n",
    "\n",
    "    Returns:\n",
    "        TextAnalyticsClient: An authenticated client for Azure Text Analytics.\n",
    "    \"\"\"\n",
    "    ta_credential = AzureKeyCredential(language_key)\n",
    "    text_analytics_client = TextAnalyticsClient(\n",
    "        endpoint=language_endpoint,\n",
    "        credential=ta_credential\n",
    "    )\n",
    "    return text_analytics_client\n",
    "\n",
    "# Initialize the client\n",
    "text_analytics_client = authenticate_client()"
   ]
  },
  {
   "cell_type": "code",
   "execution_count": 101,
   "id": "bef297aa",
   "metadata": {},
   "outputs": [],
   "source": [
    "document = [\n",
    "    \"\"\"\n",
    "        Subject: Unable to connect to the internet\n",
    "\n",
    "        Hi Support Team,\n",
    "\n",
    "        I am facing issues with my internet connection. It keeps disconnecting every few minutes. I have tried restarting my router but the problem persists. Please help me resolve this issue.\n",
    "\n",
    "        Thanks,\n",
    "        John Doe\n",
    "    \"\"\",\n",
    "    \"\"\"\n",
    "        Subject: Incorrect charge on my account\n",
    "\n",
    "        Hello,\n",
    "\n",
    "        I noticed an incorrect charge on my account for the month of March. I was charged twice for the same service. Can you please look into this and issue a refund?\n",
    "\n",
    "        Regards,\n",
    "        Jane Smith\n",
    "    \"\"\",\n",
    "    \"\"\"\n",
    "        Subject: Password reset request\n",
    "\n",
    "        Dear Support,\n",
    "\n",
    "        I am unable to log into my account as I forgot my password. Can you assist me with resetting my password?\n",
    "\n",
    "        Thank you,\n",
    "        Michael Johnson\n",
    "    \"\"\",\n",
    "    \"\"\"\n",
    "        Subject: Inquiry about product features\n",
    "\n",
    "        Hi,\n",
    "\n",
    "        I am interested in purchasing your new smartphone model. Can you provide more details about its features, especially the camera specifications?\n",
    "\n",
    "        Best,\n",
    "        Emily Davis\n",
    "    \"\"\",\n",
    "    \"\"\" \n",
    "        Subject: Order not received\n",
    "\n",
    "        Hello,\n",
    "\n",
    "        I placed an order two weeks ago and have not yet received it. The tracking number shows that it is still in transit. Can you provide an update on the delivery status?\n",
    "\n",
    "        Thanks,\n",
    "        Chris Brown\n",
    "    \"\"\"\n",
    "\n",
    "]"
   ]
  },
  {
   "cell_type": "code",
   "execution_count": 106,
   "id": "77f0cdd9",
   "metadata": {},
   "outputs": [],
   "source": [
    "def single_label_classify(document):\n",
    "    \"\"\"\n",
    "    Classifies the given document into multiple labels using the Azure Text Analytics client.\n",
    "\n",
    "    Args:\n",
    "        document (list): A list of documents to classify.\n",
    "\n",
    "    Returns:\n",
    "        list: A list of classification results for each document.\n",
    "    \"\"\"\n",
    "    # Start the multi-label classification process for the given document\n",
    "    poller = text_analytics_client.begin_single_label_classify(\n",
    "        document,\n",
    "        project_name=project_name,\n",
    "        deployment_name=model_name\n",
    "    )\n",
    "\n",
    "    # Retrieve the classification results once the operation is complete\n",
    "    document_results = poller.result()\n",
    "\n",
    "    # Iterate through the documents and their corresponding classification results\n",
    "    # Iterate through the documents and their corresponding classification results\n",
    "    for doc, classification_result in zip(document, document_results):\n",
    "        # Check if the classification result is of type CustomDocumentClassification\n",
    "        if classification_result.kind == \"CustomDocumentClassification\":\n",
    "            # Retrieve the first classification result\n",
    "            classification = classification_result.classifications[0]\n",
    "            # Print the classification details including category and confidence score\n",
    "            print(\"The document text '{}' was classified as '{}' with confidence score {}.\".format(\n",
    "                doc, classification.category, classification.confidence_score)\n",
    "            )\n",
    "            print()\n",
    "        # Handle cases where the classification result contains an error\n",
    "        elif classification_result.is_error is True:\n",
    "            # Print the error details including code and message\n",
    "            print(\"Document text '{}' has an error with code '{}' and message '{}'\".format(\n",
    "                doc, classification_result.error.code, classification_result.error.message\n",
    "            ))\n",
    "            "
   ]
  },
  {
   "cell_type": "code",
   "execution_count": 107,
   "id": "08b03b78",
   "metadata": {},
   "outputs": [
    {
     "name": "stdout",
     "output_type": "stream",
     "text": [
      "The document text '\n",
      "        Subject: Unable to connect to the internet\n",
      "\n",
      "        Hi Support Team,\n",
      "\n",
      "        I am facing issues with my internet connection. It keeps disconnecting every few minutes. I have tried restarting my router but the problem persists. Please help me resolve this issue.\n",
      "\n",
      "        Thanks,\n",
      "        John Doe\n",
      "    ' was classified as 'Technical_Support' with confidence score 0.23.\n",
      "\n",
      "The document text '\n",
      "        Subject: Incorrect charge on my account\n",
      "\n",
      "        Hello,\n",
      "\n",
      "        I noticed an incorrect charge on my account for the month of March. I was charged twice for the same service. Can you please look into this and issue a refund?\n",
      "\n",
      "        Regards,\n",
      "        Jane Smith\n",
      "    ' was classified as 'Billing_and_Payments' with confidence score 0.24.\n",
      "\n",
      "The document text '\n",
      "        Subject: Password reset request\n",
      "\n",
      "        Dear Support,\n",
      "\n",
      "        I am unable to log into my account as I forgot my password. Can you assist me with resetting my password?\n",
      "\n",
      "        Thank you,\n",
      "        Michael Johnson\n",
      "    ' was classified as 'Account_Management' with confidence score 0.24.\n",
      "\n",
      "The document text '\n",
      "        Subject: Inquiry about product features\n",
      "\n",
      "        Hi,\n",
      "\n",
      "        I am interested in purchasing your new smartphone model. Can you provide more details about its features, especially the camera specifications?\n",
      "\n",
      "        Best,\n",
      "        Emily Davis\n",
      "    ' was classified as 'Product_Information' with confidence score 0.22.\n",
      "\n",
      "The document text ' \n",
      "        Subject: Order not received\n",
      "\n",
      "        Hello,\n",
      "\n",
      "        I placed an order two weeks ago and have not yet received it. The tracking number shows that it is still in transit. Can you provide an update on the delivery status?\n",
      "\n",
      "        Thanks,\n",
      "        Chris Brown\n",
      "    ' was classified as 'Order_and_Shipping' with confidence score 0.24.\n",
      "\n"
     ]
    }
   ],
   "source": [
    "single_label_classify(document)"
   ]
  }
 ],
 "metadata": {
  "kernelspec": {
   "display_name": "Python 3",
   "language": "python",
   "name": "python3"
  },
  "language_info": {
   "codemirror_mode": {
    "name": "ipython",
    "version": 3
   },
   "file_extension": ".py",
   "mimetype": "text/x-python",
   "name": "python",
   "nbconvert_exporter": "python",
   "pygments_lexer": "ipython3",
   "version": "3.12.1"
  }
 },
 "nbformat": 4,
 "nbformat_minor": 5
}
