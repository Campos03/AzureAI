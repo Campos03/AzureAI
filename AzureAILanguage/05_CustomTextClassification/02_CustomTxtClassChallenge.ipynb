{
 "cells": [
  {
   "cell_type": "markdown",
   "id": "71e3bcc5",
   "metadata": {},
   "source": [
    "# Custom Text Classification Challenge\n",
    "\n",
    "Objective: You will create a **single** custom classification system that classifies email from customers based on the following categories\n",
    "- Account Management\n",
    "- Billings and Payments\n",
    "- Order and Shipping\n",
    "- Product Information\n",
    "- Technical Support\n",
    "\n",
    "Sample emails are provided for training found under the customtextclassification folder\n",
    "\n",
    "You will perform the following tasks:\n",
    "1. Upload your training files in Azure Storage under the emails container.\n",
    "2. Create a Custom Text Classification Project\n",
    "3. Label each file to the appropriate category.\n",
    "4. Perform training\n",
    "5. Deploy the model\n",
    "6. Run inference on a set of documents found below.\n",
    "7. You will perform everything Python.\n",
    "\n",
    "Hint: JSON documentation for the project file can be found here: https://learn.microsoft.com/en-us/azure/ai-services/language-service/custom-text-classification/quickstart?tabs=single-classification&pivots=rest-api?wt.mc_id=MVP_322781"
   ]
  },
  {
   "cell_type": "markdown",
   "id": "ec6b8a44",
   "metadata": {},
   "source": [
    "## Documents to be used for predictions"
   ]
  },
  {
   "cell_type": "code",
   "execution_count": 1,
   "id": "b8123428",
   "metadata": {},
   "outputs": [],
   "source": [
    "document = [\n",
    "    \"\"\"\n",
    "        Subject: Unable to connect to the internet\n",
    "\n",
    "        Hi Support Team,\n",
    "\n",
    "        I am facing issues with my internet connection. It keeps disconnecting every few minutes. I have tried restarting my router but the problem persists. Please help me resolve this issue.\n",
    "\n",
    "        Thanks,\n",
    "        John Doe\n",
    "    \"\"\",\n",
    "    \"\"\"\n",
    "        Subject: Incorrect charge on my account\n",
    "\n",
    "        Hello,\n",
    "\n",
    "        I noticed an incorrect charge on my account for the month of March. I was charged twice for the same service. Can you please look into this and issue a refund?\n",
    "\n",
    "        Regards,\n",
    "        Jane Smith\n",
    "    \"\"\",\n",
    "    \"\"\"\n",
    "        Subject: Password reset request\n",
    "\n",
    "        Dear Support,\n",
    "\n",
    "        I am unable to log into my account as I forgot my password. Can you assist me with resetting my password?\n",
    "\n",
    "        Thank you,\n",
    "        Michael Johnson\n",
    "    \"\"\",\n",
    "    \"\"\"\n",
    "        Subject: Inquiry about product features\n",
    "\n",
    "        Hi,\n",
    "\n",
    "        I am interested in purchasing your new smartphone model. Can you provide more details about its features, especially the camera specifications?\n",
    "\n",
    "        Best,\n",
    "        Emily Davis\n",
    "    \"\"\",\n",
    "    \"\"\" \n",
    "        Subject: Order not received\n",
    "\n",
    "        Hello,\n",
    "\n",
    "        I placed an order two weeks ago and have not yet received it. The tracking number shows that it is still in transit. Can you provide an update on the delivery status?\n",
    "\n",
    "        Thanks,\n",
    "        Chris Brown\n",
    "    \"\"\"\n",
    "\n",
    "]"
   ]
  }
 ],
 "metadata": {
  "kernelspec": {
   "display_name": "Python 3",
   "language": "python",
   "name": "python3"
  },
  "language_info": {
   "codemirror_mode": {
    "name": "ipython",
    "version": 3
   },
   "file_extension": ".py",
   "mimetype": "text/x-python",
   "name": "python",
   "nbconvert_exporter": "python",
   "pygments_lexer": "ipython3",
   "version": "3.12.1"
  }
 },
 "nbformat": 4,
 "nbformat_minor": 5
}
