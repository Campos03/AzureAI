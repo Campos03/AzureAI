{
 "cells": [
  {
   "cell_type": "markdown",
   "id": "60223f33",
   "metadata": {},
   "source": [
    "Technical Support: Issues related to software bugs, hardware malfunctions, connectivity problems, etc.\n",
    "\n",
    "Billing and Payments: Queries about invoices, payment issues, refunds, subscription changes, etc.\n",
    "\n",
    "Account Management: Requests for account creation, deletion, password resets, profile updates, etc.\n",
    "\n",
    "Product Information: Inquiries about product features, specifications, availability, etc.\n",
    "\n",
    "Order and Shipping: Questions regarding order status, shipping details, delivery issues, etc."
   ]
  },
  {
   "cell_type": "code",
   "execution_count": 2,
   "id": "ffaf22c2",
   "metadata": {},
   "outputs": [],
   "source": [
    "\n",
    "# Define the categories and their descriptions\n",
    "categories = {\n",
    "    \"Technical Support\": [\n",
    "        \"My computer won't turn on. I've tried pressing the power button multiple times, but nothing happens. The screen remains black, and there are no lights or sounds coming from the device.\",\n",
    "        \"The software crashes when I try to open it. Every time I double-click the application, it starts loading but then immediately closes without any error message.\",\n",
    "        \"I can't connect to the Wi-Fi network. I've entered the correct password, but it keeps saying 'Unable to connect.' Other devices are connecting fine to the same network.\",\n",
    "        \"The printer is not responding. I've checked the cables and restarted both the printer and my computer, but it still won't print anything.\",\n",
    "        \"My screen is flickering randomly. It happens every few minutes, and it's making it very difficult to work on my computer.\",\n",
    "        \"The app keeps freezing on my phone. I've tried restarting the phone and reinstalling the app, but the issue persists.\",\n",
    "        \"I am unable to install the latest update. It keeps showing an error message saying 'Installation failed. Please try again later.'\",\n",
    "        \"The sound on my laptop is not working. I've checked the volume settings and tried plugging in headphones, but there's still no sound.\",\n",
    "        \"My keyboard is typing the wrong characters. For example, when I press 'a,' it types 'q.' I've tried changing the keyboard settings, but it didn't help.\",\n",
    "        \"The system is running very slowly. It takes a long time to open applications, and even simple tasks like browsing the web are sluggish.\"\n",
    "    ],\n",
    "    \"Billing and Payments\": [\n",
    "        \"I was charged twice for my subscription. I checked my bank statement, and there are two identical charges for the same service.\",\n",
    "        \"Can I get a refund for my last payment? I accidentally subscribed to the wrong plan and would like to switch to a different one.\",\n",
    "        \"How do I update my payment method? My credit card has expired, and I need to add a new one to continue my subscription.\",\n",
    "        \"I need a copy of my last invoice. Could you please send it to my email address for my records?\",\n",
    "        \"Why was my payment declined? I have sufficient funds in my account, and my card details are correct.\",\n",
    "        \"Can I change my subscription plan? I want to upgrade to a premium plan but am unsure how to do it.\",\n",
    "        \"I was charged for a service I didn't use. I believe there has been a mistake, as I never activated this service.\",\n",
    "        \"How do I cancel my subscription? I no longer need the service and want to ensure I won't be charged again.\",\n",
    "        \"When will my refund be processed? I was told it would take a few days, but I haven't received it yet.\",\n",
    "        \"Why is there an extra charge on my bill? The amount is higher than what I expected, and I need clarification.\"\n",
    "    ],\n",
    "    \"Account Management\": [\n",
    "        \"I forgot my password. How can I reset it? I tried using the 'Forgot Password' option, but I didn't receive any email.\",\n",
    "        \"How do I delete my account? I no longer wish to use the service and want to remove all my data.\",\n",
    "        \"Can I update my email address on my profile? The current email is outdated, and I want to replace it with a new one.\",\n",
    "        \"I want to change my username. Is there a way to do this without creating a new account?\",\n",
    "        \"How do I enable two-factor authentication? I want to add an extra layer of security to my account.\",\n",
    "        \"My account has been locked. What should I do? I received a message saying 'Suspicious activity detected,' and now I can't log in.\",\n",
    "        \"Can I recover a deleted account? I accidentally deleted my account and would like to restore it if possible.\",\n",
    "        \"How do I update my profile picture? I want to upload a new photo to my account.\",\n",
    "        \"I want to deactivate my account temporarily. Is there an option to do this without permanently deleting it?\",\n",
    "        \"How do I check my account activity? I want to see a log of recent logins and actions performed on my account.\"\n",
    "    ],\n",
    "    \"Product Information\": [\n",
    "        \"What are the specifications of your latest product? I'm particularly interested in the processor, memory, and storage capacity.\",\n",
    "        \"Is this product available in my country? I live in Canada and want to know if I can purchase it locally.\",\n",
    "        \"Can you provide a user manual for this product? I need detailed instructions on how to set it up and use it.\",\n",
    "        \"What is the warranty period for this item? I want to know how long I'm covered in case of defects or issues.\",\n",
    "        \"Are there any discounts available for this product? I'm planning to buy multiple units and would like to know if there's a bulk discount.\",\n",
    "        \"How does this product compare to similar ones? I'm considering other options and want to understand the differences.\",\n",
    "        \"What colors does this product come in? I'd like to choose a color that matches my preferences.\",\n",
    "        \"Is this product compatible with other devices? I want to ensure it works seamlessly with my existing setup.\",\n",
    "        \"Can I see a demo of this product? I'd like to understand its features and functionality before making a purchase.\",\n",
    "        \"What is the return policy for this product? In case it doesn't meet my expectations, I want to know the process for returning it.\"\n",
    "    ],\n",
    "    \"Order and Shipping\": [\n",
    "        \"When will my order be delivered? I placed the order a week ago and haven't received any updates.\",\n",
    "        \"Can I track my shipment? I want to know the current status and estimated delivery date of my package.\",\n",
    "        \"My order arrived damaged. What should I do? The item is broken, and I need a replacement or refund.\",\n",
    "        \"How do I change the shipping address for my order? I entered the wrong address and need to update it before the package is shipped.\",\n",
    "        \"Why is my order delayed? It was supposed to arrive yesterday, but I haven't received it yet.\",\n",
    "        \"Can I cancel my order before it ships? I no longer need the item and want to stop the shipment.\",\n",
    "        \"What are the shipping options available? I want to know if there's an express delivery option for faster shipping.\",\n",
    "        \"How do I know if my order has been shipped? I haven't received any confirmation or tracking details.\",\n",
    "        \"Can I expedite the shipping for my order? I need the item urgently and am willing to pay extra for faster delivery.\",\n",
    "        \"What should I do if I received the wrong item? The product I received is not what I ordered, and I need assistance.\"\n",
    "    ]\n",
    "}\n",
    "\n"
   ]
  },
  {
   "cell_type": "code",
   "execution_count": 4,
   "id": "c5facebd",
   "metadata": {},
   "outputs": [
    {
     "name": "stdout",
     "output_type": "stream",
     "text": [
      "Text files saved in the 'customtextclassification' directory.\n"
     ]
    }
   ],
   "source": [
    "import os\n",
    "# Create a directory to store the text files\n",
    "output_dir = \"customtextclassification\"\n",
    "\n",
    "# Save each category and its entries to separate text files\n",
    "for category, entries in categories.items():\n",
    "    for i, entry in enumerate(entries, start=1):\n",
    "        filename = f\"{category.replace(' ', '_')}_{i}.txt\"\n",
    "        filepath = os.path.join(output_dir, filename)\n",
    "        with open(filepath, \"w\") as file:\n",
    "            file.write(entry)\n",
    "\n",
    "print(f\"Text files saved in the '{output_dir}' directory.\")"
   ]
  }
 ],
 "metadata": {
  "kernelspec": {
   "display_name": "Python 3",
   "language": "python",
   "name": "python3"
  },
  "language_info": {
   "codemirror_mode": {
    "name": "ipython",
    "version": 3
   },
   "file_extension": ".py",
   "mimetype": "text/x-python",
   "name": "python",
   "nbconvert_exporter": "python",
   "pygments_lexer": "ipython3",
   "version": "3.12.1"
  }
 },
 "nbformat": 4,
 "nbformat_minor": 5
}
