{
 "cells": [
  {
   "cell_type": "markdown",
   "id": "8d9b835b",
   "metadata": {},
   "source": [
    "# Custom Text Classification"
   ]
  },
  {
   "cell_type": "markdown",
   "id": "5d86b43a",
   "metadata": {},
   "source": [
    "## Load Azure Configurations"
   ]
  },
  {
   "cell_type": "code",
   "execution_count": 2,
   "id": "843df002",
   "metadata": {},
   "outputs": [],
   "source": [
    "import os\n",
    "\n",
    "# Load Azure configurations from environment variables\n",
    "# Ensure that AZURE_AI_LANGUAGE_KEY and AZURE_AI_LANGUAGE_ENDPOINT are set in your environment\n",
    "language_key = os.environ.get('AZURE_AI_LANGUAGE_KEY')\n",
    "language_endpoint = os.environ.get('AZURE_AI_LANGUAGE_ENDPOINT')\n",
    "\n",
    "project_name = \"Movies01\"\n",
    "model_name = \"movieclassifiermodel\""
   ]
  },
  {
   "cell_type": "markdown",
   "id": "f7f30eb4",
   "metadata": {},
   "source": [
    "## Import Project Job"
   ]
  },
  {
   "cell_type": "code",
   "execution_count": 33,
   "id": "5c0c38f2",
   "metadata": {},
   "outputs": [],
   "source": [
    "import json\n",
    "\n",
    "# Path to the JSON file\n",
    "file_path = \"movieLabels.json\"\n",
    "\n",
    "# Load the JSON file\n",
    "with open(file_path, \"r\") as file:\n",
    "    json_data = json.load(file)"
   ]
  },
  {
   "cell_type": "code",
   "execution_count": 34,
   "id": "29fb1ebf",
   "metadata": {},
   "outputs": [
    {
     "name": "stdout",
     "output_type": "stream",
     "text": [
      "Import result: https://ziggylanguagedemocomplete.cognitiveservices.azure.com/language/authoring/analyze-text/projects/Movies01/import/jobs/a134841a-603b-4132-8241-3a4df37cdfd8_638803584000000000?api-version=2022-05-01\n"
     ]
    }
   ],
   "source": [
    "import requests\n",
    "import json\n",
    "\n",
    "# Create a new analyzer\n",
    "def import_project(request_body):\n",
    "    \n",
    "    url = f\"{language_endpoint}/language/authoring/analyze-text/projects/{project_name}/:import?api-version=2022-05-01\"\n",
    "    headers = {\n",
    "        \"Ocp-Apim-Subscription-Key\": language_key,\n",
    "    }\n",
    "    \n",
    "    response = requests.post(url, headers=headers, data=json.dumps(request_body))\n",
    "    # The 201 (Created) response includes an Operation-Location header containing a URL that you can use to track the status of this asynchronous creation operation.\n",
    "    operation_location = response.headers.get(\"Operation-Location\")\n",
    "    return operation_location\n",
    "\n",
    "import_result = import_project(json_data)\n",
    "print(f\"Import result: {import_result}\")"
   ]
  },
  {
   "cell_type": "markdown",
   "id": "60e6b6bf",
   "metadata": {},
   "source": [
    "## Get Import Job Status"
   ]
  },
  {
   "cell_type": "code",
   "execution_count": 49,
   "id": "3e55704c",
   "metadata": {},
   "outputs": [],
   "source": [
    "def import_project_status(import_result):\n",
    "    \n",
    "    headers = {\n",
    "        \"Ocp-Apim-Subscription-Key\": language_key,\n",
    "    }\n",
    "    \n",
    "    response = requests.get(import_result, headers=headers)\n",
    "\n",
    "    if response.status_code == 200:  # Success\n",
    "        # Parse the JSON response\n",
    "        response_data = response.json()\n",
    "        # Pretty print the JSON data with indentation\n",
    "        print(json.dumps(response_data, indent=4))\n",
    "    else:\n",
    "        print(f\"Error: {response.status_code} - {response.text}\")\n"
   ]
  },
  {
   "cell_type": "code",
   "execution_count": 50,
   "id": "23f3fbdb",
   "metadata": {},
   "outputs": [
    {
     "name": "stdout",
     "output_type": "stream",
     "text": [
      "{\n",
      "    \"jobId\": \"a134841a-603b-4132-8241-3a4df37cdfd8_638803584000000000\",\n",
      "    \"createdDateTime\": \"2025-04-16T12:46:52Z\",\n",
      "    \"lastUpdatedDateTime\": \"2025-04-16T12:46:53Z\",\n",
      "    \"expirationDateTime\": \"2025-04-23T12:46:52Z\",\n",
      "    \"status\": \"succeeded\"\n",
      "}\n"
     ]
    }
   ],
   "source": [
    "import_project_status(import_result)"
   ]
  },
  {
   "cell_type": "markdown",
   "id": "af70340e",
   "metadata": {},
   "source": [
    "## Train your model"
   ]
  },
  {
   "cell_type": "code",
   "execution_count": 37,
   "id": "e9ae410c",
   "metadata": {},
   "outputs": [],
   "source": [
    "train_body = {\n",
    "\t\"modelLabel\": model_name,\n",
    "\t\"trainingConfigVersion\": \"2022-05-01\",\n",
    "\t\"evaluationOptions\": {\n",
    "\t\t\"kind\": \"percentage\",\n",
    "\t\t\"trainingSplitPercentage\": 80,\n",
    "\t\t\"testingSplitPercentage\": 20\n",
    "\t}\n",
    "}"
   ]
  },
  {
   "cell_type": "code",
   "execution_count": null,
   "id": "892e8e9f",
   "metadata": {},
   "outputs": [],
   "source": [
    "import requests\n",
    "import json\n",
    "\n",
    "# Create a new analyzer\n",
    "def train_model(request_body):\n",
    "    \n",
    "    url = f\"{language_endpoint}/language/authoring/analyze-text/projects/{project_name}/:train?api-version=2022-05-01\"\n",
    "\n",
    "    headers = {\n",
    "        \"Ocp-Apim-Subscription-Key\": language_key,\n",
    "    }\n",
    "    \n",
    "    response = requests.post(url, headers=headers, data=json.dumps(request_body))\n",
    "    # The 201 (Created) response includes an Operation-Location header containing a URL that you can use to track the status of this asynchronous creation operation.\n",
    "    operation_location = response.headers.get(\"Operation-Location\")\n",
    "    return operation_location\n",
    "\n"
   ]
  },
  {
   "cell_type": "code",
   "execution_count": null,
   "id": "69fb22f2",
   "metadata": {},
   "outputs": [],
   "source": [
    "train_result = train_model(train_body)\n",
    "print(f\"Train result: {train_result}\")"
   ]
  },
  {
   "cell_type": "markdown",
   "id": "2fc2cfa9",
   "metadata": {},
   "source": [
    "## Get training job status"
   ]
  },
  {
   "cell_type": "code",
   "execution_count": 47,
   "id": "b718be0d",
   "metadata": {},
   "outputs": [],
   "source": [
    "def train_model_status(train_result):\n",
    "    \n",
    "    headers = {\n",
    "        \"Ocp-Apim-Subscription-Key\": language_key,\n",
    "    }\n",
    "        \n",
    "    response = requests.get(train_result, headers=headers)\n",
    "        \n",
    "    if response.status_code == 200:  # Success\n",
    "        # Parse the JSON response\n",
    "        response_data = response.json()\n",
    "        # Pretty print the JSON data with indentation\n",
    "        print(json.dumps(response_data, indent=4))\n",
    "    else:\n",
    "        print(f\"Error: {response.status_code} - {response.text}\")"
   ]
  },
  {
   "cell_type": "code",
   "execution_count": 56,
   "id": "27a09397",
   "metadata": {},
   "outputs": [
    {
     "name": "stdout",
     "output_type": "stream",
     "text": [
      "{\n",
      "    \"result\": {\n",
      "        \"modelLabel\": \"movieclassifiermodel\",\n",
      "        \"trainingConfigVersion\": \"2022-05-01\",\n",
      "        \"trainingStatus\": {\n",
      "            \"percentComplete\": 100,\n",
      "            \"startDateTime\": \"2025-04-16T12:55:38.1310105Z\",\n",
      "            \"endDateTime\": \"2025-04-16T13:02:59.1926631Z\",\n",
      "            \"status\": \"succeeded\"\n",
      "        },\n",
      "        \"evaluationStatus\": {\n",
      "            \"percentComplete\": 100,\n",
      "            \"startDateTime\": \"2025-04-16T13:03:03.1852857Z\",\n",
      "            \"endDateTime\": \"2025-04-16T13:03:33.1877571Z\",\n",
      "            \"status\": \"succeeded\"\n",
      "        }\n",
      "    },\n",
      "    \"jobId\": \"e7c9a348-fa35-4efb-8cd5-8f140be7c907_638803584000000000\",\n",
      "    \"createdDateTime\": \"2025-04-16T12:47:59Z\",\n",
      "    \"lastUpdatedDateTime\": \"2025-04-16T13:04:03Z\",\n",
      "    \"expirationDateTime\": \"2025-04-23T12:47:59Z\",\n",
      "    \"status\": \"succeeded\",\n",
      "    \"warnings\": []\n",
      "}\n"
     ]
    }
   ],
   "source": [
    "train_model_status(train_result)"
   ]
  },
  {
   "cell_type": "markdown",
   "id": "8ef0d1ca",
   "metadata": {},
   "source": [
    "## View your text classification model's evaluation and details"
   ]
  },
  {
   "cell_type": "code",
   "execution_count": 55,
   "id": "b6ec83c4",
   "metadata": {},
   "outputs": [],
   "source": [
    "def view_model_details():\n",
    "    \n",
    "    url = f\"{language_endpoint}/language/authoring/analyze-text/projects/{project_name}/models/{model_name}/evaluation/summary-result?api-version=2022-05-01\"\n",
    "\n",
    "    headers = {\n",
    "        \"Ocp-Apim-Subscription-Key\": language_key,\n",
    "    }\n",
    "        \n",
    "    response = requests.get(url, headers=headers)\n",
    "        \n",
    "    if response.status_code == 200:  # Success\n",
    "        # Parse the JSON response\n",
    "        response_data = response.json()\n",
    "        # Pretty print the JSON data with indentation\n",
    "        print(json.dumps(response_data, indent=4))\n",
    "    else:\n",
    "        print(f\"Error: {response.status_code} - {response.text}\")"
   ]
  },
  {
   "cell_type": "code",
   "execution_count": 57,
   "id": "0cf057a7",
   "metadata": {},
   "outputs": [
    {
     "name": "stdout",
     "output_type": "stream",
     "text": [
      "{\n",
      "    \"projectKind\": \"CustomMultiLabelClassification\",\n",
      "    \"customMultiLabelClassificationEvaluation\": {\n",
      "        \"classes\": {\n",
      "            \"Drama\": {\n",
      "                \"f1\": 0.8484848141670227,\n",
      "                \"precision\": 0.875,\n",
      "                \"recall\": 0.8235294222831726,\n",
      "                \"truePositiveCount\": 28,\n",
      "                \"trueNegativeCount\": 4,\n",
      "                \"falsePositiveCount\": 4,\n",
      "                \"falseNegativeCount\": 6\n",
      "            },\n",
      "            \"Comedy\": {\n",
      "                \"f1\": 0.5909090638160706,\n",
      "                \"precision\": 0.48148149251937866,\n",
      "                \"recall\": 0.7647058963775635,\n",
      "                \"truePositiveCount\": 13,\n",
      "                \"trueNegativeCount\": 11,\n",
      "                \"falsePositiveCount\": 14,\n",
      "                \"falseNegativeCount\": 4\n",
      "            },\n",
      "            \"Action\": {\n",
      "                \"f1\": 0.5945945978164673,\n",
      "                \"precision\": 0.5789473652839661,\n",
      "                \"recall\": 0.6111111044883728,\n",
      "                \"truePositiveCount\": 11,\n",
      "                \"trueNegativeCount\": 16,\n",
      "                \"falsePositiveCount\": 8,\n",
      "                \"falseNegativeCount\": 7\n",
      "            },\n",
      "            \"Thriller\": {\n",
      "                \"f1\": 0.7142857313156128,\n",
      "                \"precision\": 0.7142857313156128,\n",
      "                \"recall\": 0.7142857313156128,\n",
      "                \"truePositiveCount\": 15,\n",
      "                \"trueNegativeCount\": 15,\n",
      "                \"falsePositiveCount\": 6,\n",
      "                \"falseNegativeCount\": 6\n",
      "            },\n",
      "            \"Mystery\": {\n",
      "                \"f1\": 0.4444444477558136,\n",
      "                \"precision\": 0.6666666865348816,\n",
      "                \"recall\": 0.3333333432674408,\n",
      "                \"truePositiveCount\": 4,\n",
      "                \"trueNegativeCount\": 28,\n",
      "                \"falsePositiveCount\": 2,\n",
      "                \"falseNegativeCount\": 8\n",
      "            },\n",
      "            \"None\": {\n",
      "                \"f1\": 0.0,\n",
      "                \"precision\": 0.0,\n",
      "                \"recall\": 0.0,\n",
      "                \"truePositiveCount\": 0,\n",
      "                \"trueNegativeCount\": 0,\n",
      "                \"falsePositiveCount\": 0,\n",
      "                \"falseNegativeCount\": 0\n",
      "            }\n",
      "        },\n",
      "        \"microF1\": 0.68599033,\n",
      "        \"microPrecision\": 0.6761905,\n",
      "        \"microRecall\": 0.6960784,\n",
      "        \"macroF1\": 0.6385437,\n",
      "        \"macroPrecision\": 0.66327626,\n",
      "        \"macroRecall\": 0.64939314\n",
      "    },\n",
      "    \"evaluationOptions\": {\n",
      "        \"kind\": \"percentage\",\n",
      "        \"trainingSplitPercentage\": 80,\n",
      "        \"testingSplitPercentage\": 20\n",
      "    }\n",
      "}\n"
     ]
    }
   ],
   "source": [
    "view_model_details()"
   ]
  },
  {
   "cell_type": "markdown",
   "id": "18435725",
   "metadata": {},
   "source": [
    "## Deploy your model"
   ]
  },
  {
   "cell_type": "code",
   "execution_count": 61,
   "id": "b4643b9e",
   "metadata": {},
   "outputs": [],
   "source": [
    "def deploy_model():\n",
    "    \n",
    "    url = f\"{language_endpoint}/language/authoring/analyze-text/projects/{project_name}/deployments/{model_name}?api-version=2022-05-01\"\n",
    "\n",
    "    body = {\n",
    "        \"trainedModelLabel\": model_name\n",
    "    }\n",
    "\n",
    "    headers = {\n",
    "        \"Ocp-Apim-Subscription-Key\": language_key,\n",
    "    }\n",
    "        \n",
    "    response = requests.put(url, headers=headers, data=json.dumps(body))\n",
    "        \n",
    "    # The 201 (Created) response includes an Operation-Location header containing a URL that you can use to track the status of this asynchronous creation operation.\n",
    "    operation_location = response.headers.get(\"Operation-Location\")\n",
    "    return operation_location"
   ]
  },
  {
   "cell_type": "code",
   "execution_count": 62,
   "id": "86ec4d93",
   "metadata": {},
   "outputs": [
    {
     "name": "stdout",
     "output_type": "stream",
     "text": [
      "Deploy result: https://ziggylanguagedemocomplete.cognitiveservices.azure.com/language/authoring/analyze-text/projects/Movies01/deployments/movieclassifiermodel/jobs/ee6c35dc-3a98-4eee-ae32-c27c88e82091_638803584000000000?api-version=2022-05-01\n"
     ]
    }
   ],
   "source": [
    "deploy_result = deploy_model()\n",
    "print(f\"Deploy result: {deploy_result}\")"
   ]
  },
  {
   "cell_type": "markdown",
   "id": "f5daa9f3",
   "metadata": {},
   "source": [
    "## Get deployment job status"
   ]
  },
  {
   "cell_type": "code",
   "execution_count": 63,
   "id": "575b8b82",
   "metadata": {},
   "outputs": [],
   "source": [
    "def view_deployment_status(deploy_result):\n",
    "    \n",
    "    \n",
    "    headers = {\n",
    "        \"Ocp-Apim-Subscription-Key\": language_key,\n",
    "    }\n",
    "        \n",
    "    response = requests.get(deploy_result, headers=headers)\n",
    "        \n",
    "    if response.status_code == 200:  # Success\n",
    "        # Parse the JSON response\n",
    "        response_data = response.json()\n",
    "        # Pretty print the JSON data with indentation\n",
    "        print(json.dumps(response_data, indent=4))\n",
    "    else:\n",
    "        print(f\"Error: {response.status_code} - {response.text}\")"
   ]
  },
  {
   "cell_type": "code",
   "execution_count": 64,
   "id": "1bebc838",
   "metadata": {},
   "outputs": [
    {
     "name": "stdout",
     "output_type": "stream",
     "text": [
      "{\n",
      "    \"jobId\": \"ee6c35dc-3a98-4eee-ae32-c27c88e82091_638803584000000000\",\n",
      "    \"createdDateTime\": \"2025-04-16T13:10:01Z\",\n",
      "    \"lastUpdatedDateTime\": \"2025-04-16T13:10:03Z\",\n",
      "    \"expirationDateTime\": \"2025-04-23T13:10:01Z\",\n",
      "    \"status\": \"succeeded\"\n",
      "}\n"
     ]
    }
   ],
   "source": [
    "view_deployment_status(deploy_result)"
   ]
  },
  {
   "cell_type": "markdown",
   "id": "5f489b99",
   "metadata": {},
   "source": [
    "## Perform Classification"
   ]
  },
  {
   "cell_type": "code",
   "execution_count": 5,
   "id": "f547047c",
   "metadata": {},
   "outputs": [],
   "source": [
    "from azure.ai.textanalytics import TextAnalyticsClient\n",
    "from azure.core.credentials import AzureKeyCredential\n",
    "\n",
    "# Authenticate the client using Azure Key and Endpoint\n",
    "def authenticate_client():\n",
    "    \"\"\"\n",
    "    Authenticates the Azure Text Analytics client using the provided key and endpoint.\n",
    "\n",
    "    Returns:\n",
    "        TextAnalyticsClient: An authenticated client for Azure Text Analytics.\n",
    "    \"\"\"\n",
    "    ta_credential = AzureKeyCredential(language_key)\n",
    "    text_analytics_client = TextAnalyticsClient(\n",
    "        endpoint=language_endpoint,\n",
    "        credential=ta_credential\n",
    "    )\n",
    "    return text_analytics_client\n",
    "\n",
    "# Initialize the client\n",
    "text_analytics_client = authenticate_client()"
   ]
  },
  {
   "cell_type": "code",
   "execution_count": 8,
   "id": "bef297aa",
   "metadata": {},
   "outputs": [],
   "source": [
    "document = [\n",
    "    \"\"\"\n",
    "        Ethan Hunt and his IMF team are back, and this time they're up against their most formidable foe yet: a rogue AI known as \"The Entity.\" \n",
    "        The adventure kicks off with a bang when a next-generation Russian stealth submarine, the Sevastopol, is tricked by the AI into sinking \n",
    "        itself with its own torpedo. The AI, now sentient and mischievous, is out to control the world’s defense and financial systems.\n",
    "        \n",
    "        Ethan, ever the daredevil, must retrieve a two-piece cruciform key that can control the Entity. The key is scattered across the globe, \n",
    "        leading to a series of high-octane chases and explosive stunts. Picture Ethan skydiving into the Arabian Desert, only to land in the \n",
    "        middle of a camel race, narrowly avoiding a collision with a particularly grumpy camel named Humphrey.\n",
    "        \n",
    "        Meanwhile, Ethan's team, including the tech-savvy Benji (Simon Pegg) and the ever-reliable Luther (Ving Rhames), \n",
    "        provide comic relief amidst the chaos. Benji's attempts to hack into the Entity's systems often result in hilarious mishaps, \n",
    "        like accidentally ordering 100 pizzas to the IMF headquarters.\n",
    "        \n",
    "        The action ramps up as Ethan fakes the death of MI6 agent Ilsa Faust (Rebecca Ferguson) to protect her from a $50 million bounty. \n",
    "        The team infiltrates high-security locations, including a thrilling sequence where Ethan and Benji disguise themselves as clowns \n",
    "        to sneak into a circus-themed gala. The plan goes awry when Benji's oversized shoes trip an alarm, leading to a wild chase through \n",
    "        a maze of funhouse mirrors.\n",
    "        \n",
    "        As the stakes get higher, Ethan faces off against the Entity in a final showdown atop a speeding bullet train. With explosions, fistfights, and a heart-stopping moment where Ethan dangles from the train by a single hand, the climax is nothing short of spectacular.\n",
    "        In the end, Ethan and his team manage to outsmart the Entity, saving the world once again. The film concludes with a light-hearted scene of the team celebrating their victory with a well-deserved pizza party, courtesy of Benji's earlier mishap.\n",
    "    \"\"\"            \n",
    "]"
   ]
  },
  {
   "cell_type": "code",
   "execution_count": 10,
   "id": "77f0cdd9",
   "metadata": {},
   "outputs": [],
   "source": [
    "def multi_label_classify(document):\n",
    "    \"\"\"\n",
    "    Classifies the given document into multiple labels using the Azure Text Analytics client.\n",
    "\n",
    "    Args:\n",
    "        document (list): A list of documents to classify.\n",
    "\n",
    "    Returns:\n",
    "        list: A list of classification results for each document.\n",
    "    \"\"\"\n",
    "    # Start the multi-label classification process for the given document\n",
    "    poller = text_analytics_client.begin_multi_label_classify(\n",
    "        document,\n",
    "        project_name=project_name,\n",
    "        deployment_name=model_name\n",
    "    )\n",
    "\n",
    "    # Retrieve the classification results once the operation is complete\n",
    "    document_results = poller.result()\n",
    "\n",
    "    # Iterate through the documents and their corresponding classification results\n",
    "    for doc, classification_result in zip(document, document_results):\n",
    "        # Check if the result is of type CustomDocumentClassification\n",
    "        if classification_result.kind == \"CustomDocumentClassification\":\n",
    "            classifications = classification_result.classifications\n",
    "            print(f\"\\nThe movie plot '{doc}' was classified as the following genres:\\n\")\n",
    "            # Print each classification category and its confidence score\n",
    "            for classification in classifications:\n",
    "                print(\"'{}' with confidence score {}.\".format(\n",
    "                    classification.category, classification.confidence_score\n",
    "                ))\n",
    "        # Handle cases where there is an error in classification\n",
    "        elif classification_result.is_error is True:\n",
    "            print(\"Movie plot '{}' has an error with code '{}' and message '{}'\".format(\n",
    "                doc, classification_result.error.code, classification_result.error.message\n",
    "            ))"
   ]
  },
  {
   "cell_type": "code",
   "execution_count": 11,
   "id": "08b03b78",
   "metadata": {},
   "outputs": [
    {
     "name": "stdout",
     "output_type": "stream",
     "text": [
      "\n",
      "The movie plot '\n",
      "        Ethan Hunt and his IMF team are back, and this time they're up against their most formidable foe yet: a rogue AI known as \"The Entity.\" \n",
      "        The adventure kicks off with a bang when a next-generation Russian stealth submarine, the Sevastopol, is tricked by the AI into sinking \n",
      "        itself with its own torpedo. The AI, now sentient and mischievous, is out to control the world’s defense and financial systems.\n",
      "        \n",
      "        Ethan, ever the daredevil, must retrieve a two-piece cruciform key that can control the Entity. The key is scattered across the globe, \n",
      "        leading to a series of high-octane chases and explosive stunts. Picture Ethan skydiving into the Arabian Desert, only to land in the \n",
      "        middle of a camel race, narrowly avoiding a collision with a particularly grumpy camel named Humphrey.\n",
      "        \n",
      "        Meanwhile, Ethan's team, including the tech-savvy Benji (Simon Pegg) and the ever-reliable Luther (Ving Rhames), \n",
      "        provide comic relief amidst the chaos. Benji's attempts to hack into the Entity's systems often result in hilarious mishaps, \n",
      "        like accidentally ordering 100 pizzas to the IMF headquarters.\n",
      "        \n",
      "        The action ramps up as Ethan fakes the death of MI6 agent Ilsa Faust (Rebecca Ferguson) to protect her from a $50 million bounty. \n",
      "        The team infiltrates high-security locations, including a thrilling sequence where Ethan and Benji disguise themselves as clowns \n",
      "        to sneak into a circus-themed gala. The plan goes awry when Benji's oversized shoes trip an alarm, leading to a wild chase through \n",
      "        a maze of funhouse mirrors.\n",
      "        \n",
      "        As the stakes get higher, Ethan faces off against the Entity in a final showdown atop a speeding bullet train. With explosions, fistfights, and a heart-stopping moment where Ethan dangles from the train by a single hand, the climax is nothing short of spectacular.\n",
      "        In the end, Ethan and his team manage to outsmart the Entity, saving the world once again. The film concludes with a light-hearted scene of the team celebrating their victory with a well-deserved pizza party, courtesy of Benji's earlier mishap.\n",
      "    ' was classified as the following genres:\n",
      "\n",
      "'Action' with confidence score 0.98.\n",
      "'Comedy' with confidence score 0.93.\n"
     ]
    }
   ],
   "source": [
    "multi_label_classify(document)"
   ]
  }
 ],
 "metadata": {
  "kernelspec": {
   "display_name": "Python 3",
   "language": "python",
   "name": "python3"
  },
  "language_info": {
   "codemirror_mode": {
    "name": "ipython",
    "version": 3
   },
   "file_extension": ".py",
   "mimetype": "text/x-python",
   "name": "python",
   "nbconvert_exporter": "python",
   "pygments_lexer": "ipython3",
   "version": "3.12.1"
  }
 },
 "nbformat": 4,
 "nbformat_minor": 5
}
