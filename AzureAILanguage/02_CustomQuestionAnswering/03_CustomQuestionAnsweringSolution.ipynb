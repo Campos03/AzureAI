{
 "cells": [
  {
   "cell_type": "markdown",
   "id": "34272e59",
   "metadata": {},
   "source": [
    "# Custom Question Answering Solution"
   ]
  },
  {
   "cell_type": "markdown",
   "id": "1d747340",
   "metadata": {},
   "source": [
    "## Install Library"
   ]
  },
  {
   "cell_type": "code",
   "execution_count": null,
   "id": "0356533a",
   "metadata": {},
   "outputs": [],
   "source": [
    "%pip install azure-ai-language-questionanswering"
   ]
  },
  {
   "cell_type": "markdown",
   "id": "e06c355a",
   "metadata": {},
   "source": [
    "## Load Azure Configurations"
   ]
  },
  {
   "cell_type": "code",
   "execution_count": 6,
   "id": "c1e4f4a6",
   "metadata": {},
   "outputs": [],
   "source": [
    "import os\n",
    "\n",
    "# Load Azure configurations from environment variables\n",
    "# Ensure that AZURE_AI_LANGUAGE_KEY and AZURE_AI_LANGUAGE_ENDPOINT are set in your environment\n",
    "language_key = os.environ.get('AZURE_AI_LANGUAGE_KEY')\n",
    "language_endpoint = os.environ.get('AZURE_AI_LANGUAGE_ENDPOINT')\n",
    "\n",
    "# The name of your question answering project in Language Studio\n",
    "knowledge_base_project = \"AzureServices\"\n",
    "\n",
    "# There are two possible values: test, and production. \n",
    "# production is dependent on you having deployed your project from Language Studio > question answering > Deploy project.\n",
    "deployment = \"test\""
   ]
  },
  {
   "cell_type": "markdown",
   "id": "6ffa1351",
   "metadata": {},
   "source": [
    "## Create a Question Answering Client"
   ]
  },
  {
   "cell_type": "code",
   "execution_count": 2,
   "id": "72899ed4",
   "metadata": {},
   "outputs": [],
   "source": [
    "from azure.ai.language.questionanswering import QuestionAnsweringClient\n",
    "from azure.ai.language.questionanswering.models import ShortAnswerOptions\n",
    "from azure.core.credentials import AzureKeyCredential\n",
    "\n",
    "# Authenticate the client using Azure Key and Endpoint\n",
    "def authenticate_client():\n",
    "    \"\"\"\n",
    "    Authenticate the Question Answering client using Azure Key Credential.\n",
    "\n",
    "    Returns:\n",
    "        QuestionAnsweringClient: Authenticated client for Question Answering.\n",
    "    \"\"\"\n",
    "    qac_credential = AzureKeyCredential(language_key)\n",
    "    question_answering_client = QuestionAnsweringClient(\n",
    "        language_endpoint, \n",
    "        qac_credential)\n",
    "    \n",
    "    return question_answering_client\n",
    "\n",
    "# Initialize the client\n",
    "client = authenticate_client()"
   ]
  },
  {
   "cell_type": "markdown",
   "id": "7d64a72b",
   "metadata": {},
   "source": [
    "## Get Answers Function"
   ]
  },
  {
   "cell_type": "code",
   "execution_count": 13,
   "id": "cb741033",
   "metadata": {},
   "outputs": [],
   "source": [
    "def get_answers_with_project(client, question, knowledge_base_project, deployment):\n",
    "    \"\"\"\n",
    "    Retrieves answers from the Azure Custom Question Answering service for a given question.\n",
    "\n",
    "    Args:\n",
    "        client (QuestionAnsweringClient): The authenticated Question Answering client.\n",
    "        question (str): The question to query the knowledge base.\n",
    "        knowledge_base_project (str): The name of the knowledge base project in Azure Language Studio.\n",
    "        deployment (str): The deployment environment (e.g., 'test' or 'production').\n",
    "\n",
    "    Returns:\n",
    "        None: Prints the answers and their details to the console.\n",
    "    \"\"\"\n",
    "    output = client.get_answers(\n",
    "        project_name=knowledge_base_project,\n",
    "        deployment_name=deployment,\n",
    "        question=question,\n",
    "        confidence_threshold=0.10,\n",
    "        top=5,\n",
    "        short_answer_options=ShortAnswerOptions(confidence_threshold=0.7, top=1),\n",
    "    )\n",
    "\n",
    "    print(f\"Q: {question}\")\n",
    "    for idx, answer in enumerate(output.answers):\n",
    "        print(f\"Answer {idx + 1}:\")\n",
    "        print(f\"Alternate questions: {answer.questions}\")\n",
    "        print(f\"Answer Text: {answer.answer}\")\n",
    "        print(f\"Confidence: {answer.confidence:.2f}\")\n",
    "        print(f\"Source: {answer.source}\")\n",
    "\n",
    "        # Check if a short answer is available and print its details\n",
    "        if answer.short_answer:\n",
    "            short_answer = answer.short_answer\n",
    "            print(\"Short Answer:\")\n",
    "            print(f\"  Text: {short_answer.text.strip()}\")\n",
    "            print(f\"  Confidence: {short_answer.confidence:.2f}\")\n",
    "            print(f\"  Offset: {short_answer.offset}\")\n",
    "            print(f\"  Length: {short_answer.length}\")\n",
    "\n",
    "        # Display follow-up prompts if available\n",
    "        if answer.dialog and answer.dialog.prompts:\n",
    "            print(\"Follow-up Prompts:\")\n",
    "            for prompt in answer.dialog.prompts:\n",
    "                print(f\"  - {prompt.display_text}\")  # Display text of the follow-up prompt\n",
    "        print(\"-\" * 50)  # Separator for readability"
   ]
  },
  {
   "cell_type": "markdown",
   "id": "560deeab",
   "metadata": {},
   "source": [
    "## Display Answers"
   ]
  },
  {
   "cell_type": "code",
   "execution_count": 14,
   "id": "f89030ae",
   "metadata": {},
   "outputs": [
    {
     "name": "stdout",
     "output_type": "stream",
     "text": [
      "Q: What is Azure SQL?\n",
      "Answer 1:\n",
      "Alternate questions: ['Azure SQL Database']\n",
      "Answer Text:  Azure SQL Database is a fully managed relational database service based on the latest stable version of Microsoft SQL Server. It offers built-in intelligence that learns your application patterns and adapts to maximize performance, reliability, and data protection. SQL Database supports elastic scaling, allowing you to dynamically adjust resources to match your workload. It provides advanced security features, such as encryption, auditing, and threat detection. You can migrate your existing SQL Server databases to Azure SQL Database with minimal downtime. \n",
      "Confidence: 0.62\n",
      "Source: azure_services.docx\n",
      "Follow-up Prompts:\n",
      "  - Azure Database for PostgreSQL\n",
      "  - Azure Database for MariaDB\n",
      "--------------------------------------------------\n",
      "Answer 2:\n",
      "Alternate questions: ['Azure SQL Managed Instance']\n",
      "Answer Text:  Azure SQL Managed Instance is a fully managed, scalable, and secure SQL Server instance hosted in Azure. It provides features like automatic backups, monitoring, and high availability. SQL Managed Instance supports various data types, such as JSON, spatial, and full-text. You can use Azure SQL Managed Instance to migrate your existing applications, build new applications, and ensure the performance and security of your data. It also integrates with other Azure services, such as Azure App Service and Azure Data Factory. \n",
      "Confidence: 0.48\n",
      "Source: azure_services.docx\n",
      "--------------------------------------------------\n",
      "Answer 3:\n",
      "Alternate questions: ['Azure SQL Data Warehouse']\n",
      "Answer Text:  Azure SQL Data Warehouse is a fully managed, petabyte-scale cloud data warehouse service that enables you to store and analyze your structured and semi-structured data. It provides features like automatic scaling, data movement, and integration with Azure Machine Learning. SQL Data Warehouse supports various data sources, such as Azure Blob Storage, Azure Data Lake Storage, and Azure SQL Database. You can use Azure SQL Data Warehouse to build data lakes, develop big data analytics solutions, and ensure the performance and security of your data. It also integrates with other Azure services, such as Azure Synapse Analytics and Azure Data Factory. \n",
      "Confidence: 0.46\n",
      "Source: azure_services.docx\n",
      "--------------------------------------------------\n",
      "Answer 4:\n",
      "Alternate questions: ['Azure Database Migration Service']\n",
      "Answer Text:  Azure Database Migration Service is a fully managed, end-to-end migration service that enables you to migrate your databases to Azure with minimal downtime. It supports various source and target platforms, such as SQL Server, MySQL, PostgreSQL, and Azure SQL Database. Database Migration Service provides features like schema conversion, data migration, and performance monitoring. You can use Azure Database Migration Service to migrate your databases, ensure the compatibility of your workloads, and minimize your migration risks. It also integrates with other Azure services, such as Azure Migrate and Azure SQL Managed Instance. \n",
      "Confidence: 0.29\n",
      "Source: azure_services.docx\n",
      "--------------------------------------------------\n",
      "Answer 5:\n",
      "Alternate questions: ['Azure Data Lake Analytics']\n",
      "Answer Text:  Azure Data Lake Analytics is an on-demand, cloud-based analytics service that enables you to process and analyze big data. It provides features like job scheduling, parallel processing, and built-in analytics functions. Data Lake Analytics supports various data sources, such as Azure Data Lake Storage, Azure Blob Storage, and Azure SQL Database. You can use Data Lake Analytics to run U-SQL, R, and Python scripts, perform advanced analytics, and gain insights into your data. It also integrates with other Azure services, such as Azure Machine Learning and Azure Data Factory. \n",
      "Confidence: 0.26\n",
      "Source: azure_services.docx\n",
      "--------------------------------------------------\n"
     ]
    }
   ],
   "source": [
    "question = \"What is Azure SQL?\"\n",
    "get_answers_with_project(client, question, knowledge_base_project, deployment)"
   ]
  }
 ],
 "metadata": {
  "kernelspec": {
   "display_name": "Python 3",
   "language": "python",
   "name": "python3"
  },
  "language_info": {
   "codemirror_mode": {
    "name": "ipython",
    "version": 3
   },
   "file_extension": ".py",
   "mimetype": "text/x-python",
   "name": "python",
   "nbconvert_exporter": "python",
   "pygments_lexer": "ipython3",
   "version": "3.12.1"
  }
 },
 "nbformat": 4,
 "nbformat_minor": 5
}
