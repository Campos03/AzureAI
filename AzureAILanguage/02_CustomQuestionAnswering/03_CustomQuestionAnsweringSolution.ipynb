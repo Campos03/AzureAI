{
 "cells": [
  {
   "cell_type": "markdown",
   "id": "34272e59",
   "metadata": {},
   "source": [
    "# Custom Question Answering Solution"
   ]
  },
  {
   "cell_type": "markdown",
   "id": "1d747340",
   "metadata": {},
   "source": [
    "## Install Library"
   ]
  },
  {
   "cell_type": "code",
   "execution_count": null,
   "id": "0356533a",
   "metadata": {},
   "outputs": [],
   "source": [
    "%pip install azure-ai-language-questionanswering"
   ]
  },
  {
   "cell_type": "markdown",
   "id": "e06c355a",
   "metadata": {},
   "source": [
    "## Load Azure Configurations"
   ]
  },
  {
   "cell_type": "code",
   "execution_count": 1,
   "id": "c1e4f4a6",
   "metadata": {},
   "outputs": [],
   "source": [
    "import os\n",
    "\n",
    "# Load Azure configurations from environment variables\n",
    "# Ensure that AZURE_AI_LANGUAGE_KEY and AZURE_AI_LANGUAGE_ENDPOINT are set in your environment\n",
    "language_key = os.environ.get('AZURE_AI_LANGUAGE_KEY')\n",
    "language_endpoint = os.environ.get('AZURE_AI_LANGUAGE_ENDPOINT')\n",
    "\n",
    "# The name of your question answering project in Language Studio\n",
    "knowledge_base_project = \"TravelFAQ\"\n",
    "\n",
    "# There are two possible values: test, and production. \n",
    "# production is dependent on you having deployed your project from Language Studio > question answering > Deploy project.\n",
    "deployment = \"production\""
   ]
  },
  {
   "cell_type": "markdown",
   "id": "6ffa1351",
   "metadata": {},
   "source": [
    "## Create a Question Answering Client"
   ]
  },
  {
   "cell_type": "code",
   "execution_count": 5,
   "id": "72899ed4",
   "metadata": {},
   "outputs": [],
   "source": [
    "from azure.ai.language.questionanswering import QuestionAnsweringClient\n",
    "from azure.ai.language.questionanswering.models import ShortAnswerOptions\n",
    "from azure.core.credentials import AzureKeyCredential\n",
    "\n",
    "# Authenticate the client using Azure Key and Endpoint\n",
    "def authenticate_client():\n",
    "    \"\"\"\n",
    "    Authenticate the Question Answering client using Azure Key Credential.\n",
    "\n",
    "    Returns:\n",
    "        QuestionAnsweringClient: Authenticated client for Question Answering.\n",
    "    \"\"\"\n",
    "    qac_credential = AzureKeyCredential(language_key)\n",
    "    question_answering_client = QuestionAnsweringClient(\n",
    "        language_endpoint, \n",
    "        qac_credential)\n",
    "    \n",
    "    return question_answering_client\n",
    "\n",
    "# Initialize the client\n",
    "client = authenticate_client()"
   ]
  },
  {
   "cell_type": "markdown",
   "id": "7d64a72b",
   "metadata": {},
   "source": [
    "## Get Answers Function"
   ]
  },
  {
   "cell_type": "code",
   "execution_count": 3,
   "id": "cb741033",
   "metadata": {},
   "outputs": [],
   "source": [
    "def get_answers_with_project(client, question, knowledge_base_project, deployment):\n",
    "    \"\"\"\n",
    "    Retrieves answers from the Azure Custom Question Answering service for a given question.\n",
    "\n",
    "    Args:\n",
    "        client (QuestionAnsweringClient): The authenticated Question Answering client.\n",
    "        question (str): The question to query the knowledge base.\n",
    "        knowledge_base_project (str): The name of the knowledge base project in Azure Language Studio.\n",
    "        deployment (str): The deployment environment (e.g., 'test' or 'production').\n",
    "\n",
    "    Returns:\n",
    "        None: Prints the answers and their details to the console.\n",
    "    \"\"\"\n",
    "    output = client.get_answers(\n",
    "        project_name=knowledge_base_project,\n",
    "        deployment_name=deployment,\n",
    "        question=question,\n",
    "        confidence_threshold=0.10,\n",
    "        top=5,\n",
    "        short_answer_options=ShortAnswerOptions(confidence_threshold=0.7, top=1),\n",
    "    )\n",
    "\n",
    "    print(f\"Q: {question}\")\n",
    "    for idx, answer in enumerate(output.answers):\n",
    "        print(f\"Answer {idx + 1}:\")\n",
    "        print(f\"Alternate questions: {answer.questions}\")\n",
    "        print(f\"Answer Text: {answer.answer}\")\n",
    "        print(f\"Confidence: {answer.confidence:.2f}\")\n",
    "        print(f\"Source: {answer.source}\")\n",
    "\n",
    "        # Check if a short answer is available and print its details\n",
    "        if answer.short_answer:\n",
    "            short_answer = answer.short_answer\n",
    "            print(\"Short Answer:\")\n",
    "            print(f\"  Text: {short_answer.text.strip()}\")\n",
    "            print(f\"  Confidence: {short_answer.confidence:.2f}\")\n",
    "            print(f\"  Offset: {short_answer.offset}\")\n",
    "            print(f\"  Length: {short_answer.length}\")\n",
    "\n",
    "        # Display follow-up prompts if available\n",
    "        if answer.dialog and answer.dialog.prompts:\n",
    "            print(\"Follow-up Prompts:\")\n",
    "            for prompt in answer.dialog.prompts:\n",
    "                print(f\"  - {prompt.display_text}\")  # Display text of the follow-up prompt\n",
    "        print(\"-\" * 50)  # Separator for readability"
   ]
  },
  {
   "cell_type": "markdown",
   "id": "560deeab",
   "metadata": {},
   "source": [
    "## Display Answers"
   ]
  },
  {
   "cell_type": "code",
   "execution_count": 7,
   "id": "f89030ae",
   "metadata": {},
   "outputs": [
    {
     "name": "stdout",
     "output_type": "stream",
     "text": [
      "Q: What is Contoso Travel?\n",
      "Answer 1:\n",
      "Alternate questions: ['What is Contoso Travel?']\n",
      "Answer Text: Contoso Travel is a company that has been meeting the needs of business travelers since 2001. They aim to make travel as easy as possible for their clients.\n",
      "Confidence: 1.00\n",
      "Source: TravelFAQ.docx\n",
      "Follow-up Prompts:\n",
      "  - Support\n",
      "  - Contact\n",
      "--------------------------------------------------\n",
      "Answer 2:\n",
      "Alternate questions: ['What services does Contoso Travel offer?']\n",
      "Answer Text: Contoso Travel offers a variety of services including:\n",
      "\n",
      "Booking travel\n",
      "\n",
      "Managing trips\n",
      "\n",
      "Approvals for travel\n",
      "\n",
      "Travel alerts\n",
      "\n",
      "Corporate travel policies\n",
      "Confidence: 0.92\n",
      "Source: TravelFAQ.docx\n",
      "--------------------------------------------------\n",
      "Answer 3:\n",
      "Alternate questions: ['What are some popular destinations offered by Contoso Travel?']\n",
      "Answer Text: Contoso Travel offers a variety of popular destinations, including:\n",
      "\n",
      "Tokyo, Japan\n",
      "\n",
      "Sydney, Australia\n",
      "\n",
      "Paris, France\n",
      "\n",
      "Rome, Italy\n",
      "\n",
      "London, United Kingdom\n",
      "\n",
      "New York, United States\n",
      "Confidence: 0.90\n",
      "Source: TravelFAQ.docx\n",
      "--------------------------------------------------\n",
      "Answer 4:\n",
      "Alternate questions: ['What are some popular destinations offered by Contoso Travel?']\n",
      "Answer Text: Some top destinations include:\n",
      "\n",
      "Tokyo, Japan\n",
      "\n",
      "Sydney, Australia\n",
      "\n",
      "Paris, France\n",
      "\n",
      "Rome, Italy\n",
      "\n",
      "London, United Kingdom\n",
      "\n",
      "New York, United States\n",
      "Confidence: 0.80\n",
      "Source: TravelFAQ.docx\n",
      "--------------------------------------------------\n",
      "Answer 5:\n",
      "Alternate questions: ['What kind of support does Contoso Travel offer?']\n",
      "Answer Text: Contoso Travel provides support for booking travel, managing trips, travel alerts, corporate travel policies, and more. They aim to assist with any issues or questions related to your travel experience.\n",
      "Confidence: 0.65\n",
      "Source: TravelFAQ.docx\n",
      "--------------------------------------------------\n"
     ]
    }
   ],
   "source": [
    "question = \"What is Contoso Travel?\"\n",
    "get_answers_with_project(client, question, knowledge_base_project, deployment)"
   ]
  }
 ],
 "metadata": {
  "kernelspec": {
   "display_name": "Python 3",
   "language": "python",
   "name": "python3"
  },
  "language_info": {
   "codemirror_mode": {
    "name": "ipython",
    "version": 3
   },
   "file_extension": ".py",
   "mimetype": "text/x-python",
   "name": "python",
   "nbconvert_exporter": "python",
   "pygments_lexer": "ipython3",
   "version": "3.12.1"
  }
 },
 "nbformat": 4,
 "nbformat_minor": 5
}
