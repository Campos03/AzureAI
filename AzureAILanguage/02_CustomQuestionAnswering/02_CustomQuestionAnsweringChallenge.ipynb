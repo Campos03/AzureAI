{
 "cells": [
  {
   "cell_type": "markdown",
   "id": "0b4d6410",
   "metadata": {},
   "source": [
    "# Custom Question Answering Challenge\n",
    "\n",
    "1. Deploy an Azure AI Language Resource that support Custom Question Answering. Store key and endpoint to an environment file.\n",
    "2. Create a Custom Question Answering Project in the Language Studio named \"AzureServices\".\n",
    "3. Upload the Azure Services Document into the project.\n",
    "4. Add Follow up prompts to Azure SQL Database and link to appropriate Q&A pair.\n",
    "    - Azure Database for PostgreSQL\n",
    "    - Azure Database for MariaDB\n",
    "5. Test the Q&A pairs but DO not deploy the project.\n",
    "6. Display answers in Python\n",
    "    -   Lower the confident threshold to 10% and Top documents displayed to 5 to show the results\n"
   ]
  }
 ],
 "metadata": {
  "kernelspec": {
   "display_name": "Python 3",
   "language": "python",
   "name": "python3"
  },
  "language_info": {
   "codemirror_mode": {
    "name": "ipython",
    "version": 3
   },
   "file_extension": ".py",
   "mimetype": "text/x-python",
   "name": "python",
   "nbconvert_exporter": "python",
   "pygments_lexer": "ipython3",
   "version": "3.12.1"
  }
 },
 "nbformat": 4,
 "nbformat_minor": 5
}
