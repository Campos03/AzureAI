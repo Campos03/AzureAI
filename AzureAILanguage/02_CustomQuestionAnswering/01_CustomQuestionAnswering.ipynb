{
 "cells": [
  {
   "cell_type": "markdown",
   "id": "8d9b835b",
   "metadata": {},
   "source": [
    "# Custom Question Answering\n",
    "\n",
    "https://learn.microsoft.com/en-us/azure/ai-services/language-service/question-answering/overview?wt.mc_id=MVP_322781"
   ]
  },
  {
   "cell_type": "markdown",
   "id": "c21cc2cc",
   "metadata": {},
   "source": [
    "## Install Library"
   ]
  },
  {
   "cell_type": "code",
   "execution_count": 1,
   "id": "77321b14",
   "metadata": {},
   "outputs": [
    {
     "name": "stdout",
     "output_type": "stream",
     "text": [
      "Collecting azure-ai-language-questionanswering\n",
      "  Downloading azure_ai_language_questionanswering-1.1.0-py3-none-any.whl.metadata (19 kB)\n",
      "Requirement already satisfied: azure-core<2.0.0,>=1.24.0 in /home/codespace/.python/current/lib/python3.12/site-packages (from azure-ai-language-questionanswering) (1.32.0)\n",
      "Requirement already satisfied: isodate<1.0.0,>=0.6.1 in /home/codespace/.python/current/lib/python3.12/site-packages (from azure-ai-language-questionanswering) (0.7.2)\n",
      "Requirement already satisfied: requests>=2.21.0 in /home/codespace/.local/lib/python3.12/site-packages (from azure-core<2.0.0,>=1.24.0->azure-ai-language-questionanswering) (2.32.3)\n",
      "Requirement already satisfied: six>=1.11.0 in /home/codespace/.local/lib/python3.12/site-packages (from azure-core<2.0.0,>=1.24.0->azure-ai-language-questionanswering) (1.16.0)\n",
      "Requirement already satisfied: typing-extensions>=4.6.0 in /home/codespace/.python/current/lib/python3.12/site-packages (from azure-core<2.0.0,>=1.24.0->azure-ai-language-questionanswering) (4.12.2)\n",
      "Requirement already satisfied: charset-normalizer<4,>=2 in /home/codespace/.local/lib/python3.12/site-packages (from requests>=2.21.0->azure-core<2.0.0,>=1.24.0->azure-ai-language-questionanswering) (3.3.2)\n",
      "Requirement already satisfied: idna<4,>=2.5 in /home/codespace/.local/lib/python3.12/site-packages (from requests>=2.21.0->azure-core<2.0.0,>=1.24.0->azure-ai-language-questionanswering) (3.10)\n",
      "Requirement already satisfied: urllib3<3,>=1.21.1 in /home/codespace/.local/lib/python3.12/site-packages (from requests>=2.21.0->azure-core<2.0.0,>=1.24.0->azure-ai-language-questionanswering) (2.2.3)\n",
      "Requirement already satisfied: certifi>=2017.4.17 in /home/codespace/.local/lib/python3.12/site-packages (from requests>=2.21.0->azure-core<2.0.0,>=1.24.0->azure-ai-language-questionanswering) (2024.8.30)\n",
      "Downloading azure_ai_language_questionanswering-1.1.0-py3-none-any.whl (113 kB)\n",
      "Installing collected packages: azure-ai-language-questionanswering\n",
      "Successfully installed azure-ai-language-questionanswering-1.1.0\n",
      "Note: you may need to restart the kernel to use updated packages.\n"
     ]
    }
   ],
   "source": [
    "%pip install azure-ai-language-questionanswering"
   ]
  },
  {
   "cell_type": "markdown",
   "id": "5d86b43a",
   "metadata": {},
   "source": [
    "## Load Azure Configurations"
   ]
  },
  {
   "cell_type": "code",
   "execution_count": 2,
   "id": "843df002",
   "metadata": {},
   "outputs": [],
   "source": [
    "import os\n",
    "\n",
    "# Load Azure configurations from environment variables\n",
    "# Ensure that AZURE_AI_LANGUAGE_KEY and AZURE_AI_LANGUAGE_ENDPOINT are set in your environment\n",
    "language_key = os.environ.get('AZURE_AI_LANGUAGE_KEY')\n",
    "language_endpoint = os.environ.get('AZURE_AI_LANGUAGE_ENDPOINT')"
   ]
  },
  {
   "cell_type": "markdown",
   "id": "ce2e1674",
   "metadata": {},
   "source": [
    "## Create a Question Answering Client"
   ]
  },
  {
   "cell_type": "code",
   "execution_count": 4,
   "id": "29fb1ebf",
   "metadata": {},
   "outputs": [],
   "source": [
    "from azure.ai.language.questionanswering import QuestionAnsweringClient\n",
    "from azure.core.credentials import AzureKeyCredential\n",
    "\n",
    "# Authenticate the client using Azure Key and Endpoint\n",
    "def authenticate_client():\n",
    "    \"\"\"\n",
    "    Authenticate the Question Answering client using Azure Key Credential.\n",
    "\n",
    "    Returns:\n",
    "        QuestionAnsweringClient: Authenticated client for Question Answering.\n",
    "    \"\"\"\n",
    "    qac_credential = AzureKeyCredential(language_key)\n",
    "    question_answering_client = QuestionAnsweringClient(\n",
    "        language_endpoint, \n",
    "        qac_credential)\n",
    "    \n",
    "    return question_answering_client\n",
    "\n",
    "# Initialize the client\n",
    "client = authenticate_client()"
   ]
  },
  {
   "cell_type": "markdown",
   "id": "f7f30eb4",
   "metadata": {},
   "source": [
    "## Scenario 1: With a Project in the Language Studio"
   ]
  },
  {
   "cell_type": "code",
   "execution_count": 3,
   "id": "0ec7eef9",
   "metadata": {},
   "outputs": [],
   "source": [
    "# The name of your question answering project in Language Studio\n",
    "knowledge_base_project = \"Sample-project-01\"\n",
    "\n",
    "# There are two possible values: test, and production. \n",
    "# production is dependent on you having deployed your project from Language Studio > question answering > Deploy project.\n",
    "deployment = \"production\""
   ]
  },
  {
   "cell_type": "markdown",
   "id": "60e6b6bf",
   "metadata": {},
   "source": [
    "## Get Answers function"
   ]
  },
  {
   "cell_type": "code",
   "execution_count": 7,
   "id": "4a576e5c",
   "metadata": {},
   "outputs": [],
   "source": [
    "def get_answers(client, question, knowledge_base_project, deployment):\n",
    "    output = client.get_answers(\n",
    "            question = question,\n",
    "            project_name=knowledge_base_project,\n",
    "            deployment_name=deployment,\n",
    "        )\n",
    "    \n",
    "    print(output)\n",
    "    \n",
    "    print(\"Q: {}\".format(question))\n",
    "    print(\"A: {}\".format(output.answers[0].answer))"
   ]
  },
  {
   "cell_type": "code",
   "execution_count": 8,
   "id": "67b75938",
   "metadata": {},
   "outputs": [
    {
     "name": "stdout",
     "output_type": "stream",
     "text": [
      "{'additional_properties': {}, 'answers': [<azure.ai.language.questionanswering.models._models.KnowledgeBaseAnswer object at 0x76f7d82ebc20>]}\n",
      "Q: How do I setup my surface book?\n",
      "A: **Set up your Surface Book**\n",
      "\n",
      "Before you start, make sure a wireless network is available and you have the network password.\n",
      "\n",
      "If you have a  [Microsoft account,](http://windows.microsoft.com/en-us/windows-10/getstarted-microsoft-account)  use it to set up your Surface Book. A Microsoft account is an email address and password you use to sign in to other Microsoft services like Xbox, Outlook.com, OneDrive, Skype, or Windows Phone. If you don’t already have a Microsoft account, you can create one during setup.\n"
     ]
    }
   ],
   "source": [
    "question = \"How do I setup my surface book?\"\n",
    "get_answers(client, question, knowledge_base_project, deployment)"
   ]
  }
 ],
 "metadata": {
  "kernelspec": {
   "display_name": "Python 3",
   "language": "python",
   "name": "python3"
  },
  "language_info": {
   "codemirror_mode": {
    "name": "ipython",
    "version": 3
   },
   "file_extension": ".py",
   "mimetype": "text/x-python",
   "name": "python",
   "nbconvert_exporter": "python",
   "pygments_lexer": "ipython3",
   "version": "3.12.1"
  }
 },
 "nbformat": 4,
 "nbformat_minor": 5
}
