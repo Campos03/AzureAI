{
 "cells": [
  {
   "cell_type": "markdown",
   "id": "8d9b835b",
   "metadata": {},
   "source": [
    "# Custom Question Answering\n",
    "\n",
    "https://learn.microsoft.com/en-us/azure/ai-services/language-service/question-answering/overview?wt.mc_id=MVP_322781"
   ]
  },
  {
   "cell_type": "markdown",
   "id": "c21cc2cc",
   "metadata": {},
   "source": [
    "## Install Library"
   ]
  },
  {
   "cell_type": "code",
   "execution_count": null,
   "id": "77321b14",
   "metadata": {},
   "outputs": [],
   "source": [
    "%pip install azure-ai-language-questionanswering"
   ]
  },
  {
   "cell_type": "markdown",
   "id": "5d86b43a",
   "metadata": {},
   "source": [
    "## Load Azure Configurations"
   ]
  },
  {
   "cell_type": "code",
   "execution_count": null,
   "id": "843df002",
   "metadata": {},
   "outputs": [],
   "source": [
    "import os\n",
    "\n",
    "# Load Azure configurations from environment variables\n",
    "# Ensure that AZURE_AI_LANGUAGE_KEY and AZURE_AI_LANGUAGE_ENDPOINT are set in your environment\n",
    "language_key = os.environ.get('AZURE_AI_LANGUAGE_KEY')\n",
    "language_endpoint = os.environ.get('AZURE_AI_LANGUAGE_ENDPOINT')"
   ]
  },
  {
   "cell_type": "markdown",
   "id": "ce2e1674",
   "metadata": {},
   "source": [
    "## Create a Question Answering Client"
   ]
  },
  {
   "cell_type": "code",
   "execution_count": null,
   "id": "29fb1ebf",
   "metadata": {},
   "outputs": [],
   "source": [
    "from azure.ai.language.questionanswering import QuestionAnsweringClient\n",
    "from azure.ai.language.questionanswering.models import ShortAnswerOptions\n",
    "from azure.core.credentials import AzureKeyCredential\n",
    "\n",
    "# Authenticate the client using Azure Key and Endpoint\n",
    "def authenticate_client():\n",
    "    \"\"\"\n",
    "    Authenticate the Question Answering client using Azure Key Credential.\n",
    "\n",
    "    Returns:\n",
    "        QuestionAnsweringClient: Authenticated client for Question Answering.\n",
    "    \"\"\"\n",
    "    qac_credential = AzureKeyCredential(language_key)\n",
    "    question_answering_client = QuestionAnsweringClient(\n",
    "        language_endpoint, \n",
    "        qac_credential)\n",
    "    \n",
    "    return question_answering_client\n",
    "\n",
    "# Initialize the client\n",
    "client = authenticate_client()"
   ]
  },
  {
   "cell_type": "markdown",
   "id": "f7f30eb4",
   "metadata": {},
   "source": [
    "## Scenario 1: With a Project in the Language Studio\n",
    "\n",
    "Gets data from a file: https://download.microsoft.com/download/7/B/1/7B10C82E-F520-4080-8516-5CF0D803EEE0/surface-book-user-guide-EN.pdf"
   ]
  },
  {
   "cell_type": "code",
   "execution_count": null,
   "id": "0ec7eef9",
   "metadata": {},
   "outputs": [],
   "source": [
    "# The name of your question answering project in Language Studio\n",
    "knowledge_base_project = \"Sample-project-01\"\n",
    "\n",
    "# There are two possible values: test, and production. \n",
    "# production is dependent on you having deployed your project from Language Studio > question answering > Deploy project.\n",
    "deployment = \"production\""
   ]
  },
  {
   "cell_type": "markdown",
   "id": "60e6b6bf",
   "metadata": {},
   "source": [
    "## Get Answers function"
   ]
  },
  {
   "cell_type": "code",
   "execution_count": 51,
   "id": "4a576e5c",
   "metadata": {},
   "outputs": [],
   "source": [
    "def get_answers_with_project(client, question, knowledge_base_project, deployment):\n",
    "    \"\"\"\n",
    "    Retrieves answers from the Azure Custom Question Answering service for a given question.\n",
    "\n",
    "    Args:\n",
    "        client (QuestionAnsweringClient): The authenticated Question Answering client.\n",
    "        question (str): The question to query the knowledge base.\n",
    "        knowledge_base_project (str): The name of the knowledge base project in Azure Language Studio.\n",
    "        deployment (str): The deployment environment (e.g., 'test' or 'production').\n",
    "\n",
    "    Returns:\n",
    "        None: Prints the answers and their details to the console.\n",
    "    \"\"\"\n",
    "    output = client.get_answers(\n",
    "        project_name=knowledge_base_project,\n",
    "        deployment_name=deployment,\n",
    "        question=question,\n",
    "        confidence_threshold=0.65,\n",
    "        top=3,\n",
    "        short_answer_options=ShortAnswerOptions(confidence_threshold=0.7, top=1),\n",
    "    )\n",
    "\n",
    "    print(f\"Q: {question}\")\n",
    "    for idx, answer in enumerate(output.answers):\n",
    "        print(f\"Answer {idx + 1}:\")\n",
    "        print(f\"Alternate questions: {answer.questions}\")\n",
    "        print(f\"Answer Text: {answer.answer}\")\n",
    "        print(f\"Confidence: {answer.confidence:.2f}\")\n",
    "        print(f\"Source: {answer.source}\")\n",
    "\n",
    "        # Check if a short answer is available and print its details\n",
    "        if answer.short_answer:\n",
    "            short_answer = answer.short_answer\n",
    "            print(\"Short Answer:\")\n",
    "            print(f\"  Text: {short_answer.text.strip()}\")\n",
    "            print(f\"  Confidence: {short_answer.confidence:.2f}\")\n",
    "            print(f\"  Offset: {short_answer.offset}\")\n",
    "            print(f\"  Length: {short_answer.length}\")\n",
    "\n",
    "        # Display follow-up prompts if available\n",
    "        if answer.dialog and answer.dialog.prompts:\n",
    "            print(\"Follow-up Prompts:\")\n",
    "            for prompt in answer.dialog.prompts:\n",
    "                print(f\"  - {prompt.display_text}\")  # Display text of the follow-up prompt\n",
    "        print(\"-\" * 50)  # Separator for readability"
   ]
  },
  {
   "cell_type": "code",
   "execution_count": 53,
   "id": "67b75938",
   "metadata": {},
   "outputs": [
    {
     "name": "stdout",
     "output_type": "stream",
     "text": [
      "Q: How do I setup my surface book?\n",
      "Answer 1:\n",
      "Alternate questions: ['Set up your Surface Book', 'What are the steps to set up a new Surface Book?', 'How do I configure my Surface Book for the first time?']\n",
      "Answer Text: **Set up your Surface Book**\n",
      "\n",
      "Before you start, make sure a wireless network is available and you have the network password.\n",
      "\n",
      "If you have a  [Microsoft account,](http://windows.microsoft.com/en-us/windows-10/getstarted-microsoft-account)  use it to set up your Surface Book. A Microsoft account is an email address and password you use to sign in to other Microsoft services like Xbox, Outlook.com, OneDrive, Skype, or Windows Phone. If you don’t already have a Microsoft account, you can create one during setup.\n",
      "Confidence: 0.91\n",
      "Source: https://download.microsoft.com/download/7/B/1/7B10C82E-F520-4080-8516-5CF0D803EEE0/surface-book-user-guide-EN.pdf\n",
      "Follow-up Prompts:\n",
      "  - Charge your Surface Book\n",
      "  - Set up Windows\n",
      "  - Choose a mode to work in\n",
      "--------------------------------------------------\n"
     ]
    }
   ],
   "source": [
    "question = \"How do I setup my surface book?\"\n",
    "get_answers_with_project(client, question, knowledge_base_project, deployment)"
   ]
  },
  {
   "cell_type": "markdown",
   "id": "540489dd",
   "metadata": {},
   "source": [
    "## Scenario 2: Query text documents without a project\n",
    "\n",
    "You do not have a project but you have all the documents in text."
   ]
  },
  {
   "cell_type": "code",
   "execution_count": 30,
   "id": "5df1fc3e",
   "metadata": {},
   "outputs": [],
   "source": [
    "text_documents = [\n",
    "    \"\"\"\n",
    "    Surface Book Features\n",
    "    Power button: Press the power button to turn your Surface Book on. You can also use the power button to put your Surface Book to sleep and wake it when you’re ready to start working again. \n",
    "    Clipboard: Detach the thin, light Clipboard from the keyboard for mobile computing and easy presentation in tablet mode. \n",
    "    Use the 13.5” full HD display, with its 3:2 aspect ratio and 3000 x 2000 resolution display, to watch HD movies, browse the web, and use your favorite apps.\n",
    "    \"\"\",\n",
    "    \"\"\"\n",
    "    Set up your Surface Book\n",
    "    Before you start, make sure a wireless network is available and you have the network password. \n",
    "    If you have a Microsoft account, use it to set up your Surface Book. \n",
    "    A Microsoft account is an email address and password you use to sign in to other Microsoft services like Xbox, Outlook.com, OneDrive, Skype, or Windows Phone. \n",
    "    If you don’t already have a Microsoft account, you can create one during setup.\n",
    "    \"\"\",\n",
    "    \"\"\"\n",
    "    Charge your Surface Book\n",
    "    1. Connect the two parts of the power cord.\n",
    "    2. Connect the power cord securely to the charging port on your Surface Book. A light appears at the end of the connector when your Surface is getting power.\n",
    "    3. Plug the power supply into an electrical outlet.\n",
    "    \"\"\",\n",
    "    \"\"\"\n",
    "    Power and charging\n",
    "    Surface Book has two batteries—one in the keyboard and one in the Clipboard. \n",
    "    It takes two to four hours to charge Surface Book fully from an empty state. \n",
    "    It can take longer if you’re using your Surface Book for power-intensive activities like gaming or video streaming while you’re charging it. \n",
    "    You can use the USB port on your power supply to charge other devices, like a phone, while your Surface Book charges.\n",
    "    \"\"\",\n",
    "    \"\"\"\n",
    "    Check the battery level\n",
    "    You can check the battery level from the lock screen or on the desktop.\n",
    "    Lock screen: When you wake your Surface Book, the battery status appears in the lower-right corner of the lock screen.\n",
    "    Desktop taskbar: On the desktop, select the battery status icon on the right side of the taskbar. \n",
    "    The battery status pane shows the charging level for both batteries. When your Surface Book is fully charged, it should last up to 10 hours for web browsing.\n",
    "    \"\"\",\n",
    "]"
   ]
  },
  {
   "cell_type": "markdown",
   "id": "65a709b8",
   "metadata": {},
   "source": [
    "## Get Answer From Text Function"
   ]
  },
  {
   "cell_type": "code",
   "execution_count": 39,
   "id": "fecb59bd",
   "metadata": {},
   "outputs": [],
   "source": [
    "from azure.ai.language.questionanswering import models as qna\n",
    "\n",
    "def get_answers_no_project(client, question, text_documents):\n",
    "    \"\"\"\n",
    "    Retrieves answers from the Azure Custom Question Answering service for a given question\n",
    "    using a set of text documents instead of a pre-defined project.\n",
    "\n",
    "    Args:\n",
    "        client (QuestionAnsweringClient): The authenticated Question Answering client.\n",
    "        question (str): The question to query the text documents.\n",
    "        text_documents (list of str): A list of text documents to search for answers.\n",
    "\n",
    "    Returns:\n",
    "        None: Prints the answers and their details to the console.\n",
    "    \"\"\"\n",
    "    # Create an input object for the Question Answering service\n",
    "    # This specifies the question and the text documents to search\n",
    "    input = qna.AnswersFromTextOptions(\n",
    "        question=question,\n",
    "        text_documents=text_documents\n",
    "    )\n",
    "\n",
    "    # Call the Question Answering service to get answers from the text documents\n",
    "    output = client.get_answers_from_text(input)\n",
    "\n",
    "    # Print the question being asked\n",
    "    print(f\"Q: {question}\")\n",
    "    \n",
    "    # Iterate through the answers returned by the service\n",
    "    for idx, answer in enumerate(output.answers):\n",
    "        # Print the answer details\n",
    "        print(f\"Answer {idx + 1}:\")\n",
    "        print(f\"Answer Text: {answer.answer}\")  # Full answer text\n",
    "        print(f\"Confidence: {answer.confidence:.2f}\")  # Confidence score"
   ]
  },
  {
   "cell_type": "code",
   "execution_count": 40,
   "id": "41641624",
   "metadata": {},
   "outputs": [
    {
     "name": "stdout",
     "output_type": "stream",
     "text": [
      "Q: How many inches is the display?\n",
      "Answer 1:\n",
      "Answer Text: Use the 13.5” full HD display, with its 3:2 aspect ratio and 3000 x 2000 resolution display, to watch HD movies, browse the web, and use your favorite apps.\n",
      "Confidence: 0.58\n",
      "Answer 2:\n",
      "Answer Text: You can also use the power button to put your Surface Book to sleep and wake it when you’re ready to start working again. \n",
      "    Clipboard: Detach the thin, light Clipboard from the keyboard for mobile computing and easy presentation in tablet mode. \n",
      "    Use the 13.5” full HD display, with its 3:2 aspect ratio and 3000 x 2000 resolution display, to watch HD movies, browse the web, and use your favorite apps.\n",
      "Confidence: 0.48\n",
      "Answer 3:\n",
      "Answer Text: Clipboard: Detach the thin, light Clipboard from the keyboard for mobile computing and easy presentation in tablet mode. \n",
      "    Use the 13.5” full HD display, with its 3:2 aspect ratio and 3000 x 2000 resolution display, to watch HD movies, browse the web, and use your favorite apps.\n",
      "Confidence: 0.42\n"
     ]
    }
   ],
   "source": [
    "question = \"How many inches is the display?\"\n",
    "get_answers_no_project(client, question, text_documents)"
   ]
  }
 ],
 "metadata": {
  "kernelspec": {
   "display_name": "Python 3",
   "language": "python",
   "name": "python3"
  },
  "language_info": {
   "codemirror_mode": {
    "name": "ipython",
    "version": 3
   },
   "file_extension": ".py",
   "mimetype": "text/x-python",
   "name": "python",
   "nbconvert_exporter": "python",
   "pygments_lexer": "ipython3",
   "version": "3.12.1"
  }
 },
 "nbformat": 4,
 "nbformat_minor": 5
}
