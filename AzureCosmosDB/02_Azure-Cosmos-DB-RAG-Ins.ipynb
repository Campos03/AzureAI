{
 "cells": [
  {
   "cell_type": "markdown",
   "metadata": {},
   "source": [
    "# Build a RAG solution using Azure Cosmos DB Challenge - Instructions\n",
    "\n",
    "Steps in this notebook:\n",
    "1. Setup Azure Cosmos DB - database, container, policies (vector embedding, full text search, and indexing). \n",
    "- Name the database recipes-database and recipes-container\n",
    "- Vector embeddings must be 1536 in dimension with field called contentVector. \n",
    "- Use the cosine distance function and quantizedFlat type.\n",
    "- Enable full text search in the name and description.\n",
    "2. Create embeddings for recipes.json. \n",
    "- Combined all strings into one variable and compute its embedding.\n",
    "- Use text embedding ada 2\n",
    "3. Upload data to the container\n",
    "- Inspect the data in the container\n",
    "4. Send a query to the search engine to check results\n",
    "- Perform a hybrid search with the contentVector and description field.\n",
    "5. Send query results to a language model to generate response\n",
    "Note: Perform vector search for this exercise if your database does not support hybrid search."
   ]
  }
 ],
 "metadata": {
  "language_info": {
   "name": "python"
  }
 },
 "nbformat": 4,
 "nbformat_minor": 2
}
