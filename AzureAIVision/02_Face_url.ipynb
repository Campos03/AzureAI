{
 "cells": [
  {
   "cell_type": "code",
   "execution_count": null,
   "metadata": {},
   "outputs": [],
   "source": [
    "%pip install --upgrade azure-ai-vision-face"
   ]
  },
  {
   "cell_type": "markdown",
   "metadata": {},
   "source": [
    "## Load Azure Configuration"
   ]
  },
  {
   "cell_type": "code",
   "execution_count": 1,
   "metadata": {},
   "outputs": [],
   "source": [
    "import os\n",
    "azure_face_endpoint = os.environ[\"AZURE_FACE_ENDPOINT\"]\n",
    "azure_face_key = os.environ[\"AZURE_FACE_KEY\"]"
   ]
  },
  {
   "cell_type": "markdown",
   "metadata": {},
   "source": [
    "## Create Clients"
   ]
  },
  {
   "cell_type": "code",
   "execution_count": 2,
   "metadata": {},
   "outputs": [],
   "source": [
    "import os\n",
    "import time\n",
    "import uuid\n",
    "\n",
    "from azure.core.credentials import AzureKeyCredential\n",
    "from azure.ai.vision.face import FaceAdministrationClient, FaceClient\n",
    "from azure.ai.vision.face.models import FaceAttributeTypeRecognition04, FaceDetectionModel, FaceRecognitionModel, QualityForRecognition\n",
    "\n",
    "face_admin_client = FaceAdministrationClient(endpoint=azure_face_endpoint, credential=AzureKeyCredential(azure_face_key))\n",
    "face_client = FaceClient(endpoint=azure_face_endpoint, credential=AzureKeyCredential(azure_face_key))"
   ]
  },
  {
   "cell_type": "markdown",
   "metadata": {},
   "source": [
    "## Create Large Person Group"
   ]
  },
  {
   "cell_type": "code",
   "execution_count": 3,
   "metadata": {},
   "outputs": [
    {
     "name": "stdout",
     "output_type": "stream",
     "text": [
      "Person group: 2d8da44d-21c9-4363-b121-0a29c7e146a1\n"
     ]
    }
   ],
   "source": [
    "# Used in the Large Person Group Operations and Delete Large Person Group examples.\n",
    "# LARGE_PERSON_GROUP_ID should be all lowercase and alphanumeric. For example, 'mygroupname' (dashes are OK).\n",
    "LARGE_PERSON_GROUP_ID = str(uuid.uuid4())  # assign a random ID (or name it anything)\n",
    "\n",
    "# Create a Large Person Group\n",
    "print(\"Person group:\", LARGE_PERSON_GROUP_ID)\n",
    "face_admin_client.large_person_group.create(\n",
    "    large_person_group_id=LARGE_PERSON_GROUP_ID,\n",
    "    name=LARGE_PERSON_GROUP_ID,\n",
    "    recognition_model=FaceRecognitionModel.RECOGNITION04,\n",
    ")"
   ]
  },
  {
   "cell_type": "markdown",
   "metadata": {},
   "source": [
    "## Add Persons to Groups"
   ]
  },
  {
   "cell_type": "code",
   "execution_count": 4,
   "metadata": {},
   "outputs": [
    {
     "name": "stdout",
     "output_type": "stream",
     "text": [
      "Face 129a00db-d9a0-4473-9213-4acec79df276 added to person cbe701ec-d4cb-4b79-a6b6-48a749ee7b60\n",
      "Face e4f71b33-73d8-41b4-91bc-5ff3b7899f05 added to person cbe701ec-d4cb-4b79-a6b6-48a749ee7b60\n"
     ]
    }
   ],
   "source": [
    "# Define woman friend\n",
    "woman = face_admin_client.large_person_group.create_person(\n",
    "    large_person_group_id=LARGE_PERSON_GROUP_ID,\n",
    "    name=\"Woman\",\n",
    ")\n",
    "\n",
    "# Images\n",
    "woman_images = [\n",
    "    \"https://raw.githubusercontent.com/Azure-Samples/cognitive-services-sample-data-files/master/Face/images/Family1-Mom1.jpg\",\n",
    "    \"https://raw.githubusercontent.com/Azure-Samples/cognitive-services-sample-data-files/master/Face/images/Family1-Mom2.jpg\",\n",
    "]\n",
    "\n",
    "for image in woman_images:\n",
    "    # Check if the image is of sufficient quality for recognition.\n",
    "    detected_faces = face_client.detect_from_url(\n",
    "        url=image,\n",
    "        detection_model=FaceDetectionModel.DETECTION03,\n",
    "        recognition_model=FaceRecognitionModel.RECOGNITION04,\n",
    "        return_face_id=True,\n",
    "        return_face_attributes=[FaceAttributeTypeRecognition04.QUALITY_FOR_RECOGNITION],\n",
    "    )\n",
    "\n",
    "    # Ensure only one face is detected and it has high quality for recognition\n",
    "    if len(detected_faces) == 1 and detected_faces[0].face_attributes.quality_for_recognition == QualityForRecognition.HIGH:\n",
    "        face_admin_client.large_person_group.add_face_from_url(\n",
    "            large_person_group_id=LARGE_PERSON_GROUP_ID,\n",
    "            person_id=woman.person_id,\n",
    "            url=image,\n",
    "            detection_model=FaceDetectionModel.DETECTION03,\n",
    "        )\n",
    "        print(f\"Face {detected_faces[0].face_id} added to person {woman.person_id}\")\n",
    "\n"
   ]
  },
  {
   "cell_type": "code",
   "execution_count": 5,
   "metadata": {},
   "outputs": [
    {
     "name": "stdout",
     "output_type": "stream",
     "text": [
      "Face adc17767-a288-4afd-842b-34dcb36504ca added to person 2647a3d6-77f0-4ad8-b216-6137ffe84d3d\n",
      "Face 24263342-386d-44f4-9630-1286bde83ac8 added to person 2647a3d6-77f0-4ad8-b216-6137ffe84d3d\n"
     ]
    }
   ],
   "source": [
    "# Define man friend\n",
    "man = face_admin_client.large_person_group.create_person(\n",
    "    large_person_group_id=LARGE_PERSON_GROUP_ID,\n",
    "    name=\"Man\",\n",
    ")\n",
    "\n",
    "man_images = [\n",
    "    \"https://raw.githubusercontent.com/Azure-Samples/cognitive-services-sample-data-files/master/Face/images/Family1-Dad1.jpg\",\n",
    "    \"https://raw.githubusercontent.com/Azure-Samples/cognitive-services-sample-data-files/master/Face/images/Family1-Dad2.jpg\",\n",
    "]\n",
    "\n",
    "for image in man_images:\n",
    "    # Check if the image is of sufficient quality for recognition.\n",
    "    detected_faces = face_client.detect_from_url(\n",
    "        url=image,\n",
    "        detection_model=FaceDetectionModel.DETECTION03,\n",
    "        recognition_model=FaceRecognitionModel.RECOGNITION04,\n",
    "        return_face_id=True,\n",
    "        return_face_attributes=[FaceAttributeTypeRecognition04.QUALITY_FOR_RECOGNITION],\n",
    "    )\n",
    "\n",
    "    # Ensure only one face is detected and it has high quality for recognition\n",
    "    if len(detected_faces) == 1 and detected_faces[0].face_attributes.quality_for_recognition == QualityForRecognition.HIGH:\n",
    "        face_admin_client.large_person_group.add_face_from_url(\n",
    "            large_person_group_id=LARGE_PERSON_GROUP_ID,\n",
    "            person_id=man.person_id,\n",
    "            url=image,\n",
    "            detection_model=FaceDetectionModel.DETECTION03,\n",
    "        )\n",
    "        print(f\"Face {detected_faces[0].face_id} added to person {man.person_id}\")"
   ]
  },
  {
   "cell_type": "code",
   "execution_count": 6,
   "metadata": {},
   "outputs": [
    {
     "name": "stdout",
     "output_type": "stream",
     "text": [
      "Face e00cd36c-55e5-4912-9f37-8fefdfbad5e1 added to person 0f41ed5c-48f8-47e1-a562-76e72be74c35\n",
      "Face 522fd039-1301-4a68-82f9-c8a682d5d72f added to person 0f41ed5c-48f8-47e1-a562-76e72be74c35\n"
     ]
    }
   ],
   "source": [
    "# Define child friend\n",
    "child = face_admin_client.large_person_group.create_person(\n",
    "    large_person_group_id=LARGE_PERSON_GROUP_ID,\n",
    "    name=\"Child\",\n",
    ")\n",
    "\n",
    "child_images = [\n",
    "    \"https://raw.githubusercontent.com/Azure-Samples/cognitive-services-sample-data-files/master/Face/images/Family1-Son1.jpg\",\n",
    "    \"https://raw.githubusercontent.com/Azure-Samples/cognitive-services-sample-data-files/master/Face/images/Family1-Son2.jpg\",\n",
    "]\n",
    "\n",
    "for image in child_images:\n",
    "    # Check if the image is of sufficient quality for recognition.\n",
    "    detected_faces = face_client.detect_from_url(\n",
    "        url=image,\n",
    "        detection_model=FaceDetectionModel.DETECTION03,\n",
    "        recognition_model=FaceRecognitionModel.RECOGNITION04,\n",
    "        return_face_id=True,\n",
    "        return_face_attributes=[FaceAttributeTypeRecognition04.QUALITY_FOR_RECOGNITION],\n",
    "    )\n",
    "\n",
    "    # Ensure only one face is detected and it has high quality for recognition\n",
    "    if len(detected_faces) == 1 and detected_faces[0].face_attributes.quality_for_recognition == QualityForRecognition.HIGH:\n",
    "        face_admin_client.large_person_group.add_face_from_url(\n",
    "            large_person_group_id=LARGE_PERSON_GROUP_ID,\n",
    "            person_id=child.person_id,\n",
    "            url=image,\n",
    "            detection_model=FaceDetectionModel.DETECTION03,\n",
    "        )\n",
    "        print(f\"Face {detected_faces[0].face_id} added to person {child.person_id}\")"
   ]
  },
  {
   "cell_type": "markdown",
   "metadata": {},
   "source": [
    "## Train the Large Person Group"
   ]
  },
  {
   "cell_type": "code",
   "execution_count": 7,
   "metadata": {},
   "outputs": [
    {
     "name": "stdout",
     "output_type": "stream",
     "text": [
      "Train the person group a176746b-5923-471b-b1e2-3a4ebd431efe\n",
      "The person group a176746b-5923-471b-b1e2-3a4ebd431efe is trained successfully.\n"
     ]
    }
   ],
   "source": [
    "# Train the large person group and set the polling interval to 5s\n",
    "print(f\"Train the person group {LARGE_PERSON_GROUP_ID}\")\n",
    "poller = face_admin_client.large_person_group.begin_train(\n",
    "    large_person_group_id=LARGE_PERSON_GROUP_ID,\n",
    "    polling_interval=5,\n",
    ")\n",
    "\n",
    "poller.wait()\n",
    "print(f\"The person group {LARGE_PERSON_GROUP_ID} is trained successfully.\")"
   ]
  },
  {
   "cell_type": "markdown",
   "metadata": {},
   "source": [
    "## Identify Faces in Images"
   ]
  },
  {
   "cell_type": "code",
   "execution_count": 8,
   "metadata": {},
   "outputs": [
    {
     "name": "stdout",
     "output_type": "stream",
     "text": [
      "Identifying faces in image\n",
      "Person is identified for face ID d37e95fe-ea06-4deb-b14c-26fe5534807b in image, with a confidence of 0.96806.\n",
      "Person Identified: 2647a3d6-77f0-4ad8-b216-6137ffe84d3d. Verification result: True. confidence: 0.96806\n",
      "Person is identified for face ID 798f5600-fa3d-4930-9a61-152f894952d6 in image, with a confidence of 0.969.\n",
      "Person Identified: cbe701ec-d4cb-4b79-a6b6-48a749ee7b60. Verification result: True. confidence: 0.969\n",
      "No person identified for face ID 8aa86040-ece4-49d4-8334-c963490ee255 in image.\n",
      "Person is identified for face ID 1f4c760d-d3dc-4b79-adc3-7904b3b4d839 in image, with a confidence of 0.92797.\n",
      "Person Identified: 0f41ed5c-48f8-47e1-a562-76e72be74c35. Verification result: True. confidence: 0.92797\n"
     ]
    }
   ],
   "source": [
    "# Group image for testing against\n",
    "test_image = \"https://raw.githubusercontent.com/Azure-Samples/cognitive-services-sample-data-files/master/Face/images/identification1.jpg\"\n",
    "\n",
    "# Detect faces\n",
    "face_ids = []\n",
    "# We use detection model 03 to get better performance, recognition model 04 to support quality for recognition attribute.\n",
    "faces = face_client.detect_from_url(\n",
    "    url=test_image,\n",
    "    detection_model=FaceDetectionModel.DETECTION03,\n",
    "    recognition_model=FaceRecognitionModel.RECOGNITION04,\n",
    "    return_face_id=True,\n",
    "    return_face_attributes=[FaceAttributeTypeRecognition04.QUALITY_FOR_RECOGNITION],\n",
    ")\n",
    "\n",
    "for face in faces:\n",
    "    # Only take the face if it is of sufficient quality.\n",
    "    if face.face_attributes.quality_for_recognition != QualityForRecognition.LOW:\n",
    "        face_ids.append(face.face_id)\n",
    "\n",
    "# Identify faces\n",
    "identify_results = face_client.identify_from_large_person_group(\n",
    "    face_ids=face_ids,\n",
    "    large_person_group_id=LARGE_PERSON_GROUP_ID,\n",
    ")\n",
    "print(\"Identifying faces in image\")\n",
    "for identify_result in identify_results:\n",
    "    if identify_result.candidates:\n",
    "        print(f\"Person is identified for face ID {identify_result.face_id} in image, with a confidence of \"\n",
    "              f\"{identify_result.candidates[0].confidence}.\")  # Get topmost confidence score\n",
    "\n",
    "    # Verify faces\n",
    "        verify_result = face_client.verify_from_large_person_group(\n",
    "            face_id=identify_result.face_id,\n",
    "            large_person_group_id=LARGE_PERSON_GROUP_ID,\n",
    "            person_id=identify_result.candidates[0].person_id,\n",
    "        )\n",
    "        print(f\"Person Identified: {identify_result.candidates[0].person_id}. Verification result: {verify_result.is_identical}. confidence: {verify_result.confidence}\")\n",
    "    else:\n",
    "        print(f\"No person identified for face ID {identify_result.face_id} in image.\")\n"
   ]
  },
  {
   "cell_type": "markdown",
   "metadata": {},
   "source": [
    "## Clean up resources"
   ]
  },
  {
   "cell_type": "code",
   "execution_count": 9,
   "metadata": {},
   "outputs": [
    {
     "name": "stdout",
     "output_type": "stream",
     "text": [
      "The person group a176746b-5923-471b-b1e2-3a4ebd431efe is deleted.\n"
     ]
    }
   ],
   "source": [
    "# Delete the large person group\n",
    "face_admin_client.large_person_group.delete(LARGE_PERSON_GROUP_ID)\n",
    "print(f\"The person group {LARGE_PERSON_GROUP_ID} is deleted.\")"
   ]
  }
 ],
 "metadata": {
  "kernelspec": {
   "display_name": "Python 3",
   "language": "python",
   "name": "python3"
  },
  "language_info": {
   "codemirror_mode": {
    "name": "ipython",
    "version": 3
   },
   "file_extension": ".py",
   "mimetype": "text/x-python",
   "name": "python",
   "nbconvert_exporter": "python",
   "pygments_lexer": "ipython3",
   "version": "3.12.1"
  }
 },
 "nbformat": 4,
 "nbformat_minor": 2
}
