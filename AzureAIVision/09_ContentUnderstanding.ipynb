{
 "cells": [
  {
   "cell_type": "markdown",
   "metadata": {},
   "source": [
    "# Azure AI Content Understanding\n",
    "\n",
    "Azure AI Content Understanding is a new generative AI-based Azure AI Service that analyzes files of any modality (documents, images, videos, and audio) and extracts structured output in user-defined field formats.\n",
    "\n",
    "Requirements:\n",
    "1. Azure AI Services\n",
    "\n",
    "Note: Check supported regions: https://learn.microsoft.com/en-us/azure/ai-services/content-understanding/language-region-support?tabs=document#region-support"
   ]
  },
  {
   "cell_type": "markdown",
   "metadata": {},
   "source": [
    "## Load Azure Configuration"
   ]
  },
  {
   "cell_type": "code",
   "execution_count": 1,
   "metadata": {},
   "outputs": [],
   "source": [
    "import os\n",
    "\n",
    "azure_ai_services_endpoint = os.environ[\"AZURE_AI_SERVICES_ENDPOINT\"]\n",
    "azure_ai_services_key = os.environ[\"AZURE_AI_SERVICES_KEY\"]"
   ]
  },
  {
   "cell_type": "markdown",
   "metadata": {},
   "source": [
    "## Create a Custom Analyzer"
   ]
  },
  {
   "cell_type": "code",
   "execution_count": 2,
   "metadata": {},
   "outputs": [],
   "source": [
    "import requests\n",
    "import json\n",
    "\n",
    "# Create a new analyzer\n",
    "def create_analyzer(analyzer_id, request_body):\n",
    "    endpoint = azure_ai_services_endpoint\n",
    "    key = azure_ai_services_key\n",
    "    \n",
    "    url = f\"{endpoint}/contentunderstanding/analyzers/{analyzer_id}?api-version=2024-12-01-preview\"\n",
    "    headers = {\n",
    "        \"Ocp-Apim-Subscription-Key\": key,\n",
    "        \"Content-Type\": \"application/json\"\n",
    "    }\n",
    "    \n",
    "    response = requests.put(url, headers=headers, data=json.dumps(request_body))\n",
    "    # The 201 (Created) response includes an Operation-Location header containing a URL that you can use to track the status of this asynchronous creation operation.\n",
    "    operation_location = response.headers.get(\"Operation-Location\")\n",
    "    return operation_location"
   ]
  },
  {
   "cell_type": "code",
   "execution_count": 117,
   "metadata": {},
   "outputs": [
    {
     "name": "stdout",
     "output_type": "stream",
     "text": [
      "https://ziggyazureaiserviceswestus.services.ai.azure.com/contentunderstanding/analyzers/ImageAnalyzer/operations/15b87636-3c23-499e-80a9-20dad24e4b07?api-version=2024-12-01-preview\n"
     ]
    }
   ],
   "source": [
    "ANALYZER_NAME = \"ImageAnalyzer\"\n",
    "\n",
    "request_body = {\n",
    "    \"description\": \"Sample Image analyzer\",\n",
    "    \"scenario\": \"image\",\n",
    "    \"fieldSchema\": {\n",
    "        \"fields\": {\n",
    "            \"title\": {\n",
    "                \"type\": \"string\"\n",
    "            },\n",
    "            \"imagedescription\": {\n",
    "                \"type\": \"string\",\n",
    "                \"method\": \"generate\"\n",
    "            },\n",
    "            \"imagecategory\": {\n",
    "                \"type\": \"string\",\n",
    "                \"method\": \"classify\",\n",
    "                \"enum\": [\"car\", \"bus\", \"bicycle\"]\n",
    "            }\n",
    "        }\n",
    "    }\n",
    "}\n",
    "\n",
    "custom_analyzer_operation_location = create_analyzer(ANALYZER_NAME, request_body)\n",
    "\n",
    "print(custom_analyzer_operation_location)"
   ]
  },
  {
   "cell_type": "markdown",
   "metadata": {},
   "source": [
    "## Track Status of Asynchronous Create Operation"
   ]
  },
  {
   "cell_type": "code",
   "execution_count": 3,
   "metadata": {},
   "outputs": [],
   "source": [
    "import requests\n",
    "\n",
    "def get_analyzer_operation_status(url):\n",
    "    \n",
    "    key = azure_ai_services_key\n",
    "    \n",
    "    headers = {\n",
    "        \"Ocp-Apim-Subscription-Key\": key\n",
    "    }\n",
    "    \n",
    "    response = requests.get(url, headers=headers)\n",
    "    \n",
    "    if response.status_code == 200:\n",
    "        print(\"Operation status retrieved successfully.\")\n",
    "        print(response.json())\n",
    "    else:\n",
    "        print(f\"Failed to retrieve operation status. Status code: {response.status_code}, Response: {response.text}\")"
   ]
  },
  {
   "cell_type": "code",
   "execution_count": 119,
   "metadata": {},
   "outputs": [
    {
     "name": "stdout",
     "output_type": "stream",
     "text": [
      "Operation status retrieved successfully.\n",
      "{'id': '15b87636-3c23-499e-80a9-20dad24e4b07', 'status': 'Succeeded', 'result': {'analyzerId': 'ImageAnalyzer', 'description': 'Sample Image analyzer', 'createdAt': '2025-03-15T15:36:26Z', 'lastModifiedAt': '2025-03-15T15:36:26Z', 'config': {'returnDetails': False, 'disableContentFiltering': False}, 'fieldSchema': {'fields': {'title': {'type': 'string'}, 'imagedescription': {'type': 'string', 'method': 'generate'}, 'imagecategory': {'type': 'string', 'method': 'classify', 'enum': ['car', 'bus', 'bicycle']}}}, 'warnings': [], 'status': 'ready', 'scenario': 'image'}}\n"
     ]
    }
   ],
   "source": [
    "response = get_analyzer_operation_status(custom_analyzer_operation_location)"
   ]
  },
  {
   "cell_type": "markdown",
   "metadata": {},
   "source": [
    "## Analyze a file"
   ]
  },
  {
   "cell_type": "code",
   "execution_count": 4,
   "metadata": {},
   "outputs": [],
   "source": [
    "import requests\n",
    "\n",
    "def analyze_file(analyzer_id, file_url):\n",
    "    \n",
    "    endpoint = azure_ai_services_endpoint\n",
    "    key = azure_ai_services_key\n",
    "\n",
    "    api_version = \"2024-12-01-preview\"\n",
    "    url = f\"{endpoint}/contentunderstanding/analyzers/{analyzer_id}:analyze?api-version={api_version}\"\n",
    "    headers = {\n",
    "        \"Ocp-Apim-Subscription-Key\": key,\n",
    "        \"Content-Type\": \"application/json\"\n",
    "    }\n",
    "    data = {\n",
    "        \"url\": file_url\n",
    "    }\n",
    "\n",
    "    response = requests.post(url, headers=headers, json=data)\n",
    "    \n",
    "    operation_location = response.headers.get(\"Operation-Location\")\n",
    "    # print(f\"Operation-Location: {operation_location}\")\n",
    "    return operation_location\n"
   ]
  },
  {
   "cell_type": "code",
   "execution_count": 121,
   "metadata": {},
   "outputs": [
    {
     "name": "stdout",
     "output_type": "stream",
     "text": [
      "https://ziggyazureaiserviceswestus.services.ai.azure.com/contentunderstanding/analyzers/ImageAnalyzer/results/7bc3aa9b-38c9-49ed-b165-9fb8d530264f?api-version=2024-12-01-preview\n"
     ]
    }
   ],
   "source": [
    "analyze_file_operation_location = analyze_file(ANALYZER_NAME, \"https://ziggystorage01.blob.core.windows.net/images/bus1.jpeg\")\n",
    "print(analyze_file_operation_location)"
   ]
  },
  {
   "cell_type": "markdown",
   "metadata": {},
   "source": [
    "## Track Status of Analysis"
   ]
  },
  {
   "cell_type": "code",
   "execution_count": 5,
   "metadata": {},
   "outputs": [],
   "source": [
    "import requests\n",
    "\n",
    "def analyze_file_track_status(url):\n",
    "    key = azure_ai_services_key\n",
    "\n",
    "    headers = {\n",
    "        \"Ocp-Apim-Subscription-Key\": key,\n",
    "        \"Content-Type\": \"application/json\"\n",
    "    }\n",
    "\n",
    "    response = requests.get(url, headers=headers)\n",
    "    \n",
    "    if response.status_code == 200:\n",
    "        response_json = response.json()\n",
    "        status = response_json.get(\"status\")\n",
    "        if status == \"Succeeded\":\n",
    "            return response_json\n",
    "        else:\n",
    "            return status\n",
    "    else:\n",
    "        response.raise_for_status()"
   ]
  },
  {
   "cell_type": "code",
   "execution_count": 124,
   "metadata": {},
   "outputs": [
    {
     "name": "stdout",
     "output_type": "stream",
     "text": [
      "Title: Yellow Bus\n",
      "Image Description: The image shows a yellow bus with a modern design. It has a large windshield and side windows, providing ample visibility for passengers. The bus is positioned at an angle, showcasing its front and side. It has a sleek, aerodynamic shape with a smooth, rounded front and a rectangular body. The bus is likely used for public transportation, given its size and design.\n",
      "Image Category: bus\n"
     ]
    }
   ],
   "source": [
    "result = analyze_file_track_status(analyze_file_operation_location)\n",
    "\n",
    "if isinstance(result, dict) and result.get(\"status\") == \"Succeeded\":\n",
    "    contents = result.get(\"result\", {}).get(\"contents\", [])\n",
    "    if contents:\n",
    "        fields = contents[0].get(\"fields\", {})\n",
    "        image_description = fields.get(\"imagedescription\", {}).get(\"valueString\")\n",
    "        image_category = fields.get(\"imagecategory\", {}).get(\"valueString\")\n",
    "        title = fields.get(\"title\", {}).get(\"valueString\")\n",
    "        \n",
    "        print(f\"Title: {title}\")\n",
    "        print(f\"Image Description: {image_description}\")\n",
    "        print(f\"Image Category: {image_category}\")\n",
    "else:\n",
    "    print(result)"
   ]
  },
  {
   "cell_type": "markdown",
   "metadata": {},
   "source": [
    "## Delete Analyzer"
   ]
  },
  {
   "cell_type": "code",
   "execution_count": 6,
   "metadata": {},
   "outputs": [],
   "source": [
    "import requests\n",
    "\n",
    "def delete_analyzer(analyzer_id):\n",
    "    endpoint = azure_ai_services_endpoint\n",
    "    key = azure_ai_services_key\n",
    "\n",
    "    api_version = \"2024-12-01-preview\"\n",
    "    url = f\"{endpoint}/contentunderstanding/analyzers/{analyzer_id}?api-version={api_version}\"\n",
    "    \n",
    "    headers = {\n",
    "        \"Ocp-Apim-Subscription-Key\": key,\n",
    "        \"Content-Type\": \"application/json\"\n",
    "    }\n",
    "\n",
    "    response = requests.delete(url, headers=headers)\n",
    "    \n",
    "    if response.status_code == 204:\n",
    "        return \"Analyzer deleted successfully.\"\n",
    "    else:\n",
    "        response.raise_for_status()"
   ]
  },
  {
   "cell_type": "code",
   "execution_count": 126,
   "metadata": {},
   "outputs": [
    {
     "name": "stdout",
     "output_type": "stream",
     "text": [
      "Analyzer deleted successfully.\n"
     ]
    }
   ],
   "source": [
    "result = delete_analyzer(ANALYZER_NAME)\n",
    "print(result)"
   ]
  },
  {
   "cell_type": "markdown",
   "metadata": {},
   "source": [
    "## Video Example"
   ]
  },
  {
   "cell_type": "code",
   "execution_count": 34,
   "metadata": {},
   "outputs": [
    {
     "name": "stdout",
     "output_type": "stream",
     "text": [
      "https://ziggyazureaiserviceswestus.services.ai.azure.com/contentunderstanding/analyzers/VideoAnalyzerZZ/operations/dc45a418-5074-4ac5-843a-ac895a12da8e?api-version=2024-12-01-preview\n"
     ]
    }
   ],
   "source": [
    "ANALYZER_NAME = \"VideoAnalyzerZZ\"\n",
    "\n",
    "request_body = {\n",
    "    \"description\": \"Sample Video analyzer\",\n",
    "    \"scenario\": \"videoShot\",\n",
    "    \"fieldSchema\": {\n",
    "        \"fields\": {\n",
    "            \"title\": {\n",
    "                \"type\": \"string\"\n",
    "            },\n",
    "            \"videodescription\": {\n",
    "                \"type\": \"string\",\n",
    "                \"method\": \"generate\",\n",
    "                \"description\": \"Detailed summary of the video segment\"\n",
    "            },\n",
    "            \"company\": {\n",
    "                \"type\": \"string\",\n",
    "                \"method\": \"generate\",\n",
    "                \"description\": \"The company that this video segment is about\"\n",
    "            },\n",
    "            \"azure\": {\n",
    "                \"type\": \"string\",\n",
    "                \"method\": \"generate\",\n",
    "                \"description\": \"The Microsoft Azure service used by the company in this video\"\n",
    "            },\n",
    "            \"azurepurpose\": {\n",
    "                \"type\": \"string\",\n",
    "                \"method\": \"generate\",\n",
    "                \"description\": \"The purpose of why the Microsoft Azure service is being used by the company\"\n",
    "            },\n",
    "            \"park\": {\n",
    "                \"type\": \"string\",\n",
    "                \"method\": \"generate\",\n",
    "                \"description\": \"Identify the park mentioned in this video.\"\n",
    "            }\n",
    "        }\n",
    "    }\n",
    "}\n",
    "\n",
    "custom_analyzer_operation_location = create_analyzer(ANALYZER_NAME, request_body)\n",
    "\n",
    "print(custom_analyzer_operation_location)"
   ]
  },
  {
   "cell_type": "code",
   "execution_count": 35,
   "metadata": {},
   "outputs": [
    {
     "name": "stdout",
     "output_type": "stream",
     "text": [
      "Operation status retrieved successfully.\n",
      "{'id': 'dc45a418-5074-4ac5-843a-ac895a12da8e', 'status': 'Succeeded', 'result': {'analyzerId': 'VideoAnalyzerZZ', 'description': 'Sample Video analyzer', 'createdAt': '2025-03-16T12:36:01Z', 'lastModifiedAt': '2025-03-16T12:36:01Z', 'config': {'locales': ['en-US', 'es-ES', 'es-MX', 'fr-FR', 'hi-IN', 'it-IT', 'ja-JP', 'ko-KR', 'pt-BR', 'zh-CN'], 'returnDetails': False, 'enableFace': False, 'disableContentFiltering': False}, 'fieldSchema': {'fields': {'title': {'type': 'string'}, 'videodescription': {'type': 'string', 'method': 'generate', 'description': 'Detailed summary of the video segment'}, 'company': {'type': 'string', 'method': 'generate', 'description': 'The company that this video segment is about'}, 'azure': {'type': 'string', 'method': 'generate', 'description': 'The Microsoft Azure service used by the company in this video'}, 'azurepurpose': {'type': 'string', 'method': 'generate', 'description': 'The purpose of why the Microsoft Azure service is being used by the company'}, 'park': {'type': 'string', 'method': 'generate', 'description': 'Identify the park mentioned in this video.'}}}, 'warnings': [], 'status': 'ready', 'scenario': 'videoShot'}}\n"
     ]
    }
   ],
   "source": [
    "response = get_analyzer_operation_status(custom_analyzer_operation_location)"
   ]
  },
  {
   "cell_type": "code",
   "execution_count": 36,
   "metadata": {},
   "outputs": [
    {
     "name": "stdout",
     "output_type": "stream",
     "text": [
      "https://ziggyazureaiserviceswestus.services.ai.azure.com/contentunderstanding/analyzers/VideoAnalyzerZZ/results/d0ebcc8f-2df1-45c9-828a-277b9112470a?api-version=2024-12-01-preview\n"
     ]
    }
   ],
   "source": [
    "analyze_file_operation_location = analyze_file(ANALYZER_NAME, \"https://ziggystorage01.blob.core.windows.net/videos/mercedes.mp4\")\n",
    "print(analyze_file_operation_location)"
   ]
  },
  {
   "cell_type": "code",
   "execution_count": 43,
   "metadata": {},
   "outputs": [
    {
     "name": "stdout",
     "output_type": "stream",
     "text": [
      "Title: Scenic Drive with Mercedes-Benz\n",
      "Company: Mercedes-Benz\n",
      "Video Description: A scenic drive featuring a Mercedes-Benz car on a winding road with a backdrop of mountains and lakes.\n",
      "Azure Product: N/A\n",
      "Azure Purpose: N/A\n",
      "Park in Video: Olympic National Park\n"
     ]
    }
   ],
   "source": [
    "result = analyze_file_track_status(analyze_file_operation_location)\n",
    "\n",
    "if isinstance(result, dict) and result.get(\"status\") == \"Succeeded\":\n",
    "    contents = result.get(\"result\", {}).get(\"contents\", [])\n",
    "    if contents:\n",
    "        fields = contents[0].get(\"fields\", {})\n",
    "        title = fields.get(\"title\", {}).get(\"valueString\")\n",
    "        company = fields.get(\"company\", {}).get(\"valueString\")\n",
    "        video_description = fields.get(\"videodescription\", {}).get(\"valueString\")\n",
    "        azure = fields.get(\"azure\", {}).get(\"valueString\")\n",
    "        azurepurpose = fields.get(\"azurepurpose\", {}).get(\"valueString\")\n",
    "        park = fields.get(\"park\", {}).get(\"valueString\")\n",
    "\n",
    "        print(f\"Title: {title}\")\n",
    "        print(f\"Company: {company}\")\n",
    "        print(f\"Video Description: {video_description}\")\n",
    "        print(f\"Azure Product: {azure}\")\n",
    "        print(f\"Azure Purpose: {azurepurpose}\")\n",
    "        print(f\"Park in Video: {park}\")\n",
    "        \n",
    "else:\n",
    "    print(result)"
   ]
  },
  {
   "cell_type": "code",
   "execution_count": 33,
   "metadata": {},
   "outputs": [
    {
     "name": "stdout",
     "output_type": "stream",
     "text": [
      "Analyzer deleted successfully.\n"
     ]
    }
   ],
   "source": [
    "result = delete_analyzer(ANALYZER_NAME)\n",
    "print(result)"
   ]
  }
 ],
 "metadata": {
  "kernelspec": {
   "display_name": "Python 3",
   "language": "python",
   "name": "python3"
  },
  "language_info": {
   "codemirror_mode": {
    "name": "ipython",
    "version": 3
   },
   "file_extension": ".py",
   "mimetype": "text/x-python",
   "name": "python",
   "nbconvert_exporter": "python",
   "pygments_lexer": "ipython3",
   "version": "3.12.1"
  }
 },
 "nbformat": 4,
 "nbformat_minor": 2
}
