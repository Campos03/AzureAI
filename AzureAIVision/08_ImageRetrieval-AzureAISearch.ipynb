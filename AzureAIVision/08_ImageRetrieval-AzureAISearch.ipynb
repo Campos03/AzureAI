{
 "cells": [
  {
   "cell_type": "markdown",
   "metadata": {},
   "source": [
    "## Image Retrieval with Azure AI Search\n",
    "\n",
    "Requirements:\n",
    "1. Azure AI Search - to contain the image embeddings\n",
    "2. Azure Computer Vision - to compute the image and user query (image or text) embeddings\n",
    "3. Azure Storage - to store the raw images\n",
    "\n",
    "Steps:\n",
    "1. Store images in Azure Storage \n",
    "2. Get access to images in Azure Storage\n",
    "3. Create Search index in Azure AI Search\n",
    "4. Generate embeddings and dense captions for images using Azure AI Vision\n",
    "5. Store embeddings and other metadata to Azure AI Search\n",
    "6. Perform a Vector Search in Azure AI Search"
   ]
  },
  {
   "cell_type": "markdown",
   "metadata": {},
   "source": [
    "## Load Azure Configuration"
   ]
  },
  {
   "cell_type": "code",
   "execution_count": 2,
   "metadata": {},
   "outputs": [],
   "source": [
    "import os\n",
    "\n",
    "azure_computer_vision_endpoint = os.environ[\"AZURE_COMPUTER_VISION_ENDPOINT\"]\n",
    "azure_computer_vision_key = os.environ[\"AZURE_COMPUTER_VISION_KEY\"]\n",
    "\n",
    "azure_storage_connection_string = os.getenv(\"AZURE_STORAGE_CONNECTION_STRING\")\n",
    "\n",
    "azure_search_service_endpoint = os.getenv(\"AZURE_SEARCH_SERVICE_ENDPOINT\")\n",
    "azure_search_service_admin_key = os.getenv(\"AZURE_SEARCH_ADMIN_KEY\")\n",
    "azure_search_service_index_name = \"az-image-index-001\"\n",
    "azure_search_service_embedding_size=1024\n"
   ]
  },
  {
   "cell_type": "markdown",
   "metadata": {},
   "source": [
    "## Get files from Azure Storage and Store in a collection"
   ]
  },
  {
   "cell_type": "code",
   "execution_count": 3,
   "metadata": {},
   "outputs": [
    {
     "name": "stdout",
     "output_type": "stream",
     "text": [
      "Access to the blob storage was granted.\n",
      "Blobs collection:\n",
      "{'id': '1', 'imageName': 'analyze_image.jpg', 'imageUrl': 'https://ziggystorage01.blob.core.windows.net/images/analyze_image.jpg'}\n",
      "{'id': '2', 'imageName': 'bicycle1.jpeg', 'imageUrl': 'https://ziggystorage01.blob.core.windows.net/images/bicycle1.jpeg'}\n",
      "{'id': '3', 'imageName': 'bicycle10.jpeg', 'imageUrl': 'https://ziggystorage01.blob.core.windows.net/images/bicycle10.jpeg'}\n",
      "{'id': '4', 'imageName': 'bicycle2.jpeg', 'imageUrl': 'https://ziggystorage01.blob.core.windows.net/images/bicycle2.jpeg'}\n",
      "{'id': '5', 'imageName': 'bicycle3.jpeg', 'imageUrl': 'https://ziggystorage01.blob.core.windows.net/images/bicycle3.jpeg'}\n",
      "{'id': '6', 'imageName': 'bicycle4.jpeg', 'imageUrl': 'https://ziggystorage01.blob.core.windows.net/images/bicycle4.jpeg'}\n",
      "{'id': '7', 'imageName': 'bicycle5.jpeg', 'imageUrl': 'https://ziggystorage01.blob.core.windows.net/images/bicycle5.jpeg'}\n",
      "{'id': '8', 'imageName': 'bicycle6.jpeg', 'imageUrl': 'https://ziggystorage01.blob.core.windows.net/images/bicycle6.jpeg'}\n",
      "{'id': '9', 'imageName': 'bicycle7.jpeg', 'imageUrl': 'https://ziggystorage01.blob.core.windows.net/images/bicycle7.jpeg'}\n",
      "{'id': '10', 'imageName': 'bicycle8.jpeg', 'imageUrl': 'https://ziggystorage01.blob.core.windows.net/images/bicycle8.jpeg'}\n",
      "{'id': '11', 'imageName': 'bicycle9.jpeg', 'imageUrl': 'https://ziggystorage01.blob.core.windows.net/images/bicycle9.jpeg'}\n",
      "{'id': '12', 'imageName': 'bus1.jpeg', 'imageUrl': 'https://ziggystorage01.blob.core.windows.net/images/bus1.jpeg'}\n",
      "{'id': '13', 'imageName': 'bus10.jpeg', 'imageUrl': 'https://ziggystorage01.blob.core.windows.net/images/bus10.jpeg'}\n",
      "{'id': '14', 'imageName': 'bus2.jpeg', 'imageUrl': 'https://ziggystorage01.blob.core.windows.net/images/bus2.jpeg'}\n",
      "{'id': '15', 'imageName': 'bus3.jpeg', 'imageUrl': 'https://ziggystorage01.blob.core.windows.net/images/bus3.jpeg'}\n",
      "{'id': '16', 'imageName': 'bus4.jpeg', 'imageUrl': 'https://ziggystorage01.blob.core.windows.net/images/bus4.jpeg'}\n",
      "{'id': '17', 'imageName': 'bus5.jpeg', 'imageUrl': 'https://ziggystorage01.blob.core.windows.net/images/bus5.jpeg'}\n",
      "{'id': '18', 'imageName': 'bus6.jpeg', 'imageUrl': 'https://ziggystorage01.blob.core.windows.net/images/bus6.jpeg'}\n",
      "{'id': '19', 'imageName': 'bus7.jpeg', 'imageUrl': 'https://ziggystorage01.blob.core.windows.net/images/bus7.jpeg'}\n",
      "{'id': '20', 'imageName': 'bus8.jpeg', 'imageUrl': 'https://ziggystorage01.blob.core.windows.net/images/bus8.jpeg'}\n",
      "{'id': '21', 'imageName': 'bus9.jpeg', 'imageUrl': 'https://ziggystorage01.blob.core.windows.net/images/bus9.jpeg'}\n",
      "{'id': '22', 'imageName': 'car1.jpeg', 'imageUrl': 'https://ziggystorage01.blob.core.windows.net/images/car1.jpeg'}\n",
      "{'id': '23', 'imageName': 'car10.jpeg', 'imageUrl': 'https://ziggystorage01.blob.core.windows.net/images/car10.jpeg'}\n",
      "{'id': '24', 'imageName': 'car2.jpeg', 'imageUrl': 'https://ziggystorage01.blob.core.windows.net/images/car2.jpeg'}\n",
      "{'id': '25', 'imageName': 'car3.jpeg', 'imageUrl': 'https://ziggystorage01.blob.core.windows.net/images/car3.jpeg'}\n",
      "{'id': '26', 'imageName': 'car4.jpeg', 'imageUrl': 'https://ziggystorage01.blob.core.windows.net/images/car4.jpeg'}\n",
      "{'id': '27', 'imageName': 'car5.jpeg', 'imageUrl': 'https://ziggystorage01.blob.core.windows.net/images/car5.jpeg'}\n",
      "{'id': '28', 'imageName': 'car6.jpeg', 'imageUrl': 'https://ziggystorage01.blob.core.windows.net/images/car6.jpeg'}\n",
      "{'id': '29', 'imageName': 'car7.jpeg', 'imageUrl': 'https://ziggystorage01.blob.core.windows.net/images/car7.jpeg'}\n",
      "{'id': '30', 'imageName': 'car8.jpeg', 'imageUrl': 'https://ziggystorage01.blob.core.windows.net/images/car8.jpeg'}\n",
      "{'id': '31', 'imageName': 'car9.jpeg', 'imageUrl': 'https://ziggystorage01.blob.core.windows.net/images/car9.jpeg'}\n",
      "{'id': '32', 'imageName': 'empirestate.jpeg', 'imageUrl': 'https://ziggystorage01.blob.core.windows.net/images/empirestate.jpeg'}\n",
      "{'id': '33', 'imageName': 'fork_1.jpg', 'imageUrl': 'https://ziggystorage01.blob.core.windows.net/images/fork_1.jpg'}\n",
      "{'id': '34', 'imageName': 'fork_2.jpg', 'imageUrl': 'https://ziggystorage01.blob.core.windows.net/images/fork_2.jpg'}\n",
      "{'id': '35', 'imageName': 'fork_3.jpg', 'imageUrl': 'https://ziggystorage01.blob.core.windows.net/images/fork_3.jpg'}\n",
      "{'id': '36', 'imageName': 'fork_4.jpg', 'imageUrl': 'https://ziggystorage01.blob.core.windows.net/images/fork_4.jpg'}\n",
      "{'id': '37', 'imageName': 'fork_5.jpg', 'imageUrl': 'https://ziggystorage01.blob.core.windows.net/images/fork_5.jpg'}\n",
      "{'id': '38', 'imageName': 'group_1.jpeg', 'imageUrl': 'https://ziggystorage01.blob.core.windows.net/images/group_1.jpeg'}\n",
      "{'id': '39', 'imageName': 'group_2.jpeg', 'imageUrl': 'https://ziggystorage01.blob.core.windows.net/images/group_2.jpeg'}\n",
      "{'id': '40', 'imageName': 'hemlock_1.jpg', 'imageUrl': 'https://ziggystorage01.blob.core.windows.net/images/hemlock_1.jpg'}\n",
      "{'id': '41', 'imageName': 'hemlock_2.jpg', 'imageUrl': 'https://ziggystorage01.blob.core.windows.net/images/hemlock_2.jpg'}\n",
      "{'id': '42', 'imageName': 'hemlock_3.jpg', 'imageUrl': 'https://ziggystorage01.blob.core.windows.net/images/hemlock_3.jpg'}\n",
      "{'id': '43', 'imageName': 'hemlock_4.jpg', 'imageUrl': 'https://ziggystorage01.blob.core.windows.net/images/hemlock_4.jpg'}\n",
      "{'id': '44', 'imageName': 'hemlock_5.jpg', 'imageUrl': 'https://ziggystorage01.blob.core.windows.net/images/hemlock_5.jpg'}\n",
      "{'id': '45', 'imageName': 'japanese_cherry_1.jpg', 'imageUrl': 'https://ziggystorage01.blob.core.windows.net/images/japanese_cherry_1.jpg'}\n",
      "{'id': '46', 'imageName': 'japanese_cherry_2.jpg', 'imageUrl': 'https://ziggystorage01.blob.core.windows.net/images/japanese_cherry_2.jpg'}\n",
      "{'id': '47', 'imageName': 'japanese_cherry_3.jpg', 'imageUrl': 'https://ziggystorage01.blob.core.windows.net/images/japanese_cherry_3.jpg'}\n",
      "{'id': '48', 'imageName': 'japanese_cherry_4.jpg', 'imageUrl': 'https://ziggystorage01.blob.core.windows.net/images/japanese_cherry_4.jpg'}\n",
      "{'id': '49', 'imageName': 'japanese_cherry_5.jpg', 'imageUrl': 'https://ziggystorage01.blob.core.windows.net/images/japanese_cherry_5.jpg'}\n",
      "{'id': '50', 'imageName': 'mtfuji.jpeg', 'imageUrl': 'https://ziggystorage01.blob.core.windows.net/images/mtfuji.jpeg'}\n",
      "{'id': '51', 'imageName': 'person_a1.jpeg', 'imageUrl': 'https://ziggystorage01.blob.core.windows.net/images/person_a1.jpeg'}\n",
      "{'id': '52', 'imageName': 'person_a2.jpeg', 'imageUrl': 'https://ziggystorage01.blob.core.windows.net/images/person_a2.jpeg'}\n",
      "{'id': '53', 'imageName': 'person_b1.jpeg', 'imageUrl': 'https://ziggystorage01.blob.core.windows.net/images/person_b1.jpeg'}\n",
      "{'id': '54', 'imageName': 'person_b2.jpeg', 'imageUrl': 'https://ziggystorage01.blob.core.windows.net/images/person_b2.jpeg'}\n",
      "{'id': '55', 'imageName': 'person_c1.jpeg', 'imageUrl': 'https://ziggystorage01.blob.core.windows.net/images/person_c1.jpeg'}\n",
      "{'id': '56', 'imageName': 'person_c2.jpeg', 'imageUrl': 'https://ziggystorage01.blob.core.windows.net/images/person_c2.jpeg'}\n",
      "{'id': '57', 'imageName': 'person_c3.jpeg', 'imageUrl': 'https://ziggystorage01.blob.core.windows.net/images/person_c3.jpeg'}\n",
      "{'id': '58', 'imageName': 'scissors_1.jpg', 'imageUrl': 'https://ziggystorage01.blob.core.windows.net/images/scissors_1.jpg'}\n",
      "{'id': '59', 'imageName': 'scissors_2.jpg', 'imageUrl': 'https://ziggystorage01.blob.core.windows.net/images/scissors_2.jpg'}\n",
      "{'id': '60', 'imageName': 'scissors_3.jpg', 'imageUrl': 'https://ziggystorage01.blob.core.windows.net/images/scissors_3.jpg'}\n",
      "{'id': '61', 'imageName': 'scissors_4.jpg', 'imageUrl': 'https://ziggystorage01.blob.core.windows.net/images/scissors_4.jpg'}\n",
      "{'id': '62', 'imageName': 'scissors_5.jpg', 'imageUrl': 'https://ziggystorage01.blob.core.windows.net/images/scissors_5.jpg'}\n"
     ]
    }
   ],
   "source": [
    "from azure.storage.blob import BlobServiceClient\n",
    "\n",
    "# Initialize the BlobServiceClient with the connection string\n",
    "blob_service_client = BlobServiceClient.from_connection_string(azure_storage_connection_string)\n",
    "\n",
    "# Get the container client\n",
    "container_client = blob_service_client.get_container_client(\"images\")\n",
    "\n",
    "# List blobs in the container and store their URLs, names, and IDs in a collection\n",
    "blobs_collection = []\n",
    "\n",
    "idx = 0\n",
    "try:\n",
    "    blobs_list = container_client.list_blobs()\n",
    "    for blob in blobs_list:\n",
    "        idx += 1\n",
    "        blob_url = f\"{container_client.url}/{blob.name}\"\n",
    "        blobs_collection.append({\"id\": str(idx), \"imageName\": blob.name, \"imageUrl\": blob_url})\n",
    "    print(\"Access to the blob storage was granted.\")\n",
    "except Exception as e:\n",
    "    print(f\"Failed to access the blob storage: {e}\")\n",
    "\n",
    "# Print the collection\n",
    "print(\"Blobs collection:\")\n",
    "for blob in blobs_collection:\n",
    "    print(blob)"
   ]
  },
  {
   "cell_type": "markdown",
   "metadata": {},
   "source": [
    "## Generate Dense Captions for each Image"
   ]
  },
  {
   "cell_type": "code",
   "execution_count": 4,
   "metadata": {},
   "outputs": [
    {
     "name": "stdout",
     "output_type": "stream",
     "text": [
      "Blobs collection:\n",
      "{'id': '1', 'imageName': 'analyze_image.jpg', 'imageUrl': 'https://ziggystorage01.blob.core.windows.net/images/analyze_image.jpg', 'imageDenseCaptions': \"a person looking at a laptop, a group of women sitting at a table looking at a laptop, a person's hands on a laptop, blur a blurry picture of a window, a close-up of a person's eyes, a person in glasses looking at a laptop, a blurry image of a tree, blur a blurry image of a computer screen, a person smiling at something, a close-up of a person wearing glasses\"}\n",
      "{'id': '2', 'imageName': 'bicycle1.jpeg', 'imageUrl': 'https://ziggystorage01.blob.core.windows.net/images/bicycle1.jpeg', 'imageDenseCaptions': 'a black and red bicycle, a black and red bicycle, a close up of a bicycle tire, a close up of a bicycle gear, a close up of a bicycle wheel, a close up of a bicycle, close-up of a bicycle seat, a close up of a wheel, a close up of a handlebar, a black machine with a red button'}\n",
      "{'id': '3', 'imageName': 'bicycle10.jpeg', 'imageUrl': 'https://ziggystorage01.blob.core.windows.net/images/bicycle10.jpeg', 'imageDenseCaptions': 'a blue and white bicycle, a blue and white bicycle, a close up of a bicycle wheel, a close up of a bicycle wheel, a close-up of a seat'}\n",
      "{'id': '4', 'imageName': 'bicycle2.jpeg', 'imageUrl': 'https://ziggystorage01.blob.core.windows.net/images/bicycle2.jpeg', 'imageDenseCaptions': 'a close up of a bicycle, a close up of a bicycle, a black bicycle seat, close-up of a bicycle reflector, a close up of a bicycle pedal, a close up of a bicycle handlebar, a close up of a metal pole, a close up of a bicycle wheel, a close up of a bicycle wheel, a close-up of a bicycle handlebar'}\n",
      "{'id': '5', 'imageName': 'bicycle3.jpeg', 'imageUrl': 'https://ziggystorage01.blob.core.windows.net/images/bicycle3.jpeg', 'imageDenseCaptions': 'a red bicycle with a basket, a red bicycle with a basket, a close up of a bicycle wheel, a basket with a wire on it, the back wheel of a bicycle, a close up of a bicycle wheel, close-up of a reflector on a car, a close-up of a hose nozzle, a close-up of a bicycle seat, close-up of a reflector on a car'}\n",
      "{'id': '6', 'imageName': 'bicycle4.jpeg', 'imageUrl': 'https://ziggystorage01.blob.core.windows.net/images/bicycle4.jpeg', 'imageDenseCaptions': 'a orange bicycle with a white background, an orange bicycle with a white background, a close up of a bicycle wheel, a close up of a bicycle, a close-up of a bicycle seat'}\n",
      "{'id': '7', 'imageName': 'bicycle5.jpeg', 'imageUrl': 'https://ziggystorage01.blob.core.windows.net/images/bicycle5.jpeg', 'imageDenseCaptions': 'a black mountain bike with red accents, a black mountain bike with red accents, a close up of a bicycle wheel, a close-up of a black plastic object, a close up of a bicycle chain, a close up of a bicycle wheel, a black bicycle seat with a black seat, a close up of a bicycle, a close up of a bicycle wheel'}\n",
      "{'id': '8', 'imageName': 'bicycle6.jpeg', 'imageUrl': 'https://ziggystorage01.blob.core.windows.net/images/bicycle6.jpeg', 'imageDenseCaptions': 'a black and white mountain bike, a black and white mountain bike, a close up of a bicycle wheel, a close up of a bicycle wheel, a close up of a bicycle, a close up of a bicycle wheel, close-up of a bicycle seat, a close up of a bicycle gear'}\n",
      "{'id': '9', 'imageName': 'bicycle7.jpeg', 'imageUrl': 'https://ziggystorage01.blob.core.windows.net/images/bicycle7.jpeg', 'imageDenseCaptions': 'a white bicycle with black tires, a white bicycle with black wheels, a close up of a bicycle wheel, a close up of a bicycle, a close-up of a white and black device, a close-up of a bicycle seat, close-up of a metal wheel, a close-up of a black pen'}\n",
      "{'id': '10', 'imageName': 'bicycle8.jpeg', 'imageUrl': 'https://ziggystorage01.blob.core.windows.net/images/bicycle8.jpeg', 'imageDenseCaptions': 'a black and orange bicycle, a black and orange bicycle, a close up of a bicycle gear, a close up of a bicycle wheel, a close up of a bicycle wheel, a close up of a bicycle handlebars, a close-up of a bicycle seat'}\n",
      "{'id': '11', 'imageName': 'bicycle9.jpeg', 'imageUrl': 'https://ziggystorage01.blob.core.windows.net/images/bicycle9.jpeg', 'imageDenseCaptions': 'a red and white bicycle, a red bicycle with a white background, a close up of a bicycle tire, the back wheel of a bicycle, a close-up of a bicycle seat, close-up of a red light, close-up of a bicycle reflector, close-up of an orange reflector'}\n",
      "{'id': '12', 'imageName': 'bus1.jpeg', 'imageUrl': 'https://ziggystorage01.blob.core.windows.net/images/bus1.jpeg', 'imageDenseCaptions': 'a yellow bus with black windows, a yellow bus with a white background, a yellow bus with black windows, a window of a bus, a yellow wheel rim on a yellow vehicle, a bus with windows on the side, a reflection of a tree on a black surface, a reflection of a building in a window'}\n",
      "{'id': '13', 'imageName': 'bus10.jpeg', 'imageUrl': 'https://ziggystorage01.blob.core.windows.net/images/bus10.jpeg', 'imageDenseCaptions': 'a bus with a white and blue stripe, a white and blue bus, a window of a vehicle, close-up of a headlight on a car, a close up of a tire, a window of a bus, a close up of a door, close-up of a pair of round headlight, a window of a bus, a close up of a bus'}\n",
      "{'id': '14', 'imageName': 'bus2.jpeg', 'imageUrl': 'https://ziggystorage01.blob.core.windows.net/images/bus2.jpeg', 'imageDenseCaptions': 'a white bus with doors, a white bus with blue seats, a close up of a tire, a yellow tube in a bus, close-up of a wheel on a vehicle, a white bus with doors, a close-up of a bus door, a close-up of a door, a blue seats on a bus, a yellow curved bar in a room'}\n",
      "{'id': '15', 'imageName': 'bus3.jpeg', 'imageUrl': 'https://ziggystorage01.blob.core.windows.net/images/bus3.jpeg', 'imageDenseCaptions': 'a blue and white bus, a blue and white bus, a close up of a tire, a close up of a headlight, a close up of a grill, a window of a bus, a windshield of a car, close-up of a car tire, a close up of a pink and blue object, a window of a car'}\n",
      "{'id': '16', 'imageName': 'bus4.jpeg', 'imageUrl': 'https://ziggystorage01.blob.core.windows.net/images/bus4.jpeg', 'imageDenseCaptions': 'a black bus with a white background, a black bus with a large black top, a black double decker bus, a close-up of a tire, close-up of a truck tire, a close-up of a tire, a reflection of a truck in a window, close-up of a truck tire, a plane flying over a window'}\n",
      "{'id': '17', 'imageName': 'bus5.jpeg', 'imageUrl': 'https://ziggystorage01.blob.core.windows.net/images/bus5.jpeg', 'imageDenseCaptions': 'a yellow school bus on a white background, a yellow school bus on a white background, close-up of a headlight on a yellow car, a close up of a vent, a close-up of a yellow sign, a close up of a tire, close-up of a headlight of a yellow car, close-up of a school bus, a school bus with a windshield wiper, a windshield wiper on a window'}\n",
      "{'id': '18', 'imageName': 'bus6.jpeg', 'imageUrl': 'https://ziggystorage01.blob.core.windows.net/images/bus6.jpeg', 'imageDenseCaptions': 'a white and black bus, a white bus with black trim, a close-up of a tire, a close-up of a tire, a close-up of a tire, a white metal door with vent, a close-up of a black background, a close up of a white surface, a curved black and white object, a close-up of a white bus'}\n",
      "{'id': '19', 'imageName': 'bus7.jpeg', 'imageUrl': 'https://ziggystorage01.blob.core.windows.net/images/bus7.jpeg', 'imageDenseCaptions': 'a bus with a black and tan color, a bus parked on the street, a front window of a bus, close-up of a tire, close-up of a wheel rim, close-up of a car tire, a close-up of a wheel'}\n",
      "{'id': '20', 'imageName': 'bus8.jpeg', 'imageUrl': 'https://ziggystorage01.blob.core.windows.net/images/bus8.jpeg', 'imageDenseCaptions': 'a blue and yellow train, a close up of a bus, a tire on a vehicle, a tire on a vehicle, a broken window with a white background, a blue arrow on a white surface, a window with a white background, a close-up of a window, a close-up of a metal grid, a close-up of a window'}\n",
      "{'id': '21', 'imageName': 'bus9.jpeg', 'imageUrl': 'https://ziggystorage01.blob.core.windows.net/images/bus9.jpeg', 'imageDenseCaptions': 'a white bus with a large window, a white bus with a black stripe, a close up of a tire, close-up of a white tire, a close up of a handle, close-up of a white vehicle headlight, a close up of a wheel'}\n",
      "{'id': '22', 'imageName': 'car1.jpeg', 'imageUrl': 'https://ziggystorage01.blob.core.windows.net/images/car1.jpeg', 'imageDenseCaptions': 'a white car with black wheels, a silver car with a white background, close-up of a car tire, a close up of a car headlight, a close-up of a car vent, a side mirror of a car, close-up of a car tire, a close up of a car window, a close up of a vent, a black circle on a car'}\n",
      "{'id': '23', 'imageName': 'car10.jpeg', 'imageUrl': 'https://ziggystorage01.blob.core.windows.net/images/car10.jpeg', 'imageDenseCaptions': 'a blue car with a white background, a blue car with a white background, close-up of a car tire, close-up of a car headlight, close-up of a car tire, a close-up of a car side mirror, a close-up of a blue and white license plate, close-up of a car headlight, a car with a camera on the back'}\n",
      "{'id': '24', 'imageName': 'car2.jpeg', 'imageUrl': 'https://ziggystorage01.blob.core.windows.net/images/car2.jpeg', 'imageDenseCaptions': \"a black car with tan seats, the front of a black car, a black rectangular frame with a white background, a black car with tan seats, a close up of a car grill, a close-up of a black object, a close-up of a car's headrest, a close-up of a fork, close-up of a black car headlight, a close-up of a metal pedal\"}\n",
      "{'id': '25', 'imageName': 'car3.jpeg', 'imageUrl': 'https://ziggystorage01.blob.core.windows.net/images/car3.jpeg', 'imageDenseCaptions': 'a red car with a white background, a red car with a white background, a close up of a yellow light, close up of a car tire, a close up of a sign, a close-up of a car headlight, a close-up of a headlight, close up of a car headlight, a close up of a red car mirror, close-up of a car tire'}\n",
      "{'id': '26', 'imageName': 'car4.jpeg', 'imageUrl': 'https://ziggystorage01.blob.core.windows.net/images/car4.jpeg', 'imageDenseCaptions': 'a car with its headlights on, a close up of a car, a close up of a headlight, a close up of a wheel, a close up of a car grill, close-up of a car tire, a close up of a white rectangular object, a side mirror of a car'}\n",
      "{'id': '27', 'imageName': 'car5.jpeg', 'imageUrl': 'https://ziggystorage01.blob.core.windows.net/images/car5.jpeg', 'imageDenseCaptions': 'a blue car with a white background, a blue car with a white background, a close up of a tire, a close up of a wheel, a side mirror of a car, a close-up of a car door handle, a close-up of a white rectangular object, a close up of a car, a license plate on a car, the back window of a car'}\n",
      "{'id': '28', 'imageName': 'car6.jpeg', 'imageUrl': 'https://ziggystorage01.blob.core.windows.net/images/car6.jpeg', 'imageDenseCaptions': \"a blue sports car on a road, a blue sports car on a desert road, close-up of a car engine, a close-up of a desert, a close up of a blue object, a close-up of a cloudy sky, a close-up of a person's leg, a close-up of a car, the front end of a blue car, a close up of a blue object\"}\n",
      "{'id': '29', 'imageName': 'car7.jpeg', 'imageUrl': 'https://ziggystorage01.blob.core.windows.net/images/car7.jpeg', 'imageDenseCaptions': 'a red convertible car with a convertible top, a red convertible car with tan seats, a close up of a tire, a close-up of a silver circle, a close up of a headlight, a close-up of a logo, close-up of a car tire, a close-up of a headlight, a white rectangular object with a red background, a close-up of a seat'}\n",
      "{'id': '30', 'imageName': 'car8.jpeg', 'imageUrl': 'https://ziggystorage01.blob.core.windows.net/images/car8.jpeg', 'imageDenseCaptions': 'a white truck with black tires, a white car with black wheels, a close up of a tire, a close up of a tire, a close up of a car, a side mirror of a car, a close up of a car windshield, a close-up of a car window, close up of a headlight, a close up of a car window'}\n",
      "{'id': '31', 'imageName': 'car9.jpeg', 'imageUrl': 'https://ziggystorage01.blob.core.windows.net/images/car9.jpeg', 'imageDenseCaptions': 'a yellow toy car with black wheels, a yellow car with black wheels, a close up of a wheel, a close up of a wheel, a close up of a yellow and black object, a close up of a silver object, a close up of a car window, a close-up of a car window, close up of a yellow and black object, a close up of a silver and yellow object'}\n",
      "{'id': '32', 'imageName': 'empirestate.jpeg', 'imageUrl': 'https://ziggystorage01.blob.core.windows.net/images/empirestate.jpeg', 'imageDenseCaptions': 'a city skyline with tall buildings, a tall building with persony windows, a tall building in a city, a tall building with persony windows, a tall building with persony windows, a tall building with persony windows, a city with tall buildings, a group of buildings with glass windows, a tall building with persony windows, a white cloud in the sky'}\n",
      "{'id': '33', 'imageName': 'fork_1.jpg', 'imageUrl': 'https://ziggystorage01.blob.core.windows.net/images/fork_1.jpg', 'imageDenseCaptions': 'a black fork on a white surface, a black plastic object on a white surface'}\n",
      "{'id': '34', 'imageName': 'fork_2.jpg', 'imageUrl': 'https://ziggystorage01.blob.core.windows.net/images/fork_2.jpg', 'imageDenseCaptions': 'a black plastic fork on a white surface, a black plastic fork on a white surface'}\n",
      "{'id': '35', 'imageName': 'fork_3.jpg', 'imageUrl': 'https://ziggystorage01.blob.core.windows.net/images/fork_3.jpg', 'imageDenseCaptions': 'a fork on a white surface, a fork on a white surface'}\n",
      "{'id': '36', 'imageName': 'fork_4.jpg', 'imageUrl': 'https://ziggystorage01.blob.core.windows.net/images/fork_4.jpg', 'imageDenseCaptions': 'a fork on a white surface, a silver fork on a white surface, a fork on a white surface'}\n",
      "{'id': '37', 'imageName': 'fork_5.jpg', 'imageUrl': 'https://ziggystorage01.blob.core.windows.net/images/fork_5.jpg', 'imageDenseCaptions': 'a silver fork on a white surface, a fork on a white surface, a silver fork on a white surface, a close up of a fork'}\n",
      "{'id': '38', 'imageName': 'group_1.jpeg', 'imageUrl': 'https://ziggystorage01.blob.core.windows.net/images/group_1.jpeg', 'imageDenseCaptions': 'a person looking at another person, a person smiling with her hand on her chin, a person pointing at a windmill, a close-up of a windmill'}\n",
      "{'id': '39', 'imageName': 'group_2.jpeg', 'imageUrl': 'https://ziggystorage01.blob.core.windows.net/images/group_2.jpeg', 'imageDenseCaptions': 'a couple of women looking at a laptop, a person looking at a laptop, a couple of women looking at a laptop, a close-up of a person smiling, blur a blurry picture of a book'}\n",
      "{'id': '40', 'imageName': 'hemlock_1.jpg', 'imageUrl': 'https://ziggystorage01.blob.core.windows.net/images/hemlock_1.jpg', 'imageDenseCaptions': 'a close up of a branch, a close up of a branch, a close up of a branch, a close up of a branch, a close up of a green stem, a close up of a pine tree branch, a close-up of a branch'}\n",
      "{'id': '41', 'imageName': 'hemlock_2.jpg', 'imageUrl': 'https://ziggystorage01.blob.core.windows.net/images/hemlock_2.jpg', 'imageDenseCaptions': 'a close up of a branch, a close up of a branch, a close up of a green branch, a close up of a branch, a close up of a branch, a blurry green stem'}\n",
      "{'id': '42', 'imageName': 'hemlock_3.jpg', 'imageUrl': 'https://ziggystorage01.blob.core.windows.net/images/hemlock_3.jpg', 'imageDenseCaptions': 'a close up of a branch, a close up of a branch, close up of a pine tree branch, a close up of a branch, a close up of a branch, a close-up of a branch, a close up of a branch, a close up of a leaf'}\n",
      "{'id': '43', 'imageName': 'hemlock_4.jpg', 'imageUrl': 'https://ziggystorage01.blob.core.windows.net/images/hemlock_4.jpg', 'imageDenseCaptions': 'a close up of a branch, a close up of a branch, a close up of a branch, a close up of a pine branch, a shadow of a plant on a white surface, a close up of a branch, a close up of a branch'}\n",
      "{'id': '44', 'imageName': 'hemlock_5.jpg', 'imageUrl': 'https://ziggystorage01.blob.core.windows.net/images/hemlock_5.jpg', 'imageDenseCaptions': 'a close up of a tree branch, a close up of a branch, a close-up of a tree branch, a shadow of a tree branch, a shadow of a tree branch'}\n",
      "{'id': '45', 'imageName': 'japanese_cherry_1.jpg', 'imageUrl': 'https://ziggystorage01.blob.core.windows.net/images/japanese_cherry_1.jpg', 'imageDenseCaptions': 'close-up of a leaf on a tree, a close-up of a leaf, close-up of a leaf, close-up of a leaf on a branch, close-up of a leaf'}\n",
      "{'id': '46', 'imageName': 'japanese_cherry_2.jpg', 'imageUrl': 'https://ziggystorage01.blob.core.windows.net/images/japanese_cherry_2.jpg', 'imageDenseCaptions': \"a close up of a tree branch with pink flowers, a close up of a plant, a close up of a leaf, a close up of a pink flower, close up of a leaf, blur a blurry image of a person's hand, a close up of a flower, close-up of a leaf, close up of pink flowers, a blurry pink flower\"}\n",
      "{'id': '47', 'imageName': 'japanese_cherry_3.jpg', 'imageUrl': 'https://ziggystorage01.blob.core.windows.net/images/japanese_cherry_3.jpg', 'imageDenseCaptions': 'a close up of leaves on a branch, a close up of leaves on a branch, a close up of a leaf, a close up of a branch, a close up of a leaf, close up of a leaf, a blurry green grass, a close up of a pink flower, a close up of a leaf, a close up of leaves'}\n",
      "{'id': '48', 'imageName': 'japanese_cherry_4.jpg', 'imageUrl': 'https://ziggystorage01.blob.core.windows.net/images/japanese_cherry_4.jpg', 'imageDenseCaptions': 'a close up of a leaf, a close up of a leaf, a blurry yellow object, a close up of a flower, close up of a leaf, a close up of a pink flower, a blurry green leaf, close up of a pink flower, a close up of a pink flower, a close up of a flower'}\n",
      "{'id': '49', 'imageName': 'japanese_cherry_5.jpg', 'imageUrl': 'https://ziggystorage01.blob.core.windows.net/images/japanese_cherry_5.jpg', 'imageDenseCaptions': 'a close up of a leaf, a close up of a leaf, close-up of a green leaf, a close up of a plant, a close up of a leaf, a close up of a flower, a close up of a flower, a close up of a leaf, a close-up of a branch, a close up of a leaf'}\n",
      "{'id': '50', 'imageName': 'mtfuji.jpeg', 'imageUrl': 'https://ziggystorage01.blob.core.windows.net/images/mtfuji.jpeg', 'imageDenseCaptions': 'a mountain with a body of water, a body of water with buildings and trees in the background, a snow covered mountain top, a snow covered mountain top, a mountain with snow on top and a body of water, a snow covered mountain top, a blue sky with clouds, a snow covered mountain top'}\n",
      "{'id': '51', 'imageName': 'person_a1.jpeg', 'imageUrl': 'https://ziggystorage01.blob.core.windows.net/images/person_a1.jpeg', 'imageDenseCaptions': 'a person holding a credit card and talking on the phone, a person holding a credit card and a phone, a person holding a video game controller, a white surface with a shadow'}\n",
      "{'id': '52', 'imageName': 'person_a2.jpeg', 'imageUrl': 'https://ziggystorage01.blob.core.windows.net/images/person_a2.jpeg', 'imageDenseCaptions': \"a person pointing at a small windmill, a person pointing at a model windmill, a person holding a small windmill, a blurry image of a person sitting in a chair, a blurry image of a person's head\"}\n",
      "{'id': '53', 'imageName': 'person_b1.jpeg', 'imageUrl': 'https://ziggystorage01.blob.core.windows.net/images/person_b1.jpeg', 'imageDenseCaptions': 'a person with short curly hair and a nose ring talking to a person on a laptop, a person smiling at a computer screen, a close up of a white surface'}\n",
      "{'id': '54', 'imageName': 'person_b2.jpeg', 'imageUrl': 'https://ziggystorage01.blob.core.windows.net/images/person_b2.jpeg', 'imageDenseCaptions': \"a person sitting at a desk with her hand on her chin, a person with short curly hair sitting at a desk, a close up of a white surface, a person sitting in a chair, a blurry image of a plant, close-up of a person's shoulder\"}\n",
      "{'id': '55', 'imageName': 'person_c1.jpeg', 'imageUrl': 'https://ziggystorage01.blob.core.windows.net/images/person_c1.jpeg', 'imageDenseCaptions': 'a person with beard and mustache wearing an orange shirt, a person with beard and mustache wearing an orange shirt'}\n",
      "{'id': '56', 'imageName': 'person_c2.jpeg', 'imageUrl': 'https://ziggystorage01.blob.core.windows.net/images/person_c2.jpeg', 'imageDenseCaptions': 'a person with glasses and a beard, a person with glasses and beard wearing a white shirt'}\n",
      "{'id': '57', 'imageName': 'person_c3.jpeg', 'imageUrl': 'https://ziggystorage01.blob.core.windows.net/images/person_c3.jpeg', 'imageDenseCaptions': 'a person with his arms crossed, a person with a beard and mustache wearing a hat'}\n",
      "{'id': '58', 'imageName': 'scissors_1.jpg', 'imageUrl': 'https://ziggystorage01.blob.core.windows.net/images/scissors_1.jpg', 'imageDenseCaptions': 'a pair of scissors on a white surface, a pair of scissors with black handles'}\n",
      "{'id': '59', 'imageName': 'scissors_2.jpg', 'imageUrl': 'https://ziggystorage01.blob.core.windows.net/images/scissors_2.jpg', 'imageDenseCaptions': 'a pair of scissors on a white surface, a pair of blue scissors, a pair of blue scissors, a close up of a metal object, a pair of scissors on a white surface'}\n",
      "{'id': '60', 'imageName': 'scissors_3.jpg', 'imageUrl': 'https://ziggystorage01.blob.core.windows.net/images/scissors_3.jpg', 'imageDenseCaptions': 'a pair of blue scissors, a pair of blue scissors, a sharp knife with a blue handle, a blue scissors with a handle'}\n",
      "{'id': '61', 'imageName': 'scissors_4.jpg', 'imageUrl': 'https://ziggystorage01.blob.core.windows.net/images/scissors_4.jpg', 'imageDenseCaptions': 'a pair of scissors with black handles, a pair of scissors with a black handle, a pair of black scissors, a pair of scissors with black handles'}\n",
      "{'id': '62', 'imageName': 'scissors_5.jpg', 'imageUrl': 'https://ziggystorage01.blob.core.windows.net/images/scissors_5.jpg', 'imageDenseCaptions': 'a pair of scissors on a white surface, a pair of scissors on a white surface, a black scissors on a white surface'}\n"
     ]
    }
   ],
   "source": [
    "from azure.ai.vision.imageanalysis import ImageAnalysisClient\n",
    "from azure.ai.vision.imageanalysis.models import VisualFeatures\n",
    "from azure.core.credentials import AzureKeyCredential\n",
    "\n",
    "# Create an Image Analysis client\n",
    "client = ImageAnalysisClient(\n",
    "    endpoint=azure_computer_vision_endpoint,\n",
    "    credential=AzureKeyCredential(azure_computer_vision_key)\n",
    ")\n",
    "\n",
    "# Get dense captions for each image in the collection and add them to the collection\n",
    "for blob in blobs_collection:\n",
    "\n",
    "    # Get the dense captions for the image. This will be a synchronously (blocking) call.\n",
    "    response = client.analyze_from_url(\n",
    "        image_url=blob[\"imageUrl\"],\n",
    "        visual_features=[VisualFeatures.DENSE_CAPTIONS],\n",
    "        gender_neutral_caption=True,  # Optional (default is False)\n",
    "    )\n",
    "\n",
    "    # Collect all dense captions' text and combine them with a comma separator\n",
    "    dense_captions_text = \", \".join([item['text'] for item in response.dense_captions['values']])\n",
    "\n",
    "    # Add the embeddings to the collection\n",
    "    if response:\n",
    "        blob[\"imageDenseCaptions\"] = dense_captions_text\n",
    "    else:\n",
    "        blob[\"imageDenseCaptions\"] = None\n",
    "\n",
    "# Print the collection\n",
    "print(\"Blobs collection:\")\n",
    "for blob in blobs_collection:\n",
    "    print(blob)\n"
   ]
  },
  {
   "cell_type": "markdown",
   "metadata": {},
   "source": [
    "## Vectorize Image API"
   ]
  },
  {
   "cell_type": "code",
   "execution_count": 5,
   "metadata": {},
   "outputs": [],
   "source": [
    "import requests\n",
    "\n",
    "# Function to vectorize an image\n",
    "def vectorize_image(image_source, is_url=True):\n",
    "    # API URL\n",
    "    url = f\"{azure_computer_vision_endpoint}/computervision/retrieval:vectorizeImage?api-version=2024-02-01&model-version=2023-04-15\"\n",
    "\n",
    "    headers = {\n",
    "        \"Ocp-Apim-Subscription-Key\": azure_computer_vision_key\n",
    "    }\n",
    "\n",
    "    try:\n",
    "        if is_url:\n",
    "            # Set headers for URL\n",
    "            headers[\"Content-Type\"] = \"application/json\"\n",
    "            data = {\n",
    "                \"url\": image_source\n",
    "            }\n",
    "            # Make the request\n",
    "            response = requests.post(url, headers=headers, json=data)\n",
    "        else:\n",
    "            # Read the image file\n",
    "            with open(image_source, \"rb\") as image_file:\n",
    "                image_data = image_file.read()\n",
    "\n",
    "            # Set headers for image file\n",
    "            headers[\"Content-Type\"] = \"application/octet-stream\"\n",
    "            # Make the request\n",
    "            response = requests.post(url, headers=headers, data=image_data)\n",
    "\n",
    "        response.raise_for_status()  # Raise an exception for HTTP errors\n",
    "\n",
    "        # Return the response\n",
    "        return response.json()\n",
    "\n",
    "    except requests.exceptions.RequestException as e:\n",
    "        print(f\"Error: {e}\")\n",
    "        return None"
   ]
  },
  {
   "cell_type": "markdown",
   "metadata": {},
   "source": [
    "## Get Embeddings for each Image and Save Collection to a file"
   ]
  },
  {
   "cell_type": "code",
   "execution_count": 6,
   "metadata": {},
   "outputs": [
    {
     "name": "stdout",
     "output_type": "stream",
     "text": [
      "Blobs collection saved to blobs_collection.json\n"
     ]
    }
   ],
   "source": [
    "\n",
    "# Vectorize each image in the collection and add the embeddings to the collection\n",
    "for blob in blobs_collection:\n",
    "    # Vectorize the image\n",
    "    response = vectorize_image(blob[\"imageUrl\"], is_url=True)\n",
    "\n",
    "    # Add the embeddings to the collection\n",
    "    if response:\n",
    "        blob[\"imageVector\"] = response[\"vector\"]\n",
    "    else:\n",
    "        blob[\"imageVector\"] = None\n",
    "\n",
    "# save the blob collection to a file\n",
    "import json\n",
    "# Save the blob collection to a file\n",
    "output_file = \"blobs_collection.json\"\n",
    "with open(output_file, \"w\") as file:\n",
    "    json.dump(blobs_collection, file, indent=4)\n",
    "\n",
    "print(f\"Blobs collection saved to {output_file}\")\n"
   ]
  },
  {
   "cell_type": "markdown",
   "metadata": {},
   "source": [
    "## Create an Azure AI Search Index"
   ]
  },
  {
   "cell_type": "code",
   "execution_count": 7,
   "metadata": {},
   "outputs": [
    {
     "name": "stdout",
     "output_type": "stream",
     "text": [
      " az-image-index-001 created\n"
     ]
    }
   ],
   "source": [
    "from azure.core.credentials import AzureKeyCredential\n",
    "from azure.search.documents.indexes import SearchIndexClient\n",
    "from azure.search.documents.indexes.models import (\n",
    "    SearchField,\n",
    "    SimpleField,\n",
    "    SearchableField,\n",
    "    SearchFieldDataType,\n",
    "    VectorSearch,\n",
    "    HnswAlgorithmConfiguration,\n",
    "    VectorSearchProfile,\n",
    "    SearchIndex\n",
    ")\n",
    "\n",
    "# Get credential from Azure AI Search Admin key\n",
    "credential = AzureKeyCredential(azure_search_service_admin_key)\n",
    "\n",
    "# Create a search index\n",
    "index_client = SearchIndexClient(\n",
    "  endpoint=azure_search_service_endpoint, \n",
    "  credential=credential)\n",
    "\n",
    "fields = [\n",
    "    SimpleField(name=\"id\", type=SearchFieldDataType.String, key=True, sortable=True, filterable=True, facetable=True),\n",
    "    SearchableField(name=\"imageName\", type=SearchFieldDataType.String),\n",
    "    SearchableField(name=\"imageUrl\", type=SearchFieldDataType.String),\n",
    "    SearchableField(name=\"imageDenseCaptions\", type=SearchFieldDataType.String),\n",
    "    SearchField(name=\"imageVector\", \n",
    "                type=SearchFieldDataType.Collection(SearchFieldDataType.Single),\n",
    "                searchable=True, \n",
    "                vector_search_dimensions=azure_search_service_embedding_size, \n",
    "                vector_search_profile_name=\"myHnswProfile\"),\n",
    "]\n",
    "\n",
    "# Configure the vector search configuration  \n",
    "vector_search = VectorSearch(\n",
    "    algorithms=[\n",
    "        HnswAlgorithmConfiguration(name=\"myHnsw\")\n",
    "    ],\n",
    "    profiles=[\n",
    "        VectorSearchProfile(\n",
    "            name=\"myHnswProfile\",\n",
    "            algorithm_configuration_name=\"myHnsw\"\n",
    "        )\n",
    "    ] \n",
    ")\n",
    "\n",
    "# Create the search index with the semantic settings\n",
    "index = SearchIndex(name=azure_search_service_index_name, \n",
    "                    fields=fields,\n",
    "                    vector_search=vector_search)\n",
    "\n",
    "result = index_client.create_or_update_index(index)\n",
    "print(f' {result.name} created')"
   ]
  },
  {
   "cell_type": "markdown",
   "metadata": {},
   "source": [
    "## Upload data into Search Index"
   ]
  },
  {
   "cell_type": "code",
   "execution_count": 8,
   "metadata": {},
   "outputs": [
    {
     "name": "stdout",
     "output_type": "stream",
     "text": [
      "Uploaded 62 documents in total\n"
     ]
    }
   ],
   "source": [
    "import json\n",
    "from azure.search.documents import SearchIndexingBufferedSender\n",
    "\n",
    "# Load the JSON file\n",
    "file_path = 'blobs_collection.json'\n",
    "with open(file_path, 'r') as file:\n",
    "    documents = json.load(file)\n",
    "\n",
    "# Use SearchIndexingBufferedSender to upload the documents in batches optimized for indexing\n",
    "with SearchIndexingBufferedSender(\n",
    "    endpoint=azure_search_service_endpoint,\n",
    "    index_name=azure_search_service_index_name,\n",
    "    credential=credential,\n",
    ") as batch_client:\n",
    "    # Add upload actions for all documents\n",
    "    batch_client.upload_documents(documents)\n",
    "\n",
    "print(f\"Uploaded {len(documents)} documents in total\")"
   ]
  },
  {
   "cell_type": "markdown",
   "metadata": {},
   "source": [
    "## Vectorize Text API"
   ]
  },
  {
   "cell_type": "code",
   "execution_count": 9,
   "metadata": {},
   "outputs": [],
   "source": [
    "import requests\n",
    "\n",
    "def vectorize_text(text):\n",
    "    \n",
    "    # API URL\n",
    "    url = f\"{azure_computer_vision_endpoint}/computervision/retrieval:vectorizeText?api-version=2024-02-01&model-version=2023-04-15\"\n",
    "\n",
    "    # Set headers\n",
    "    headers = {\n",
    "        \"Content-Type\": \"application/json\",\n",
    "        \"Ocp-Apim-Subscription-Key\": azure_computer_vision_key\n",
    "    }\n",
    "\n",
    "    # Set the data payload\n",
    "    data = {\n",
    "        \"text\": text\n",
    "    }\n",
    "\n",
    "    try:\n",
    "        # Make the request\n",
    "        response = requests.post(url, headers=headers, json=data)\n",
    "        response.raise_for_status()  # Raise an exception for HTTP errors\n",
    "\n",
    "        # Return the JSON response\n",
    "        return response.json()\n",
    "\n",
    "    except requests.exceptions.RequestException as e:\n",
    "        print(f\"Error: {e}\")\n",
    "        return None\n"
   ]
  },
  {
   "cell_type": "markdown",
   "metadata": {},
   "source": [
    "# Perform a Text Search in Azure AI Search"
   ]
  },
  {
   "cell_type": "code",
   "execution_count": 11,
   "metadata": {},
   "outputs": [
    {
     "name": "stdout",
     "output_type": "stream",
     "text": [
      "User Input: people working with a laptop\n",
      "************************************\n",
      "Search Results: \n",
      "Score: 0.62159467\n",
      "Image Name: analyze_image.jpg, Image URL: https://ziggystorage01.blob.core.windows.net/images/analyze_image.jpg\n",
      "Dense Captions: a person looking at a laptop, a group of women sitting at a table looking at a laptop, a person's hands on a laptop, blur a blurry picture of a window, a close-up of a person's eyes, a person in glasses looking at a laptop, a blurry image of a tree, blur a blurry image of a computer screen, a person smiling at something, a close-up of a person wearing glasses\n"
     ]
    },
    {
     "data": {
      "text/html": [
       "<img src=\"https://ziggystorage01.blob.core.windows.net/images/analyze_image.jpg\"/>"
      ],
      "text/plain": [
       "<IPython.core.display.Image object>"
      ]
     },
     "metadata": {},
     "output_type": "display_data"
    },
    {
     "name": "stdout",
     "output_type": "stream",
     "text": [
      "Score: 0.61380297\n",
      "Image Name: group_2.jpeg, Image URL: https://ziggystorage01.blob.core.windows.net/images/group_2.jpeg\n",
      "Dense Captions: a couple of women looking at a laptop, a person looking at a laptop, a couple of women looking at a laptop, a close-up of a person smiling, blur a blurry picture of a book\n"
     ]
    },
    {
     "data": {
      "text/html": [
       "<img src=\"https://ziggystorage01.blob.core.windows.net/images/group_2.jpeg\"/>"
      ],
      "text/plain": [
       "<IPython.core.display.Image object>"
      ]
     },
     "metadata": {},
     "output_type": "display_data"
    },
    {
     "name": "stdout",
     "output_type": "stream",
     "text": [
      "Score: 0.61146015\n",
      "Image Name: person_b1.jpeg, Image URL: https://ziggystorage01.blob.core.windows.net/images/person_b1.jpeg\n",
      "Dense Captions: a person with short curly hair and a nose ring talking to a person on a laptop, a person smiling at a computer screen, a close up of a white surface\n"
     ]
    },
    {
     "data": {
      "text/html": [
       "<img src=\"https://ziggystorage01.blob.core.windows.net/images/person_b1.jpeg\"/>"
      ],
      "text/plain": [
       "<IPython.core.display.Image object>"
      ]
     },
     "metadata": {},
     "output_type": "display_data"
    },
    {
     "name": "stdout",
     "output_type": "stream",
     "text": [
      "Score: 0.60750765\n",
      "Image Name: group_1.jpeg, Image URL: https://ziggystorage01.blob.core.windows.net/images/group_1.jpeg\n",
      "Dense Captions: a person looking at another person, a person smiling with her hand on her chin, a person pointing at a windmill, a close-up of a windmill\n"
     ]
    },
    {
     "data": {
      "text/html": [
       "<img src=\"https://ziggystorage01.blob.core.windows.net/images/group_1.jpeg\"/>"
      ],
      "text/plain": [
       "<IPython.core.display.Image object>"
      ]
     },
     "metadata": {},
     "output_type": "display_data"
    },
    {
     "name": "stdout",
     "output_type": "stream",
     "text": [
      "Score: 0.60390174\n",
      "Image Name: person_a2.jpeg, Image URL: https://ziggystorage01.blob.core.windows.net/images/person_a2.jpeg\n",
      "Dense Captions: a person pointing at a small windmill, a person pointing at a model windmill, a person holding a small windmill, a blurry image of a person sitting in a chair, a blurry image of a person's head\n"
     ]
    },
    {
     "data": {
      "text/html": [
       "<img src=\"https://ziggystorage01.blob.core.windows.net/images/person_a2.jpeg\"/>"
      ],
      "text/plain": [
       "<IPython.core.display.Image object>"
      ]
     },
     "metadata": {},
     "output_type": "display_data"
    }
   ],
   "source": [
    "from azure.search.documents import SearchClient\n",
    "from azure.search.documents.models import VectorizedQuery\n",
    "from azure.core.credentials import AzureKeyCredential\n",
    "from IPython.display import Image, display\n",
    "\n",
    "# Get credential from Azure AI Search Admin key\n",
    "credential = AzureKeyCredential(azure_search_service_admin_key)\n",
    "search_client = SearchClient(endpoint=azure_search_service_endpoint, \n",
    "                             credential=credential, \n",
    "                             index_name=azure_search_service_index_name)\n",
    "\n",
    "# Get the vector of the query\n",
    "query = \"people working with a laptop\"\n",
    "vectorized_text = vectorize_text(query)\n",
    "vector = vectorized_text[\"vector\"]\n",
    "\n",
    "# display user input\n",
    "print(f\"User Input: {query}\")\n",
    "print(\"************************************\")\n",
    "\n",
    "# Create the VectorizedQuery instance\n",
    "vector_query = VectorizedQuery(\n",
    "    vector=vector, \n",
    "    k_nearest_neighbors=5, \n",
    "    fields=\"imageVector\"\n",
    ")\n",
    "\n",
    "results = search_client.search(  \n",
    "    search_text=None,  \n",
    "    vector_queries=[vector_query],\n",
    "    select=[\"imageName\", \"imageUrl\", \"imageDenseCaptions\"],\n",
    "    top=5\n",
    ")\n",
    "\n",
    "# Process and display the results\n",
    "print(\"Search Results: \")\n",
    "for result in results:\n",
    "    print(f\"Score: {result['@search.score']}\")\n",
    "    image_name = result['imageName']\n",
    "    image_url = result['imageUrl']\n",
    "    image_dense_captions = result['imageDenseCaptions']\n",
    "    print(f\"Image Name: {image_name}, Image URL: {image_url}\")\n",
    "    print(f\"Dense Captions: {image_dense_captions}\")\n",
    "    display(Image(url=image_url))"
   ]
  },
  {
   "cell_type": "markdown",
   "metadata": {},
   "source": [
    "# Perform a search using an Image in Azure AI Search"
   ]
  },
  {
   "cell_type": "code",
   "execution_count": 13,
   "metadata": {},
   "outputs": [
    {
     "name": "stdout",
     "output_type": "stream",
     "text": [
      "User Input: testimage.jpeg\n"
     ]
    },
    {
     "data": {
      "image/jpeg": "[encoded data removed]",
      "text/plain": [
       "<IPython.core.display.Image object>"
      ]
     },
     "metadata": {},
     "output_type": "display_data"
    },
    {
     "name": "stdout",
     "output_type": "stream",
     "text": [
      "************************************\n",
      "Search Results: \n",
      "Score: 0.8889207\n",
      "Image Name: bus9.jpeg, Image URL: https://ziggystorage01.blob.core.windows.net/images/bus9.jpeg\n"
     ]
    },
    {
     "data": {
      "text/html": [
       "<img src=\"https://ziggystorage01.blob.core.windows.net/images/bus9.jpeg\"/>"
      ],
      "text/plain": [
       "<IPython.core.display.Image object>"
      ]
     },
     "metadata": {},
     "output_type": "display_data"
    },
    {
     "name": "stdout",
     "output_type": "stream",
     "text": [
      "Score: 0.87775326\n",
      "Image Name: bus6.jpeg, Image URL: https://ziggystorage01.blob.core.windows.net/images/bus6.jpeg\n"
     ]
    },
    {
     "data": {
      "text/html": [
       "<img src=\"https://ziggystorage01.blob.core.windows.net/images/bus6.jpeg\"/>"
      ],
      "text/plain": [
       "<IPython.core.display.Image object>"
      ]
     },
     "metadata": {},
     "output_type": "display_data"
    },
    {
     "name": "stdout",
     "output_type": "stream",
     "text": [
      "Score: 0.866144\n",
      "Image Name: bus7.jpeg, Image URL: https://ziggystorage01.blob.core.windows.net/images/bus7.jpeg\n"
     ]
    },
    {
     "data": {
      "text/html": [
       "<img src=\"https://ziggystorage01.blob.core.windows.net/images/bus7.jpeg\"/>"
      ],
      "text/plain": [
       "<IPython.core.display.Image object>"
      ]
     },
     "metadata": {},
     "output_type": "display_data"
    }
   ],
   "source": [
    "from azure.search.documents import SearchClient\n",
    "from azure.search.documents.models import VectorizedQuery\n",
    "from azure.core.credentials import AzureKeyCredential\n",
    "from IPython.display import Image, display\n",
    "\n",
    "# Get credential from Azure AI Search Admin key\n",
    "credential = AzureKeyCredential(azure_search_service_admin_key)\n",
    "search_client = SearchClient(endpoint=azure_search_service_endpoint, \n",
    "                             credential=credential, \n",
    "                             index_name=azure_search_service_index_name)\n",
    "\n",
    "# Get the vector of the query\n",
    "query = \"testimage.jpeg\"\n",
    "vectorized_image = vectorize_image(query, is_url=False)\n",
    "vector = vectorized_image[\"vector\"]\n",
    "\n",
    "# display user input\n",
    "print(f\"User Input: {query}\")\n",
    "display(Image(filename=query))\n",
    "print(\"************************************\")\n",
    "\n",
    "# Create the VectorizedQuery instance\n",
    "vector_query = VectorizedQuery(\n",
    "    vector=vector, \n",
    "    k_nearest_neighbors=5, \n",
    "    fields=\"imageVector\"\n",
    ")\n",
    "\n",
    "# Perform the search\n",
    "results = search_client.search(\n",
    "    search_text=None,  \n",
    "    vector_queries=[vector_query],  # Include the vector query here\n",
    "    select=[\"imageName\", \"imageUrl\"],\n",
    "    top=3\n",
    ")\n",
    "\n",
    "# Process and display the results\n",
    "print(\"Search Results: \")\n",
    "for result in results:\n",
    "    print(f\"Score: {result['@search.score']}\")\n",
    "    image_name = result['imageName']\n",
    "    image_url = result['imageUrl']\n",
    "    print(f\"Image Name: {image_name}, Image URL: {image_url}\")\n",
    "    display(Image(url=image_url))"
   ]
  }
 ],
 "metadata": {
  "kernelspec": {
   "display_name": "Python 3",
   "language": "python",
   "name": "python3"
  },
  "language_info": {
   "codemirror_mode": {
    "name": "ipython",
    "version": 3
   },
   "file_extension": ".py",
   "mimetype": "text/x-python",
   "name": "python",
   "nbconvert_exporter": "python",
   "pygments_lexer": "ipython3",
   "version": "3.12.1"
  }
 },
 "nbformat": 4,
 "nbformat_minor": 2
}
