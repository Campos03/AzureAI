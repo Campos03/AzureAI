{
 "cells": [
  {
   "cell_type": "markdown",
   "metadata": {},
   "source": [
    "## Image Retrieval with Azure AI Search\n",
    "\n",
    "Requirements:\n",
    "1. Azure AI Search\n",
    "2. Azure Computer Vision\n",
    "3. Azure Storage\n",
    "\n",
    "Steps:\n",
    "1. Store images in Azure Storage \n",
    "2. Get access to images in Azure Storage\n",
    "3. Create Search index in Azure AI Search\n",
    "4. Generate embeddings for images\n",
    "5. Store embeddings and other metadata to Azure AI Search\n",
    "6. Perform a search in Azure AI Search"
   ]
  },
  {
   "cell_type": "markdown",
   "metadata": {},
   "source": [
    "## Load Azure Configuration"
   ]
  },
  {
   "cell_type": "code",
   "execution_count": 44,
   "metadata": {},
   "outputs": [],
   "source": [
    "import os\n",
    "\n",
    "azure_computer_vision_endpoint = os.environ[\"AZURE_COMPUTER_VISION_ENDPOINT\"]\n",
    "azure_computer_vision_key = os.environ[\"AZURE_COMPUTER_VISION_KEY\"]\n",
    "\n",
    "azure_storage_connection_string = os.getenv(\"AZURE_STORAGE_CONNECTION_STRING\")\n",
    "\n",
    "azure_search_service_endpoint = os.getenv(\"AZURE_SEARCH_SERVICE_ENDPOINT\")\n",
    "azure_search_service_admin_key = os.getenv(\"AZURE_SEARCH_ADMIN_KEY\")\n",
    "azure_search_service_index_name = \"az-image-index-001\"\n",
    "azure_search_service_embedding_size=1024\n"
   ]
  },
  {
   "cell_type": "markdown",
   "metadata": {},
   "source": [
    "## Get files from Azure Storage and Store in Container"
   ]
  },
  {
   "cell_type": "code",
   "execution_count": null,
   "metadata": {},
   "outputs": [
    {
     "name": "stdout",
     "output_type": "stream",
     "text": [
      "Access to the blob storage was granted.\n",
      "Blobs collection:\n",
      "{'id': 1, 'imageName': 'analyze_image.jpg', 'imageUrl': 'https://ziggystorage01.blob.core.windows.net/images/analyze_image.jpg'}\n",
      "{'id': 2, 'imageName': 'bicycle1.jpeg', 'imageUrl': 'https://ziggystorage01.blob.core.windows.net/images/bicycle1.jpeg'}\n",
      "{'id': 3, 'imageName': 'bicycle10.jpeg', 'imageUrl': 'https://ziggystorage01.blob.core.windows.net/images/bicycle10.jpeg'}\n",
      "{'id': 4, 'imageName': 'bicycle2.jpeg', 'imageUrl': 'https://ziggystorage01.blob.core.windows.net/images/bicycle2.jpeg'}\n",
      "{'id': 5, 'imageName': 'bicycle3.jpeg', 'imageUrl': 'https://ziggystorage01.blob.core.windows.net/images/bicycle3.jpeg'}\n",
      "{'id': 6, 'imageName': 'bicycle4.jpeg', 'imageUrl': 'https://ziggystorage01.blob.core.windows.net/images/bicycle4.jpeg'}\n",
      "{'id': 7, 'imageName': 'bicycle5.jpeg', 'imageUrl': 'https://ziggystorage01.blob.core.windows.net/images/bicycle5.jpeg'}\n",
      "{'id': 8, 'imageName': 'bicycle6.jpeg', 'imageUrl': 'https://ziggystorage01.blob.core.windows.net/images/bicycle6.jpeg'}\n",
      "{'id': 9, 'imageName': 'bicycle7.jpeg', 'imageUrl': 'https://ziggystorage01.blob.core.windows.net/images/bicycle7.jpeg'}\n",
      "{'id': 10, 'imageName': 'bicycle8.jpeg', 'imageUrl': 'https://ziggystorage01.blob.core.windows.net/images/bicycle8.jpeg'}\n",
      "{'id': 11, 'imageName': 'bicycle9.jpeg', 'imageUrl': 'https://ziggystorage01.blob.core.windows.net/images/bicycle9.jpeg'}\n",
      "{'id': 12, 'imageName': 'bus1.jpeg', 'imageUrl': 'https://ziggystorage01.blob.core.windows.net/images/bus1.jpeg'}\n",
      "{'id': 13, 'imageName': 'bus10.jpeg', 'imageUrl': 'https://ziggystorage01.blob.core.windows.net/images/bus10.jpeg'}\n",
      "{'id': 14, 'imageName': 'bus2.jpeg', 'imageUrl': 'https://ziggystorage01.blob.core.windows.net/images/bus2.jpeg'}\n",
      "{'id': 15, 'imageName': 'bus3.jpeg', 'imageUrl': 'https://ziggystorage01.blob.core.windows.net/images/bus3.jpeg'}\n",
      "{'id': 16, 'imageName': 'bus4.jpeg', 'imageUrl': 'https://ziggystorage01.blob.core.windows.net/images/bus4.jpeg'}\n",
      "{'id': 17, 'imageName': 'bus5.jpeg', 'imageUrl': 'https://ziggystorage01.blob.core.windows.net/images/bus5.jpeg'}\n",
      "{'id': 18, 'imageName': 'bus6.jpeg', 'imageUrl': 'https://ziggystorage01.blob.core.windows.net/images/bus6.jpeg'}\n",
      "{'id': 19, 'imageName': 'bus7.jpeg', 'imageUrl': 'https://ziggystorage01.blob.core.windows.net/images/bus7.jpeg'}\n",
      "{'id': 20, 'imageName': 'bus8.jpeg', 'imageUrl': 'https://ziggystorage01.blob.core.windows.net/images/bus8.jpeg'}\n",
      "{'id': 21, 'imageName': 'bus9.jpeg', 'imageUrl': 'https://ziggystorage01.blob.core.windows.net/images/bus9.jpeg'}\n",
      "{'id': 22, 'imageName': 'car1.jpeg', 'imageUrl': 'https://ziggystorage01.blob.core.windows.net/images/car1.jpeg'}\n",
      "{'id': 23, 'imageName': 'car10.jpeg', 'imageUrl': 'https://ziggystorage01.blob.core.windows.net/images/car10.jpeg'}\n",
      "{'id': 24, 'imageName': 'car2.jpeg', 'imageUrl': 'https://ziggystorage01.blob.core.windows.net/images/car2.jpeg'}\n",
      "{'id': 25, 'imageName': 'car3.jpeg', 'imageUrl': 'https://ziggystorage01.blob.core.windows.net/images/car3.jpeg'}\n",
      "{'id': 26, 'imageName': 'car4.jpeg', 'imageUrl': 'https://ziggystorage01.blob.core.windows.net/images/car4.jpeg'}\n",
      "{'id': 27, 'imageName': 'car5.jpeg', 'imageUrl': 'https://ziggystorage01.blob.core.windows.net/images/car5.jpeg'}\n",
      "{'id': 28, 'imageName': 'car6.jpeg', 'imageUrl': 'https://ziggystorage01.blob.core.windows.net/images/car6.jpeg'}\n",
      "{'id': 29, 'imageName': 'car7.jpeg', 'imageUrl': 'https://ziggystorage01.blob.core.windows.net/images/car7.jpeg'}\n",
      "{'id': 30, 'imageName': 'car8.jpeg', 'imageUrl': 'https://ziggystorage01.blob.core.windows.net/images/car8.jpeg'}\n",
      "{'id': 31, 'imageName': 'car9.jpeg', 'imageUrl': 'https://ziggystorage01.blob.core.windows.net/images/car9.jpeg'}\n",
      "{'id': 32, 'imageName': 'empirestate.jpeg', 'imageUrl': 'https://ziggystorage01.blob.core.windows.net/images/empirestate.jpeg'}\n",
      "{'id': 33, 'imageName': 'fork_1.jpg', 'imageUrl': 'https://ziggystorage01.blob.core.windows.net/images/fork_1.jpg'}\n",
      "{'id': 34, 'imageName': 'fork_2.jpg', 'imageUrl': 'https://ziggystorage01.blob.core.windows.net/images/fork_2.jpg'}\n",
      "{'id': 35, 'imageName': 'fork_3.jpg', 'imageUrl': 'https://ziggystorage01.blob.core.windows.net/images/fork_3.jpg'}\n",
      "{'id': 36, 'imageName': 'fork_4.jpg', 'imageUrl': 'https://ziggystorage01.blob.core.windows.net/images/fork_4.jpg'}\n",
      "{'id': 37, 'imageName': 'fork_5.jpg', 'imageUrl': 'https://ziggystorage01.blob.core.windows.net/images/fork_5.jpg'}\n",
      "{'id': 38, 'imageName': 'group_1.jpeg', 'imageUrl': 'https://ziggystorage01.blob.core.windows.net/images/group_1.jpeg'}\n",
      "{'id': 39, 'imageName': 'group_2.jpeg', 'imageUrl': 'https://ziggystorage01.blob.core.windows.net/images/group_2.jpeg'}\n",
      "{'id': 40, 'imageName': 'hemlock_1.jpg', 'imageUrl': 'https://ziggystorage01.blob.core.windows.net/images/hemlock_1.jpg'}\n",
      "{'id': 41, 'imageName': 'hemlock_2.jpg', 'imageUrl': 'https://ziggystorage01.blob.core.windows.net/images/hemlock_2.jpg'}\n",
      "{'id': 42, 'imageName': 'hemlock_3.jpg', 'imageUrl': 'https://ziggystorage01.blob.core.windows.net/images/hemlock_3.jpg'}\n",
      "{'id': 43, 'imageName': 'hemlock_4.jpg', 'imageUrl': 'https://ziggystorage01.blob.core.windows.net/images/hemlock_4.jpg'}\n",
      "{'id': 44, 'imageName': 'hemlock_5.jpg', 'imageUrl': 'https://ziggystorage01.blob.core.windows.net/images/hemlock_5.jpg'}\n",
      "{'id': 45, 'imageName': 'japanese_cherry_1.jpg', 'imageUrl': 'https://ziggystorage01.blob.core.windows.net/images/japanese_cherry_1.jpg'}\n",
      "{'id': 46, 'imageName': 'japanese_cherry_2.jpg', 'imageUrl': 'https://ziggystorage01.blob.core.windows.net/images/japanese_cherry_2.jpg'}\n",
      "{'id': 47, 'imageName': 'japanese_cherry_3.jpg', 'imageUrl': 'https://ziggystorage01.blob.core.windows.net/images/japanese_cherry_3.jpg'}\n",
      "{'id': 48, 'imageName': 'japanese_cherry_4.jpg', 'imageUrl': 'https://ziggystorage01.blob.core.windows.net/images/japanese_cherry_4.jpg'}\n",
      "{'id': 49, 'imageName': 'japanese_cherry_5.jpg', 'imageUrl': 'https://ziggystorage01.blob.core.windows.net/images/japanese_cherry_5.jpg'}\n",
      "{'id': 50, 'imageName': 'mtfuji.jpeg', 'imageUrl': 'https://ziggystorage01.blob.core.windows.net/images/mtfuji.jpeg'}\n",
      "{'id': 51, 'imageName': 'person_a1.jpeg', 'imageUrl': 'https://ziggystorage01.blob.core.windows.net/images/person_a1.jpeg'}\n",
      "{'id': 52, 'imageName': 'person_a2.jpeg', 'imageUrl': 'https://ziggystorage01.blob.core.windows.net/images/person_a2.jpeg'}\n",
      "{'id': 53, 'imageName': 'person_b1.jpeg', 'imageUrl': 'https://ziggystorage01.blob.core.windows.net/images/person_b1.jpeg'}\n",
      "{'id': 54, 'imageName': 'person_b2.jpeg', 'imageUrl': 'https://ziggystorage01.blob.core.windows.net/images/person_b2.jpeg'}\n",
      "{'id': 55, 'imageName': 'person_c1.jpeg', 'imageUrl': 'https://ziggystorage01.blob.core.windows.net/images/person_c1.jpeg'}\n",
      "{'id': 56, 'imageName': 'person_c2.jpeg', 'imageUrl': 'https://ziggystorage01.blob.core.windows.net/images/person_c2.jpeg'}\n",
      "{'id': 57, 'imageName': 'person_c3.jpeg', 'imageUrl': 'https://ziggystorage01.blob.core.windows.net/images/person_c3.jpeg'}\n",
      "{'id': 58, 'imageName': 'scissors_1.jpg', 'imageUrl': 'https://ziggystorage01.blob.core.windows.net/images/scissors_1.jpg'}\n",
      "{'id': 59, 'imageName': 'scissors_2.jpg', 'imageUrl': 'https://ziggystorage01.blob.core.windows.net/images/scissors_2.jpg'}\n",
      "{'id': 60, 'imageName': 'scissors_3.jpg', 'imageUrl': 'https://ziggystorage01.blob.core.windows.net/images/scissors_3.jpg'}\n",
      "{'id': 61, 'imageName': 'scissors_4.jpg', 'imageUrl': 'https://ziggystorage01.blob.core.windows.net/images/scissors_4.jpg'}\n",
      "{'id': 62, 'imageName': 'scissors_5.jpg', 'imageUrl': 'https://ziggystorage01.blob.core.windows.net/images/scissors_5.jpg'}\n"
     ]
    }
   ],
   "source": [
    "from azure.storage.blob import BlobServiceClient\n",
    "\n",
    "# Initialize the BlobServiceClient with the connection string\n",
    "blob_service_client = BlobServiceClient.from_connection_string(azure_storage_connection_string)\n",
    "\n",
    "# Get the container client\n",
    "container_client = blob_service_client.get_container_client(\"images\")\n",
    "\n",
    "# List blobs in the container and store their URLs, names, and IDs in a collection\n",
    "blobs_collection = []\n",
    "\n",
    "idx = 0\n",
    "try:\n",
    "    blobs_list = container_client.list_blobs()\n",
    "    for blob in blobs_list:\n",
    "        idx += 1\n",
    "        blob_url = f\"{container_client.url}/{blob.name}\"\n",
    "        blobs_collection.append({\"id\": str(idx), \"imageName\": blob.name, \"imageUrl\": blob_url})\n",
    "    print(\"Access to the blob storage was granted.\")\n",
    "except Exception as e:\n",
    "    print(f\"Failed to access the blob storage: {e}\")\n",
    "\n",
    "# Print the collection\n",
    "print(\"Blobs collection:\")\n",
    "for blob in blobs_collection:\n",
    "    print(blob)"
   ]
  },
  {
   "cell_type": "markdown",
   "metadata": {},
   "source": [
    "## Vectorize Image API"
   ]
  },
  {
   "cell_type": "code",
   "execution_count": 50,
   "metadata": {},
   "outputs": [],
   "source": [
    "import requests\n",
    "\n",
    "def vectorize_image(image_url):\n",
    "    \"\"\"\n",
    "    Get image embeddings from Azure Computer Vision API using an image URL.\n",
    "\n",
    "    Parameters:\n",
    "    - image_url: str, the URL of the image to be vectorized\n",
    "\n",
    "    Returns:\n",
    "    - dict, the JSON response from the API\n",
    "    \"\"\"\n",
    "    # API URL\n",
    "    url = f\"{azure_computer_vision_endpoint}/computervision/retrieval:vectorizeImage?api-version=2024-02-01&model-version=2023-04-15\"\n",
    "\n",
    "    # Set headers\n",
    "    headers = {\n",
    "        \"Content-Type\": \"application/json\",\n",
    "        \"Ocp-Apim-Subscription-Key\": azure_computer_vision_key\n",
    "    }\n",
    "\n",
    "    # Set the data payload\n",
    "    data = {\n",
    "        \"url\": image_url\n",
    "    }\n",
    "\n",
    "    try:\n",
    "        # Make the request\n",
    "        response = requests.post(url, headers=headers, json=data)\n",
    "        response.raise_for_status()  # Raise an exception for HTTP errors\n",
    "\n",
    "        # Return the JSON response\n",
    "        return response.json()\n",
    "\n",
    "    except requests.exceptions.RequestException as e:\n",
    "        print(f\"Error: {e}\")\n",
    "        return None\n",
    "\n"
   ]
  },
  {
   "cell_type": "markdown",
   "metadata": {},
   "source": [
    "## Get Embeddings for each Image and save to a file"
   ]
  },
  {
   "cell_type": "code",
   "execution_count": 53,
   "metadata": {},
   "outputs": [
    {
     "name": "stdout",
     "output_type": "stream",
     "text": [
      "Blobs collection saved to blobs_collection.json\n"
     ]
    }
   ],
   "source": [
    "\n",
    "# Vectorize each image in the collection and add the embeddings to the collection\n",
    "for blob in blobs_collection:\n",
    "    # Vectorize the image\n",
    "    response = vectorize_image(blob[\"imageUrl\"])\n",
    "\n",
    "    # Add the embeddings to the collection\n",
    "    if response:\n",
    "        blob[\"imageVector\"] = response[\"vector\"]\n",
    "    else:\n",
    "        blob[\"imageVector\"] = None\n",
    "\n",
    "# save the blob collection to a file\n",
    "import json\n",
    "# Save the blob collection to a file\n",
    "output_file = \"blobs_collection.json\"\n",
    "with open(output_file, \"w\") as file:\n",
    "    json.dump(blobs_collection, file, indent=4)\n",
    "\n",
    "print(f\"Blobs collection saved to {output_file}\")\n"
   ]
  },
  {
   "cell_type": "markdown",
   "metadata": {},
   "source": [
    "## Create an Azure AI Search Index"
   ]
  },
  {
   "cell_type": "code",
   "execution_count": 55,
   "metadata": {},
   "outputs": [
    {
     "name": "stdout",
     "output_type": "stream",
     "text": [
      " az-image-index-001 created\n"
     ]
    }
   ],
   "source": [
    "from azure.core.credentials import AzureKeyCredential\n",
    "from azure.search.documents.indexes import SearchIndexClient\n",
    "from azure.search.documents.indexes.models import (\n",
    "    SearchField,\n",
    "    SimpleField,\n",
    "    SearchableField,\n",
    "    SearchFieldDataType,\n",
    "    VectorSearch,\n",
    "    HnswAlgorithmConfiguration,\n",
    "    VectorSearchProfile,\n",
    "    SearchIndex\n",
    ")\n",
    "\n",
    "# Get credential from Azure AI Search Admin key\n",
    "credential = AzureKeyCredential(azure_search_service_admin_key)\n",
    "\n",
    "# Create a search index\n",
    "index_client = SearchIndexClient(\n",
    "  endpoint=azure_search_service_endpoint, \n",
    "  credential=credential)\n",
    "\n",
    "fields = [\n",
    "    SimpleField(name=\"id\", type=SearchFieldDataType.String, key=True, sortable=True, filterable=True, facetable=True),\n",
    "    SearchableField(name=\"imageName\", type=SearchFieldDataType.String),\n",
    "    SearchableField(name=\"imageUrl\", type=SearchFieldDataType.String),\n",
    "    SearchField(name=\"imageVector\", \n",
    "                type=SearchFieldDataType.Collection(SearchFieldDataType.Single),\n",
    "                searchable=True, \n",
    "                vector_search_dimensions=azure_search_service_embedding_size, \n",
    "                vector_search_profile_name=\"myHnswProfile\"),\n",
    "]\n",
    "\n",
    "# Configure the vector search configuration  \n",
    "vector_search = VectorSearch(\n",
    "    algorithms=[\n",
    "        HnswAlgorithmConfiguration(name=\"myHnsw\")\n",
    "    ],\n",
    "    profiles=[\n",
    "        VectorSearchProfile(\n",
    "            name=\"myHnswProfile\",\n",
    "            algorithm_configuration_name=\"myHnsw\"\n",
    "        )\n",
    "    ] \n",
    ")\n",
    "\n",
    "# Create the search index with the semantic settings\n",
    "index = SearchIndex(name=azure_search_service_index_name, \n",
    "                    fields=fields,\n",
    "                    vector_search=vector_search)\n",
    "result = index_client.create_or_update_index(index)\n",
    "print(f' {result.name} created')"
   ]
  },
  {
   "cell_type": "markdown",
   "metadata": {},
   "source": [
    "## Upload data into Search Index"
   ]
  },
  {
   "cell_type": "code",
   "execution_count": 66,
   "metadata": {},
   "outputs": [
    {
     "name": "stdout",
     "output_type": "stream",
     "text": [
      "Uploaded 62 documents in total\n"
     ]
    }
   ],
   "source": [
    "import json\n",
    "from azure.search.documents import SearchIndexingBufferedSender\n",
    "\n",
    "# Load the JSON file\n",
    "file_path = 'blobs_collection.json'\n",
    "with open(file_path, 'r') as file:\n",
    "    documents = json.load(file)\n",
    "\n",
    "# Use SearchIndexingBufferedSender to upload the documents in batches optimized for indexing\n",
    "with SearchIndexingBufferedSender(\n",
    "    endpoint=azure_search_service_endpoint,\n",
    "    index_name=azure_search_service_index_name,\n",
    "    credential=credential,\n",
    ") as batch_client:\n",
    "    # Add upload actions for all documents\n",
    "    batch_client.upload_documents(documents)\n",
    "\n",
    "print(f\"Uploaded {len(documents)} documents in total\")"
   ]
  },
  {
   "cell_type": "markdown",
   "metadata": {},
   "source": [
    "## Vectorize Text API"
   ]
  },
  {
   "cell_type": "code",
   "execution_count": 67,
   "metadata": {},
   "outputs": [],
   "source": [
    "import requests\n",
    "\n",
    "def vectorize_text(text):\n",
    "    \n",
    "    # API URL\n",
    "    url = f\"{azure_computer_vision_endpoint}/computervision/retrieval:vectorizeText?api-version=2024-02-01&model-version=2023-04-15\"\n",
    "\n",
    "    # Set headers\n",
    "    headers = {\n",
    "        \"Content-Type\": \"application/json\",\n",
    "        \"Ocp-Apim-Subscription-Key\": azure_computer_vision_key\n",
    "    }\n",
    "\n",
    "    # Set the data payload\n",
    "    data = {\n",
    "        \"text\": text\n",
    "    }\n",
    "\n",
    "    try:\n",
    "        # Make the request\n",
    "        response = requests.post(url, headers=headers, json=data)\n",
    "        response.raise_for_status()  # Raise an exception for HTTP errors\n",
    "\n",
    "        # Return the JSON response\n",
    "        return response.json()\n",
    "\n",
    "    except requests.exceptions.RequestException as e:\n",
    "        print(f\"Error: {e}\")\n",
    "        return None\n"
   ]
  },
  {
   "cell_type": "markdown",
   "metadata": {},
   "source": [
    "# Perform a Search in Azure AI Search"
   ]
  },
  {
   "cell_type": "code",
   "execution_count": 72,
   "metadata": {},
   "outputs": [
    {
     "ename": "SerializationError",
     "evalue": "Unable to serialize value: [<azure.search.documents._generated.models._models_py3.VectorizedQuery object at 0x7976ac14d220>] as type: '[VectorQuery]'.",
     "output_type": "error",
     "traceback": [
      "\u001b[0;31m---------------------------------------------------------------------------\u001b[0m",
      "\u001b[0;31mValueError\u001b[0m                                Traceback (most recent call last)",
      "File \u001b[0;32m~/.python/current/lib/python3.12/site-packages/azure/search/documents/_generated/_serialization.py:806\u001b[0m, in \u001b[0;36mSerializer.serialize_data\u001b[0;34m(self, data, data_type, **kwargs)\u001b[0m\n\u001b[1;32m    805\u001b[0m \u001b[38;5;28;01mif\u001b[39;00m data_type \u001b[38;5;129;01min\u001b[39;00m \u001b[38;5;28mself\u001b[39m\u001b[38;5;241m.\u001b[39mbasic_types\u001b[38;5;241m.\u001b[39mvalues():\n\u001b[0;32m--> 806\u001b[0m     \u001b[38;5;28;01mreturn\u001b[39;00m \u001b[38;5;28;43mself\u001b[39;49m\u001b[38;5;241;43m.\u001b[39;49m\u001b[43mserialize_basic\u001b[49m\u001b[43m(\u001b[49m\u001b[43mdata\u001b[49m\u001b[43m,\u001b[49m\u001b[43m \u001b[49m\u001b[43mdata_type\u001b[49m\u001b[43m,\u001b[49m\u001b[43m \u001b[49m\u001b[38;5;241;43m*\u001b[39;49m\u001b[38;5;241;43m*\u001b[39;49m\u001b[43mkwargs\u001b[49m\u001b[43m)\u001b[49m\n\u001b[1;32m    808\u001b[0m \u001b[38;5;28;01melif\u001b[39;00m data_type \u001b[38;5;129;01min\u001b[39;00m \u001b[38;5;28mself\u001b[39m\u001b[38;5;241m.\u001b[39mserialize_type:\n",
      "File \u001b[0;32m~/.python/current/lib/python3.12/site-packages/azure/search/documents/_generated/_serialization.py:852\u001b[0m, in \u001b[0;36mSerializer.serialize_basic\u001b[0;34m(cls, data, data_type, **kwargs)\u001b[0m\n\u001b[1;32m    851\u001b[0m     \u001b[38;5;28;01mreturn\u001b[39;00m \u001b[38;5;28mcls\u001b[39m\u001b[38;5;241m.\u001b[39mserialize_unicode(data)\n\u001b[0;32m--> 852\u001b[0m \u001b[38;5;28;01mreturn\u001b[39;00m \u001b[38;5;28;43meval\u001b[39;49m\u001b[43m(\u001b[49m\u001b[43mdata_type\u001b[49m\u001b[43m)\u001b[49m\u001b[43m(\u001b[49m\u001b[43mdata\u001b[49m\u001b[43m)\u001b[49m\n",
      "\u001b[0;31mValueError\u001b[0m: could not convert string to float: 'vector'",
      "\nThe above exception was the direct cause of the following exception:\n",
      "\u001b[0;31mSerializationError\u001b[0m                        Traceback (most recent call last)",
      "File \u001b[0;32m~/.python/current/lib/python3.12/site-packages/azure/search/documents/_generated/_serialization.py:819\u001b[0m, in \u001b[0;36mSerializer.serialize_data\u001b[0;34m(self, data, data_type, **kwargs)\u001b[0m\n\u001b[1;32m    818\u001b[0m     \u001b[38;5;28;01mif\u001b[39;00m iter_type \u001b[38;5;129;01min\u001b[39;00m \u001b[38;5;28mself\u001b[39m\u001b[38;5;241m.\u001b[39mserialize_type:\n\u001b[0;32m--> 819\u001b[0m         \u001b[38;5;28;01mreturn\u001b[39;00m \u001b[38;5;28;43mself\u001b[39;49m\u001b[38;5;241;43m.\u001b[39;49m\u001b[43mserialize_type\u001b[49m\u001b[43m[\u001b[49m\u001b[43miter_type\u001b[49m\u001b[43m]\u001b[49m\u001b[43m(\u001b[49m\u001b[43mdata\u001b[49m\u001b[43m,\u001b[49m\u001b[43m \u001b[49m\u001b[43mdata_type\u001b[49m\u001b[43m[\u001b[49m\u001b[38;5;241;43m1\u001b[39;49m\u001b[43m:\u001b[49m\u001b[38;5;241;43m-\u001b[39;49m\u001b[38;5;241;43m1\u001b[39;49m\u001b[43m]\u001b[49m\u001b[43m,\u001b[49m\u001b[43m \u001b[49m\u001b[38;5;241;43m*\u001b[39;49m\u001b[38;5;241;43m*\u001b[39;49m\u001b[43mkwargs\u001b[49m\u001b[43m)\u001b[49m\n\u001b[1;32m    821\u001b[0m \u001b[38;5;28;01mexcept\u001b[39;00m (\u001b[38;5;167;01mValueError\u001b[39;00m, \u001b[38;5;167;01mTypeError\u001b[39;00m) \u001b[38;5;28;01mas\u001b[39;00m err:\n",
      "File \u001b[0;32m~/.python/current/lib/python3.12/site-packages/azure/search/documents/_generated/_serialization.py:904\u001b[0m, in \u001b[0;36mSerializer.serialize_iter\u001b[0;34m(self, data, iter_type, div, **kwargs)\u001b[0m\n\u001b[1;32m    903\u001b[0m \u001b[38;5;28;01mtry\u001b[39;00m:\n\u001b[0;32m--> 904\u001b[0m     serialized\u001b[38;5;241m.\u001b[39mappend(\u001b[38;5;28;43mself\u001b[39;49m\u001b[38;5;241;43m.\u001b[39;49m\u001b[43mserialize_data\u001b[49m\u001b[43m(\u001b[49m\u001b[43md\u001b[49m\u001b[43m,\u001b[49m\u001b[43m \u001b[49m\u001b[43miter_type\u001b[49m\u001b[43m,\u001b[49m\u001b[43m \u001b[49m\u001b[38;5;241;43m*\u001b[39;49m\u001b[38;5;241;43m*\u001b[39;49m\u001b[43mkwargs\u001b[49m\u001b[43m)\u001b[49m)\n\u001b[1;32m    905\u001b[0m \u001b[38;5;28;01mexcept\u001b[39;00m \u001b[38;5;167;01mValueError\u001b[39;00m \u001b[38;5;28;01mas\u001b[39;00m err:\n",
      "File \u001b[0;32m~/.python/current/lib/python3.12/site-packages/azure/search/documents/_generated/_serialization.py:823\u001b[0m, in \u001b[0;36mSerializer.serialize_data\u001b[0;34m(self, data, data_type, **kwargs)\u001b[0m\n\u001b[1;32m    822\u001b[0m     msg \u001b[38;5;241m=\u001b[39m \u001b[38;5;124m\"\u001b[39m\u001b[38;5;124mUnable to serialize value: \u001b[39m\u001b[38;5;132;01m{!r}\u001b[39;00m\u001b[38;5;124m as type: \u001b[39m\u001b[38;5;132;01m{!r}\u001b[39;00m\u001b[38;5;124m.\u001b[39m\u001b[38;5;124m\"\u001b[39m\n\u001b[0;32m--> 823\u001b[0m     \u001b[38;5;28;01mraise\u001b[39;00m SerializationError(msg\u001b[38;5;241m.\u001b[39mformat(data, data_type)) \u001b[38;5;28;01mfrom\u001b[39;00m \u001b[38;5;21;01merr\u001b[39;00m\n\u001b[1;32m    824\u001b[0m \u001b[38;5;28;01melse\u001b[39;00m:\n",
      "\u001b[0;31mSerializationError\u001b[0m: Unable to serialize value: 'vector' as type: 'float'.",
      "\nThe above exception was the direct cause of the following exception:\n",
      "\u001b[0;31mSerializationError\u001b[0m                        Traceback (most recent call last)",
      "File \u001b[0;32m~/.python/current/lib/python3.12/site-packages/azure/search/documents/_generated/_serialization.py:819\u001b[0m, in \u001b[0;36mSerializer.serialize_data\u001b[0;34m(self, data, data_type, **kwargs)\u001b[0m\n\u001b[1;32m    818\u001b[0m     \u001b[38;5;28;01mif\u001b[39;00m iter_type \u001b[38;5;129;01min\u001b[39;00m \u001b[38;5;28mself\u001b[39m\u001b[38;5;241m.\u001b[39mserialize_type:\n\u001b[0;32m--> 819\u001b[0m         \u001b[38;5;28;01mreturn\u001b[39;00m \u001b[38;5;28;43mself\u001b[39;49m\u001b[38;5;241;43m.\u001b[39;49m\u001b[43mserialize_type\u001b[49m\u001b[43m[\u001b[49m\u001b[43miter_type\u001b[49m\u001b[43m]\u001b[49m\u001b[43m(\u001b[49m\u001b[43mdata\u001b[49m\u001b[43m,\u001b[49m\u001b[43m \u001b[49m\u001b[43mdata_type\u001b[49m\u001b[43m[\u001b[49m\u001b[38;5;241;43m1\u001b[39;49m\u001b[43m:\u001b[49m\u001b[38;5;241;43m-\u001b[39;49m\u001b[38;5;241;43m1\u001b[39;49m\u001b[43m]\u001b[49m\u001b[43m,\u001b[49m\u001b[43m \u001b[49m\u001b[38;5;241;43m*\u001b[39;49m\u001b[38;5;241;43m*\u001b[39;49m\u001b[43mkwargs\u001b[49m\u001b[43m)\u001b[49m\n\u001b[1;32m    821\u001b[0m \u001b[38;5;28;01mexcept\u001b[39;00m (\u001b[38;5;167;01mValueError\u001b[39;00m, \u001b[38;5;167;01mTypeError\u001b[39;00m) \u001b[38;5;28;01mas\u001b[39;00m err:\n",
      "File \u001b[0;32m~/.python/current/lib/python3.12/site-packages/azure/search/documents/_generated/_serialization.py:904\u001b[0m, in \u001b[0;36mSerializer.serialize_iter\u001b[0;34m(self, data, iter_type, div, **kwargs)\u001b[0m\n\u001b[1;32m    903\u001b[0m \u001b[38;5;28;01mtry\u001b[39;00m:\n\u001b[0;32m--> 904\u001b[0m     serialized\u001b[38;5;241m.\u001b[39mappend(\u001b[38;5;28;43mself\u001b[39;49m\u001b[38;5;241;43m.\u001b[39;49m\u001b[43mserialize_data\u001b[49m\u001b[43m(\u001b[49m\u001b[43md\u001b[49m\u001b[43m,\u001b[49m\u001b[43m \u001b[49m\u001b[43miter_type\u001b[49m\u001b[43m,\u001b[49m\u001b[43m \u001b[49m\u001b[38;5;241;43m*\u001b[39;49m\u001b[38;5;241;43m*\u001b[39;49m\u001b[43mkwargs\u001b[49m\u001b[43m)\u001b[49m)\n\u001b[1;32m    905\u001b[0m \u001b[38;5;28;01mexcept\u001b[39;00m \u001b[38;5;167;01mValueError\u001b[39;00m \u001b[38;5;28;01mas\u001b[39;00m err:\n",
      "File \u001b[0;32m~/.python/current/lib/python3.12/site-packages/azure/search/documents/_generated/_serialization.py:825\u001b[0m, in \u001b[0;36mSerializer.serialize_data\u001b[0;34m(self, data, data_type, **kwargs)\u001b[0m\n\u001b[1;32m    824\u001b[0m \u001b[38;5;28;01melse\u001b[39;00m:\n\u001b[0;32m--> 825\u001b[0m     \u001b[38;5;28;01mreturn\u001b[39;00m \u001b[38;5;28;43mself\u001b[39;49m\u001b[38;5;241;43m.\u001b[39;49m\u001b[43m_serialize\u001b[49m\u001b[43m(\u001b[49m\u001b[43mdata\u001b[49m\u001b[43m,\u001b[49m\u001b[43m \u001b[49m\u001b[38;5;241;43m*\u001b[39;49m\u001b[38;5;241;43m*\u001b[39;49m\u001b[43mkwargs\u001b[49m\u001b[43m)\u001b[49m\n",
      "File \u001b[0;32m~/.python/current/lib/python3.12/site-packages/azure/search/documents/_generated/_serialization.py:617\u001b[0m, in \u001b[0;36mSerializer._serialize\u001b[0;34m(self, target_obj, data_type, **kwargs)\u001b[0m\n\u001b[1;32m    616\u001b[0m kwargs[\u001b[38;5;124m\"\u001b[39m\u001b[38;5;124mserialization_ctxt\u001b[39m\u001b[38;5;124m\"\u001b[39m] \u001b[38;5;241m=\u001b[39m attr_desc\n\u001b[0;32m--> 617\u001b[0m new_attr \u001b[38;5;241m=\u001b[39m \u001b[38;5;28;43mself\u001b[39;49m\u001b[38;5;241;43m.\u001b[39;49m\u001b[43mserialize_data\u001b[49m\u001b[43m(\u001b[49m\u001b[43morig_attr\u001b[49m\u001b[43m,\u001b[49m\u001b[43m \u001b[49m\u001b[43mattr_desc\u001b[49m\u001b[43m[\u001b[49m\u001b[38;5;124;43m\"\u001b[39;49m\u001b[38;5;124;43mtype\u001b[39;49m\u001b[38;5;124;43m\"\u001b[39;49m\u001b[43m]\u001b[49m\u001b[43m,\u001b[49m\u001b[43m \u001b[49m\u001b[38;5;241;43m*\u001b[39;49m\u001b[38;5;241;43m*\u001b[39;49m\u001b[43mkwargs\u001b[49m\u001b[43m)\u001b[49m\n\u001b[1;32m    619\u001b[0m \u001b[38;5;28;01mif\u001b[39;00m is_xml_model_serialization:\n",
      "File \u001b[0;32m~/.python/current/lib/python3.12/site-packages/azure/search/documents/_generated/_serialization.py:823\u001b[0m, in \u001b[0;36mSerializer.serialize_data\u001b[0;34m(self, data, data_type, **kwargs)\u001b[0m\n\u001b[1;32m    822\u001b[0m     msg \u001b[38;5;241m=\u001b[39m \u001b[38;5;124m\"\u001b[39m\u001b[38;5;124mUnable to serialize value: \u001b[39m\u001b[38;5;132;01m{!r}\u001b[39;00m\u001b[38;5;124m as type: \u001b[39m\u001b[38;5;132;01m{!r}\u001b[39;00m\u001b[38;5;124m.\u001b[39m\u001b[38;5;124m\"\u001b[39m\n\u001b[0;32m--> 823\u001b[0m     \u001b[38;5;28;01mraise\u001b[39;00m SerializationError(msg\u001b[38;5;241m.\u001b[39mformat(data, data_type)) \u001b[38;5;28;01mfrom\u001b[39;00m \u001b[38;5;21;01merr\u001b[39;00m\n\u001b[1;32m    824\u001b[0m \u001b[38;5;28;01melse\u001b[39;00m:\n",
      "\u001b[0;31mSerializationError\u001b[0m: Unable to serialize value: {'vector': [-0.007297516, -0.0039520264, -0.010604858, 7.992983e-05, 0.0009455681, -0.00075674057, 0.0107803345, -0.014259338, 0.0018844604, -0.0015497208, -0.0036525726, -7.522106e-05, 0.00082731247, -0.0023822784, -0.008422852, -0.03857422, 0.020187378, -0.0041618347, -0.028213501, 0.0044403076, -0.005508423, 0.0127334595, -0.008483887, 0.018234253, -0.0035171509, 0.016357422, -0.28442383, -0.010154724, -0.003709793, -0.009925842, -0.012084961, -0.020599365, -0.014030457, 0.0012331009, 0.0021533966, 0.0132751465, 0.006931305, -0.004295349, -0.004070282, -0.0040245056, 0.0052757263, -0.018585205, -0.009017944, -0.0020980835, -0.013580322, -0.011253357, -0.014762878, -0.0028572083, 0.017822266, -0.0016965866, -0.020614624, 0.0115356445, 0.009857178, 0.008270264, -0.010299683, -0.002653122, 0.0014190674, 0.0029468536, 0.0070648193, 0.0052948, 0.008880615, 0.007850647, 0.0052757263, 0.0014543533, 0.011054993, -0.01083374, -0.0044288635, -0.011001587, -0.017120361, -0.011398315, 0.005306244, 0.026351929, -0.012908936, -0.01612854, -0.0022964478, 0.004749298, -0.011131287, 0.013877869, 0.00057315826, 0.016983032, -0.008232117, 0.0066223145, 0.011062622, -0.015350342, 0.0060768127, -0.0137786865, -0.016708374, -0.0008816719, -0.0067825317, 0.010040283, 0.019546509, -0.006248474, -0.0036754608, 0.017486572, -0.019546509, -0.0009784698, 0.004436493, -0.0039138794, -0.009979248, -0.0028972626, 0.0057411194, -0.0005412102, -0.0119018555, -0.004207611, -0.002922058, -0.0035381317, 0.01576233, 0.0118637085, -0.006996155, 0.005104065, -0.005264282, 0.0073928833, -0.0016222, 0.016906738, 0.011619568, -0.017913818, 0.009140015, 0.0028324127, -0.0046157837, 0.004837036, -0.008415222, -0.0031700134, 0.00037050247, -0.015037537, -0.012313843, -0.008178711, -0.0038433075, -0.004863739, -0.0018444061, 0.009162903, 0.007194519, -0.0067596436, 0.0054397583, -0.004558563, -0.016555786, -0.0066184998, 0.0061912537, -0.009880066, -0.0039367676, 0.008850098, -0.0029907227, -0.008117676, -0.002626419, 0.016067505, 0.003967285, -0.008361816, -0.00083351135, -0.0067253113, 0.001540184, -0.0066184998, 0.0027370453, -0.0076026917, 0.0031967163, 0.0146484375, 0.009429932, -0.005252838, -0.008049011, -0.0019521713, -0.011711121, -0.0015230179, -0.004245758, 0.00085639954, -0.008758545, 0.0009775162, 0.008926392, -0.016921997, -0.027648926, -0.0019054413, -0.00856781, 0.017532349, -0.0009698868, 0.02746582, -0.01008606, -0.0012664795, 0.007980347, 0.005958557, 0.0005478859, -0.0054740906, 0.0004787445, 0.01436615, -0.004169464, 0.0054397583, -0.014251709, -0.0068969727, -0.0035037994, 0.0025978088, 0.0011281967, -0.010856628, -0.003921509, -0.009643555, 0.006385803, 0.006351471, 0.006717682, -0.0035209656, 0.016799927, -0.0051956177, 0.00315094, 0.012207031, -0.01335907, 0.021011353, 0.006439209, -0.008094788, 0.0024719238, -0.022155762, 0.0042419434, 0.0026893616, 0.006038666, -0.009590149, -0.005947113, 0.00029969215, 0.0029067993, 0.007827759, 0.018951416, 0.0038909912, 0.00052309036, 0.0054740906, 0.001376152, -0.016799927, 0.00044608116, 0.0037612915, -0.019577026, -0.0016736984, -0.0070648193, 0.009376526, -0.0021648407, 0.012199402, 0.0022201538, -0.0063552856, 0.007511139, -0.0048065186, 0.009315491, -0.0024375916, 0.0055885315, 0.006839752, 0.0068969727, 0.01146698, 0.009025574, -0.0041999817, 0.023468018, 0.017578125, 0.018554688, 0.0056991577, 0.014007568, 0.016113281, -0.006752014, -0.01574707, -0.025360107, 0.0064315796, 0.012428284, 0.017669678, 0.013961792, 0.009002686, -0.004322052, -0.010620117, 0.007648468, -0.0090789795, 0.0030708313, 0.020401001, -0.01398468, 0.0007557869, -0.020599365, 0.006038666, -0.009002686, 0.012908936, -0.005306244, -0.004737854, 0.022720337, -0.001958847, -0.007801056, 0.008163452, 0.00969696, -0.022964478, -0.0059814453, 0.008453369, -0.003929138, 0.00289917, -0.011634827, 0.008255005, -0.01134491, 0.0075263977, -0.016815186, -0.009017944, -0.004283905, -0.0034885406, -0.017578125, 0.005622864, -0.016830444, -0.014266968, 0.004470825, -0.00283432, -0.0037593842, -0.006046295, 0.011276245, 0.009338379, 0.004688263, -0.00076150894, -0.010902405, 0.0038394928, -0.011352539, 0.0020713806, 0.0014867783, 0.0118637085, -0.004962921, -0.0065956116, -0.009498596, 0.0031909943, 0.006931305, 0.00045204163, 0.008224487, 0.013824463, -0.0021324158, 0.0033664703, -0.0022029877, -0.01309967, 0.012886047, 0.016616821, -0.012451172, -0.0064811707, 0.008766174, -0.007572174, 0.0019025803, 0.0036582947, 0.011680603, 0.012794495, -0.005168915, -0.01612854, 0.011528015, -0.001080513, 0.01550293, 0.0006079674, 0.013046265, 0.013938904, -0.0017471313, -0.001584053, 0.008453369, -0.016662598, -0.0055007935, -0.01348114, 0.0070610046, -0.0076446533, 0.017593384, 0.010765076, -0.0037631989, -0.0066986084, 0.013549805, -0.009292603, -0.014762878, 0.005897522, -0.0025234222, 0.014144897, 0.009429932, -0.0045433044, -0.0022220612, -0.011688232, 0.009483337, 0.007270813, 0.0042877197, -0.005596161, 0.002231598, 0.008003235, 0.009017944, -0.0042533875, -0.008415222, -0.0030822754, -0.010620117, 0.002357483, 0.005393982, -0.0022678375, 0.009460449, -0.018600464, 0.0059814453, -0.012008667, 0.011222839, -0.0009794235, 0.01260376, -0.009147644, -0.0135650635, 0.002456665, 0.0007352829, -0.00079774857, -0.022720337, -0.0020370483, 0.0103302, 0.0025405884, -0.0010099411, -0.0058784485, -0.016906738, -0.006160736, 0.007663727, 0.002275467, 0.008621216, -0.0046958923, -0.010986328, 0.012626648, 0.008430481, -0.0084991455, -0.0023441315, 0.0064926147, -0.004211426, 0.0034179688, 0.0048065186, 0.019470215, -0.009902954, 0.013938904, 0.009361267, -0.005844116, 0.010269165, -0.0025119781, 0.0030021667, -0.0209198, -0.0128479, 0.0126571655, -0.00048303604, 0.016204834, 0.0006699562, 0.008049011, 0.011108398, -0.003211975, 0.013412476, -0.00016736984, -0.00052309036, 0.0020542145, 0.0006389618, -0.014541626, 0.0128479, -0.012756348, -0.008956909, 0.004070282, 0.0038318634, -0.010948181, 0.02444458, -0.0025424957, 0.017440796, -0.009864807, -0.022994995, -0.012382507, 0.003019333, -0.010681152, 0.0039100647, 0.01638794, -0.00806427, 0.0056419373, 0.010536194, -0.012954712, -0.01689148, 0.015563965, 0.014579773, 0.008293152, -0.00041389465, -0.002571106, 0.013824463, -0.13513184, 0.03793335, 0.004825592, -0.000330925, -0.005821228, 0.010765076, -0.016204834, -0.0040626526, 0.013908386, -0.00207901, -0.012275696, 0.0003991127, -0.01802063, -0.009628296, 0.0031471252, 0.00019776821, -0.011894226, 5.888939e-05, -0.0006132126, -0.021011353, 0.0042419434, 0.0073890686, 0.0035076141, 0.004600525, -0.00095558167, -0.002960205, 0.012275696, 0.008888245, -0.011123657, 0.00030112267, -0.0016269684, -0.008377075, 0.0076904297, 0.005645752, -0.00093984604, -0.003004074, -0.003255844, -0.010185242, 0.028656006, 0.003063202, 0.022232056, -0.0011663437, -0.009674072, 0.007663727, -0.0032196045, -0.0033817291, 0.017929077, -0.0132369995, -0.010498047, 0.01763916, -0.011177063, 0.0008497238, 0.0066337585, -0.014137268, -0.011177063, 0.0015420914, 0.00724411, -0.010696411, -0.010040283, -0.009010315, -0.0037631989, -0.0014877319, -0.007659912, -0.0036506653, 0.0067367554, -0.012184143, -0.009002686, 0.003332138, 0.0031757355, -0.010665894, 0.0060424805, -0.01008606, -0.006549835, 0.0001502037, -0.017608643, -0.008285522, -0.02017212, 0.010444641, 0.007446289, 0.009254456, -0.0043640137, 0.008758545, -0.013748169, 0.023986816, 0.017089844, -0.009376526, -0.010017395, 0.008857727, -0.0063667297, -0.0023078918, 0.0008649826, 0.007820129, -0.004032135, 0.026229858, 0.0007343292, 0.012275696, -0.01033783, 0.008460999, -0.005027771, 0.0017242432, 0.012252808, -0.00036501884, 0.0143585205, 0.01146698, -0.0040283203, 0.012016296, -0.0024280548, -0.019546509, 0.0001667738, 0.0035743713, 0.0044822693, 0.0033817291, -0.002822876, -0.015014648, -0.018051147, -0.02305603, -0.0077552795, 0.008460999, -2.026558e-05, 0.0006508827, -0.0070648193, -0.006996155, -0.0029258728, -0.024246216, -0.02394104, -0.0036315918, 0.0020561218, -0.0029182434, 0.003255844, -0.0011949539, -0.012161255, -0.0065956116, -0.019638062, -0.008346558, -0.011039734, -0.004058838, -0.005870819, -0.022506714, -0.01436615, 0.0013027191, 0.015014648, -0.010314941, 0.0027999878, 0.019943237, -0.018203735, 0.0065612793, 0.00059366226, -0.017623901, 0.011749268, -0.0031318665, 0.0071487427, 0.00022876263, -0.00048327446, 0.016403198, -0.0053138733, 0.00045728683, -0.015335083, 0.03173828, -0.021896362, -0.004966736, -0.014335632, 0.0038166046, 0.025390625, -0.00019693375, -0.00011795759, -0.0074157715, 0.0018835068, -0.0040283203, -0.0016994476, 0.011512756, -0.00806427, 0.011940002, 0.010383606, 0.0095825195, 0.007621765, 0.01675415, 0.013496399, -0.02835083, 0.009414673, -0.010368347, 0.012786865, 0.0070648193, 0.017593384, -0.011062622, -0.024261475, -0.01423645, -0.017440796, -0.01436615, -0.007472992, 0.0048217773, -0.018692017, 0.00907135, 0.011222839, -0.00032782555, 0.005092621, 0.0033798218, 0.002002716, -0.008995056, -0.012306213, 0.009216309, -0.009857178, 0.00687027, -0.002363205, -0.0079422, 0.016296387, -0.011856079, 0.008934021, -0.010101318, 0.009796143, -0.0003774166, -0.0124435425, 0.00073862076, -0.015403748, -0.016555786, -0.006504059, -0.00040245056, -0.005191803, 0.0184021, 0.006134033, 0.0064430237, -0.0015974045, 0.007926941, 0.012542725, -0.0035114288, 0.01335907, 0.012161255, 0.004135132, 0.001537323, 0.009590149, -0.006587982, -0.0017442703, 0.0012197495, -0.006324768, 0.014526367, 0.0037727356, -0.0037822723, -0.0055236816, 0.0037345886, 0.00019717216, 0.0006079674, 0.017852783, 0.014152527, 0.00289917, -0.016357422, -0.010307312, 0.004337311, 0.0057373047, 0.010925293, 0.0051994324, -0.0013551712, -0.0027980804, -0.019424438, 0.0014095306, 0.01146698, -0.00831604, -0.007896423, 0.013061523, 0.009101868, 0.011734009, 0.010856628, 0.00869751, 0.011230469, 0.004085541, 0.033843994, 0.0063972473, -0.013122559, -0.00039196014, -0.006702423, -0.002210617, 0.017105103, -0.0054969788, -0.013793945, 0.01373291, -0.00957489, -0.015525818, -0.030578613, 0.017837524, -0.017059326, 0.015808105, 0.0206604, -0.022384644, -0.008384705, -0.0051231384, -0.0075569153, 0.0046653748, 0.016571045, -0.007621765, -0.0017442703, 0.006591797, 0.0069084167, 0.009399414, -0.0069847107, 0.021347046, 0.018661499, 0.009643555, -0.026260376, -0.016281128, 0.005077362, 0.011390686, 0.0053634644, 0.018157959, -0.0028858185, 0.013519287, 0.0029315948, 0.009307861, -0.001449585, -0.0030670166, 0.0105896, -0.002811432, -3.3676624e-05, 0.009513855, 0.0018253326, 0.00013744831, -0.019317627, -0.015090942, 0.008598328, 0.0102005005, -0.00945282, -0.014839172, -0.0048828125, -0.017532349, -0.015220642, 0.009498596, -0.0005965233, 0.0018339157, -0.004310608, 0.0001320839, -0.0023097992, 0.009178162, -0.014060974, -0.00459671, 0.010276794, -0.013572693, -0.006175995, -0.0019454956, -0.004425049, -0.0057144165, 0.0018005371, -3.9219856e-05, 0.0005760193, -0.001124382, 0.0018367767, 0.013847351, 0.013679504, 0.006690979, -0.013557434, -4.7802925e-05, 0.008888245, 0.009635925, 0.008728027, 0.0029888153, 0.0064888, 0.0034542084, 0.009178162, -0.0046577454, 0.016067505, -0.008361816, -0.009750366, 0.021408081, 0.009307861, 0.0048446655, -0.009185791, -0.0007596016, -0.01184845, 0.007926941, -0.0074043274, -0.0068130493, 0.0022792816, -0.012207031, -0.008285522, 0.011482239, -5.1259995e-06, -0.0152282715, 0.011192322, 0.009124756, 0.004108429, -0.007835388, -0.004173279, 0.018447876, -0.0032539368, -0.0004515648, -0.004508972, -0.009185791, 0.005672455, -0.009147644, 0.0009965897, 0.0104522705, 0.007751465, -0.0066490173, -0.0027103424, -0.0013923645, 0.001244545, 0.009925842, -0.003900528, 0.014633179, 0.016952515, -0.014945984, 0.011680603, -0.019058228, -0.0126953125, -0.008460999, -0.001080513, 0.008163452, -0.0016889572, -0.023834229, 0.00039887428, -0.007801056, 0.020568848, -0.0027370453, -0.012557983, 0.012878418, 0.0026187897, 0.0016222, 0.0010700226, 0.010322571, -0.008506775, 0.004169464, -7.9631805e-05, -0.004096985, 0.008506775, 0.027374268, 0.0004892349, 0.0046653748, -0.015068054, 0.014411926, -0.014472961, -0.011016846, 0.00076532364, -0.016082764, 0.00945282, -0.025863647, 0.008300781, 0.0048217773, -0.016342163, -0.0098724365, -0.0045547485, -0.00031352043, -0.01927185, -0.0184021, -0.026672363, -0.008132935, -8.326769e-05, -0.017471313, 0.013168335, -0.006011963, 0.009277344, -0.0021152496, -0.02015686, -0.005054474, -0.0055122375, 0.009567261, 0.00422287, 0.015945435, 0.008773804, 0.015350342, -0.015945435, 0.010414124, -0.013473511, -0.009056091, 0.009590149, -0.011672974, 0.014038086, -0.0056533813, -0.0041656494, -0.0063819885, -0.012565613, -0.008674622, 0.01576233, 0.008834839, -0.006477356, 0.0019226074, -0.0030612946, 0.0066833496, -4.017353e-05, 0.0107803345, 0.0075035095, 0.0063667297, 0.012542725, -0.011650085, -0.015106201, 0.0065460205, -0.019088745, 0.013114929, 0.0008163452, -0.008766174, -0.00012099743, 0.008346558, 0.009506226, -0.00047421455, -0.031982422, -0.0126571655, -0.0010061264, 0.011177063, 0.005054474, 0.008491516, -0.00083494186, -0.0079193115, -0.014213562, -0.003955841, -0.011558533, 0.0038318634, -0.0038337708, 0.002149582, 0.009132385, -0.013122559, 0.015068054, -0.016967773, -0.006099701, -0.006717682, 0.0034255981, 0.00333786, 0.0038719177, -0.0018167496, 0.027938843, 0.008094788, -0.00242424, 0.034118652, -0.00447464, 0.013900757, -0.009460449, 0.0036354065, 0.001581192, -0.00078487396, -0.001739502, 0.0056381226, -0.010307312, -0.008644104, -0.8798828, 0.00076675415, -0.0093307495, 0.0017299652, 0.022323608, -0.012397766, -0.005958557, 0.006954193, -0.008644104, -0.009925842, -0.0019569397, -0.0048828125, 0.0014734268, 0.0023784637, -0.001247406, -0.015411377, -0.0104599, -0.006210327, -0.012107849, -0.0015411377, 0.0009031296, 0.015930176, -0.0042648315, -0.007610321, 0.0048065186, 0.020004272, -0.0068206787, 0.021240234, -0.03277588, 0.0054969788, 0.007472992, -0.0018796921, -0.00434494, 0.0049324036, -0.0065345764, -0.0005578995, -0.030136108, -0.018432617, 0.0049972534, -0.0031757355, 0.020767212, -0.009109497, -0.0082473755, -0.010398865, 0.01852417, -0.07861328], 'modelVersion': '2023-04-15'} as type: '[float]'.",
      "\nThe above exception was the direct cause of the following exception:\n",
      "\u001b[0;31mSerializationError\u001b[0m                        Traceback (most recent call last)",
      "Cell \u001b[0;32mIn[72], line 32\u001b[0m\n\u001b[1;32m     24\u001b[0m results \u001b[38;5;241m=\u001b[39m search_client\u001b[38;5;241m.\u001b[39msearch(\n\u001b[1;32m     25\u001b[0m     search_text\u001b[38;5;241m=\u001b[39m\u001b[38;5;28;01mNone\u001b[39;00m,  \n\u001b[1;32m     26\u001b[0m     vector_queries\u001b[38;5;241m=\u001b[39m[vector_query],  \u001b[38;5;66;03m# Include the vector query here\u001b[39;00m\n\u001b[1;32m     27\u001b[0m     select\u001b[38;5;241m=\u001b[39m[\u001b[38;5;124m\"\u001b[39m\u001b[38;5;124mimageName\u001b[39m\u001b[38;5;124m\"\u001b[39m, \u001b[38;5;124m\"\u001b[39m\u001b[38;5;124mimageUrl\u001b[39m\u001b[38;5;124m\"\u001b[39m],\n\u001b[1;32m     28\u001b[0m     top\u001b[38;5;241m=\u001b[39m\u001b[38;5;241m5\u001b[39m\n\u001b[1;32m     29\u001b[0m )\n\u001b[1;32m     31\u001b[0m \u001b[38;5;66;03m# Process and print the results\u001b[39;00m\n\u001b[0;32m---> 32\u001b[0m \u001b[38;5;28;43;01mfor\u001b[39;49;00m\u001b[43m \u001b[49m\u001b[43mresult\u001b[49m\u001b[43m \u001b[49m\u001b[38;5;129;43;01min\u001b[39;49;00m\u001b[43m \u001b[49m\u001b[43mresults\u001b[49m\u001b[43m:\u001b[49m\n\u001b[1;32m     33\u001b[0m \u001b[43m    \u001b[49m\u001b[38;5;28;43mprint\u001b[39;49m\u001b[43m(\u001b[49m\u001b[38;5;124;43mf\u001b[39;49m\u001b[38;5;124;43m\"\u001b[39;49m\u001b[38;5;124;43mImage Name: \u001b[39;49m\u001b[38;5;132;43;01m{\u001b[39;49;00m\u001b[43mresult\u001b[49m\u001b[43m[\u001b[49m\u001b[38;5;124;43m'\u001b[39;49m\u001b[38;5;124;43mimageName\u001b[39;49m\u001b[38;5;124;43m'\u001b[39;49m\u001b[43m]\u001b[49m\u001b[38;5;132;43;01m}\u001b[39;49;00m\u001b[38;5;124;43m, Image URL: \u001b[39;49m\u001b[38;5;132;43;01m{\u001b[39;49;00m\u001b[43mresult\u001b[49m\u001b[43m[\u001b[49m\u001b[38;5;124;43m'\u001b[39;49m\u001b[38;5;124;43mimageUrl\u001b[39;49m\u001b[38;5;124;43m'\u001b[39;49m\u001b[43m]\u001b[49m\u001b[38;5;132;43;01m}\u001b[39;49;00m\u001b[38;5;124;43m\"\u001b[39;49m\u001b[43m)\u001b[49m\n",
      "File \u001b[0;32m~/.python/current/lib/python3.12/site-packages/azure/search/documents/_paging.py:54\u001b[0m, in \u001b[0;36mSearchItemPaged.__next__\u001b[0;34m(self)\u001b[0m\n\u001b[1;32m     52\u001b[0m     first_iterator \u001b[38;5;241m=\u001b[39m \u001b[38;5;28mself\u001b[39m\u001b[38;5;241m.\u001b[39m_first_iterator_instance()\n\u001b[1;32m     53\u001b[0m     \u001b[38;5;28mself\u001b[39m\u001b[38;5;241m.\u001b[39m_page_iterator \u001b[38;5;241m=\u001b[39m itertools\u001b[38;5;241m.\u001b[39mchain\u001b[38;5;241m.\u001b[39mfrom_iterable(first_iterator)\n\u001b[0;32m---> 54\u001b[0m \u001b[38;5;28;01mreturn\u001b[39;00m \u001b[38;5;28;43mnext\u001b[39;49m\u001b[43m(\u001b[49m\u001b[38;5;28;43mself\u001b[39;49m\u001b[38;5;241;43m.\u001b[39;49m\u001b[43m_page_iterator\u001b[49m\u001b[43m)\u001b[49m\n",
      "File \u001b[0;32m~/.python/current/lib/python3.12/site-packages/azure/core/paging.py:75\u001b[0m, in \u001b[0;36mPageIterator.__next__\u001b[0;34m(self)\u001b[0m\n\u001b[1;32m     73\u001b[0m     \u001b[38;5;28;01mraise\u001b[39;00m \u001b[38;5;167;01mStopIteration\u001b[39;00m(\u001b[38;5;124m\"\u001b[39m\u001b[38;5;124mEnd of paging\u001b[39m\u001b[38;5;124m\"\u001b[39m)\n\u001b[1;32m     74\u001b[0m \u001b[38;5;28;01mtry\u001b[39;00m:\n\u001b[0;32m---> 75\u001b[0m     \u001b[38;5;28mself\u001b[39m\u001b[38;5;241m.\u001b[39m_response \u001b[38;5;241m=\u001b[39m \u001b[38;5;28;43mself\u001b[39;49m\u001b[38;5;241;43m.\u001b[39;49m\u001b[43m_get_next\u001b[49m\u001b[43m(\u001b[49m\u001b[38;5;28;43mself\u001b[39;49m\u001b[38;5;241;43m.\u001b[39;49m\u001b[43mcontinuation_token\u001b[49m\u001b[43m)\u001b[49m\n\u001b[1;32m     76\u001b[0m \u001b[38;5;28;01mexcept\u001b[39;00m AzureError \u001b[38;5;28;01mas\u001b[39;00m error:\n\u001b[1;32m     77\u001b[0m     \u001b[38;5;28;01mif\u001b[39;00m \u001b[38;5;129;01mnot\u001b[39;00m error\u001b[38;5;241m.\u001b[39mcontinuation_token:\n",
      "File \u001b[0;32m~/.python/current/lib/python3.12/site-packages/azure/search/documents/_paging.py:125\u001b[0m, in \u001b[0;36mSearchPageIterator._get_next_cb\u001b[0;34m(self, continuation_token)\u001b[0m\n\u001b[1;32m    123\u001b[0m \u001b[38;5;28;01mdef\u001b[39;00m \u001b[38;5;21m_get_next_cb\u001b[39m(\u001b[38;5;28mself\u001b[39m, continuation_token):\n\u001b[1;32m    124\u001b[0m     \u001b[38;5;28;01mif\u001b[39;00m continuation_token \u001b[38;5;129;01mis\u001b[39;00m \u001b[38;5;28;01mNone\u001b[39;00m:\n\u001b[0;32m--> 125\u001b[0m         \u001b[38;5;28;01mreturn\u001b[39;00m \u001b[38;5;28;43mself\u001b[39;49m\u001b[38;5;241;43m.\u001b[39;49m\u001b[43m_client\u001b[49m\u001b[38;5;241;43m.\u001b[39;49m\u001b[43mdocuments\u001b[49m\u001b[38;5;241;43m.\u001b[39;49m\u001b[43msearch_post\u001b[49m\u001b[43m(\u001b[49m\u001b[43msearch_request\u001b[49m\u001b[38;5;241;43m=\u001b[39;49m\u001b[38;5;28;43mself\u001b[39;49m\u001b[38;5;241;43m.\u001b[39;49m\u001b[43m_initial_query\u001b[49m\u001b[38;5;241;43m.\u001b[39;49m\u001b[43mrequest\u001b[49m\u001b[43m,\u001b[49m\u001b[43m \u001b[49m\u001b[38;5;241;43m*\u001b[39;49m\u001b[38;5;241;43m*\u001b[39;49m\u001b[38;5;28;43mself\u001b[39;49m\u001b[38;5;241;43m.\u001b[39;49m\u001b[43m_kwargs\u001b[49m\u001b[43m)\u001b[49m\n\u001b[1;32m    127\u001b[0m     _next_link, next_page_request \u001b[38;5;241m=\u001b[39m unpack_continuation_token(continuation_token)\n\u001b[1;32m    129\u001b[0m     \u001b[38;5;28;01mreturn\u001b[39;00m \u001b[38;5;28mself\u001b[39m\u001b[38;5;241m.\u001b[39m_client\u001b[38;5;241m.\u001b[39mdocuments\u001b[38;5;241m.\u001b[39msearch_post(search_request\u001b[38;5;241m=\u001b[39mnext_page_request, \u001b[38;5;241m*\u001b[39m\u001b[38;5;241m*\u001b[39m\u001b[38;5;28mself\u001b[39m\u001b[38;5;241m.\u001b[39m_kwargs)\n",
      "File \u001b[0;32m~/.python/current/lib/python3.12/site-packages/azure/core/tracing/decorator.py:105\u001b[0m, in \u001b[0;36mdistributed_trace.<locals>.decorator.<locals>.wrapper_use_tracer\u001b[0;34m(*args, **kwargs)\u001b[0m\n\u001b[1;32m    103\u001b[0m span_impl_type \u001b[38;5;241m=\u001b[39m settings\u001b[38;5;241m.\u001b[39mtracing_implementation()\n\u001b[1;32m    104\u001b[0m \u001b[38;5;28;01mif\u001b[39;00m span_impl_type \u001b[38;5;129;01mis\u001b[39;00m \u001b[38;5;28;01mNone\u001b[39;00m:\n\u001b[0;32m--> 105\u001b[0m     \u001b[38;5;28;01mreturn\u001b[39;00m \u001b[43mfunc\u001b[49m\u001b[43m(\u001b[49m\u001b[38;5;241;43m*\u001b[39;49m\u001b[43margs\u001b[49m\u001b[43m,\u001b[49m\u001b[43m \u001b[49m\u001b[38;5;241;43m*\u001b[39;49m\u001b[38;5;241;43m*\u001b[39;49m\u001b[43mkwargs\u001b[49m\u001b[43m)\u001b[49m\n\u001b[1;32m    107\u001b[0m \u001b[38;5;66;03m# Merge span is parameter is set, but only if no explicit parent are passed\u001b[39;00m\n\u001b[1;32m    108\u001b[0m \u001b[38;5;28;01mif\u001b[39;00m merge_span \u001b[38;5;129;01mand\u001b[39;00m \u001b[38;5;129;01mnot\u001b[39;00m passed_in_parent:\n",
      "File \u001b[0;32m~/.python/current/lib/python3.12/site-packages/azure/search/documents/_generated/operations/_documents_operations.py:727\u001b[0m, in \u001b[0;36mDocumentsOperations.search_post\u001b[0;34m(self, search_request, request_options, **kwargs)\u001b[0m\n\u001b[1;32m    725\u001b[0m     _content \u001b[38;5;241m=\u001b[39m search_request\n\u001b[1;32m    726\u001b[0m \u001b[38;5;28;01melse\u001b[39;00m:\n\u001b[0;32m--> 727\u001b[0m     _json \u001b[38;5;241m=\u001b[39m \u001b[38;5;28;43mself\u001b[39;49m\u001b[38;5;241;43m.\u001b[39;49m\u001b[43m_serialize\u001b[49m\u001b[38;5;241;43m.\u001b[39;49m\u001b[43mbody\u001b[49m\u001b[43m(\u001b[49m\u001b[43msearch_request\u001b[49m\u001b[43m,\u001b[49m\u001b[43m \u001b[49m\u001b[38;5;124;43m\"\u001b[39;49m\u001b[38;5;124;43mSearchRequest\u001b[39;49m\u001b[38;5;124;43m\"\u001b[39;49m\u001b[43m)\u001b[49m\n\u001b[1;32m    729\u001b[0m _request \u001b[38;5;241m=\u001b[39m build_search_post_request(\n\u001b[1;32m    730\u001b[0m     x_ms_client_request_id\u001b[38;5;241m=\u001b[39m_x_ms_client_request_id,\n\u001b[1;32m    731\u001b[0m     api_version\u001b[38;5;241m=\u001b[39mapi_version,\n\u001b[0;32m   (...)\u001b[0m\n\u001b[1;32m    736\u001b[0m     params\u001b[38;5;241m=\u001b[39m_params,\n\u001b[1;32m    737\u001b[0m )\n\u001b[1;32m    738\u001b[0m path_format_arguments \u001b[38;5;241m=\u001b[39m {\n\u001b[1;32m    739\u001b[0m     \u001b[38;5;124m\"\u001b[39m\u001b[38;5;124mendpoint\u001b[39m\u001b[38;5;124m\"\u001b[39m: \u001b[38;5;28mself\u001b[39m\u001b[38;5;241m.\u001b[39m_serialize\u001b[38;5;241m.\u001b[39murl(\u001b[38;5;124m\"\u001b[39m\u001b[38;5;124mself._config.endpoint\u001b[39m\u001b[38;5;124m\"\u001b[39m, \u001b[38;5;28mself\u001b[39m\u001b[38;5;241m.\u001b[39m_config\u001b[38;5;241m.\u001b[39mendpoint, \u001b[38;5;124m\"\u001b[39m\u001b[38;5;124mstr\u001b[39m\u001b[38;5;124m\"\u001b[39m, skip_quote\u001b[38;5;241m=\u001b[39m\u001b[38;5;28;01mTrue\u001b[39;00m),\n\u001b[1;32m    740\u001b[0m     \u001b[38;5;124m\"\u001b[39m\u001b[38;5;124mindexName\u001b[39m\u001b[38;5;124m\"\u001b[39m: \u001b[38;5;28mself\u001b[39m\u001b[38;5;241m.\u001b[39m_serialize\u001b[38;5;241m.\u001b[39murl(\u001b[38;5;124m\"\u001b[39m\u001b[38;5;124mself._config.index_name\u001b[39m\u001b[38;5;124m\"\u001b[39m, \u001b[38;5;28mself\u001b[39m\u001b[38;5;241m.\u001b[39m_config\u001b[38;5;241m.\u001b[39mindex_name, \u001b[38;5;124m\"\u001b[39m\u001b[38;5;124mstr\u001b[39m\u001b[38;5;124m\"\u001b[39m),\n\u001b[1;32m    741\u001b[0m }\n",
      "File \u001b[0;32m~/.python/current/lib/python3.12/site-packages/azure/search/documents/_generated/_serialization.py:710\u001b[0m, in \u001b[0;36mSerializer.body\u001b[0;34m(self, data, data_type, **kwargs)\u001b[0m\n\u001b[1;32m    707\u001b[0m     \u001b[38;5;28;01mexcept\u001b[39;00m DeserializationError \u001b[38;5;28;01mas\u001b[39;00m err:\n\u001b[1;32m    708\u001b[0m         \u001b[38;5;28;01mraise\u001b[39;00m SerializationError(\u001b[38;5;124m\"\u001b[39m\u001b[38;5;124mUnable to build a model: \u001b[39m\u001b[38;5;124m\"\u001b[39m \u001b[38;5;241m+\u001b[39m \u001b[38;5;28mstr\u001b[39m(err)) \u001b[38;5;28;01mfrom\u001b[39;00m \u001b[38;5;21;01merr\u001b[39;00m\n\u001b[0;32m--> 710\u001b[0m \u001b[38;5;28;01mreturn\u001b[39;00m \u001b[38;5;28;43mself\u001b[39;49m\u001b[38;5;241;43m.\u001b[39;49m\u001b[43m_serialize\u001b[49m\u001b[43m(\u001b[49m\u001b[43mdata\u001b[49m\u001b[43m,\u001b[49m\u001b[43m \u001b[49m\u001b[43mdata_type\u001b[49m\u001b[43m,\u001b[49m\u001b[43m \u001b[49m\u001b[38;5;241;43m*\u001b[39;49m\u001b[38;5;241;43m*\u001b[39;49m\u001b[43mkwargs\u001b[49m\u001b[43m)\u001b[49m\n",
      "File \u001b[0;32m~/.python/current/lib/python3.12/site-packages/azure/search/documents/_generated/_serialization.py:580\u001b[0m, in \u001b[0;36mSerializer._serialize\u001b[0;34m(self, target_obj, data_type, **kwargs)\u001b[0m\n\u001b[1;32m    577\u001b[0m class_name \u001b[38;5;241m=\u001b[39m target_obj\u001b[38;5;241m.\u001b[39m\u001b[38;5;18m__class__\u001b[39m\u001b[38;5;241m.\u001b[39m\u001b[38;5;18m__name__\u001b[39m\n\u001b[1;32m    579\u001b[0m \u001b[38;5;28;01mif\u001b[39;00m data_type:\n\u001b[0;32m--> 580\u001b[0m     \u001b[38;5;28;01mreturn\u001b[39;00m \u001b[38;5;28;43mself\u001b[39;49m\u001b[38;5;241;43m.\u001b[39;49m\u001b[43mserialize_data\u001b[49m\u001b[43m(\u001b[49m\u001b[43mtarget_obj\u001b[49m\u001b[43m,\u001b[49m\u001b[43m \u001b[49m\u001b[43mdata_type\u001b[49m\u001b[43m,\u001b[49m\u001b[43m \u001b[49m\u001b[38;5;241;43m*\u001b[39;49m\u001b[38;5;241;43m*\u001b[39;49m\u001b[43mkwargs\u001b[49m\u001b[43m)\u001b[49m\n\u001b[1;32m    582\u001b[0m \u001b[38;5;28;01mif\u001b[39;00m \u001b[38;5;129;01mnot\u001b[39;00m \u001b[38;5;28mhasattr\u001b[39m(target_obj, \u001b[38;5;124m\"\u001b[39m\u001b[38;5;124m_attribute_map\u001b[39m\u001b[38;5;124m\"\u001b[39m):\n\u001b[1;32m    583\u001b[0m     data_type \u001b[38;5;241m=\u001b[39m \u001b[38;5;28mtype\u001b[39m(target_obj)\u001b[38;5;241m.\u001b[39m\u001b[38;5;18m__name__\u001b[39m\n",
      "File \u001b[0;32m~/.python/current/lib/python3.12/site-packages/azure/search/documents/_generated/_serialization.py:825\u001b[0m, in \u001b[0;36mSerializer.serialize_data\u001b[0;34m(self, data, data_type, **kwargs)\u001b[0m\n\u001b[1;32m    823\u001b[0m     \u001b[38;5;28;01mraise\u001b[39;00m SerializationError(msg\u001b[38;5;241m.\u001b[39mformat(data, data_type)) \u001b[38;5;28;01mfrom\u001b[39;00m \u001b[38;5;21;01merr\u001b[39;00m\n\u001b[1;32m    824\u001b[0m \u001b[38;5;28;01melse\u001b[39;00m:\n\u001b[0;32m--> 825\u001b[0m     \u001b[38;5;28;01mreturn\u001b[39;00m \u001b[38;5;28;43mself\u001b[39;49m\u001b[38;5;241;43m.\u001b[39;49m\u001b[43m_serialize\u001b[49m\u001b[43m(\u001b[49m\u001b[43mdata\u001b[49m\u001b[43m,\u001b[49m\u001b[43m \u001b[49m\u001b[38;5;241;43m*\u001b[39;49m\u001b[38;5;241;43m*\u001b[39;49m\u001b[43mkwargs\u001b[49m\u001b[43m)\u001b[49m\n",
      "File \u001b[0;32m~/.python/current/lib/python3.12/site-packages/azure/search/documents/_generated/_serialization.py:617\u001b[0m, in \u001b[0;36mSerializer._serialize\u001b[0;34m(self, target_obj, data_type, **kwargs)\u001b[0m\n\u001b[1;32m    614\u001b[0m     keys \u001b[38;5;241m=\u001b[39m keys \u001b[38;5;28;01mif\u001b[39;00m \u001b[38;5;28misinstance\u001b[39m(keys, \u001b[38;5;28mlist\u001b[39m) \u001b[38;5;28;01melse\u001b[39;00m [keys]\n\u001b[1;32m    616\u001b[0m kwargs[\u001b[38;5;124m\"\u001b[39m\u001b[38;5;124mserialization_ctxt\u001b[39m\u001b[38;5;124m\"\u001b[39m] \u001b[38;5;241m=\u001b[39m attr_desc\n\u001b[0;32m--> 617\u001b[0m new_attr \u001b[38;5;241m=\u001b[39m \u001b[38;5;28;43mself\u001b[39;49m\u001b[38;5;241;43m.\u001b[39;49m\u001b[43mserialize_data\u001b[49m\u001b[43m(\u001b[49m\u001b[43morig_attr\u001b[49m\u001b[43m,\u001b[49m\u001b[43m \u001b[49m\u001b[43mattr_desc\u001b[49m\u001b[43m[\u001b[49m\u001b[38;5;124;43m\"\u001b[39;49m\u001b[38;5;124;43mtype\u001b[39;49m\u001b[38;5;124;43m\"\u001b[39;49m\u001b[43m]\u001b[49m\u001b[43m,\u001b[49m\u001b[43m \u001b[49m\u001b[38;5;241;43m*\u001b[39;49m\u001b[38;5;241;43m*\u001b[39;49m\u001b[43mkwargs\u001b[49m\u001b[43m)\u001b[49m\n\u001b[1;32m    619\u001b[0m \u001b[38;5;28;01mif\u001b[39;00m is_xml_model_serialization:\n\u001b[1;32m    620\u001b[0m     xml_desc \u001b[38;5;241m=\u001b[39m attr_desc\u001b[38;5;241m.\u001b[39mget(\u001b[38;5;124m\"\u001b[39m\u001b[38;5;124mxml\u001b[39m\u001b[38;5;124m\"\u001b[39m, {})\n",
      "File \u001b[0;32m~/.python/current/lib/python3.12/site-packages/azure/search/documents/_generated/_serialization.py:823\u001b[0m, in \u001b[0;36mSerializer.serialize_data\u001b[0;34m(self, data, data_type, **kwargs)\u001b[0m\n\u001b[1;32m    821\u001b[0m \u001b[38;5;28;01mexcept\u001b[39;00m (\u001b[38;5;167;01mValueError\u001b[39;00m, \u001b[38;5;167;01mTypeError\u001b[39;00m) \u001b[38;5;28;01mas\u001b[39;00m err:\n\u001b[1;32m    822\u001b[0m     msg \u001b[38;5;241m=\u001b[39m \u001b[38;5;124m\"\u001b[39m\u001b[38;5;124mUnable to serialize value: \u001b[39m\u001b[38;5;132;01m{!r}\u001b[39;00m\u001b[38;5;124m as type: \u001b[39m\u001b[38;5;132;01m{!r}\u001b[39;00m\u001b[38;5;124m.\u001b[39m\u001b[38;5;124m\"\u001b[39m\n\u001b[0;32m--> 823\u001b[0m     \u001b[38;5;28;01mraise\u001b[39;00m SerializationError(msg\u001b[38;5;241m.\u001b[39mformat(data, data_type)) \u001b[38;5;28;01mfrom\u001b[39;00m \u001b[38;5;21;01merr\u001b[39;00m\n\u001b[1;32m    824\u001b[0m \u001b[38;5;28;01melse\u001b[39;00m:\n\u001b[1;32m    825\u001b[0m     \u001b[38;5;28;01mreturn\u001b[39;00m \u001b[38;5;28mself\u001b[39m\u001b[38;5;241m.\u001b[39m_serialize(data, \u001b[38;5;241m*\u001b[39m\u001b[38;5;241m*\u001b[39mkwargs)\n",
      "\u001b[0;31mSerializationError\u001b[0m: Unable to serialize value: [<azure.search.documents._generated.models._models_py3.VectorizedQuery object at 0x7976ac14d220>] as type: '[VectorQuery]'."
     ]
    }
   ],
   "source": [
    "from azure.search.documents import SearchClient\n",
    "from azure.search.documents.models import VectorizedQuery\n",
    "from azure.core.credentials import AzureKeyCredential\n",
    "\n",
    "# Get credential from Azure AI Search Admin key\n",
    "credential = AzureKeyCredential(azure_search_service_admin_key)\n",
    "search_client = SearchClient(endpoint=azure_search_service_endpoint, \n",
    "                             credential=credential, \n",
    "                             index_name=azure_search_service_index_name)\n",
    "\n",
    "\n",
    "# Your query and vectorization function\n",
    "query = \"cars\"\n",
    "vectorized_text = vectorize_text(query)\n",
    "\n",
    "# Create the VectorizedQuery instance\n",
    "vector_query = VectorizedQuery(\n",
    "    vector=vectorized_text, \n",
    "    k_nearest_neighbors=3, \n",
    "    fields=\"imageVector\"\n",
    ")\n",
    "\n",
    "# Perform the search\n",
    "results = search_client.search(\n",
    "    search_text=None,  \n",
    "    vector_queries=[vector_query],  # Include the vector query here\n",
    "    select=[\"imageName\", \"imageUrl\"],\n",
    "    top=5\n",
    ")\n",
    "\n",
    "# Process and print the results\n",
    "for result in results:\n",
    "    print(f\"Image Name: {result['imageName']}, Image URL: {result['imageUrl']}\")"
   ]
  }
 ],
 "metadata": {
  "kernelspec": {
   "display_name": "Python 3",
   "language": "python",
   "name": "python3"
  },
  "language_info": {
   "codemirror_mode": {
    "name": "ipython",
    "version": 3
   },
   "file_extension": ".py",
   "mimetype": "text/x-python",
   "name": "python",
   "nbconvert_exporter": "python",
   "pygments_lexer": "ipython3",
   "version": "3.12.1"
  }
 },
 "nbformat": 4,
 "nbformat_minor": 2
}
