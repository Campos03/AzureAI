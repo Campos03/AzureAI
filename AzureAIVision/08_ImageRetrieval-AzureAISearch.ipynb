{
 "cells": [
  {
   "cell_type": "markdown",
   "metadata": {},
   "source": [
    "## Image Retrieval with Azure AI Search\n",
    "\n",
    "Requirements:\n",
    "1. Azure AI Search\n",
    "2. Azure Computer Vision\n",
    "3. Azure Storage\n",
    "\n",
    "Steps:\n",
    "1. Store images in Azure Storage \n",
    "2. Get access to images in Azure Storage\n",
    "3. Create Search index in Azure AI Search\n",
    "4. Generate embeddings for images\n",
    "5. Store embeddings and other metadata to Azure AI Search\n",
    "6. Perform a search in Azure AI Search"
   ]
  },
  {
   "cell_type": "markdown",
   "metadata": {},
   "source": [
    "## Load Azure Configuration"
   ]
  },
  {
   "cell_type": "code",
   "execution_count": 44,
   "metadata": {},
   "outputs": [],
   "source": [
    "import os\n",
    "\n",
    "azure_computer_vision_endpoint = os.environ[\"AZURE_COMPUTER_VISION_ENDPOINT\"]\n",
    "azure_computer_vision_key = os.environ[\"AZURE_COMPUTER_VISION_KEY\"]\n",
    "\n",
    "azure_storage_connection_string = os.getenv(\"AZURE_STORAGE_CONNECTION_STRING\")\n",
    "\n",
    "azure_search_service_endpoint = os.getenv(\"AZURE_SEARCH_SERVICE_ENDPOINT\")\n",
    "azure_search_service_admin_key = os.getenv(\"AZURE_SEARCH_ADMIN_KEY\")\n",
    "azure_search_service_index_name = \"az-image-index-001\"\n",
    "azure_search_service_embedding_size=1024\n"
   ]
  },
  {
   "cell_type": "markdown",
   "metadata": {},
   "source": [
    "## Get files from Azure Storage and Store in Container"
   ]
  },
  {
   "cell_type": "code",
   "execution_count": null,
   "metadata": {},
   "outputs": [
    {
     "name": "stdout",
     "output_type": "stream",
     "text": [
      "Access to the blob storage was granted.\n",
      "Blobs collection:\n",
      "{'id': 1, 'imageName': 'analyze_image.jpg', 'imageUrl': 'https://ziggystorage01.blob.core.windows.net/images/analyze_image.jpg'}\n",
      "{'id': 2, 'imageName': 'bicycle1.jpeg', 'imageUrl': 'https://ziggystorage01.blob.core.windows.net/images/bicycle1.jpeg'}\n",
      "{'id': 3, 'imageName': 'bicycle10.jpeg', 'imageUrl': 'https://ziggystorage01.blob.core.windows.net/images/bicycle10.jpeg'}\n",
      "{'id': 4, 'imageName': 'bicycle2.jpeg', 'imageUrl': 'https://ziggystorage01.blob.core.windows.net/images/bicycle2.jpeg'}\n",
      "{'id': 5, 'imageName': 'bicycle3.jpeg', 'imageUrl': 'https://ziggystorage01.blob.core.windows.net/images/bicycle3.jpeg'}\n",
      "{'id': 6, 'imageName': 'bicycle4.jpeg', 'imageUrl': 'https://ziggystorage01.blob.core.windows.net/images/bicycle4.jpeg'}\n",
      "{'id': 7, 'imageName': 'bicycle5.jpeg', 'imageUrl': 'https://ziggystorage01.blob.core.windows.net/images/bicycle5.jpeg'}\n",
      "{'id': 8, 'imageName': 'bicycle6.jpeg', 'imageUrl': 'https://ziggystorage01.blob.core.windows.net/images/bicycle6.jpeg'}\n",
      "{'id': 9, 'imageName': 'bicycle7.jpeg', 'imageUrl': 'https://ziggystorage01.blob.core.windows.net/images/bicycle7.jpeg'}\n",
      "{'id': 10, 'imageName': 'bicycle8.jpeg', 'imageUrl': 'https://ziggystorage01.blob.core.windows.net/images/bicycle8.jpeg'}\n",
      "{'id': 11, 'imageName': 'bicycle9.jpeg', 'imageUrl': 'https://ziggystorage01.blob.core.windows.net/images/bicycle9.jpeg'}\n",
      "{'id': 12, 'imageName': 'bus1.jpeg', 'imageUrl': 'https://ziggystorage01.blob.core.windows.net/images/bus1.jpeg'}\n",
      "{'id': 13, 'imageName': 'bus10.jpeg', 'imageUrl': 'https://ziggystorage01.blob.core.windows.net/images/bus10.jpeg'}\n",
      "{'id': 14, 'imageName': 'bus2.jpeg', 'imageUrl': 'https://ziggystorage01.blob.core.windows.net/images/bus2.jpeg'}\n",
      "{'id': 15, 'imageName': 'bus3.jpeg', 'imageUrl': 'https://ziggystorage01.blob.core.windows.net/images/bus3.jpeg'}\n",
      "{'id': 16, 'imageName': 'bus4.jpeg', 'imageUrl': 'https://ziggystorage01.blob.core.windows.net/images/bus4.jpeg'}\n",
      "{'id': 17, 'imageName': 'bus5.jpeg', 'imageUrl': 'https://ziggystorage01.blob.core.windows.net/images/bus5.jpeg'}\n",
      "{'id': 18, 'imageName': 'bus6.jpeg', 'imageUrl': 'https://ziggystorage01.blob.core.windows.net/images/bus6.jpeg'}\n",
      "{'id': 19, 'imageName': 'bus7.jpeg', 'imageUrl': 'https://ziggystorage01.blob.core.windows.net/images/bus7.jpeg'}\n",
      "{'id': 20, 'imageName': 'bus8.jpeg', 'imageUrl': 'https://ziggystorage01.blob.core.windows.net/images/bus8.jpeg'}\n",
      "{'id': 21, 'imageName': 'bus9.jpeg', 'imageUrl': 'https://ziggystorage01.blob.core.windows.net/images/bus9.jpeg'}\n",
      "{'id': 22, 'imageName': 'car1.jpeg', 'imageUrl': 'https://ziggystorage01.blob.core.windows.net/images/car1.jpeg'}\n",
      "{'id': 23, 'imageName': 'car10.jpeg', 'imageUrl': 'https://ziggystorage01.blob.core.windows.net/images/car10.jpeg'}\n",
      "{'id': 24, 'imageName': 'car2.jpeg', 'imageUrl': 'https://ziggystorage01.blob.core.windows.net/images/car2.jpeg'}\n",
      "{'id': 25, 'imageName': 'car3.jpeg', 'imageUrl': 'https://ziggystorage01.blob.core.windows.net/images/car3.jpeg'}\n",
      "{'id': 26, 'imageName': 'car4.jpeg', 'imageUrl': 'https://ziggystorage01.blob.core.windows.net/images/car4.jpeg'}\n",
      "{'id': 27, 'imageName': 'car5.jpeg', 'imageUrl': 'https://ziggystorage01.blob.core.windows.net/images/car5.jpeg'}\n",
      "{'id': 28, 'imageName': 'car6.jpeg', 'imageUrl': 'https://ziggystorage01.blob.core.windows.net/images/car6.jpeg'}\n",
      "{'id': 29, 'imageName': 'car7.jpeg', 'imageUrl': 'https://ziggystorage01.blob.core.windows.net/images/car7.jpeg'}\n",
      "{'id': 30, 'imageName': 'car8.jpeg', 'imageUrl': 'https://ziggystorage01.blob.core.windows.net/images/car8.jpeg'}\n",
      "{'id': 31, 'imageName': 'car9.jpeg', 'imageUrl': 'https://ziggystorage01.blob.core.windows.net/images/car9.jpeg'}\n",
      "{'id': 32, 'imageName': 'empirestate.jpeg', 'imageUrl': 'https://ziggystorage01.blob.core.windows.net/images/empirestate.jpeg'}\n",
      "{'id': 33, 'imageName': 'fork_1.jpg', 'imageUrl': 'https://ziggystorage01.blob.core.windows.net/images/fork_1.jpg'}\n",
      "{'id': 34, 'imageName': 'fork_2.jpg', 'imageUrl': 'https://ziggystorage01.blob.core.windows.net/images/fork_2.jpg'}\n",
      "{'id': 35, 'imageName': 'fork_3.jpg', 'imageUrl': 'https://ziggystorage01.blob.core.windows.net/images/fork_3.jpg'}\n",
      "{'id': 36, 'imageName': 'fork_4.jpg', 'imageUrl': 'https://ziggystorage01.blob.core.windows.net/images/fork_4.jpg'}\n",
      "{'id': 37, 'imageName': 'fork_5.jpg', 'imageUrl': 'https://ziggystorage01.blob.core.windows.net/images/fork_5.jpg'}\n",
      "{'id': 38, 'imageName': 'group_1.jpeg', 'imageUrl': 'https://ziggystorage01.blob.core.windows.net/images/group_1.jpeg'}\n",
      "{'id': 39, 'imageName': 'group_2.jpeg', 'imageUrl': 'https://ziggystorage01.blob.core.windows.net/images/group_2.jpeg'}\n",
      "{'id': 40, 'imageName': 'hemlock_1.jpg', 'imageUrl': 'https://ziggystorage01.blob.core.windows.net/images/hemlock_1.jpg'}\n",
      "{'id': 41, 'imageName': 'hemlock_2.jpg', 'imageUrl': 'https://ziggystorage01.blob.core.windows.net/images/hemlock_2.jpg'}\n",
      "{'id': 42, 'imageName': 'hemlock_3.jpg', 'imageUrl': 'https://ziggystorage01.blob.core.windows.net/images/hemlock_3.jpg'}\n",
      "{'id': 43, 'imageName': 'hemlock_4.jpg', 'imageUrl': 'https://ziggystorage01.blob.core.windows.net/images/hemlock_4.jpg'}\n",
      "{'id': 44, 'imageName': 'hemlock_5.jpg', 'imageUrl': 'https://ziggystorage01.blob.core.windows.net/images/hemlock_5.jpg'}\n",
      "{'id': 45, 'imageName': 'japanese_cherry_1.jpg', 'imageUrl': 'https://ziggystorage01.blob.core.windows.net/images/japanese_cherry_1.jpg'}\n",
      "{'id': 46, 'imageName': 'japanese_cherry_2.jpg', 'imageUrl': 'https://ziggystorage01.blob.core.windows.net/images/japanese_cherry_2.jpg'}\n",
      "{'id': 47, 'imageName': 'japanese_cherry_3.jpg', 'imageUrl': 'https://ziggystorage01.blob.core.windows.net/images/japanese_cherry_3.jpg'}\n",
      "{'id': 48, 'imageName': 'japanese_cherry_4.jpg', 'imageUrl': 'https://ziggystorage01.blob.core.windows.net/images/japanese_cherry_4.jpg'}\n",
      "{'id': 49, 'imageName': 'japanese_cherry_5.jpg', 'imageUrl': 'https://ziggystorage01.blob.core.windows.net/images/japanese_cherry_5.jpg'}\n",
      "{'id': 50, 'imageName': 'mtfuji.jpeg', 'imageUrl': 'https://ziggystorage01.blob.core.windows.net/images/mtfuji.jpeg'}\n",
      "{'id': 51, 'imageName': 'person_a1.jpeg', 'imageUrl': 'https://ziggystorage01.blob.core.windows.net/images/person_a1.jpeg'}\n",
      "{'id': 52, 'imageName': 'person_a2.jpeg', 'imageUrl': 'https://ziggystorage01.blob.core.windows.net/images/person_a2.jpeg'}\n",
      "{'id': 53, 'imageName': 'person_b1.jpeg', 'imageUrl': 'https://ziggystorage01.blob.core.windows.net/images/person_b1.jpeg'}\n",
      "{'id': 54, 'imageName': 'person_b2.jpeg', 'imageUrl': 'https://ziggystorage01.blob.core.windows.net/images/person_b2.jpeg'}\n",
      "{'id': 55, 'imageName': 'person_c1.jpeg', 'imageUrl': 'https://ziggystorage01.blob.core.windows.net/images/person_c1.jpeg'}\n",
      "{'id': 56, 'imageName': 'person_c2.jpeg', 'imageUrl': 'https://ziggystorage01.blob.core.windows.net/images/person_c2.jpeg'}\n",
      "{'id': 57, 'imageName': 'person_c3.jpeg', 'imageUrl': 'https://ziggystorage01.blob.core.windows.net/images/person_c3.jpeg'}\n",
      "{'id': 58, 'imageName': 'scissors_1.jpg', 'imageUrl': 'https://ziggystorage01.blob.core.windows.net/images/scissors_1.jpg'}\n",
      "{'id': 59, 'imageName': 'scissors_2.jpg', 'imageUrl': 'https://ziggystorage01.blob.core.windows.net/images/scissors_2.jpg'}\n",
      "{'id': 60, 'imageName': 'scissors_3.jpg', 'imageUrl': 'https://ziggystorage01.blob.core.windows.net/images/scissors_3.jpg'}\n",
      "{'id': 61, 'imageName': 'scissors_4.jpg', 'imageUrl': 'https://ziggystorage01.blob.core.windows.net/images/scissors_4.jpg'}\n",
      "{'id': 62, 'imageName': 'scissors_5.jpg', 'imageUrl': 'https://ziggystorage01.blob.core.windows.net/images/scissors_5.jpg'}\n"
     ]
    }
   ],
   "source": [
    "from azure.storage.blob import BlobServiceClient\n",
    "\n",
    "# Initialize the BlobServiceClient with the connection string\n",
    "blob_service_client = BlobServiceClient.from_connection_string(azure_storage_connection_string)\n",
    "\n",
    "# Get the container client\n",
    "container_client = blob_service_client.get_container_client(\"images\")\n",
    "\n",
    "# List blobs in the container and store their URLs, names, and IDs in a collection\n",
    "blobs_collection = []\n",
    "\n",
    "idx = 0\n",
    "try:\n",
    "    blobs_list = container_client.list_blobs()\n",
    "    for blob in blobs_list:\n",
    "        idx += 1\n",
    "        blob_url = f\"{container_client.url}/{blob.name}\"\n",
    "        blobs_collection.append({\"id\": str(idx), \"imageName\": blob.name, \"imageUrl\": blob_url})\n",
    "    print(\"Access to the blob storage was granted.\")\n",
    "except Exception as e:\n",
    "    print(f\"Failed to access the blob storage: {e}\")\n",
    "\n",
    "# Print the collection\n",
    "print(\"Blobs collection:\")\n",
    "for blob in blobs_collection:\n",
    "    print(blob)"
   ]
  },
  {
   "cell_type": "markdown",
   "metadata": {},
   "source": [
    "## Vectorize Image API"
   ]
  },
  {
   "cell_type": "code",
   "execution_count": 50,
   "metadata": {},
   "outputs": [],
   "source": [
    "import requests\n",
    "\n",
    "def vectorize_image(image_url):\n",
    "    \"\"\"\n",
    "    Get image embeddings from Azure Computer Vision API using an image URL.\n",
    "\n",
    "    Parameters:\n",
    "    - image_url: str, the URL of the image to be vectorized\n",
    "\n",
    "    Returns:\n",
    "    - dict, the JSON response from the API\n",
    "    \"\"\"\n",
    "    # API URL\n",
    "    url = f\"{azure_computer_vision_endpoint}/computervision/retrieval:vectorizeImage?api-version=2024-02-01&model-version=2023-04-15\"\n",
    "\n",
    "    # Set headers\n",
    "    headers = {\n",
    "        \"Content-Type\": \"application/json\",\n",
    "        \"Ocp-Apim-Subscription-Key\": azure_computer_vision_key\n",
    "    }\n",
    "\n",
    "    # Set the data payload\n",
    "    data = {\n",
    "        \"url\": image_url\n",
    "    }\n",
    "\n",
    "    try:\n",
    "        # Make the request\n",
    "        response = requests.post(url, headers=headers, json=data)\n",
    "        response.raise_for_status()  # Raise an exception for HTTP errors\n",
    "\n",
    "        # Return the JSON response\n",
    "        return response.json()\n",
    "\n",
    "    except requests.exceptions.RequestException as e:\n",
    "        print(f\"Error: {e}\")\n",
    "        return None\n",
    "\n"
   ]
  },
  {
   "cell_type": "markdown",
   "metadata": {},
   "source": [
    "## Get Embeddings for each Image and save to a file"
   ]
  },
  {
   "cell_type": "code",
   "execution_count": 53,
   "metadata": {},
   "outputs": [
    {
     "name": "stdout",
     "output_type": "stream",
     "text": [
      "Blobs collection saved to blobs_collection.json\n"
     ]
    }
   ],
   "source": [
    "\n",
    "# Vectorize each image in the collection and add the embeddings to the collection\n",
    "for blob in blobs_collection:\n",
    "    # Vectorize the image\n",
    "    response = vectorize_image(blob[\"imageUrl\"])\n",
    "\n",
    "    # Add the embeddings to the collection\n",
    "    if response:\n",
    "        blob[\"imageVector\"] = response[\"vector\"]\n",
    "    else:\n",
    "        blob[\"imageVector\"] = None\n",
    "\n",
    "# save the blob collection to a file\n",
    "import json\n",
    "# Save the blob collection to a file\n",
    "output_file = \"blobs_collection.json\"\n",
    "with open(output_file, \"w\") as file:\n",
    "    json.dump(blobs_collection, file, indent=4)\n",
    "\n",
    "print(f\"Blobs collection saved to {output_file}\")\n"
   ]
  },
  {
   "cell_type": "markdown",
   "metadata": {},
   "source": [
    "## Create an Azure AI Search Index"
   ]
  },
  {
   "cell_type": "code",
   "execution_count": 55,
   "metadata": {},
   "outputs": [
    {
     "name": "stdout",
     "output_type": "stream",
     "text": [
      " az-image-index-001 created\n"
     ]
    }
   ],
   "source": [
    "from azure.core.credentials import AzureKeyCredential\n",
    "from azure.search.documents.indexes import SearchIndexClient\n",
    "from azure.search.documents.indexes.models import (\n",
    "    SearchField,\n",
    "    SimpleField,\n",
    "    SearchableField,\n",
    "    SearchFieldDataType,\n",
    "    VectorSearch,\n",
    "    HnswAlgorithmConfiguration,\n",
    "    VectorSearchProfile,\n",
    "    SearchIndex\n",
    ")\n",
    "\n",
    "# Get credential from Azure AI Search Admin key\n",
    "credential = AzureKeyCredential(azure_search_service_admin_key)\n",
    "\n",
    "# Create a search index\n",
    "index_client = SearchIndexClient(\n",
    "  endpoint=azure_search_service_endpoint, \n",
    "  credential=credential)\n",
    "\n",
    "fields = [\n",
    "    SimpleField(name=\"id\", type=SearchFieldDataType.String, key=True, sortable=True, filterable=True, facetable=True),\n",
    "    SearchableField(name=\"imageName\", type=SearchFieldDataType.String),\n",
    "    SearchableField(name=\"imageUrl\", type=SearchFieldDataType.String),\n",
    "    SearchField(name=\"imageVector\", \n",
    "                type=SearchFieldDataType.Collection(SearchFieldDataType.Single),\n",
    "                searchable=True, \n",
    "                vector_search_dimensions=azure_search_service_embedding_size, \n",
    "                vector_search_profile_name=\"myHnswProfile\"),\n",
    "]\n",
    "\n",
    "# Configure the vector search configuration  \n",
    "vector_search = VectorSearch(\n",
    "    algorithms=[\n",
    "        HnswAlgorithmConfiguration(name=\"myHnsw\")\n",
    "    ],\n",
    "    profiles=[\n",
    "        VectorSearchProfile(\n",
    "            name=\"myHnswProfile\",\n",
    "            algorithm_configuration_name=\"myHnsw\"\n",
    "        )\n",
    "    ] \n",
    ")\n",
    "\n",
    "# Create the search index with the semantic settings\n",
    "index = SearchIndex(name=azure_search_service_index_name, \n",
    "                    fields=fields,\n",
    "                    vector_search=vector_search)\n",
    "result = index_client.create_or_update_index(index)\n",
    "print(f' {result.name} created')"
   ]
  },
  {
   "cell_type": "markdown",
   "metadata": {},
   "source": [
    "## Upload data into Search Index"
   ]
  },
  {
   "cell_type": "code",
   "execution_count": 66,
   "metadata": {},
   "outputs": [
    {
     "name": "stdout",
     "output_type": "stream",
     "text": [
      "Uploaded 62 documents in total\n"
     ]
    }
   ],
   "source": [
    "import json\n",
    "from azure.search.documents import SearchIndexingBufferedSender\n",
    "\n",
    "# Load the JSON file\n",
    "file_path = 'blobs_collection.json'\n",
    "with open(file_path, 'r') as file:\n",
    "    documents = json.load(file)\n",
    "\n",
    "# Use SearchIndexingBufferedSender to upload the documents in batches optimized for indexing\n",
    "with SearchIndexingBufferedSender(\n",
    "    endpoint=azure_search_service_endpoint,\n",
    "    index_name=azure_search_service_index_name,\n",
    "    credential=credential,\n",
    ") as batch_client:\n",
    "    # Add upload actions for all documents\n",
    "    batch_client.upload_documents(documents)\n",
    "\n",
    "print(f\"Uploaded {len(documents)} documents in total\")"
   ]
  },
  {
   "cell_type": "markdown",
   "metadata": {},
   "source": [
    "## Vectorize Text API"
   ]
  },
  {
   "cell_type": "code",
   "execution_count": 67,
   "metadata": {},
   "outputs": [],
   "source": [
    "import requests\n",
    "\n",
    "def vectorize_text(text):\n",
    "    \n",
    "    # API URL\n",
    "    url = f\"{azure_computer_vision_endpoint}/computervision/retrieval:vectorizeText?api-version=2024-02-01&model-version=2023-04-15\"\n",
    "\n",
    "    # Set headers\n",
    "    headers = {\n",
    "        \"Content-Type\": \"application/json\",\n",
    "        \"Ocp-Apim-Subscription-Key\": azure_computer_vision_key\n",
    "    }\n",
    "\n",
    "    # Set the data payload\n",
    "    data = {\n",
    "        \"text\": text\n",
    "    }\n",
    "\n",
    "    try:\n",
    "        # Make the request\n",
    "        response = requests.post(url, headers=headers, json=data)\n",
    "        response.raise_for_status()  # Raise an exception for HTTP errors\n",
    "\n",
    "        # Return the JSON response\n",
    "        return response.json()\n",
    "\n",
    "    except requests.exceptions.RequestException as e:\n",
    "        print(f\"Error: {e}\")\n",
    "        return None\n"
   ]
  },
  {
   "cell_type": "markdown",
   "metadata": {},
   "source": [
    "# Perform a Search in Azure AI Search"
   ]
  },
  {
   "cell_type": "code",
   "execution_count": 75,
   "metadata": {},
   "outputs": [
    {
     "name": "stdout",
     "output_type": "stream",
     "text": [
      "Image Name: analyze_image.jpg, Image URL: https://ziggystorage01.blob.core.windows.net/images/analyze_image.jpg\n",
      "Image Name: group_2.jpeg, Image URL: https://ziggystorage01.blob.core.windows.net/images/group_2.jpeg\n",
      "Image Name: group_1.jpeg, Image URL: https://ziggystorage01.blob.core.windows.net/images/group_1.jpeg\n"
     ]
    }
   ],
   "source": [
    "from azure.search.documents import SearchClient\n",
    "from azure.search.documents.models import VectorizedQuery\n",
    "from azure.core.credentials import AzureKeyCredential\n",
    "\n",
    "# Get credential from Azure AI Search Admin key\n",
    "credential = AzureKeyCredential(azure_search_service_admin_key)\n",
    "search_client = SearchClient(endpoint=azure_search_service_endpoint, \n",
    "                             credential=credential, \n",
    "                             index_name=azure_search_service_index_name)\n",
    "\n",
    "\n",
    "# Your query and vectorization function\n",
    "query = \"people working\"\n",
    "vectorized_text = vectorize_text(query)\n",
    "vector = vectorized_text[\"vector\"]\n",
    "\n",
    "# Create the VectorizedQuery instance\n",
    "vector_query = VectorizedQuery(\n",
    "    vector=vector, \n",
    "    k_nearest_neighbors=3, \n",
    "    fields=\"imageVector\"\n",
    ")\n",
    "\n",
    "# Perform the search\n",
    "results = search_client.search(\n",
    "    search_text=None,  \n",
    "    vector_queries=[vector_query],  # Include the vector query here\n",
    "    select=[\"imageName\", \"imageUrl\"],\n",
    "    top=5\n",
    ")\n",
    "\n",
    "# Process and print the results\n",
    "for result in results:\n",
    "    print(f\"Image Name: {result['imageName']}, Image URL: {result['imageUrl']}\")"
   ]
  }
 ],
 "metadata": {
  "kernelspec": {
   "display_name": "Python 3",
   "language": "python",
   "name": "python3"
  },
  "language_info": {
   "codemirror_mode": {
    "name": "ipython",
    "version": 3
   },
   "file_extension": ".py",
   "mimetype": "text/x-python",
   "name": "python",
   "nbconvert_exporter": "python",
   "pygments_lexer": "ipython3",
   "version": "3.12.1"
  }
 },
 "nbformat": 4,
 "nbformat_minor": 2
}
