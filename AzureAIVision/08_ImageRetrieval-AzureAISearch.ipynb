{
 "cells": [
  {
   "cell_type": "markdown",
   "metadata": {},
   "source": [
    "## Image Retrieval with Azure AI Search\n",
    "\n",
    "Requirements:\n",
    "1. Azure AI Search\n",
    "2. Azure Computer Vision\n",
    "3. Azure Storage\n",
    "\n",
    "Steps:\n",
    "1. Store images in Azure Storage \n",
    "2. Get access to images in Azure Storage\n",
    "3. Create Search index in Azure AI Search\n",
    "4. Generate embeddings for images\n",
    "5. Store embeddings and other metadata to Azure AI Search\n",
    "6. Perform a search in Azure AI Search"
   ]
  },
  {
   "cell_type": "markdown",
   "metadata": {},
   "source": [
    "## Load Azure Configuration"
   ]
  },
  {
   "cell_type": "code",
   "execution_count": null,
   "metadata": {},
   "outputs": [],
   "source": [
    "import os\n",
    "\n",
    "azure_computer_vision_endpoint = os.environ[\"AZURE_COMPUTER_VISION_ENDPOINT\"]\n",
    "azure_computer_vision_key = os.environ[\"AZURE_COMPUTER_VISION_KEY\"]\n",
    "\n",
    "azure_storage_connection_string = os.getenv(\"AZURE_STORAGE_CONNECTION_STRING\")\n",
    "\n",
    "azure_search_service_endpoint = os.getenv(\"AZURE_SEARCH_SERVICE_ENDPOINT\")\n",
    "azure_search_service_admin_key = os.getenv(\"AZURE_SEARCH_ADMIN_KEY\")\n",
    "azure_search_service_index_name = \"az-image-index-001\"\n",
    "\n",
    "azure_openai_endpoint = os.getenv(\"AZURE_OPENAI_ENDPOINT\")\n",
    "azure_openai_key = os.getenv(\"AZURE_OPENAI_API_KEY\")\n",
    "azure_openai_deployment = os.getenv(\"AZURE_OPENAI_CHAT_DEPLOYMENT_NAME\")\n",
    "azure_openai_embeddings_deployment = os.getenv(\"AZURE_OPENAI_EMBEDDINGS_DEPLOYMENT\")\n",
    "azure_openai_api_version = \"2024-10-01-preview\"\n",
    "azure_openai_embedding_size=1024\n"
   ]
  },
  {
   "cell_type": "markdown",
   "metadata": {},
   "source": [
    "## Check Azure Storage Access"
   ]
  },
  {
   "cell_type": "code",
   "execution_count": 2,
   "metadata": {},
   "outputs": [
    {
     "name": "stdout",
     "output_type": "stream",
     "text": [
      "Blobs in the container:\n",
      "analyze_image.jpg\n",
      "bicycle1.jpeg\n",
      "bicycle10.jpeg\n",
      "bicycle2.jpeg\n",
      "bicycle3.jpeg\n",
      "bicycle4.jpeg\n",
      "bicycle5.jpeg\n",
      "bicycle6.jpeg\n",
      "bicycle7.jpeg\n",
      "bicycle8.jpeg\n",
      "bicycle9.jpeg\n",
      "bus1.jpeg\n",
      "bus10.jpeg\n",
      "bus2.jpeg\n",
      "bus3.jpeg\n",
      "bus4.jpeg\n",
      "bus5.jpeg\n",
      "bus6.jpeg\n",
      "bus7.jpeg\n",
      "bus8.jpeg\n",
      "bus9.jpeg\n",
      "car1.jpeg\n",
      "car10.jpeg\n",
      "car2.jpeg\n",
      "car3.jpeg\n",
      "car4.jpeg\n",
      "car5.jpeg\n",
      "car6.jpeg\n",
      "car7.jpeg\n",
      "car8.jpeg\n",
      "car9.jpeg\n",
      "empirestate.jpeg\n",
      "fork_1.jpg\n",
      "fork_2.jpg\n",
      "fork_3.jpg\n",
      "fork_4.jpg\n",
      "fork_5.jpg\n",
      "group_1.jpeg\n",
      "group_2.jpeg\n",
      "hemlock_1.jpg\n",
      "hemlock_2.jpg\n",
      "hemlock_3.jpg\n",
      "hemlock_4.jpg\n",
      "hemlock_5.jpg\n",
      "japanese_cherry_1.jpg\n",
      "japanese_cherry_2.jpg\n",
      "japanese_cherry_3.jpg\n",
      "japanese_cherry_4.jpg\n",
      "japanese_cherry_5.jpg\n",
      "mtfuji.jpeg\n",
      "person_a1.jpeg\n",
      "person_a2.jpeg\n",
      "person_b1.jpeg\n",
      "person_b2.jpeg\n",
      "person_c1.jpeg\n",
      "person_c2.jpeg\n",
      "person_c3.jpeg\n",
      "scissors_1.jpg\n",
      "scissors_2.jpg\n",
      "scissors_3.jpg\n",
      "scissors_4.jpg\n",
      "scissors_5.jpg\n",
      "Access to the blob storage was granted.\n"
     ]
    }
   ],
   "source": [
    "from azure.storage.blob import BlobServiceClient\n",
    "\n",
    "# Initialize the BlobServiceClient with the connection string\n",
    "blob_service_client = BlobServiceClient.from_connection_string(azure_storage_connection_string)\n",
    "\n",
    "# Get the container client\n",
    "container_client = blob_service_client.get_container_client(\"images\")\n",
    "\n",
    "# List blobs in the container\n",
    "try:\n",
    "    blobs_list = container_client.list_blobs()\n",
    "    print(\"Blobs in the container:\")\n",
    "    for blob in blobs_list:\n",
    "        print(blob.name)\n",
    "    print(\"Access to the blob storage was granted.\")\n",
    "except Exception as e:\n",
    "    print(f\"Failed to access the blob storage: {e}\")"
   ]
  },
  {
   "cell_type": "markdown",
   "metadata": {},
   "source": [
    "## Create an Azure AI Search Index"
   ]
  },
  {
   "cell_type": "code",
   "execution_count": 4,
   "metadata": {},
   "outputs": [
    {
     "name": "stdout",
     "output_type": "stream",
     "text": [
      " az-image-index-001 created\n"
     ]
    }
   ],
   "source": [
    "from azure.core.credentials import AzureKeyCredential\n",
    "from azure.search.documents.indexes import SearchIndexClient\n",
    "from azure.search.documents.indexes.models import (\n",
    "    SearchField,\n",
    "    SimpleField,\n",
    "    SearchableField,\n",
    "    SearchFieldDataType,\n",
    "    VectorSearch,\n",
    "    HnswAlgorithmConfiguration,\n",
    "    VectorSearchProfile,\n",
    "    AzureOpenAIVectorizer,\n",
    "    AzureOpenAIVectorizerParameters,\n",
    "    SearchIndex\n",
    ")\n",
    "\n",
    "# Get credential from Azure AI Search Admin key\n",
    "credential = AzureKeyCredential(azure_search_service_admin_key)\n",
    "\n",
    "# Create a search index\n",
    "index_client = SearchIndexClient(\n",
    "  endpoint=azure_search_service_endpoint, \n",
    "  credential=credential)\n",
    "\n",
    "fields = [\n",
    "    SimpleField(name=\"id\", type=SearchFieldDataType.String, key=True, sortable=True, filterable=True, facetable=True),\n",
    "    SearchableField(name=\"image_name\", type=SearchFieldDataType.String),\n",
    "    SearchableField(name=\"image_url\", type=SearchFieldDataType.String),\n",
    "    SearchField(name=\"imageVector\", type=SearchFieldDataType.Collection(SearchFieldDataType.Single),\n",
    "                searchable=True, vector_search_dimensions=azure_openai_embedding_size, vector_search_profile_name=\"myHnswProfile\"),\n",
    "]\n",
    "\n",
    "# Configure the vector search configuration  \n",
    "vector_search = VectorSearch(\n",
    "    algorithms=[\n",
    "        HnswAlgorithmConfiguration(name=\"myHnsw\")\n",
    "    ],\n",
    "    profiles=[\n",
    "        VectorSearchProfile(\n",
    "            name=\"myHnswProfile\",\n",
    "            algorithm_configuration_name=\"myHnsw\",\n",
    "            vectorizer_name=\"myVectorizer\"\n",
    "        )\n",
    "    ],\n",
    "    vectorizers=[   # a vectorizer is software that performs vectorization\n",
    "        AzureOpenAIVectorizer(  \n",
    "            vectorizer_name=\"myVectorizer\",  \n",
    "            kind=\"azureOpenAI\",  \n",
    "            parameters=AzureOpenAIVectorizerParameters(  \n",
    "                resource_url=azure_openai_endpoint,  \n",
    "                deployment_name=azure_openai_embeddings_deployment,\n",
    "                model_name=azure_openai_embeddings_deployment\n",
    "            ),\n",
    "        ),  \n",
    "    ], \n",
    ")\n",
    "\n",
    "# Create the search index with the semantic settings\n",
    "index = SearchIndex(name=azure_search_service_index_name, \n",
    "                    fields=fields,\n",
    "                    vector_search=vector_search)\n",
    "result = index_client.create_or_update_index(index)\n",
    "print(f' {result.name} created')"
   ]
  }
 ],
 "metadata": {
  "kernelspec": {
   "display_name": "Python 3",
   "language": "python",
   "name": "python3"
  },
  "language_info": {
   "codemirror_mode": {
    "name": "ipython",
    "version": 3
   },
   "file_extension": ".py",
   "mimetype": "text/x-python",
   "name": "python",
   "nbconvert_exporter": "python",
   "pygments_lexer": "ipython3",
   "version": "3.12.1"
  }
 },
 "nbformat": 4,
 "nbformat_minor": 2
}
