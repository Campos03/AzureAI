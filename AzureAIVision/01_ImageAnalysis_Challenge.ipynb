{
 "cells": [
  {
   "cell_type": "markdown",
   "metadata": {},
   "source": [
    "## Image Analysis Challenge\n",
    "\n",
    "For this challenge, you will analyze an image from a URL.\n",
    "1. The image file must be stored in Azure Storage\n",
    "2. You will get the Caption, Dense Captions, and Tags of the image."
   ]
  }
 ],
 "metadata": {
  "language_info": {
   "name": "python"
  }
 },
 "nbformat": 4,
 "nbformat_minor": 2
}
