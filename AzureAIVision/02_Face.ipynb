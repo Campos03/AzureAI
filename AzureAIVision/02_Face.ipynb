{
 "cells": [
  {
   "cell_type": "code",
   "execution_count": 1,
   "metadata": {},
   "outputs": [
    {
     "name": "stdout",
     "output_type": "stream",
     "text": [
      "Collecting azure-ai-vision-face\n",
      "  Downloading azure_ai_vision_face-1.0.0b2-py3-none-any.whl.metadata (26 kB)\n",
      "Requirement already satisfied: isodate>=0.6.1 in /home/codespace/.python/current/lib/python3.12/site-packages (from azure-ai-vision-face) (0.7.2)\n",
      "Requirement already satisfied: azure-core>=1.30.0 in /home/codespace/.python/current/lib/python3.12/site-packages (from azure-ai-vision-face) (1.32.0)\n",
      "Requirement already satisfied: typing-extensions>=4.6.0 in /home/codespace/.python/current/lib/python3.12/site-packages (from azure-ai-vision-face) (4.12.2)\n",
      "Requirement already satisfied: requests>=2.21.0 in /home/codespace/.local/lib/python3.12/site-packages (from azure-core>=1.30.0->azure-ai-vision-face) (2.32.3)\n",
      "Requirement already satisfied: six>=1.11.0 in /home/codespace/.local/lib/python3.12/site-packages (from azure-core>=1.30.0->azure-ai-vision-face) (1.16.0)\n",
      "Requirement already satisfied: charset-normalizer<4,>=2 in /home/codespace/.local/lib/python3.12/site-packages (from requests>=2.21.0->azure-core>=1.30.0->azure-ai-vision-face) (3.3.2)\n",
      "Requirement already satisfied: idna<4,>=2.5 in /home/codespace/.local/lib/python3.12/site-packages (from requests>=2.21.0->azure-core>=1.30.0->azure-ai-vision-face) (3.10)\n",
      "Requirement already satisfied: urllib3<3,>=1.21.1 in /home/codespace/.local/lib/python3.12/site-packages (from requests>=2.21.0->azure-core>=1.30.0->azure-ai-vision-face) (2.2.3)\n",
      "Requirement already satisfied: certifi>=2017.4.17 in /home/codespace/.local/lib/python3.12/site-packages (from requests>=2.21.0->azure-core>=1.30.0->azure-ai-vision-face) (2024.8.30)\n",
      "Downloading azure_ai_vision_face-1.0.0b2-py3-none-any.whl (109 kB)\n",
      "Installing collected packages: azure-ai-vision-face\n",
      "Successfully installed azure-ai-vision-face-1.0.0b2\n",
      "Note: you may need to restart the kernel to use updated packages.\n"
     ]
    }
   ],
   "source": [
    "%pip install --upgrade azure-ai-vision-face"
   ]
  },
  {
   "cell_type": "markdown",
   "metadata": {},
   "source": [
    "## Load Azure Configuration"
   ]
  },
  {
   "cell_type": "code",
   "execution_count": 2,
   "metadata": {},
   "outputs": [],
   "source": [
    "import os\n",
    "azure_face_endpoint = os.environ[\"AZURE_FACE_ENDPOINT\"]\n",
    "azure_face_key = os.environ[\"AZURE_FACE_KEY\"]"
   ]
  },
  {
   "cell_type": "markdown",
   "metadata": {},
   "source": [
    "## Create Clients"
   ]
  },
  {
   "cell_type": "code",
   "execution_count": 5,
   "metadata": {},
   "outputs": [],
   "source": [
    "import os\n",
    "import time\n",
    "import uuid\n",
    "\n",
    "from azure.core.credentials import AzureKeyCredential\n",
    "from azure.ai.vision.face import FaceAdministrationClient, FaceClient\n",
    "from azure.ai.vision.face.models import FaceAttributeTypeRecognition04, FaceDetectionModel, FaceRecognitionModel, QualityForRecognition\n",
    "\n",
    "face_admin_client = FaceAdministrationClient(endpoint=azure_face_endpoint, credential=AzureKeyCredential(azure_face_key))\n",
    "face_client = FaceClient(endpoint=azure_face_endpoint, credential=AzureKeyCredential(azure_face_key))"
   ]
  },
  {
   "cell_type": "markdown",
   "metadata": {},
   "source": [
    "## Create Large Person Group"
   ]
  },
  {
   "cell_type": "code",
   "execution_count": 6,
   "metadata": {},
   "outputs": [
    {
     "name": "stdout",
     "output_type": "stream",
     "text": [
      "Person group: a5c4ae9c-9ac2-4110-8b17-6473be330877\n"
     ]
    }
   ],
   "source": [
    "# Used in the Large Person Group Operations and Delete Large Person Group examples.\n",
    "# LARGE_PERSON_GROUP_ID should be all lowercase and alphanumeric. For example, 'mygroupname' (dashes are OK).\n",
    "LARGE_PERSON_GROUP_ID = str(uuid.uuid4())  # assign a random ID (or name it anything)\n",
    "\n",
    "# Create a Large Person Group\n",
    "print(\"Person group:\", LARGE_PERSON_GROUP_ID)\n",
    "face_admin_client.large_person_group.create(\n",
    "    large_person_group_id=LARGE_PERSON_GROUP_ID,\n",
    "    name=LARGE_PERSON_GROUP_ID,\n",
    "    recognition_model=FaceRecognitionModel.RECOGNITION04,\n",
    ")"
   ]
  },
  {
   "cell_type": "markdown",
   "metadata": {},
   "source": [
    "## Add Persons to Groups"
   ]
  },
  {
   "cell_type": "code",
   "execution_count": 7,
   "metadata": {},
   "outputs": [
    {
     "name": "stdout",
     "output_type": "stream",
     "text": [
      "Face 29b1a306-f7b8-4c1f-92b7-f6447380994c added to person 702f02ba-0c4e-4ec7-ad7a-b1d49730ac45\n",
      "Face ffc5edc6-c1c4-45e3-8eef-4764bbfdda35 added to person 702f02ba-0c4e-4ec7-ad7a-b1d49730ac45\n"
     ]
    }
   ],
   "source": [
    "# Define woman friend\n",
    "woman = face_admin_client.large_person_group.create_person(\n",
    "    large_person_group_id=LARGE_PERSON_GROUP_ID,\n",
    "    name=\"Woman\",\n",
    ")\n",
    "\n",
    "# Images\n",
    "woman_images = [\n",
    "    \"https://raw.githubusercontent.com/Azure-Samples/cognitive-services-sample-data-files/master/Face/images/Family1-Mom1.jpg\",\n",
    "    \"https://raw.githubusercontent.com/Azure-Samples/cognitive-services-sample-data-files/master/Face/images/Family1-Mom2.jpg\",\n",
    "]\n",
    "\n",
    "for image in woman_images:\n",
    "    # Check if the image is of sufficient quality for recognition.\n",
    "    detected_faces = face_client.detect_from_url(\n",
    "        url=image,\n",
    "        detection_model=FaceDetectionModel.DETECTION03,\n",
    "        recognition_model=FaceRecognitionModel.RECOGNITION04,\n",
    "        return_face_id=True,\n",
    "        return_face_attributes=[FaceAttributeTypeRecognition04.QUALITY_FOR_RECOGNITION],\n",
    "    )\n",
    "\n",
    "    # Ensure only one face is detected and it has high quality for recognition\n",
    "    if len(detected_faces) == 1 and detected_faces[0].face_attributes.quality_for_recognition == QualityForRecognition.HIGH:\n",
    "        face_admin_client.large_person_group.add_face_from_url(\n",
    "            large_person_group_id=LARGE_PERSON_GROUP_ID,\n",
    "            person_id=woman.person_id,\n",
    "            url=image,\n",
    "            detection_model=FaceDetectionModel.DETECTION03,\n",
    "        )\n",
    "        print(f\"Face {detected_faces[0].face_id} added to person {woman.person_id}\")\n",
    "\n"
   ]
  },
  {
   "cell_type": "code",
   "execution_count": 8,
   "metadata": {},
   "outputs": [
    {
     "name": "stdout",
     "output_type": "stream",
     "text": [
      "Face 43de87fb-1de0-49bf-a11e-ecddc66d4989 added to person fdb0c078-13fe-4951-91cc-4fb04bf91b48\n",
      "Face 73034e5a-79f1-40bc-b98c-422c3ba982e6 added to person fdb0c078-13fe-4951-91cc-4fb04bf91b48\n"
     ]
    }
   ],
   "source": [
    "# Define man friend\n",
    "man = face_admin_client.large_person_group.create_person(\n",
    "    large_person_group_id=LARGE_PERSON_GROUP_ID,\n",
    "    name=\"Man\",\n",
    ")\n",
    "\n",
    "man_images = [\n",
    "    \"https://raw.githubusercontent.com/Azure-Samples/cognitive-services-sample-data-files/master/Face/images/Family1-Dad1.jpg\",\n",
    "    \"https://raw.githubusercontent.com/Azure-Samples/cognitive-services-sample-data-files/master/Face/images/Family1-Dad2.jpg\",\n",
    "]\n",
    "\n",
    "for image in man_images:\n",
    "    # Check if the image is of sufficient quality for recognition.\n",
    "    detected_faces = face_client.detect_from_url(\n",
    "        url=image,\n",
    "        detection_model=FaceDetectionModel.DETECTION03,\n",
    "        recognition_model=FaceRecognitionModel.RECOGNITION04,\n",
    "        return_face_id=True,\n",
    "        return_face_attributes=[FaceAttributeTypeRecognition04.QUALITY_FOR_RECOGNITION],\n",
    "    )\n",
    "\n",
    "    # Ensure only one face is detected and it has high quality for recognition\n",
    "    if len(detected_faces) == 1 and detected_faces[0].face_attributes.quality_for_recognition == QualityForRecognition.HIGH:\n",
    "        face_admin_client.large_person_group.add_face_from_url(\n",
    "            large_person_group_id=LARGE_PERSON_GROUP_ID,\n",
    "            person_id=man.person_id,\n",
    "            url=image,\n",
    "            detection_model=FaceDetectionModel.DETECTION03,\n",
    "        )\n",
    "        print(f\"Face {detected_faces[0].face_id} added to person {man.person_id}\")"
   ]
  },
  {
   "cell_type": "code",
   "execution_count": 9,
   "metadata": {},
   "outputs": [
    {
     "name": "stdout",
     "output_type": "stream",
     "text": [
      "Face 19a49a62-873f-4508-ab88-9b9c84ea2349 added to person e4ebb76a-9d18-4973-b216-a5fe4651b454\n",
      "Face 634b6626-8a05-4753-9401-095ed6822977 added to person e4ebb76a-9d18-4973-b216-a5fe4651b454\n"
     ]
    }
   ],
   "source": [
    "# Define child friend\n",
    "child = face_admin_client.large_person_group.create_person(\n",
    "    large_person_group_id=LARGE_PERSON_GROUP_ID,\n",
    "    name=\"Child\",\n",
    ")\n",
    "\n",
    "child_images = [\n",
    "    \"https://raw.githubusercontent.com/Azure-Samples/cognitive-services-sample-data-files/master/Face/images/Family1-Son1.jpg\",\n",
    "    \"https://raw.githubusercontent.com/Azure-Samples/cognitive-services-sample-data-files/master/Face/images/Family1-Son2.jpg\",\n",
    "]\n",
    "\n",
    "for image in child_images:\n",
    "    # Check if the image is of sufficient quality for recognition.\n",
    "    detected_faces = face_client.detect_from_url(\n",
    "        url=image,\n",
    "        detection_model=FaceDetectionModel.DETECTION03,\n",
    "        recognition_model=FaceRecognitionModel.RECOGNITION04,\n",
    "        return_face_id=True,\n",
    "        return_face_attributes=[FaceAttributeTypeRecognition04.QUALITY_FOR_RECOGNITION],\n",
    "    )\n",
    "\n",
    "    # Ensure only one face is detected and it has high quality for recognition\n",
    "    if len(detected_faces) == 1 and detected_faces[0].face_attributes.quality_for_recognition == QualityForRecognition.HIGH:\n",
    "        face_admin_client.large_person_group.add_face_from_url(\n",
    "            large_person_group_id=LARGE_PERSON_GROUP_ID,\n",
    "            person_id=child.person_id,\n",
    "            url=image,\n",
    "            detection_model=FaceDetectionModel.DETECTION03,\n",
    "        )\n",
    "        print(f\"Face {detected_faces[0].face_id} added to person {child.person_id}\")"
   ]
  },
  {
   "cell_type": "markdown",
   "metadata": {},
   "source": [
    "## Train the Large Person Group"
   ]
  },
  {
   "cell_type": "code",
   "execution_count": 10,
   "metadata": {},
   "outputs": [
    {
     "name": "stdout",
     "output_type": "stream",
     "text": [
      "Train the person group a5c4ae9c-9ac2-4110-8b17-6473be330877\n",
      "The person group a5c4ae9c-9ac2-4110-8b17-6473be330877 is trained successfully.\n"
     ]
    }
   ],
   "source": [
    "# Train the large person group and set the polling interval to 5s\n",
    "print(f\"Train the person group {LARGE_PERSON_GROUP_ID}\")\n",
    "poller = face_admin_client.large_person_group.begin_train(\n",
    "    large_person_group_id=LARGE_PERSON_GROUP_ID,\n",
    "    polling_interval=5,\n",
    ")\n",
    "\n",
    "poller.wait()\n",
    "print(f\"The person group {LARGE_PERSON_GROUP_ID} is trained successfully.\")"
   ]
  },
  {
   "cell_type": "markdown",
   "metadata": {},
   "source": [
    "## Identify Faces in Images"
   ]
  },
  {
   "cell_type": "code",
   "execution_count": 13,
   "metadata": {},
   "outputs": [
    {
     "name": "stdout",
     "output_type": "stream",
     "text": [
      "Identifying faces in image\n",
      "Person is identified for face ID 3ee34fc2-e591-469b-8901-187ff6aec503 in image, with a confidence of 0.96806.\n",
      "Person Identified: fdb0c078-13fe-4951-91cc-4fb04bf91b48. Verification result: True. confidence: 0.96806\n",
      "Person is identified for face ID 642a7d25-8402-4480-a27b-60f2eff6cc0a in image, with a confidence of 0.969.\n",
      "Person Identified: 702f02ba-0c4e-4ec7-ad7a-b1d49730ac45. Verification result: True. confidence: 0.969\n",
      "No person identified for face ID b1fbeeba-2cd9-48f7-982c-325630054be5 in image.\n",
      "Person is identified for face ID f1417be4-8c95-492e-99b8-09801776def4 in image, with a confidence of 0.92797.\n",
      "Person Identified: e4ebb76a-9d18-4973-b216-a5fe4651b454. Verification result: True. confidence: 0.92797\n"
     ]
    }
   ],
   "source": [
    "# Group image for testing against\n",
    "test_image = \"https://raw.githubusercontent.com/Azure-Samples/cognitive-services-sample-data-files/master/Face/images/identification1.jpg\"\n",
    "\n",
    "# Detect faces\n",
    "face_ids = []\n",
    "# We use detection model 03 to get better performance, recognition model 04 to support quality for recognition attribute.\n",
    "faces = face_client.detect_from_url(\n",
    "    url=test_image,\n",
    "    detection_model=FaceDetectionModel.DETECTION03,\n",
    "    recognition_model=FaceRecognitionModel.RECOGNITION04,\n",
    "    return_face_id=True,\n",
    "    return_face_attributes=[FaceAttributeTypeRecognition04.QUALITY_FOR_RECOGNITION],\n",
    ")\n",
    "\n",
    "for face in faces:\n",
    "    # Only take the face if it is of sufficient quality.\n",
    "    if face.face_attributes.quality_for_recognition != QualityForRecognition.LOW:\n",
    "        face_ids.append(face.face_id)\n",
    "\n",
    "# Identify faces\n",
    "identify_results = face_client.identify_from_large_person_group(\n",
    "    face_ids=face_ids,\n",
    "    large_person_group_id=LARGE_PERSON_GROUP_ID,\n",
    ")\n",
    "print(\"Identifying faces in image\")\n",
    "for identify_result in identify_results:\n",
    "    if identify_result.candidates:\n",
    "        print(f\"Person is identified for face ID {identify_result.face_id} in image, with a confidence of \"\n",
    "              f\"{identify_result.candidates[0].confidence}.\")  # Get topmost confidence score\n",
    "\n",
    "    # Verify faces\n",
    "        verify_result = face_client.verify_from_large_person_group(\n",
    "            face_id=identify_result.face_id,\n",
    "            large_person_group_id=LARGE_PERSON_GROUP_ID,\n",
    "            person_id=identify_result.candidates[0].person_id,\n",
    "        )\n",
    "        print(f\"Person Identified: {identify_result.candidates[0].person_id}. Verification result: {verify_result.is_identical}. confidence: {verify_result.confidence}\")\n",
    "    else:\n",
    "        print(f\"No person identified for face ID {identify_result.face_id} in image.\")\n"
   ]
  },
  {
   "cell_type": "markdown",
   "metadata": {},
   "source": [
    "## Clean up resources"
   ]
  },
  {
   "cell_type": "code",
   "execution_count": 14,
   "metadata": {},
   "outputs": [
    {
     "name": "stdout",
     "output_type": "stream",
     "text": [
      "The person group a5c4ae9c-9ac2-4110-8b17-6473be330877 is deleted.\n"
     ]
    }
   ],
   "source": [
    "# Delete the large person group\n",
    "face_admin_client.large_person_group.delete(LARGE_PERSON_GROUP_ID)\n",
    "print(f\"The person group {LARGE_PERSON_GROUP_ID} is deleted.\")"
   ]
  }
 ],
 "metadata": {
  "kernelspec": {
   "display_name": "Python 3",
   "language": "python",
   "name": "python3"
  },
  "language_info": {
   "codemirror_mode": {
    "name": "ipython",
    "version": 3
   },
   "file_extension": ".py",
   "mimetype": "text/x-python",
   "name": "python",
   "nbconvert_exporter": "python",
   "pygments_lexer": "ipython3",
   "version": "3.12.1"
  }
 },
 "nbformat": 4,
 "nbformat_minor": 2
}
