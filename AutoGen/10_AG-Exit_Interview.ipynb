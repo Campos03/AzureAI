{
 "cells": [
  {
   "cell_type": "markdown",
   "metadata": {},
   "source": [
    "# AutoGen Exit Interview"
   ]
  },
  {
   "cell_type": "markdown",
   "metadata": {},
   "source": [
    "## Load Azure Configurations"
   ]
  },
  {
   "cell_type": "code",
   "execution_count": 95,
   "metadata": {},
   "outputs": [],
   "source": [
    "from dotenv import load_dotenv\n",
    "import os\n",
    "\n",
    "azure_openai_endpoint = os.getenv(\"AZURE_OPENAI_ENDPOINT\")\n",
    "azure_openai_key = os.getenv(\"AZURE_OPENAI_API_KEY\")\n",
    "azure_openai_deployment = os.getenv(\"AZURE_OPENAI_CHAT_DEPLOYMENT_NAME\")\n",
    "azure_openai_api_version = os.getenv(\"AZURE_OPENAI_API_VERSION\")"
   ]
  },
  {
   "cell_type": "markdown",
   "metadata": {},
   "source": [
    "## Create Azure OpenAI Client\n",
    "Using the model client class"
   ]
  },
  {
   "cell_type": "code",
   "execution_count": 96,
   "metadata": {},
   "outputs": [],
   "source": [
    "from autogen_ext.models.openai import AzureOpenAIChatCompletionClient\n",
    "from azure.identity import DefaultAzureCredential, get_bearer_token_provider\n",
    "\n",
    "# Create the token provider\n",
    "#token_provider = get_bearer_token_provider(DefaultAzureCredential(), \"https://cognitiveservices.azure.com/.default\")\n",
    "\n",
    "az_model_client = AzureOpenAIChatCompletionClient(\n",
    "    azure_deployment=azure_openai_deployment,\n",
    "    model=azure_openai_deployment,\n",
    "    api_version=azure_openai_api_version,\n",
    "    azure_endpoint=azure_openai_endpoint,\n",
    "    # azure_ad_token_provider=token_provider,  # Optional if you choose key-based authentication.\n",
    "    api_key=azure_openai_key, # For key-based authentication.\n",
    ")"
   ]
  },
  {
   "cell_type": "markdown",
   "metadata": {},
   "source": [
    "## OpenAI Assistant Agent to have Resume info"
   ]
  },
  {
   "cell_type": "code",
   "execution_count": 103,
   "metadata": {},
   "outputs": [],
   "source": [
    "from autogen_core import CancellationToken\n",
    "from autogen_ext.agents.openai import OpenAIAssistantAgent\n",
    "from autogen_agentchat.messages import TextMessage\n",
    "from openai import AsyncAzureOpenAI\n",
    "\n",
    "cancellation_token = CancellationToken()\n",
    "\n",
    "# Create AzureOpenAI client\n",
    "client = AsyncAzureOpenAI(azure_endpoint=azure_openai_endpoint, \n",
    "                          api_version=azure_openai_api_version, \n",
    "                          api_key=azure_openai_key)\n",
    "\n",
    "\n",
    "#### Create a vector store for file search ####\n",
    "vector_store = await client.beta.vector_stores.create(name=\"EmployeeInfo\")\n",
    "# Specify the folder containing the files\n",
    "folder_path = \"../Data/employeeinfo/\"\n",
    "# Get all file paths in the folder\n",
    "file_paths = [os.path.join(folder_path, file_name) for file_name in os.listdir(folder_path)]\n",
    "# Open file streams\n",
    "file_streams = [open(path, \"rb\") for path in file_paths]\n",
    "# Use the upload and poll SDK helper to upload the files, add them to the vector store,\n",
    "# and poll the status of the file batch for completion.\n",
    "file_batch = await client.beta.vector_stores.file_batches.upload_and_poll(\n",
    "    vector_store_id=vector_store.id, files=file_streams\n",
    ")\n",
    "# Close file streams\n",
    "for file in file_streams:\n",
    "    file.close()\n"
   ]
  },
  {
   "cell_type": "code",
   "execution_count": 104,
   "metadata": {},
   "outputs": [
    {
     "name": "stdout",
     "output_type": "stream",
     "text": [
      "completed\n",
      "FileCounts(cancelled=0, completed=1, failed=0, in_progress=0, total=1)\n",
      "vs_33qYyS36uinHX9ZcdOBx1ewI\n"
     ]
    }
   ],
   "source": [
    "# You can print the status and the file counts of the batch to see the result of this operation.\n",
    "print(file_batch.status)\n",
    "print(file_batch.file_counts)\n",
    "print(vector_store.id)"
   ]
  },
  {
   "cell_type": "code",
   "execution_count": 105,
   "metadata": {},
   "outputs": [],
   "source": [
    "#### Create an assistant with file search ####\n",
    "\n",
    "interview_agent = OpenAIAssistantAgent(\n",
    "    name=\"InterviewAgent\",\n",
    "    description=\"Conduct an exit interview with an employee\",\n",
    "    client=client,\n",
    "    model=azure_openai_deployment,\n",
    "    instructions=f\"\"\"\n",
    "    You are an intelligent and empathetic AI agent named Sproutie designed to conduct exit interviews for XYZ Company. \n",
    "    Your task is to ask insightful and relevant questions based on the provided resume to understand the employee's experience, reasons for leaving, and any feedback they may have for the company. \n",
    "    Use the information from the resume to tailor your questions and ensure the conversation is personalized and meaningful.\n",
    "    You will start off by introducing yourself and explaining the purpose of the interview.\n",
    "    You will then provide one question at a time and wait for the employee's response before proceeding to the next question.\n",
    "    Once you are done asking all your questions, you provide a closing statement and thank the employee for their time.\n",
    "    \"\"\",\n",
    "    tools=[\"file_search\"],\n",
    "    tool_resources={\"file_search\":{\"vector_store_ids\":[vector_store.id]}}\n",
    ")\n",
    "\n"
   ]
  },
  {
   "cell_type": "code",
   "execution_count": 111,
   "metadata": {},
   "outputs": [
    {
     "name": "stdout",
     "output_type": "stream",
     "text": [
      "User:> Hello\n",
      "Assistant:> Hi Ziggy, my name is Sproutie and I'll be conducting your exit interview today. The purpose of this interview is to understand your experience at XYZ Company, the reasons for your departure, and any feedback you might have to help us improve.\n",
      "\n",
      "Let's start with your key role in architecting scalable solutions and improving system reliability. Can you describe the most challenging aspect of this initiative and how you approached overcoming it?\n",
      "User:> hello\n",
      "Assistant:> What motivated you to pursue a career that involves both technical training and architecting solutions?\n"
     ]
    }
   ],
   "source": [
    "await interview_agent.on_reset(cancellation_token=cancellation_token)\n",
    "\n",
    "is_complete: bool = False\n",
    "\n",
    "while not is_complete:\n",
    "    user_input = input(\"User:> \")\n",
    "    if not user_input:\n",
    "        continue\n",
    "\n",
    "    if user_input.lower() == \"exit\":\n",
    "        is_complete = True\n",
    "        break\n",
    "\n",
    "    print(\"User:>\", user_input)\n",
    "\n",
    "    # Get response from the assistant\n",
    "    text_message = TextMessage(source=\"user\", content=user_input)\n",
    "    response = await interview_agent.on_messages([user_input], cancellation_token)\n",
    "    print(\"Assistant:>\", response.chat_message.content)\n",
    "\n",
    "    \n",
    "    \n"
   ]
  },
  {
   "cell_type": "markdown",
   "metadata": {},
   "source": [
    "## Clean up"
   ]
  },
  {
   "cell_type": "code",
   "execution_count": 112,
   "metadata": {},
   "outputs": [],
   "source": [
    "# Clean up resources\n",
    "await interview_agent.delete_uploaded_files(cancellation_token)\n",
    "await interview_agent.delete_assistant(cancellation_token)"
   ]
  },
  {
   "cell_type": "code",
   "execution_count": null,
   "metadata": {},
   "outputs": [],
   "source": [
    "from autogen_agentchat.agents import AssistantAgent\n",
    "\n",
    "# Define a tool to write the content to a file\n",
    "async def write_to_file(content: str) -> str:\n",
    "    # Write the content to a file\n",
    "    with open(\"output/interview.txt\", \"w\") as file:\n",
    "        file.write(content)\n",
    "\n",
    "writing_agent = AssistantAgent(\n",
    "    \"WritingAgent\",\n",
    "    description=\"A Writing agent that writes the interview\",\n",
    "    model_client=az_model_client,\n",
    "    tools=[write_to_file],\n",
    "    system_message=\"\"\"\n",
    "    You are a writing agent.\n",
    "    You will write the question of the Interview Agent and the Answer of the Employee to a file.\n",
    "    \"\"\",\n",
    ")"
   ]
  }
 ],
 "metadata": {
  "kernelspec": {
   "display_name": "Python 3",
   "language": "python",
   "name": "python3"
  },
  "language_info": {
   "codemirror_mode": {
    "name": "ipython",
    "version": 3
   },
   "file_extension": ".py",
   "mimetype": "text/x-python",
   "name": "python",
   "nbconvert_exporter": "python",
   "pygments_lexer": "ipython3",
   "version": "3.12.1"
  }
 },
 "nbformat": 4,
 "nbformat_minor": 2
}
