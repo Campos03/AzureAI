{
 "cells": [
  {
   "cell_type": "markdown",
   "metadata": {},
   "source": [
    "## Magentic-One\n",
    "https://microsoft.github.io/autogen/dev/user-guide/agentchat-user-guide/magentic-one.html"
   ]
  },
  {
   "cell_type": "markdown",
   "metadata": {},
   "source": [
    "## Load Azure Configuration"
   ]
  },
  {
   "cell_type": "code",
   "execution_count": 2,
   "metadata": {},
   "outputs": [],
   "source": [
    "from dotenv import load_dotenv\n",
    "import os\n",
    "\n",
    "azure_openai_endpoint = os.getenv(\"AZURE_OPENAI_ENDPOINT\")\n",
    "azure_openai_key = os.getenv(\"AZURE_OPENAI_API_KEY\")\n",
    "azure_openai_deployment = os.getenv(\"AZURE_OPENAI_CHAT_DEPLOYMENT_NAME\")\n",
    "azure_openai_api_version = os.getenv(\"AZURE_OPENAI_API_VERSION\")"
   ]
  },
  {
   "cell_type": "markdown",
   "metadata": {},
   "source": [
    "## Create Azure OpenAI Client"
   ]
  },
  {
   "cell_type": "code",
   "execution_count": 3,
   "metadata": {},
   "outputs": [],
   "source": [
    "from autogen_ext.models.openai import AzureOpenAIChatCompletionClient, OpenAIChatCompletionClient\n",
    "from azure.identity import DefaultAzureCredential, get_bearer_token_provider\n",
    "\n",
    "# Create the token provider\n",
    "#token_provider = get_bearer_token_provider(DefaultAzureCredential(), \"https://cognitiveservices.azure.com/.default\")\n",
    "\n",
    "az_model_client = AzureOpenAIChatCompletionClient(\n",
    "    azure_deployment=azure_openai_deployment,\n",
    "    model=azure_openai_deployment,\n",
    "    api_version=azure_openai_api_version,\n",
    "    azure_endpoint=azure_openai_endpoint,\n",
    "    # azure_ad_token_provider=token_provider,  # Optional if you choose key-based authentication.\n",
    "    api_key=azure_openai_key, # For key-based authentication.\n",
    ")\n"
   ]
  },
  {
   "cell_type": "code",
   "execution_count": null,
   "metadata": {},
   "outputs": [],
   "source": [
    "from autogen_agentchat.agents import AssistantAgent\n",
    "from autogen_agentchat.teams import MagenticOneGroupChat\n",
    "from autogen_agentchat.ui import Console\n",
    "\n",
    "\n",
    "assistant = AssistantAgent(\n",
    "    \"Assistant\",\n",
    "    model_client=az_model_client,\n",
    ")\n",
    "\n",
    "\n",
    "team = MagenticOneGroupChat([assistant], model_client=az_model_client)\n",
    "await Console(team.run_stream(task=\"Provide a different proof for Fermat's Last Theorem\"))\n"
   ]
  },
  {
   "cell_type": "code",
   "execution_count": null,
   "metadata": {},
   "outputs": [],
   "source": [
    "from autogen_agentchat.agents import AssistantAgent\n",
    "from autogen_agentchat.teams import MagenticOneGroupChat\n",
    "from autogen_agentchat.ui import Console\n",
    "from autogen_ext.agents.web_surfer import MultimodalWebSurfer\n",
    "\n",
    "surfer = MultimodalWebSurfer(\n",
    "        \"WebSurfer\",\n",
    "        model_client=az_model_client,\n",
    "    )\n",
    "\n",
    "team = MagenticOneGroupChat([surfer], model_client=az_model_client)\n",
    "response = await Console(team.run_stream(task=\"Is there a Lakers game on January 5, 2025?\"))"
   ]
  },
  {
   "cell_type": "code",
   "execution_count": null,
   "metadata": {},
   "outputs": [],
   "source": [
    "# ANSI escape code for bold text\n",
    "bold_start = \"\\033[1m\"\n",
    "bold_end = \"\\033[0m\"\n",
    "\n",
    "# ANSI escape code for red text\n",
    "red_start = \"\\033[31m\"\n",
    "red_end = \"\\033[0m\"\n",
    "\n",
    "for messages in response.messages:\n",
    "    source = messages.source\n",
    "    print(f\"{bold_start}{red_start}{source}{bold_end}{red_end}\")\n",
    "    print(messages.content)"
   ]
  },
  {
   "cell_type": "code",
   "execution_count": 11,
   "metadata": {},
   "outputs": [
    {
     "name": "stderr",
     "output_type": "stream",
     "text": [
      "/home/codespace/.python/current/lib/python3.12/site-packages/autogen_ext/models/openai/_openai_client.py:412: DeprecationWarning: capabilities is deprecated, use model_info instead\n",
      "  if self.capabilities[\"vision\"] is False:\n",
      "/home/codespace/.python/current/lib/python3.12/site-packages/autogen_ext/models/openai/_openai_client.py:427: DeprecationWarning: capabilities is deprecated, use model_info instead\n",
      "  if self.capabilities[\"json_output\"] is False and json_output is True:\n",
      "/home/codespace/.python/current/lib/python3.12/site-packages/autogen_ext/models/openai/_openai_client.py:433: DeprecationWarning: capabilities is deprecated, use model_info instead\n",
      "  if self.capabilities[\"function_calling\"] is False and len(tools) > 0:\n",
      "/home/codespace/.python/current/lib/python3.12/site-packages/autogen_ext/models/openai/_openai_client.py:419: DeprecationWarning: capabilities is deprecated, use model_info instead\n",
      "  if self.capabilities[\"json_output\"] is False and json_output is True:\n"
     ]
    },
    {
     "name": "stdout",
     "output_type": "stream",
     "text": [
      "---------- user ----------\n",
      "\n",
      "What are the top 10 years with the most sightings? \n",
      "Use the date column and get the year there.\n",
      "Create a column chart with the sightings in the Y-axis and years in the X-axis and save it to a PNG file and sort by descending order.\n",
      "Put the value on top of each bar\n",
      "\n",
      "---------- MagenticOneOrchestrator ----------\n",
      "\n",
      "We are working to address the following user request:\n",
      "\n",
      "\n",
      "What are the top 10 years with the most sightings? \n",
      "Use the date column and get the year there.\n",
      "Create a column chart with the sightings in the Y-axis and years in the X-axis and save it to a PNG file and sort by descending order.\n",
      "Put the value on top of each bar\n",
      "\n",
      "\n",
      "\n",
      "To answer this request we have assembled the following team:\n",
      "\n",
      "DataAssistant: Answer questions about data\n",
      "\n",
      "\n",
      "Here is an initial fact sheet to consider:\n",
      "\n",
      "1. GIVEN OR VERIFIED FACTS\n",
      "   - The request is about identifying the top 10 years with the most sightings.\n",
      "   - There is mention of a \"date column,\" which implies that there is a dataset with a column labeled as such.\n",
      "   - The task involves creating a column chart with sightings on the Y-axis and years on the X-axis, sorted in descending order of sightings.\n",
      "   - The output should be saved as a PNG file, and the value of each year’s sightings should be displayed on top of each bar.\n",
      "\n",
      "2. FACTS TO LOOK UP\n",
      "   - None specifically mentioned in the request. Any additional information needed would depend on the actual dataset which should contain dates or sightings data.\n",
      "\n",
      "3. FACTS TO DERIVE\n",
      "   - From the dataset, the years need to be extracted from the date column.\n",
      "   - The number of sightings per year needs to be calculated, followed by identifying the top 10 years with the highest number of sightings.\n",
      "   - The values for the column chart, where each bar represents a year and its corresponding number of sightings, need to be derived.\n",
      "\n",
      "4. EDUCATED GUESSES\n",
      "   - The request seems to imply that the necessary data is already available in a structured format (e.g., a spreadsheet or database).\n",
      "   - The term “sightings” likely refers to a specific phenomenon or event being tracked, but this detail is not explicitly provided.\n",
      "\n",
      "\n",
      "Here is the plan to follow as best as possible:\n",
      "\n",
      "- **Extract Date Information**: Use the dataset provided to extract the \"date\" column. This will be the initial step to access the years for analysis.\n",
      "\n",
      "- **Derive Sightings by Year**: Transform the \"date\" column to extract the year for each entry. Count the number of sightings for each year.\n",
      "\n",
      "- **Identify Top 10 Years**: Once the yearly sightings are counted, sort these in descending order and identify the top 10 years with the most sightings.\n",
      "\n",
      "- **Create Visualization**: Use a plotting library to create a column chart with the identified top 10 years. The X-axis will represent the years and the Y-axis will represent the number of sightings. Ensure the chart is sorted by descending order of sightings.\n",
      "\n",
      "- **Annotate Chart**: Add the value of sightings on top of each bar in the chart for clarity.\n",
      "\n",
      "- **Save Chart as PNG**: Export and save the generated column chart as a PNG file to meet the request requirements. \n",
      "\n",
      "The plan focuses on leveraging data analysis and visualization skills, which aligns well with the expertise of a data assistant.\n",
      "\n",
      "---------- MagenticOneOrchestrator ----------\n",
      "Please process the dataset to extract the year from the date column, count the number of sightings per year, identify the top 10 years, create a column chart sorted in descending order, annotate with values, and save it as a PNG file.\n",
      "---------- DataAssistant ----------\n",
      "The column chart depicting the top 10 years with the most sightings has been created and saved as a PNG file. You can download it using the link below:\n",
      "\n",
      "[Download the chart](sandbox:/mnt/data/top_10_years_sightings.png)\n",
      "---------- MagenticOneOrchestrator ----------\n",
      "I have completed the task of identifying the top 10 years with the most sightings. I extracted the years from the date column, counted the sightings per year, and then created a column chart. The chart is sorted in descending order based on the number of sightings, with the values displayed on top of each bar. The chart has been saved as a PNG file and you can download it using the following link:\n",
      "\n",
      "[Download the chart](sandbox:/mnt/data/top_10_years_sightings.png)\n",
      "---------- Summary ----------\n",
      "Number of messages: 5\n",
      "Finish reason: The request has been fully satisfied as the column chart was successfully created, annotated, and saved as a PNG file.\n",
      "Total prompt tokens: 0\n",
      "Total completion tokens: 0\n",
      "Duration: 33.79 seconds\n"
     ]
    }
   ],
   "source": [
    "from autogen_core import CancellationToken\n",
    "from autogen_ext.agents.openai import OpenAIAssistantAgent\n",
    "from autogen_agentchat.messages import TextMessage\n",
    "from openai import AsyncAzureOpenAI\n",
    "\n",
    "cancellation_token = CancellationToken()\n",
    "\n",
    "# Create AzureOpenAI client\n",
    "client = AsyncAzureOpenAI(azure_endpoint=azure_openai_endpoint, \n",
    "                          api_version=azure_openai_api_version, \n",
    "                          api_key=azure_openai_key)\n",
    "\n",
    "#### Create a file for code interpreter ####\n",
    "file=open(\"../Data/assistant/bigfootsightings.csv\", \"rb\")\n",
    "code_interpreter_file = await client.files.create(\n",
    "  file=file,\n",
    "  purpose='assistants'\n",
    ")\n",
    "file.close()\n",
    "\n",
    "#### Create an assistant with code interpreter and file search ####\n",
    "assistant = OpenAIAssistantAgent(\n",
    "    name=\"DataAssistant\",\n",
    "    description=\"Answer questions about data\",\n",
    "    client=client,\n",
    "    model=azure_openai_deployment,\n",
    "    instructions=\"You will use Python to answer questions about a dataset\",\n",
    "    tools=[\"code_interpreter\"],\n",
    "    tool_resources={\"code_interpreter\":{\"file_ids\":[code_interpreter_file.id]}}\n",
    ")\n",
    "\n",
    "team = MagenticOneGroupChat([assistant], model_client=az_model_client)\n",
    "task = \"\"\"\n",
    "What are the top 10 years with the most sightings? \n",
    "Use the date column and get the year there.\n",
    "Create a column chart with the sightings in the Y-axis and years in the X-axis and save it to a PNG file and sort by descending order.\n",
    "Put the value on top of each bar\n",
    "\"\"\"\n",
    "response = await Console(team.run_stream(task=task))"
   ]
  },
  {
   "cell_type": "code",
   "execution_count": 10,
   "metadata": {},
   "outputs": [],
   "source": [
    "# Clean up resources\n",
    "await assistant.delete_uploaded_files(cancellation_token)\n",
    "await assistant.delete_assistant(cancellation_token)"
   ]
  }
 ],
 "metadata": {
  "kernelspec": {
   "display_name": "Python 3",
   "language": "python",
   "name": "python3"
  },
  "language_info": {
   "codemirror_mode": {
    "name": "ipython",
    "version": 3
   },
   "file_extension": ".py",
   "mimetype": "text/x-python",
   "name": "python",
   "nbconvert_exporter": "python",
   "pygments_lexer": "ipython3",
   "version": "3.12.1"
  }
 },
 "nbformat": 4,
 "nbformat_minor": 2
}
