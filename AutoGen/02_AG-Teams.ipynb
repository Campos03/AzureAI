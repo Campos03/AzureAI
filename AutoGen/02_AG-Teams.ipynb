{
 "cells": [
  {
   "cell_type": "markdown",
   "metadata": {},
   "source": [
    "# AutoGen Team\n",
    "A team is a group of agents that work together to achieve a common goal.\n"
   ]
  },
  {
   "cell_type": "markdown",
   "metadata": {},
   "source": [
    "## Load Azure Configurations"
   ]
  },
  {
   "cell_type": "code",
   "execution_count": 21,
   "metadata": {},
   "outputs": [],
   "source": [
    "from dotenv import load_dotenv\n",
    "import os\n",
    "\n",
    "azure_openai_endpoint = os.getenv(\"AZURE_OPENAI_ENDPOINT\")\n",
    "azure_openai_key = os.getenv(\"AZURE_OPENAI_API_KEY\")\n",
    "azure_openai_deployment = os.getenv(\"AZURE_OPENAI_CHAT_DEPLOYMENT_NAME\")\n",
    "azure_openai_api_version = os.getenv(\"AZURE_OPENAI_API_VERSION\")"
   ]
  },
  {
   "cell_type": "markdown",
   "metadata": {},
   "source": [
    "## Create Azure OpenAI Client\n",
    "Using the model client class"
   ]
  },
  {
   "cell_type": "code",
   "execution_count": 2,
   "metadata": {},
   "outputs": [],
   "source": [
    "from autogen_ext.models.openai import AzureOpenAIChatCompletionClient\n",
    "from azure.identity import DefaultAzureCredential, get_bearer_token_provider\n",
    "\n",
    "# Create the token provider\n",
    "#token_provider = get_bearer_token_provider(DefaultAzureCredential(), \"https://cognitiveservices.azure.com/.default\")\n",
    "\n",
    "az_model_client = AzureOpenAIChatCompletionClient(\n",
    "    azure_deployment=azure_openai_deployment,\n",
    "    model=azure_openai_deployment,\n",
    "    api_version=azure_openai_api_version,\n",
    "    azure_endpoint=azure_openai_endpoint,\n",
    "    # azure_ad_token_provider=token_provider,  # Optional if you choose key-based authentication.\n",
    "    api_key=azure_openai_key, # For key-based authentication.\n",
    ")"
   ]
  },
  {
   "cell_type": "markdown",
   "metadata": {},
   "source": [
    "## Creating a Team\n",
    "\n",
    "RoundRobinGroupChat is a team configuration where all agents share the same context and take turns responding in a round-robin fashion. Each agent, during its turn, broadcasts its response to all other agents, ensuring that the entire team maintains a consistent context.\n",
    "\n",
    "We create a team with two AssistantAgent and a TextMentionTermination condition that stops the team when a specific word is detected in the agent’s response."
   ]
  },
  {
   "cell_type": "code",
   "execution_count": 3,
   "metadata": {},
   "outputs": [],
   "source": [
    "import asyncio\n",
    "\n",
    "from autogen_agentchat.agents import AssistantAgent\n",
    "from autogen_agentchat.base import TaskResult\n",
    "from autogen_agentchat.conditions import ExternalTermination, TextMentionTermination\n",
    "from autogen_agentchat.teams import RoundRobinGroupChat\n",
    "from autogen_agentchat.ui import Console\n",
    "from autogen_core import CancellationToken\n",
    "from autogen_ext.models.openai import OpenAIChatCompletionClient\n",
    "\n",
    "\n",
    "# Create the primary agent.\n",
    "primary_agent = AssistantAgent(\n",
    "    \"primary\",\n",
    "    model_client=az_model_client,\n",
    "    system_message=\"You are a helpful AI assistant.\",\n",
    ")\n",
    "\n",
    "# Create the critic agent.\n",
    "critic_agent = AssistantAgent(\n",
    "    \"critic\",\n",
    "    model_client=az_model_client,\n",
    "    system_message=\"Provide constructive feedback. Respond with 'APPROVE' to when your feedbacks are addressed.\",\n",
    ")\n",
    "\n",
    "# Define a termination condition that stops the task if the critic approves.\n",
    "text_termination = TextMentionTermination(\"APPROVE\")\n",
    "\n",
    "# Create a team with the primary and critic agents.\n",
    "team = RoundRobinGroupChat([primary_agent, critic_agent], termination_condition=text_termination)"
   ]
  },
  {
   "cell_type": "markdown",
   "metadata": {},
   "source": [
    "## Running a Team\n",
    "Call the run() method to start the team with a task.\n",
    "\n",
    "The termination condition was met when the word “APPROVE” is detected in the agent’s response. When the team stops, it returns a TaskResult object with all the messages produced by the agents in the team."
   ]
  },
  {
   "cell_type": "code",
   "execution_count": null,
   "metadata": {},
   "outputs": [],
   "source": [
    "# When running inside a script, use a async main function and call it from `asyncio.run(...)`.\n",
    "result = await team.run(task=\"Write a short poem about the fall season.\")\n",
    "print(result)"
   ]
  },
  {
   "cell_type": "markdown",
   "metadata": {},
   "source": [
    "## Observing a Team\n",
    "Similar to the agent’s on_messages_stream() method, you can stream the team’s messages while it is running by calling the run_stream() method. This method returns a generator that yields messages produced by the agents in the team as they are generated, with the final item being the TaskResult object."
   ]
  },
  {
   "cell_type": "code",
   "execution_count": 18,
   "metadata": {},
   "outputs": [
    {
     "name": "stdout",
     "output_type": "stream",
     "text": [
      "source='user' models_usage=None content='Write a short poem about the fall season.' type='TextMessage'\n",
      "source='primary' models_usage=RequestUsage(prompt_tokens=28, completion_tokens=102) content='Leaves descend in golden showers,  \\nWhispering tales of autumn hours.  \\nCrisp air dances through the trees,  \\nCarving paths for wandering breeze.  \\n\\nPumpkins rest on fields once green,  \\nHints of spice in every scene.  \\nSweaters wrap us in their care,  \\nAs autumn whispers fill the air.  \\n\\nThe world slows down, a gentle pause,  \\nNature’s grace commands applause.  \\nIn this fleeting, vibrant scope,  \\nFall enchants with warmth and hope.  ' type='TextMessage'\n",
      "source='critic' models_usage=RequestUsage(prompt_tokens=148, completion_tokens=202) content='The poem beautifully captures the essence of the fall season with vivid imagery and a soothing rhythm. The imagery of \"leaves descend in golden showers\" and \"pumpkins rest on fields once green\" effectively paints a picture of the season\\'s changing landscape.\\n\\nA couple of suggestions to enhance the poem:\\n\\n1. Introduce specific sensory details: Adding more sensory elements can deepen the reader\\'s connection to the poem. For example, describing the \"crunch\" of leaves underfoot or the \"spiced warmth\" of a seasonal beverage can evoke a stronger sense of being immersed in the fall experience.\\n\\n2. Emphasize the transition aspect: Fall is often seen as a time of transition. Incorporating imagery or metaphors that reflect this shift from the vibrant bounties of summer to the quiet dormancy of winter can add an extra layer of depth to the poem.\\n\\nOverall, you\\'ve done a wonderful job evoking the cozy and enchanting atmosphere of fall. Just a few tweaks could make it even more evocative.' type='TextMessage'\n",
      "source='primary' models_usage=RequestUsage(prompt_tokens=344, completion_tokens=150) content=\"Thank you for the thoughtful feedback. Here’s a revised version of the poem with your suggestions in mind:\\n\\nLeaves descend in golden showers,  \\nWhispering tales of autumn hours.  \\nCrisp air weaves through branches bare,  \\nGifting woodlands a gentle flair.  \\n\\nThe crunch of leaves beneath our feet,  \\nPumpkins dot fields with harvest's treat.  \\nCinnamon drifts in the cool, sharp air,  \\nA spiced warmth that blankets everywhere.  \\n\\nFall is a passage, a time to transform,  \\nFrom summer's glow to winter's calm.  \\nIn these fleeting, vibrant days,  \\nHope and warmth in autumn's gaze.  \\n\\nI hope this version captures the sensory depth and transitional element you're looking for!\" type='TextMessage'\n",
      "source='critic' models_usage=RequestUsage(prompt_tokens=512, completion_tokens=136) content='The revised poem wonderfully incorporates the sensory details and transitional elements, enriching the overall imagery and emotional depth. The inclusion of \"the crunch of leaves beneath our feet\" and \"cinnamon drifts in the cool, sharp air\" adds a tactile and olfactory dimension, immersing the reader more fully into the fall experience. \\n\\nMoreover, the depiction of fall as \"a passage, a time to transform\" eloquently encompasses the season’s transitional nature, connecting the dots between summer\\'s end and winter\\'s onset. These additions certainly elevate the poem’s impact.\\n\\nExcellent revision—this version truly encapsulates the essence and the atmosphere of the fall season. Well done! \\n\\nAPPROVE' type='TextMessage'\n",
      "Stop Reason: Text 'APPROVE' mentioned\n"
     ]
    }
   ],
   "source": [
    "# When running inside a script, use a async main function and call it from `asyncio.run(...)`.\n",
    "await team.reset()  # Reset the team for a new task.\n",
    "async for message in team.run_stream(task=\"Write a short poem about the fall season.\"):\n",
    "    if isinstance(message, TaskResult):\n",
    "        print(\"Stop Reason:\", message.stop_reason)\n",
    "    else:\n",
    "        print(message)"
   ]
  },
  {
   "cell_type": "markdown",
   "metadata": {},
   "source": [
    "## Console()\n",
    "The Console() method provides a convenient way to print messages to the console with proper formatting."
   ]
  },
  {
   "cell_type": "code",
   "execution_count": 19,
   "metadata": {},
   "outputs": [
    {
     "name": "stdout",
     "output_type": "stream",
     "text": [
      "---------- user ----------\n",
      "Write a short poem about the fall season.\n",
      "---------- primary ----------\n",
      "Leaves cascade in crimson and gold,  \n",
      "Whispers of autumn's stories unfold.  \n",
      "A cool breeze carries the scent of earth,  \n",
      "As nature celebrates its yearly rebirth.  \n",
      "\n",
      "Pumpkins dot fields, round and bright,  \n",
      "While days offer a softer light.  \n",
      "Sweaters emerge from cedar-filled drawers,  \n",
      "As apples are gathered for cider, and s'mores.  \n",
      "\n",
      "The world prepares for a slower pace,  \n",
      "In the gentle glow of autumn's embrace.  \n",
      "Silent as a deep, serene breath,  \n",
      "Fall is life in quiet rest.\n",
      "[Prompt tokens: 28, Completion tokens: 111]\n",
      "---------- critic ----------\n",
      "This is a beautifully crafted poem that captures the essence of the fall season wonderfully. The imagery of \"leaves cascade in crimson and gold\" paints a vivid picture of autumn's colorful landscape. The use of sensory elements, such as the \"cool breeze\" and the \"scent of earth,\" helps to create a strong connection with the reader's senses, allowing them to feel and experience the season.\n",
      "\n",
      "The poem transitions smoothly from the visual beauty of fall to the activities associated with the season, such as gathering apples and enjoying s'mores, which adds a cozy and nostalgic touch. Phrases like \"sweaters emerge from cedar-filled drawers\" evoke a sense of warmth and comfort, further enhancing the poem's inviting tone.\n",
      "\n",
      "Additionally, the thematic progression from nature’s vibrant display to a “slower pace” and “silent as a deep, serene breath” captures the dual nature of fall – its lively burst of colors and its promise of rest before winter. The final line, “Fall is life in quiet rest,” effectively summarizes this balance and leaves the reader with a sense of peace and contentment.\n",
      "\n",
      "Overall, your poem is evocative, well-structured, and very much in tune with the sentiments many people associate with the fall season. Nice work! If you'd like to explore more aspects of autumn or try different stylistic elements in your poetry, that could also be an interesting direction.\n",
      "[Prompt tokens: 157, Completion tokens: 279]\n",
      "---------- primary ----------\n",
      "Thank you for your kind and thoughtful feedback. I'm glad the poem resonated with you and captured the essence of fall in a way that feels both vivid and comforting. If there's a specific aspect of autumn you'd like to explore further or if you're interested in a different poetic style, feel free to let me know! I'm here to help with any additional creative pursuits.\n",
      "[Prompt tokens: 430, Completion tokens: 72]\n",
      "---------- critic ----------\n",
      "APPROVE\n",
      "[Prompt tokens: 520, Completion tokens: 3]\n",
      "---------- Summary ----------\n",
      "Number of messages: 5\n",
      "Finish reason: Text 'APPROVE' mentioned\n",
      "Total prompt tokens: 1135\n",
      "Total completion tokens: 465\n",
      "Duration: 6.06 seconds\n"
     ]
    },
    {
     "data": {
      "text/plain": [
       "TaskResult(messages=[TextMessage(source='user', models_usage=None, content='Write a short poem about the fall season.', type='TextMessage'), TextMessage(source='primary', models_usage=RequestUsage(prompt_tokens=28, completion_tokens=111), content=\"Leaves cascade in crimson and gold,  \\nWhispers of autumn's stories unfold.  \\nA cool breeze carries the scent of earth,  \\nAs nature celebrates its yearly rebirth.  \\n\\nPumpkins dot fields, round and bright,  \\nWhile days offer a softer light.  \\nSweaters emerge from cedar-filled drawers,  \\nAs apples are gathered for cider, and s'mores.  \\n\\nThe world prepares for a slower pace,  \\nIn the gentle glow of autumn's embrace.  \\nSilent as a deep, serene breath,  \\nFall is life in quiet rest.\", type='TextMessage'), TextMessage(source='critic', models_usage=RequestUsage(prompt_tokens=157, completion_tokens=279), content='This is a beautifully crafted poem that captures the essence of the fall season wonderfully. The imagery of \"leaves cascade in crimson and gold\" paints a vivid picture of autumn\\'s colorful landscape. The use of sensory elements, such as the \"cool breeze\" and the \"scent of earth,\" helps to create a strong connection with the reader\\'s senses, allowing them to feel and experience the season.\\n\\nThe poem transitions smoothly from the visual beauty of fall to the activities associated with the season, such as gathering apples and enjoying s\\'mores, which adds a cozy and nostalgic touch. Phrases like \"sweaters emerge from cedar-filled drawers\" evoke a sense of warmth and comfort, further enhancing the poem\\'s inviting tone.\\n\\nAdditionally, the thematic progression from nature’s vibrant display to a “slower pace” and “silent as a deep, serene breath” captures the dual nature of fall – its lively burst of colors and its promise of rest before winter. The final line, “Fall is life in quiet rest,” effectively summarizes this balance and leaves the reader with a sense of peace and contentment.\\n\\nOverall, your poem is evocative, well-structured, and very much in tune with the sentiments many people associate with the fall season. Nice work! If you\\'d like to explore more aspects of autumn or try different stylistic elements in your poetry, that could also be an interesting direction.', type='TextMessage'), TextMessage(source='primary', models_usage=RequestUsage(prompt_tokens=430, completion_tokens=72), content=\"Thank you for your kind and thoughtful feedback. I'm glad the poem resonated with you and captured the essence of fall in a way that feels both vivid and comforting. If there's a specific aspect of autumn you'd like to explore further or if you're interested in a different poetic style, feel free to let me know! I'm here to help with any additional creative pursuits.\", type='TextMessage'), TextMessage(source='critic', models_usage=RequestUsage(prompt_tokens=520, completion_tokens=3), content='APPROVE', type='TextMessage')], stop_reason=\"Text 'APPROVE' mentioned\")"
      ]
     },
     "execution_count": 19,
     "metadata": {},
     "output_type": "execute_result"
    }
   ],
   "source": [
    "await team.reset()  # Reset the team for a new task.\n",
    "await Console(team.run_stream(task=\"Write a short poem about the fall season.\"))  # Stream the messages to the console."
   ]
  },
  {
   "cell_type": "markdown",
   "metadata": {},
   "source": [
    "## Team has a State"
   ]
  },
  {
   "cell_type": "code",
   "execution_count": 20,
   "metadata": {},
   "outputs": [
    {
     "name": "stdout",
     "output_type": "stream",
     "text": [
      "---------- user ----------\n",
      "What was the last message?\n",
      "---------- primary ----------\n",
      "The last message I provided was a response to your feedback on the poem. I expressed gratitude for your thoughtful critique and offered to help further if you're interested in exploring additional aspects of autumn or trying out different poetic styles. Let me know if there's anything else you'd like to explore or if you have any other requests!\n",
      "[Prompt tokens: 528, Completion tokens: 62]\n",
      "---------- critic ----------\n",
      "I apologize for any confusion. My previous message was simply approving your response, acknowledging that you addressed the feedback constructively. If there's anything more specific you'd like to discuss regarding your poem or any other creative endeavors, please feel free to share!\n",
      "[Prompt tokens: 608, Completion tokens: 48]\n",
      "---------- primary ----------\n",
      "No worries at all! I'm glad the response was helpful. If you have any further thoughts, questions, or areas you'd like to delve into—whether about poetry, creative writing, or anything else—please don't hesitate to reach out. I'm here to assist with anything you need!\n",
      "[Prompt tokens: 650, Completion tokens: 56]\n",
      "---------- critic ----------\n",
      "APPROVE\n",
      "[Prompt tokens: 724, Completion tokens: 3]\n",
      "---------- Summary ----------\n",
      "Number of messages: 5\n",
      "Finish reason: Text 'APPROVE' mentioned\n",
      "Total prompt tokens: 2510\n",
      "Total completion tokens: 169\n",
      "Duration: 3.83 seconds\n"
     ]
    },
    {
     "data": {
      "text/plain": [
       "TaskResult(messages=[TextMessage(source='user', models_usage=None, content='What was the last message?', type='TextMessage'), TextMessage(source='primary', models_usage=RequestUsage(prompt_tokens=528, completion_tokens=62), content=\"The last message I provided was a response to your feedback on the poem. I expressed gratitude for your thoughtful critique and offered to help further if you're interested in exploring additional aspects of autumn or trying out different poetic styles. Let me know if there's anything else you'd like to explore or if you have any other requests!\", type='TextMessage'), TextMessage(source='critic', models_usage=RequestUsage(prompt_tokens=608, completion_tokens=48), content=\"I apologize for any confusion. My previous message was simply approving your response, acknowledging that you addressed the feedback constructively. If there's anything more specific you'd like to discuss regarding your poem or any other creative endeavors, please feel free to share!\", type='TextMessage'), TextMessage(source='primary', models_usage=RequestUsage(prompt_tokens=650, completion_tokens=56), content=\"No worries at all! I'm glad the response was helpful. If you have any further thoughts, questions, or areas you'd like to delve into—whether about poetry, creative writing, or anything else—please don't hesitate to reach out. I'm here to assist with anything you need!\", type='TextMessage'), TextMessage(source='critic', models_usage=RequestUsage(prompt_tokens=724, completion_tokens=3), content='APPROVE', type='TextMessage')], stop_reason=\"Text 'APPROVE' mentioned\")"
      ]
     },
     "execution_count": 20,
     "metadata": {},
     "output_type": "execute_result"
    }
   ],
   "source": [
    "await Console(team.run_stream(task=\"What was the last message?\"))  # Stream the messages to the console."
   ]
  },
  {
   "cell_type": "markdown",
   "metadata": {},
   "source": [
    "## Resetting a Team\n",
    "You can reset the team by calling the reset() method. This method will clear the team’s state, including all agents. It will call the each agent’s on_reset() met"
   ]
  },
  {
   "cell_type": "code",
   "execution_count": 12,
   "metadata": {},
   "outputs": [],
   "source": [
    "await team.reset()  # Reset the team for the next run."
   ]
  },
  {
   "cell_type": "markdown",
   "metadata": {},
   "source": [
    "## Stopping a Team\n",
    "You can also stop the team from outside by using the ExternalTermination.\n",
    "\n",
    "Calling set() on ExternalTermination will stop the team when the current agent’s turn is over. \n",
    "Thus, the team may not stop immediately. This allows the current agent to finish its turn and broadcast the final message to the team before the team stops, keeping the team’s state consistent."
   ]
  },
  {
   "cell_type": "code",
   "execution_count": null,
   "metadata": {},
   "outputs": [],
   "source": [
    "# Create a new team with an external termination condition.\n",
    "external_termination = ExternalTermination()\n",
    "team = RoundRobinGroupChat(\n",
    "    [primary_agent, critic_agent],\n",
    "    termination_condition=external_termination | text_termination,  # Use the bitwise OR operator to combine conditions.\n",
    ")\n",
    "\n",
    "# Run the team in a background task.\n",
    "run = asyncio.create_task(Console(team.run_stream(task=\"Write a short poem about the fall season.\")))\n",
    "\n",
    "# Wait for some time.\n",
    "await asyncio.sleep(0.1)\n",
    "\n",
    "# Stop the team.\n",
    "external_termination.set()\n",
    "\n",
    "# Wait for the team to finish.\n",
    "await run # Primary agent is still allowed to complete its task."
   ]
  },
  {
   "cell_type": "markdown",
   "metadata": {},
   "source": [
    "## Resuming a Team\n",
    "Teams are stateful and maintains the conversation history and context after each run, unless you reset the team.\n",
    "\n",
    "You can resume a team to continue from where it left off by calling the run() or run_stream() method again without a new task. RoundRobinGroupChat will continue from the next agent in the round-robin order.\n",
    "\n",
    "In this example, critic agent continued where primary agent left off"
   ]
  },
  {
   "cell_type": "code",
   "execution_count": null,
   "metadata": {},
   "outputs": [],
   "source": [
    "await Console(team.run_stream())  # Resume the team to continue the last task."
   ]
  },
  {
   "cell_type": "markdown",
   "metadata": {},
   "source": [
    "## Aborting a Team\n",
    "You can abort a call to run() or run_stream() during execution by setting a CancellationToken passed to the cancellation_token parameter.\n",
    "\n",
    "Different from stopping a team, aborting a team will immediately stop the team and raise a CancelledError exception."
   ]
  },
  {
   "cell_type": "code",
   "execution_count": 17,
   "metadata": {},
   "outputs": [
    {
     "name": "stdout",
     "output_type": "stream",
     "text": [
      "Task was cancelled.\n"
     ]
    }
   ],
   "source": [
    "# Create a cancellation token.\n",
    "cancellation_token = CancellationToken()\n",
    "\n",
    "# Use another coroutine to run the team.\n",
    "run = asyncio.create_task(\n",
    "    team.run(\n",
    "        task=\"Translate the poem to Spanish.\",\n",
    "        cancellation_token=cancellation_token,\n",
    "    )\n",
    ")\n",
    "\n",
    "# Cancel the run.\n",
    "cancellation_token.cancel()\n",
    "\n",
    "try:\n",
    "    result = await run  # This will raise a CancelledError.\n",
    "except asyncio.CancelledError:\n",
    "    print(\"Task was cancelled.\")"
   ]
  }
 ],
 "metadata": {
  "kernelspec": {
   "display_name": "Python 3",
   "language": "python",
   "name": "python3"
  },
  "language_info": {
   "codemirror_mode": {
    "name": "ipython",
    "version": 3
   },
   "file_extension": ".py",
   "mimetype": "text/x-python",
   "name": "python",
   "nbconvert_exporter": "python",
   "pygments_lexer": "ipython3",
   "version": "3.12.1"
  }
 },
 "nbformat": 4,
 "nbformat_minor": 2
}
