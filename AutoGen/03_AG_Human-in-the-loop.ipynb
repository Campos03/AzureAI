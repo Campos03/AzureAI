{
 "cells": [
  {
   "cell_type": "markdown",
   "metadata": {},
   "source": [
    "## Human-in-the-Loop\n",
    "There are two main ways to interact with the team from your application:\n",
    "\n",
    "1. During a team’s run – execution of run() or run_stream(), provide feedback through a UserProxyAgent.\n",
    "\n",
    "2. Once the run terminates, provide feedback through input to the next call to run() or run_stream()."
   ]
  },
  {
   "cell_type": "markdown",
   "metadata": {},
   "source": [
    "## Load Azure Configurations"
   ]
  },
  {
   "cell_type": "code",
   "execution_count": 1,
   "metadata": {},
   "outputs": [],
   "source": [
    "from dotenv import load_dotenv\n",
    "import os\n",
    "\n",
    "azure_openai_endpoint = os.getenv(\"AZURE_OPENAI_ENDPOINT\")\n",
    "azure_openai_key = os.getenv(\"AZURE_OPENAI_API_KEY\")\n",
    "azure_openai_deployment = os.getenv(\"AZURE_OPENAI_CHAT_DEPLOYMENT_NAME\")\n",
    "azure_openai_api_version = os.getenv(\"AZURE_OPENAI_API_VERSION\")"
   ]
  },
  {
   "cell_type": "markdown",
   "metadata": {},
   "source": [
    "## Create Azure OpenAI Client\n",
    "Using the model client class"
   ]
  },
  {
   "cell_type": "code",
   "execution_count": 2,
   "metadata": {},
   "outputs": [],
   "source": [
    "from autogen_ext.models.openai import AzureOpenAIChatCompletionClient\n",
    "from azure.identity import DefaultAzureCredential, get_bearer_token_provider\n",
    "\n",
    "# Create the token provider\n",
    "#token_provider = get_bearer_token_provider(DefaultAzureCredential(), \"https://cognitiveservices.azure.com/.default\")\n",
    "\n",
    "az_model_client = AzureOpenAIChatCompletionClient(\n",
    "    azure_deployment=azure_openai_deployment,\n",
    "    model=azure_openai_deployment,\n",
    "    api_version=azure_openai_api_version,\n",
    "    azure_endpoint=azure_openai_endpoint,\n",
    "    # azure_ad_token_provider=token_provider,  # Optional if you choose key-based authentication.\n",
    "    api_key=azure_openai_key, # For key-based authentication.\n",
    ")"
   ]
  },
  {
   "cell_type": "markdown",
   "metadata": {},
   "source": [
    "## UserProxyAgent - Providing Feedback During a Run\n",
    "The UserProxyAgent is a special built-in agent that acts as a proxy for a user to provide feedback to the team.\n",
    "\n",
    "To use the UserProxyAgent, you can create an instance of it and include it in the team before running the team. The team will decide when to call the UserProxyAgent to ask for feedback from the user.\n",
    "\n",
    "When UserProxyAgent is called during a run, it blocks the execution of the team until the user provides feedback or errors out. This will hold up the team’s progress and put the team in an unstable state that cannot be saved or resumed.\n",
    "\n",
    "Due to the blocking nature of this approach, it is recommended to use it only for short interactions that require immediate feedback from the user, such as asking for approval or disapproval with a button click, or an alert requiring immediate attention otherwise failing the task."
   ]
  },
  {
   "cell_type": "code",
   "execution_count": 14,
   "metadata": {},
   "outputs": [
    {
     "name": "stdout",
     "output_type": "stream",
     "text": [
      "---------- user ----------\n",
      "Write a short poem about the fall season.\n",
      "---------- primary ----------\n",
      "In autumn's gentle, golden glow,  \n",
      "Leaves dance softly to the earth below.  \n",
      "Whispers of wind in crisp, cool air,  \n",
      "Carry the scent of harvest fair.  \n",
      "\n",
      "Scarlet and amber paint the trees,  \n",
      "A tapestry swaying in the breeze.  \n",
      "The sun dips low, a fleeting guest,  \n",
      "Guiding nature to her rest.  \n",
      "\n",
      "Pumpkins sit with smiling grace,  \n",
      "Warmth and comfort we embrace.  \n",
      "As fall wraps us in its tender hue,  \n",
      "We bid the summer's heat adieu.  \n",
      "[Prompt tokens: 28, Completion tokens: 109]\n",
      "---------- critic ----------\n",
      "Your poem offers a beautifully evocative portrayal of the fall season, capturing its serene and nostalgic essence. The imagery you use, such as \"golden glow,\" \"leaves dance,\" and \"scarlet and amber,\" paints a vivid picture that readers can easily envision. The choice of words like \"whispers,\" \"gentle,\" and \"tender\" adds to the soothing atmosphere, effectively conveying the calm and reflective nature of autumn.\n",
      "\n",
      "The structure is consistent, with rhyming couplets that enhance the lyrical quality of the poem. Each stanza flows smoothly into the next, providing a sense of continuity and progression through the season. The final stanza encapsulates the warmth and coziness associated with fall, making it a perfect conclusion to your piece.\n",
      "\n",
      "If you're looking to expand on this poem, you might consider exploring other sensory elements of fall, such as the taste of seasonal foods or the sound of leaves crunching underfoot. Additionally, incorporating a personal reflection or memory associated with the season could add a more intimate touch. Overall, it is a lovely and evocative poem that captures the essence of autumn beautifully.\n",
      "[Prompt tokens: 140, Completion tokens: 223]\n",
      "---------- user_proxy ----------\n",
      "APPROVE\n",
      "---------- Summary ----------\n",
      "Number of messages: 4\n",
      "Finish reason: Text 'APPROVE' mentioned\n",
      "Total prompt tokens: 168\n",
      "Total completion tokens: 332\n",
      "Duration: 7.00 seconds\n"
     ]
    },
    {
     "data": {
      "text/plain": [
       "TaskResult(messages=[TextMessage(source='user', models_usage=None, content='Write a short poem about the fall season.', type='TextMessage'), TextMessage(source='primary', models_usage=RequestUsage(prompt_tokens=28, completion_tokens=109), content=\"In autumn's gentle, golden glow,  \\nLeaves dance softly to the earth below.  \\nWhispers of wind in crisp, cool air,  \\nCarry the scent of harvest fair.  \\n\\nScarlet and amber paint the trees,  \\nA tapestry swaying in the breeze.  \\nThe sun dips low, a fleeting guest,  \\nGuiding nature to her rest.  \\n\\nPumpkins sit with smiling grace,  \\nWarmth and comfort we embrace.  \\nAs fall wraps us in its tender hue,  \\nWe bid the summer's heat adieu.  \", type='TextMessage'), TextMessage(source='critic', models_usage=RequestUsage(prompt_tokens=140, completion_tokens=223), content='Your poem offers a beautifully evocative portrayal of the fall season, capturing its serene and nostalgic essence. The imagery you use, such as \"golden glow,\" \"leaves dance,\" and \"scarlet and amber,\" paints a vivid picture that readers can easily envision. The choice of words like \"whispers,\" \"gentle,\" and \"tender\" adds to the soothing atmosphere, effectively conveying the calm and reflective nature of autumn.\\n\\nThe structure is consistent, with rhyming couplets that enhance the lyrical quality of the poem. Each stanza flows smoothly into the next, providing a sense of continuity and progression through the season. The final stanza encapsulates the warmth and coziness associated with fall, making it a perfect conclusion to your piece.\\n\\nIf you\\'re looking to expand on this poem, you might consider exploring other sensory elements of fall, such as the taste of seasonal foods or the sound of leaves crunching underfoot. Additionally, incorporating a personal reflection or memory associated with the season could add a more intimate touch. Overall, it is a lovely and evocative poem that captures the essence of autumn beautifully.', type='TextMessage'), TextMessage(source='user_proxy', models_usage=None, content='APPROVE', type='TextMessage')], stop_reason=\"Text 'APPROVE' mentioned\")"
      ]
     },
     "execution_count": 14,
     "metadata": {},
     "output_type": "execute_result"
    }
   ],
   "source": [
    "from autogen_agentchat.agents import AssistantAgent, UserProxyAgent\n",
    "from autogen_agentchat.conditions import TextMentionTermination\n",
    "from autogen_agentchat.teams import RoundRobinGroupChat\n",
    "from autogen_agentchat.ui import Console\n",
    "\n",
    "# Create the agents.\n",
    "# Create the primary agent.\n",
    "primary_agent = AssistantAgent(\n",
    "    \"primary\",\n",
    "    model_client=az_model_client,\n",
    "    system_message=\"You are a helpful AI assistant.\",\n",
    ")\n",
    "\n",
    "# Create the critic agent.\n",
    "critic_agent = AssistantAgent(\n",
    "    \"critic\",\n",
    "    model_client=az_model_client,\n",
    "    system_message=\"Provide constructive feedback.\",\n",
    ")\n",
    "\n",
    "# Create the user proxy agent.\n",
    "user_proxy = UserProxyAgent(\"user_proxy\", input_func=input)  # Use input() to get user input from console.\n",
    "\n",
    "# Create the termination condition which will end the conversation when the user says \"APPROVE\".\n",
    "termination = TextMentionTermination(\"APPROVE\")\n",
    "\n",
    "# Create the team.\n",
    "team = RoundRobinGroupChat([primary_agent, critic_agent, user_proxy], termination_condition=termination)\n",
    "\n",
    "# Run the conversation and stream to the console.\n",
    "stream = team.run_stream(task=\"Write a short poem about the fall season.\")\n",
    "# Use asyncio.run(...) when running in a script.\n",
    "await Console(stream)"
   ]
  },
  {
   "cell_type": "markdown",
   "metadata": {},
   "source": [
    "## Using Max Turns\n",
    "\n",
    "This method allows you to pause the team for user input by setting a maximum number of turns. \n",
    "\n",
    "To implement this, set the max_turns parameter in the RoundRobinGroupChat() constructor.\n",
    "\n",
    "Once the team stops, the turn count will be reset. \n",
    "\n",
    "When you resume the team, it will start from 0 again. However, the team’s internal state will be preserved, for example, the RoundRobinGroupChat will resume from the next agent in the list with the same conversation history."
   ]
  },
  {
   "cell_type": "code",
   "execution_count": 16,
   "metadata": {},
   "outputs": [
    {
     "name": "stdout",
     "output_type": "stream",
     "text": [
      "---------- user ----------\n",
      "Write a short poem about the fall season.\n"
     ]
    },
    {
     "name": "stdout",
     "output_type": "stream",
     "text": [
      "---------- primary ----------\n",
      "In fall's embrace, the world transforms,  \n",
      "With rustling leaves in vibrant swarms.  \n",
      "The crisp air carries scents so sweet,  \n",
      "As nature lays her golden sheet.  \n",
      "\n",
      "Pumpkins line the paths we tread,  \n",
      "Fields of harvest paint the spread.  \n",
      "Sweaters wrap us in their warmth,  \n",
      "As we gather 'round the hearth.  \n",
      "\n",
      "Sunsets blaze with fiery hues,  \n",
      "Beneath a sky of endless blues.  \n",
      "In each moment, fleeting yet still,  \n",
      "Fall whispers its gentle thrill.  \n",
      "[Prompt tokens: 180, Completion tokens: 106]\n",
      "---------- critic ----------\n",
      "Your poem captures the transformative beauty of fall with a warm and inviting tone. The imagery you use, such as \"rustling leaves in vibrant swarms\" and \"golden sheet,\" effectively portrays the visual splendor of the season. The sensory details like the \"crisp air\" and \"scents so sweet\" draw the reader in, making the experience tactile and vivid.\n",
      "\n",
      "The second stanza, with its mention of \"pumpkins\" and \"sweaters,\" evokes cozy autumn rituals, which gives the poem a comforting and familiar feel. The imagery of gathering \"'round the hearth\" further emphasizes the theme of warmth and togetherness during the colder months, which is a lovely touch.\n",
      "\n",
      "To enhance the poem, consider integrating a slight variation in the rhythm or meter to add dynamic movement to the reading experience. Additionally, incorporating a metaphor or simile could deepen the introspective nature of the poem, providing an unexpected layer of meaning or insight into the fall season.\n",
      "\n",
      "Overall, your poem eloquently celebrates the enchantment and beauty of fall. It captures both its visual marvels and its emotional resonance, making it both relatable and rich in atmosphere. Great job!\n",
      "[Prompt tokens: 534, Completion tokens: 233]\n",
      "---------- Summary ----------\n",
      "Number of messages: 3\n",
      "Finish reason: Maximum number of turns 2 reached.\n",
      "Total prompt tokens: 714\n",
      "Total completion tokens: 339\n",
      "Duration: 8.12 seconds\n"
     ]
    }
   ],
   "source": [
    "# Create the team setting a maximum number of turns to 2.\n",
    "# One chat by agent is one turn. So 2 is needed for the two agents\n",
    "team = RoundRobinGroupChat([primary_agent, critic_agent], max_turns=2)\n",
    "\n",
    "task = \"Write a short poem about the fall season.\"\n",
    "while True:\n",
    "    # Run the conversation and stream to the console.\n",
    "    stream = team.run_stream(task=task)\n",
    "    # Use asyncio.run(...) when running in a script.\n",
    "    await Console(stream)\n",
    "    # Get the user response.\n",
    "    task = input(\"Enter your feedback (type 'exit' to leave): \")\n",
    "    if task.lower().strip() == \"exit\":\n",
    "        break"
   ]
  },
  {
   "cell_type": "markdown",
   "metadata": {},
   "source": [
    "## HandoffTermination \n",
    "HandoffTermination stops the team when an agent sends a HandoffMessage message.\n",
    "\n",
    "Note: The model used with AssistantAgent must support tool call to use the handoff feature."
   ]
  },
  {
   "cell_type": "code",
   "execution_count": 23,
   "metadata": {},
   "outputs": [
    {
     "name": "stdout",
     "output_type": "stream",
     "text": [
      "---------- user ----------\n",
      "Write a short poem about the fall season.\n",
      "---------- primary ----------\n",
      "Golden leaves drift gently down,  \n",
      "Whispering secrets without a sound.  \n",
      "Crisp air dances on the breeze,  \n",
      "Painting colors on the trees.  \n",
      "\n",
      "Pumpkin scents and sweater's hug,  \n",
      "Nature wraps in a warm, gentle rug.  \n",
      "Harvest moons and longer nights,  \n",
      "Fireside tales under starlit lights.  \n",
      "\n",
      "In this season's vibrant glow,  \n",
      "Nature’s cycle flows, soft and slow.  \n",
      "Autumn's magic, brief yet bright,  \n",
      "Prepares the earth for winter's night.  \n",
      "[Prompt tokens: 28, Completion tokens: 108]\n",
      "---------- critic ----------\n",
      "Your poem beautifully captures the essence of the fall season. The imagery of \"golden leaves\" and \"crisp air\" effectively evokes the sights and feelings associated with autumn. The use of sensory details like \"pumpkin scents\" and \"sweater's hug\" adds a cozy, inviting atmosphere to your verse. Additionally, the lines about \"harvest moons\" and \"fireside tales\" cleverly connect to the seasonal change and emphasize warmth amidst the cooling temperatures. You have successfully painted a vivid picture of autumn's transition, celebrating its brief but radiant presence. Keep experimenting with various poetic forms to continue honing your skills. Great work! \n",
      "[Prompt tokens: 170, Completion tokens: 130]\n",
      "---------- primary ----------\n",
      "Thank you so much for your kind words and thoughtful feedback! I'm delighted that the poem resonated with you and captured the essence of autumn. I'll definitely continue to explore different poetic forms and elements to further develop my skills. If you have any particular themes or forms you'd like me to try next, feel free to let me know. Thanks again for your encouraging critique!\n",
      "[Prompt tokens: 277, Completion tokens: 73]\n",
      "---------- critic ----------\n",
      "[FunctionCall(id='call_MVs4SZMDSzYljAms3dCw82DQ', arguments='{}', name='transfer_to_user')]\n",
      "[Prompt tokens: 384, Completion tokens: 11]\n",
      "---------- critic ----------\n",
      "[FunctionExecutionResult(content='Transfer to user.', call_id='call_MVs4SZMDSzYljAms3dCw82DQ')]\n",
      "---------- critic ----------\n",
      "Transfer to user.\n",
      "---------- Summary ----------\n",
      "Number of messages: 7\n",
      "Finish reason: Handoff to user from critic detected.\n",
      "Total prompt tokens: 859\n",
      "Total completion tokens: 322\n",
      "Duration: 5.56 seconds\n"
     ]
    },
    {
     "data": {
      "text/plain": [
       "TaskResult(messages=[TextMessage(source='user', models_usage=None, content='Write a short poem about the fall season.', type='TextMessage'), TextMessage(source='primary', models_usage=RequestUsage(prompt_tokens=28, completion_tokens=108), content=\"Golden leaves drift gently down,  \\nWhispering secrets without a sound.  \\nCrisp air dances on the breeze,  \\nPainting colors on the trees.  \\n\\nPumpkin scents and sweater's hug,  \\nNature wraps in a warm, gentle rug.  \\nHarvest moons and longer nights,  \\nFireside tales under starlit lights.  \\n\\nIn this season's vibrant glow,  \\nNature’s cycle flows, soft and slow.  \\nAutumn's magic, brief yet bright,  \\nPrepares the earth for winter's night.  \", type='TextMessage'), TextMessage(source='critic', models_usage=RequestUsage(prompt_tokens=170, completion_tokens=130), content='Your poem beautifully captures the essence of the fall season. The imagery of \"golden leaves\" and \"crisp air\" effectively evokes the sights and feelings associated with autumn. The use of sensory details like \"pumpkin scents\" and \"sweater\\'s hug\" adds a cozy, inviting atmosphere to your verse. Additionally, the lines about \"harvest moons\" and \"fireside tales\" cleverly connect to the seasonal change and emphasize warmth amidst the cooling temperatures. You have successfully painted a vivid picture of autumn\\'s transition, celebrating its brief but radiant presence. Keep experimenting with various poetic forms to continue honing your skills. Great work! ', type='TextMessage'), TextMessage(source='primary', models_usage=RequestUsage(prompt_tokens=277, completion_tokens=73), content=\"Thank you so much for your kind words and thoughtful feedback! I'm delighted that the poem resonated with you and captured the essence of autumn. I'll definitely continue to explore different poetic forms and elements to further develop my skills. If you have any particular themes or forms you'd like me to try next, feel free to let me know. Thanks again for your encouraging critique!\", type='TextMessage'), ToolCallRequestEvent(source='critic', models_usage=RequestUsage(prompt_tokens=384, completion_tokens=11), content=[FunctionCall(id='call_MVs4SZMDSzYljAms3dCw82DQ', arguments='{}', name='transfer_to_user')], type='ToolCallRequestEvent'), ToolCallExecutionEvent(source='critic', models_usage=None, content=[FunctionExecutionResult(content='Transfer to user.', call_id='call_MVs4SZMDSzYljAms3dCw82DQ')], type='ToolCallExecutionEvent'), HandoffMessage(source='critic', models_usage=None, target='user', content='Transfer to user.', type='HandoffMessage')], stop_reason='Handoff to user from critic detected.')"
      ]
     },
     "execution_count": 23,
     "metadata": {},
     "output_type": "execute_result"
    }
   ],
   "source": [
    "from autogen_agentchat.base import Handoff\n",
    "from autogen_agentchat.conditions import HandoffTermination\n",
    "\n",
    "# Create the agents.\n",
    "# Create the primary agent.\n",
    "primary_agent = AssistantAgent(\n",
    "    \"primary\",\n",
    "    model_client=az_model_client,\n",
    "    system_message=\"You are a helpful AI assistant.\",\n",
    ")\n",
    "\n",
    "# Create the critic agent.\n",
    "critic_agent = AssistantAgent(\n",
    "    \"critic\",\n",
    "    model_client=az_model_client,\n",
    "    system_message=\"Provide constructive feedback first then transfer to user.\",\n",
    "    handoffs=[Handoff(target=\"user\", message=\"Transfer to user.\")],\n",
    ")\n",
    "\n",
    "# Define a termination condition that checks for handoff message targetting helper OR text \"APPROVE\".\n",
    "handoff_termination = HandoffTermination(target=\"user\")\n",
    "termination = TextMentionTermination(\"APPROVE\")\n",
    "combined_termination = handoff_termination | termination\n",
    "\n",
    "# Create the team.\n",
    "team = RoundRobinGroupChat([primary_agent, critic_agent], termination_condition=combined_termination)\n",
    "\n",
    "# Run the conversation and stream to the console.\n",
    "stream = team.run_stream(task=\"Write a short poem about the fall season.\")\n",
    "# Use asyncio.run(...) when running in a script.\n",
    "await Console(stream)\n"
   ]
  }
 ],
 "metadata": {
  "kernelspec": {
   "display_name": "Python 3",
   "language": "python",
   "name": "python3"
  },
  "language_info": {
   "codemirror_mode": {
    "name": "ipython",
    "version": 3
   },
   "file_extension": ".py",
   "mimetype": "text/x-python",
   "name": "python",
   "nbconvert_exporter": "python",
   "pygments_lexer": "ipython3",
   "version": "3.12.1"
  }
 },
 "nbformat": 4,
 "nbformat_minor": 2
}
