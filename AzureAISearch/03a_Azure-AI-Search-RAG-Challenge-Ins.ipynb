{
 "cells": [
  {
   "cell_type": "markdown",
   "metadata": {},
   "source": [
    "# Azure AI Search RAG Challenge - Instructions\n",
    "\n",
    "Scenario: Chat with your product manuals. Product manuals are stored in PDF.\n",
    "\n",
    "Steps in this challenge:\n",
    "\n",
    "0. Setup Azure AI Search, Azure OpenAI, and Azure Storage\n",
    "1. Create an index named product-index. \n",
    "  - Fields are title, content, and contentVector.\n",
    "  - Vector size is 1536 using text embedding ada 002\n",
    "2. Create a data source named product-ds. \n",
    "  - Upload product files into a blob storage container.\n",
    "  - Product files are located at Data/products folder in repository\n",
    "3. Create a skillset named product-ss\n",
    "  - Split large documents\n",
    "  - Compute embedding\n",
    "4. Create an indexer named product-indxr\n",
    "  - No schedule needed.\n",
    "5. Perform a semantic hybrid search to test\n",
    "  - Ask questions from the product files\n",
    "6. Send query results to a language model to generate response\n",
    "  - gpt-4o model\n",
    "  - Send top 5 documents retrieved to language model"
   ]
  }
 ],
 "metadata": {
  "language_info": {
   "name": "python"
  }
 },
 "nbformat": 4,
 "nbformat_minor": 2
}
