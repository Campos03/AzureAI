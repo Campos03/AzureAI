{
 "cells": [
  {
   "cell_type": "markdown",
   "metadata": {},
   "source": [
    "# Azure OpenAI Assistants API Solution"
   ]
  },
  {
   "cell_type": "markdown",
   "metadata": {},
   "source": [
    "## Load Azure Configuration"
   ]
  },
  {
   "cell_type": "code",
   "execution_count": 1,
   "metadata": {},
   "outputs": [],
   "source": [
    "from dotenv import load_dotenv\n",
    "import os\n",
    "\n",
    "azure_openai_endpoint = os.getenv(\"AZURE_OPENAI_ENDPOINT\")\n",
    "azure_openai_key = os.getenv(\"AZURE_OPENAI_API_KEY\")\n",
    "azure_openai_deployment = os.getenv(\"AZURE_OPENAI_CHAT_DEPLOYMENT_NAME\")\n",
    "azure_openai_api_version = os.getenv(\"AZURE_OPENAI_API_VERSION\")"
   ]
  },
  {
   "cell_type": "markdown",
   "metadata": {},
   "source": [
    "## Create Functions"
   ]
  },
  {
   "cell_type": "code",
   "execution_count": null,
   "metadata": {},
   "outputs": [],
   "source": [
    "tools_function = [\n",
    "    {   \"type\": \"file_search\"},\n",
    "    {\n",
    "        \"type\": \"function\",\n",
    "        \"function\": {\n",
    "            \"name\": \"get_destinations\",\n",
    "            \"description\": \"Provides a list of hiking destinations.\"\n",
    "        }\n",
    "    },\n",
    "    {\n",
    "        \"type\": \"function\",\n",
    "        \"function\": {\n",
    "            \"name\": \"get_hiking_budget\",\n",
    "            \"description\": \"Provides the typical hiking budget for a destination\",\n",
    "            \"parameters\": {\n",
    "                \"type\": \"object\",\n",
    "                \"properties\": {\n",
    "                    \"destination\": {\n",
    "                        \"type\": \"string\",\n",
    "                        \"description\": \"The destination (e.g., 'US', 'Australia').\"\n",
    "                    }\n",
    "                },\n",
    "                \"required\": [\"destination\"]\n",
    "            }\n",
    "        }\n",
    "    },\n",
    "    {\n",
    "        \"type\": \"function\",\n",
    "        \"function\": {\n",
    "            \"name\": \"get_weather\",\n",
    "            \"description\": \"Provides the weather for a hiking destination\",\n",
    "            \"parameters\": {\n",
    "                \"type\": \"object\",\n",
    "                \"properties\": {\n",
    "                    \"destination\": {\n",
    "                        \"type\": \"string\",\n",
    "                        \"description\": \"The destination (e.g., 'US', 'Australia').\"\n",
    "                    }\n",
    "                },\n",
    "                \"required\": [\"destination\"]\n",
    "            }\n",
    "        }\n",
    "    },\n",
    "\n",
    "]\n",
    "\n",
    "# define functions\n",
    "def get_destinations():\n",
    "    return \"\"\"\n",
    "        United States\n",
    "        Australia\n",
    "        France\n",
    "        \"\"\"\n",
    "\n",
    "def get_hiking_budget(destination):\n",
    "    if destination == \"United States\":\n",
    "        return \"\"\"\n",
    "                Budget Hikers: Around $50 per day. This includes camping, cooking your own meals, and using public transportation.\n",
    "                Mid-Range Hikers: Approximately $150 per day. This covers mid-range accommodations, dining at average restaurants, and some paid attractions.\n",
    "                Luxury Hikers: About $400 per day. This includes luxury lodges, fine dining, and private transportation.\n",
    "            \"\"\"\n",
    "    elif destination == \"Australia\":\n",
    "        return \"\"\"\n",
    "                Budget Hikers: Around $40 per day. This includes camping, cooking your own meals, and using public transport.\n",
    "                Mid-Range Hikers: Approximately $120 per day. This covers mid-range accommodations, dining at average restaurants, and some paid attractions.\n",
    "                Luxury Hikers: About $350 per day. This includes luxury lodges, fine dining, and private transportation.\n",
    "            \"\"\"\n",
    "    elif destination == \"France\":\n",
    "        return \"\"\"\n",
    "                Budget Hikers: Around $45 per day. This includes camping, cooking your own meals, and using public transportation.\n",
    "                Mid-Range Hikers: Approximately $130 per day. This covers mid-range accommodations, dining at average restaurants, and some paid attractions.\n",
    "                Luxury Hikers: About $380 per day. This includes luxury lodges, fine dining, and private transportation.            \n",
    "            \"\"\"\n",
    "    else:\n",
    "        return \"Destination not found\"\n",
    "    \n",
    "def get_weather(destination):\n",
    "    if destination == \"United States\":\n",
    "        return \"\"\"\n",
    "            The United States has a diverse climate. In general:\n",
    "            - **Winter**: Cold in the north, mild in the south. Average temperatures range from 26.6°F (-3°C) in Alaska to 70.7°F (21.5°C) in Florida.\n",
    "            - **Summer**: Hot and humid in the south, dry in the west. Average temperatures range from 52.7°F (11.5°C) to 70.7°F (21.5°C).\n",
    "            \"\"\"\n",
    "    elif destination == \"Australia\":\n",
    "        return \"\"\"\n",
    "                Australia experiences varied climates:\n",
    "                - **Winter**: Mild in the north, cooler in the south. Average temperatures range from 46°F (8°C) in Canberra to 77°F (25°C) in Darwin.\n",
    "                - **Summer**: Hot and dry in the interior, humid in the north. Average temperatures range from 68°F (20°C) in Hobart to 91°F (33°C) in Darwin.\n",
    "            \"\"\"\n",
    "    elif destination == \"France\":\n",
    "        return \"\"\"\n",
    "                France has several climate zones:\n",
    "                - **Winter**: Cold in the north, mild in the south. Average temperatures range from 35.5°F (2°C) in the northeast to 48°F (9°C) in the south.\n",
    "                - **Summer**: Warm and sunny. Average temperatures range from 63°F (17°C) in the north to 77°F (25°C) along the Mediterranean coast.\n",
    "            \"\"\"\n",
    "    else:\n",
    "        return \"Destination not found\""
   ]
  }
 ],
 "metadata": {
  "kernelspec": {
   "display_name": "Python 3",
   "language": "python",
   "name": "python3"
  },
  "language_info": {
   "codemirror_mode": {
    "name": "ipython",
    "version": 3
   },
   "file_extension": ".py",
   "mimetype": "text/x-python",
   "name": "python",
   "nbconvert_exporter": "python",
   "pygments_lexer": "ipython3",
   "version": "3.12.1"
  }
 },
 "nbformat": 4,
 "nbformat_minor": 2
}
