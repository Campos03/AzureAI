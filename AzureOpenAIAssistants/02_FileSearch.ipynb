{
 "cells": [
  {
   "cell_type": "markdown",
   "metadata": {},
   "source": [
    "# Azure OpenAI Assistants - File Search"
   ]
  },
  {
   "cell_type": "markdown",
   "metadata": {},
   "source": [
    "## Load Azure Configuration"
   ]
  },
  {
   "cell_type": "code",
   "execution_count": 9,
   "metadata": {},
   "outputs": [],
   "source": [
    "from dotenv import load_dotenv\n",
    "import os\n",
    "\n",
    "azure_openai_endpoint = os.getenv(\"AZURE_OPENAI_ENDPOINT\")\n",
    "azure_openai_key = os.getenv(\"AZURE_OPENAI_KEY\")\n",
    "azure_openai_deployment = os.getenv(\"AZURE_OPENAI_DEPLOYMENT\")\n",
    "azure_openai_api_version = \"2024-10-01-preview\""
   ]
  },
  {
   "cell_type": "markdown",
   "metadata": {},
   "source": [
    "## Prepare Files"
   ]
  },
  {
   "cell_type": "code",
   "execution_count": 23,
   "metadata": {},
   "outputs": [],
   "source": [
    "from openai import AzureOpenAI\n",
    "\n",
    "# Create a client\n",
    "client = AzureOpenAI(\n",
    "    api_version=azure_openai_api_version,\n",
    "    azure_endpoint=azure_openai_endpoint,\n",
    "    api_key=azure_openai_key\n",
    ")\n",
    "\n",
    "# Create a vector store\n",
    "vector_store = client.beta.vector_stores.create(name=\"Nasa Books\")\n",
    "\n",
    "# Specify the folder containing the files\n",
    "folder_path = \"../Data/nasabooks/\"\n",
    "\n",
    "# Get all file paths in the folder\n",
    "file_paths = [os.path.join(folder_path, file_name) for file_name in os.listdir(folder_path)]\n",
    "\n",
    "# Open file streams\n",
    "file_streams = [open(path, \"rb\") for path in file_paths]\n",
    "\n",
    "# Use the upload and poll SDK helper to upload the files, add them to the vector store,\n",
    "# and poll the status of the file batch for completion.\n",
    "file_batch = client.beta.vector_stores.file_batches.upload_and_poll(\n",
    "    vector_store_id=vector_store.id, files=file_streams\n",
    ")"
   ]
  },
  {
   "cell_type": "code",
   "execution_count": 27,
   "metadata": {},
   "outputs": [
    {
     "name": "stdout",
     "output_type": "stream",
     "text": [
      "completed\n",
      "FileCounts(cancelled=0, completed=83, failed=1, in_progress=0, total=84)\n",
      "vs_50clGqmf9ophWAj9JEBKtlV3\n"
     ]
    }
   ],
   "source": [
    "# You can print the status and the file counts of the batch to see the result of this operation.\n",
    "print(file_batch.status)\n",
    "print(file_batch.file_counts)\n",
    "print(vector_store.id)\n"
   ]
  },
  {
   "cell_type": "markdown",
   "metadata": {},
   "source": [
    "## Step 1-2:\n",
    "1. Create an Assistant\n",
    "2. Create a Thread"
   ]
  },
  {
   "cell_type": "code",
   "execution_count": 28,
   "metadata": {},
   "outputs": [
    {
     "name": "stdout",
     "output_type": "stream",
     "text": [
      "Thread(id='thread_rlvFiaGDEvyzlPU8zQG8LqzQ', created_at=1734252361, metadata={}, object='thread', tool_resources=ToolResources(code_interpreter=None, file_search=None))\n"
     ]
    }
   ],
   "source": [
    "# Step 1: Create assistant\n",
    "assistant = client.beta.assistants.create(\n",
    "  name=\"Nasa books Assistant\",\n",
    "  instructions=\"\"\"\n",
    "  You are a assistant that provides information. \n",
    "   You will answer questions based on files provided to you about information in a NASA Book. \n",
    "   You will not provide answers outside of those files.\n",
    "  \"\"\",\n",
    "  model=azure_openai_deployment,\n",
    "  tools=[{\"type\":\"file_search\"}],\n",
    "  tool_resources={\"file_search\":{\"vector_store_ids\":[vector_store.id]}},\n",
    "  temperature=1,\n",
    "  top_p=1\n",
    ")\n",
    "\n",
    "# Step 2: Create thread\n",
    "thread = client.beta.threads.create()\n",
    "print(thread)"
   ]
  },
  {
   "cell_type": "markdown",
   "metadata": {},
   "source": [
    "## Step 3-6: \n",
    "3. Add a message to the thread\n",
    "4. Run the Assistant\n",
    "5. Check the Run Status\n",
    "6. Display the Assistant's Response"
   ]
  },
  {
   "cell_type": "code",
   "execution_count": 29,
   "metadata": {},
   "outputs": [
    {
     "name": "stdout",
     "output_type": "stream",
     "text": [
      "in_progress\n",
      "in_progress\n",
      "in_progress\n",
      "in_progress\n",
      "in_progress\n",
      "In the United States, various remarkable attractions and natural wonders can be explored:\n",
      "\n",
      "1. **Grand Canyon**: One of the deepest canyons in the United States, the Grand Canyon is carved by the Colorado River and showcases over 2 billion years of geological history. John Wesley Powell, who led an expedition through the canyon, remarked on its indescribable beauty【4:1†source】.\n",
      "\n",
      "2. **Green River**: The Bowknot Bend area of the Green River in eastern Utah is known for its unique river loop that carries rafters around a significant bend, showcasing natural beauty and geological phenomena【4:5†source】.\n",
      "\n",
      "3. **Diverse Landscapes in Oregon**: Within a short drive in Oregon, visitors can experience a beach, a temperate rainforest, a mountain glacier, and a high desert, highlighting the state's varied ecosystems and climates【4:3†source】.\n",
      "\n",
      "4. **Great Lakes**: The Great Lakes can experience extended ice seasons, as seen in 2014 when ice remained for nearly seven months, even as temperatures rose【4:2†source】.\n",
      "\n",
      "5. **Hole-Punch Clouds**: A fascinating atmospheric phenomenon can be observed in parts of the U.S., where air traffic interacts with clouds, creating “hole-punch” clouds that appear as if parts of the cloud have fallen from the sky【4:12†source】.\n",
      "\n",
      "These examples illustrate the diverse attractions that the U.S. has to offer, ranging from stunning natural landscapes to unique meteorological phenomena.\n"
     ]
    }
   ],
   "source": [
    "import time\n",
    "\n",
    "user_question =\"\"\"What can I see in the United States?\"\"\"\n",
    "\n",
    "# Step 3: Add a message to the thread\n",
    "message = client.beta.threads.messages.create(\n",
    "  thread_id=thread.id,\n",
    "  role=\"user\",\n",
    "  content=user_question\n",
    ")\n",
    "\n",
    "# Step 4: Run the Assistant\n",
    "run = client.beta.threads.runs.create(\n",
    "  thread_id=thread.id,\n",
    "  assistant_id=assistant.id\n",
    ")\n",
    "\n",
    "# Step 5: Check the Run Status\n",
    "# Looping until the run completes or fails\n",
    "while run.status in ['queued', 'in_progress', 'cancelling']:\n",
    "  time.sleep(1)\n",
    "  run = client.beta.threads.runs.retrieve(\n",
    "    thread_id=thread.id,\n",
    "    run_id=run.id\n",
    "  )\n",
    "\n",
    "  if run.status == 'completed':\n",
    "    messages = client.beta.threads.messages.list(\n",
    "    thread_id=thread.id\n",
    "  )\n",
    "  \n",
    "  elif run.status == 'requires_action':\n",
    "    pass\n",
    "  \n",
    "  else:\n",
    "    print(run.status)\n",
    "\n",
    "# Step 6: Display the Assistant's Response\n",
    "content_block = messages.data[0].content[0]\n",
    "value = content_block.text.value\n",
    "print(value)"
   ]
  },
  {
   "cell_type": "code",
   "execution_count": 58,
   "metadata": {},
   "outputs": [
    {
     "name": "stdout",
     "output_type": "stream",
     "text": [
      "In the United States, various remarkable attractions and natural wonders can be explored:\n",
      "\n",
      "1. **Grand Canyon**: One of the deepest canyons in the United States, the Grand Canyon is carved by the Colorado River and showcases over 2 billion years of geological history. John Wesley Powell, who led an expedition through the canyon, remarked on its indescribable beauty【4:1†source】.\n",
      "\n",
      "2. **Green River**: The Bowknot Bend area of the Green River in eastern Utah is known for its unique river loop that carries rafters around a significant bend, showcasing natural beauty and geological phenomena【4:5†source】.\n",
      "\n",
      "3. **Diverse Landscapes in Oregon**: Within a short drive in Oregon, visitors can experience a beach, a temperate rainforest, a mountain glacier, and a high desert, highlighting the state's varied ecosystems and climates【4:3†source】.\n",
      "\n",
      "4. **Great Lakes**: The Great Lakes can experience extended ice seasons, as seen in 2014 when ice remained for nearly seven months, even as temperatures rose【4:2†source】.\n",
      "\n",
      "5. **Hole-Punch Clouds**: A fascinating atmospheric phenomenon can be observed in parts of the U.S., where air traffic interacts with clouds, creating “hole-punch” clouds that appear as if parts of the cloud have fallen from the sky【4:12†source】.\n",
      "\n",
      "These examples illustrate the diverse attractions that the U.S. has to offer, ranging from stunning natural landscapes to unique meteorological phenomena.\n",
      "[FileCitationAnnotation(end_index=378, file_citation=FileCitation(file_id='assistant-aA9YlF7wv0fqVF88fcsmYQJI'), start_index=366, text='【4:1†source】', type='file_citation'), FileCitationAnnotation(end_index=378, file_citation=FileCitation(file_id='assistant-McQ6nBynbWCbbGHDrZUFoqEn'), start_index=366, text='【4:1†source】', type='file_citation'), FileCitationAnnotation(end_index=603, file_citation=FileCitation(file_id='assistant-Vq0VTWDLq7zSGIaBnWZJJOLW'), start_index=591, text='【4:5†source】', type='file_citation'), FileCitationAnnotation(end_index=603, file_citation=FileCitation(file_id='assistant-McQ6nBynbWCbbGHDrZUFoqEn'), start_index=591, text='【4:5†source】', type='file_citation'), FileCitationAnnotation(end_index=838, file_citation=FileCitation(file_id='assistant-aqKpBm7sGmyJeovgR9xC5uur'), start_index=826, text='【4:3†source】', type='file_citation'), FileCitationAnnotation(end_index=838, file_citation=FileCitation(file_id='assistant-McQ6nBynbWCbbGHDrZUFoqEn'), start_index=826, text='【4:3†source】', type='file_citation'), FileCitationAnnotation(end_index=1010, file_citation=FileCitation(file_id='assistant-84O63uNTdmkD15VDx8L9dBum'), start_index=998, text='【4:2†source】', type='file_citation'), FileCitationAnnotation(end_index=1010, file_citation=FileCitation(file_id='assistant-McQ6nBynbWCbbGHDrZUFoqEn'), start_index=998, text='【4:2†source】', type='file_citation'), FileCitationAnnotation(end_index=1258, file_citation=FileCitation(file_id='assistant-OEiZFlRKuRQf5hxB0Y2DpX8d'), start_index=1245, text='【4:12†source】', type='file_citation'), FileCitationAnnotation(end_index=1258, file_citation=FileCitation(file_id='assistant-McQ6nBynbWCbbGHDrZUFoqEn'), start_index=1245, text='【4:12†source】', type='file_citation')]\n"
     ]
    }
   ],
   "source": [
    "message_content = messages.data[0].content[0]\n",
    "annotations = message_content.text.annotations\n",
    "value = message_content.text.value\n",
    "print(value)\n",
    "print(annotations)"
   ]
  },
  {
   "cell_type": "code",
   "execution_count": 73,
   "metadata": {},
   "outputs": [
    {
     "name": "stdout",
     "output_type": "stream",
     "text": [
      "FileCitation(file_id='assistant-aA9YlF7wv0fqVF88fcsmYQJI')\n",
      "FileObject(id='assistant-aA9YlF7wv0fqVF88fcsmYQJI', bytes=318971, created_at=1734252016, filename='page-95.pdf', object='file', purpose='assistants', status='processed', status_details=None)\n",
      "FileCitation(file_id='assistant-McQ6nBynbWCbbGHDrZUFoqEn')\n",
      "FileObject(id='assistant-McQ6nBynbWCbbGHDrZUFoqEn', bytes=35462, created_at=1734252020, filename='page-169.pdf', object='file', purpose='assistants', status='processed', status_details=None)\n",
      "FileCitation(file_id='assistant-Vq0VTWDLq7zSGIaBnWZJJOLW')\n",
      "FileObject(id='assistant-Vq0VTWDLq7zSGIaBnWZJJOLW', bytes=318127, created_at=1734252024, filename='page-103.pdf', object='file', purpose='assistants', status='processed', status_details=None)\n",
      "FileCitation(file_id='assistant-McQ6nBynbWCbbGHDrZUFoqEn')\n",
      "FileObject(id='assistant-McQ6nBynbWCbbGHDrZUFoqEn', bytes=35462, created_at=1734252020, filename='page-169.pdf', object='file', purpose='assistants', status='processed', status_details=None)\n",
      "FileCitation(file_id='assistant-aqKpBm7sGmyJeovgR9xC5uur')\n",
      "FileObject(id='assistant-aqKpBm7sGmyJeovgR9xC5uur', bytes=318244, created_at=1734252006, filename='page-105.pdf', object='file', purpose='assistants', status='processed', status_details=None)\n",
      "FileCitation(file_id='assistant-McQ6nBynbWCbbGHDrZUFoqEn')\n",
      "FileObject(id='assistant-McQ6nBynbWCbbGHDrZUFoqEn', bytes=35462, created_at=1734252020, filename='page-169.pdf', object='file', purpose='assistants', status='processed', status_details=None)\n",
      "FileCitation(file_id='assistant-84O63uNTdmkD15VDx8L9dBum')\n",
      "FileObject(id='assistant-84O63uNTdmkD15VDx8L9dBum', bytes=318089, created_at=1734252022, filename='page-137.pdf', object='file', purpose='assistants', status='processed', status_details=None)\n",
      "FileCitation(file_id='assistant-McQ6nBynbWCbbGHDrZUFoqEn')\n",
      "FileObject(id='assistant-McQ6nBynbWCbbGHDrZUFoqEn', bytes=35462, created_at=1734252020, filename='page-169.pdf', object='file', purpose='assistants', status='processed', status_details=None)\n",
      "FileCitation(file_id='assistant-OEiZFlRKuRQf5hxB0Y2DpX8d')\n",
      "FileObject(id='assistant-OEiZFlRKuRQf5hxB0Y2DpX8d', bytes=318262, created_at=1734252023, filename='page-139.pdf', object='file', purpose='assistants', status='processed', status_details=None)\n",
      "FileCitation(file_id='assistant-McQ6nBynbWCbbGHDrZUFoqEn')\n",
      "FileObject(id='assistant-McQ6nBynbWCbbGHDrZUFoqEn', bytes=35462, created_at=1734252020, filename='page-169.pdf', object='file', purpose='assistants', status='processed', status_details=None)\n"
     ]
    }
   ],
   "source": [
    "# Extract the message content\n",
    "message_content = messages.data[0].content[0]\n",
    "annotations = message_content.text.annotations\n",
    "citations = []\n",
    "\n",
    "# Iterate over the annotations and add footnotes\n",
    "for index, annotation in enumerate(annotations):\n",
    "    # Replace the text with a footnote\n",
    "    message_content.text.value = message_content.text.value.replace(annotation.text, f' [{index}]')\n",
    "\n",
    "    # Gather citations based on annotation attributes\n",
    "    if (file_citation := getattr(annotation, 'file_citation', None)):\n",
    "        print(file_citation)\n",
    "        cited_file = client.files.retrieve(file_citation.file_id)\n",
    "        print(cited_file)\n",
    "        #citations.append(f'[{index}] {file_citation.value} from {cited_file.filename}')\n",
    "    elif (file_path := getattr(annotation, 'file_path', None)):\n",
    "        cited_file = client.files.retrieve(file_path.file_id)\n",
    "        citations.append(f'[{index}] Click <here> to download {cited_file.filename}')\n",
    "        # Note: File download functionality not implemented above for brevity\n",
    "\n",
    "# Add footnotes to the end of the message before displaying to user\n",
    "message_content.text.value += '\\n' + '\\n'.join(citations)\n",
    "\n"
   ]
  },
  {
   "cell_type": "code",
   "execution_count": 64,
   "metadata": {},
   "outputs": [
    {
     "name": "stdout",
     "output_type": "stream",
     "text": [
      "FileObject(id='assistant-Vq0VTWDLq7zSGIaBnWZJJOLW', bytes=318127, created_at=1734252024, filename='page-103.pdf', object='file', purpose='assistants', status='processed', status_details=None)\n"
     ]
    }
   ],
   "source": [
    "cited_file = client.files.retrieve(\"assistant-Vq0VTWDLq7zSGIaBnWZJJOLW\")\n",
    "print(cited_file)"
   ]
  },
  {
   "cell_type": "markdown",
   "metadata": {},
   "source": [
    "## Delete Assistant"
   ]
  },
  {
   "cell_type": "code",
   "execution_count": 18,
   "metadata": {},
   "outputs": [],
   "source": [
    "response = client.beta.assistants.delete(assistant.id)"
   ]
  }
 ],
 "metadata": {
  "kernelspec": {
   "display_name": "Python 3",
   "language": "python",
   "name": "python3"
  },
  "language_info": {
   "codemirror_mode": {
    "name": "ipython",
    "version": 3
   },
   "file_extension": ".py",
   "mimetype": "text/x-python",
   "name": "python",
   "nbconvert_exporter": "python",
   "pygments_lexer": "ipython3",
   "version": "3.12.1"
  }
 },
 "nbformat": 4,
 "nbformat_minor": 2
}
