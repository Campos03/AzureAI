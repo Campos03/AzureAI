{
 "cells": [
  {
   "cell_type": "markdown",
   "metadata": {},
   "source": [
    "# Azure OpenAI Assistants - File Search"
   ]
  },
  {
   "cell_type": "markdown",
   "metadata": {},
   "source": [
    "## Load Azure Configuration"
   ]
  },
  {
   "cell_type": "code",
   "execution_count": 1,
   "metadata": {},
   "outputs": [],
   "source": [
    "from dotenv import load_dotenv\n",
    "import os\n",
    "\n",
    "azure_openai_endpoint = os.getenv(\"AZURE_OPENAI_ENDPOINT\")\n",
    "azure_openai_key = os.getenv(\"AZURE_OPENAI_KEY\")\n",
    "azure_openai_deployment = os.getenv(\"AZURE_OPENAI_DEPLOYMENT\")\n",
    "azure_openai_api_version = \"2024-10-01-preview\""
   ]
  },
  {
   "cell_type": "markdown",
   "metadata": {},
   "source": [
    "## Prepare Files"
   ]
  },
  {
   "cell_type": "code",
   "execution_count": 2,
   "metadata": {},
   "outputs": [],
   "source": [
    "from openai import AzureOpenAI\n",
    "\n",
    "# Create a client\n",
    "client = AzureOpenAI(\n",
    "    api_version=azure_openai_api_version,\n",
    "    azure_endpoint=azure_openai_endpoint,\n",
    "    api_key=azure_openai_key\n",
    ")\n",
    "\n",
    "# Create a vector store\n",
    "vector_store = client.beta.vector_stores.create(name=\"Nasa Books\")\n",
    "\n",
    "# Specify the folder containing the files\n",
    "folder_path = \"../Data/nasabooks-eval/\"\n",
    "\n",
    "# Get all file paths in the folder\n",
    "file_paths = [os.path.join(folder_path, file_name) for file_name in os.listdir(folder_path)]\n",
    "\n",
    "# Open file streams\n",
    "file_streams = [open(path, \"rb\") for path in file_paths]\n",
    "\n",
    "# Use the upload and poll SDK helper to upload the files, add them to the vector store,\n",
    "# and poll the status of the file batch for completion.\n",
    "file_batch = client.beta.vector_stores.file_batches.upload_and_poll(\n",
    "    vector_store_id=vector_store.id, files=file_streams\n",
    ")"
   ]
  },
  {
   "cell_type": "code",
   "execution_count": 4,
   "metadata": {},
   "outputs": [
    {
     "name": "stdout",
     "output_type": "stream",
     "text": [
      "failed\n",
      "FileCounts(cancelled=0, completed=0, failed=15, in_progress=0, total=15)\n",
      "vs_MPoU13yDMkU1faRG4NlsCKuy\n"
     ]
    }
   ],
   "source": [
    "# You can print the status and the file counts of the batch to see the result of this operation.\n",
    "print(file_batch.status)\n",
    "print(file_batch.file_counts)\n",
    "print(vector_store.id)\n"
   ]
  },
  {
   "cell_type": "markdown",
   "metadata": {},
   "source": [
    "## Step 1-2:\n",
    "1. Create an Assistant\n",
    "2. Create a Thread"
   ]
  },
  {
   "cell_type": "code",
   "execution_count": 7,
   "metadata": {},
   "outputs": [
    {
     "name": "stdout",
     "output_type": "stream",
     "text": [
      "Thread(id='thread_3jqzDZ8smxW9OTRpHqQ4fnyg', created_at=1734493796, metadata={}, object='thread', tool_resources=ToolResources(code_interpreter=None, file_search=None))\n"
     ]
    }
   ],
   "source": [
    "# Step 1: Create assistant\n",
    "assistant = client.beta.assistants.create(\n",
    "  name=\"Nasa books Assistant\",\n",
    "  instructions=\"\"\"\n",
    "  You are a assistant that provides information. \n",
    "   You will answer questions based on files provided to you about information in a NASA Book. \n",
    "   You will not provide answers outside of those files.\n",
    "  \"\"\",\n",
    "  model=azure_openai_deployment,\n",
    "  tools=[{\"type\":\"file_search\"}],\n",
    "  tool_resources={\"file_search\":{\"vector_store_ids\":[vector_store.id]}},\n",
    "  temperature=1,\n",
    "  top_p=1\n",
    ")\n",
    "\n",
    "# Step 2: Create thread\n",
    "thread = client.beta.threads.create()\n",
    "print(thread)"
   ]
  },
  {
   "cell_type": "markdown",
   "metadata": {},
   "source": [
    "## Step 3-6: \n",
    "3. Add a message to the thread\n",
    "4. Run the Assistant\n",
    "5. Check the Run Status\n",
    "6. Display the Assistant's Response"
   ]
  },
  {
   "cell_type": "code",
   "execution_count": 8,
   "metadata": {},
   "outputs": [
    {
     "name": "stdout",
     "output_type": "stream",
     "text": [
      "in_progress\n",
      "in_progress\n",
      "in_progress\n",
      "in_progress\n",
      "in_progress\n",
      "It seems that I could not find specific information about what you can see in the United States in the files provided. If you have any other specifics or topics in mind regarding what to explore or see in the United States, please let me know, and I can search again!\n"
     ]
    }
   ],
   "source": [
    "import time\n",
    "\n",
    "user_question =\"\"\"What can I see in the United States?\"\"\"\n",
    "\n",
    "# Step 3: Add a message to the thread\n",
    "message = client.beta.threads.messages.create(\n",
    "  thread_id=thread.id,\n",
    "  role=\"user\",\n",
    "  content=user_question\n",
    ")\n",
    "\n",
    "# Step 4: Run the Assistant\n",
    "run = client.beta.threads.runs.create(\n",
    "  thread_id=thread.id,\n",
    "  assistant_id=assistant.id\n",
    ")\n",
    "\n",
    "# Step 5: Check the Run Status\n",
    "# Looping until the run completes or fails\n",
    "while run.status in ['queued', 'in_progress', 'cancelling']:\n",
    "  time.sleep(1)\n",
    "  run = client.beta.threads.runs.retrieve(\n",
    "    thread_id=thread.id,\n",
    "    run_id=run.id\n",
    "  )\n",
    "\n",
    "  if run.status == 'completed':\n",
    "    messages = client.beta.threads.messages.list(\n",
    "    thread_id=thread.id\n",
    "  )\n",
    "  \n",
    "  elif run.status == 'requires_action':\n",
    "    pass\n",
    "  \n",
    "  else:\n",
    "    print(run.status)\n",
    "\n",
    "# Step 6: Display the Assistant's Response\n",
    "content_block = messages.data[0].content[0]\n",
    "value = content_block.text.value\n",
    "print(value)"
   ]
  },
  {
   "cell_type": "markdown",
   "metadata": {},
   "source": [
    "## Reformat citations with the proper filenames"
   ]
  },
  {
   "cell_type": "code",
   "execution_count": 135,
   "metadata": {},
   "outputs": [],
   "source": [
    "def reformat_citations(value):\n",
    "    # Extract the message content and annotations\n",
    "    message_content = messages.data[0].content[0]\n",
    "    annotations = message_content.text.annotations\n",
    "    \n",
    "    # Original response\n",
    "    paragraph = value\n",
    "\n",
    "    # Dictionary to store key-value pairs of text and filename\n",
    "    text_filename_pairs = {}\n",
    "\n",
    "    # Iterate over the annotations and extract the relevant information\n",
    "    for annotation in annotations:\n",
    "        file_id = annotation.file_citation.file_id\n",
    "        text = annotation.text\n",
    "        cited_file = client.files.retrieve(file_id)\n",
    "        filename = cited_file.filename\n",
    "\n",
    "        if text not in text_filename_pairs:\n",
    "            text_filename_pairs[text] = []\n",
    "        text_filename_pairs[text].append(filename)\n",
    "\n",
    "    # Print the key-value pairs\n",
    "    #for text, filenames in text_filename_pairs.items():\n",
    "    #    print(f'{text}: {\", \".join(filenames)}')\n",
    "\n",
    "    # Replace the citation texts with their corresponding filenames prefixed with \" Source: \"\n",
    "    for text, filenames in text_filename_pairs.items():\n",
    "        sources = \" Source: \" + \", \".join(filenames)\n",
    "        paragraph = paragraph.replace(text, sources)\n",
    "\n",
    "    return paragraph\n"
   ]
  },
  {
   "cell_type": "code",
   "execution_count": 138,
   "metadata": {},
   "outputs": [
    {
     "name": "stdout",
     "output_type": "stream",
     "text": [
      "In the United States, there are numerous stunning sights and attractions to explore. Here are some notable highlights:\n",
      "\n",
      "1. **Grand Canyon** - A remarkable natural wonder, the Grand Canyon consists of a vast gorge carved by the Colorado River, plunging 1,829 meters (6,000 feet) deep. It reveals more than 2 billion years of geological history through its vivid rock layers Source: page-95.pdf, page-165.pdf.\n",
      "\n",
      "2. **Diverse Landscapes of Oregon** - In Oregon, you can experience a variety of ecosystems within a short drive, including beaches, temperate rainforests, mountain glaciers, and high desert terrain. This diversity is shaped largely by the interactions of various air masses Source: page-105.pdf, page-165.pdf.\n",
      "\n",
      "3. **Bowknot Bend** - Located on the Green River in Utah, Bowknot Bend features a unique meandering river that loops back upon itself, offering a scenic rafting experience and stunning views of steep canyon walls Source: page-103.pdf, page-165.pdf.\n",
      "\n",
      "4. **Great Lakes** - The Great Lakes are known for their seasonal ice coverage, which can extend for months. For instance, in 2014, ice remained on Lake Superior until mid-June, providing a picturesque winter scenery Source: page-137.pdf, page-165.pdf.\n",
      "\n",
      "5. **Turquoise Melt Ponds in Alaska** - During summer, you can observe turquoise melt ponds forming on Alaskan glaciers, where surface water accumulates in low spots. These melt ponds play a significant role in the local climate Source: page-153.pdf, page-165.pdf.\n",
      "\n",
      "These attractions represent just a small sample of the breathtaking natural beauty and diversity available to explore throughout the United States.\n"
     ]
    }
   ],
   "source": [
    "print(reformat_citations(value))"
   ]
  },
  {
   "cell_type": "markdown",
   "metadata": {},
   "source": [
    "## Delete Assistant"
   ]
  },
  {
   "cell_type": "code",
   "execution_count": 139,
   "metadata": {},
   "outputs": [],
   "source": [
    "response = client.beta.assistants.delete(assistant.id)"
   ]
  }
 ],
 "metadata": {
  "kernelspec": {
   "display_name": "Python 3",
   "language": "python",
   "name": "python3"
  },
  "language_info": {
   "codemirror_mode": {
    "name": "ipython",
    "version": 3
   },
   "file_extension": ".py",
   "mimetype": "text/x-python",
   "name": "python",
   "nbconvert_exporter": "python",
   "pygments_lexer": "ipython3",
   "version": "3.12.1"
  }
 },
 "nbformat": 4,
 "nbformat_minor": 2
}
