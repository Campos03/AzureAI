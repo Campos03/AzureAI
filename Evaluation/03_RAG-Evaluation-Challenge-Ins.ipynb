{
 "cells": [
  {
   "cell_type": "markdown",
   "metadata": {},
   "source": [
    "# RAG Evaluation Challenge Instructions\n",
    "\n",
    "1. Prepare the evaluation data set using the products pdf files. For this challenge, we can simulate with at least 10 rows.\n",
    "2. Perform evaluations on Groundedness, Relevance, Coherence, Fluency, Similarity as well as the 4 Risk and Safety Metrics.\n",
    "3. Display the results in Azure AI Foundry"
   ]
  }
 ],
 "metadata": {
  "language_info": {
   "name": "python"
  }
 },
 "nbformat": 4,
 "nbformat_minor": 2
}
