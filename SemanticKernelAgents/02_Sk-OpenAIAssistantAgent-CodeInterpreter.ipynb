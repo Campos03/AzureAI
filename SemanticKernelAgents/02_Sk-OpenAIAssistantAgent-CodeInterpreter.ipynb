{
 "cells": [
  {
   "cell_type": "markdown",
   "metadata": {},
   "source": [
    "# Semantic Kernel OpenAI Assistant Agent Code Interpreter"
   ]
  },
  {
   "cell_type": "markdown",
   "metadata": {},
   "source": [
    "## Prepare File Paths of our files to be added to agent"
   ]
  },
  {
   "cell_type": "code",
   "execution_count": null,
   "metadata": {},
   "outputs": [],
   "source": [
    "import os\n",
    "\n",
    "# Let's form the file paths that we will later pass to the assistant\n",
    "csv_file_path_1 = os.path.join(\"../Data/population/\",\"PopulationByAdmin1.csv\",)\n",
    "\n",
    "csv_file_path_2 = os.path.join(\"../Data/population/\",\"PopulationByCountry.csv\",)"
   ]
  },
  {
   "cell_type": "markdown",
   "metadata": {},
   "source": [
    "## Step 1-2: Create an Agent and Thread"
   ]
  },
  {
   "cell_type": "code",
   "execution_count": null,
   "metadata": {},
   "outputs": [],
   "source": [
    "from semantic_kernel.agents.open_ai.azure_assistant_agent import AzureAssistantAgent\n",
    "from semantic_kernel.contents.chat_message_content import ChatMessageContent\n",
    "from semantic_kernel.contents.file_reference_content import FileReferenceContent\n",
    "from semantic_kernel.contents.utils.author_role import AuthorRole\n",
    "from semantic_kernel.kernel import Kernel\n",
    "\n",
    "# Step 1: Create an assistant agent\n",
    "agent = await AzureAssistantAgent.create(\n",
    "        kernel=Kernel(),\n",
    "        service_id=\"agent\",\n",
    "        name=\"SK_OpenAI_Assistant_Agent_Code_Interpreter\",\n",
    "        instructions=\"\"\"\n",
    "                Analyze the available data to provide an answer to the user's question.\n",
    "                Always format response using markdown.\n",
    "                Always include a numerical index that starts at 1 for any lists or tables.\n",
    "                Always sort lists in ascending order.\n",
    "                \"\"\",\n",
    "        enable_code_interpreter=True,\n",
    "        code_interpreter_filenames=[csv_file_path_1, csv_file_path_2],\n",
    ")\n",
    "\n",
    "# Step 2: Create a thread\n",
    "thread_id = await agent.create_thread()"
   ]
  },
  {
   "cell_type": "markdown",
   "metadata": {},
   "source": [
    "## Helper Methods\n",
    "This will download any files created by the agent"
   ]
  },
  {
   "cell_type": "code",
   "execution_count": null,
   "metadata": {},
   "outputs": [],
   "source": [
    "async def download_file_content(agent, file_id: str):\n",
    "    try:\n",
    "        # Fetch the content of the file using the provided method\n",
    "        response_content = await agent.client.files.content(file_id)\n",
    "\n",
    "        # Get the current working directory of the file\n",
    "        current_directory = \"../Data/skagents-output/\"\n",
    "\n",
    "        # Define the path to save the image in the current directory\n",
    "        file_path = os.path.join(\n",
    "            current_directory,  # Use the current directory of the file\n",
    "            f\"{file_id}.png\",  # You can modify this to use the actual filename with proper extension\n",
    "        )\n",
    "\n",
    "        # Save content to a file asynchronously\n",
    "        with open(file_path, \"wb\") as file:\n",
    "            file.write(response_content.content)\n",
    "\n",
    "        print(f\"File saved to: {file_path}\")\n",
    "    except Exception as e:\n",
    "        print(f\"An error occurred while downloading file {file_id}: {str(e)}\")\n",
    "\n",
    "\n",
    "async def download_response_image(agent, file_ids: list[str]):\n",
    "    if file_ids:\n",
    "        # Iterate over file_ids and download each one\n",
    "        for file_id in file_ids:\n",
    "            await download_file_content(agent, file_id)"
   ]
  },
  {
   "cell_type": "markdown",
   "metadata": {},
   "source": [
    "## Step 3-5: Helper Function\n",
    "3. Add a message to the thread\n",
    "4. Run the Assistant\n",
    "5. Display the Assistant's Response"
   ]
  },
  {
   "cell_type": "code",
   "execution_count": null,
   "metadata": {},
   "outputs": [],
   "source": [
    "async def run_agent(user_question):\n",
    "    # File IDs to store the references to the files\n",
    "    file_ids: list[str] = []\n",
    "\n",
    "    # STEP 3: Add a user question to the thread\n",
    "    await agent.add_chat_message(\n",
    "        thread_id=thread_id, \n",
    "        message=ChatMessageContent(role=AuthorRole.USER, content=user_question)\n",
    "    )\n",
    "\n",
    "    # STEP 4: Invoke the agent to get a response\n",
    "    async for response in agent.invoke(thread_id=thread_id):\n",
    "        # check if the response contains any code\n",
    "        if response.metadata.get(\"code\"):\n",
    "            print(\"\\n\" + \"Code from Agent:\")\n",
    "            #STEP 5: Print the Assistant response\n",
    "            print(f\"{response.content}\", end=\"\", flush=True)        \n",
    "        else:\n",
    "            #STEP 5: Print the Assistant response\n",
    "            print(f\"{response.content}\", end=\"\", flush=True)\n",
    "                    \n",
    "        print(\"\\n**************\")\n",
    "        #Check if the response contains any file references\n",
    "        file_ids.extend([\n",
    "            item.file_id for item in response.items if isinstance(item, FileReferenceContent)\n",
    "        ])\n",
    "\n",
    "    # Download the file content\n",
    "    await download_response_image(agent, file_ids)\n",
    "    file_ids.clear()\n"
   ]
  },
  {
   "cell_type": "code",
   "execution_count": 5,
   "metadata": {},
   "outputs": [
    {
     "name": "stdout",
     "output_type": "stream",
     "text": [
      "I will first examine the contents of the uploaded files to understand their structure and determine which one contains the population data. Let's begin by examining the contents of each file.\n",
      "**************\n",
      "\n",
      "Code from Agent:\n",
      "# Checking the contents of the first file\n",
      "file_path_1 = \"/mnt/data/assistant-NpDS2cBDGV93Gg8RcfVZYk\"\n",
      "file_path_2 = \"/mnt/data/assistant-CUgnuJbz6dMR2LFEMineVD\"\n",
      "\n",
      "import pandas as pd\n",
      "\n",
      "# Attempt to read the files\n",
      "try:\n",
      "    data_file_1 = pd.read_csv(file_path_1)\n",
      "    data_file_1.head()\n",
      "except Exception as e:\n",
      "    file_1_error = e\n",
      "\n",
      "try:\n",
      "    data_file_2 = pd.read_csv(file_path_2)\n",
      "    data_file_2.head()\n",
      "except Exception as e:\n",
      "    file_2_error = e\n",
      "\n",
      "data_file_1, data_file_2\n",
      "**************\n",
      "The first file contains data on countries, including a \"Population\" column, while the second file contains data on regions within countries.\n",
      "\n",
      "Given that the user's question pertains to the population of the country with the highest population, we should focus on the first file. \n",
      "\n",
      "Let's identify the country with the highest population from the first file.\n",
      "**************\n",
      "\n",
      "Code from Agent:\n",
      "# Identifying the country with the highest population in the first data file\n",
      "country_with_highest_population = data_file_1.loc[data_file_1['Population'].idxmax()]\n",
      "country_with_highest_population[['Country_Region', 'Population']]\n",
      "**************\n",
      "The country with the highest population is **China** with a population of **1,411,778,724**.\n",
      "**************\n"
     ]
    }
   ],
   "source": [
    "user_question = \"What is the population of the country with the highest population?\"\n",
    "await run_agent(user_question)"
   ]
  },
  {
   "cell_type": "markdown",
   "metadata": {},
   "source": [
    "## Appending Messages to the Thread"
   ]
  },
  {
   "cell_type": "code",
   "execution_count": 6,
   "metadata": {},
   "outputs": [
    {
     "name": "stdout",
     "output_type": "stream",
     "text": [
      "\n",
      "Code from Agent:\n",
      "# Identifying the country with the third highest population in the first data file\n",
      "sorted_population_data = data_file_1.sort_values(by='Population', ascending=False)\n",
      "third_place_country = sorted_population_data.iloc[2]\n",
      "third_place_country[['Country_Region', 'Population']]\n",
      "**************\n",
      "The country with the third highest population is the **United States** with a population of **329,466,283**.\n",
      "**************\n"
     ]
    }
   ],
   "source": [
    "user_question = \"What is in third place?\"\n",
    "await run_agent(user_question)"
   ]
  },
  {
   "cell_type": "code",
   "execution_count": 7,
   "metadata": {},
   "outputs": [
    {
     "name": "stdout",
     "output_type": "stream",
     "text": [
      "\n",
      "Code from Agent:\n",
      "import matplotlib.pyplot as plt\n",
      "\n",
      "# Top 10 countries by population\n",
      "top_10_countries = sorted_population_data.head(10)\n",
      "\n",
      "# Plotting the column chart\n",
      "plt.figure(figsize=(12, 8))\n",
      "bars = plt.bar(top_10_countries['Country_Region'], top_10_countries['Population'], color='skyblue')\n",
      "plt.xlabel('Country')\n",
      "plt.ylabel('Population')\n",
      "plt.title('Top 10 Countries by Population')\n",
      "plt.xticks(rotation=45, ha='right')\n",
      "\n",
      "# Adding values at the top of each column\n",
      "for bar in bars:\n",
      "    yval = bar.get_height()\n",
      "    plt.text(bar.get_x() + bar.get_width()/2, yval, int(yval), ha='center', va='bottom')\n",
      "\n",
      "plt.tight_layout()\n",
      "plt.show()\n",
      "**************\n",
      "Here is a column chart displaying the top 10 countries by population, with the population values shown at the top of each column.\n",
      "**************\n",
      "File saved to: ../Data/skagents-output/assistant-8UksxG43cnwvE9gmpH3daN.png\n"
     ]
    }
   ],
   "source": [
    "user_question = \"Give me a column chart of the top 10 countries by population. Add values at the top of each column\"\n",
    "await run_agent(user_question)"
   ]
  },
  {
   "cell_type": "code",
   "execution_count": null,
   "metadata": {},
   "outputs": [],
   "source": [
    "user_question = \"Provide a column chart for countries whose names start with the same letter and sort the x axis by highest count to lowest (include all countries). Add values on top of each column.\"\n",
    "await run_agent(user_question)"
   ]
  },
  {
   "cell_type": "markdown",
   "metadata": {},
   "source": [
    "## Deleting Files, Thread, Agent"
   ]
  },
  {
   "cell_type": "code",
   "execution_count": null,
   "metadata": {},
   "outputs": [],
   "source": [
    "if agent is not None:\n",
    "    [await agent.delete_file(file_id) for file_id in agent.code_interpreter_file_ids]\n",
    "    await agent.delete_thread(thread_id)\n",
    "    await agent.delete()"
   ]
  }
 ],
 "metadata": {
  "kernelspec": {
   "display_name": "Python 3",
   "language": "python",
   "name": "python3"
  },
  "language_info": {
   "codemirror_mode": {
    "name": "ipython",
    "version": 3
   },
   "file_extension": ".py",
   "mimetype": "text/x-python",
   "name": "python",
   "nbconvert_exporter": "python",
   "pygments_lexer": "ipython3",
   "version": "3.12.1"
  }
 },
 "nbformat": 4,
 "nbformat_minor": 2
}
