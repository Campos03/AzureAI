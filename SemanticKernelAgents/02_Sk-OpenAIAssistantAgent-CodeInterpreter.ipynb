{
 "cells": [
  {
   "cell_type": "markdown",
   "metadata": {},
   "source": [
    "# Semantic Kernel OpenAI Assistant Agent Code Interpreter"
   ]
  },
  {
   "cell_type": "markdown",
   "metadata": {},
   "source": [
    "## Prepare File Paths of our files to be added to agent"
   ]
  },
  {
   "cell_type": "code",
   "execution_count": 1,
   "metadata": {},
   "outputs": [],
   "source": [
    "import os\n",
    "\n",
    "# Let's form the file paths that we will later pass to the assistant\n",
    "csv_file_path_1 = os.path.join(\"../Data/population/\",\"PopulationByAdmin1.csv\",)\n",
    "\n",
    "csv_file_path_2 = os.path.join(\"../Data/population/\",\"PopulationByCountry.csv\",)"
   ]
  },
  {
   "cell_type": "markdown",
   "metadata": {},
   "source": [
    "## Step 1-2: Create an Agent and Thread"
   ]
  },
  {
   "cell_type": "code",
   "execution_count": 2,
   "metadata": {},
   "outputs": [],
   "source": [
    "from semantic_kernel.agents.open_ai.azure_assistant_agent import AzureAssistantAgent\n",
    "from semantic_kernel.contents.chat_message_content import ChatMessageContent\n",
    "from semantic_kernel.contents.file_reference_content import FileReferenceContent\n",
    "from semantic_kernel.contents.utils.author_role import AuthorRole\n",
    "from semantic_kernel.kernel import Kernel\n",
    "\n",
    "# Step 1: Create an assistant agent\n",
    "agent = await AzureAssistantAgent.create(\n",
    "        kernel=Kernel(),\n",
    "        service_id=\"agent\",\n",
    "        name=\"SK_OpenAI_Assistant_Agent_Code_Interpreter\",\n",
    "        instructions=\"\"\"\n",
    "                Analyze the available data to provide an answer to the user's question.\n",
    "                Always format response using markdown.\n",
    "                Always include a numerical index that starts at 1 for any lists or tables.\n",
    "                Always sort lists in ascending order.\n",
    "                \"\"\",\n",
    "        enable_code_interpreter=True,\n",
    "        code_interpreter_filenames=[csv_file_path_1, csv_file_path_2],\n",
    ")\n",
    "\n",
    "# Step 2: Create a thread\n",
    "thread_id = await agent.create_thread()"
   ]
  },
  {
   "cell_type": "markdown",
   "metadata": {},
   "source": [
    "## Helper Methods\n",
    "This will download any files created by the agent"
   ]
  },
  {
   "cell_type": "code",
   "execution_count": 3,
   "metadata": {},
   "outputs": [],
   "source": [
    "async def download_file_content(agent, file_id: str):\n",
    "    try:\n",
    "        # Fetch the content of the file using the provided method\n",
    "        response_content = await agent.client.files.content(file_id)\n",
    "\n",
    "        # Get the current working directory of the file\n",
    "        current_directory = \"../Data/skagents-output/\"\n",
    "\n",
    "        # Define the path to save the image in the current directory\n",
    "        file_path = os.path.join(\n",
    "            current_directory,  # Use the current directory of the file\n",
    "            f\"{file_id}.png\",  # You can modify this to use the actual filename with proper extension\n",
    "        )\n",
    "\n",
    "        # Save content to a file asynchronously\n",
    "        with open(file_path, \"wb\") as file:\n",
    "            file.write(response_content.content)\n",
    "\n",
    "        print(f\"File saved to: {file_path}\")\n",
    "    except Exception as e:\n",
    "        print(f\"An error occurred while downloading file {file_id}: {str(e)}\")\n",
    "\n",
    "\n",
    "async def download_response_image(agent, file_ids: list[str]):\n",
    "    if file_ids:\n",
    "        # Iterate over file_ids and download each one\n",
    "        for file_id in file_ids:\n",
    "            await download_file_content(agent, file_id)"
   ]
  },
  {
   "cell_type": "markdown",
   "metadata": {},
   "source": [
    "## Step 3-5: Helper Function\n",
    "3. Add a message to the thread\n",
    "4. Run the Assistant\n",
    "5. Display the Assistant's Response"
   ]
  },
  {
   "cell_type": "code",
   "execution_count": 4,
   "metadata": {},
   "outputs": [],
   "source": [
    "async def run_agent(user_question):\n",
    "    # File IDs to store the references to the files\n",
    "    file_ids: list[str] = []\n",
    "\n",
    "    # STEP 3: Add a user question to the thread\n",
    "    await agent.add_chat_message(\n",
    "        thread_id=thread_id, \n",
    "        message=ChatMessageContent(role=AuthorRole.USER, content=user_question)\n",
    "    )\n",
    "\n",
    "    # STEP 4: Invoke the agent to get a response\n",
    "    async for response in agent.invoke(thread_id=thread_id):\n",
    "        # check if the response contains any code\n",
    "        if response.metadata.get(\"code\"):\n",
    "            print(\"\\n\" + \"Code from Agent:\")\n",
    "            #STEP 5: Print the Assistant response\n",
    "            print(f\"{response.content}\", end=\"\", flush=True)        \n",
    "        else:\n",
    "            #STEP 5: Print the Assistant response\n",
    "            print(f\"{response.content}\", end=\"\", flush=True)\n",
    "                    \n",
    "        print(\"\\n**************\")\n",
    "        #Check if the response contains any file references\n",
    "        file_ids.extend([\n",
    "            item.file_id for item in response.items if isinstance(item, FileReferenceContent)\n",
    "        ])\n",
    "\n",
    "    # Download the file content\n",
    "    await download_response_image(agent, file_ids)\n",
    "    file_ids.clear()\n"
   ]
  },
  {
   "cell_type": "code",
   "execution_count": 5,
   "metadata": {},
   "outputs": [
    {
     "name": "stdout",
     "output_type": "stream",
     "text": [
      "\n",
      "Code from Agent:\n",
      "import pandas as pd\n",
      "\n",
      "# Load the data from the uploaded files\n",
      "file_1 = '/mnt/data/assistant-JjnuKunz2Qn5eZT8wuzYtG'\n",
      "file_2 = '/mnt/data/assistant-4UHpGiZJ5QXYCKJtD9HQ2H'\n",
      "\n",
      "# Display the content of the files\n",
      "data_1 = pd.read_excel(file_1)\n",
      "data_2 = pd.read_excel(file_2)\n",
      "\n",
      "data_1.head(), data_2.head()\n",
      "**************\n",
      "\n",
      "Code from Agent:\n",
      "# Try loading the data again but specifying the excel engine as 'openpyxl' in case it's an .xlsx\n",
      "data_1 = pd.read_excel(file_1, engine='openpyxl')\n",
      "data_2 = pd.read_excel(file_2, engine='openpyxl')\n",
      "\n",
      "data_1.head(), data_2.head()\n",
      "**************\n",
      "It appears that the files are not recognized as Excel (.xlsx) files. They might be in a different format. Let's attempt to load the files as CSVs or other common data formats and inspect their content.\n",
      "**************\n",
      "\n",
      "Code from Agent:\n",
      "# Try loading the data as CSV files\n",
      "data_1 = pd.read_csv(file_1)\n",
      "data_2 = pd.read_csv(file_2)\n",
      "\n",
      "data_1.head(), data_2.head()\n",
      "**************\n",
      "The first file (`data_1`) contains population data at the country level, and the second file (`data_2`) seems to contain data at the province/state level within countries.\n",
      "\n",
      "To answer the question about the country with the highest population, we should focus on `data_1`.\n",
      "\n",
      "Let's find the country with the highest population from `data_1`.\n",
      "**************\n",
      "\n",
      "Code from Agent:\n",
      "# Find the country with the highest population in data_1\n",
      "max_population_country = data_1.loc[data_1['Population'].idxmax()]\n",
      "\n",
      "max_population_country[['Country_Region', 'Population']]\n",
      "**************\n",
      "The country with the highest population is **China** with a population of **1,411,778,724**.\n",
      "**************\n"
     ]
    }
   ],
   "source": [
    "user_question = \"What is the population of the country with the highest population?\"\n",
    "await run_agent(user_question)"
   ]
  },
  {
   "cell_type": "markdown",
   "metadata": {},
   "source": [
    "## Appending Messages to the Thread"
   ]
  },
  {
   "cell_type": "code",
   "execution_count": 6,
   "metadata": {},
   "outputs": [
    {
     "name": "stdout",
     "output_type": "stream",
     "text": [
      "\n",
      "Code from Agent:\n",
      "# Sort data by population in descending order and get the third highest population country\n",
      "sorted_data = data_1.sort_values(by='Population', ascending=False)\n",
      "third_place_country = sorted_data.iloc[2]\n",
      "\n",
      "third_place_country[['Country_Region', 'Population']]\n",
      "**************\n",
      "The country in third place in terms of population is the **United States** with a population of **329,466,283**.\n",
      "**************\n"
     ]
    }
   ],
   "source": [
    "user_question = \"What is in third place?\"\n",
    "await run_agent(user_question)"
   ]
  },
  {
   "cell_type": "code",
   "execution_count": 7,
   "metadata": {},
   "outputs": [
    {
     "name": "stdout",
     "output_type": "stream",
     "text": [
      "\n",
      "Code from Agent:\n",
      "import matplotlib.pyplot as plt\n",
      "\n",
      "# Get the top 10 countries by population\n",
      "top_10_countries = sorted_data.head(10)\n",
      "\n",
      "# Create a bar plot\n",
      "plt.figure(figsize=(14, 8))\n",
      "bars = plt.bar(top_10_countries['Country_Region'], top_10_countries['Population'], color='skyblue')\n",
      "\n",
      "# Add values on top of each bar\n",
      "for bar in bars:\n",
      "    yval = bar.get_height()\n",
      "    plt.text(bar.get_x() + bar.get_width()/2 - 0.2, yval + 10000000, int(yval), va='bottom') \n",
      "\n",
      "plt.xlabel(\"Country\")\n",
      "plt.ylabel(\"Population\")\n",
      "plt.title(\"Top 10 Countries by Population\")\n",
      "plt.xticks(rotation=45)\n",
      "plt.show()\n",
      "**************\n",
      "Here is a column chart displaying the top 10 countries by population, with the population values displayed at the top of each column.\n",
      "**************\n",
      "File saved to: ../Data/skagents-output/assistant-EAifEhQZZTYbdKa3eJJuCf.png\n"
     ]
    }
   ],
   "source": [
    "user_question = \"Give me a column chart of the top 10 countries by population. Add values at the top of each column\"\n",
    "await run_agent(user_question)"
   ]
  },
  {
   "cell_type": "code",
   "execution_count": null,
   "metadata": {},
   "outputs": [
    {
     "name": "stdout",
     "output_type": "stream",
     "text": [
      "\n",
      "Code from Agent:\n",
      "# Create a bar plot with the specifications mentioned and save it as a JPG\n",
      "plt.figure(figsize=(14, 8))\n",
      "bars = plt.bar(letter_counts.index, letter_counts.values, color='lightcoral')\n",
      "\n",
      "# Add values on top of each bar\n",
      "for bar in bars:\n",
      "    yval = bar.get_height()\n",
      "    plt.text(bar.get_x() + bar.get_width()/2 - 0.1, yval + 0.2, int(yval), va='bottom') \n",
      "\n",
      "plt.xlabel(\"First Letter of Country Name\")\n",
      "plt.ylabel(\"Number of Countries\")\n",
      "plt.title(\"Number of Countries by First Letter of Name\")\n",
      "plt.xticks(rotation=0)\n",
      "\n",
      "# Save the plot as a JPG\n",
      "plt.savefig('/mnt/data/countries_by_first_letter.jpg', format='jpg')\n",
      "plt.show()\n",
      "**************\n",
      "The column chart has been saved as a JPG file. You can download it using the link below:\n",
      "\n",
      "[Download the chart](sandbox:/mnt/data/countries_by_first_letter.jpg)\n",
      "**************\n",
      "File saved to: ../Data/skagents-output/assistant-XiyxAvdeGFgQJDNKLpww2U.png\n"
     ]
    }
   ],
   "source": [
    "user_question = \"Provide a column chart for countries whose names start with the same letter and sort the x axis by highest count to lowest (include all countries). Add values on top of each column.\"\n",
    "await run_agent(user_question)"
   ]
  },
  {
   "cell_type": "markdown",
   "metadata": {},
   "source": [
    "## Deleting Files, Thread, Agent"
   ]
  },
  {
   "cell_type": "code",
   "execution_count": 11,
   "metadata": {},
   "outputs": [],
   "source": [
    "if agent is not None:\n",
    "    [await agent.delete_file(file_id) for file_id in agent.code_interpreter_file_ids]\n",
    "    await agent.delete_thread(thread_id)\n",
    "    await agent.delete()"
   ]
  }
 ],
 "metadata": {
  "kernelspec": {
   "display_name": "Python 3",
   "language": "python",
   "name": "python3"
  },
  "language_info": {
   "codemirror_mode": {
    "name": "ipython",
    "version": 3
   },
   "file_extension": ".py",
   "mimetype": "text/x-python",
   "name": "python",
   "nbconvert_exporter": "python",
   "pygments_lexer": "ipython3",
   "version": "3.12.1"
  }
 },
 "nbformat": 4,
 "nbformat_minor": 2
}
