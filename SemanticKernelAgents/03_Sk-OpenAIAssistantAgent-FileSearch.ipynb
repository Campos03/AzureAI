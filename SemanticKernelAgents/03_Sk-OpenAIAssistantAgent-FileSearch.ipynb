{
 "cells": [
  {
   "cell_type": "markdown",
   "metadata": {},
   "source": [
    "# Semantic Kernel OpenAI Assistant Agent File Search"
   ]
  },
  {
   "cell_type": "markdown",
   "metadata": {},
   "source": [
    "## Prepare the files"
   ]
  },
  {
   "cell_type": "code",
   "execution_count": 33,
   "metadata": {},
   "outputs": [
    {
     "name": "stdout",
     "output_type": "stream",
     "text": [
      "['page-49.pdf', 'page-161.pdf', 'page-151.pdf', 'page-129.pdf', 'page-165.pdf', 'page-11.pdf', 'page-115.pdf', 'page-23.pdf', 'page-105.pdf', 'page-159.pdf', 'page-141.pdf', 'page-81.pdf', 'page-167.pdf', 'page-155.pdf', 'page-73.pdf', 'page-15.pdf', 'page-21.pdf', 'page-65.pdf', 'page-131.pdf', 'page-35.pdf', 'page-171.pdf', 'page-9.pdf', 'page-94.pdf', 'page-77.pdf', 'page-157.pdf', 'page-7.pdf', 'page-31.pdf', 'page-85.pdf', 'page-117.pdf', 'page-61.pdf', 'page-101.pdf', 'page-91.pdf', 'page-123.pdf', 'page-57.pdf', 'page-127.pdf', 'page-51.pdf', 'page-55.pdf', 'page-95.pdf', 'page-45.pdf', 'page-133.pdf', 'page-39.pdf', 'page-83.pdf', 'page-87.pdf', 'page-67.pdf', 'page-119.pdf', 'page-8.pdf', 'page-134.pdf', 'page-173.pdf', 'page-153.pdf', 'page-125.pdf', 'page-59.pdf', 'page-33.pdf', 'page-89.pdf', 'page-121.pdf', 'page-163.pdf', 'page-169.pdf', 'page-79.pdf', 'page-69.pdf', 'page-19.pdf', 'page-41.pdf', 'page-145.pdf', 'page-137.pdf', 'page-17.pdf', 'page-135.pdf', 'page-13.pdf', 'page-168.pdf', 'page-109.pdf', 'page-178.pdf', 'page-27.pdf', 'page-71.pdf', 'page-75.pdf', 'page-43.pdf', 'page-63.pdf', 'page-25.pdf', 'page-111.pdf', 'page-139.pdf', 'page-147.pdf', 'page-143.pdf', 'page-93.pdf', 'page-107.pdf', 'page-99.pdf', 'page-103.pdf', 'page-176.pdf', 'page-175.pdf']\n"
     ]
    }
   ],
   "source": [
    "import os\n",
    "\n",
    "file_directory = \"../Data/nasabooks\"\n",
    "\n",
    "# List all files in the directory\n",
    "try:\n",
    "    filenames = os.listdir(file_directory)\n",
    "    print(filenames)\n",
    "except FileNotFoundError:\n",
    "    print(f\"Directory '{file_directory}' not found.\")\n",
    "\n",
    "# Get the full path of a file\n",
    "def get_filepath_for_filename(filename: str) -> str:\n",
    "    base_directory = file_directory\n",
    "    return os.path.join(base_directory, filename)\n",
    "\n"
   ]
  },
  {
   "cell_type": "markdown",
   "metadata": {},
   "source": [
    "## Reformat citations with the proper filenames"
   ]
  },
  {
   "cell_type": "code",
   "execution_count": 34,
   "metadata": {},
   "outputs": [],
   "source": [
    "from semantic_kernel.contents.annotation_content import AnnotationContent\n",
    "\n",
    "async def reformat_citations(agent, response):\n",
    "    # Extract the annotations\n",
    "    annotations = [item for item in response.items if isinstance(item, AnnotationContent)]\n",
    "    \n",
    "    # Original response\n",
    "    paragraph = response.content\n",
    "    \n",
    "    # Dictionary to store key-value pairs of text and filename\n",
    "    text_filename_pairs = {}\n",
    "\n",
    "    # Iterate over the annotations and extract the relevant information\n",
    "    for annotation in annotations:\n",
    "        file_id = annotation.file_id\n",
    "        text = annotation.quote\n",
    "        # Retrieve the filename from the file_id\n",
    "        cited_file = await agent.client.files.retrieve(file_id)\n",
    "        filename = cited_file.filename\n",
    "\n",
    "        if text not in text_filename_pairs:\n",
    "            text_filename_pairs[text] = []\n",
    "        text_filename_pairs[text].append(filename)\n",
    "\n",
    "    # Replace the citation texts with their corresponding filenames prefixed with \" Source: \"\n",
    "    for text, filenames in text_filename_pairs.items():\n",
    "        sources = \" Source: \" + \", \".join(filenames)\n",
    "        paragraph = paragraph.replace(text, sources)\n",
    "\n",
    "    return paragraph"
   ]
  },
  {
   "cell_type": "markdown",
   "metadata": {},
   "source": [
    "## Step 1-2: Create an Agent and Thread"
   ]
  },
  {
   "cell_type": "code",
   "execution_count": 35,
   "metadata": {},
   "outputs": [],
   "source": [
    "from semantic_kernel.agents.open_ai.azure_assistant_agent import AzureAssistantAgent\n",
    "from semantic_kernel.contents.chat_message_content import ChatMessageContent\n",
    "from semantic_kernel.contents.utils.author_role import AuthorRole\n",
    "from semantic_kernel.kernel import Kernel\n",
    "\n",
    "# Step 1: Create an assistant agent\n",
    "agent = await AzureAssistantAgent.create(\n",
    "        kernel=Kernel(),\n",
    "        service_id=\"agent\",\n",
    "        name=\"SK_OpenAI_Assistant_Agent_File_Search\",\n",
    "        instructions=\"\"\"\n",
    "            The document store contains pages from a Nasa book.\n",
    "            Always analyze the document store to provide an answer to the user's question.\n",
    "            Never rely on your knowledge of information not included in the document store.\n",
    "            Always format response using markdown.\n",
    "            \"\"\",\n",
    "        enable_file_search=True,\n",
    "        vector_store_filenames=[get_filepath_for_filename(filename) for filename in filenames],\n",
    "    )\n",
    "\n",
    "# Step 2: Create a thread\n",
    "thread_id = await agent.create_thread()"
   ]
  },
  {
   "cell_type": "markdown",
   "metadata": {},
   "source": [
    "## Step 3-6: Helper Function \n",
    "3. Add a message to the thread\n",
    "4. Run the Assistant\n",
    "5. Display the Assistant's Response"
   ]
  },
  {
   "cell_type": "code",
   "execution_count": 36,
   "metadata": {},
   "outputs": [],
   "source": [
    "async def run_agent(user_question):\n",
    "    # STEP 3: Add a user question to the thread\n",
    "    await agent.add_chat_message(\n",
    "            thread_id=thread_id, \n",
    "            message=ChatMessageContent(role=AuthorRole.USER, content=user_question)\n",
    "    )\n",
    "\n",
    "    # STEP 4: Invoke the agent to get a response\n",
    "    async for response in agent.invoke(thread_id=thread_id):\n",
    "        annotations = [item for item in response.items if isinstance(item, AnnotationContent)]\n",
    "        #STEP 5: Print the Assistant response\n",
    "        if annotations is None:\n",
    "            print(f\"{response.content}\", end=\"\", flush=True)\n",
    "        else:\n",
    "            print(f\"{await reformat_citations(agent,response)}\", end=\"\", flush=True)"
   ]
  },
  {
   "cell_type": "code",
   "execution_count": 37,
   "metadata": {},
   "outputs": [
    {
     "name": "stdout",
     "output_type": "stream",
     "text": [
      "The wide floodplains in Queensland, particularly in the Channel Country area, are thought to be caused by the extreme variation in water and sediment discharges from the rivers such as the Georgina, Burke, and Hamilton rivers. The area experiences significant fluctuations in rainfall, ranging from years with no rainfall to years with modest rainfall, and occasionally, years with extremely high discharges due to tropical storms. These variations lead to the formation of semi-permanent wetlands and extensive floodplains when the high water flows inundate the entire floodplain area Source: page-49.pdf, page-163.pdf."
     ]
    }
   ],
   "source": [
    "user_question = \"How did the wide floodplains in Queensland originate?\"\n",
    "await run_agent(user_question)"
   ]
  },
  {
   "cell_type": "markdown",
   "metadata": {},
   "source": [
    "## Appending Messages to the Thread"
   ]
  },
  {
   "cell_type": "code",
   "execution_count": 38,
   "metadata": {},
   "outputs": [
    {
     "name": "stdout",
     "output_type": "stream",
     "text": [
      "The Lower Amazon River is formed where the Rio Solimões, carrying sediment from the Andes Mountains, meets the Rio Negro, with its nearly sediment-free, dark, tea-colored waters from the Colombian hills and jungles. When these two rivers converge east of Manaus, Brazil, they initially flow side by side in the same channel for a few kilometers. The cooler, denser, faster waters of the Solimões and the warmer, slower waters of the Negro create a visibly distinct boundary. Turbulent eddies eventually mix the two, resulting in the formation of the Lower Amazon River Source: page-61.pdf, page-111.pdf."
     ]
    }
   ],
   "source": [
    "user_question = \"What forms the Lower Amazon River?\"\n",
    "await run_agent(user_question)"
   ]
  },
  {
   "cell_type": "markdown",
   "metadata": {},
   "source": [
    "## Display Chat History"
   ]
  },
  {
   "cell_type": "code",
   "execution_count": 39,
   "metadata": {},
   "outputs": [
    {
     "name": "stdout",
     "output_type": "stream",
     "text": [
      "AuthorRole.ASSISTANT : The Lower Amazon River is formed where the Rio Solimões, carrying sediment from the Andes Mountains, meets the Rio Negro, with its nearly sediment-free, dark, tea-colored waters from the Colombian hills and jungles. When these two rivers converge east of Manaus, Brazil, they initially flow side by side in the same channel for a few kilometers. The cooler, denser, faster waters of the Solimões and the warmer, slower waters of the Negro create a visibly distinct boundary. Turbulent eddies eventually mix the two, resulting in the formation of the Lower Amazon River【8:0†source】.\n",
      "AuthorRole.USER : What forms the Lower Amazon River?\n",
      "AuthorRole.ASSISTANT : The wide floodplains in Queensland, particularly in the Channel Country area, are thought to be caused by the extreme variation in water and sediment discharges from the rivers such as the Georgina, Burke, and Hamilton rivers. The area experiences significant fluctuations in rainfall, ranging from years with no rainfall to years with modest rainfall, and occasionally, years with extremely high discharges due to tropical storms. These variations lead to the formation of semi-permanent wetlands and extensive floodplains when the high water flows inundate the entire floodplain area【4:0†source】.\n",
      "AuthorRole.USER : How did the wide floodplains in Queensland originate?\n"
     ]
    }
   ],
   "source": [
    "async for message in agent.get_thread_messages(thread_id):\n",
    "    print(f\"{message.role} : {message.content}\")"
   ]
  },
  {
   "cell_type": "markdown",
   "metadata": {},
   "source": [
    "## Deleting Files, Thread, Agent"
   ]
  },
  {
   "cell_type": "code",
   "execution_count": 40,
   "metadata": {},
   "outputs": [],
   "source": [
    "if agent is not None:\n",
    "    [await agent.delete_file(file_id) for file_id in agent.file_search_file_ids]\n",
    "    await agent.delete_thread(thread_id)\n",
    "    await agent.delete()\n"
   ]
  }
 ],
 "metadata": {
  "kernelspec": {
   "display_name": "Python 3",
   "language": "python",
   "name": "python3"
  },
  "language_info": {
   "codemirror_mode": {
    "name": "ipython",
    "version": 3
   },
   "file_extension": ".py",
   "mimetype": "text/x-python",
   "name": "python",
   "nbconvert_exporter": "python",
   "pygments_lexer": "ipython3",
   "version": "3.12.1"
  }
 },
 "nbformat": 4,
 "nbformat_minor": 2
}
