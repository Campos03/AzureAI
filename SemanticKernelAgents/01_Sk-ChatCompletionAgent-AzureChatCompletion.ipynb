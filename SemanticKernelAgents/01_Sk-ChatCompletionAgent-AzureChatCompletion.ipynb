{
 "cells": [
  {
   "cell_type": "markdown",
   "metadata": {},
   "source": [
    "# Semantic Kernal Chat Completion Agent - AzureChatCompletion Example\n",
    "\n",
    "Travel Agent"
   ]
  },
  {
   "cell_type": "markdown",
   "metadata": {},
   "source": [
    "## Install Dependencies"
   ]
  },
  {
   "cell_type": "code",
   "execution_count": 2,
   "metadata": {},
   "outputs": [
    {
     "name": "stdout",
     "output_type": "stream",
     "text": [
      "Requirement already satisfied: semantic-kernel in /home/codespace/.python/current/lib/python3.12/site-packages (1.18.1)\n",
      "Collecting semantic-kernel\n",
      "  Downloading semantic_kernel-1.28.1-py3-none-any.whl.metadata (11 kB)\n",
      "Requirement already satisfied: aiohttp~=3.8 in /home/codespace/.python/current/lib/python3.12/site-packages (from semantic-kernel) (3.11.16)\n",
      "Requirement already satisfied: cloudevents~=1.0 in /home/codespace/.python/current/lib/python3.12/site-packages (from semantic-kernel) (1.11.0)\n",
      "Requirement already satisfied: pydantic!=2.10.0,!=2.10.1,!=2.10.2,!=2.10.3,<2.12,>=2.0 in /home/codespace/.python/current/lib/python3.12/site-packages (from semantic-kernel) (2.10.4)\n",
      "Requirement already satisfied: pydantic-settings~=2.0 in /home/codespace/.python/current/lib/python3.12/site-packages (from semantic-kernel) (2.7.0)\n",
      "Requirement already satisfied: defusedxml~=0.7 in /home/codespace/.local/lib/python3.12/site-packages (from semantic-kernel) (0.7.1)\n",
      "Requirement already satisfied: azure-identity>=1.13 in /home/codespace/.python/current/lib/python3.12/site-packages (from semantic-kernel) (1.19.0)\n",
      "Requirement already satisfied: numpy>=1.26.0 in /home/codespace/.python/current/lib/python3.12/site-packages (from semantic-kernel) (1.26.4)\n",
      "Requirement already satisfied: openai>=1.67 in /home/codespace/.python/current/lib/python3.12/site-packages (from semantic-kernel) (1.68.2)\n",
      "Requirement already satisfied: openapi_core<0.20,>=0.18 in /home/codespace/.python/current/lib/python3.12/site-packages (from semantic-kernel) (0.19.4)\n",
      "Requirement already satisfied: websockets<16,>=13 in /home/codespace/.python/current/lib/python3.12/site-packages (from semantic-kernel) (14.1)\n",
      "Collecting aiortc>=1.9.0 (from semantic-kernel)\n",
      "  Downloading aiortc-1.11.0-cp39-abi3-manylinux_2_17_x86_64.manylinux2014_x86_64.whl.metadata (5.4 kB)\n",
      "Requirement already satisfied: opentelemetry-api~=1.24 in /home/codespace/.python/current/lib/python3.12/site-packages (from semantic-kernel) (1.31.1)\n",
      "Requirement already satisfied: opentelemetry-sdk~=1.24 in /home/codespace/.python/current/lib/python3.12/site-packages (from semantic-kernel) (1.31.1)\n",
      "Requirement already satisfied: prance~=23.6.21.0 in /home/codespace/.python/current/lib/python3.12/site-packages (from semantic-kernel) (23.6.21.0)\n",
      "Requirement already satisfied: pybars4~=0.9 in /home/codespace/.python/current/lib/python3.12/site-packages (from semantic-kernel) (0.9.13)\n",
      "Requirement already satisfied: jinja2~=3.1 in /home/codespace/.python/current/lib/python3.12/site-packages (from semantic-kernel) (3.1.6)\n",
      "Requirement already satisfied: nest-asyncio~=1.6 in /home/codespace/.local/lib/python3.12/site-packages (from semantic-kernel) (1.6.0)\n",
      "Collecting scipy>=1.15.1 (from semantic-kernel)\n",
      "  Downloading scipy-1.15.2-cp312-cp312-manylinux_2_17_x86_64.manylinux2014_x86_64.whl.metadata (61 kB)\n",
      "Requirement already satisfied: aiohappyeyeballs>=2.3.0 in /home/codespace/.python/current/lib/python3.12/site-packages (from aiohttp~=3.8->semantic-kernel) (2.4.4)\n",
      "Requirement already satisfied: aiosignal>=1.1.2 in /home/codespace/.python/current/lib/python3.12/site-packages (from aiohttp~=3.8->semantic-kernel) (1.3.1)\n",
      "Requirement already satisfied: attrs>=17.3.0 in /home/codespace/.local/lib/python3.12/site-packages (from aiohttp~=3.8->semantic-kernel) (24.2.0)\n",
      "Requirement already satisfied: frozenlist>=1.1.1 in /home/codespace/.python/current/lib/python3.12/site-packages (from aiohttp~=3.8->semantic-kernel) (1.5.0)\n",
      "Requirement already satisfied: multidict<7.0,>=4.5 in /home/codespace/.python/current/lib/python3.12/site-packages (from aiohttp~=3.8->semantic-kernel) (6.1.0)\n",
      "Requirement already satisfied: propcache>=0.2.0 in /home/codespace/.python/current/lib/python3.12/site-packages (from aiohttp~=3.8->semantic-kernel) (0.2.1)\n",
      "Requirement already satisfied: yarl<2.0,>=1.17.0 in /home/codespace/.python/current/lib/python3.12/site-packages (from aiohttp~=3.8->semantic-kernel) (1.18.3)\n",
      "Collecting aioice<1.0.0,>=0.9.0 (from aiortc>=1.9.0->semantic-kernel)\n",
      "  Downloading aioice-0.10.1-py3-none-any.whl.metadata (4.1 kB)\n",
      "Collecting av<15.0.0,>=14.0.0 (from aiortc>=1.9.0->semantic-kernel)\n",
      "  Downloading av-14.3.0-cp312-cp312-manylinux_2_17_x86_64.manylinux2014_x86_64.whl.metadata (4.7 kB)\n",
      "Requirement already satisfied: cffi>=1.0.0 in /home/codespace/.local/lib/python3.12/site-packages (from aiortc>=1.9.0->semantic-kernel) (1.17.1)\n",
      "Collecting cryptography>=44.0.0 (from aiortc>=1.9.0->semantic-kernel)\n",
      "  Downloading cryptography-44.0.2-cp39-abi3-manylinux_2_28_x86_64.whl.metadata (5.7 kB)\n",
      "Requirement already satisfied: google-crc32c>=1.1 in /home/codespace/.python/current/lib/python3.12/site-packages (from aiortc>=1.9.0->semantic-kernel) (1.6.0)\n",
      "Collecting pyee>=13.0.0 (from aiortc>=1.9.0->semantic-kernel)\n",
      "  Downloading pyee-13.0.0-py3-none-any.whl.metadata (2.9 kB)\n",
      "Collecting pylibsrtp>=0.10.0 (from aiortc>=1.9.0->semantic-kernel)\n",
      "  Downloading pylibsrtp-0.12.0-cp39-abi3-manylinux_2_17_x86_64.manylinux2014_x86_64.whl.metadata (4.1 kB)\n",
      "Collecting pyopenssl>=25.0.0 (from aiortc>=1.9.0->semantic-kernel)\n",
      "  Downloading pyOpenSSL-25.0.0-py3-none-any.whl.metadata (16 kB)\n",
      "Requirement already satisfied: azure-core>=1.31.0 in /home/codespace/.python/current/lib/python3.12/site-packages (from azure-identity>=1.13->semantic-kernel) (1.32.0)\n",
      "Requirement already satisfied: msal>=1.30.0 in /home/codespace/.python/current/lib/python3.12/site-packages (from azure-identity>=1.13->semantic-kernel) (1.31.1)\n",
      "Requirement already satisfied: msal-extensions>=1.2.0 in /home/codespace/.python/current/lib/python3.12/site-packages (from azure-identity>=1.13->semantic-kernel) (1.2.0)\n",
      "Requirement already satisfied: typing-extensions>=4.0.0 in /home/codespace/.python/current/lib/python3.12/site-packages (from azure-identity>=1.13->semantic-kernel) (4.12.2)\n",
      "Requirement already satisfied: deprecation<3.0,>=2.0 in /home/codespace/.python/current/lib/python3.12/site-packages (from cloudevents~=1.0->semantic-kernel) (2.1.0)\n",
      "Requirement already satisfied: MarkupSafe>=2.0 in /home/codespace/.local/lib/python3.12/site-packages (from jinja2~=3.1->semantic-kernel) (2.1.5)\n",
      "Requirement already satisfied: anyio<5,>=3.5.0 in /home/codespace/.python/current/lib/python3.12/site-packages (from openai>=1.67->semantic-kernel) (4.9.0)\n",
      "Requirement already satisfied: distro<2,>=1.7.0 in /home/codespace/.python/current/lib/python3.12/site-packages (from openai>=1.67->semantic-kernel) (1.9.0)\n",
      "Requirement already satisfied: httpx<1,>=0.23.0 in /home/codespace/.local/lib/python3.12/site-packages (from openai>=1.67->semantic-kernel) (0.27.2)\n",
      "Requirement already satisfied: jiter<1,>=0.4.0 in /home/codespace/.python/current/lib/python3.12/site-packages (from openai>=1.67->semantic-kernel) (0.8.2)\n",
      "Requirement already satisfied: sniffio in /home/codespace/.local/lib/python3.12/site-packages (from openai>=1.67->semantic-kernel) (1.3.1)\n",
      "Requirement already satisfied: tqdm>4 in /home/codespace/.python/current/lib/python3.12/site-packages (from openai>=1.67->semantic-kernel) (4.67.1)\n",
      "Requirement already satisfied: isodate in /home/codespace/.python/current/lib/python3.12/site-packages (from openapi_core<0.20,>=0.18->semantic-kernel) (0.7.2)\n",
      "Requirement already satisfied: jsonschema<5.0.0,>=4.18.0 in /home/codespace/.local/lib/python3.12/site-packages (from openapi_core<0.20,>=0.18->semantic-kernel) (4.23.0)\n",
      "Requirement already satisfied: jsonschema-path<0.4.0,>=0.3.1 in /home/codespace/.python/current/lib/python3.12/site-packages (from openapi_core<0.20,>=0.18->semantic-kernel) (0.3.3)\n",
      "Requirement already satisfied: more-itertools in /home/codespace/.python/current/lib/python3.12/site-packages (from openapi_core<0.20,>=0.18->semantic-kernel) (10.5.0)\n",
      "Requirement already satisfied: openapi-schema-validator<0.7.0,>=0.6.0 in /home/codespace/.python/current/lib/python3.12/site-packages (from openapi_core<0.20,>=0.18->semantic-kernel) (0.6.2)\n",
      "Requirement already satisfied: openapi-spec-validator<0.8.0,>=0.7.1 in /home/codespace/.python/current/lib/python3.12/site-packages (from openapi_core<0.20,>=0.18->semantic-kernel) (0.7.1)\n",
      "Requirement already satisfied: parse in /home/codespace/.python/current/lib/python3.12/site-packages (from openapi_core<0.20,>=0.18->semantic-kernel) (1.20.2)\n",
      "Requirement already satisfied: werkzeug in /home/codespace/.python/current/lib/python3.12/site-packages (from openapi_core<0.20,>=0.18->semantic-kernel) (3.1.3)\n",
      "Requirement already satisfied: deprecated>=1.2.6 in /home/codespace/.python/current/lib/python3.12/site-packages (from opentelemetry-api~=1.24->semantic-kernel) (1.2.15)\n",
      "Requirement already satisfied: importlib-metadata<8.7.0,>=6.0 in /home/codespace/.python/current/lib/python3.12/site-packages (from opentelemetry-api~=1.24->semantic-kernel) (8.4.0)\n",
      "Requirement already satisfied: opentelemetry-semantic-conventions==0.52b1 in /home/codespace/.python/current/lib/python3.12/site-packages (from opentelemetry-sdk~=1.24->semantic-kernel) (0.52b1)\n",
      "Requirement already satisfied: chardet>=3.0 in /home/codespace/.python/current/lib/python3.12/site-packages (from prance~=23.6.21.0->semantic-kernel) (5.2.0)\n",
      "Requirement already satisfied: ruamel.yaml>=0.17.10 in /home/codespace/.python/current/lib/python3.12/site-packages (from prance~=23.6.21.0->semantic-kernel) (0.18.6)\n",
      "Requirement already satisfied: requests>=2.25 in /home/codespace/.local/lib/python3.12/site-packages (from prance~=23.6.21.0->semantic-kernel) (2.32.3)\n",
      "Requirement already satisfied: six~=1.15 in /home/codespace/.local/lib/python3.12/site-packages (from prance~=23.6.21.0->semantic-kernel) (1.16.0)\n",
      "Requirement already satisfied: packaging>=21.3 in /home/codespace/.local/lib/python3.12/site-packages (from prance~=23.6.21.0->semantic-kernel) (24.1)\n",
      "Requirement already satisfied: PyMeta3>=0.5.1 in /home/codespace/.python/current/lib/python3.12/site-packages (from pybars4~=0.9->semantic-kernel) (0.5.1)\n",
      "Requirement already satisfied: annotated-types>=0.6.0 in /home/codespace/.python/current/lib/python3.12/site-packages (from pydantic!=2.10.0,!=2.10.1,!=2.10.2,!=2.10.3,<2.12,>=2.0->semantic-kernel) (0.7.0)\n",
      "Requirement already satisfied: pydantic-core==2.27.2 in /home/codespace/.python/current/lib/python3.12/site-packages (from pydantic!=2.10.0,!=2.10.1,!=2.10.2,!=2.10.3,<2.12,>=2.0->semantic-kernel) (2.27.2)\n",
      "Requirement already satisfied: python-dotenv>=0.21.0 in /home/codespace/.python/current/lib/python3.12/site-packages (from pydantic-settings~=2.0->semantic-kernel) (1.0.1)\n",
      "Collecting dnspython>=2.0.0 (from aioice<1.0.0,>=0.9.0->aiortc>=1.9.0->semantic-kernel)\n",
      "  Downloading dnspython-2.7.0-py3-none-any.whl.metadata (5.8 kB)\n",
      "Collecting ifaddr>=0.2.0 (from aioice<1.0.0,>=0.9.0->aiortc>=1.9.0->semantic-kernel)\n",
      "  Downloading ifaddr-0.2.0-py3-none-any.whl.metadata (4.9 kB)\n",
      "Requirement already satisfied: idna>=2.8 in /home/codespace/.local/lib/python3.12/site-packages (from anyio<5,>=3.5.0->openai>=1.67->semantic-kernel) (3.10)\n",
      "Requirement already satisfied: pycparser in /home/codespace/.local/lib/python3.12/site-packages (from cffi>=1.0.0->aiortc>=1.9.0->semantic-kernel) (2.22)\n",
      "Requirement already satisfied: wrapt<2,>=1.10 in /home/codespace/.python/current/lib/python3.12/site-packages (from deprecated>=1.2.6->opentelemetry-api~=1.24->semantic-kernel) (1.17.0)\n",
      "Requirement already satisfied: certifi in /home/codespace/.local/lib/python3.12/site-packages (from httpx<1,>=0.23.0->openai>=1.67->semantic-kernel) (2024.8.30)\n",
      "Requirement already satisfied: httpcore==1.* in /home/codespace/.local/lib/python3.12/site-packages (from httpx<1,>=0.23.0->openai>=1.67->semantic-kernel) (1.0.5)\n",
      "Requirement already satisfied: h11<0.15,>=0.13 in /home/codespace/.local/lib/python3.12/site-packages (from httpcore==1.*->httpx<1,>=0.23.0->openai>=1.67->semantic-kernel) (0.14.0)\n",
      "Requirement already satisfied: zipp>=0.5 in /home/codespace/.python/current/lib/python3.12/site-packages (from importlib-metadata<8.7.0,>=6.0->opentelemetry-api~=1.24->semantic-kernel) (3.21.0)\n",
      "Requirement already satisfied: jsonschema-specifications>=2023.03.6 in /home/codespace/.local/lib/python3.12/site-packages (from jsonschema<5.0.0,>=4.18.0->openapi_core<0.20,>=0.18->semantic-kernel) (2023.12.1)\n",
      "Requirement already satisfied: referencing>=0.28.4 in /home/codespace/.local/lib/python3.12/site-packages (from jsonschema<5.0.0,>=4.18.0->openapi_core<0.20,>=0.18->semantic-kernel) (0.35.1)\n",
      "Requirement already satisfied: rpds-py>=0.7.1 in /home/codespace/.local/lib/python3.12/site-packages (from jsonschema<5.0.0,>=4.18.0->openapi_core<0.20,>=0.18->semantic-kernel) (0.20.0)\n",
      "Requirement already satisfied: PyYAML>=5.1 in /home/codespace/.local/lib/python3.12/site-packages (from jsonschema-path<0.4.0,>=0.3.1->openapi_core<0.20,>=0.18->semantic-kernel) (6.0.2)\n",
      "Requirement already satisfied: pathable<0.5.0,>=0.4.1 in /home/codespace/.python/current/lib/python3.12/site-packages (from jsonschema-path<0.4.0,>=0.3.1->openapi_core<0.20,>=0.18->semantic-kernel) (0.4.3)\n",
      "Requirement already satisfied: PyJWT<3,>=1.0.0 in /home/codespace/.python/current/lib/python3.12/site-packages (from PyJWT[crypto]<3,>=1.0.0->msal>=1.30.0->azure-identity>=1.13->semantic-kernel) (2.10.1)\n",
      "Requirement already satisfied: portalocker<3,>=1.4 in /home/codespace/.python/current/lib/python3.12/site-packages (from msal-extensions>=1.2.0->azure-identity>=1.13->semantic-kernel) (2.10.1)\n",
      "Requirement already satisfied: rfc3339-validator in /home/codespace/.local/lib/python3.12/site-packages (from openapi-schema-validator<0.7.0,>=0.6.0->openapi_core<0.20,>=0.18->semantic-kernel) (0.1.4)\n",
      "Requirement already satisfied: lazy-object-proxy<2.0.0,>=1.7.1 in /home/codespace/.python/current/lib/python3.12/site-packages (from openapi-spec-validator<0.8.0,>=0.7.1->openapi_core<0.20,>=0.18->semantic-kernel) (1.10.0)\n",
      "Requirement already satisfied: charset-normalizer<4,>=2 in /home/codespace/.local/lib/python3.12/site-packages (from requests>=2.25->prance~=23.6.21.0->semantic-kernel) (3.3.2)\n",
      "Requirement already satisfied: urllib3<3,>=1.21.1 in /home/codespace/.local/lib/python3.12/site-packages (from requests>=2.25->prance~=23.6.21.0->semantic-kernel) (2.2.3)\n",
      "Requirement already satisfied: ruamel.yaml.clib>=0.2.7 in /home/codespace/.python/current/lib/python3.12/site-packages (from ruamel.yaml>=0.17.10->prance~=23.6.21.0->semantic-kernel) (0.2.12)\n",
      "Downloading semantic_kernel-1.28.1-py3-none-any.whl (809 kB)\n",
      "\u001b[2K   \u001b[90m━━━━━━━━━━━━━━━━━━━━━━━━━━━━━━━━━━━━━━━━\u001b[0m \u001b[32m809.6/809.6 kB\u001b[0m \u001b[31m32.0 MB/s\u001b[0m eta \u001b[36m0:00:00\u001b[0m\n",
      "\u001b[?25hDownloading aiortc-1.11.0-cp39-abi3-manylinux_2_17_x86_64.manylinux2014_x86_64.whl (1.9 MB)\n",
      "\u001b[2K   \u001b[90m━━━━━━━━━━━━━━━━━━━━━━━━━━━━━━━━━━━━━━━━\u001b[0m \u001b[32m1.9/1.9 MB\u001b[0m \u001b[31m43.4 MB/s\u001b[0m eta \u001b[36m0:00:00\u001b[0m\n",
      "\u001b[?25hDownloading scipy-1.15.2-cp312-cp312-manylinux_2_17_x86_64.manylinux2014_x86_64.whl (37.3 MB)\n",
      "\u001b[2K   \u001b[90m━━━━━━━━━━━━━━━━━━━━━━━━━━━━━━━━━━━━━━━━\u001b[0m \u001b[32m37.3/37.3 MB\u001b[0m \u001b[31m53.4 MB/s\u001b[0m eta \u001b[36m0:00:00\u001b[0m:00:01\u001b[0m\n",
      "\u001b[?25hDownloading aioice-0.10.1-py3-none-any.whl (24 kB)\n",
      "Downloading av-14.3.0-cp312-cp312-manylinux_2_17_x86_64.manylinux2014_x86_64.whl (35.4 MB)\n",
      "\u001b[2K   \u001b[90m━━━━━━━━━━━━━━━━━━━━━━━━━━━━━━━━━━━━━━━━\u001b[0m \u001b[32m35.4/35.4 MB\u001b[0m \u001b[31m43.7 MB/s\u001b[0m eta \u001b[36m0:00:00\u001b[0m:00:01\u001b[0m00:01\u001b[0m\n",
      "\u001b[?25hDownloading cryptography-44.0.2-cp39-abi3-manylinux_2_28_x86_64.whl (4.2 MB)\n",
      "\u001b[2K   \u001b[90m━━━━━━━━━━━━━━━━━━━━━━━━━━━━━━━━━━━━━━━━\u001b[0m \u001b[32m4.2/4.2 MB\u001b[0m \u001b[31m48.6 MB/s\u001b[0m eta \u001b[36m0:00:00\u001b[0m\n",
      "\u001b[?25hDownloading pyee-13.0.0-py3-none-any.whl (15 kB)\n",
      "Downloading pylibsrtp-0.12.0-cp39-abi3-manylinux_2_17_x86_64.manylinux2014_x86_64.whl (2.2 MB)\n",
      "\u001b[2K   \u001b[90m━━━━━━━━━━━━━━━━━━━━━━━━━━━━━━━━━━━━━━━━\u001b[0m \u001b[32m2.2/2.2 MB\u001b[0m \u001b[31m45.2 MB/s\u001b[0m eta \u001b[36m0:00:00\u001b[0m\n",
      "\u001b[?25hDownloading pyOpenSSL-25.0.0-py3-none-any.whl (56 kB)\n",
      "Downloading dnspython-2.7.0-py3-none-any.whl (313 kB)\n",
      "Downloading ifaddr-0.2.0-py3-none-any.whl (12 kB)\n",
      "Installing collected packages: ifaddr, scipy, pyee, dnspython, av, pylibsrtp, cryptography, aioice, pyopenssl, aiortc, semantic-kernel\n",
      "  Attempting uninstall: scipy\n",
      "    Found existing installation: scipy 1.14.1\n",
      "    Uninstalling scipy-1.14.1:\n",
      "      Successfully uninstalled scipy-1.14.1\n",
      "  Attempting uninstall: pyee\n",
      "    Found existing installation: pyee 12.0.0\n",
      "    Uninstalling pyee-12.0.0:\n",
      "      Successfully uninstalled pyee-12.0.0\n",
      "  Attempting uninstall: cryptography\n",
      "    Found existing installation: cryptography 43.0.3\n",
      "    Uninstalling cryptography-43.0.3:\n",
      "      Successfully uninstalled cryptography-43.0.3\n",
      "  Attempting uninstall: semantic-kernel\n",
      "    Found existing installation: semantic-kernel 1.18.1\n",
      "    Uninstalling semantic-kernel-1.18.1:\n",
      "      Successfully uninstalled semantic-kernel-1.18.1\n",
      "\u001b[31mERROR: pip's dependency resolver does not currently take into account all the packages that are installed. This behaviour is the source of the following dependency conflicts.\n",
      "promptflow-devkit 1.16.2 requires pillow<11.0.0,>=10.1.0, but you have pillow 11.1.0 which is incompatible.\n",
      "unstructured-client 0.28.1 requires pydantic<2.10.0,>=2.9.2, but you have pydantic 2.10.4 which is incompatible.\n",
      "playwright 1.49.1 requires pyee==12.0.0, but you have pyee 13.0.0 which is incompatible.\n",
      "auth0-python 4.7.2 requires cryptography<44.0.0,>=43.0.1, but you have cryptography 44.0.2 which is incompatible.\u001b[0m\u001b[31m\n",
      "\u001b[0mSuccessfully installed aioice-0.10.1 aiortc-1.11.0 av-14.3.0 cryptography-44.0.2 dnspython-2.7.0 ifaddr-0.2.0 pyee-13.0.0 pylibsrtp-0.12.0 pyopenssl-25.0.0 scipy-1.15.2 semantic-kernel-1.28.1\n",
      "Note: you may need to restart the kernel to use updated packages.\n"
     ]
    }
   ],
   "source": [
    "%pip install --upgrade semantic-kernel\n"
   ]
  },
  {
   "cell_type": "markdown",
   "metadata": {},
   "source": [
    "## Create a Plugin\n",
    "https://learn.microsoft.com/en-us/semantic-kernel/concepts/ai-services/chat-completion/function-calling/?pivots=programming-language-python"
   ]
  },
  {
   "cell_type": "code",
   "execution_count": 7,
   "metadata": {},
   "outputs": [],
   "source": [
    "from semantic_kernel.functions.kernel_function_decorator import kernel_function\n",
    "from typing import Annotated\n",
    "\n",
    "# Define a sample plugin for the sample\n",
    "class TravelPlugin:\n",
    "    \"\"\"A sample Travel Plugin used for the concept sample.\"\"\"\n",
    "\n",
    "    @kernel_function(description=\"Provides a list of countries.\")\n",
    "    def get_countries(self) -> Annotated[str, \"Returns the countries that you can book.\"]:\n",
    "        return \"\"\"\n",
    "            United States\n",
    "            Australia\n",
    "            France\n",
    "        \"\"\"\n",
    "    \n",
    "    @kernel_function(description=\"Provides the restaurants based on the country\")\n",
    "    def get_restaurants(self, \n",
    "        country: Annotated[str, \"The name of the country\"]) -> Annotated[str, \"Returns the restaurants for the country.\"]:\n",
    "        if country == \"United States\":\n",
    "            return \"\"\"\n",
    "                US Restaurants: A, B, C, D, E\n",
    "            \"\"\"\n",
    "        elif country == \"Australia\":\n",
    "            return \"\"\"\n",
    "                Australia Restaurants: F, G, H, I, J\n",
    "            \"\"\"\n",
    "        elif country == \"France\":\n",
    "            return \"\"\"\n",
    "                France Restaurants: K, L, M, N, O            \n",
    "            \"\"\"\n",
    "        else:\n",
    "            return \"Country not found\"\n",
    "    \n",
    "    @kernel_function(description=\"Provides the hotels based on the country\")\n",
    "    def get_hotels(self, \n",
    "        country: Annotated[str, \"The name of the country\"]) -> Annotated[str, \"Returns the hotels for the country.\"]:\n",
    "        if country == \"United States\":\n",
    "            return \"\"\"\n",
    "                US Hotels: US Hotel 1, US Hotel 2, US Hotel 3, US Hotel 4, US Hotel 5\n",
    "            \"\"\"\n",
    "        elif country == \"Australia\":\n",
    "            return \"\"\"\n",
    "                Australia Hotels: Australia Hotel 6, Australia Hotel 7, Australia Hotel 8, Australia Hotel 9, Australia Hotel 10\n",
    "            \"\"\"\n",
    "        elif country == \"France\":\n",
    "            return \"\"\"\n",
    "                France Hotels: France Hotel 11, France Hotel 12, France Hotel 13, France Hotel 14, France Hotel 15            \n",
    "            \"\"\"\n",
    "        else:\n",
    "            return \"Country not found\"\n",
    "\n",
    "    @kernel_function(description=\"Provides the typical travel budget for a country\")\n",
    "    def get_travel_budget(self, \n",
    "        country: Annotated[str, \"The name of the country\"]) -> Annotated[str, \"Returns the budget for the country.\"]:\n",
    "        if country == \"United States\":\n",
    "            return \"\"\"\n",
    "                Budget Travelers: Around $121 per day. This includes staying in hostels, eating at budget restaurants, and using public transportation.\n",
    "                Mid-Range Travelers: Approximately $324 per day. This covers mid-range hotels, dining at average restaurants, and some paid attractions.\n",
    "                Luxury Travelers: About $923 per day. This includes luxury hotels, fine dining, and private transportation.\n",
    "            \"\"\"\n",
    "        elif country == \"Australia\":\n",
    "            return \"\"\"\n",
    "                Budget Travelers: Around $75 per day. This includes staying in hostels, cooking your own meals, and using public transport.\n",
    "                Mid-Range Travelers: Approximately $195 per day. This covers mid-range hotels, dining at average restaurants, and some paid attractions.\n",
    "                Luxury Travelers: About $517 per day. This includes luxury hotels, fine dining, and private transportation.\n",
    "            \"\"\"\n",
    "        elif country == \"France\":\n",
    "            return \"\"\"\n",
    "                Budget Travelers: Around $100 per day. This includes staying in hostels, eating at budget restaurants, and using public transportation.\n",
    "                Mid-Range Travelers: Approximately $286 per day. This covers mid-range hotels, dining at average restaurants, and some paid attractions.\n",
    "                Luxury Travelers: About $908 per day. This includes luxury hotels, fine dining, and private transportation.            \n",
    "            \"\"\"\n",
    "        else:\n",
    "            return \"Country not found\"\n",
    "    \n",
    "    @kernel_function(description=\"Provides the weather for a country\")\n",
    "    def get_weather(self, \n",
    "        country: Annotated[str, \"The name of the country\"]) -> Annotated[str, \"Returns the weather for the country.\"]:\n",
    "        if country == \"United States\":\n",
    "            return \"\"\"\n",
    "                The United States has a diverse climate. In general:\n",
    "                - **Winter**: Cold in the north, mild in the south. Average temperatures range from 26.6°F (-3°C) in Alaska to 70.7°F (21.5°C) in Florida.\n",
    "                - **Summer**: Hot and humid in the south, dry in the west. Average temperatures range from 52.7°F (11.5°C) to 70.7°F (21.5°C).\n",
    "            \"\"\"\n",
    "        elif country == \"Australia\":\n",
    "            return \"\"\"\n",
    "                Australia experiences varied climates:\n",
    "                - **Winter**: Mild in the north, cooler in the south. Average temperatures range from 46°F (8°C) in Canberra to 77°F (25°C) in Darwin.\n",
    "                - **Summer**: Hot and dry in the interior, humid in the north. Average temperatures range from 68°F (20°C) in Hobart to 91°F (33°C) in Darwin.\n",
    "            \"\"\"\n",
    "        elif country == \"France\":\n",
    "            return \"\"\"\n",
    "                France has several climate zones:\n",
    "                - **Winter**: Cold in the north, mild in the south. Average temperatures range from 35.5°F (2°C) in the northeast to 48°F (9°C) in the south.\n",
    "                - **Summer**: Warm and sunny. Average temperatures range from 63°F (17°C) in the north to 77°F (25°C) along the Mediterranean coast.\n",
    "            \"\"\"\n",
    "        else:\n",
    "            return \"Country not found\"\n",
    "    \n",
    "    @kernel_function(description=\"Provides the best attractions for a country\")\n",
    "    def get_attractions(self, \n",
    "        country: Annotated[str, \"The name of the country\"]) -> Annotated[str, \"Returns the attractions for a specific country.\"]:\n",
    "        if country == \"United States\":\n",
    "            return \"\"\"\n",
    "                Disneyland, Grand Canyon, Statue of Liberty, Yellowstone National Park, Golden Gate Bridge\n",
    "            \"\"\"\n",
    "        elif country == \"Australia\":\n",
    "            return \"\"\"\n",
    "                Sydney Opera House, Great Barrier Reef, Uluru, Bondi Beach, Daintree Rainforest\n",
    "            \"\"\"\n",
    "        elif country == \"France\":\n",
    "            return \"\"\"\n",
    "                Eiffel Tower, Louvre Museum, Palace of Versailles, Mont Saint-Michel, French Riviera            \n",
    "            \"\"\"\n",
    "        else:\n",
    "            return \"Country not found\"\n",
    "    "
   ]
  },
  {
   "cell_type": "markdown",
   "metadata": {},
   "source": [
    "## Agent definition and setup\n"
   ]
  },
  {
   "cell_type": "code",
   "execution_count": 8,
   "metadata": {},
   "outputs": [],
   "source": [
    "from semantic_kernel.agents import ChatCompletionAgent, ChatHistoryAgentThread\n",
    "from semantic_kernel.connectors.ai.function_choice_behavior import FunctionChoiceBehavior\n",
    "from semantic_kernel.connectors.ai.open_ai import AzureChatCompletion\n",
    "from semantic_kernel.kernel import Kernel\n",
    "from semantic_kernel.functions import KernelArguments\n",
    "\n",
    "# Create the instance of the Kernel\n",
    "kernel = Kernel()\n",
    "\n",
    "# Add the AzureChatCompletion AI Service to the Kernel\n",
    "azure_service_id = \"azure\"\n",
    "kernel.add_service(AzureChatCompletion(service_id=azure_service_id))\n",
    "\n",
    "settings = kernel.get_prompt_execution_settings_from_service_id(service_id=azure_service_id)\n",
    "# Configure the function choice behavior to auto invoke kernel functions\n",
    "settings.function_choice_behavior = FunctionChoiceBehavior.Auto()\n",
    "\n",
    "# Add the plugin to the kernel\n",
    "kernel.add_plugin(TravelPlugin(), plugin_name=\"TravelPlugin\")\n",
    "\n",
    "# Create the agent\n",
    "agent = ChatCompletionAgent(\n",
    "    kernel=kernel, \n",
    "    name=\"TravelAgent\", \n",
    "    instructions=\"Answer questions about the travel.\", \n",
    "    arguments=KernelArguments(\n",
    "        settings=settings,\n",
    "    ),\n",
    ")\n",
    "\n",
    "# Start by creating a ChatHistoryAgentThread object to maintain the conversation state\n",
    "thread: ChatHistoryAgentThread = None\n"
   ]
  },
  {
   "cell_type": "markdown",
   "metadata": {},
   "source": [
    "## Accepting User Input and Displaying Agent Response\n",
    "\n",
    "Sample Questions:\n",
    "1. What countries can I go to?\n",
    "2. What is the weather in the United States?\n",
    "3. If I have a budget of $300, where can I go for 4 days?"
   ]
  },
  {
   "cell_type": "code",
   "execution_count": 9,
   "metadata": {},
   "outputs": [
    {
     "name": "stdout",
     "output_type": "stream",
     "text": [
      "You can visit the following countries:\n",
      "- United States\n",
      "- Australia\n",
      "- France\n"
     ]
    }
   ],
   "source": [
    "user_input = \"Where can i go?\"\n",
    "async for response in agent.invoke(messages=user_input, thread=thread):\n",
    "    print(f\"{response.content}\")\n",
    "    thread = response.thread\n"
   ]
  },
  {
   "cell_type": "code",
   "execution_count": 10,
   "metadata": {},
   "outputs": [
    {
     "name": "stdout",
     "output_type": "stream",
     "text": [
      "If you are visiting France, you can see the following attractions:\n",
      "- Eiffel Tower\n",
      "- Louvre Museum\n",
      "- Palace of Versailles\n",
      "- Mont Saint-Michel\n",
      "- French Riviera\n"
     ]
    }
   ],
   "source": [
    "user_input = \"If I am visiting France, what can I see there?\"\n",
    "async for response in agent.invoke(messages=user_input, thread=thread):\n",
    "    print(f\"{response.content}\")\n",
    "    thread = response.thread"
   ]
  },
  {
   "cell_type": "code",
   "execution_count": 4,
   "metadata": {},
   "outputs": [
    {
     "name": "stdout",
     "output_type": "stream",
     "text": [
      "In France, you can stay at the following hotels:\n",
      "1. France Hotel 11\n",
      "2. France Hotel 12\n",
      "3. France Hotel 13\n",
      "4. France Hotel 14\n",
      "5. France Hotel 15\n"
     ]
    }
   ],
   "source": [
    "user_input = \"What hotel can I stay in France?\"\n",
    "async for response in agent.invoke(messages=user_input, thread=thread):\n",
    "    print(f\"{response.content}\")\n",
    "    thread = response.thread\n"
   ]
  },
  {
   "cell_type": "code",
   "execution_count": 5,
   "metadata": {},
   "outputs": [
    {
     "name": "stdout",
     "output_type": "stream",
     "text": [
      "France has several climate zones:\n",
      "\n",
      "- **Winter**: Cold in the north, mild in the south. Average temperatures range from 35.5°F (2°C) in the northeast to 48°F (9°C) in the south.\n",
      "- **Summer**: Warm and sunny. Average temperatures range from 63°F (17°C) in the north to 77°F (25°C) along the Mediterranean coast.\n"
     ]
    }
   ],
   "source": [
    "user_input = \"What is the weather there?\"\n",
    "async for response in agent.invoke(messages=user_input, thread=thread):\n",
    "    print(f\"{response.content}\")\n",
    "    thread = response.thread"
   ]
  },
  {
   "cell_type": "code",
   "execution_count": 6,
   "metadata": {},
   "outputs": [
    {
     "name": "stdout",
     "output_type": "stream",
     "text": [
      "Based on a 4-day trip with a budget of $300:\n",
      "\n",
      "1. **United States**:\n",
      "   - **Budget Travelers**: Around $121 per day. This would exceed your budget as it totals around $484 for 4 days.\n",
      "\n",
      "2. **Australia**:\n",
      "   - **Budget Travelers**: Around $75 per day. This fits within your budget as it totals around $300 for 4 days.\n",
      "\n",
      "3. **France**:\n",
      "   - **Budget Travelers**: Around $100 per day. This fits within your budget as it totals around $400 for 4 days.\n",
      "\n",
      "### Conclusion:\n",
      "You can travel to **Australia** within your budget for 4 days.\n"
     ]
    }
   ],
   "source": [
    "user_input = \"If I have a budget of $300, where can I go for 4 days?\"\n",
    "async for response in agent.invoke(messages=user_input, thread=thread):\n",
    "    print(f\"{response.content}\")\n",
    "    thread = response.thread"
   ]
  },
  {
   "cell_type": "code",
   "execution_count": 20,
   "metadata": {},
   "outputs": [
    {
     "name": "stdout",
     "output_type": "stream",
     "text": [
      "You can dine at the following restaurants in France:\n",
      "\n",
      "1. K\n",
      "2. L\n",
      "3. M\n",
      "4. N\n",
      "5. O\n"
     ]
    }
   ],
   "source": [
    "user_input = \"San ako pwede kumain sa France?\"\n",
    "async for response in agent.invoke(messages=user_input, thread=thread):\n",
    "    print(f\"{response.content}\")\n",
    "    thread = response.thread"
   ]
  }
 ],
 "metadata": {
  "kernelspec": {
   "display_name": "Python 3",
   "language": "python",
   "name": "python3"
  },
  "language_info": {
   "codemirror_mode": {
    "name": "ipython",
    "version": 3
   },
   "file_extension": ".py",
   "mimetype": "text/x-python",
   "name": "python",
   "nbconvert_exporter": "python",
   "pygments_lexer": "ipython3",
   "version": "3.12.1"
  }
 },
 "nbformat": 4,
 "nbformat_minor": 2
}
