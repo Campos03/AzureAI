{
 "cells": [
  {
   "cell_type": "markdown",
   "metadata": {},
   "source": [
    "# Semantic Kernal Chat Completion Agent - AzureChatCompletion Example\n",
    "\n",
    "Travel Agent"
   ]
  },
  {
   "cell_type": "markdown",
   "metadata": {},
   "source": [
    "## Install Dependencies"
   ]
  },
  {
   "cell_type": "code",
   "execution_count": null,
   "metadata": {},
   "outputs": [],
   "source": [
    "%pip install semantic-kernel"
   ]
  },
  {
   "cell_type": "markdown",
   "metadata": {},
   "source": [
    "## Create a Plugin\n",
    "https://learn.microsoft.com/en-us/semantic-kernel/concepts/ai-services/chat-completion/function-calling/?pivots=programming-language-python"
   ]
  },
  {
   "cell_type": "code",
   "execution_count": 6,
   "metadata": {},
   "outputs": [],
   "source": [
    "from semantic_kernel.functions.kernel_function_decorator import kernel_function\n",
    "from typing import Annotated\n",
    "\n",
    "# Define a sample plugin for the sample\n",
    "class TravelPlugin:\n",
    "    \"\"\"A sample Travel Plugin used for the concept sample.\"\"\"\n",
    "\n",
    "    @kernel_function(description=\"Provides a list of countries.\")\n",
    "    def get_countries(self) -> Annotated[str, \"Returns the countries that you can book.\"]:\n",
    "        return \"\"\"\n",
    "            United States\n",
    "            Australia\n",
    "            France\n",
    "        \"\"\"\n",
    "    \n",
    "    @kernel_function(description=\"Provides the hotels based on the country\")\n",
    "    def get_hotels(self, \n",
    "        country: Annotated[str, \"The name of the country\"]) -> Annotated[str, \"Returns the hotels for the country.\"]:\n",
    "        if country == \"United States\":\n",
    "            return \"\"\"\n",
    "                US Hotels: US Hotel 1, US Hotel 2, US Hotel 3, US Hotel 4, US Hotel 5\n",
    "            \"\"\"\n",
    "        elif country == \"Australia\":\n",
    "            return \"\"\"\n",
    "                Australia Hotels: Australia Hotel 6, Australia Hotel 7, Australia Hotel 8, Australia Hotel 9, Australia Hotel 10\n",
    "            \"\"\"\n",
    "        elif country == \"France\":\n",
    "            return \"\"\"\n",
    "                France Hotels: France Hotel 11, France Hotel 12, France Hotel 13, France Hotel 14, France Hotel 15            \n",
    "            \"\"\"\n",
    "        else:\n",
    "            return \"Country not found\"\n",
    "\n",
    "    @kernel_function(description=\"Provides the typical travel budget for a country\")\n",
    "    def get_travel_budget(self, \n",
    "        country: Annotated[str, \"The name of the country\"]) -> Annotated[str, \"Returns the budget for the country.\"]:\n",
    "        if country == \"United States\":\n",
    "            return \"\"\"\n",
    "                Budget Travelers: Around $121 per day. This includes staying in hostels, eating at budget restaurants, and using public transportation.\n",
    "                Mid-Range Travelers: Approximately $324 per day. This covers mid-range hotels, dining at average restaurants, and some paid attractions.\n",
    "                Luxury Travelers: About $923 per day. This includes luxury hotels, fine dining, and private transportation.\n",
    "            \"\"\"\n",
    "        elif country == \"Australia\":\n",
    "            return \"\"\"\n",
    "                Budget Travelers: Around $75 per day. This includes staying in hostels, cooking your own meals, and using public transport.\n",
    "                Mid-Range Travelers: Approximately $195 per day. This covers mid-range hotels, dining at average restaurants, and some paid attractions.\n",
    "                Luxury Travelers: About $517 per day. This includes luxury hotels, fine dining, and private transportation.\n",
    "            \"\"\"\n",
    "        elif country == \"France\":\n",
    "            return \"\"\"\n",
    "                Budget Travelers: Around $100 per day. This includes staying in hostels, eating at budget restaurants, and using public transportation.\n",
    "                Mid-Range Travelers: Approximately $286 per day. This covers mid-range hotels, dining at average restaurants, and some paid attractions.\n",
    "                Luxury Travelers: About $908 per day. This includes luxury hotels, fine dining, and private transportation.            \n",
    "            \"\"\"\n",
    "        else:\n",
    "            return \"Country not found\"\n",
    "    \n",
    "    @kernel_function(description=\"Provides the weather for a country\")\n",
    "    def get_weather(self, \n",
    "        country: Annotated[str, \"The name of the country\"]) -> Annotated[str, \"Returns the weather for the country.\"]:\n",
    "        if country == \"United States\":\n",
    "            return \"\"\"\n",
    "                The United States has a diverse climate. In general:\n",
    "                - **Winter**: Cold in the north, mild in the south. Average temperatures range from 26.6°F (-3°C) in Alaska to 70.7°F (21.5°C) in Florida.\n",
    "                - **Summer**: Hot and humid in the south, dry in the west. Average temperatures range from 52.7°F (11.5°C) to 70.7°F (21.5°C).\n",
    "            \"\"\"\n",
    "        elif country == \"Australia\":\n",
    "            return \"\"\"\n",
    "                Australia experiences varied climates:\n",
    "                - **Winter**: Mild in the north, cooler in the south. Average temperatures range from 46°F (8°C) in Canberra to 77°F (25°C) in Darwin.\n",
    "                - **Summer**: Hot and dry in the interior, humid in the north. Average temperatures range from 68°F (20°C) in Hobart to 91°F (33°C) in Darwin.\n",
    "            \"\"\"\n",
    "        elif country == \"France\":\n",
    "            return \"\"\"\n",
    "                France has several climate zones:\n",
    "                - **Winter**: Cold in the north, mild in the south. Average temperatures range from 35.5°F (2°C) in the northeast to 48°F (9°C) in the south.\n",
    "                - **Summer**: Warm and sunny. Average temperatures range from 63°F (17°C) in the north to 77°F (25°C) along the Mediterranean coast.\n",
    "            \"\"\"\n",
    "        else:\n",
    "            return \"Country not found\"\n",
    "    "
   ]
  },
  {
   "cell_type": "markdown",
   "metadata": {},
   "source": [
    "## Helper Method\n",
    "\n",
    "With ChatCompletionAgent, developer must manually maintain the Chat History"
   ]
  },
  {
   "cell_type": "code",
   "execution_count": 2,
   "metadata": {},
   "outputs": [],
   "source": [
    "import asyncio\n",
    "from semantic_kernel.agents import ChatCompletionAgent\n",
    "from semantic_kernel.connectors.ai.function_choice_behavior import FunctionChoiceBehavior\n",
    "from semantic_kernel.connectors.ai.open_ai import AzureChatCompletion\n",
    "from semantic_kernel.contents.chat_history import ChatHistory\n",
    "from semantic_kernel.contents.utils.author_role import AuthorRole\n",
    "from semantic_kernel.contents.chat_message_content import ChatMessageContent\n",
    "from semantic_kernel.kernel import Kernel\n",
    "\n",
    "\n",
    "# A helper method to invoke the agent with the user input, manage chat history, and print the messages\n",
    "async def invoke_agent(agent: ChatCompletionAgent, input: str, chat: ChatHistory) -> None:\n",
    "    \"\"\"Invoke the agent with the user input.\"\"\"\n",
    "\n",
    "    # Add the user message to the chat history\n",
    "    chat.add_user_message(input)\n",
    "\n",
    "    # Print the user input\n",
    "    print(f\"# {AuthorRole.USER}: '{input}'\")\n",
    "    \n",
    "    async for content in agent.invoke(chat):\n",
    "        # Print the agent response\n",
    "        print(f\"# {content.role} - {content.name or '*'}: '{content.content}'\")\n",
    "        # Add the agent message to the chat history\n",
    "        chat.add_message(content)\n",
    "        await asyncio.sleep(5)\n"
   ]
  },
  {
   "cell_type": "code",
   "execution_count": 3,
   "metadata": {},
   "outputs": [],
   "source": [
    "# Create the instance of the Kernel\n",
    "kernel = Kernel()\n",
    "\n",
    "azure_service_id = \"azure\"\n",
    "kernel.add_service(AzureChatCompletion(service_id=azure_service_id))\n",
    "\n",
    "settings = kernel.get_prompt_execution_settings_from_service_id(service_id=azure_service_id)\n",
    "# Configure the function choice behavior to auto invoke kernel functions\n",
    "settings.function_choice_behavior = FunctionChoiceBehavior.Auto()\n",
    "\n",
    "kernel.add_plugin(TravelPlugin(), plugin_name=\"TravelPlugin\")\n",
    "\n",
    "# Create the agent\n",
    "agent = ChatCompletionAgent(\n",
    "    service_id=azure_service_id, \n",
    "    kernel=kernel, \n",
    "    name=\"TravelAgent\", \n",
    "    instructions=\"Answer questions about the travel.\", \n",
    "    execution_settings=settings\n",
    ")\n",
    "\n",
    "# Define the chat history\n",
    "history = ChatHistory()"
   ]
  },
  {
   "cell_type": "markdown",
   "metadata": {},
   "source": [
    "## Accepting User Input and Displaying Agent Response\n",
    "\n",
    "Sample Questions:\n",
    "1. What countries can I go to?\n",
    "2. What is the weather in the United States?\n",
    "3. If I have a budget of $300, where can I go for 4 days?"
   ]
  },
  {
   "cell_type": "code",
   "execution_count": 4,
   "metadata": {},
   "outputs": [
    {
     "name": "stdout",
     "output_type": "stream",
     "text": [
      "# AuthorRole.USER: 'What countries can I go to?'\n",
      "# AuthorRole.ASSISTANT - TravelAgent: 'You can travel to the following countries:\n",
      "1. United States\n",
      "2. Australia\n",
      "3. France'\n"
     ]
    }
   ],
   "source": [
    "user_input = \"What countries can I go to?\"\n",
    "await invoke_agent(agent, user_input, history)\n"
   ]
  },
  {
   "cell_type": "code",
   "execution_count": 7,
   "metadata": {},
   "outputs": [
    {
     "name": "stdout",
     "output_type": "stream",
     "text": [
      "# AuthorRole.USER: 'What hotel can I stay in France?'\n",
      "# AuthorRole.ASSISTANT - TravelAgent: 'In France, you can stay in the following hotels:\n",
      "1. Hotel 11\n",
      "2. Hotel 12\n",
      "3. Hotel 13\n",
      "4. Hotel 14\n",
      "5. Hotel 15'\n"
     ]
    }
   ],
   "source": [
    "user_input = \"What hotel can I stay in France?\"\n",
    "await invoke_agent(agent, user_input, history)\n"
   ]
  },
  {
   "cell_type": "code",
   "execution_count": 8,
   "metadata": {},
   "outputs": [
    {
     "data": {
      "text/plain": [
       "[ChatMessageContent(inner_content=None, ai_model_id=None, metadata={}, content_type='message', role=<AuthorRole.USER: 'user'>, name=None, items=[TextContent(inner_content=None, ai_model_id=None, metadata={}, content_type='text', text='What countries can I go to?', encoding=None)], encoding=None, finish_reason=None),\n",
       " ChatMessageContent(inner_content=ChatCompletion(id='chatcmpl-BAUBuY0t3QE0lKfM6fq3NpeAvSxu9', choices=[Choice(finish_reason='tool_calls', index=0, logprobs=None, message=ChatCompletionMessage(content=None, refusal=None, role='assistant', audio=None, function_call=None, tool_calls=[ChatCompletionMessageToolCall(id='call_0x0Y96dK4vxPxHvMFsS8xe7n', function=Function(arguments='{}', name='TravelPlugin-get_countries'), type='function')]), content_filter_results={})], created=1741839034, model='gpt-4o-2024-05-13', object='chat.completion', service_tier=None, system_fingerprint='fp_ded0d14823', usage=CompletionUsage(completion_tokens=14, prompt_tokens=152, total_tokens=166, completion_tokens_details=CompletionTokensDetails(accepted_prediction_tokens=0, audio_tokens=0, reasoning_tokens=0, rejected_prediction_tokens=0), prompt_tokens_details=PromptTokensDetails(audio_tokens=0, cached_tokens=0)), prompt_filter_results=[{'prompt_index': 0, 'content_filter_results': {'hate': {'filtered': False, 'severity': 'safe'}, 'jailbreak': {'filtered': False, 'detected': False}, 'self_harm': {'filtered': False, 'severity': 'safe'}, 'sexual': {'filtered': False, 'severity': 'safe'}, 'violence': {'filtered': False, 'severity': 'safe'}}}]), ai_model_id='gpt-4o', metadata={'logprobs': None, 'id': 'chatcmpl-BAUBuY0t3QE0lKfM6fq3NpeAvSxu9', 'created': 1741839034, 'system_fingerprint': 'fp_ded0d14823', 'usage': CompletionUsage(prompt_tokens=152, completion_tokens=14)}, content_type='message', role=<AuthorRole.ASSISTANT: 'assistant'>, name='TravelAgent', items=[FunctionCallContent(inner_content=None, ai_model_id=None, metadata={}, content_type=<ContentTypes.FUNCTION_CALL_CONTENT: 'function_call'>, id='call_0x0Y96dK4vxPxHvMFsS8xe7n', index=None, name='TravelPlugin-get_countries', function_name='get_countries', plugin_name='TravelPlugin', arguments='{}')], encoding=None, finish_reason=<FinishReason.TOOL_CALLS: 'tool_calls'>),\n",
       " ChatMessageContent(inner_content=None, ai_model_id=None, metadata={}, content_type='message', role=<AuthorRole.TOOL: 'tool'>, name='TravelAgent', items=[FunctionResultContent(inner_content=FunctionResult(function=KernelFunctionMetadata(name='get_countries', plugin_name='TravelPlugin', description='Provides a list of countries.', parameters=[], is_prompt=False, is_asynchronous=False, return_parameter=KernelParameterMetadata(name='return', description='Returns the countries that you can book.', default_value=None, type_='str', is_required=True, type_object=<class 'str'>, schema_data={'type': 'string', 'description': 'Returns the countries that you can book.'}, include_in_function_choices=True), additional_properties={}), value='\\n            United States\\n            Australia\\n            France\\n        ', metadata={'arguments': {}, 'used_arguments': {}}), ai_model_id=None, metadata={'arguments': {}, 'used_arguments': {}}, content_type=<ContentTypes.FUNCTION_RESULT_CONTENT: 'function_result'>, id='call_0x0Y96dK4vxPxHvMFsS8xe7n', result='\\n            United States\\n            Australia\\n            France\\n        ', name='TravelPlugin-get_countries', function_name='get_countries', plugin_name='TravelPlugin', encoding=None)], encoding=None, finish_reason=None),\n",
       " ChatMessageContent(inner_content=ChatCompletion(id='chatcmpl-BAUBviJ7uCZqtfAlRozz38ZzEUBC2', choices=[Choice(finish_reason='stop', index=0, logprobs=None, message=ChatCompletionMessage(content='You can travel to the following countries:\\n1. United States\\n2. Australia\\n3. France', refusal=None, role='assistant', audio=None, function_call=None, tool_calls=None), content_filter_results={'hate': {'filtered': False, 'severity': 'safe'}, 'self_harm': {'filtered': False, 'severity': 'safe'}, 'sexual': {'filtered': False, 'severity': 'safe'}, 'violence': {'filtered': False, 'severity': 'safe'}})], created=1741839035, model='gpt-4o-2024-05-13', object='chat.completion', service_tier=None, system_fingerprint='fp_b705f0c291', usage=CompletionUsage(completion_tokens=21, prompt_tokens=189, total_tokens=210, completion_tokens_details=CompletionTokensDetails(accepted_prediction_tokens=0, audio_tokens=0, reasoning_tokens=0, rejected_prediction_tokens=0), prompt_tokens_details=PromptTokensDetails(audio_tokens=0, cached_tokens=0)), prompt_filter_results=[{'prompt_index': 0, 'content_filter_results': {'hate': {'filtered': False, 'severity': 'safe'}, 'jailbreak': {'filtered': False, 'detected': False}, 'self_harm': {'filtered': False, 'severity': 'safe'}, 'sexual': {'filtered': False, 'severity': 'safe'}, 'violence': {'filtered': False, 'severity': 'safe'}}}]), ai_model_id='gpt-4o', metadata={'logprobs': None, 'id': 'chatcmpl-BAUBviJ7uCZqtfAlRozz38ZzEUBC2', 'created': 1741839035, 'system_fingerprint': 'fp_b705f0c291', 'usage': CompletionUsage(prompt_tokens=189, completion_tokens=21)}, content_type='message', role=<AuthorRole.ASSISTANT: 'assistant'>, name='TravelAgent', items=[TextContent(inner_content=None, ai_model_id=None, metadata={}, content_type='text', text='You can travel to the following countries:\\n1. United States\\n2. Australia\\n3. France', encoding=None)], encoding=None, finish_reason=<FinishReason.STOP: 'stop'>),\n",
       " ChatMessageContent(inner_content=None, ai_model_id=None, metadata={}, content_type='message', role=<AuthorRole.USER: 'user'>, name=None, items=[TextContent(inner_content=None, ai_model_id=None, metadata={}, content_type='text', text='What hotel can I stay in France?', encoding=None)], encoding=None, finish_reason=None),\n",
       " ChatMessageContent(inner_content=ChatCompletion(id='chatcmpl-BAUC31NrthdLa4kSSdHktGchiVCdB', choices=[Choice(finish_reason='tool_calls', index=0, logprobs=None, message=ChatCompletionMessage(content=None, refusal=None, role='assistant', audio=None, function_call=None, tool_calls=[ChatCompletionMessageToolCall(id='call_k0huHUhLCEVGLezqvZuWpJCB', function=Function(arguments='{\"country\":\"France\"}', name='TravelPlugin-get_hotels'), type='function')]), content_filter_results={})], created=1741839043, model='gpt-4o-2024-05-13', object='chat.completion', service_tier=None, system_fingerprint='fp_ded0d14823', usage=CompletionUsage(completion_tokens=18, prompt_tokens=231, total_tokens=249, completion_tokens_details=CompletionTokensDetails(accepted_prediction_tokens=0, audio_tokens=0, reasoning_tokens=0, rejected_prediction_tokens=0), prompt_tokens_details=PromptTokensDetails(audio_tokens=0, cached_tokens=0)), prompt_filter_results=[{'prompt_index': 0, 'content_filter_results': {'hate': {'filtered': False, 'severity': 'safe'}, 'jailbreak': {'filtered': False, 'detected': False}, 'self_harm': {'filtered': False, 'severity': 'safe'}, 'sexual': {'filtered': False, 'severity': 'safe'}, 'violence': {'filtered': False, 'severity': 'safe'}}}]), ai_model_id='gpt-4o', metadata={'logprobs': None, 'id': 'chatcmpl-BAUC31NrthdLa4kSSdHktGchiVCdB', 'created': 1741839043, 'system_fingerprint': 'fp_ded0d14823', 'usage': CompletionUsage(prompt_tokens=231, completion_tokens=18)}, content_type='message', role=<AuthorRole.ASSISTANT: 'assistant'>, name='TravelAgent', items=[FunctionCallContent(inner_content=None, ai_model_id=None, metadata={}, content_type=<ContentTypes.FUNCTION_CALL_CONTENT: 'function_call'>, id='call_k0huHUhLCEVGLezqvZuWpJCB', index=None, name='TravelPlugin-get_hotels', function_name='get_hotels', plugin_name='TravelPlugin', arguments='{\"country\":\"France\"}')], encoding=None, finish_reason=<FinishReason.TOOL_CALLS: 'tool_calls'>),\n",
       " ChatMessageContent(inner_content=None, ai_model_id=None, metadata={}, content_type='message', role=<AuthorRole.TOOL: 'tool'>, name='TravelAgent', items=[FunctionResultContent(inner_content=FunctionResult(function=KernelFunctionMetadata(name='get_hotels', plugin_name='TravelPlugin', description='Provides the hotels based on the country', parameters=[KernelParameterMetadata(name='country', description='The name of the country', default_value=None, type_='str', is_required=True, type_object=<class 'str'>, schema_data={'type': 'string', 'description': 'The name of the country'}, include_in_function_choices=True)], is_prompt=False, is_asynchronous=False, return_parameter=KernelParameterMetadata(name='return', description='Returns the hotels for the country.', default_value=None, type_='str', is_required=True, type_object=<class 'str'>, schema_data={'type': 'string', 'description': 'Returns the hotels for the country.'}, include_in_function_choices=True), additional_properties={}), value='\\n                France Hotels: 11, 12, 13, 14, 15            \\n            ', metadata={'arguments': {'country': 'France'}, 'used_arguments': {'country': 'France'}}), ai_model_id=None, metadata={'arguments': {'country': 'France'}, 'used_arguments': {'country': 'France'}}, content_type=<ContentTypes.FUNCTION_RESULT_CONTENT: 'function_result'>, id='call_k0huHUhLCEVGLezqvZuWpJCB', result='\\n                France Hotels: 11, 12, 13, 14, 15            \\n            ', name='TravelPlugin-get_hotels', function_name='get_hotels', plugin_name='TravelPlugin', encoding=None)], encoding=None, finish_reason=None),\n",
       " ChatMessageContent(inner_content=ChatCompletion(id='chatcmpl-BAUC4NtxUgzIqqpYbkvS23liSpd8j', choices=[Choice(finish_reason='stop', index=0, logprobs=None, message=ChatCompletionMessage(content='In France, you can stay in the following hotels:\\n1. Hotel 11\\n2. Hotel 12\\n3. Hotel 13\\n4. Hotel 14\\n5. Hotel 15', refusal=None, role='assistant', audio=None, function_call=None, tool_calls=None), content_filter_results={'hate': {'filtered': False, 'severity': 'safe'}, 'self_harm': {'filtered': False, 'severity': 'safe'}, 'sexual': {'filtered': False, 'severity': 'safe'}, 'violence': {'filtered': False, 'severity': 'safe'}})], created=1741839044, model='gpt-4o-2024-05-13', object='chat.completion', service_tier=None, system_fingerprint='fp_ded0d14823', usage=CompletionUsage(completion_tokens=41, prompt_tokens=281, total_tokens=322, completion_tokens_details=CompletionTokensDetails(accepted_prediction_tokens=0, audio_tokens=0, reasoning_tokens=0, rejected_prediction_tokens=0), prompt_tokens_details=PromptTokensDetails(audio_tokens=0, cached_tokens=0)), prompt_filter_results=[{'prompt_index': 0, 'content_filter_results': {'hate': {'filtered': False, 'severity': 'safe'}, 'jailbreak': {'filtered': False, 'detected': False}, 'self_harm': {'filtered': False, 'severity': 'safe'}, 'sexual': {'filtered': False, 'severity': 'safe'}, 'violence': {'filtered': False, 'severity': 'safe'}}}]), ai_model_id='gpt-4o', metadata={'logprobs': None, 'id': 'chatcmpl-BAUC4NtxUgzIqqpYbkvS23liSpd8j', 'created': 1741839044, 'system_fingerprint': 'fp_ded0d14823', 'usage': CompletionUsage(prompt_tokens=281, completion_tokens=41)}, content_type='message', role=<AuthorRole.ASSISTANT: 'assistant'>, name='TravelAgent', items=[TextContent(inner_content=None, ai_model_id=None, metadata={}, content_type='text', text='In France, you can stay in the following hotels:\\n1. Hotel 11\\n2. Hotel 12\\n3. Hotel 13\\n4. Hotel 14\\n5. Hotel 15', encoding=None)], encoding=None, finish_reason=<FinishReason.STOP: 'stop'>),\n",
       " ChatMessageContent(inner_content=None, ai_model_id=None, metadata={}, content_type='message', role=<AuthorRole.USER: 'user'>, name=None, items=[TextContent(inner_content=None, ai_model_id=None, metadata={}, content_type='text', text='What hotel can I stay in France?', encoding=None)], encoding=None, finish_reason=None),\n",
       " ChatMessageContent(inner_content=ChatCompletion(id='chatcmpl-BAUDH3GF8sGE8GtxLHeBQLPZ1hEl5', choices=[Choice(finish_reason='stop', index=0, logprobs=None, message=ChatCompletionMessage(content='In France, you can stay in the following hotels:\\n1. Hotel 11\\n2. Hotel 12\\n3. Hotel 13\\n4. Hotel 14\\n5. Hotel 15', refusal=None, role='assistant', audio=None, function_call=None, tool_calls=None), content_filter_results={'hate': {'filtered': False, 'severity': 'safe'}, 'self_harm': {'filtered': False, 'severity': 'safe'}, 'sexual': {'filtered': False, 'severity': 'safe'}, 'violence': {'filtered': False, 'severity': 'safe'}})], created=1741839119, model='gpt-4o-2024-05-13', object='chat.completion', service_tier=None, system_fingerprint='fp_b705f0c291', usage=CompletionUsage(completion_tokens=41, prompt_tokens=343, total_tokens=384, completion_tokens_details=CompletionTokensDetails(accepted_prediction_tokens=0, audio_tokens=0, reasoning_tokens=0, rejected_prediction_tokens=0), prompt_tokens_details=PromptTokensDetails(audio_tokens=0, cached_tokens=0)), prompt_filter_results=[{'prompt_index': 0, 'content_filter_results': {'hate': {'filtered': False, 'severity': 'safe'}, 'jailbreak': {'filtered': False, 'detected': False}, 'self_harm': {'filtered': False, 'severity': 'safe'}, 'sexual': {'filtered': False, 'severity': 'safe'}, 'violence': {'filtered': False, 'severity': 'safe'}}}]), ai_model_id='gpt-4o', metadata={'logprobs': None, 'id': 'chatcmpl-BAUDH3GF8sGE8GtxLHeBQLPZ1hEl5', 'created': 1741839119, 'system_fingerprint': 'fp_b705f0c291', 'usage': CompletionUsage(prompt_tokens=343, completion_tokens=41)}, content_type='message', role=<AuthorRole.ASSISTANT: 'assistant'>, name='TravelAgent', items=[TextContent(inner_content=None, ai_model_id=None, metadata={}, content_type='text', text='In France, you can stay in the following hotels:\\n1. Hotel 11\\n2. Hotel 12\\n3. Hotel 13\\n4. Hotel 14\\n5. Hotel 15', encoding=None)], encoding=None, finish_reason=<FinishReason.STOP: 'stop'>)]"
      ]
     },
     "execution_count": 8,
     "metadata": {},
     "output_type": "execute_result"
    }
   ],
   "source": [
    "history.messages"
   ]
  },
  {
   "cell_type": "code",
   "execution_count": 9,
   "metadata": {},
   "outputs": [
    {
     "name": "stdout",
     "output_type": "stream",
     "text": [
      "# AuthorRole.USER: 'What is the weather in the United States?'\n",
      "# AuthorRole.ASSISTANT - TravelAgent: 'The weather in the United States varies greatly across the country due to its diverse climate:\n",
      "\n",
      "- **Winter**: \n",
      "  - Cold in the northern regions.\n",
      "  - Mild in the southern regions.\n",
      "  - Average temperatures range from 26.6°F (-3°C) in Alaska to 70.7°F (21.5°C) in Florida.\n",
      "\n",
      "- **Summer**: \n",
      "  - Hot and humid in the southern regions.\n",
      "  - Dry in the western regions.\n",
      "  - Average temperatures range from 52.7°F (11.5°C) to 70.7°F (21.5°C).'\n"
     ]
    }
   ],
   "source": [
    "user_input = \"What is the weather in the United States?\"\n",
    "await invoke_agent(agent, user_input, history)"
   ]
  },
  {
   "cell_type": "code",
   "execution_count": 10,
   "metadata": {},
   "outputs": [
    {
     "name": "stdout",
     "output_type": "stream",
     "text": [
      "# AuthorRole.USER: 'If I have a budget of $300, where can I go for 4 days?'\n",
      "# AuthorRole.ASSISTANT - TravelAgent: 'Based on a budget of $300 for 4 days, here's where you can go:\n",
      "\n",
      "### United States\n",
      "- **Budget Travelers**: $121 per day\n",
      "  - Total Cost for 4 days: $484\n",
      "  - Unfortunately, this exceeds your budget of $300.\n",
      "\n",
      "### Australia\n",
      "- **Budget Travelers**: $75 per day\n",
      "  - Total Cost for 4 days: $300\n",
      "  - You can afford a budget trip to Australia.\n",
      "\n",
      "### France\n",
      "- **Budget Travelers**: $100 per day\n",
      "  - Total Cost for 4 days: $400\n",
      "  - This exceeds your budget of $300. \n",
      "\n",
      "Therefore, you can afford a budget trip to Australia for 4 days with your $300 budget.'\n"
     ]
    }
   ],
   "source": [
    "user_input = \"If I have a budget of $300, where can I go for 4 days?\"\n",
    "await invoke_agent(agent, user_input, history)"
   ]
  }
 ],
 "metadata": {
  "kernelspec": {
   "display_name": "Python 3",
   "language": "python",
   "name": "python3"
  },
  "language_info": {
   "codemirror_mode": {
    "name": "ipython",
    "version": 3
   },
   "file_extension": ".py",
   "mimetype": "text/x-python",
   "name": "python",
   "nbconvert_exporter": "python",
   "pygments_lexer": "ipython3",
   "version": "3.12.1"
  }
 },
 "nbformat": 4,
 "nbformat_minor": 2
}
