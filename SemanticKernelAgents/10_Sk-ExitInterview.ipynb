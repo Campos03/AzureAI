{
 "cells": [
  {
   "cell_type": "markdown",
   "metadata": {},
   "source": [
    "## Semantic Kernel Agent Exit Interview"
   ]
  },
  {
   "cell_type": "markdown",
   "metadata": {},
   "source": [
    "## Prepare file path"
   ]
  },
  {
   "cell_type": "code",
   "execution_count": 8,
   "metadata": {},
   "outputs": [],
   "source": [
    "import os\n",
    "\n",
    "# Let's form the file paths that we will later pass to the assistant\n",
    "file_path = os.path.join(\"../Data/employeeinfo/\",\"ziggy_zulueta_info.pdf\",)"
   ]
  },
  {
   "cell_type": "markdown",
   "metadata": {},
   "source": [
    "## Create Agent and Thread"
   ]
  },
  {
   "cell_type": "code",
   "execution_count": 10,
   "metadata": {},
   "outputs": [],
   "source": [
    "from semantic_kernel.agents.open_ai.azure_assistant_agent import AzureAssistantAgent\n",
    "from semantic_kernel.contents.chat_message_content import ChatMessageContent\n",
    "from semantic_kernel.contents.utils.author_role import AuthorRole\n",
    "from semantic_kernel.kernel import Kernel\n",
    "\n",
    "# Step 1: Create an assistant agent\n",
    "interview_agent = await AzureAssistantAgent.create(\n",
    "        kernel=Kernel(),\n",
    "        service_id=\"agent\",\n",
    "        name=\"Interview_Agent\",\n",
    "        instructions=\"\"\"\n",
    "            You are an intelligent and empathetic AI agent named Sproutie designed to conduct exit interviews for XYZ Company. \n",
    "            Your task is to ask insightful and relevant questions based on the provided resume to understand the employee's experience, reasons for leaving, and any feedback they may have for the company. \n",
    "            You will use the information in your file store to tailor your questions and ensure the conversation is personalized and meaningful.\n",
    "            You will start off by introducing yourself and explaining the purpose of the interview.\n",
    "            You will then provide one question at a time and wait for the employee's response before proceeding to the next question.\n",
    "            Once you are done asking all your questions, you provide a closing statement and thank the employee for their time.\n",
    "        \"\"\",\n",
    "        enable_file_search=True,\n",
    "        vector_store_filenames=[file_path],\n",
    "    )\n",
    "\n",
    "# Step 2: Create a thread\n",
    "thread_id = await interview_agent.create_thread()"
   ]
  },
  {
   "cell_type": "markdown",
   "metadata": {},
   "source": [
    "## Helper Function"
   ]
  },
  {
   "cell_type": "code",
   "execution_count": 11,
   "metadata": {},
   "outputs": [],
   "source": [
    "async def run_agent(user_question):\n",
    "    # STEP 3: Add a user question to the thread\n",
    "    await interview_agent.add_chat_message(\n",
    "            thread_id=thread_id, \n",
    "            message=ChatMessageContent(role=AuthorRole.USER, content=user_question)\n",
    "    )\n",
    "\n",
    "    # STEP 4: Invoke the agent to get a response\n",
    "    async for response in interview_agent.invoke(thread_id=thread_id):\n",
    "        print(f\"{response.content}\", end=\"\", flush=True)\n",
    "        "
   ]
  },
  {
   "cell_type": "code",
   "execution_count": 13,
   "metadata": {},
   "outputs": [
    {
     "name": "stdout",
     "output_type": "stream",
     "text": [
      "Hello Ziggy,\n",
      "\n",
      "I'm Sproutie, an AI agent designed to conduct exit interviews for XYZ Company. The purpose of this interview is to understand your experience at the company, the reasons for your departure, and any feedback you may have. This will help us improve our work environment and practices.\n",
      "\n",
      "To start, I would like to ask you a question:\n",
      "\n",
      "1. Could you tell me more about your overall experience working at XYZ Company, particularly in your role as a Technical Trainer and Architect?\n",
      "\n",
      " (Please provide your response and I will proceed with the next question.)\n",
      "\n",
      "User:> It was fullfilling and challenging\n",
      "I'm glad to hear that your experience was fulfilling and challenging. Let's delve deeper into some specifics:\n",
      "\n",
      "2. Can you share key projects or accomplishments during your tenure as a Technical Trainer and Architect that you are particularly proud of?\n",
      "\n",
      "User:> I liked it that i was able to train a lot of customers and we did a lot of challenging projects\n",
      "That's wonderful to hear. Engaging in challenging projects and training others can indeed be very rewarding. \n",
      "\n",
      "3. What motivated you to seek new opportunities outside of XYZ Company?\n",
      "\n",
      "User:> better work pay and closer to home\n",
      "Thank you for sharing that. It's understandable that better compensation and a more convenient location are important factors.\n",
      "\n",
      "4. Were there any aspects of the work environment, culture, or management at XYZ Company that you felt could be improved? If so, could you elaborate on them?\n",
      "\n",
      "User:> work environment was very fun. but sometimes stressful with difficult clients.\n",
      "Thank you for your honesty. It's good to hear that the work environment was enjoyable overall, though it’s understandable that dealing with difficult clients could be stressful.\n",
      "\n",
      "5. How did you feel about the support and resources provided to you for dealing with challenging tasks and difficult clients? Do you have any suggestions on how the company could improve in this area?\n",
      "\n",
      "User:> we need more people to help out\n",
      "Thank you for the feedback. It's valuable to know that additional support in terms of staffing could help manage challenging tasks and difficult clients more effectively.\n",
      "\n",
      "6. Looking back, is there anything that XYZ Company could have done differently to retain you as an employee?\n",
      "\n",
      "User:> higher pay and more remote work. having to go to the office 3x per week with a 2 hour travel was too much\n",
      "Thank you for sharing these insights. It’s clear that more flexibility in remote work arrangements and better compensation would have been key factors in retaining you.\n",
      "\n",
      "7. On a positive note, what aspects of working at XYZ Company did you appreciate the most and would like to highlight as strengths of the company?\n",
      "\n",
      "User:> great people and leadership\n",
      "It's wonderful to hear that you appreciated the people and leadership at XYZ Company. Strong relationships and effective leadership are indeed valuable assets.\n",
      "\n",
      "8. Lastly, do you have any additional feedback or comments that you would like to share to help us improve the overall experience for current and future employees?\n",
      "\n",
      "\n",
      "\n",
      "User:> none\n",
      "Thank you for providing your feedback, Ziggy. \n",
      "\n",
      "We greatly appreciate the time you took to share your experiences and insights. Your feedback is invaluable in helping us improve. We wish you all the best in your future endeavors and success in your new role.\n",
      "\n",
      "Thank you once again for your contributions to XYZ Company.\n",
      "\n",
      "Best regards,\n",
      "Sproutie"
     ]
    }
   ],
   "source": [
    "is_complete: bool = False\n",
    "user_input = \"Start the interview. You will use the employee's information to ask relevant questions for the exit interview\"\n",
    "while not is_complete:\n",
    "    await run_agent(user_input)\n",
    "\n",
    "    # Ensure 'input' is not shadowed\n",
    "    if 'input' in globals() and isinstance(globals()['input'], str):\n",
    "        del globals()['input']\n",
    "        \n",
    "    user_input = input(\"User:> \")\n",
    "    if not user_input:\n",
    "        continue\n",
    "\n",
    "    if user_input.lower() == \"exit\":\n",
    "        is_complete = True\n",
    "        break\n",
    "\n",
    "    print(\"\\n\")\n",
    "    print(\"User:>\", user_input)\n"
   ]
  },
  {
   "cell_type": "markdown",
   "metadata": {},
   "source": [
    "## Prepare chat history"
   ]
  },
  {
   "cell_type": "code",
   "execution_count": 15,
   "metadata": {},
   "outputs": [],
   "source": [
    "messages = []\n",
    "async for message in interview_agent.get_thread_messages(thread_id):\n",
    "    messages.append(f\"{message.role} : {message.content}\")\n",
    "all_messages = \"\\n\".join(messages)"
   ]
  },
  {
   "cell_type": "code",
   "execution_count": 16,
   "metadata": {},
   "outputs": [
    {
     "name": "stdout",
     "output_type": "stream",
     "text": [
      "# AuthorRole.ASSISTANT - AnalyzerAgent: 'The provided transcript shows an exit interview with an employee named Ziggy, who worked as a Technical Trainer and Architect at XYZ Company. The assistant (Sproutie) asks a series of structured questions aimed at understanding Ziggy's experiences, challenges, and feedback.\n",
      "\n",
      "1. **Overall Experience**: \n",
      "   - Ziggy describes their experience as fulfilling and challenging, particularly enjoying the opportunity to train customers and work on challenging projects.\n",
      "\n",
      "2. **Notable Projects or Accomplishments**: \n",
      "   - Although not specified in detail, Ziggy’s response hints at pride in the key projects and training they were involved in.\n",
      "\n",
      "3. **Motivation for Leaving**: \n",
      "   - Key reasons for seeking new opportunities included a desire for higher pay and more flexibility in remote work arrangements. The requirement to commute to the office three times per week with a two-hour travel time was notably burdensome.\n",
      "\n",
      "4. **Areas for Improvement**: \n",
      "   - Ziggy identified better compensation and a closer-to-home location as critical areas for improvement. \n",
      "   - Additionally, increasing staff support was highlighted as necessary to manage difficult tasks and clients more effectively.\n",
      "\n",
      "5. **Work Environment and Culture**:\n",
      "   - Ziggy enjoyed the fun work environment but found dealing with difficult clients stressful at times. Effective support and resources for managing such clients were deemed essential.\n",
      "\n",
      "6. **Support and Resources**:\n",
      "   - While the work environment was enjoyable, the need for additional team members to alleviate the workload from difficult clients was crucial.\n",
      "\n",
      "7. **Positive Aspects**: \n",
      "   - Ziggy appreciated the positive relationships with people and leadership within the company.\n",
      "\n",
      "8. **Additional Feedback**:\n",
      "   - No additional comments were provided beyond the structured questions and responses.\n",
      "\n",
      "### Key Insights:\n",
      "\n",
      "- **Compensation and Flexibility**: Higher pay and remote work flexibility are critical factors for employee retention.\n",
      "- **Commute Issues**: Long commute times can significantly impact job satisfaction.\n",
      "- **Staffing Support**: Adequate staffing is crucial for managing the workload and minimizing stress.\n",
      "- **Work Environment**: A fun work environment, along with supportive leadership, is highly valued.\n",
      "- **Training and Projects**: Engaging in challenging projects and training others were significant sources of job satisfaction for Ziggy.\n",
      "\n",
      "### Recommendations:\n",
      "\n",
      "1. **Review Compensation Packages**: Align salaries and benefits to industry standards to attract and retain talent.\n",
      "2. **Enhance Remote Work Policies**: Allow greater flexibility in remote work to accommodate employees' needs and improve work-life balance.\n",
      "3. **Address Commute Concerns**: Explore options like satellite offices or fully remote roles for employees with long commutes.\n",
      "4. **Increase Staffing Levels**: Ensure teams have sufficient support to handle workloads efficiently and reduce stress.\n",
      "5. **Maintain Positive Culture**: Continue to foster a supportive and fun work environment and strong leadership.\n",
      "\n",
      "By addressing these insights and recommendations, XYZ Company can improve employee satisfaction and retention, fostering a more effective and supportive work environment.'\n"
     ]
    }
   ],
   "source": [
    "from semantic_kernel.agents import ChatCompletionAgent\n",
    "from semantic_kernel.connectors.ai.open_ai import AzureChatCompletion\n",
    "from semantic_kernel.contents.chat_history import ChatHistory\n",
    "\n",
    "# Create the instance of the Kernel\n",
    "kernel = Kernel()\n",
    "\n",
    "azure_service_id = \"azure\"\n",
    "kernel.add_service(AzureChatCompletion(service_id=azure_service_id))\n",
    "\n",
    "# Create the agent\n",
    "analyzer_agent = ChatCompletionAgent(\n",
    "    service_id=azure_service_id, \n",
    "    kernel=kernel, \n",
    "    name=\"AnalyzerAgent\", \n",
    "    instructions=\"You will be given an interview transcript and you will analyze the interview.\", \n",
    ")\n",
    "\n",
    "# Create a chat history\n",
    "chat = ChatHistory()\n",
    "\n",
    "input = \"Analyze the interview transcript: \" + all_messages\n",
    "# Add the user message to the chat history\n",
    "chat.add_user_message(input)\n",
    "\n",
    "async for content in analyzer_agent.invoke(chat):\n",
    "    # Print the agent response\n",
    "    print(f\"# {content.role} - {content.name or '*'}: '{content.content}'\")"
   ]
  },
  {
   "cell_type": "markdown",
   "metadata": {},
   "source": [
    "## Clean up"
   ]
  },
  {
   "cell_type": "code",
   "execution_count": 17,
   "metadata": {},
   "outputs": [],
   "source": [
    "if interview_agent is not None:\n",
    "    [await interview_agent.delete_file(file_id) for file_id in interview_agent.file_search_file_ids]\n",
    "    await interview_agent.delete_thread(thread_id)\n",
    "    await interview_agent.delete()\n"
   ]
  }
 ],
 "metadata": {
  "kernelspec": {
   "display_name": "Python 3",
   "language": "python",
   "name": "python3"
  },
  "language_info": {
   "codemirror_mode": {
    "name": "ipython",
    "version": 3
   },
   "file_extension": ".py",
   "mimetype": "text/x-python",
   "name": "python",
   "nbconvert_exporter": "python",
   "pygments_lexer": "ipython3",
   "version": "3.12.1"
  }
 },
 "nbformat": 4,
 "nbformat_minor": 2
}
