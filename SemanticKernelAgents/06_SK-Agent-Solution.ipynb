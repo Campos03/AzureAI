{
 "cells": [
  {
   "cell_type": "markdown",
   "metadata": {},
   "source": [
    "# Semantic Kernel Agent Solution"
   ]
  },
  {
   "cell_type": "markdown",
   "metadata": {},
   "source": [
    "## Prepare the files"
   ]
  },
  {
   "cell_type": "code",
   "execution_count": 1,
   "metadata": {},
   "outputs": [
    {
     "name": "stdout",
     "output_type": "stream",
     "text": [
      "['product_info_19.pdf', 'product_info_13.pdf', 'product_info_9.pdf', 'product_info_7.pdf', 'product_info_10.pdf', 'product_info_3.pdf', 'product_info_8.pdf', 'product_info_4.pdf', 'product_info_14.pdf', 'product_info_20.pdf', 'product_info_17.pdf', 'product_info_1.pdf', 'product_info_5.pdf', 'product_info_6.pdf', 'product_info_16.pdf', 'product_info_18.pdf', 'product_info_12.pdf', 'product_info_15.pdf', 'product_info_11.pdf', 'product_info_2.pdf']\n"
     ]
    }
   ],
   "source": [
    "import os\n",
    "\n",
    "file_directory = \"../Data/products\"\n",
    "\n",
    "# Get our files in the file directory\n",
    "try:\n",
    "    filenames = os.listdir(file_directory)\n",
    "    print(filenames)\n",
    "except FileNotFoundError:\n",
    "    print(f\"Directory '{file_directory}' not found.\")\n",
    "\n",
    "def get_filepath_for_filename(filename: str) -> str:\n",
    "    base_directory = file_directory\n",
    "    return os.path.join(base_directory, filename)\n",
    "\n"
   ]
  },
  {
   "cell_type": "markdown",
   "metadata": {},
   "source": [
    "## Create a Plugin"
   ]
  },
  {
   "cell_type": "code",
   "execution_count": 2,
   "metadata": {},
   "outputs": [],
   "source": [
    "from semantic_kernel.functions.kernel_function_decorator import kernel_function\n",
    "from typing import Annotated\n",
    "\n",
    "# Define a sample plugin for the hiking company\n",
    "class HikingPlugin:\n",
    "    \"\"\"A sample Hiking Plugin for the hiking company.\"\"\"\n",
    "\n",
    "    @kernel_function(description=\"Provides a list of hiking destinations.\")\n",
    "    def get_destinations(self) -> Annotated[str, \"Returns the hiking destinations that you can explore.\"]:\n",
    "        return \"\"\"\n",
    "            United States\n",
    "            Australia\n",
    "            France\n",
    "        \"\"\"\n",
    "\n",
    "    @kernel_function(description=\"Provides the typical hiking budget for a destination\")\n",
    "    def get_hiking_budget(self, \n",
    "        destination: Annotated[str, \"The name of the hiking destination\"]) -> Annotated[str, \"Returns the budget for the destination.\"]:\n",
    "        if destination == \"United States\":\n",
    "            return \"\"\"\n",
    "                Budget Hikers: Around $50 per day. This includes camping, cooking your own meals, and using public transportation.\n",
    "                Mid-Range Hikers: Approximately $150 per day. This covers mid-range accommodations, dining at average restaurants, and some paid attractions.\n",
    "                Luxury Hikers: About $400 per day. This includes luxury lodges, fine dining, and private transportation.\n",
    "            \"\"\"\n",
    "        elif destination == \"Australia\":\n",
    "            return \"\"\"\n",
    "                Budget Hikers: Around $40 per day. This includes camping, cooking your own meals, and using public transport.\n",
    "                Mid-Range Hikers: Approximately $120 per day. This covers mid-range accommodations, dining at average restaurants, and some paid attractions.\n",
    "                Luxury Hikers: About $350 per day. This includes luxury lodges, fine dining, and private transportation.\n",
    "            \"\"\"\n",
    "        elif destination == \"France\":\n",
    "            return \"\"\"\n",
    "                Budget Hikers: Around $45 per day. This includes camping, cooking your own meals, and using public transportation.\n",
    "                Mid-Range Hikers: Approximately $130 per day. This covers mid-range accommodations, dining at average restaurants, and some paid attractions.\n",
    "                Luxury Hikers: About $380 per day. This includes luxury lodges, fine dining, and private transportation.            \n",
    "            \"\"\"\n",
    "        else:\n",
    "            return \"Destination not found\"\n",
    "    \n",
    "    @kernel_function(description=\"Provides the weather for a hiking destination\")\n",
    "    def get_weather(self, \n",
    "        destination: Annotated[str, \"The name of the hiking destination\"]) -> Annotated[str, \"Returns the weather for the destination.\"]:\n",
    "        if destination == \"United States\":\n",
    "            return \"\"\"\n",
    "                The United States has a diverse climate. In general:\n",
    "                - **Winter**: Cold in the north, mild in the south. Average temperatures range from 26.6°F (-3°C) in Alaska to 70.7°F (21.5°C) in Florida.\n",
    "                - **Summer**: Hot and humid in the south, dry in the west. Average temperatures range from 52.7°F (11.5°C) to 70.7°F (21.5°C).\n",
    "            \"\"\"\n",
    "        elif destination == \"Australia\":\n",
    "            return \"\"\"\n",
    "                Australia experiences varied climates:\n",
    "                - **Winter**: Mild in the north, cooler in the south. Average temperatures range from 46°F (8°C) in Canberra to 77°F (25°C) in Darwin.\n",
    "                - **Summer**: Hot and dry in the interior, humid in the north. Average temperatures range from 68°F (20°C) in Hobart to 91°F (33°C) in Darwin.\n",
    "            \"\"\"\n",
    "        elif destination == \"France\":\n",
    "            return \"\"\"\n",
    "                France has several climate zones:\n",
    "                - **Winter**: Cold in the north, mild in the south. Average temperatures range from 35.5°F (2°C) in the northeast to 48°F (9°C) in the south.\n",
    "                - **Summer**: Warm and sunny. Average temperatures range from 63°F (17°C) in the north to 77°F (25°C) along the Mediterranean coast.\n",
    "            \"\"\"\n",
    "        else:\n",
    "            return \"Destination not found\""
   ]
  },
  {
   "cell_type": "markdown",
   "metadata": {},
   "source": [
    "## Reformat citations with the proper filenames"
   ]
  },
  {
   "cell_type": "code",
   "execution_count": 3,
   "metadata": {},
   "outputs": [],
   "source": [
    "async def reformat_citations(agent, response):\n",
    "    from semantic_kernel.contents import StreamingAnnotationContent\n",
    "\n",
    "    # Extract the annotations\n",
    "    annotations = [item for item in response.items if isinstance(item, StreamingAnnotationContent)]\n",
    "\n",
    "    # Convert the response content to a string\n",
    "    paragraph = str(response.content)\n",
    "\n",
    "    # Dictionary to store key-value pairs of text and filename\n",
    "    text_filename_pairs = {}\n",
    "\n",
    "    # Iterate over the annotations and extract the relevant information\n",
    "    for annotation in annotations:\n",
    "        file_id = annotation.file_id\n",
    "        text = annotation.quote\n",
    "        # Retrieve the filename from the file_id\n",
    "        cited_file = await agent.client.files.retrieve(file_id)\n",
    "        filename = cited_file.filename\n",
    "\n",
    "        if text not in text_filename_pairs:\n",
    "            text_filename_pairs[text] = []\n",
    "        text_filename_pairs[text].append(filename)\n",
    "\n",
    "    # Replace the citation texts with their corresponding filenames prefixed with \" Source: \"\n",
    "    for text, filenames in text_filename_pairs.items():\n",
    "        sources = \" Source: \" + \", \".join(filenames)\n",
    "        paragraph = paragraph.replace(text, sources)\n",
    "\n",
    "    return paragraph"
   ]
  },
  {
   "cell_type": "markdown",
   "metadata": {},
   "source": [
    "## Create an Agent and Thread"
   ]
  },
  {
   "cell_type": "code",
   "execution_count": 4,
   "metadata": {},
   "outputs": [],
   "source": [
    "from semantic_kernel.agents import AssistantAgentThread, AzureAssistantAgent\n",
    "from semantic_kernel.contents import StreamingAnnotationContent\n",
    "\n",
    "# Create the client using Azure OpenAI resources and configuration\n",
    "client, model = AzureAssistantAgent.setup_resources()\n",
    "\n",
    "# Upload the files to the client\n",
    "file_ids: list[str] = []\n",
    "for path in [get_filepath_for_filename(filename) for filename in filenames]:\n",
    "    with open(path, \"rb\") as file:\n",
    "        file = await client.files.create(file=file, purpose=\"assistants\")\n",
    "        file_ids.append(file.id)\n",
    "\n",
    "vector_store = await client.vector_stores.create(\n",
    "    name=\"assistant_search\",\n",
    "    file_ids=file_ids,\n",
    ")\n",
    "\n",
    "# Get the file search tool and resources\n",
    "file_search_tools, file_search_tool_resources = AzureAssistantAgent.configure_file_search_tool(vector_store_ids=vector_store.id)\n",
    "\n",
    "# Create the assistant definition\n",
    "definition = await client.beta.assistants.create(\n",
    "    model=model,\n",
    "    instructions=\"\"\"\n",
    "            You are provided a document store and tools to search for information.\n",
    "            The document store contains Hiking products of Contoso company.\n",
    "            Always analyze the document store and tools to provide an answer to the user's question.\n",
    "            Never rely on your knowledge of information not included in the document store and tools.\n",
    "            Always format response using markdown.\n",
    "        \"\"\",\n",
    "    name=\"SampleAssistantAgent\",\n",
    "    tools=file_search_tools,\n",
    "    tool_resources=file_search_tool_resources,\n",
    ")\n",
    "\n",
    "# Create the agent using the client and the assistant definition\n",
    "agent = AzureAssistantAgent(\n",
    "    client=client,\n",
    "    definition=definition,\n",
    "    plugins=[HikingPlugin()],\n",
    ")\n",
    "\n",
    "# Create a thread for the agent\n",
    "thread: AssistantAgentThread = None"
   ]
  },
  {
   "cell_type": "markdown",
   "metadata": {},
   "source": [
    "## Helper Function\n"
   ]
  },
  {
   "cell_type": "code",
   "execution_count": 5,
   "metadata": {},
   "outputs": [],
   "source": [
    "async def run_agent(user_question, thread):\n",
    "   \n",
    "    async for response in agent.invoke_stream(messages=user_question, thread=thread):\n",
    "        thread = response.thread\n",
    "        annotations = [item for item in response.items if isinstance(item, StreamingAnnotationContent)]\n",
    "        #Print the Assistant response\n",
    "        if annotations is None:\n",
    "            print(f\"{response.content}\", end=\"\", flush=True)\n",
    "        else:\n",
    "            print(f\"{await reformat_citations(agent,response)}\", end=\"\", flush=True)"
   ]
  },
  {
   "cell_type": "code",
   "execution_count": 6,
   "metadata": {},
   "outputs": [
    {
     "name": "stdout",
     "output_type": "stream",
     "text": [
      "The price of the SummitClimber Backpack is $120 Source: product_info_9.pdf."
     ]
    }
   ],
   "source": [
    "user_question = \"What is the price of the SummitClimber Backpack?\"\n",
    "await run_agent(user_question, thread)"
   ]
  },
  {
   "cell_type": "markdown",
   "metadata": {},
   "source": [
    "## Appending Messages to the Thread"
   ]
  },
  {
   "cell_type": "code",
   "execution_count": 10,
   "metadata": {},
   "outputs": [
    {
     "name": "stdout",
     "output_type": "stream",
     "text": [
      "You can hike in the following countries:\n",
      "\n",
      "- United States\n",
      "- Australia\n",
      "- France"
     ]
    }
   ],
   "source": [
    "user_question = \"What are the list of countries I can hike?\"\n",
    "await run_agent(user_question, thread)"
   ]
  },
  {
   "cell_type": "code",
   "execution_count": 11,
   "metadata": {},
   "outputs": [
    {
     "name": "stdout",
     "output_type": "stream",
     "text": [
      "The weather in Australia varies significantly across different regions:\n",
      "\n",
      "- **Winter**: Mild in the north and cooler in the south.\n",
      "  - Average temperatures range from 46°F (8°C) in Canberra to 77°F (25°C) in Darwin.\n",
      "  \n",
      "- **Summer**: Hot and dry in the interior, humid in the north.\n",
      "  - Average temperatures range from 68°F (20°C) in Hobart to 91°F (33°C) in Darwin."
     ]
    }
   ],
   "source": [
    "user_question = \"What is the weather in Australia?\"\n",
    "await run_agent(user_question, thread)"
   ]
  },
  {
   "cell_type": "code",
   "execution_count": 8,
   "metadata": {},
   "outputs": [
    {
     "name": "stdout",
     "output_type": "stream",
     "text": [
      "Based on the information provided:\n",
      "\n",
      "### Budget\n",
      "- **Budget Hikers:** Around $50 per day. This includes camping, cooking your own meals, and using public transportation.\n",
      "- **Mid-Range Hikers:** Approximately $150 per day. This covers mid-range accommodations, dining at average restaurants, and some paid attractions.\n",
      "- **Luxury Hikers:** About $400 per day. This includes luxury lodges, fine dining, and private transportation.\n",
      "\n",
      "For a 3-day hike:\n",
      "- **Budget Option:** $150\n",
      "- **Mid-Range Option:** $450\n",
      "- **Luxury Option:** $1200\n",
      "\n",
      "### Weather\n",
      "The United States has a diverse climate. In general:\n",
      "- **Winter:** Cold in the north, mild in the south. Average temperatures range from 26.6°F (-3°C) in Alaska to 70.7°F (21.5°C) in Florida.\n",
      "- **Summer:** Hot and humid in the south, dry in the west. Average temperatures range from 52.7°F (11.5°C) to 70.7°F (21.5°C).\n",
      "\n",
      "For specific destinations within the US and exact weather conditions during your intended hike dates, it would be best to obtain local weather forecasts."
     ]
    }
   ],
   "source": [
    "user_question = \"If I go to the US, how much money do I need for a 3 day hike and what would the weather be like?\"\n",
    "await run_agent(user_question, thread)"
   ]
  },
  {
   "cell_type": "code",
   "execution_count": 9,
   "metadata": {},
   "outputs": [
    {
     "name": "stdout",
     "output_type": "stream",
     "text": [
      "To help you stay within your budget for a 3-day hike in the US, I suggest the following products from Contoso's hiking gear collection. Based on the total budget remaining after accounting for trip expenses (approximately $1000 - $180 for three days = $820), these products will provide you with durable and reliable equipment for your hiking adventure:\n",
      "\n",
      "1. **TrailWalker Hiking Shoes** - Price: $110\n",
      "   - Durable and waterproof construction, cushioned insole, supportive midsole, and a breathable mesh lining Source: product_info_11.pdf.\n",
      "\n",
      "2. **SummitClimber Backpack** - Price: $120\n",
      "   - Capacity: 60 liters, lightweight nylon material, ergonomic design, adjustable hip belt, integrated rain cover, and multiple compartments Source: product_info_9.pdf.\n",
      "\n",
      "3. **SkyView 2-Person Tent** - Price: $200\n",
      "   - Durable and waterproof, spacious interior, quick and easy setup, multiple storage pockets, and compact design Source: product_info_15.pdf.\n",
      "\n",
      "4. **TrailBlaze Hiking Pants** - Price: $75\n",
      "   - Made of durable, quick-drying nylon fabric, adjustable waistband, zippered pockets, and articulated knees Source: product_info_10.pdf.\n",
      "\n",
      "5. **TrekMaster Camping Chair** - Price: $50\n",
      "   - Lightweight, foldable design, comfortable seating with padding, adjustable recline positions, cup holder, and side pockets Source: product_info_12.pdf.\n",
      "\n",
      "6. **RainGuard Hiking Jacket** - Price: $110\n",
      "   - Waterproof, breathable fabric, adjustable hood, cuffs, and hem, multiple pockets and reflective details Source: product_info_17.pdf.\n",
      "\n",
      "These items total $665, leaving you with $155 to cover any additional expenses such as food, incidentals, or emergency items. This curated list ensures you will have essential and reliable gear for a successful and comfortable hiking trip while staying within your budget."
     ]
    }
   ],
   "source": [
    "user_question = \"\"\"\n",
    "I have a total budget of $1000. \n",
    "If I will hike in the US for 3 days on a budget, what products can you recommend that I buy with the money left?\n",
    "\"\"\"\n",
    "await run_agent(user_question, thread)"
   ]
  },
  {
   "cell_type": "markdown",
   "metadata": {},
   "source": [
    "## Deleting Files, Thread, Agent"
   ]
  },
  {
   "cell_type": "code",
   "execution_count": 12,
   "metadata": {},
   "outputs": [],
   "source": [
    "if agent is not None:\n",
    "    [await client.files.delete(file_id) for file_id in file_ids]\n",
    "    await thread.delete() if thread else None\n",
    "    await client.beta.assistants.delete(agent.id)\n"
   ]
  }
 ],
 "metadata": {
  "kernelspec": {
   "display_name": "Python 3",
   "language": "python",
   "name": "python3"
  },
  "language_info": {
   "codemirror_mode": {
    "name": "ipython",
    "version": 3
   },
   "file_extension": ".py",
   "mimetype": "text/x-python",
   "name": "python",
   "nbconvert_exporter": "python",
   "pygments_lexer": "ipython3",
   "version": "3.12.1"
  }
 },
 "nbformat": 4,
 "nbformat_minor": 2
}
