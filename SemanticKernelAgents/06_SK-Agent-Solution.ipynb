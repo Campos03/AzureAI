{
 "cells": [
  {
   "cell_type": "markdown",
   "metadata": {},
   "source": [
    "# Semantic Kernel Agent Solution"
   ]
  },
  {
   "cell_type": "markdown",
   "metadata": {},
   "source": [
    "## Prepare the files"
   ]
  },
  {
   "cell_type": "code",
   "execution_count": 1,
   "metadata": {},
   "outputs": [
    {
     "name": "stdout",
     "output_type": "stream",
     "text": [
      "['product_info_19.pdf', 'product_info_13.pdf', 'product_info_9.pdf', 'product_info_7.pdf', 'product_info_10.pdf', 'product_info_3.pdf', 'product_info_8.pdf', 'product_info_4.pdf', 'product_info_14.pdf', 'product_info_20.pdf', 'product_info_17.pdf', 'product_info_1.pdf', 'product_info_5.pdf', 'product_info_6.pdf', 'product_info_16.pdf', 'product_info_18.pdf', 'product_info_12.pdf', 'product_info_15.pdf', 'product_info_11.pdf', 'product_info_2.pdf']\n"
     ]
    }
   ],
   "source": [
    "import os\n",
    "\n",
    "file_directory = \"../Data/products\"\n",
    "\n",
    "# Get our files in the file directory\n",
    "try:\n",
    "    filenames = os.listdir(file_directory)\n",
    "    print(filenames)\n",
    "except FileNotFoundError:\n",
    "    print(f\"Directory '{file_directory}' not found.\")\n",
    "\n",
    "def get_filepath_for_filename(filename: str) -> str:\n",
    "    base_directory = file_directory\n",
    "    return os.path.join(base_directory, filename)\n",
    "\n"
   ]
  },
  {
   "cell_type": "markdown",
   "metadata": {},
   "source": [
    "## Create a Plugin"
   ]
  },
  {
   "cell_type": "code",
   "execution_count": 2,
   "metadata": {},
   "outputs": [],
   "source": [
    "from semantic_kernel.functions.kernel_function_decorator import kernel_function\n",
    "from typing import Annotated\n",
    "\n",
    "# Define a sample plugin for the hiking company\n",
    "class HikingPlugin:\n",
    "    \"\"\"A sample Hiking Plugin for the hiking company.\"\"\"\n",
    "\n",
    "    @kernel_function(description=\"Provides a list of hiking destinations.\")\n",
    "    def get_destinations(self) -> Annotated[str, \"Returns the hiking destinations that you can explore.\"]:\n",
    "        return \"\"\"\n",
    "            United States\n",
    "            Australia\n",
    "            France\n",
    "        \"\"\"\n",
    "\n",
    "    @kernel_function(description=\"Provides the typical hiking budget for a destination\")\n",
    "    def get_hiking_budget(self, \n",
    "        destination: Annotated[str, \"The name of the hiking destination\"]) -> Annotated[str, \"Returns the budget for the destination.\"]:\n",
    "        if destination == \"United States\":\n",
    "            return \"\"\"\n",
    "                Budget Hikers: Around $50 per day. This includes camping, cooking your own meals, and using public transportation.\n",
    "                Mid-Range Hikers: Approximately $150 per day. This covers mid-range accommodations, dining at average restaurants, and some paid attractions.\n",
    "                Luxury Hikers: About $400 per day. This includes luxury lodges, fine dining, and private transportation.\n",
    "            \"\"\"\n",
    "        elif destination == \"Australia\":\n",
    "            return \"\"\"\n",
    "                Budget Hikers: Around $40 per day. This includes camping, cooking your own meals, and using public transport.\n",
    "                Mid-Range Hikers: Approximately $120 per day. This covers mid-range accommodations, dining at average restaurants, and some paid attractions.\n",
    "                Luxury Hikers: About $350 per day. This includes luxury lodges, fine dining, and private transportation.\n",
    "            \"\"\"\n",
    "        elif destination == \"France\":\n",
    "            return \"\"\"\n",
    "                Budget Hikers: Around $45 per day. This includes camping, cooking your own meals, and using public transportation.\n",
    "                Mid-Range Hikers: Approximately $130 per day. This covers mid-range accommodations, dining at average restaurants, and some paid attractions.\n",
    "                Luxury Hikers: About $380 per day. This includes luxury lodges, fine dining, and private transportation.            \n",
    "            \"\"\"\n",
    "        else:\n",
    "            return \"Destination not found\"\n",
    "    \n",
    "    @kernel_function(description=\"Provides the weather for a hiking destination\")\n",
    "    def get_weather(self, \n",
    "        destination: Annotated[str, \"The name of the hiking destination\"]) -> Annotated[str, \"Returns the weather for the destination.\"]:\n",
    "        if destination == \"United States\":\n",
    "            return \"\"\"\n",
    "                The United States has a diverse climate. In general:\n",
    "                - **Winter**: Cold in the north, mild in the south. Average temperatures range from 26.6°F (-3°C) in Alaska to 70.7°F (21.5°C) in Florida.\n",
    "                - **Summer**: Hot and humid in the south, dry in the west. Average temperatures range from 52.7°F (11.5°C) to 70.7°F (21.5°C).\n",
    "            \"\"\"\n",
    "        elif destination == \"Australia\":\n",
    "            return \"\"\"\n",
    "                Australia experiences varied climates:\n",
    "                - **Winter**: Mild in the north, cooler in the south. Average temperatures range from 46°F (8°C) in Canberra to 77°F (25°C) in Darwin.\n",
    "                - **Summer**: Hot and dry in the interior, humid in the north. Average temperatures range from 68°F (20°C) in Hobart to 91°F (33°C) in Darwin.\n",
    "            \"\"\"\n",
    "        elif destination == \"France\":\n",
    "            return \"\"\"\n",
    "                France has several climate zones:\n",
    "                - **Winter**: Cold in the north, mild in the south. Average temperatures range from 35.5°F (2°C) in the northeast to 48°F (9°C) in the south.\n",
    "                - **Summer**: Warm and sunny. Average temperatures range from 63°F (17°C) in the north to 77°F (25°C) along the Mediterranean coast.\n",
    "            \"\"\"\n",
    "        else:\n",
    "            return \"Destination not found\""
   ]
  },
  {
   "cell_type": "markdown",
   "metadata": {},
   "source": [
    "## Reformat citations with the proper filenames"
   ]
  },
  {
   "cell_type": "code",
   "execution_count": 3,
   "metadata": {},
   "outputs": [],
   "source": [
    "from semantic_kernel.contents.annotation_content import AnnotationContent\n",
    "\n",
    "async def reformat_citations(agent, response):\n",
    "    # Extract the annotations\n",
    "    annotations = [item for item in response.items if isinstance(item, AnnotationContent)]\n",
    "    \n",
    "    # Original response\n",
    "    paragraph = response.content\n",
    "    \n",
    "    # Dictionary to store key-value pairs of text and filename\n",
    "    text_filename_pairs = {}\n",
    "\n",
    "    # Iterate over the annotations and extract the relevant information\n",
    "    for annotation in annotations:\n",
    "        file_id = annotation.file_id\n",
    "        text = annotation.quote\n",
    "        # Retrieve the filename from the file_id\n",
    "        cited_file = await agent.client.files.retrieve(file_id)\n",
    "        filename = cited_file.filename\n",
    "\n",
    "        if text not in text_filename_pairs:\n",
    "            text_filename_pairs[text] = []\n",
    "        text_filename_pairs[text].append(filename)\n",
    "\n",
    "    # Replace the citation texts with their corresponding filenames prefixed with \" Source: \"\n",
    "    for text, filenames in text_filename_pairs.items():\n",
    "        sources = \" Source: \" + \", \".join(filenames)\n",
    "        paragraph = paragraph.replace(text, sources)\n",
    "\n",
    "    return paragraph\n"
   ]
  },
  {
   "cell_type": "markdown",
   "metadata": {},
   "source": [
    "## Step 1-2: Create an Agent and Thread"
   ]
  },
  {
   "cell_type": "code",
   "execution_count": 4,
   "metadata": {},
   "outputs": [],
   "source": [
    "from semantic_kernel.agents.open_ai.azure_assistant_agent import AzureAssistantAgent\n",
    "from semantic_kernel.contents.chat_message_content import ChatMessageContent\n",
    "from semantic_kernel.contents.annotation_content import AnnotationContent\n",
    "from semantic_kernel.contents.utils.author_role import AuthorRole\n",
    "from semantic_kernel.kernel import Kernel\n",
    "\n",
    "# Step 0: Create a kernel and add the plugin\n",
    "kernel=Kernel()\n",
    "kernel.add_plugin(HikingPlugin(), plugin_name=\"HikingPlugin\")\n",
    "\n",
    "# Step 1: Create an assistant agent\n",
    "agent = await AzureAssistantAgent.create(\n",
    "        kernel=kernel,\n",
    "        service_id=\"agent\",\n",
    "        name=\"SK_OpenAI_Assistant_Agent_File_Search_with_Functions\",\n",
    "        instructions=\"\"\"\n",
    "            You are provided a document store and tools to search for information.\n",
    "            The document store contains Hiking products of Contoso company.\n",
    "            Always analyze the document store and tools to provide an answer to the user's question.\n",
    "            Never rely on your knowledge of information not included in the document store and tools.\n",
    "            Always format response using markdown.\n",
    "            \"\"\",\n",
    "        enable_file_search=True,\n",
    "        vector_store_filenames=[get_filepath_for_filename(filename) for filename in filenames],\n",
    "    )\n",
    "\n",
    "# Step 2: Create a thread\n",
    "thread_id = await agent.create_thread()"
   ]
  },
  {
   "cell_type": "markdown",
   "metadata": {},
   "source": [
    "## Step 3-6: Helper Function\n",
    "3. Add a message to the thread\n",
    "4. Run the Assistant\n",
    "5. Display the Assistant's Response"
   ]
  },
  {
   "cell_type": "code",
   "execution_count": 5,
   "metadata": {},
   "outputs": [],
   "source": [
    "async def run_assistant(user_question):\n",
    "    # STEP 3: Add a user question to the thread\n",
    "    await agent.add_chat_message(\n",
    "            thread_id=thread_id, \n",
    "            message=ChatMessageContent(role=AuthorRole.USER, content=user_question)\n",
    "    )\n",
    "\n",
    "    # STEP 4: Invoke the agent to get a response\n",
    "    async for response in agent.invoke(thread_id=thread_id):\n",
    "        annotations = [item for item in response.items if isinstance(item, AnnotationContent)]\n",
    "        #STEP 5: Print the Assistant response\n",
    "        if annotations is None:\n",
    "            print(f\"{response.content}\", end=\"\", flush=True)\n",
    "        else:\n",
    "            print(f\"{await reformat_citations(agent,response)}\", end=\"\", flush=True)"
   ]
  },
  {
   "cell_type": "code",
   "execution_count": 6,
   "metadata": {},
   "outputs": [
    {
     "name": "stdout",
     "output_type": "stream",
     "text": [
      "The price of the SummitClimber Backpack is $120 Source: product_info_9.pdf, product_info_9.pdf."
     ]
    }
   ],
   "source": [
    "user_question = \"What is the price of the SummitClimber Backpack?\"\n",
    "await run_assistant(user_question)"
   ]
  },
  {
   "cell_type": "markdown",
   "metadata": {},
   "source": [
    "## Appending Messages to the Thread"
   ]
  },
  {
   "cell_type": "code",
   "execution_count": 7,
   "metadata": {},
   "outputs": [
    {
     "name": "stdout",
     "output_type": "stream",
     "text": [
      "You can hike in the following countries:\n",
      "- United States\n",
      "- Australia\n",
      "- France"
     ]
    }
   ],
   "source": [
    "user_question = \"What countries can I hike?\"\n",
    "await run_assistant(user_question)"
   ]
  },
  {
   "cell_type": "code",
   "execution_count": 8,
   "metadata": {},
   "outputs": [
    {
     "name": "stdout",
     "output_type": "stream",
     "text": [
      "For a 3-day hike in the United States:\n",
      "\n",
      "### Budget:\n",
      "- **Budget Hikers:** Around $50 per day.\n",
      "  - Total for 3 days: $150\n",
      "  - This includes camping, cooking your own meals, and using public transportation.\n",
      "- **Mid-Range Hikers:** Approximately $150 per day.\n",
      "  - Total for 3 days: $450\n",
      "  - This covers mid-range accommodations, dining at average restaurants, and some paid attractions.\n",
      "- **Luxury Hikers:** About $400 per day.\n",
      "  - Total for 3 days: $1200\n",
      "  - This includes luxury lodges, fine dining, and private transportation.\n",
      "\n",
      "### Weather:\n",
      "The United States has a diverse climate. In general:\n",
      "- **Winter:** Cold in the north, mild in the south. Average temperatures range from 26.6°F (-3°C) in Alaska to 70.7°F (21.5°C) in Florida.\n",
      "- **Summer:** Hot and humid in the south, dry in the west. Average temperatures range from 52.7°F (11.5°C) to 70.7°F (21.5°C)."
     ]
    }
   ],
   "source": [
    "user_question = \"If I go to the US, how much money do I need for a 3 day hike and what would the weather be like?\"\n",
    "await run_assistant(user_question)"
   ]
  },
  {
   "cell_type": "code",
   "execution_count": 9,
   "metadata": {},
   "outputs": [
    {
     "name": "stdout",
     "output_type": "stream",
     "text": [
      "Given your budget of $1000 and a 3-day hike costing $150, you have $850 remaining. Here are some hiking products you can buy with the remaining amount:\n",
      "\n",
      "1. **TrekReady Hiking Boots** - Price: $140\n",
      "   - Durable, waterproof, and designed for long-lasting performance and comfort Source: product_info_4.pdf, product_info_2.pdf.\n",
      "\n",
      "2. **SummitClimber Backpack** - Price: $120\n",
      "   - Featuring a 60-liter capacity, ergonomic design, and integrated rain cover for all your hiking needs Source: product_info_9.pdf, product_info_2.pdf.\n",
      "\n",
      "3. **TrailBlaze Hiking Pants** - Price: $75\n",
      "   - Made of quick-drying and breathable materials, these pants are perfect for your outdoor adventures Source: product_info_10.pdf, product_info_2.pdf.\n",
      "\n",
      "4. **RainGuard Hiking Jacket** - Price: $110\n",
      "   - Waterproof and breathable jacket designed to keep you dry and comfortable in wet conditions Source: product_info_17.pdf, product_info_2.pdf.\n",
      "\n",
      "5. **TrekStar Hiking Sandals** - Price: $70\n",
      "   - Durable and comfortable, suitable for both hiking and water activities Source: product_info_18.pdf, product_info_2.pdf.\n",
      "\n",
      "6. **TrailLite Daypack** - Price: $60\n",
      "   - Lightweight and durable, perfect for day hikes with multiple pockets for organization Source: product_info_16.pdf, product_info_2.pdf.\n",
      "\n",
      "### Total:\n",
      "- **TrekReady Hiking Boots**: $140\n",
      "- **SummitClimber Backpack**: $120\n",
      "- **TrailBlaze Hiking Pants**: $75\n",
      "- **RainGuard Hiking Jacket**: $110\n",
      "- **TrekStar Hiking Sandals**: $70\n",
      "- **TrailLite Daypack**: $60\n",
      "\n",
      "### Total Amount = $575\n",
      "\n",
      "This leaves you with $275 to spare."
     ]
    }
   ],
   "source": [
    "user_question = \"\"\"\n",
    "I have a total budget of $1000. \n",
    "If I will hike in the US for 3 days on a budget, what products can you recommend that I buy with the money left?\n",
    "\"\"\"\n",
    "await run_assistant(user_question)"
   ]
  },
  {
   "cell_type": "markdown",
   "metadata": {},
   "source": [
    "## Deleting Files, Thread, Agent"
   ]
  },
  {
   "cell_type": "code",
   "execution_count": 20,
   "metadata": {},
   "outputs": [],
   "source": [
    "if agent is not None:\n",
    "    [await agent.delete_file(file_id) for file_id in agent.file_search_file_ids]\n",
    "    await agent.delete_thread(thread_id)\n",
    "    await agent.delete()\n"
   ]
  }
 ],
 "metadata": {
  "kernelspec": {
   "display_name": "Python 3",
   "language": "python",
   "name": "python3"
  },
  "language_info": {
   "codemirror_mode": {
    "name": "ipython",
    "version": 3
   },
   "file_extension": ".py",
   "mimetype": "text/x-python",
   "name": "python",
   "nbconvert_exporter": "python",
   "pygments_lexer": "ipython3",
   "version": "3.12.1"
  }
 },
 "nbformat": 4,
 "nbformat_minor": 2
}
