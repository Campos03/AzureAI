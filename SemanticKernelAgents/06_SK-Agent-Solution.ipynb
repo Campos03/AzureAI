{
 "cells": [
  {
   "cell_type": "markdown",
   "metadata": {},
   "source": [
    "# Semantic Kernel Agent Solution"
   ]
  },
  {
   "cell_type": "markdown",
   "metadata": {},
   "source": [
    "## Prepare the files"
   ]
  },
  {
   "cell_type": "code",
   "execution_count": null,
   "metadata": {},
   "outputs": [],
   "source": [
    "import os\n",
    "\n",
    "file_directory = \"../Data/products\"\n",
    "\n",
    "def get_filepath_for_filename(filename: str) -> str:\n",
    "    base_directory = file_directory\n",
    "    return os.path.join(base_directory, filename)\n",
    "\n",
    "# List all files in the directory\n",
    "base_directory = file_directory\n",
    "try:\n",
    "    filenames = os.listdir(base_directory)\n",
    "    print(filenames)\n",
    "except FileNotFoundError:\n",
    "    print(f\"Directory '{base_directory}' not found.\")"
   ]
  },
  {
   "cell_type": "markdown",
   "metadata": {},
   "source": [
    "## Create a Plugin"
   ]
  },
  {
   "cell_type": "code",
   "execution_count": 12,
   "metadata": {},
   "outputs": [],
   "source": [
    "from semantic_kernel.functions.kernel_function_decorator import kernel_function\n",
    "from typing import Annotated\n",
    "\n",
    "# Define a sample plugin for the hiking company\n",
    "class HikingPlugin:\n",
    "    \"\"\"A sample Hiking Plugin for the hiking company.\"\"\"\n",
    "\n",
    "    @kernel_function(description=\"Provides a list of hiking destinations.\")\n",
    "    def get_destinations(self) -> Annotated[str, \"Returns the hiking destinations that you can explore.\"]:\n",
    "        return \"\"\"\n",
    "            United States\n",
    "            Australia\n",
    "            France\n",
    "        \"\"\"\n",
    "\n",
    "    @kernel_function(description=\"Provides the typical hiking budget for a destination\")\n",
    "    def get_hiking_budget(self, \n",
    "        destination: Annotated[str, \"The name of the hiking destination\"]) -> Annotated[str, \"Returns the budget for the destination.\"]:\n",
    "        if destination == \"United States\":\n",
    "            return \"\"\"\n",
    "                Budget Hikers: Around $50 per day. This includes camping, cooking your own meals, and using public transportation.\n",
    "                Mid-Range Hikers: Approximately $150 per day. This covers mid-range accommodations, dining at average restaurants, and some paid attractions.\n",
    "                Luxury Hikers: About $400 per day. This includes luxury lodges, fine dining, and private transportation.\n",
    "            \"\"\"\n",
    "        elif destination == \"Australia\":\n",
    "            return \"\"\"\n",
    "                Budget Hikers: Around $40 per day. This includes camping, cooking your own meals, and using public transport.\n",
    "                Mid-Range Hikers: Approximately $120 per day. This covers mid-range accommodations, dining at average restaurants, and some paid attractions.\n",
    "                Luxury Hikers: About $350 per day. This includes luxury lodges, fine dining, and private transportation.\n",
    "            \"\"\"\n",
    "        elif destination == \"France\":\n",
    "            return \"\"\"\n",
    "                Budget Hikers: Around $45 per day. This includes camping, cooking your own meals, and using public transportation.\n",
    "                Mid-Range Hikers: Approximately $130 per day. This covers mid-range accommodations, dining at average restaurants, and some paid attractions.\n",
    "                Luxury Hikers: About $380 per day. This includes luxury lodges, fine dining, and private transportation.            \n",
    "            \"\"\"\n",
    "        else:\n",
    "            return \"Destination not found\"\n",
    "    \n",
    "    @kernel_function(description=\"Provides the weather for a hiking destination\")\n",
    "    def get_weather(self, \n",
    "        destination: Annotated[str, \"The name of the hiking destination\"]) -> Annotated[str, \"Returns the weather for the destination.\"]:\n",
    "        if destination == \"United States\":\n",
    "            return \"\"\"\n",
    "                The United States has a diverse climate. In general:\n",
    "                - **Winter**: Cold in the north, mild in the south. Average temperatures range from 26.6°F (-3°C) in Alaska to 70.7°F (21.5°C) in Florida.\n",
    "                - **Summer**: Hot and humid in the south, dry in the west. Average temperatures range from 52.7°F (11.5°C) to 70.7°F (21.5°C).\n",
    "            \"\"\"\n",
    "        elif destination == \"Australia\":\n",
    "            return \"\"\"\n",
    "                Australia experiences varied climates:\n",
    "                - **Winter**: Mild in the north, cooler in the south. Average temperatures range from 46°F (8°C) in Canberra to 77°F (25°C) in Darwin.\n",
    "                - **Summer**: Hot and dry in the interior, humid in the north. Average temperatures range from 68°F (20°C) in Hobart to 91°F (33°C) in Darwin.\n",
    "            \"\"\"\n",
    "        elif destination == \"France\":\n",
    "            return \"\"\"\n",
    "                France has several climate zones:\n",
    "                - **Winter**: Cold in the north, mild in the south. Average temperatures range from 35.5°F (2°C) in the northeast to 48°F (9°C) in the south.\n",
    "                - **Summer**: Warm and sunny. Average temperatures range from 63°F (17°C) in the north to 77°F (25°C) along the Mediterranean coast.\n",
    "            \"\"\"\n",
    "        else:\n",
    "            return \"Destination not found\""
   ]
  },
  {
   "cell_type": "markdown",
   "metadata": {},
   "source": [
    "## Reformat citations with the proper filenames"
   ]
  },
  {
   "cell_type": "code",
   "execution_count": 13,
   "metadata": {},
   "outputs": [],
   "source": [
    "async def reformat_citations(agent, response):\n",
    "    # Extract the annotations\n",
    "    annotations = [item for item in response.items if isinstance(item, AnnotationContent)]\n",
    "    \n",
    "    # Original response\n",
    "    paragraph = response.content\n",
    "    \n",
    "    # Dictionary to store key-value pairs of text and filename\n",
    "    text_filename_pairs = {}\n",
    "\n",
    "    # Iterate over the annotations and extract the relevant information\n",
    "    for annotation in annotations:\n",
    "        file_id = annotation.file_id\n",
    "        text = annotation.quote\n",
    "        # Retrieve the filename from the file_id\n",
    "        cited_file = await agent.client.files.retrieve(file_id)\n",
    "        filename = cited_file.filename\n",
    "\n",
    "        if text not in text_filename_pairs:\n",
    "            text_filename_pairs[text] = []\n",
    "        text_filename_pairs[text].append(filename)\n",
    "\n",
    "    # Replace the citation texts with their corresponding filenames prefixed with \" Source: \"\n",
    "    for text, filenames in text_filename_pairs.items():\n",
    "        sources = \" Source: \" + \", \".join(filenames)\n",
    "        paragraph = paragraph.replace(text, sources)\n",
    "\n",
    "    return paragraph\n"
   ]
  },
  {
   "cell_type": "markdown",
   "metadata": {},
   "source": [
    "## Step 1-2: Create an Agent and Thread"
   ]
  },
  {
   "cell_type": "code",
   "execution_count": 14,
   "metadata": {},
   "outputs": [],
   "source": [
    "from semantic_kernel.agents.open_ai.azure_assistant_agent import AzureAssistantAgent\n",
    "from semantic_kernel.contents.chat_message_content import ChatMessageContent\n",
    "from semantic_kernel.contents.annotation_content import AnnotationContent\n",
    "from semantic_kernel.contents.utils.author_role import AuthorRole\n",
    "from semantic_kernel.kernel import Kernel\n",
    "\n",
    "# Step 0: Create a kernel and add the plugin\n",
    "kernel=Kernel()\n",
    "kernel.add_plugin(HikingPlugin(), plugin_name=\"HikingPlugin\")\n",
    "\n",
    "# Step 1: Create an assistant agent\n",
    "agent = await AzureAssistantAgent.create(\n",
    "        kernel=kernel,\n",
    "        service_id=\"agent\",\n",
    "        name=\"SK_OpenAI_Assistant_Agent_File_Search_with_Functions\",\n",
    "        instructions=\"\"\"\n",
    "            You are provided a document store and tools to search for information.\n",
    "            The document store contains Hiking products of Contoso company.\n",
    "            Always analyze the document store and tools to provide an answer to the user's question.\n",
    "            Never rely on your knowledge of information not included in the document store and tools.\n",
    "            Always format response using markdown.\n",
    "            \"\"\",\n",
    "        enable_file_search=True,\n",
    "        vector_store_filenames=[get_filepath_for_filename(filename) for filename in filenames],\n",
    "    )\n",
    "\n",
    "# Step 2: Create a thread\n",
    "thread_id = await agent.create_thread()"
   ]
  },
  {
   "cell_type": "markdown",
   "metadata": {},
   "source": [
    "## Step 3-6: Helper Function\n",
    "3. Add a message to the thread\n",
    "4. Run the Assistant\n",
    "5. Display the Assistant's Response"
   ]
  },
  {
   "cell_type": "code",
   "execution_count": 15,
   "metadata": {},
   "outputs": [],
   "source": [
    "async def run_assistant(user_question):\n",
    "    # STEP 3: Add a user question to the thread\n",
    "    await agent.add_chat_message(\n",
    "            thread_id=thread_id, \n",
    "            message=ChatMessageContent(role=AuthorRole.USER, content=user_question)\n",
    "    )\n",
    "\n",
    "    # STEP 4: Invoke the agent to get a response\n",
    "    async for response in agent.invoke(thread_id=thread_id):\n",
    "        annotations = [item for item in response.items if isinstance(item, AnnotationContent)]\n",
    "        #STEP 5: Print the Assistant response\n",
    "        if annotations is None:\n",
    "            print(f\"{response.content}\", end=\"\", flush=True)\n",
    "        else:\n",
    "            print(f\"{await reformat_citations(agent,response)}\", end=\"\", flush=True)"
   ]
  },
  {
   "cell_type": "code",
   "execution_count": null,
   "metadata": {},
   "outputs": [],
   "source": [
    "user_question = \"What is the price of the SummitClimber Backpack?\"\n",
    "await run_assistant(user_question)"
   ]
  },
  {
   "cell_type": "markdown",
   "metadata": {},
   "source": [
    "## Appending Messages to the Thread"
   ]
  },
  {
   "cell_type": "code",
   "execution_count": null,
   "metadata": {},
   "outputs": [],
   "source": [
    "user_question = \"What countries can I hike?\"\n",
    "await run_assistant(user_question)"
   ]
  },
  {
   "cell_type": "code",
   "execution_count": null,
   "metadata": {},
   "outputs": [],
   "source": [
    "user_question = \"If I go to the US, how much money do I need for a 3 day hike and what would the weather be like?\"\n",
    "await run_assistant(user_question)"
   ]
  },
  {
   "cell_type": "code",
   "execution_count": null,
   "metadata": {},
   "outputs": [],
   "source": [
    "user_question = \"\"\"\n",
    "I have a total budget of $1000. \n",
    "If I will hike in the US for 3 days on a budget, what products can you recommend that I buy with the money left?\n",
    "\"\"\"\n",
    "await run_assistant(user_question)"
   ]
  },
  {
   "cell_type": "markdown",
   "metadata": {},
   "source": [
    "## Deleting Files, Thread, Agent"
   ]
  },
  {
   "cell_type": "code",
   "execution_count": 20,
   "metadata": {},
   "outputs": [],
   "source": [
    "if agent is not None:\n",
    "    [await agent.delete_file(file_id) for file_id in agent.file_search_file_ids]\n",
    "    await agent.delete_thread(thread_id)\n",
    "    await agent.delete()\n"
   ]
  }
 ],
 "metadata": {
  "kernelspec": {
   "display_name": "Python 3",
   "language": "python",
   "name": "python3"
  },
  "language_info": {
   "codemirror_mode": {
    "name": "ipython",
    "version": 3
   },
   "file_extension": ".py",
   "mimetype": "text/x-python",
   "name": "python",
   "nbconvert_exporter": "python",
   "pygments_lexer": "ipython3",
   "version": "3.12.1"
  }
 },
 "nbformat": 4,
 "nbformat_minor": 2
}
