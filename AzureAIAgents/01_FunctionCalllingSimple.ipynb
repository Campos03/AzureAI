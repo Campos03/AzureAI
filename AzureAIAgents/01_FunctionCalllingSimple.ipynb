{
 "cells": [
  {
   "cell_type": "markdown",
   "id": "722fd4c0",
   "metadata": {},
   "source": [
    "# Azure AI Agents function calling\n",
    "\n",
    "This version has the SDK poll on our behalf"
   ]
  },
  {
   "cell_type": "markdown",
   "id": "ae067c98",
   "metadata": {},
   "source": [
    "## Define a function for your agent to call"
   ]
  },
  {
   "cell_type": "code",
   "execution_count": 10,
   "id": "d9c230e9",
   "metadata": {},
   "outputs": [],
   "source": [
    "import json\n",
    "from typing import Any, Callable, Set, Dict, List, Optional\n",
    "\n",
    "def fetch_weather(location: str) -> str:\n",
    "    \"\"\"\n",
    "    Fetches the weather information for the specified location.\n",
    "\n",
    "    :param location (str): The location to fetch weather for.\n",
    "    :return: Weather information as a JSON string.\n",
    "    :rtype: str\n",
    "    \"\"\"\n",
    "    # In a real-world scenario, you'd integrate with a weather API.\n",
    "    # Here, we'll mock the response.\n",
    "    mock_weather_data = {\n",
    "        \"New York\": \"Sunny, 25°C\", \n",
    "        \"London\": \"Cloudy, 18°C\", \n",
    "        \"Tokyo\": \"Rainy, 22°C\"\n",
    "    }\n",
    "    weather = mock_weather_data.get(location, \"Weather data not available for this location.\")\n",
    "    weather_json = json.dumps({\"weather\": weather})\n",
    "    return weather_json\n",
    "\n",
    "def fetch_restaurant(location: str) -> str:\n",
    "    \"\"\"\n",
    "    Fetches the restaurant information for the specified location.\n",
    "\n",
    "    :param location (str): The location to fetch the restaurant for.\n",
    "    :return: Restaurant information as a JSON string.\n",
    "    :rtype: str\n",
    "    \"\"\"\n",
    "    # In a real-world scenario, you'd integrate with a restaurant API.\n",
    "    # Here, we'll mock the response.\n",
    "    mock_restaurant_data = {\n",
    "        \"New York\": \"Tatiana by Kwame Onwuachi, Katz’s Delicatessen, Peter Luger Steakhouse, Sylvia's, Nathan's Famous\", \n",
    "        \"London\": \"St. JOHN, Señor Ceviche, Gloria and Circolo Popolare, Normah's, Bouchon Racine\", \n",
    "        \"Tokyo\": \"Chanko & Wanko Restaurant Asakusa Sumo Club, Sky Restaurant 634 Musashi, Ichiran, Shibuya, Rokkasen Otakibashiidori, Hakushu - Kobe Teppanyaki\"\n",
    "    }\n",
    "    restaurant = mock_restaurant_data.get(location, \"Restaurant data not available for this location.\")\n",
    "    restaurant_json = json.dumps({\"restaurant\": restaurant})\n",
    "    return restaurant_json\n",
    "\n",
    "def fetch_budget() -> str:\n",
    "    \"\"\"\n",
    "    Fetches the budget information for the specified location.\n",
    "    :return: budget information as a JSON string.\n",
    "    :rtype: str\n",
    "    \"\"\"\n",
    "    # In a real-world scenario, you'd integrate with a another API.\n",
    "    # Here, we'll mock the response.\n",
    "    mock_budget_data = {\n",
    "        \"New York\": \"\"\"\n",
    "            Budget Travelers: Around $121 per day. This includes staying in hostels, eating at budget restaurants, and using public transportation.\n",
    "            Mid-Range Travelers: Approximately $324 per day. This covers mid-range hotels, dining at average restaurants, and some paid attractions.\n",
    "            Luxury Travelers: About $923 per day. This includes luxury hotels, fine dining, and private transportation.\n",
    "        \"\"\", \n",
    "        \"London\": \"\"\"\n",
    "            Budget Travelers: Around $75 per day. This includes staying in hostels, cooking your own meals, and using public transport.\n",
    "            Mid-Range Travelers: Approximately $195 per day. This covers mid-range hotels, dining at average restaurants, and some paid attractions.\n",
    "            Luxury Travelers: About $517 per day. This includes luxury hotels, fine dining, and private transportation.\n",
    "        \"\"\", \n",
    "        \"Tokyo\": \"\"\"\n",
    "            Budget Travelers: Around $100 per day. This includes staying in hostels, eating at budget restaurants, and using public transportation.\n",
    "            Mid-Range Travelers: Approximately $286 per day. This covers mid-range hotels, dining at average restaurants, and some paid attractions.\n",
    "            Luxury Travelers: About $908 per day. This includes luxury hotels, fine dining, and private transportation.\n",
    "        \"\"\"\n",
    "    }\n",
    "    budget_json = json.dumps({\"budget\": mock_budget_data})\n",
    "    return budget_json\n",
    "\n",
    "\n",
    "# Statically defined user functions for fast reference\n",
    "user_functions: Set[Callable[..., Any]] = {\n",
    "    fetch_weather, fetch_restaurant, fetch_budget\n",
    "}"
   ]
  },
  {
   "cell_type": "markdown",
   "id": "45552a69",
   "metadata": {},
   "source": [
    "## STEP 1: Create a client and agent"
   ]
  },
  {
   "cell_type": "code",
   "execution_count": null,
   "id": "5c2457cc",
   "metadata": {},
   "outputs": [
    {
     "name": "stdout",
     "output_type": "stream",
     "text": [
      "Created agent, ID: asst_n8vdybC82ifLFGOMFFCZu360\n"
     ]
    }
   ],
   "source": [
    "import os\n",
    "from azure.ai.projects import AIProjectClient\n",
    "from azure.identity import DefaultAzureCredential\n",
    "from azure.ai.projects.models import FunctionTool, ToolSet\n",
    "\n",
    "# Create an Azure AI Client from a connection string, copied from your Azure AI Foundry project.\n",
    "# It should be in the format \"<HostName>;<AzureSubscriptionId>;<ResourceGroup>;<HubName>\"\n",
    "# Customers need to login to Azure subscription via Azure CLI and set the environment variables\n",
    "\n",
    "project_client = AIProjectClient.from_connection_string(\n",
    "    credential=DefaultAzureCredential(),\n",
    "    conn_str=os.environ[\"PROJECT_CONNECTION_STRING\"],\n",
    ")\n",
    "\n",
    "# Initialize agent toolset with user functions\n",
    "functions = FunctionTool(user_functions)\n",
    "toolset = ToolSet()\n",
    "toolset.add(functions)\n",
    "\n",
    "agent = project_client.agents.create_agent(\n",
    "    model=\"gpt-4o\", \n",
    "    name=\"my-agent\", \n",
    "    instructions=\"You are an AI Travel Agent. Use the provided functions to help answer questions.\", \n",
    "    toolset=toolset\n",
    ")\n",
    "print(f\"Created agent, ID: {agent.id}\")"
   ]
  },
  {
   "cell_type": "markdown",
   "id": "ba73540b",
   "metadata": {},
   "source": [
    "## STEP 2: Create a thread"
   ]
  },
  {
   "cell_type": "code",
   "execution_count": 12,
   "id": "94096a77",
   "metadata": {},
   "outputs": [
    {
     "name": "stdout",
     "output_type": "stream",
     "text": [
      "Created thread, ID: thread_Ox8Slffim9AhWULIBCDUzLgV\n"
     ]
    }
   ],
   "source": [
    "thread = project_client.agents.create_thread()\n",
    "print(f\"Created thread, ID: {thread.id}\")"
   ]
  },
  {
   "cell_type": "markdown",
   "id": "3c5a2541",
   "metadata": {},
   "source": [
    "## Step 3-6: Helper Function\n",
    "3. Add a message to the thread\n",
    "4. Run the Agent\n",
    "5. Check the Run Status\n",
    "6. Display the Agent's Response\n"
   ]
  },
  {
   "cell_type": "code",
   "execution_count": 13,
   "id": "8b6c43ec",
   "metadata": {},
   "outputs": [],
   "source": [
    "def run_agent(user_input):  \n",
    "    # Step 3: Add a message to the thread  \n",
    "    message = project_client.agents.create_message(\n",
    "        thread_id=thread.id,\n",
    "        role=\"user\",\n",
    "        content=user_input,\n",
    "    )\n",
    "    print(f\"Created message, ID: {message.id}\")\n",
    "\n",
    "    # Step 4 & 5: Create and process agent run in thread with tools\n",
    "    run = project_client.agents.create_and_process_run(thread_id=thread.id, agent_id=agent.id)\n",
    "\n",
    "    if run.status == \"failed\":\n",
    "        print(f\"Run failed: {run.last_error}\")\n",
    "\n",
    "    # Step 6: Display the Agent's Response\n",
    "    elif run.status == 'completed':\n",
    "            # Fetch all messages in the thread\n",
    "            messages = project_client.agents.list_messages(thread_id=thread.id)\n",
    "            if messages.data:\n",
    "                agent_message = messages.data[0]  # Get the last assistant message\n",
    "                print(f\"Agent Response: {agent_message.content[0].text.value}\") \n",
    "            else:\n",
    "                print(\"No messages found.\")"
   ]
  },
  {
   "cell_type": "markdown",
   "id": "b32df538",
   "metadata": {},
   "source": [
    "## Running the agent using the Helper Function"
   ]
  },
  {
   "cell_type": "code",
   "execution_count": 14,
   "id": "f70db8d0",
   "metadata": {},
   "outputs": [
    {
     "name": "stdout",
     "output_type": "stream",
     "text": [
      "Created message, ID: msg_13TOzgHuf3SYuebxVc6E3Zeg\n",
      "Agent Response: The weather in Tokyo is currently rainy with a temperature of 22°C.\n"
     ]
    }
   ],
   "source": [
    "user_input = \"Hello, what is the weather in Tokyo?\"\n",
    "run_agent(user_input)"
   ]
  },
  {
   "cell_type": "code",
   "execution_count": 6,
   "id": "9de4d8e9",
   "metadata": {},
   "outputs": [
    {
     "name": "stdout",
     "output_type": "stream",
     "text": [
      "Created message, ID: msg_Dl22qsmuDujQ78EvRlPoDcUA\n",
      "Agent Response: In Tokyo, the budget ranges depending on your travel style:\n",
      "\n",
      "- **Budget Travelers**: Around $100 per day, including stays in hostels, meals at budget restaurants, and public transportation.\n",
      "- **Mid-Range Travelers**: Approximately $286 per day, covering mid-range hotels, dining at average restaurants, and some paid attractions.\n",
      "- **Luxury Travelers**: About $908 per day, including luxury hotels, fine dining, and private transportation.\n"
     ]
    }
   ],
   "source": [
    "user_input = \"What is the budget there?\"\n",
    "run_agent(user_input)"
   ]
  },
  {
   "cell_type": "code",
   "execution_count": 7,
   "id": "4a77ada8",
   "metadata": {},
   "outputs": [
    {
     "name": "stdout",
     "output_type": "stream",
     "text": [
      "Created message, ID: msg_pLqk7oZ1qXz0c7KmbPJd4vvr\n",
      "Agent Response: In London, you can dine at some great places such as:\n",
      "\n",
      "- **St. JOHN**\n",
      "- **Señor Ceviche**\n",
      "- **Gloria and Circolo Popolare**\n",
      "- **Normah's**\n",
      "- **Bouchon Racine**\n"
     ]
    }
   ],
   "source": [
    "user_input = \"Where can I eat in London?\"\n",
    "run_agent(user_input)"
   ]
  },
  {
   "cell_type": "code",
   "execution_count": 15,
   "id": "19e01232",
   "metadata": {},
   "outputs": [
    {
     "name": "stdout",
     "output_type": "stream",
     "text": [
      "Created message, ID: msg_VRqUaBNP1Udqrvl4CTasxFFI\n",
      "Agent Response: Based on your $300 budget and aiming for a 4-day trip, here are some options for budget travelers:\n",
      "\n",
      "1. **London**: It costs around $75 per day for budget travelers (hostels, cooking, public transport). A 4-day trip would total about $300—perfect for your budget.\n",
      "\n",
      "2. **Tokyo**: It costs around $100 per day for budget travelers (hostels, budget restaurants, public transport). This would exceed your budget at $400 for 4 days, so Tokyo might not fit.\n",
      "\n",
      "3. **New York**: It costs around $121 per day for budget travelers. A 4-day trip totals $484—well above your $300 budget.\n",
      "\n",
      "For your budget, London is the most feasible option for a 4-day trip.\n"
     ]
    }
   ],
   "source": [
    "user_input = \"I only have 300 USD. What country can I visit for 4 days?\"\n",
    "run_agent(user_input)"
   ]
  },
  {
   "cell_type": "markdown",
   "id": "f393d6f3",
   "metadata": {},
   "source": [
    "## Delete Agent to free up resources"
   ]
  },
  {
   "cell_type": "code",
   "execution_count": 16,
   "id": "a040e1cc",
   "metadata": {},
   "outputs": [
    {
     "name": "stdout",
     "output_type": "stream",
     "text": [
      "Deleted agent\n"
     ]
    }
   ],
   "source": [
    "# Delete the agent when done\n",
    "project_client.agents.delete_agent(agent.id)\n",
    "print(\"Deleted agent\")"
   ]
  }
 ],
 "metadata": {
  "kernelspec": {
   "display_name": "Python 3",
   "language": "python",
   "name": "python3"
  },
  "language_info": {
   "codemirror_mode": {
    "name": "ipython",
    "version": 3
   },
   "file_extension": ".py",
   "mimetype": "text/x-python",
   "name": "python",
   "nbconvert_exporter": "python",
   "pygments_lexer": "ipython3",
   "version": "3.12.1"
  }
 },
 "nbformat": 4,
 "nbformat_minor": 5
}
