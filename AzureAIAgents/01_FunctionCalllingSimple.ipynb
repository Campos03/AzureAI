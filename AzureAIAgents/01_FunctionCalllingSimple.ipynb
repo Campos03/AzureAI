{
 "cells": [
  {
   "cell_type": "markdown",
   "id": "722fd4c0",
   "metadata": {},
   "source": [
    "# Azure AI Agents function calling\n",
    "\n",
    "This version has the SDK poll on our behalf"
   ]
  },
  {
   "cell_type": "markdown",
   "id": "ae067c98",
   "metadata": {},
   "source": [
    "## Define a function for your agent to call"
   ]
  },
  {
   "cell_type": "code",
   "execution_count": 1,
   "id": "d9c230e9",
   "metadata": {},
   "outputs": [],
   "source": [
    "import json, os\n",
    "from typing import Any, Callable, Set, Dict, List, Optional\n",
    "\n",
    "def fetch_weather(location: str) -> str:\n",
    "    \"\"\"\n",
    "    Fetches the weather information for the specified location.\n",
    "\n",
    "    :param location (str): The location to fetch weather for.\n",
    "    :return: Weather information as a JSON string.\n",
    "    :rtype: str\n",
    "    \"\"\"\n",
    "    # In a real-world scenario, you'd integrate with a weather API.\n",
    "    # Here, we'll mock the response.\n",
    "    mock_weather_data = {\n",
    "        \"New York\": \"Sunny, 25°C\", \n",
    "        \"London\": \"Cloudy, 18°C\", \n",
    "        \"Tokyo\": \"Rainy, 22°C\"\n",
    "    }\n",
    "    weather = mock_weather_data.get(location, \"Weather data not available for this location.\")\n",
    "    weather_json = json.dumps({\"weather\": weather})\n",
    "    return weather_json\n",
    "\n",
    "def fetch_restaurant(location: str) -> str:\n",
    "    \"\"\"\n",
    "    Fetches the restaurant information for the specified location.\n",
    "\n",
    "    :param location (str): The location to fetch the restaurant for.\n",
    "    :return: Restaurant information as a JSON string.\n",
    "    :rtype: str\n",
    "    \"\"\"\n",
    "    # In a real-world scenario, you'd integrate with a restaurant API.\n",
    "    # Here, we'll mock the response.\n",
    "    mock_restaurant_data = {\n",
    "        \"New York\": \"Tatiana by Kwame Onwuachi, Katz’s Delicatessen, Peter Luger Steakhouse, Sylvia's, Nathan's Famous\", \n",
    "        \"London\": \"St. JOHN, Señor Ceviche, Gloria and Circolo Popolare, Normah's, Bouchon Racine\", \n",
    "        \"Tokyo\": \"Chanko & Wanko Restaurant Asakusa Sumo Club, Sky Restaurant 634 Musashi, Ichiran, Shibuya, Rokkasen Otakibashiidori, Hakushu - Kobe Teppanyaki\"\n",
    "    }\n",
    "    restaurant = mock_restaurant_data.get(location, \"Restaurant data not available for this location.\")\n",
    "    restaurant_json = json.dumps({\"restaurant\": restaurant})\n",
    "    return restaurant_json\n",
    "\n",
    "def fetch_budget() -> str:\n",
    "    \"\"\"\n",
    "    Fetches the budget information for the specified location.\n",
    "    :return: budget information as a JSON string.\n",
    "    :rtype: str\n",
    "    \"\"\"\n",
    "    # In a real-world scenario, you'd integrate with a another API.\n",
    "    # Here, we'll mock the response.\n",
    "    mock_budget_data = {\n",
    "        \"New York\": \"\"\"\n",
    "            Budget Travelers: Around $121 per day. This includes staying in hostels, eating at budget restaurants, and using public transportation.\n",
    "            Mid-Range Travelers: Approximately $324 per day. This covers mid-range hotels, dining at average restaurants, and some paid attractions.\n",
    "            Luxury Travelers: About $923 per day. This includes luxury hotels, fine dining, and private transportation.\n",
    "        \"\"\", \n",
    "        \"London\": \"\"\"\n",
    "            Budget Travelers: Around $75 per day. This includes staying in hostels, cooking your own meals, and using public transport.\n",
    "            Mid-Range Travelers: Approximately $195 per day. This covers mid-range hotels, dining at average restaurants, and some paid attractions.\n",
    "            Luxury Travelers: About $517 per day. This includes luxury hotels, fine dining, and private transportation.\n",
    "        \"\"\", \n",
    "        \"Tokyo\": \"\"\"\n",
    "            Budget Travelers: Around $100 per day. This includes staying in hostels, eating at budget restaurants, and using public transportation.\n",
    "            Mid-Range Travelers: Approximately $286 per day. This covers mid-range hotels, dining at average restaurants, and some paid attractions.\n",
    "            Luxury Travelers: About $908 per day. This includes luxury hotels, fine dining, and private transportation.\n",
    "        \"\"\"\n",
    "    }\n",
    "    budget_json = json.dumps({\"budget\": mock_budget_data})\n",
    "    return budget_json\n",
    "\n",
    "def fetch_product_info(userquery: str) -> str:\n",
    "    \"\"\"\n",
    "    Fetches the product information for the specified user query.\n",
    "    :return: product information.\n",
    "    :rtype: str\n",
    "    \"\"\"\n",
    "\n",
    "    from azure.search.documents import SearchClient\n",
    "    from azure.search.documents.models import VectorizableTextQuery\n",
    "    from azure.core.credentials import AzureKeyCredential\n",
    "    from openai import AzureOpenAI\n",
    "\n",
    "    azure_search_service_admin_key = os.getenv(\"AZURE_SEARCH_ADMIN_KEY\")\n",
    "    azure_search_service_endpoint = os.getenv(\"AZURE_SEARCH_SERVICE_ENDPOINT\")\n",
    "    azure_search_service_index_name = os.getenv(\"AZURE_SEARCH_INDEX_NAME\")\n",
    "    azure_openai_api_version = os.getenv(\"AZURE_OPENAI_API_VERSION\")\n",
    "    azure_openai_endpoint = os.getenv(\"AZURE_OPENAI_ENDPOINT\")\n",
    "    azure_openai_key = os.getenv(\"AZURE_OPENAI_API_KEY\")\n",
    "    azure_openai_deployment = os.getenv(\"AZURE_OPENAI_CHAT_DEPLOYMENT_NAME\")\n",
    "\n",
    "    # Get credential from Azure AI Search Admin key\n",
    "    credential = AzureKeyCredential(azure_search_service_admin_key)\n",
    "    search_client = SearchClient(endpoint=azure_search_service_endpoint, \n",
    "                                credential=credential, \n",
    "                                index_name=azure_search_service_index_name)\n",
    "\n",
    "    # Azure OpenAI client\n",
    "    openai_client = AzureOpenAI(\n",
    "        api_version=azure_openai_api_version,\n",
    "        azure_endpoint=azure_openai_endpoint,\n",
    "        api_key=azure_openai_key)\n",
    "\n",
    "    # Provide instructions to the model\n",
    "    SYSTEM_PROMPT=\"\"\"\n",
    "    You are an AI assistant that helps users learn from the information found in the source material.\n",
    "    Answer the query using only the sources provided below.\n",
    "    Use bullets if the answer has multiple points.\n",
    "    If the answer is longer than 3 sentences, provide a summary.\n",
    "    Answer ONLY with the facts listed in the list of sources below. Cite your source when you answer the question\n",
    "    If there isn't enough information below, say you don't know.\n",
    "    Do not generate answers that don't use the sources below.\n",
    "    Query: {query}\n",
    "    Sources:\\n{sources}\n",
    "    \"\"\"\n",
    "\n",
    "    # User Query\n",
    "    query = userquery \n",
    "\n",
    "    # Convert query into vector form\n",
    "    vector_query = VectorizableTextQuery(text=query, \n",
    "                                        k_nearest_neighbors=50, \n",
    "                                        fields=\"text_vector\",\n",
    "                                        weight=1)\n",
    "\n",
    "    results = search_client.search(\n",
    "        query_type=\"semantic\", \n",
    "        semantic_configuration_name='my-semantic-config',\n",
    "        search_text=query,\n",
    "        vector_queries= [vector_query],\n",
    "        select=[\"title\",\"chunk\"],\n",
    "        top=5,\n",
    "    )\n",
    "\n",
    "    # Use a unique separator to make the sources distinct. \n",
    "    # We chose repeated equal signs (=) followed by a newline because it's unlikely the source documents contain this sequence.\n",
    "    sources_formatted = \"=================\\n\".join([f'TITLE: {document[\"title\"]}, CONTENT: {document[\"chunk\"]}' for document in results])\n",
    "\n",
    "    response = openai_client.chat.completions.create(\n",
    "        messages=[\n",
    "            {\n",
    "                \"role\": \"user\",\n",
    "                \"content\": SYSTEM_PROMPT.format(query=query, sources=sources_formatted)\n",
    "            }\n",
    "        ],\n",
    "        model=azure_openai_deployment\n",
    "    )\n",
    "\n",
    "    return response.choices[0].message.content\n",
    "\n",
    "\n",
    "# Statically defined user functions for fast reference\n",
    "user_functions: Set[Callable[..., Any]] = {\n",
    "    fetch_weather, fetch_restaurant, fetch_budget, fetch_product_info\n",
    "}"
   ]
  },
  {
   "cell_type": "markdown",
   "id": "45552a69",
   "metadata": {},
   "source": [
    "## STEP 1: Create a client and agent"
   ]
  },
  {
   "cell_type": "code",
   "execution_count": 12,
   "id": "5c2457cc",
   "metadata": {},
   "outputs": [
    {
     "name": "stdout",
     "output_type": "stream",
     "text": [
      "Created agent, ID: asst_wvsDaNu3rOUFxWt7L0paJxS2\n"
     ]
    }
   ],
   "source": [
    "import os\n",
    "from azure.ai.projects import AIProjectClient\n",
    "from azure.identity import DefaultAzureCredential\n",
    "from azure.ai.projects.models import FunctionTool, ToolSet\n",
    "\n",
    "# Create an Azure AI Client from a connection string, copied from your Azure AI Foundry project.\n",
    "# It should be in the format \"<HostName>;<AzureSubscriptionId>;<ResourceGroup>;<HubName>\"\n",
    "# Customers need to login to Azure subscription via Azure CLI and set the environment variables\n",
    "\n",
    "project_client = AIProjectClient.from_connection_string(\n",
    "    credential=DefaultAzureCredential(),\n",
    "    conn_str=os.environ[\"PROJECT_CONNECTION_STRING\"],\n",
    ")\n",
    "\n",
    "# Initialize agent toolset with user functions\n",
    "functions = FunctionTool(user_functions)\n",
    "toolset = ToolSet()\n",
    "toolset.add(functions)\n",
    "\n",
    "agent = project_client.agents.create_agent(\n",
    "    model=\"gpt-4o\", \n",
    "    name=\"my-agent\", \n",
    "    instructions=\"\"\"\n",
    "            You are an AI Travel Agent. \n",
    "            You will answer questions about travel based on the tools provided. You will not get information outside of the tools.\n",
    "            You have access to the following tools:\n",
    "            - fetch_weather - fetches the weather information for a given location.\n",
    "            - fetch_restaurant - fetches restaurant information for a given location.\n",
    "            - fetch_budget - fetches budget information for a given location.\n",
    "            - fetch_product_info - fetches product information such as travel insurance, luggage, wifi plan, accessories and other products based on user queries.\n",
    "        \"\"\", \n",
    "    toolset=toolset\n",
    ")\n",
    "print(f\"Created agent, ID: {agent.id}\")"
   ]
  },
  {
   "cell_type": "markdown",
   "id": "ba73540b",
   "metadata": {},
   "source": [
    "## STEP 2: Create a thread"
   ]
  },
  {
   "cell_type": "code",
   "execution_count": 13,
   "id": "94096a77",
   "metadata": {},
   "outputs": [
    {
     "name": "stdout",
     "output_type": "stream",
     "text": [
      "Created thread, ID: thread_taWkDPE1QE40uhiZvjXCNRl7\n"
     ]
    }
   ],
   "source": [
    "thread = project_client.agents.create_thread()\n",
    "print(f\"Created thread, ID: {thread.id}\")"
   ]
  },
  {
   "cell_type": "markdown",
   "id": "3c5a2541",
   "metadata": {},
   "source": [
    "## Step 3-6: Helper Function\n",
    "3. Add a message to the thread\n",
    "4. Run the Agent\n",
    "5. Check the Run Status\n",
    "6. Display the Agent's Response\n"
   ]
  },
  {
   "cell_type": "code",
   "execution_count": 14,
   "id": "8b6c43ec",
   "metadata": {},
   "outputs": [],
   "source": [
    "def run_agent(user_input):  \n",
    "    # Step 3: Add a message to the thread  \n",
    "    message = project_client.agents.create_message(\n",
    "        thread_id=thread.id,\n",
    "        role=\"user\",\n",
    "        content=user_input,\n",
    "    )\n",
    "    print(f\"Created message, ID: {message.id}\")\n",
    "\n",
    "    # Step 4 & 5: Create and process agent run in thread with tools\n",
    "    run = project_client.agents.create_and_process_run(thread_id=thread.id, agent_id=agent.id)\n",
    "\n",
    "    if run.status == \"failed\":\n",
    "        print(f\"Run failed: {run.last_error}\")\n",
    "\n",
    "    # Step 6: Display the Agent's Response\n",
    "    elif run.status == 'completed':\n",
    "            # Fetch all messages in the thread\n",
    "            messages = project_client.agents.list_messages(thread_id=thread.id)\n",
    "            if messages.data:\n",
    "                agent_message = messages.data[0]  # Get the last assistant message\n",
    "                print(f\"Agent Response: {agent_message.content[0].text.value}\") \n",
    "            else:\n",
    "                print(\"No messages found.\")"
   ]
  },
  {
   "cell_type": "markdown",
   "id": "b32df538",
   "metadata": {},
   "source": [
    "## Running the agent using the Helper Function"
   ]
  },
  {
   "cell_type": "code",
   "execution_count": 15,
   "id": "f70db8d0",
   "metadata": {},
   "outputs": [
    {
     "name": "stdout",
     "output_type": "stream",
     "text": [
      "Created message, ID: msg_Uqq92pLLc4JjeeJSLXW2lOIb\n",
      "Agent Response: The weather in Tokyo is currently rainy with a temperature of 22°C.\n"
     ]
    }
   ],
   "source": [
    "user_input = \"Hello, what is the weather in Tokyo?\"\n",
    "run_agent(user_input)"
   ]
  },
  {
   "cell_type": "code",
   "execution_count": 16,
   "id": "9de4d8e9",
   "metadata": {},
   "outputs": [
    {
     "name": "stdout",
     "output_type": "stream",
     "text": [
      "Created message, ID: msg_wq73af7iCbmTeDVQVvuoLxCs\n",
      "Agent Response: The budget for Tokyo is as follows:\n",
      "\n",
      "- **Budget Travelers:** Around $100 per day, which includes staying in hostels, eating at budget restaurants, and using public transportation.\n",
      "- **Mid-Range Travelers:** Approximately $286 per day, covering mid-range hotels, dining at average restaurants, and some paid attractions.\n",
      "- **Luxury Travelers:** About $908 per day, which includes luxury hotels, fine dining, and private transportation.\n"
     ]
    }
   ],
   "source": [
    "user_input = \"What is the budget there?\"\n",
    "run_agent(user_input)"
   ]
  },
  {
   "cell_type": "code",
   "execution_count": 17,
   "id": "4a77ada8",
   "metadata": {},
   "outputs": [
    {
     "name": "stdout",
     "output_type": "stream",
     "text": [
      "Created message, ID: msg_XA213DSOFyC6rg5gUDxqy739\n",
      "Agent Response: Here are some great places to eat in London:\n",
      "\n",
      "1. **St. JOHN** - Known for its rustic British cuisine.\n",
      "2. **Señor Ceviche** - Offers delicious Peruvian dishes.\n",
      "3. **Gloria and Circolo Popolare** - Famous for their vibrant Italian cuisine.\n",
      "4. **Normah's** - Specializes in Malaysian delights.\n",
      "5. **Bouchon Racine** - A wonderful choice for French gastronomy.\n"
     ]
    }
   ],
   "source": [
    "user_input = \"Where can I eat in London?\"\n",
    "run_agent(user_input)"
   ]
  },
  {
   "cell_type": "code",
   "execution_count": 18,
   "id": "19e01232",
   "metadata": {},
   "outputs": [
    {
     "name": "stdout",
     "output_type": "stream",
     "text": [
      "Created message, ID: msg_OlP1jRQmlFsUi8uMLnhtIxMb\n",
      "Agent Response: You can visit countries where the daily budget for budget travelers is low. Based on a $300 budget for 4 days, you'll have $75 per day to spend. Here are some options:\n",
      "\n",
      "- **London**: A budget traveler spends around $75 per day, making it feasible with proper planning. You can stay in hostels, cook your own meals, and use public transportation.\n",
      "- **Tokyo**: A budget traveler spends around $100 per day. While slightly over budget, you could plan carefully and save on meals or accommodation options.\n",
      "\n",
      "Let me know your preferred destination, and I can assist you further.\n"
     ]
    }
   ],
   "source": [
    "user_input = \"I only have 300 USD. What country can I visit for 4 days?\"\n",
    "run_agent(user_input)"
   ]
  },
  {
   "cell_type": "code",
   "execution_count": 10,
   "id": "c9fc0bf5",
   "metadata": {},
   "outputs": [
    {
     "name": "stdout",
     "output_type": "stream",
     "text": [
      "Created message, ID: msg_DpVMKlkIursSebDYS2J1IVDF\n",
      "Agent Response: Here are the recommended products along with their features and prices:\n",
      "\n",
      "### 1. **Travel Lock: WanderSafe Travel Lock**\n",
      "   - **Price**: $25\n",
      "   - **Features**:\n",
      "     - TSA-approved (safe for luggage inspections by TSA agents).\n",
      "     - Made of high-strength zinc alloy.\n",
      "     - 3-digit resettable combination lock and flexible steel cable.\n",
      "     - Compact design.\n",
      "     - Comes with a 1-year limited warranty.\n",
      "\n",
      "### 2. **Travel Adapter: TravelSmart Universal Adapter**\n",
      "   - **Price**: $35\n",
      "   - **Features**:\n",
      "     - Compatible with plugs for over 150 countries (US, UK, EU, AU).\n",
      "     - Dual USB ports for charging multiple devices simultaneously.\n",
      "     - Built-in safety shutters, LED power indicator, and fuse protection.\n",
      "     - Made of durable ABS plastic.\n",
      "     - Comes with a 1-year limited warranty.\n",
      "   - **Weight and Dimensions**: 0.3 lbs, 2.8 x 2 x 2 inches.\n",
      "   - **Customer Feedback**: Lightweight and compact but may require some effort to slide out plugs initially.\n",
      "\n",
      "### 3. **Luggage: Voyager Pro Luggage**\n",
      "   - **Price**: $250\n",
      "   - **Features**:\n",
      "     - Made from durable polycarbonate.\n",
      "     - Expandable design for extra packing space.\n",
      "     - 360-degree spinner wheels for easy maneuverability.\n",
      "     - Built-in TSA-approved combination lock.\n",
      "     - Multiple compartments for organized packing.\n",
      "     - Lightweight at 8 lbs with a capacity of 45 liters.\n",
      "     - Ergonomic telescopic handle and water-resistant exterior.\n",
      "     - Comes with a 5-year limited warranty.\n",
      "   - **Color Options**: Black, Blue, Red, Silver.\n",
      "\n",
      "### Total Cost:\n",
      "The three items together will cost **$310 USD**. If this exceeds your budget, you could consider downgrading one item to fit within the $300 range.\n"
     ]
    }
   ],
   "source": [
    "user_input = \"I need a travel lock, travel adapter, and luggage. What can you recommend? Also how much will it cost?\"\n",
    "run_agent(user_input)"
   ]
  },
  {
   "cell_type": "markdown",
   "id": "f393d6f3",
   "metadata": {},
   "source": [
    "## Delete Agent to free up resources"
   ]
  },
  {
   "cell_type": "code",
   "execution_count": 19,
   "id": "a040e1cc",
   "metadata": {},
   "outputs": [
    {
     "name": "stdout",
     "output_type": "stream",
     "text": [
      "Deleted agent\n"
     ]
    }
   ],
   "source": [
    "# Delete the agent when done\n",
    "project_client.agents.delete_agent(agent.id)\n",
    "print(\"Deleted agent\")"
   ]
  }
 ],
 "metadata": {
  "kernelspec": {
   "display_name": "Python 3",
   "language": "python",
   "name": "python3"
  },
  "language_info": {
   "codemirror_mode": {
    "name": "ipython",
    "version": 3
   },
   "file_extension": ".py",
   "mimetype": "text/x-python",
   "name": "python",
   "nbconvert_exporter": "python",
   "pygments_lexer": "ipython3",
   "version": "3.12.1"
  }
 },
 "nbformat": 4,
 "nbformat_minor": 5
}
