{
 "cells": [
  {
   "cell_type": "markdown",
   "id": "00bf5959",
   "metadata": {},
   "source": [
    "# Use an existing AI Search index with the Azure AI Search tool"
   ]
  },
  {
   "cell_type": "markdown",
   "id": "1a8bb612",
   "metadata": {},
   "source": [
    "# Creating a Azure AI Search Index"
   ]
  },
  {
   "cell_type": "code",
   "execution_count": 1,
   "id": "79a3d37f",
   "metadata": {},
   "outputs": [],
   "source": [
    "import os\n",
    "\n",
    "# Azure OpenAI Service configuration\n",
    "azure_openai_endpoint = os.getenv(\"AZURE_OPENAI_ENDPOINT\")\n",
    "azure_openai_key = os.getenv(\"AZURE_OPENAI_API_KEY\")\n",
    "azure_openai_deployment = os.getenv(\"AZURE_OPENAI_CHAT_DEPLOYMENT_NAME\")\n",
    "azure_openai_embeddings_deployment = os.getenv(\"AZURE_OPENAI_EMBEDDINGS_DEPLOYMENT\")\n",
    "azure_openai_api_version = \"2024-10-01-preview\"\n",
    "azure_openai_embedding_size=1536\n",
    "\n",
    "# Azure AI Search configuration\n",
    "azure_search_service_endpoint = os.getenv(\"AZURE_SEARCH_SERVICE_ENDPOINT\")\n",
    "azure_search_service_admin_key = os.getenv(\"AZURE_SEARCH_ADMIN_KEY\")\n",
    "azure_search_service_index_name = os.getenv(\"AZURE_SEARCH_INDEX_NAME\")\n",
    "\n",
    "# Azure Storage configuration\n",
    "azure_storage_connection_string = os.getenv(\"AZURE_STORAGE_CONNECTION_STRING\")\n"
   ]
  },
  {
   "cell_type": "code",
   "execution_count": 2,
   "id": "25355018",
   "metadata": {},
   "outputs": [
    {
     "name": "stdout",
     "output_type": "stream",
     "text": [
      "travel-product-index created\n"
     ]
    }
   ],
   "source": [
    "## This code creates an Azure Search index with vector search and semantic search capabilities.\n",
    "\n",
    "from azure.core.credentials import AzureKeyCredential\n",
    "from azure.search.documents.indexes import SearchIndexClient\n",
    "from azure.search.documents.indexes.models import (\n",
    "    SearchField,\n",
    "    SearchFieldDataType,\n",
    "    VectorSearch,\n",
    "    HnswAlgorithmConfiguration,\n",
    "    VectorSearchProfile,\n",
    "    AzureOpenAIVectorizer,\n",
    "    AzureOpenAIVectorizerParameters,\n",
    "    SearchIndex,\n",
    "    SemanticConfiguration,\n",
    "    SemanticPrioritizedFields,\n",
    "    SemanticField,\n",
    "    SemanticSearch\n",
    ")\n",
    "\n",
    "# Get credential from Azure AI Search Admin key\n",
    "credential = AzureKeyCredential(azure_search_service_admin_key)\n",
    "\n",
    "# Search index name  \n",
    "index_name = azure_search_service_index_name\n",
    "\n",
    "# Create a Search Index Client\n",
    "index_client = SearchIndexClient(endpoint=azure_search_service_endpoint, credential=credential)\n",
    "\n",
    "# Define the fields collection\n",
    "fields = [\n",
    "    SearchField(name=\"parent_id\", type=SearchFieldDataType.String),  \n",
    "    SearchField(name=\"title\", type=SearchFieldDataType.String),\n",
    "    SearchField(name=\"chunk_id\", type=SearchFieldDataType.String, key=True, sortable=True, filterable=True, facetable=True, analyzer_name=\"keyword\"),  \n",
    "    SearchField(name=\"chunk\", type=SearchFieldDataType.String, sortable=False, filterable=False, facetable=False),  \n",
    "    SearchField(name=\"text_vector\", type=SearchFieldDataType.Collection(SearchFieldDataType.Single), vector_search_dimensions=azure_openai_embedding_size, vector_search_profile_name=\"myHnswProfile\")\n",
    "    ]  \n",
    "  \n",
    "# Configure the vector search configuration  \n",
    "vector_search = VectorSearch(  \n",
    "    algorithms=[  \n",
    "        HnswAlgorithmConfiguration(name=\"myHnsw\"),\n",
    "    ],  \n",
    "    profiles=[  \n",
    "        VectorSearchProfile(  \n",
    "            name=\"myHnswProfile\",  \n",
    "            algorithm_configuration_name=\"myHnsw\",  \n",
    "            vectorizer_name=\"myOpenAI\",  \n",
    "        )\n",
    "    ],  \n",
    "    vectorizers=[   # a vectorizer is software that performs vectorization\n",
    "        AzureOpenAIVectorizer(  \n",
    "            vectorizer_name=\"myOpenAI\",  \n",
    "            kind=\"azureOpenAI\",  \n",
    "            parameters=AzureOpenAIVectorizerParameters(  \n",
    "                resource_url=azure_openai_endpoint,  \n",
    "                deployment_name=azure_openai_embeddings_deployment,\n",
    "                model_name=azure_openai_embeddings_deployment\n",
    "            ),\n",
    "        ),  \n",
    "    ], \n",
    ")  \n",
    "\n",
    "# New semantic configuration\n",
    "semantic_config = SemanticConfiguration(\n",
    "    name=\"my-semantic-config\",\n",
    "    prioritized_fields=SemanticPrioritizedFields(\n",
    "        title_field=SemanticField(field_name=\"title\"),\n",
    "        content_fields=[SemanticField(field_name=\"chunk\")]\n",
    "    )\n",
    ")\n",
    "\n",
    "# Create the semantic settings with the configuration\n",
    "semantic_search = SemanticSearch(configurations=[semantic_config])\n",
    "\n",
    "# Create the search index\n",
    "index = SearchIndex(name=index_name, \n",
    "                    fields=fields, \n",
    "                    vector_search=vector_search,\n",
    "                    semantic_search=semantic_search)  \n",
    "result = index_client.create_or_update_index(index)  \n",
    "print(f\"{result.name} created\")"
   ]
  },
  {
   "cell_type": "code",
   "execution_count": 3,
   "id": "2a7441f4",
   "metadata": {},
   "outputs": [
    {
     "name": "stdout",
     "output_type": "stream",
     "text": [
      "Data source 'travel-products-ds' created or updated\n"
     ]
    }
   ],
   "source": [
    "# Create a data source connection to Azure Blob Storage\n",
    "\n",
    "from azure.search.documents.indexes import SearchIndexerClient\n",
    "from azure.search.documents.indexes.models import (\n",
    "    SearchIndexerDataContainer,\n",
    "    SearchIndexerDataSourceConnection\n",
    ")\n",
    "\n",
    "# Create a data source \n",
    "indexer_client = SearchIndexerClient(endpoint=azure_search_service_endpoint, credential=credential)\n",
    "container = SearchIndexerDataContainer(name=\"travelproducts\")\n",
    "data_source_connection = SearchIndexerDataSourceConnection(\n",
    "    name=\"travel-products-ds\",\n",
    "    type=\"azureblob\",\n",
    "    connection_string=azure_storage_connection_string,\n",
    "    container=container\n",
    ")\n",
    "data_source = indexer_client.create_or_update_data_source_connection(data_source_connection)\n",
    "\n",
    "print(f\"Data source '{data_source.name}' created or updated\")"
   ]
  },
  {
   "cell_type": "code",
   "execution_count": 4,
   "id": "13bc2401",
   "metadata": {},
   "outputs": [
    {
     "name": "stdout",
     "output_type": "stream",
     "text": [
      "Blobs in the container:\n",
      "Adventure Seeker Sling.docx\n",
      "AdventurePro Hiking Backpack.docx\n",
      "Executive Pro Laptop Briefcase.docx\n",
      "Globetrotter Elite Suitcase.docx\n",
      "JetSet Travel Pillow.docx\n",
      "Metro Commuter Crossbody Bag.docx\n",
      "Nomad Traveler Suitcase.docx\n",
      "SafeJourney Travel Insurance.docx\n",
      "TechGuard Laptop Bag.docx\n",
      "TravelBuddy Digital Luggage Scale.docx\n",
      "TravelConnect WiFi Plan.docx\n",
      "TravelEase Packing Cubes Set.docx\n",
      "TravelSmart Universal Adapter.docx\n",
      "Urban Explorer Daypack.docx\n",
      "UrbanTech Laptop Messenger Bag.docx\n",
      "UrbanTraveler Laptop Backpack.docx\n",
      "Voyager Pro Luggage.docx\n",
      "WanderSafe Travel Lock.docx\n",
      "Access to the blob storage was granted.\n"
     ]
    }
   ],
   "source": [
    "# Test the connection to Azure Blob Storage\n",
    "\n",
    "from azure.storage.blob import BlobServiceClient\n",
    "\n",
    "# Initialize the BlobServiceClient with the connection string\n",
    "blob_service_client = BlobServiceClient.from_connection_string(azure_storage_connection_string)\n",
    "\n",
    "# Get the container client\n",
    "container_client = blob_service_client.get_container_client(\"travelproducts\")\n",
    "\n",
    "# List blobs in the container\n",
    "try:\n",
    "    blobs_list = container_client.list_blobs()\n",
    "    print(\"Blobs in the container:\")\n",
    "    for blob in blobs_list:\n",
    "        print(blob.name)\n",
    "    print(\"Access to the blob storage was granted.\")\n",
    "except Exception as e:\n",
    "    print(f\"Failed to access the blob storage: {e}\")"
   ]
  },
  {
   "cell_type": "code",
   "execution_count": 5,
   "id": "69d1916f",
   "metadata": {},
   "outputs": [
    {
     "name": "stdout",
     "output_type": "stream",
     "text": [
      "travel-products-ss created\n"
     ]
    }
   ],
   "source": [
    "# Create a skillset to chunk documents and generate embeddings\n",
    "\n",
    "from azure.search.documents.indexes.models import (\n",
    "    SplitSkill,\n",
    "    InputFieldMappingEntry,\n",
    "    OutputFieldMappingEntry,\n",
    "    AzureOpenAIEmbeddingSkill,\n",
    "    SearchIndexerIndexProjection,\n",
    "    SearchIndexerIndexProjectionSelector,\n",
    "    SearchIndexerIndexProjectionsParameters,\n",
    "    IndexProjectionMode,\n",
    "    SearchIndexerSkillset,\n",
    ")\n",
    "\n",
    "# Create a skillset  \n",
    "skillset_name = \"travel-products-ss\"\n",
    "\n",
    "split_skill = SplitSkill(  \n",
    "    description=\"Split skill to chunk documents\",  \n",
    "    text_split_mode=\"pages\",  \n",
    "    context=\"/document\",  \n",
    "    maximum_page_length=2000,  \n",
    "    page_overlap_length=500,  \n",
    "    inputs=[  \n",
    "        InputFieldMappingEntry(name=\"text\", source=\"/document/content\"),  \n",
    "    ],  \n",
    "    outputs=[  \n",
    "        OutputFieldMappingEntry(name=\"textItems\", target_name=\"pages\")  \n",
    "    ],  \n",
    ")  \n",
    "  \n",
    "embedding_skill = AzureOpenAIEmbeddingSkill(  \n",
    "    description=\"Skill to generate embeddings via Azure OpenAI\",  \n",
    "    context=\"/document/pages/*\",  \n",
    "    resource_url=azure_openai_endpoint,  \n",
    "    deployment_name=azure_openai_embeddings_deployment,  \n",
    "    model_name=azure_openai_embeddings_deployment,\n",
    "    dimensions=azure_openai_embedding_size,\n",
    "    inputs=[  \n",
    "        InputFieldMappingEntry(name=\"text\", source=\"/document/pages/*\"),  \n",
    "    ],  \n",
    "    outputs=[  \n",
    "        OutputFieldMappingEntry(name=\"embedding\", target_name=\"text_vector\")  \n",
    "    ],  \n",
    ")\n",
    "  \n",
    "index_projections = SearchIndexerIndexProjection(  \n",
    "    selectors=[  \n",
    "        SearchIndexerIndexProjectionSelector(  \n",
    "            target_index_name=azure_search_service_index_name,  \n",
    "            parent_key_field_name=\"parent_id\",  \n",
    "            source_context=\"/document/pages/*\",  \n",
    "            mappings=[  \n",
    "                InputFieldMappingEntry(name=\"chunk\", source=\"/document/pages/*\"),  \n",
    "                InputFieldMappingEntry(name=\"text_vector\", source=\"/document/pages/*/text_vector\"),\n",
    "                InputFieldMappingEntry(name=\"title\", source=\"/document/metadata_storage_name\"),  \n",
    "            ],  \n",
    "        ),  \n",
    "    ],  \n",
    "    parameters=SearchIndexerIndexProjectionsParameters(  \n",
    "        projection_mode=IndexProjectionMode.SKIP_INDEXING_PARENT_DOCUMENTS  \n",
    "    ),  \n",
    ") \n",
    "\n",
    "skills = [split_skill, embedding_skill]\n",
    "\n",
    "skillset = SearchIndexerSkillset(  \n",
    "    name=skillset_name,  \n",
    "    description=\"Skillset to chunk documents, generate embeddings\",  \n",
    "    skills=skills,  \n",
    "    index_projection=index_projections\n",
    ")\n",
    "  \n",
    "client = SearchIndexerClient(endpoint=azure_search_service_endpoint, credential=credential)  \n",
    "client.create_or_update_skillset(skillset)  \n",
    "print(f\"{skillset.name} created\")  "
   ]
  },
  {
   "cell_type": "code",
   "execution_count": 6,
   "id": "d6c9e444",
   "metadata": {},
   "outputs": [
    {
     "name": "stdout",
     "output_type": "stream",
     "text": [
      " travel-products-idxr is created and running. Give the indexer a few minutes before running a query.\n"
     ]
    }
   ],
   "source": [
    "# Create an indexer to run the skillset and populate the index\n",
    "\n",
    "from azure.search.documents.indexes.models import (\n",
    "    SearchIndexer\n",
    ")\n",
    "\n",
    "# Create an indexer  \n",
    "indexer_name = \"travel-products-idxr\" \n",
    "\n",
    "indexer_parameters = None\n",
    "\n",
    "indexer = SearchIndexer(  \n",
    "    name=indexer_name,  \n",
    "    description=\"Indexer to index documents, generate embeddings\",  \n",
    "    skillset_name=skillset_name,  \n",
    "    target_index_name=index_name,  \n",
    "    data_source_name=data_source.name,\n",
    "    parameters=indexer_parameters\n",
    ")  \n",
    "\n",
    "# Create and run the indexer  \n",
    "indexer_client = SearchIndexerClient(endpoint=azure_search_service_endpoint, credential=credential)  \n",
    "indexer_result = indexer_client.create_or_update_indexer(indexer)  \n",
    "\n",
    "print(f' {indexer_name} is created and running. Give the indexer a few minutes before running a query.')  "
   ]
  },
  {
   "cell_type": "markdown",
   "id": "91839885",
   "metadata": {},
   "source": [
    "## Step 1: Create an Azure AI Client"
   ]
  },
  {
   "cell_type": "code",
   "execution_count": 2,
   "id": "d3d2a586",
   "metadata": {},
   "outputs": [],
   "source": [
    "import os\n",
    "from azure.ai.projects import AIProjectClient\n",
    "from azure.identity import DefaultAzureCredential\n",
    "from azure.ai.projects.models import AzureAISearchTool, AzureAISearchQueryType\n",
    "\n",
    "# Create an Azure AI Client from a connection string, copied from your Azure AI Foundry project.\n",
    "# At the moment, it should be in the format \"<HostName>;<AzureSubscriptionId>;<ResourceGroup>;<ProjectName>\"\n",
    "# HostName can be found by navigating to your discovery_url and removing the leading \"https://\" and trailing \"/discovery\" \n",
    "# To find your discovery_url, run the CLI command: az ml workspace show -n {project_name} --resource-group {resource_group_name} --query discovery_url\n",
    "# Project Connection example: eastus.api.azureml.ms;my-subscription-id;my-resource-group;my-hub-name\n",
    "\n",
    "connection_string = os.environ[\"PROJECT_CONNECTION_STRING\"] \n",
    "\n",
    "project_client = AIProjectClient.from_connection_string(\n",
    "    credential=DefaultAzureCredential(),\n",
    "    conn_str=connection_string,\n",
    ")"
   ]
  },
  {
   "cell_type": "markdown",
   "id": "59f09931",
   "metadata": {},
   "source": [
    "## Step 2: Get the connection ID for the Azure AI Search resource\n",
    "\n",
    "Needs you to login: az login"
   ]
  },
  {
   "cell_type": "code",
   "execution_count": null,
   "id": "7feb6e55",
   "metadata": {},
   "outputs": [
    {
     "name": "stdout",
     "output_type": "stream",
     "text": [
      "Connection ID: /subscriptions/f08cda90-375b-4b3e-a105-4656379a94ab/resourceGroups/rg-Ziggy-ai-agent-001/providers/Microsoft.MachineLearningServices/workspaces/ziggy-ai-agent-project-001/connections/ziggyazureaisearch\n"
     ]
    }
   ],
   "source": [
    "# AI Search resource connection ID\n",
    "# This code looks for the AI Search Connection ID and saves it as variable conn_id\n",
    "\n",
    "# If you have more than one AI search connection, try to establish the value in your .env file.\n",
    "# Extract the connection list.\n",
    "conn_list = project_client.connections._list_connections()[\"value\"]\n",
    "conn_id = \"\"\n",
    "\n",
    "# Search in the metadata field of each connection in the list for the azure_ai_search type and get the id value to establish the variable\n",
    "for conn in conn_list:\n",
    "    metadata = conn[\"properties\"].get(\"metadata\", {})\n",
    "    if metadata.get(\"type\", \"\").upper() == \"AZURE_AI_SEARCH\":\n",
    "        conn_id = conn[\"id\"]\n",
    "        break\n",
    "\n",
    "print(f\"Connection ID: {conn_id}\")"
   ]
  },
  {
   "cell_type": "markdown",
   "id": "8a8cd013",
   "metadata": {},
   "source": [
    "## Step 3: Configure the Azure AI Search tool\n",
    "\n",
    "query type values can be found here: https://learn.microsoft.com/en-us/python/api/azure-ai-projects/azure.ai.projects.models.azureaisearchquerytype"
   ]
  },
  {
   "cell_type": "code",
   "execution_count": 4,
   "id": "4351dfad",
   "metadata": {},
   "outputs": [],
   "source": [
    "# Initialize agent AI search tool and add the search index connection ID and index name\n",
    "connection_id = os.environ[\"PROJECT_CONNECTION_ID_AZURE_AI_SEARCH\"]\n",
    "index_name = os.getenv(\"AZURE_SEARCH_INDEX_NAME\")\n",
    "ai_search = AzureAISearchTool(\n",
    "    index_connection_id=connection_id, \n",
    "    index_name=index_name,\n",
    "    query_type=AzureAISearchQueryType.VECTOR_SEMANTIC_HYBRID,\n",
    "    top_k=5,\n",
    ")"
   ]
  },
  {
   "cell_type": "markdown",
   "id": "32987ffa",
   "metadata": {},
   "source": [
    "## Step 4: Create an agent with the Azure AI Search tool enabled"
   ]
  },
  {
   "cell_type": "code",
   "execution_count": 17,
   "id": "94976b81",
   "metadata": {},
   "outputs": [
    {
     "name": "stdout",
     "output_type": "stream",
     "text": [
      "Created agent, ID: asst_tgvMwTNCgrOFV7ydA4lT1nvA\n"
     ]
    }
   ],
   "source": [
    "agent = project_client.agents.create_agent(\n",
    "    model=\"gpt-4o\",\n",
    "    name=\"my-python-azure-ai-search-agent\",\n",
    "    instructions=\"\"\"\n",
    "            You are an AI Travel Agent that answers questions about  products. \n",
    "            You will answer questions based on the tools provided to you.\n",
    "        \"\"\",\n",
    "    tools=ai_search.definitions,\n",
    "    tool_resources = ai_search.resources,\n",
    ")\n",
    "print(f\"Created agent, ID: {agent.id}\")"
   ]
  },
  {
   "cell_type": "markdown",
   "id": "31b8a6b4",
   "metadata": {},
   "source": [
    "## Step 5: Create a Thread"
   ]
  },
  {
   "cell_type": "code",
   "execution_count": 18,
   "id": "0c405ed9",
   "metadata": {},
   "outputs": [
    {
     "name": "stdout",
     "output_type": "stream",
     "text": [
      "Created thread, ID: thread_PxJluKrJw59A6xFlhTLarEzS\n"
     ]
    }
   ],
   "source": [
    "thread = project_client.agents.create_thread()\n",
    "print(f\"Created thread, ID: {thread.id}\")"
   ]
  },
  {
   "cell_type": "markdown",
   "id": "cda46388",
   "metadata": {},
   "source": [
    "## Helper Function\n",
    "- Reformats citations to show the proper document title\n",
    "- Add a message to the thread\n",
    "- Run the Agent\n",
    "- Check the Run Status\n",
    "- Display the Agent's Response\n"
   ]
  },
  {
   "cell_type": "code",
   "execution_count": 7,
   "id": "79af2834",
   "metadata": {},
   "outputs": [],
   "source": [
    "def reformat_citations(content_block):\n",
    "    annotations = content_block.get(\"annotations\", [])\n",
    "    paragraph = content_block[\"value\"]\n",
    "    \n",
    "    # Map citation_title -> set of placeholders\n",
    "    citation_map = {}\n",
    "    for annotation in annotations:\n",
    "        if annotation[\"type\"] == \"url_citation\":\n",
    "            placeholder_text = annotation[\"text\"]\n",
    "            citation_title = annotation[\"url_citation\"][\"title\"]\n",
    "            citation_map.setdefault(citation_title, set()).add(placeholder_text)\n",
    "\n",
    "    # Remove all placeholders from the paragraph\n",
    "    for placeholders in citation_map.values():\n",
    "        for placeholder_text in placeholders:\n",
    "            paragraph = paragraph.replace(placeholder_text, \"\")\n",
    "\n",
    "    # If there's at least one citation, append \"Source: ...\" at the end\n",
    "    if citation_map:\n",
    "        sources = \", \".join(citation_map.keys())\n",
    "        paragraph = paragraph.strip() + f\" Source: {sources}\"\n",
    "\n",
    "    return paragraph"
   ]
  },
  {
   "cell_type": "code",
   "execution_count": 8,
   "id": "8eabebad",
   "metadata": {},
   "outputs": [],
   "source": [
    "def run_agent(user_input):  \n",
    "    # Step 6: Add a message to the thread  \n",
    "    message = project_client.agents.create_message(\n",
    "        thread_id=thread.id,\n",
    "        role=\"user\",\n",
    "        content=user_input,\n",
    "    )\n",
    "    print(f\"Created message, ID: {message.id}\")\n",
    "\n",
    "    # Step 7 & 8: Create and process agent run in thread with tools\n",
    "    run = project_client.agents.create_and_process_run(thread_id=thread.id, agent_id=agent.id)\n",
    "\n",
    "    if run.status == \"failed\":\n",
    "        print(f\"Run failed: {run.last_error}\")\n",
    "\n",
    "    # Step 9: Display the Agent's Response\n",
    "    elif run.status == 'completed':\n",
    "        # Fetch all messages in the thread\n",
    "        messages = project_client.agents.list_messages(thread_id=thread.id)\n",
    "        if messages.data:\n",
    "            agent_message = messages.data[0]  # Get the last assistant message\n",
    "            content_block = agent_message.content[0].text\n",
    "\n",
    "            # Reformat the response to replace placeholders with citation titles\n",
    "            response_text = reformat_citations(content_block)\n",
    "\n",
    "            print(f\"Agent Response: {response_text}\")\n",
    "        else:\n",
    "            print(\"No messages found.\")"
   ]
  },
  {
   "cell_type": "markdown",
   "id": "25d58698",
   "metadata": {},
   "source": [
    "## Running the agent using the Helper Function"
   ]
  },
  {
   "cell_type": "code",
   "execution_count": 19,
   "id": "1719ad2f",
   "metadata": {},
   "outputs": [
    {
     "name": "stdout",
     "output_type": "stream",
     "text": [
      "Created message, ID: msg_fB1NZA9pexmi3MpWb5L8ICRs\n",
      "Agent Response: Yes, there are several types of bags available! Here are some options: \n",
      "\n",
      "1. **Metro Commuter Crossbody Bag** for $60:\n",
      "   - Made from durable, water-resistant canvas.\n",
      "   - Features include anti-theft zippers, RFID-blocking pocket, USB charging port, and adjustable strap.\n",
      "   - Capacity: 12 liters.\n",
      "   - Available in Black, Grey, Olive Green, and Navy Blue.\n",
      "\n",
      "2. **UrbanTraveler Laptop Backpack** for $90:\n",
      "   - Durable polyester material with a padded laptop compartment (fits up to 17 inches).\n",
      "   - Includes USB charging port, hidden zippers, RFID-blocking pocket, and ventilated back panel.\n",
      "   - Capacity: 30 liters.\n",
      "   - Available in Black, Grey, and Navy Blue.\n",
      "\n",
      "3. **Adventure Seeker Sling Bag** for $45:\n",
      "   - Lightweight polyester with reflective details and an earphone port.\n",
      "   - Capacity: 10 liters.\n",
      "   - Available in Black, Grey, Blue, and Green.\n",
      "\n",
      "4. **UrbanTech Laptop Messenger Bag** for $95:\n",
      "   - Durable polyester with padded laptop compartment (fits up to 15.6 inches).\n",
      "   - Features USB charging port, trolley sleeve, and RFID-blocking pocket.\n",
      "   - Capacity: 16 liters.\n",
      "   - Available in Black, Grey, and Navy Blue.\n",
      "\n",
      "Let me know which bag interests you or if you'd like more details! Source: Metro Commuter Crossbody Bag.docx, UrbanTraveler Laptop Backpack.docx, Adventure Seeker Sling.docx, UrbanTech Laptop Messenger Bag.docx\n"
     ]
    }
   ],
   "source": [
    "user_input = \"Do you have any bags available?\"\n",
    "run_agent(user_input)"
   ]
  },
  {
   "cell_type": "code",
   "execution_count": 20,
   "id": "cc08ace0",
   "metadata": {},
   "outputs": [
    {
     "name": "stdout",
     "output_type": "stream",
     "text": [
      "Created message, ID: msg_8xEvA5zppNhoLnq00cdOYXIk\n",
      "Agent Response: For large travel suitcases, I recommend the following options:\n",
      "\n",
      "1. **Globetrotter Elite Suitcase** for $299:\n",
      "   - Material: High-grade polycarbonate.\n",
      "   - Capacity: 50 liters, expandable for additional space.\n",
      "   - Features: 360-degree spinner wheels, TSA-approved lock, multiple compartments, and a water-resistant exterior.\n",
      "   - Dimensions: 24 x 16 x 10 inches, lightweight at 7.5 lbs.\n",
      "   - Ideal for frequent travelers and available in Black, Navy Blue, Burgundy, and Silver.\n",
      "\n",
      "2. **Nomad Traveler Suitcase** for $275:\n",
      "   - Material: Durable ABS plastic.\n",
      "   - Capacity: 48 liters, expandable design.\n",
      "   - Features: 360-degree spinner wheels, TSA-approved lock, ergonomic handle, and lightweight at 7 lbs.\n",
      "   - Dimensions: 23 x 15 x 9 inches, suitable for efficient packing.\n",
      "   - Available in Black, Green, Purple, and Silver.\n",
      "\n",
      "Both are durable, lightweight, and offer extra packing space; the final choice depends on your preferred features and budget. Let me know if you'd like more details! Source: Globetrotter Elite Suitcase.docx, Nomad Traveler Suitcase.docx\n"
     ]
    }
   ],
   "source": [
    "user_input = \"I need a large suitcase for travel. Which one do you recommend?\"\n",
    "run_agent(user_input)"
   ]
  },
  {
   "cell_type": "code",
   "execution_count": 21,
   "id": "69b60815",
   "metadata": {},
   "outputs": [
    {
     "name": "stdout",
     "output_type": "stream",
     "text": [
      "Created message, ID: msg_w4XxoOucuszC40D7IAFi2cGC\n",
      "Agent Response: Here’s a comparison between the **Globetrotter Elite Suitcase** and **Nomad Traveler Suitcase**:\n",
      "\n",
      "| Feature                  | Globetrotter Elite Suitcase           | Nomad Traveler Suitcase             |\n",
      "|--------------------------|---------------------------------------|-------------------------------------|\n",
      "| **Price**                | $299                                 | $275                                |\n",
      "| **Material**             | High-grade polycarbonate             | Durable ABS plastic                 |\n",
      "| **Capacity**             | 50 liters (expandable)               | 48 liters (expandable)              |\n",
      "| **Dimensions**           | 24 x 16 x 10 inches                  | 23 x 15 x 9 inches                  |\n",
      "| **Weight**               | 7.5 lbs                              | 7 lbs                               |\n",
      "| **Wheels**               | 360-degree spinner wheels            | 360-degree spinner wheels           |\n",
      "| **Lock**                 | TSA-approved lock                    | TSA-approved lock                   |\n",
      "| **Handle**               | Standard ergonomic handle            | Ergonomic handle                    |\n",
      "| **Compartments**         | Multiple compartments for organization| Standard compartments               |\n",
      "| **Exterior**             | Water-resistant                      | Standard                            |\n",
      "| **Colors**               | Black, Navy Blue, Burgundy, Silver   | Black, Green, Purple, Silver        |\n",
      "\n",
      "Both are excellent choices with similar features such as spinner wheels and TSA-approved locks, but the Globetrotter Elite offers slightly larger capacity and water-resistant exterior. The Nomad Traveler is more budget-friendly and lighter in weight. Let me know your preferences, and I’ll assist you further!\n"
     ]
    }
   ],
   "source": [
    "user_input = \"Can you give me a table comparison of these two products?\"\n",
    "run_agent(user_input)"
   ]
  },
  {
   "cell_type": "code",
   "execution_count": null,
   "id": "7ee3442c",
   "metadata": {},
   "outputs": [],
   "source": [
    "# Fetch and log all messages\n",
    "messages = project_client.agents.list_messages(thread_id=thread.id)\n",
    "print(f\"Messages: {messages}\")"
   ]
  },
  {
   "cell_type": "markdown",
   "id": "ca212ee2",
   "metadata": {},
   "source": [
    "## Delete Agent to free up resources"
   ]
  },
  {
   "cell_type": "code",
   "execution_count": 22,
   "id": "2605bf83",
   "metadata": {},
   "outputs": [
    {
     "name": "stdout",
     "output_type": "stream",
     "text": [
      "Deleted agent\n"
     ]
    }
   ],
   "source": [
    "# Delete the agent when done\n",
    "project_client.agents.delete_agent(agent.id)\n",
    "print(\"Deleted agent\")"
   ]
  }
 ],
 "metadata": {
  "kernelspec": {
   "display_name": "Python 3",
   "language": "python",
   "name": "python3"
  },
  "language_info": {
   "codemirror_mode": {
    "name": "ipython",
    "version": 3
   },
   "file_extension": ".py",
   "mimetype": "text/x-python",
   "name": "python",
   "nbconvert_exporter": "python",
   "pygments_lexer": "ipython3",
   "version": "3.12.1"
  }
 },
 "nbformat": 4,
 "nbformat_minor": 5
}
