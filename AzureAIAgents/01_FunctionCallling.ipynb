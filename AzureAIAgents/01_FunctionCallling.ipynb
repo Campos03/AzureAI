{
 "cells": [
  {
   "cell_type": "markdown",
   "id": "cfb043a3",
   "metadata": {},
   "source": [
    "# Azure AI Agents function calling\n",
    "\n",
    "NOTE: If this is your first time, you need to authenticate your API requests. \n",
    "\n",
    "Use the az login command to sign into your Azure subscription. \n",
    "\n",
    "In Terminal run: az login"
   ]
  },
  {
   "cell_type": "code",
   "execution_count": null,
   "id": "b2be1f5e",
   "metadata": {},
   "outputs": [],
   "source": [
    "%pip install azure-ai-projects\n",
    "%pip install azure-identity"
   ]
  },
  {
   "cell_type": "markdown",
   "id": "8437431c",
   "metadata": {},
   "source": [
    "## Define a function for your agent to call\n",
    "Start by defining a function for your agent to call. When you create a function for an agent to call, you describe its structure of it with any required parameters in a docstring."
   ]
  },
  {
   "cell_type": "code",
   "execution_count": null,
   "id": "ee01814c",
   "metadata": {},
   "outputs": [],
   "source": [
    "import json\n",
    "from typing import Any, Callable, Set, Dict, List, Optional\n",
    "\n",
    "def fetch_weather(location: str) -> str:\n",
    "    \"\"\"\n",
    "    Fetches the weather information for the specified location.\n",
    "\n",
    "    :param location (str): The location to fetch weather for.\n",
    "    :return: Weather information as a JSON string.\n",
    "    :rtype: str\n",
    "    \"\"\"\n",
    "    # In a real-world scenario, you'd integrate with a weather API.\n",
    "    # Here, we'll mock the response.\n",
    "    mock_weather_data = {\n",
    "        \"New York\": \"Sunny, 25°C\", \n",
    "        \"London\": \"Cloudy, 18°C\", \n",
    "        \"Tokyo\": \"Rainy, 22°C\"\n",
    "    }\n",
    "    weather = mock_weather_data.get(location, \"Weather data not available for this location.\")\n",
    "    weather_json = json.dumps({\"weather\": weather})\n",
    "    return weather_json\n",
    "\n",
    "def fetch_restaurant(location: str) -> str:\n",
    "    \"\"\"\n",
    "    Fetches the restaurant information for the specified location.\n",
    "\n",
    "    :param location (str): The location to fetch the restaurant for.\n",
    "    :return: Restaurant information as a JSON string.\n",
    "    :rtype: str\n",
    "    \"\"\"\n",
    "    # In a real-world scenario, you'd integrate with a restaurant API.\n",
    "    # Here, we'll mock the response.\n",
    "    mock_restaurant_data = {\n",
    "        \"New York\": \"Tatiana by Kwame Onwuachi, Katz’s Delicatessen, Peter Luger Steakhouse, Sylvia's, Nathan's Famous\", \n",
    "        \"London\": \"St. JOHN, Señor Ceviche, Gloria and Circolo Popolare, Normah's, Bouchon Racine\", \n",
    "        \"Tokyo\": \"Chanko & Wanko Restaurant Asakusa Sumo Club, Sky Restaurant 634 Musashi, Ichiran, Shibuya, Rokkasen Otakibashiidori, Hakushu - Kobe Teppanyaki\"\n",
    "    }\n",
    "    restaurant = mock_restaurant_data.get(location, \"Restaurant data not available for this location.\")\n",
    "    restaurant_json = json.dumps({\"restaurant\": restaurant})\n",
    "    return restaurant_json\n",
    "\n",
    "def fetch_budget() -> str:\n",
    "    \"\"\"\n",
    "    Fetches the budget information for the specified location.\n",
    "    :return: budget information as a JSON string.\n",
    "    :rtype: str\n",
    "    \"\"\"\n",
    "    # In a real-world scenario, you'd integrate with a another API.\n",
    "    # Here, we'll mock the response.\n",
    "    mock_budget_data = {\n",
    "        \"New York\": \"\"\"\n",
    "            Budget Travelers: Around $121 per day. This includes staying in hostels, eating at budget restaurants, and using public transportation.\n",
    "            Mid-Range Travelers: Approximately $324 per day. This covers mid-range hotels, dining at average restaurants, and some paid attractions.\n",
    "            Luxury Travelers: About $923 per day. This includes luxury hotels, fine dining, and private transportation.\n",
    "        \"\"\", \n",
    "        \"London\": \"\"\"\n",
    "            Budget Travelers: Around $75 per day. This includes staying in hostels, cooking your own meals, and using public transport.\n",
    "            Mid-Range Travelers: Approximately $195 per day. This covers mid-range hotels, dining at average restaurants, and some paid attractions.\n",
    "            Luxury Travelers: About $517 per day. This includes luxury hotels, fine dining, and private transportation.\n",
    "        \"\"\", \n",
    "        \"Tokyo\": \"\"\"\n",
    "            Budget Travelers: Around $100 per day. This includes staying in hostels, eating at budget restaurants, and using public transportation.\n",
    "            Mid-Range Travelers: Approximately $286 per day. This covers mid-range hotels, dining at average restaurants, and some paid attractions.\n",
    "            Luxury Travelers: About $908 per day. This includes luxury hotels, fine dining, and private transportation.\n",
    "        \"\"\"\n",
    "    }\n",
    "    budget_json = json.dumps({\"budget\": mock_budget_data})\n",
    "    return budget_json\n",
    "\n",
    "\n",
    "# Statically defined user functions for fast reference\n",
    "user_functions: Set[Callable[..., Any]] = {\n",
    "    fetch_weather, fetch_restaurant, fetch_budget\n",
    "}"
   ]
  },
  {
   "cell_type": "markdown",
   "id": "00103ea4",
   "metadata": {},
   "source": [
    "## STEP 1: Create a client and agent\n",
    "\n",
    "In the sample below we create a client and define a toolset which will be used to process the functions defined in user_functions.\n",
    "\n",
    "toolset: When using the toolset parameter, you provide not only the function definitions and descriptions but also their implementations. The SDK will execute these functions within create_and_run_process or streaming. These functions will be invoked based on their definitions."
   ]
  },
  {
   "cell_type": "code",
   "execution_count": null,
   "id": "096c7fd3",
   "metadata": {},
   "outputs": [],
   "source": [
    "import os, time\n",
    "from azure.ai.projects import AIProjectClient\n",
    "from azure.identity import DefaultAzureCredential\n",
    "from azure.ai.projects.models import FunctionTool, ToolSet, RequiredFunctionToolCall, SubmitToolOutputsAction, ToolOutput\n",
    "\n",
    "# Create an Azure AI Client from a connection string, copied from your Azure AI Foundry project.\n",
    "# It should be in the format \"<HostName>;<AzureSubscriptionId>;<ResourceGroup>;<HubName>\"\n",
    "# Customers need to login to Azure subscription via Azure CLI and set the environment variables\n",
    "\n",
    "project_client = AIProjectClient.from_connection_string(\n",
    "    credential=DefaultAzureCredential(),\n",
    "    conn_str=os.environ[\"PROJECT_CONNECTION_STRING\"],\n",
    ")\n",
    "\n",
    "# Initialize agent toolset with user functions\n",
    "functions = FunctionTool(user_functions)\n",
    "toolset = ToolSet()\n",
    "toolset.add(functions)\n",
    "\n",
    "agent = project_client.agents.create_agent(\n",
    "    model=\"gpt-4o\", \n",
    "    name=\"my-agent\", \n",
    "    instructions=\"You are a weather bot. Use the provided functions to help answer questions.\", \n",
    "    toolset=toolset\n",
    ")\n",
    "print(f\"Created agent, ID: {agent.id}\")"
   ]
  },
  {
   "cell_type": "markdown",
   "id": "2d97441d",
   "metadata": {},
   "source": [
    "## STEP 2: Create a thread"
   ]
  },
  {
   "cell_type": "code",
   "execution_count": null,
   "id": "bb65b069",
   "metadata": {},
   "outputs": [],
   "source": [
    "thread = project_client.agents.create_thread()\n",
    "print(f\"Created thread, ID: {thread.id}\")"
   ]
  },
  {
   "cell_type": "markdown",
   "id": "7c375343",
   "metadata": {},
   "source": [
    "## Step 3-6: Helper Function\n",
    "3. Add a message to the thread\n",
    "4. Run the Agent\n",
    "5. Check the Run Status\n",
    "6. Display the Agent's Response\n"
   ]
  },
  {
   "cell_type": "code",
   "execution_count": 88,
   "id": "6646258f",
   "metadata": {},
   "outputs": [],
   "source": [
    "def run_agent(user_input):  \n",
    "    # Step 3: Add a message to the thread  \n",
    "    message = project_client.agents.create_message(\n",
    "        thread_id=thread.id,\n",
    "        role=\"user\",\n",
    "        content=user_input,\n",
    "    )\n",
    "    print(f\"Created message, ID: {message.id}\")\n",
    "\n",
    "    # Step 4: Run the agent\n",
    "    run = project_client.agents.create_run(thread_id=thread.id, agent_id=agent.id)\n",
    "    print(f\"Created run, ID: {run.id}\")\n",
    "\n",
    "    # Step 5: Check the Run Status\n",
    "    while run.status in [\"queued\", \"in_progress\", \"requires_action\"]:\n",
    "        time.sleep(1)\n",
    "        run = project_client.agents.get_run(thread_id=thread.id, run_id=run.id)\n",
    "\n",
    "        # Print the current status of the run\n",
    "        print(f\"Current run status: {run.status}\")\n",
    "\n",
    "        if run.status == \"requires_action\" and isinstance(run.required_action, SubmitToolOutputsAction):\n",
    "            tool_calls = run.required_action.submit_tool_outputs.tool_calls\n",
    "            if not tool_calls:\n",
    "                print(\"No tool calls provided - cancelling run\")\n",
    "                project_client.agents.cancel_run(thread_id=thread.id, run_id=run.id)\n",
    "                break\n",
    "\n",
    "            tool_outputs = []\n",
    "            for tool_call in tool_calls:\n",
    "                if isinstance(tool_call, RequiredFunctionToolCall):\n",
    "                    try:\n",
    "                        print(f\"Executing tool call: {tool_call}\")\n",
    "                        output = functions.execute(tool_call)\n",
    "                        tool_outputs.append(\n",
    "                            ToolOutput(\n",
    "                                tool_call_id=tool_call.id,\n",
    "                                output=output,\n",
    "                            )\n",
    "                        )\n",
    "                    except Exception as e:\n",
    "                        print(f\"Error executing tool_call {tool_call.id}: {e}\")\n",
    "\n",
    "            print(f\"Tool outputs: {tool_outputs}\")\n",
    "            if tool_outputs:\n",
    "                project_client.agents.submit_tool_outputs_to_run(\n",
    "                    thread_id=thread.id, run_id=run.id, tool_outputs=tool_outputs\n",
    "                )\n",
    "\n",
    "        # Step 6: Display the Agent's Response\n",
    "        elif run.status == 'completed':\n",
    "            # Fetch all messages in the thread\n",
    "            messages = project_client.agents.list_messages(thread_id=thread.id)\n",
    "            if messages.data:\n",
    "                agent_message = messages.data[0]  # Get the last assistant message\n",
    "                print(f\"Agent Response: {agent_message.content[0].text.value}\") \n",
    "            else:\n",
    "                print(\"No messages found.\")"
   ]
  },
  {
   "cell_type": "markdown",
   "id": "9dc70f49",
   "metadata": {},
   "source": [
    "## Running the agent using the Helper Function"
   ]
  },
  {
   "cell_type": "code",
   "execution_count": 89,
   "id": "17657fa1",
   "metadata": {},
   "outputs": [
    {
     "name": "stdout",
     "output_type": "stream",
     "text": [
      "Created message, ID: msg_2Th635KwpISwsjntodVuqnu7\n",
      "Created run, ID: run_YOSLntbNmiRhIQGPb8MlTWFS\n",
      "Current run status: RunStatus.REQUIRES_ACTION\n",
      "Executing tool call: {'id': 'call_ZMZjJQQ3qBH4ZYNV7iF0JbAS', 'type': 'function', 'function': {'name': 'fetch_weather', 'arguments': '{\"location\":\"Tokyo\"}'}}\n",
      "Tool outputs: [{'tool_call_id': 'call_ZMZjJQQ3qBH4ZYNV7iF0JbAS', 'output': '{\"weather\": \"Rainy, 22\\\\u00b0C\"}'}]\n",
      "Current run status: RunStatus.COMPLETED\n",
      "Agent Response: The current weather in Tokyo is rainy, with a temperature of 22°C.\n"
     ]
    }
   ],
   "source": [
    "user_input = \"Hello, what is the weather in Tokyo?\"\n",
    "run_agent(user_input)"
   ]
  },
  {
   "cell_type": "code",
   "execution_count": 90,
   "id": "19ee99b6",
   "metadata": {},
   "outputs": [
    {
     "name": "stdout",
     "output_type": "stream",
     "text": [
      "Created message, ID: msg_LMIHpwb9YfPa7GnCbvCxQm1G\n",
      "Created run, ID: run_oqNsVn2mhQrFEyKthzl8K3O3\n",
      "Current run status: RunStatus.REQUIRES_ACTION\n",
      "Executing tool call: {'id': 'call_1KFF71Ti4MRGb2TmGeBxI9hq', 'type': 'function', 'function': {'name': 'fetch_budget', 'arguments': '{}'}}\n",
      "Tool outputs: [{'tool_call_id': 'call_1KFF71Ti4MRGb2TmGeBxI9hq', 'output': '{\"budget\": {\"New York\": \"\\\\n            Budget Travelers: Around $121 per day. This includes staying in hostels, eating at budget restaurants, and using public transportation.\\\\n            Mid-Range Travelers: Approximately $324 per day. This covers mid-range hotels, dining at average restaurants, and some paid attractions.\\\\n            Luxury Travelers: About $923 per day. This includes luxury hotels, fine dining, and private transportation.\\\\n        \", \"London\": \"\\\\n            Budget Travelers: Around $75 per day. This includes staying in hostels, cooking your own meals, and using public transport.\\\\n            Mid-Range Travelers: Approximately $195 per day. This covers mid-range hotels, dining at average restaurants, and some paid attractions.\\\\n            Luxury Travelers: About $517 per day. This includes luxury hotels, fine dining, and private transportation.\\\\n        \", \"Tokyo\": \"\\\\n            Budget Travelers: Around $100 per day. This includes staying in hostels, eating at budget restaurants, and using public transportation.\\\\n            Mid-Range Travelers: Approximately $286 per day. This covers mid-range hotels, dining at average restaurants, and some paid attractions.\\\\n            Luxury Travelers: About $908 per day. This includes luxury hotels, fine dining, and private transportation.\\\\n        \"}}'}]\n",
      "Current run status: RunStatus.IN_PROGRESS\n",
      "Current run status: RunStatus.COMPLETED\n",
      "Agent Response: The budget for travelers in Tokyo varies depending on your style of travel:\n",
      "\n",
      "- **Budget Travelers:** Around $100 per day, which includes staying in hostels, eating at budget restaurants, and using public transportation.\n",
      "- **Mid-Range Travelers:** Approximately $286 per day, covering mid-range hotels, dining at average restaurants, and enjoying some paid attractions.\n",
      "- **Luxury Travelers:** About $908 per day, including luxury hotels, fine dining, and private transportation.\n"
     ]
    }
   ],
   "source": [
    "user_input = \"What is the budget there?\"\n",
    "run_agent(user_input)"
   ]
  },
  {
   "cell_type": "code",
   "execution_count": 92,
   "id": "ff80cb43",
   "metadata": {},
   "outputs": [
    {
     "name": "stdout",
     "output_type": "stream",
     "text": [
      "Created message, ID: msg_h0gwZiDjBqUQngijBiNeipjR\n",
      "Created run, ID: run_E7fgDVwhI5SHk9MteLiRFGtO\n",
      "Current run status: RunStatus.REQUIRES_ACTION\n",
      "Executing tool call: {'id': 'call_5trPmB6db51SNe1MBlZ1FMRk', 'type': 'function', 'function': {'name': 'fetch_restaurant', 'arguments': '{\"location\":\"London\"}'}}\n",
      "Tool outputs: [{'tool_call_id': 'call_5trPmB6db51SNe1MBlZ1FMRk', 'output': '{\"restaurant\": \"St. JOHN, Se\\\\u00f1or Ceviche, Gloria and Circolo Popolare, Normah\\'s, Bouchon Racine\"}'}]\n",
      "Current run status: RunStatus.COMPLETED\n",
      "Agent Response: In London, you can dine at:\n",
      "\n",
      "- **St. JOHN**\n",
      "- **Señor Ceviche**\n",
      "- **Gloria and Circolo Popolare**\n",
      "- **Normah's**\n",
      "- **Bouchon Racine**\n"
     ]
    }
   ],
   "source": [
    "user_input = \"Where can I eat in London?\"\n",
    "run_agent(user_input)"
   ]
  },
  {
   "cell_type": "code",
   "execution_count": 93,
   "id": "91cd6cb7",
   "metadata": {},
   "outputs": [
    {
     "name": "stdout",
     "output_type": "stream",
     "text": [
      "Created message, ID: msg_Q1YnQq16jeNUeTXpFf65KAQb\n",
      "Created run, ID: run_5hCGoEqgS754UziNrzMbbe6J\n",
      "Current run status: RunStatus.IN_PROGRESS\n",
      "Current run status: RunStatus.COMPLETED\n",
      "Agent Response: Based on your $300 budget for 4 days, here's a breakdown of what countries you could afford to visit, considering the daily expenses provided earlier:\n",
      "\n",
      "- **London:** For budget travelers, it's $75 per day. In 4 days, your total cost would be **$300**, fitting exactly within your budget. You would need to stick to hostels, cook meals, and rely on public transportation.\n",
      "\n",
      "- **Tokyo:** For budget travelers, it's $100 per day, which totals to **$400** for 4 days. Tokyo would exceed your budget unless you can reduce expenses.\n",
      "\n",
      "- **New York:** For budget travelers, it's $121 per day, which totals to **$484** for 4 days. New York would exceed your budget.\n",
      "\n",
      "Given these options, **London** is the best choice for your budget.\n"
     ]
    }
   ],
   "source": [
    "user_input = \"I only have 300 USD. What country can I visit for 4 days?\"\n",
    "run_agent(user_input)"
   ]
  },
  {
   "cell_type": "markdown",
   "id": "40f85f25",
   "metadata": {},
   "source": [
    "## Delete Agent to free up resources"
   ]
  },
  {
   "cell_type": "code",
   "execution_count": 94,
   "id": "2da47827",
   "metadata": {},
   "outputs": [
    {
     "name": "stdout",
     "output_type": "stream",
     "text": [
      "Deleted agent\n"
     ]
    }
   ],
   "source": [
    "# Delete the agent when done\n",
    "project_client.agents.delete_agent(agent.id)\n",
    "print(\"Deleted agent\")"
   ]
  }
 ],
 "metadata": {
  "kernelspec": {
   "display_name": "Python 3",
   "language": "python",
   "name": "python3"
  },
  "language_info": {
   "codemirror_mode": {
    "name": "ipython",
    "version": 3
   },
   "file_extension": ".py",
   "mimetype": "text/x-python",
   "name": "python",
   "nbconvert_exporter": "python",
   "pygments_lexer": "ipython3",
   "version": "3.12.1"
  }
 },
 "nbformat": 4,
 "nbformat_minor": 5
}
