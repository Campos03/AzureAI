{
 "cells": [
  {
   "cell_type": "code",
   "execution_count": 31,
   "id": "2d0129f0",
   "metadata": {},
   "outputs": [
    {
     "name": "stdout",
     "output_type": "stream",
     "text": [
      "AIPROJECT_CONNECTION_STRING: eastus.api.azureml.ms;f08cda90-375b-4b3e-a105-4656379a94ab;rg-Ziggy-ai-agent-001;Ziggy-ai-agent-project-001\n",
      "AGENT_ID: asst_Dts7tuXRmhECZZGPJiSSDjZV\n",
      "project_client: <azure.ai.projects._patch.AIProjectClient object at 0x713e8d456600>\n"
     ]
    }
   ],
   "source": [
    "import os\n",
    "import logging\n",
    "from dotenv import load_dotenv\n",
    "from azure.ai.projects import AIProjectClient\n",
    "from azure.identity import DefaultAzureCredential\n",
    "\n",
    "\n",
    "# Load environment variables\n",
    "load_dotenv()\n",
    "\n",
    "# Load environment variables\n",
    "AIPROJECT_CONNECTION_STRING = os.getenv(\"PROJECT_CONNECTION_STRING\")\n",
    "AGENT_ID = str(\"asst_Dts7tuXRmhECZZGPJiSSDjZV\")\n",
    "\n",
    "\n",
    "\n",
    "project_client = AIProjectClient.from_connection_string(\n",
    "    credential=DefaultAzureCredential(),\n",
    "    conn_str=AIPROJECT_CONNECTION_STRING,\n",
    ")\n",
    "\n",
    "print(\"AIPROJECT_CONNECTION_STRING:\",AIPROJECT_CONNECTION_STRING)\n",
    "print(\"AGENT_ID:\",AGENT_ID)\n",
    "print(\"project_client:\",project_client)\n",
    "\n"
   ]
  },
  {
   "cell_type": "code",
   "execution_count": 28,
   "id": "20ebce68",
   "metadata": {},
   "outputs": [],
   "source": [
    "def run_agent(user_input, client, thread_id):  \n",
    "    # Step 3: Add a message to the thread  \n",
    "    message = client.agents.create_message(\n",
    "        thread_id=thread_id,\n",
    "        role=\"user\",\n",
    "        content=user_input,\n",
    "    )\n",
    "    print(f\"Created message, ID: {message.id}\")\n",
    "\n",
    "    # Step 4 & 5: Create and process agent run in thread with tools\n",
    "    run = client.agents.create_and_process_run(thread_id=thread_id, agent_id=AGENT_ID)\n",
    "\n",
    "    if run.status == \"failed\":\n",
    "        print(f\"Run failed: {run.last_error}\")\n",
    "\n",
    "    # Step 6: Display the Agent's Response\n",
    "    elif run.status == 'completed':\n",
    "            # Fetch all messages in the thread\n",
    "            messages = client.agents.list_messages(thread_id=thread_id)\n",
    "            if messages.data:\n",
    "                agent_message = messages.data[0]  # Get the last assistant message\n",
    "                print(f\"Agent Response: {agent_message.content[0].text.value}\") \n",
    "            else:\n",
    "                print(\"No messages found.\")"
   ]
  },
  {
   "cell_type": "code",
   "execution_count": 29,
   "id": "16c9ec10",
   "metadata": {},
   "outputs": [
    {
     "name": "stdout",
     "output_type": "stream",
     "text": [
      "Thread ID: thread_z6xcHgYKlIz8AZCUjGUCwrmw\n"
     ]
    }
   ],
   "source": [
    "thread = project_client.agents.create_thread()\n",
    "thread_id = thread.id\n",
    "print(f\"Thread ID: {thread_id}\")"
   ]
  },
  {
   "cell_type": "code",
   "execution_count": 30,
   "id": "ac48e26d",
   "metadata": {},
   "outputs": [
    {
     "name": "stdout",
     "output_type": "stream",
     "text": [
      "Created message, ID: msg_LO6AxKXs1nBjuR9ldmBIBj4W\n"
     ]
    },
    {
     "ename": "ValueError",
     "evalue": "Toolset is not available in the client.",
     "output_type": "error",
     "traceback": [
      "\u001b[0;31m---------------------------------------------------------------------------\u001b[0m",
      "\u001b[0;31mValueError\u001b[0m                                Traceback (most recent call last)",
      "Cell \u001b[0;32mIn[30], line 3\u001b[0m\n\u001b[1;32m      1\u001b[0m \u001b[38;5;66;03m# Call the agent with the user's message\u001b[39;00m\n\u001b[1;32m      2\u001b[0m user_input \u001b[38;5;241m=\u001b[39m \u001b[38;5;124m\"\u001b[39m\u001b[38;5;124mWhat is the weather in tokyo\u001b[39m\u001b[38;5;124m\"\u001b[39m\n\u001b[0;32m----> 3\u001b[0m agent_response \u001b[38;5;241m=\u001b[39m \u001b[43mrun_agent\u001b[49m\u001b[43m(\u001b[49m\u001b[43muser_input\u001b[49m\u001b[43m,\u001b[49m\u001b[43m \u001b[49m\u001b[43mclient\u001b[49m\u001b[38;5;241;43m=\u001b[39;49m\u001b[43mproject_client\u001b[49m\u001b[43m,\u001b[49m\u001b[43m \u001b[49m\u001b[43mthread_id\u001b[49m\u001b[38;5;241;43m=\u001b[39;49m\u001b[43mthread_id\u001b[49m\u001b[43m)\u001b[49m\n\u001b[1;32m      4\u001b[0m \u001b[38;5;28mprint\u001b[39m(agent_response)\n",
      "Cell \u001b[0;32mIn[28], line 11\u001b[0m, in \u001b[0;36mrun_agent\u001b[0;34m(user_input, client, thread_id)\u001b[0m\n\u001b[1;32m      8\u001b[0m \u001b[38;5;28mprint\u001b[39m(\u001b[38;5;124mf\u001b[39m\u001b[38;5;124m\"\u001b[39m\u001b[38;5;124mCreated message, ID: \u001b[39m\u001b[38;5;132;01m{\u001b[39;00mmessage\u001b[38;5;241m.\u001b[39mid\u001b[38;5;132;01m}\u001b[39;00m\u001b[38;5;124m\"\u001b[39m)\n\u001b[1;32m     10\u001b[0m \u001b[38;5;66;03m# Step 4 & 5: Create and process agent run in thread with tools\u001b[39;00m\n\u001b[0;32m---> 11\u001b[0m run \u001b[38;5;241m=\u001b[39m \u001b[43mclient\u001b[49m\u001b[38;5;241;43m.\u001b[39;49m\u001b[43magents\u001b[49m\u001b[38;5;241;43m.\u001b[39;49m\u001b[43mcreate_and_process_run\u001b[49m\u001b[43m(\u001b[49m\u001b[43mthread_id\u001b[49m\u001b[38;5;241;43m=\u001b[39;49m\u001b[43mthread_id\u001b[49m\u001b[43m,\u001b[49m\u001b[43m \u001b[49m\u001b[43magent_id\u001b[49m\u001b[38;5;241;43m=\u001b[39;49m\u001b[43mAGENT_ID\u001b[49m\u001b[43m)\u001b[49m\n\u001b[1;32m     13\u001b[0m \u001b[38;5;28;01mif\u001b[39;00m run\u001b[38;5;241m.\u001b[39mstatus \u001b[38;5;241m==\u001b[39m \u001b[38;5;124m\"\u001b[39m\u001b[38;5;124mfailed\u001b[39m\u001b[38;5;124m\"\u001b[39m:\n\u001b[1;32m     14\u001b[0m     \u001b[38;5;28mprint\u001b[39m(\u001b[38;5;124mf\u001b[39m\u001b[38;5;124m\"\u001b[39m\u001b[38;5;124mRun failed: \u001b[39m\u001b[38;5;132;01m{\u001b[39;00mrun\u001b[38;5;241m.\u001b[39mlast_error\u001b[38;5;132;01m}\u001b[39;00m\u001b[38;5;124m\"\u001b[39m)\n",
      "File \u001b[0;32m~/.python/current/lib/python3.12/site-packages/azure/core/tracing/decorator.py:105\u001b[0m, in \u001b[0;36mdistributed_trace.<locals>.decorator.<locals>.wrapper_use_tracer\u001b[0;34m(*args, **kwargs)\u001b[0m\n\u001b[1;32m    103\u001b[0m span_impl_type \u001b[38;5;241m=\u001b[39m settings\u001b[38;5;241m.\u001b[39mtracing_implementation()\n\u001b[1;32m    104\u001b[0m \u001b[38;5;28;01mif\u001b[39;00m span_impl_type \u001b[38;5;129;01mis\u001b[39;00m \u001b[38;5;28;01mNone\u001b[39;00m:\n\u001b[0;32m--> 105\u001b[0m     \u001b[38;5;28;01mreturn\u001b[39;00m \u001b[43mfunc\u001b[49m\u001b[43m(\u001b[49m\u001b[38;5;241;43m*\u001b[39;49m\u001b[43margs\u001b[49m\u001b[43m,\u001b[49m\u001b[43m \u001b[49m\u001b[38;5;241;43m*\u001b[39;49m\u001b[38;5;241;43m*\u001b[39;49m\u001b[43mkwargs\u001b[49m\u001b[43m)\u001b[49m\n\u001b[1;32m    107\u001b[0m \u001b[38;5;66;03m# Merge span is parameter is set, but only if no explicit parent are passed\u001b[39;00m\n\u001b[1;32m    108\u001b[0m \u001b[38;5;28;01mif\u001b[39;00m merge_span \u001b[38;5;129;01mand\u001b[39;00m \u001b[38;5;129;01mnot\u001b[39;00m passed_in_parent:\n",
      "File \u001b[0;32m~/.python/current/lib/python3.12/site-packages/azure/ai/projects/operations/_patch.py:1830\u001b[0m, in \u001b[0;36mAgentsOperations.create_and_process_run\u001b[0;34m(self, thread_id, agent_id, include, model, instructions, additional_instructions, additional_messages, toolset, temperature, top_p, max_prompt_tokens, max_completion_tokens, truncation_strategy, tool_choice, response_format, parallel_tool_calls, metadata, sleep_interval, **kwargs)\u001b[0m\n\u001b[1;32m   1828\u001b[0m     tool_outputs \u001b[38;5;241m=\u001b[39m toolset\u001b[38;5;241m.\u001b[39mexecute_tool_calls(tool_calls)\n\u001b[1;32m   1829\u001b[0m \u001b[38;5;28;01melse\u001b[39;00m:\n\u001b[0;32m-> 1830\u001b[0m     \u001b[38;5;28;01mraise\u001b[39;00m \u001b[38;5;167;01mValueError\u001b[39;00m(\u001b[38;5;124m\"\u001b[39m\u001b[38;5;124mToolset is not available in the client.\u001b[39m\u001b[38;5;124m\"\u001b[39m)\n\u001b[1;32m   1832\u001b[0m logging\u001b[38;5;241m.\u001b[39minfo(\u001b[38;5;124m\"\u001b[39m\u001b[38;5;124mTool outputs: \u001b[39m\u001b[38;5;132;01m%s\u001b[39;00m\u001b[38;5;124m\"\u001b[39m, tool_outputs)\n\u001b[1;32m   1833\u001b[0m \u001b[38;5;28;01mif\u001b[39;00m tool_outputs:\n",
      "\u001b[0;31mValueError\u001b[0m: Toolset is not available in the client."
     ]
    }
   ],
   "source": [
    "# Call the agent with the user's message\n",
    "user_input = \"What is the weather in tokyo\"\n",
    "agent_response = run_agent(user_input, client=project_client, thread_id=thread_id)\n",
    "print(agent_response)"
   ]
  }
 ],
 "metadata": {
  "kernelspec": {
   "display_name": "Python 3",
   "language": "python",
   "name": "python3"
  },
  "language_info": {
   "codemirror_mode": {
    "name": "ipython",
    "version": 3
   },
   "file_extension": ".py",
   "mimetype": "text/x-python",
   "name": "python",
   "nbconvert_exporter": "python",
   "pygments_lexer": "ipython3",
   "version": "3.12.1"
  }
 },
 "nbformat": 4,
 "nbformat_minor": 5
}
