{
 "cells": [
  {
   "cell_type": "markdown",
   "id": "768c8409",
   "metadata": {},
   "source": [
    "## Define Azure AI Agent for Chainlit"
   ]
  },
  {
   "cell_type": "markdown",
   "id": "586c87ab",
   "metadata": {},
   "source": [
    "## Step 1: Define Tools Functions"
   ]
  },
  {
   "cell_type": "code",
   "execution_count": 47,
   "id": "2de1bd48",
   "metadata": {},
   "outputs": [],
   "source": [
    "import json\n",
    "from typing import Any, Callable, Set, Dict, List, Optional\n",
    "\n",
    "def fetch_weather(location: str) -> str:\n",
    "    \"\"\"\n",
    "    Fetches the weather information for the specified location.\n",
    "\n",
    "    :param location (str): The location to fetch weather for.\n",
    "    :return: Weather information as a JSON string.\n",
    "    :rtype: str\n",
    "    \"\"\"\n",
    "    # In a real-world scenario, you'd integrate with a weather API.\n",
    "    # Here, we'll mock the response.\n",
    "    mock_weather_data = {\n",
    "        \"New York\": \"Sunny, 25°C\", \n",
    "        \"London\": \"Cloudy, 18°C\", \n",
    "        \"Tokyo\": \"Rainy, 22°C\"\n",
    "    }\n",
    "    weather = mock_weather_data.get(location, \"Weather data not available for this location.\")\n",
    "    weather_json = json.dumps({\"weather\": weather})\n",
    "    return weather_json\n",
    "\n",
    "def fetch_restaurant(location: str) -> str:\n",
    "    \"\"\"\n",
    "    Fetches the restaurant information for the specified location.\n",
    "\n",
    "    :param location (str): The location to fetch the restaurant for.\n",
    "    :return: Restaurant information as a JSON string.\n",
    "    :rtype: str\n",
    "    \"\"\"\n",
    "    # In a real-world scenario, you'd integrate with a restaurant API.\n",
    "    # Here, we'll mock the response.\n",
    "    mock_restaurant_data = {\n",
    "        \"New York\": \"Tatiana by Kwame Onwuachi, Katz’s Delicatessen, Peter Luger Steakhouse, Sylvia's, Nathan's Famous\", \n",
    "        \"London\": \"St. JOHN, Señor Ceviche, Gloria and Circolo Popolare, Normah's, Bouchon Racine\", \n",
    "        \"Tokyo\": \"Chanko & Wanko Restaurant Asakusa Sumo Club, Sky Restaurant 634 Musashi, Ichiran, Shibuya, Rokkasen Otakibashiidori, Hakushu - Kobe Teppanyaki\"\n",
    "    }\n",
    "    restaurant = mock_restaurant_data.get(location, \"Restaurant data not available for this location.\")\n",
    "    restaurant_json = json.dumps({\"restaurant\": restaurant})\n",
    "    return restaurant_json\n",
    "\n",
    "def fetch_budget() -> str:\n",
    "    \"\"\"\n",
    "    Fetches the budget information for the specified location.\n",
    "    :return: budget information as a JSON string.\n",
    "    :rtype: str\n",
    "    \"\"\"\n",
    "    # In a real-world scenario, you'd integrate with a another API.\n",
    "    # Here, we'll mock the response.\n",
    "    mock_budget_data = {\n",
    "        \"New York\": \"\"\"\n",
    "            Budget Travelers: Around $121 per day. This includes staying in hostels, eating at budget restaurants, and using public transportation.\n",
    "            Mid-Range Travelers: Approximately $324 per day. This covers mid-range hotels, dining at average restaurants, and some paid attractions.\n",
    "            Luxury Travelers: About $923 per day. This includes luxury hotels, fine dining, and private transportation.\n",
    "        \"\"\", \n",
    "        \"London\": \"\"\"\n",
    "            Budget Travelers: Around $75 per day. This includes staying in hostels, cooking your own meals, and using public transport.\n",
    "            Mid-Range Travelers: Approximately $195 per day. This covers mid-range hotels, dining at average restaurants, and some paid attractions.\n",
    "            Luxury Travelers: About $517 per day. This includes luxury hotels, fine dining, and private transportation.\n",
    "        \"\"\", \n",
    "        \"Tokyo\": \"\"\"\n",
    "            Budget Travelers: Around $100 per day. This includes staying in hostels, eating at budget restaurants, and using public transportation.\n",
    "            Mid-Range Travelers: Approximately $286 per day. This covers mid-range hotels, dining at average restaurants, and some paid attractions.\n",
    "            Luxury Travelers: About $908 per day. This includes luxury hotels, fine dining, and private transportation.\n",
    "        \"\"\"\n",
    "    }\n",
    "    budget_json = json.dumps({\"budget\": mock_budget_data})\n",
    "    return budget_json\n",
    "\n",
    "\n",
    "# Statically defined user functions for fast reference\n",
    "user_functions: Set[Callable[..., Any]] = {\n",
    "    fetch_weather, fetch_restaurant, fetch_budget\n",
    "}"
   ]
  },
  {
   "cell_type": "markdown",
   "id": "d9a17c10",
   "metadata": {},
   "source": [
    "## Step 2: Create an Azure AI Client"
   ]
  },
  {
   "cell_type": "code",
   "execution_count": 31,
   "id": "11038975",
   "metadata": {},
   "outputs": [],
   "source": [
    "import os\n",
    "from azure.ai.projects import AIProjectClient\n",
    "from azure.identity import DefaultAzureCredential\n",
    "from azure.ai.projects.models import AzureAISearchTool, AzureAISearchQueryType\n",
    "from azure.ai.projects.models import FunctionTool, ToolSet, RequiredFunctionToolCall, SubmitToolOutputsAction, ToolOutput\n",
    "\n",
    "# Create an Azure AI Client from a connection string, copied from your Azure AI Foundry project.\n",
    "# At the moment, it should be in the format \"<HostName>;<AzureSubscriptionId>;<ResourceGroup>;<ProjectName>\"\n",
    "# HostName can be found by navigating to your discovery_url and removing the leading \"https://\" and trailing \"/discovery\" \n",
    "# To find your discovery_url, run the CLI command: az ml workspace show -n {project_name} --resource-group {resource_group_name} --query discovery_url\n",
    "# Project Connection example: eastus.api.azureml.ms;my-subscription-id;my-resource-group;my-hub-name\n",
    "\n",
    "connection_string = os.environ[\"PROJECT_CONNECTION_STRING\"] \n",
    "\n",
    "project_client = AIProjectClient.from_connection_string(\n",
    "    credential=DefaultAzureCredential(),\n",
    "    conn_str=connection_string,\n",
    ")"
   ]
  },
  {
   "cell_type": "markdown",
   "id": "9cbde29f",
   "metadata": {},
   "source": [
    "## Step 3: Setup the AzureAISearchTool\n",
    "\n",
    "query type values can be found here: https://learn.microsoft.com/en-us/python/api/azure-ai-projects/azure.ai.projects.models.azureaisearchquerytype"
   ]
  },
  {
   "cell_type": "code",
   "execution_count": 33,
   "id": "d3f72c40",
   "metadata": {},
   "outputs": [],
   "source": [
    "# Initialize agent AI search tool and add the search index connection ID and index name\n",
    "connection_id = os.getenv(\"PROJECT_CONNECTION_ID_AZURE_AI_SEARCH\")\n",
    "index_name = \"travel-product-index\"\n",
    "ai_search = AzureAISearchTool(\n",
    "    index_connection_id=connection_id, \n",
    "    index_name=index_name,\n",
    "    query_type=AzureAISearchQueryType.VECTOR_SEMANTIC_HYBRID,\n",
    "    top_k=5,\n",
    ")"
   ]
  },
  {
   "cell_type": "markdown",
   "id": "c1af33a3",
   "metadata": {},
   "source": [
    "## Step 4: Create the Agent"
   ]
  },
  {
   "cell_type": "code",
   "execution_count": 34,
   "id": "dd72eba0",
   "metadata": {},
   "outputs": [
    {
     "name": "stdout",
     "output_type": "stream",
     "text": [
      "Created agent, ID: asst_X6RXsMsspn6QVdYDeZVT9OkO\n"
     ]
    }
   ],
   "source": [
    "# Initialize agent toolset with user functions\n",
    "functions = FunctionTool(user_functions)\n",
    "toolset = ToolSet()\n",
    "toolset.add(functions)\n",
    "toolset.add(ai_search)\n",
    "    \n",
    "# Create a new agent with the toolset\n",
    "agent = project_client.agents.create_agent(\n",
    "    model=\"gpt-4o\", \n",
    "    name=\"my-chainlit-agent\", \n",
    "    instructions=\"\"\"\n",
    "        You are an AI Travel Agent. \n",
    "        You will answer questions about travel based on the tools provided.\n",
    "        When asked questions about products, you will use the Azure AI Search tool to find relevant products.\n",
    "    \"\"\", \n",
    "    toolset=toolset\n",
    "    )\n",
    "\n",
    "print(f\"Created agent, ID: {agent.id}\")"
   ]
  },
  {
   "cell_type": "markdown",
   "id": "edb1fdc2",
   "metadata": {},
   "source": [
    "## Helper Function"
   ]
  },
  {
   "cell_type": "code",
   "execution_count": 35,
   "id": "15403246",
   "metadata": {},
   "outputs": [],
   "source": [
    "def run_agent(user_input):  \n",
    "    # Step 3: Add a message to the thread  \n",
    "    message = project_client.agents.create_message(\n",
    "        thread_id=thread.id,\n",
    "        role=\"user\",\n",
    "        content=user_input,\n",
    "    )\n",
    "    print(f\"Created message, ID: {message.id}\")\n",
    "\n",
    "    # Step 4 & 5: Create and process agent run in thread with tools\n",
    "    run = project_client.agents.create_and_process_run(thread_id=thread.id, agent_id=agent.id)\n",
    "\n",
    "    if run.status == \"failed\":\n",
    "        print(f\"Run failed: {run.last_error}\")\n",
    "\n",
    "    # Step 6: Display the Agent's Response\n",
    "    elif run.status == 'completed':\n",
    "            # Fetch all messages in the thread\n",
    "            messages = project_client.agents.list_messages(thread_id=thread.id)\n",
    "            if messages.data:\n",
    "                agent_message = messages.data[0]  # Get the last assistant message\n",
    "                print(f\"Agent Response: {agent_message.content[0].text.value}\") \n",
    "            else:\n",
    "                print(\"No messages found.\")"
   ]
  },
  {
   "cell_type": "markdown",
   "id": "cbef67b5",
   "metadata": {},
   "source": [
    "## Test Agent"
   ]
  },
  {
   "cell_type": "code",
   "execution_count": 36,
   "id": "872679a2",
   "metadata": {},
   "outputs": [
    {
     "name": "stdout",
     "output_type": "stream",
     "text": [
      "Created thread, ID: thread_HEw1dMkLvrZuaKNxiEVqAEmY\n"
     ]
    }
   ],
   "source": [
    "# Create thread\n",
    "thread = project_client.agents.create_thread()\n",
    "print(f\"Created thread, ID: {thread.id}\")"
   ]
  },
  {
   "cell_type": "code",
   "execution_count": 37,
   "id": "8085c5ed",
   "metadata": {},
   "outputs": [
    {
     "name": "stdout",
     "output_type": "stream",
     "text": [
      "Created message, ID: msg_xpiTJNMDIqYoF0vFfvSu4ByK\n",
      "Agent Response: The current weather in Tokyo is rainy, with a temperature of 22°C.\n"
     ]
    }
   ],
   "source": [
    "user_input = \"Hello, what is the weather in Tokyo?\"\n",
    "run_agent(user_input)"
   ]
  },
  {
   "cell_type": "code",
   "execution_count": 38,
   "id": "0e00e79e",
   "metadata": {},
   "outputs": [
    {
     "name": "stdout",
     "output_type": "stream",
     "text": [
      "Created message, ID: msg_VOMmD9Ux2ZihbYwF0UaflkGn\n",
      "Agent Response: In Tokyo, the budget varies depending on your travel style:\n",
      "\n",
      "- **Budget Travelers:** Around $100 per day, including staying in hostels, eating at budget restaurants, and using public transportation.\n",
      "- **Mid-Range Travelers:** Approximately $286 per day, which covers mid-range hotels, dining at average restaurants, and visiting some attractions.\n",
      "- **Luxury Travelers:** About $908 per day, including luxury hotels, fine dining, and private transportation.\n"
     ]
    }
   ],
   "source": [
    "user_input = \"What is the budget there?\"\n",
    "run_agent(user_input)"
   ]
  },
  {
   "cell_type": "code",
   "execution_count": 39,
   "id": "96386401",
   "metadata": {},
   "outputs": [
    {
     "name": "stdout",
     "output_type": "stream",
     "text": [
      "<azure.ai.projects._patch.AIProjectClient object at 0x700dd0ba6d80>\n"
     ]
    }
   ],
   "source": [
    "print(project_client)"
   ]
  },
  {
   "cell_type": "code",
   "execution_count": 40,
   "id": "c39e3739",
   "metadata": {},
   "outputs": [
    {
     "name": "stdout",
     "output_type": "stream",
     "text": [
      "Created message, ID: msg_AXKYxjEPbZV8FjQ3C2nnrwxj\n",
      "Agent Response: In London, you can dine at some wonderful places, including:\n",
      "\n",
      "- **St. JOHN:** Known for traditional British cuisine.\n",
      "- **Señor Ceviche:** Offering delicious Peruvian food.\n",
      "- **Gloria and Circolo Popolare:** Famous for their Italian dishes.\n",
      "- **Normah's:** Serving Malaysian cuisine.\n",
      "- **Bouchon Racine:** Perfect spot for French classic meals.\n"
     ]
    }
   ],
   "source": [
    "user_input = \"Where can I eat in London?\"\n",
    "run_agent(user_input)"
   ]
  },
  {
   "cell_type": "code",
   "execution_count": 12,
   "id": "af239e15",
   "metadata": {},
   "outputs": [
    {
     "name": "stdout",
     "output_type": "stream",
     "text": [
      "Created message, ID: msg_fJ5vrcPCzfqs1MCahj0AzYdV\n",
      "Agent Response: Here are some recommendations for travel locks and luggage along with their prices:\n",
      "\n",
      "1. **Travel Lock**:\n",
      "   - **WanderSafe Travel Lock**: Priced at $25, it’s TSA-approved and made from durable zinc alloy for security. It features a resettable 3-digit combination lock and a flexible steel cable for easy attachment to luggage【17:0†source】.\n",
      "\n",
      "2. **Luggage Options**:\n",
      "   - **Nomad Traveler Suitcase**: Costing $275, this luggage is made from high-impact ABS plastic, has expandable capacity, spinner wheels, and a built-in TSA-Approved lock【17:1†source】.\n",
      "   - **Voyager Pro Luggage**: Priced at $250, made from durable polycarbonate, and includes expandable packing space along with TSA-approved locks【17:2†source】.\n",
      "   - **Globetrotter Elite Suitcase**: Costing $299, it’s constructed with premium material, expandable capacity, spinner wheels, and a lightweight design with TSA-approved locks【17:3†source】.\n",
      "\n",
      "These options suit various needs, from budget to premium luggage preferences.\n"
     ]
    }
   ],
   "source": [
    "user_input = \"I need a travel lock and luggage. What can you recommend? Also how much will it cost?\"\n",
    "run_agent(user_input)"
   ]
  },
  {
   "cell_type": "code",
   "execution_count": 13,
   "id": "df39ebea",
   "metadata": {},
   "outputs": [
    {
     "name": "stdout",
     "output_type": "stream",
     "text": [
      "Created message, ID: msg_rw27SvF7C9FmcFEtHWlazf5G\n",
      "Agent Response: Here are some countries you could visit for 4 days within a $300 budget:\n",
      "\n",
      "1. **Tokyo, Japan**:\n",
      "   - Budget travelers can manage with $100/day, totaling $400 for 4 days. \n",
      "   - If you adjust your accommodation (e.g., hostels), it could be achievable slightly over $300.\n",
      "\n",
      "2. **London, United Kingdom**:\n",
      "   - Budget travelers can manage with $75/day, totaling $300 for 4 days.\n",
      "   - Stick to budget accommodation, cook meals yourself, and use public transport.\n",
      "\n",
      "3. **Closer Options for US Travelers**:\n",
      "   - Mexico or Canada often offer budget options for travel, transportation, and food.\n",
      "\n",
      "Let me know if you'd like detailed budget planning!\n"
     ]
    }
   ],
   "source": [
    "user_input = \"I only have 300 USD. What country can I visit for 4 days?\"\n",
    "run_agent(user_input)"
   ]
  },
  {
   "cell_type": "code",
   "execution_count": 46,
   "id": "ef9408f6",
   "metadata": {},
   "outputs": [
    {
     "name": "stdout",
     "output_type": "stream",
     "text": [
      "Created thread, ID: thread_Yy2DHFqtYunrfScZeSaSYv9x\n",
      "Created message, ID: msg_Hiiaynj954YZ0iW5d4vWF4Z5\n"
     ]
    },
    {
     "ename": "ValueError",
     "evalue": "Toolset is not available in the client.",
     "output_type": "error",
     "traceback": [
      "\u001b[0;31m---------------------------------------------------------------------------\u001b[0m",
      "\u001b[0;31mValueError\u001b[0m                                Traceback (most recent call last)",
      "Cell \u001b[0;32mIn[46], line 22\u001b[0m\n\u001b[1;32m     19\u001b[0m \u001b[38;5;28mprint\u001b[39m(\u001b[38;5;124mf\u001b[39m\u001b[38;5;124m\"\u001b[39m\u001b[38;5;124mCreated message, ID: \u001b[39m\u001b[38;5;132;01m{\u001b[39;00mmessage\u001b[38;5;241m.\u001b[39mid\u001b[38;5;132;01m}\u001b[39;00m\u001b[38;5;124m\"\u001b[39m)\n\u001b[1;32m     21\u001b[0m \u001b[38;5;66;03m# Create and process agent run in thread with tools\u001b[39;00m\n\u001b[0;32m---> 22\u001b[0m run \u001b[38;5;241m=\u001b[39m \u001b[43mproject_client\u001b[49m\u001b[38;5;241;43m.\u001b[39;49m\u001b[43magents\u001b[49m\u001b[38;5;241;43m.\u001b[39;49m\u001b[43mcreate_and_process_run\u001b[49m\u001b[43m(\u001b[49m\u001b[43mthread_id\u001b[49m\u001b[38;5;241;43m=\u001b[39;49m\u001b[43mthread\u001b[49m\u001b[38;5;241;43m.\u001b[39;49m\u001b[43mid\u001b[49m\u001b[43m,\u001b[49m\u001b[43m \u001b[49m\u001b[43magent_id\u001b[49m\u001b[38;5;241;43m=\u001b[39;49m\u001b[43mAGENT_ID\u001b[49m\u001b[43m)\u001b[49m\n",
      "File \u001b[0;32m~/.python/current/lib/python3.12/site-packages/azure/core/tracing/decorator.py:105\u001b[0m, in \u001b[0;36mdistributed_trace.<locals>.decorator.<locals>.wrapper_use_tracer\u001b[0;34m(*args, **kwargs)\u001b[0m\n\u001b[1;32m    103\u001b[0m span_impl_type \u001b[38;5;241m=\u001b[39m settings\u001b[38;5;241m.\u001b[39mtracing_implementation()\n\u001b[1;32m    104\u001b[0m \u001b[38;5;28;01mif\u001b[39;00m span_impl_type \u001b[38;5;129;01mis\u001b[39;00m \u001b[38;5;28;01mNone\u001b[39;00m:\n\u001b[0;32m--> 105\u001b[0m     \u001b[38;5;28;01mreturn\u001b[39;00m \u001b[43mfunc\u001b[49m\u001b[43m(\u001b[49m\u001b[38;5;241;43m*\u001b[39;49m\u001b[43margs\u001b[49m\u001b[43m,\u001b[49m\u001b[43m \u001b[49m\u001b[38;5;241;43m*\u001b[39;49m\u001b[38;5;241;43m*\u001b[39;49m\u001b[43mkwargs\u001b[49m\u001b[43m)\u001b[49m\n\u001b[1;32m    107\u001b[0m \u001b[38;5;66;03m# Merge span is parameter is set, but only if no explicit parent are passed\u001b[39;00m\n\u001b[1;32m    108\u001b[0m \u001b[38;5;28;01mif\u001b[39;00m merge_span \u001b[38;5;129;01mand\u001b[39;00m \u001b[38;5;129;01mnot\u001b[39;00m passed_in_parent:\n",
      "File \u001b[0;32m~/.python/current/lib/python3.12/site-packages/azure/ai/projects/operations/_patch.py:1830\u001b[0m, in \u001b[0;36mAgentsOperations.create_and_process_run\u001b[0;34m(self, thread_id, agent_id, include, model, instructions, additional_instructions, additional_messages, toolset, temperature, top_p, max_prompt_tokens, max_completion_tokens, truncation_strategy, tool_choice, response_format, parallel_tool_calls, metadata, sleep_interval, **kwargs)\u001b[0m\n\u001b[1;32m   1828\u001b[0m     tool_outputs \u001b[38;5;241m=\u001b[39m toolset\u001b[38;5;241m.\u001b[39mexecute_tool_calls(tool_calls)\n\u001b[1;32m   1829\u001b[0m \u001b[38;5;28;01melse\u001b[39;00m:\n\u001b[0;32m-> 1830\u001b[0m     \u001b[38;5;28;01mraise\u001b[39;00m \u001b[38;5;167;01mValueError\u001b[39;00m(\u001b[38;5;124m\"\u001b[39m\u001b[38;5;124mToolset is not available in the client.\u001b[39m\u001b[38;5;124m\"\u001b[39m)\n\u001b[1;32m   1832\u001b[0m logging\u001b[38;5;241m.\u001b[39minfo(\u001b[38;5;124m\"\u001b[39m\u001b[38;5;124mTool outputs: \u001b[39m\u001b[38;5;132;01m%s\u001b[39;00m\u001b[38;5;124m\"\u001b[39m, tool_outputs)\n\u001b[1;32m   1833\u001b[0m \u001b[38;5;28;01mif\u001b[39;00m tool_outputs:\n",
      "\u001b[0;31mValueError\u001b[0m: Toolset is not available in the client."
     ]
    }
   ],
   "source": [
    "connection_string = os.environ[\"PROJECT_CONNECTION_STRING\"] \n",
    "project_client = AIProjectClient.from_connection_string(\n",
    "    credential=DefaultAzureCredential(),\n",
    "    conn_str=connection_string,\n",
    ")\n",
    "AGENT_ID = \"asst_X6RXsMsspn6QVdYDeZVT9OkO\"\n",
    "\n",
    "# Create thread\n",
    "thread = project_client.agents.create_thread()\n",
    "print(f\"Created thread, ID: {thread.id}\")\n",
    "\n",
    "user_input = \"Hello, what is the weather in Tokyo?\"\n",
    "# Add a message to the thread  \n",
    "message = project_client.agents.create_message(\n",
    "    thread_id=thread.id,\n",
    "    role=\"user\",\n",
    "    content=user_input,\n",
    ")\n",
    "print(f\"Created message, ID: {message.id}\")\n",
    "\n",
    "# Create and process agent run in thread with tools\n",
    "run = project_client.agents.create_and_process_run(thread_id=thread.id, agent_id=AGENT_ID)"
   ]
  },
  {
   "cell_type": "code",
   "execution_count": 52,
   "id": "cdce38ea",
   "metadata": {},
   "outputs": [],
   "source": [
    "# Define the function to run the agent\n",
    "def run_agent(user_input, project_client, thread_id):  \n",
    "\n",
    "    print(agent.id)\n",
    "    # Add a message to the thread  \n",
    "    message = project_client.agents.create_message(\n",
    "        thread_id=thread_id,\n",
    "        role=\"user\",\n",
    "        content=user_input,\n",
    "    )\n",
    "    print(f\"Created message, ID: {message.id}\")\n",
    "\n",
    "    # Create and process agent run in thread with tools\n",
    "    run = project_client.agents.create_and_process_run(thread_id=thread_id, agent_id=AGENT_ID)\n",
    "    \n",
    "    if run.status == \"failed\":\n",
    "        print(f\"Run failed: {run.last_error}\")\n",
    "\n",
    "    # Display the Agent's Response\n",
    "    elif run.status == 'completed':\n",
    "            # Fetch all messages in the thread\n",
    "            messages = project_client.agents.list_messages(thread_id=thread_id)\n",
    "            if messages.data:\n",
    "                agent_response = messages.data[0]  # Get the last assistant message\n",
    "                print(f\"Agent Response: {agent_response.content[0].text.value}\") \n",
    "            else:\n",
    "                print(\"No messages found.\")\n",
    "    \n",
    "    return agent_response"
   ]
  },
  {
   "cell_type": "code",
   "execution_count": 43,
   "id": "128ec112",
   "metadata": {},
   "outputs": [
    {
     "name": "stdout",
     "output_type": "stream",
     "text": [
      "asst_X6RXsMsspn6QVdYDeZVT9OkO\n",
      "Created message, ID: msg_svfx380g6zlBwEg7W0xtcgu6\n"
     ]
    },
    {
     "ename": "ValueError",
     "evalue": "Toolset is not available in the client.",
     "output_type": "error",
     "traceback": [
      "\u001b[0;31m---------------------------------------------------------------------------\u001b[0m",
      "\u001b[0;31mValueError\u001b[0m                                Traceback (most recent call last)",
      "Cell \u001b[0;32mIn[43], line 2\u001b[0m\n\u001b[1;32m      1\u001b[0m user_input \u001b[38;5;241m=\u001b[39m \u001b[38;5;124m\"\u001b[39m\u001b[38;5;124mWhat restaurants can you recommend in tokyo\u001b[39m\u001b[38;5;124m\"\u001b[39m\n\u001b[0;32m----> 2\u001b[0m agent_response \u001b[38;5;241m=\u001b[39m \u001b[43mrun_agent\u001b[49m\u001b[43m(\u001b[49m\u001b[43muser_input\u001b[49m\u001b[43m,\u001b[49m\u001b[43m \u001b[49m\u001b[43mproject_client\u001b[49m\u001b[43m,\u001b[49m\u001b[43m \u001b[49m\u001b[43mthread\u001b[49m\u001b[38;5;241;43m.\u001b[39;49m\u001b[43mid\u001b[49m\u001b[43m)\u001b[49m\n\u001b[1;32m      3\u001b[0m \u001b[38;5;28mprint\u001b[39m(agent_response)\n",
      "Cell \u001b[0;32mIn[42], line 14\u001b[0m, in \u001b[0;36mrun_agent\u001b[0;34m(user_input, project_client, thread_id)\u001b[0m\n\u001b[1;32m     11\u001b[0m \u001b[38;5;28mprint\u001b[39m(\u001b[38;5;124mf\u001b[39m\u001b[38;5;124m\"\u001b[39m\u001b[38;5;124mCreated message, ID: \u001b[39m\u001b[38;5;132;01m{\u001b[39;00mmessage\u001b[38;5;241m.\u001b[39mid\u001b[38;5;132;01m}\u001b[39;00m\u001b[38;5;124m\"\u001b[39m)\n\u001b[1;32m     13\u001b[0m \u001b[38;5;66;03m# Create and process agent run in thread with tools\u001b[39;00m\n\u001b[0;32m---> 14\u001b[0m run \u001b[38;5;241m=\u001b[39m \u001b[43mproject_client\u001b[49m\u001b[38;5;241;43m.\u001b[39;49m\u001b[43magents\u001b[49m\u001b[38;5;241;43m.\u001b[39;49m\u001b[43mcreate_and_process_run\u001b[49m\u001b[43m(\u001b[49m\u001b[43mthread_id\u001b[49m\u001b[38;5;241;43m=\u001b[39;49m\u001b[43mthread_id\u001b[49m\u001b[43m,\u001b[49m\u001b[43m \u001b[49m\u001b[43magent_id\u001b[49m\u001b[38;5;241;43m=\u001b[39;49m\u001b[43mAGENT_ID\u001b[49m\u001b[43m)\u001b[49m\n\u001b[1;32m     16\u001b[0m \u001b[38;5;28;01mif\u001b[39;00m run\u001b[38;5;241m.\u001b[39mstatus \u001b[38;5;241m==\u001b[39m \u001b[38;5;124m\"\u001b[39m\u001b[38;5;124mfailed\u001b[39m\u001b[38;5;124m\"\u001b[39m:\n\u001b[1;32m     17\u001b[0m     \u001b[38;5;28mprint\u001b[39m(\u001b[38;5;124mf\u001b[39m\u001b[38;5;124m\"\u001b[39m\u001b[38;5;124mRun failed: \u001b[39m\u001b[38;5;132;01m{\u001b[39;00mrun\u001b[38;5;241m.\u001b[39mlast_error\u001b[38;5;132;01m}\u001b[39;00m\u001b[38;5;124m\"\u001b[39m)\n",
      "File \u001b[0;32m~/.python/current/lib/python3.12/site-packages/azure/core/tracing/decorator.py:105\u001b[0m, in \u001b[0;36mdistributed_trace.<locals>.decorator.<locals>.wrapper_use_tracer\u001b[0;34m(*args, **kwargs)\u001b[0m\n\u001b[1;32m    103\u001b[0m span_impl_type \u001b[38;5;241m=\u001b[39m settings\u001b[38;5;241m.\u001b[39mtracing_implementation()\n\u001b[1;32m    104\u001b[0m \u001b[38;5;28;01mif\u001b[39;00m span_impl_type \u001b[38;5;129;01mis\u001b[39;00m \u001b[38;5;28;01mNone\u001b[39;00m:\n\u001b[0;32m--> 105\u001b[0m     \u001b[38;5;28;01mreturn\u001b[39;00m \u001b[43mfunc\u001b[49m\u001b[43m(\u001b[49m\u001b[38;5;241;43m*\u001b[39;49m\u001b[43margs\u001b[49m\u001b[43m,\u001b[49m\u001b[43m \u001b[49m\u001b[38;5;241;43m*\u001b[39;49m\u001b[38;5;241;43m*\u001b[39;49m\u001b[43mkwargs\u001b[49m\u001b[43m)\u001b[49m\n\u001b[1;32m    107\u001b[0m \u001b[38;5;66;03m# Merge span is parameter is set, but only if no explicit parent are passed\u001b[39;00m\n\u001b[1;32m    108\u001b[0m \u001b[38;5;28;01mif\u001b[39;00m merge_span \u001b[38;5;129;01mand\u001b[39;00m \u001b[38;5;129;01mnot\u001b[39;00m passed_in_parent:\n",
      "File \u001b[0;32m~/.python/current/lib/python3.12/site-packages/azure/ai/projects/operations/_patch.py:1830\u001b[0m, in \u001b[0;36mAgentsOperations.create_and_process_run\u001b[0;34m(self, thread_id, agent_id, include, model, instructions, additional_instructions, additional_messages, toolset, temperature, top_p, max_prompt_tokens, max_completion_tokens, truncation_strategy, tool_choice, response_format, parallel_tool_calls, metadata, sleep_interval, **kwargs)\u001b[0m\n\u001b[1;32m   1828\u001b[0m     tool_outputs \u001b[38;5;241m=\u001b[39m toolset\u001b[38;5;241m.\u001b[39mexecute_tool_calls(tool_calls)\n\u001b[1;32m   1829\u001b[0m \u001b[38;5;28;01melse\u001b[39;00m:\n\u001b[0;32m-> 1830\u001b[0m     \u001b[38;5;28;01mraise\u001b[39;00m \u001b[38;5;167;01mValueError\u001b[39;00m(\u001b[38;5;124m\"\u001b[39m\u001b[38;5;124mToolset is not available in the client.\u001b[39m\u001b[38;5;124m\"\u001b[39m)\n\u001b[1;32m   1832\u001b[0m logging\u001b[38;5;241m.\u001b[39minfo(\u001b[38;5;124m\"\u001b[39m\u001b[38;5;124mTool outputs: \u001b[39m\u001b[38;5;132;01m%s\u001b[39;00m\u001b[38;5;124m\"\u001b[39m, tool_outputs)\n\u001b[1;32m   1833\u001b[0m \u001b[38;5;28;01mif\u001b[39;00m tool_outputs:\n",
      "\u001b[0;31mValueError\u001b[0m: Toolset is not available in the client."
     ]
    }
   ],
   "source": [
    "user_input = \"What restaurants can you recommend in tokyo\"\n",
    "agent_response = run_agent(user_input, project_client, thread.id)\n",
    "print(agent_response)"
   ]
  },
  {
   "cell_type": "code",
   "execution_count": 50,
   "id": "30f0cb43",
   "metadata": {},
   "outputs": [
    {
     "name": "stdout",
     "output_type": "stream",
     "text": [
      "Created agent, ID: asst_RidmabHRlMdtpVlPj7ch2LKM\n"
     ]
    }
   ],
   "source": [
    "connection_string = os.environ[\"PROJECT_CONNECTION_STRING\"] \n",
    "\n",
    "project_client = AIProjectClient.from_connection_string(\n",
    "    credential=DefaultAzureCredential(),\n",
    "    conn_str=connection_string,\n",
    ")\n",
    "\n",
    "# Initialize agent toolset with user functions\n",
    "functions = FunctionTool(user_functions)\n",
    "toolset = ToolSet()\n",
    "toolset.add(functions)\n",
    "    \n",
    "# Create a new agent with the toolset\n",
    "agent = project_client.agents.create_agent(\n",
    "    model=\"gpt-4o\", \n",
    "    name=\"my-chainlit-agent\", \n",
    "    instructions=\"\"\"\n",
    "        You are an AI Travel Agent. \n",
    "        You will answer questions about travel based on the tools provided.\n",
    "        When asked questions about products, you will use the Azure AI Search tool to find relevant products.\n",
    "    \"\"\"\n",
    "    )\n",
    "\n",
    "print(f\"Created agent, ID: {agent.id}\")"
   ]
  },
  {
   "cell_type": "code",
   "execution_count": 55,
   "id": "14e49574",
   "metadata": {},
   "outputs": [
    {
     "name": "stdout",
     "output_type": "stream",
     "text": [
      "Created thread, ID: thread_Ux7VIkwYjiWbU2j6hHodopJ9\n",
      "asst_RidmabHRlMdtpVlPj7ch2LKM\n",
      "Created message, ID: msg_npNarrZgER3ywQbncAgIM2LZ\n",
      "Agent Response: The capital of Japan is **Tokyo**.\n"
     ]
    },
    {
     "data": {
      "text/plain": [
       "{'id': 'msg_40EkOCSA5IBkpDcbzBaTnGEs', 'object': 'thread.message', 'created_at': 1744994292, 'assistant_id': 'asst_RidmabHRlMdtpVlPj7ch2LKM', 'thread_id': 'thread_Ux7VIkwYjiWbU2j6hHodopJ9', 'run_id': 'run_bsDSGWt7rYt7Crk9kQLbsD63', 'role': 'assistant', 'content': [{'type': 'text', 'text': {'value': 'The capital of Japan is **Tokyo**.', 'annotations': []}}], 'attachments': [], 'metadata': {}}"
      ]
     },
     "execution_count": 55,
     "metadata": {},
     "output_type": "execute_result"
    }
   ],
   "source": [
    "connection_string = os.environ[\"PROJECT_CONNECTION_STRING\"] \n",
    "project_client = AIProjectClient.from_connection_string(\n",
    "    credential=DefaultAzureCredential(),\n",
    "    conn_str=connection_string,\n",
    ")\n",
    "AGENT_ID = \"asst_RidmabHRlMdtpVlPj7ch2LKM\"\n",
    "\n",
    "# Create thread\n",
    "thread = project_client.agents.create_thread()\n",
    "print(f\"Created thread, ID: {thread.id}\")\n",
    "\n",
    "user_input = \"What is the capital of Japan?\"\n",
    "run_agent(user_input, project_client, thread.id)"
   ]
  }
 ],
 "metadata": {
  "kernelspec": {
   "display_name": "Python 3",
   "language": "python",
   "name": "python3"
  },
  "language_info": {
   "codemirror_mode": {
    "name": "ipython",
    "version": 3
   },
   "file_extension": ".py",
   "mimetype": "text/x-python",
   "name": "python",
   "nbconvert_exporter": "python",
   "pygments_lexer": "ipython3",
   "version": "3.12.1"
  }
 },
 "nbformat": 4,
 "nbformat_minor": 5
}
