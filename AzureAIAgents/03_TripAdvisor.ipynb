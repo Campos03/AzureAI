{
 "cells": [
  {
   "cell_type": "markdown",
   "id": "6d6f5530",
   "metadata": {},
   "source": [
    "# Azure AI Agent Service with OpenAPI Specified Tools"
   ]
  },
  {
   "cell_type": "markdown",
   "id": "5f0a516d",
   "metadata": {},
   "source": [
    "## Verify that your TripAdvisor API works "
   ]
  },
  {
   "cell_type": "code",
   "execution_count": 4,
   "id": "33bec6ed",
   "metadata": {},
   "outputs": [
    {
     "name": "stdout",
     "output_type": "stream",
     "text": [
      "{'data': [{'location_id': '60763', 'name': 'New York City', 'address_obj': {'state': 'New York', 'country': 'United States', 'address_string': 'New York City, NY'}}, {'location_id': '91904', 'name': 'New York - New York Hotel & Casino', 'address_obj': {'street1': '3790 S Las Vegas Blvd', 'city': 'Las Vegas', 'state': 'Nevada', 'country': 'United States', 'postalcode': '89109-4338', 'address_string': '3790 S Las Vegas Blvd, Las Vegas, NV 89109-4338'}}, {'location_id': '112064', 'name': 'Warwick New York', 'address_obj': {'street1': '65 W 54th St', 'street2': '', 'city': 'New York City', 'state': 'New York', 'country': 'United States', 'postalcode': '10019', 'address_string': '65 W 54th St, New York City, NY 10019'}}, {'location_id': '28953', 'name': 'New York', 'address_obj': {'country': 'United States', 'address_string': 'NY'}}, {'location_id': '970327', 'name': 'New York Cafe', 'address_obj': {'street1': 'Erzsebet Korut 9-11', 'street2': 'Anantara New York Palace Budapest Hotel', 'city': 'Budapest', 'country': 'Hungary', 'postalcode': '1073', 'address_string': 'Erzsebet Korut 9-11 Anantara New York Palace Budapest Hotel, Budapest 1073 Hungary'}}, {'location_id': '11455174', 'name': 'New York in One Day Guided Sightseeing Tour', 'address_obj': {'city': 'New York City', 'state': 'New York', 'country': 'United States', 'address_string': 'New York City, NY'}}, {'location_id': '126260', 'name': 'Lotte New York Palace', 'address_obj': {'street1': '455 Madison Avenue', 'city': 'New York City', 'state': 'New York', 'country': 'United States', 'postalcode': '10022', 'address_string': '455 Madison Avenue, New York City, NY 10022'}}, {'location_id': '208454', 'name': 'Sofitel New York', 'address_obj': {'street1': '45 West 44th Street', 'street2': '', 'city': 'New York City', 'state': 'New York', 'country': 'United States', 'postalcode': '10036', 'address_string': '45 West 44th Street, New York City, NY 10036'}}, {'location_id': '611947', 'name': 'New York Hilton Midtown', 'address_obj': {'street1': '1335 Avenue Of The Americas', 'street2': 'The Waterfall Plaza', 'city': 'New York City', 'state': 'New York', 'country': 'United States', 'postalcode': '10019-6078', 'address_string': '1335 Avenue Of The Americas The Waterfall Plaza, New York City, NY 10019-6078'}}, {'location_id': '93618', 'name': 'Waldorf Astoria New York', 'address_obj': {'street1': '301 Park Avenue', 'street2': '', 'city': 'New York City', 'state': 'New York', 'country': 'United States', 'postalcode': '10022', 'address_string': '301 Park Avenue, New York City, NY 10022'}}]}\n"
     ]
    }
   ],
   "source": [
    "import requests\n",
    "\n",
    "url = \"https://api.content.tripadvisor.com/api/v1/location/search\"\n",
    "params = {\n",
    "    \"key\": \"6FA816730D164E0BB2CEF1DBE823D4E1\",\n",
    "    \"searchQuery\": \"new york\",\n",
    "    \"language\": \"en\"\n",
    "}\n",
    "headers = {\n",
    "    \"accept\": \"application/json\"\n",
    "}\n",
    "\n",
    "response = requests.get(url, headers=headers, params=params)\n",
    "\n",
    "if response.status_code == 200:\n",
    "    print(response.json())  # Print the JSON response\n",
    "else:\n",
    "    print(f\"Error: {response.status_code}, {response.text}\")"
   ]
  },
  {
   "cell_type": "markdown",
   "id": "c0cca742",
   "metadata": {},
   "source": [
    "## Step 1: Create a project client"
   ]
  },
  {
   "cell_type": "code",
   "execution_count": 15,
   "id": "f83e6dc5",
   "metadata": {},
   "outputs": [],
   "source": [
    "import os\n",
    "import jsonref\n",
    "from azure.ai.projects import AIProjectClient\n",
    "from azure.identity import DefaultAzureCredential\n",
    "from azure.ai.projects.models import OpenApiTool, OpenApiConnectionAuthDetails, OpenApiConnectionSecurityScheme\n",
    "\n",
    "\n",
    "# Create an Azure AI Client from a connection string, copied from your Azure AI Foundry project.\n",
    "# At the moment, it should be in the format \"<HostName>;<AzureSubscriptionId>;<ResourceGroup>;<HubName>\"\n",
    "# Customer needs to login to Azure subscription via Azure CLI and set the environment variables\n",
    "\n",
    "project_client = AIProjectClient.from_connection_string(\n",
    "    credential=DefaultAzureCredential(),\n",
    "    conn_str=os.environ[\"PROJECT_CONNECTION_STRING\"],\n",
    ")"
   ]
  },
  {
   "cell_type": "markdown",
   "id": "7d7fbe2a",
   "metadata": {},
   "source": [
    "## Step 2: Create the OpenAPI Spec tool definition"
   ]
  },
  {
   "cell_type": "code",
   "execution_count": 16,
   "id": "653d8795",
   "metadata": {},
   "outputs": [
    {
     "name": "stdout",
     "output_type": "stream",
     "text": [
      "/subscriptions/f08cda90-375b-4b3e-a105-4656379a94ab/resourceGroups/rg-Ziggy-ai-agent-001/providers/Microsoft.MachineLearningServices/workspaces/ziggy-ai-agent-project-001/connections/tripadvisor\n"
     ]
    }
   ],
   "source": [
    "with open('./tripadvisor_openapi.json', 'r') as f:\n",
    "    openapi_spec = jsonref.loads(f.read())\n",
    "\n",
    "tripadvisor_connection = project_client.connections.get(\n",
    "    connection_name=\"tripadvisor\"\n",
    ")\n",
    "conn_id = tripadvisor_connection.id\n",
    "print(conn_id)\n",
    "\n",
    "auth = OpenApiConnectionAuthDetails(security_scheme=OpenApiConnectionSecurityScheme(connection_id=conn_id))\n",
    "\n",
    "openapi = OpenApiTool(name=\"tripadvisor\", spec=openapi_spec, description=\"get hotel and restaurant reviews of a location\", auth=auth)"
   ]
  },
  {
   "cell_type": "markdown",
   "id": "bc6e8fe5",
   "metadata": {},
   "source": [
    "## Step 3: Create an agent and a thread"
   ]
  },
  {
   "cell_type": "code",
   "execution_count": 19,
   "id": "5f2ce530",
   "metadata": {},
   "outputs": [
    {
     "name": "stdout",
     "output_type": "stream",
     "text": [
      "Created agent, ID: asst_mCpIodil137tCbOWdxA8VoL1\n",
      "Created thread, ID: thread_OtzEr5yDInILfXkqavZWifrw\n"
     ]
    }
   ],
   "source": [
    "# Create agent with OpenAPI tool and process assistant run\n",
    "agent = project_client.agents.create_agent(\n",
    "    model=\"gpt-4o\",\n",
    "    name=\"my-tripadvisor-assistant\",\n",
    "    instructions=\"You are a helpful assistant that will information using the tools provided to you.\",\n",
    "    tools=openapi.definitions\n",
    ")\n",
    "print(f\"Created agent, ID: {agent.id}\")\n",
    "\n",
    "# Create thread for communication\n",
    "thread = project_client.agents.create_thread()\n",
    "print(f\"Created thread, ID: {thread.id}\")"
   ]
  },
  {
   "cell_type": "markdown",
   "id": "8380313f",
   "metadata": {},
   "source": [
    "## Helper Function\n",
    "- Add a message to the thread\n",
    "- Run the Agent\n",
    "- Check the Run Status\n",
    "- Display the Agent's Response\n"
   ]
  },
  {
   "cell_type": "code",
   "execution_count": 20,
   "id": "cf2fbaa9",
   "metadata": {},
   "outputs": [],
   "source": [
    "def run_agent(user_input):  \n",
    "    # Step 4: Add a message to the thread  \n",
    "    message = project_client.agents.create_message(\n",
    "        thread_id=thread.id,\n",
    "        role=\"user\",\n",
    "        content=user_input,\n",
    "    )\n",
    "    print(f\"Created message, ID: {message.id}\")\n",
    "\n",
    "    # Step 5 & 6: Create and process agent run in thread with tools\n",
    "    run = project_client.agents.create_and_process_run(thread_id=thread.id, agent_id=agent.id)\n",
    "\n",
    "    if run.status == \"failed\":\n",
    "        print(f\"Run failed: {run.last_error}\")\n",
    "\n",
    "    # Step 7: Display the Agent's Response\n",
    "    elif run.status == 'completed':\n",
    "            # Fetch all messages in the thread\n",
    "            messages = project_client.agents.list_messages(thread_id=thread.id)\n",
    "            if messages.data:\n",
    "                agent_message = messages.data[0]  # Get the last assistant message\n",
    "                print(f\"Agent Response: {agent_message.content[0].text.value}\") \n",
    "            else:\n",
    "                print(\"No messages found.\")"
   ]
  },
  {
   "cell_type": "markdown",
   "id": "3f1e106e",
   "metadata": {},
   "source": [
    "## Running the agent using the Helper Function"
   ]
  },
  {
   "cell_type": "code",
   "execution_count": 21,
   "id": "277a69ce",
   "metadata": {},
   "outputs": [
    {
     "name": "stdout",
     "output_type": "stream",
     "text": [
      "Created message, ID: msg_nJjNrKBGAYiBHjsGu9qE1YGy\n",
      "Agent Response: I encountered an error trying to retrieve the information about La Grande Boucherie's location. Can you provide more details or clarify further to refine the search?\n"
     ]
    }
   ],
   "source": [
    "user_input = \"Where is the La Grande Boucherie located?\"\n",
    "run_agent(user_input)"
   ]
  },
  {
   "cell_type": "code",
   "execution_count": 22,
   "id": "8737b5a6",
   "metadata": {},
   "outputs": [
    {
     "name": "stdout",
     "output_type": "stream",
     "text": [
      "Created message, ID: msg_r8a7u5tgiV5PrNi2MkyEpq4H\n",
      "Agent Response: I encountered an issue retrieving reviews for La Grande Boucherie. Could you provide more details or specifics to help refine the search?\n"
     ]
    }
   ],
   "source": [
    "user_input = \"What is the review of the La Grande Boucherie?\"\n",
    "run_agent(user_input)"
   ]
  },
  {
   "cell_type": "markdown",
   "id": "6a1dc133",
   "metadata": {},
   "source": [
    "## Delete Agent to free up resources"
   ]
  },
  {
   "cell_type": "code",
   "execution_count": 23,
   "id": "35e89361",
   "metadata": {},
   "outputs": [
    {
     "name": "stdout",
     "output_type": "stream",
     "text": [
      "Deleted agent\n"
     ]
    }
   ],
   "source": [
    "# Delete the agent when done\n",
    "project_client.agents.delete_agent(agent.id)\n",
    "print(\"Deleted agent\")"
   ]
  }
 ],
 "metadata": {
  "kernelspec": {
   "display_name": "Python 3",
   "language": "python",
   "name": "python3"
  },
  "language_info": {
   "codemirror_mode": {
    "name": "ipython",
    "version": 3
   },
   "file_extension": ".py",
   "mimetype": "text/x-python",
   "name": "python",
   "nbconvert_exporter": "python",
   "pygments_lexer": "ipython3",
   "version": "3.12.1"
  }
 },
 "nbformat": 4,
 "nbformat_minor": 5
}
