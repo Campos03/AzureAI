{
 "cells": [
  {
   "cell_type": "markdown",
   "id": "6d6f5530",
   "metadata": {},
   "source": [
    "# Azure AI Agent Service with OpenAPI Specified Tools"
   ]
  },
  {
   "cell_type": "markdown",
   "id": "5f0a516d",
   "metadata": {},
   "source": [
    "## Verify that your TripAdvisor API works "
   ]
  },
  {
   "cell_type": "code",
   "execution_count": 1,
   "id": "33bec6ed",
   "metadata": {},
   "outputs": [
    {
     "name": "stdout",
     "output_type": "stream",
     "text": [
      "{'data': [{'location_id': '60763', 'name': 'New York City', 'address_obj': {'state': 'New York', 'country': 'United States', 'address_string': 'New York City, NY'}}, {'location_id': '91904', 'name': 'New York - New York Hotel & Casino', 'address_obj': {'street1': '3790 S Las Vegas Blvd', 'city': 'Las Vegas', 'state': 'Nevada', 'country': 'United States', 'postalcode': '89109-4338', 'address_string': '3790 S Las Vegas Blvd, Las Vegas, NV 89109-4338'}}, {'location_id': '112064', 'name': 'Warwick New York', 'address_obj': {'street1': '65 W 54th St', 'street2': '', 'city': 'New York City', 'state': 'New York', 'country': 'United States', 'postalcode': '10019', 'address_string': '65 W 54th St, New York City, NY 10019'}}, {'location_id': '28953', 'name': 'New York', 'address_obj': {'country': 'United States', 'address_string': 'NY'}}, {'location_id': '970327', 'name': 'New York Cafe', 'address_obj': {'street1': 'Erzsebet Korut 9-11', 'street2': 'Anantara New York Palace Budapest Hotel', 'city': 'Budapest', 'country': 'Hungary', 'postalcode': '1073', 'address_string': 'Erzsebet Korut 9-11 Anantara New York Palace Budapest Hotel, Budapest 1073 Hungary'}}, {'location_id': '11455174', 'name': 'New York in One Day Guided Sightseeing Tour', 'address_obj': {'city': 'New York City', 'state': 'New York', 'country': 'United States', 'address_string': 'New York City, NY'}}, {'location_id': '126260', 'name': 'Lotte New York Palace', 'address_obj': {'street1': '455 Madison Avenue', 'city': 'New York City', 'state': 'New York', 'country': 'United States', 'postalcode': '10022', 'address_string': '455 Madison Avenue, New York City, NY 10022'}}, {'location_id': '208454', 'name': 'Sofitel New York', 'address_obj': {'street1': '45 West 44th Street', 'street2': '', 'city': 'New York City', 'state': 'New York', 'country': 'United States', 'postalcode': '10036', 'address_string': '45 West 44th Street, New York City, NY 10036'}}, {'location_id': '611947', 'name': 'New York Hilton Midtown', 'address_obj': {'street1': '1335 Avenue Of The Americas', 'street2': 'The Waterfall Plaza', 'city': 'New York City', 'state': 'New York', 'country': 'United States', 'postalcode': '10019-6078', 'address_string': '1335 Avenue Of The Americas The Waterfall Plaza, New York City, NY 10019-6078'}}, {'location_id': '93618', 'name': 'Waldorf Astoria New York', 'address_obj': {'street1': '301 Park Avenue', 'street2': '', 'city': 'New York City', 'state': 'New York', 'country': 'United States', 'postalcode': '10022', 'address_string': '301 Park Avenue, New York City, NY 10022'}}]}\n"
     ]
    }
   ],
   "source": [
    "import requests, os\n",
    "\n",
    "url = \"https://api.content.tripadvisor.com/api/v1/location/search\"\n",
    "params = {\n",
    "    \"key\": os.environ[\"TRIPADVISOR_API_KEY\"],\n",
    "    \"searchQuery\": \"new york\",\n",
    "    \"language\": \"en\"\n",
    "}\n",
    "headers = {\n",
    "    \"accept\": \"application/json\"\n",
    "}\n",
    "\n",
    "response = requests.get(url, headers=headers, params=params)\n",
    "\n",
    "if response.status_code == 200:\n",
    "    print(response.json())  # Print the JSON response\n",
    "else:\n",
    "    print(f\"Error: {response.status_code}, {response.text}\")"
   ]
  },
  {
   "cell_type": "markdown",
   "id": "c0cca742",
   "metadata": {},
   "source": [
    "## Step 1: Create a project client"
   ]
  },
  {
   "cell_type": "code",
   "execution_count": 2,
   "id": "f83e6dc5",
   "metadata": {},
   "outputs": [],
   "source": [
    "import os\n",
    "import jsonref\n",
    "from azure.ai.projects import AIProjectClient\n",
    "from azure.identity import DefaultAzureCredential\n",
    "from azure.ai.projects.models import OpenApiTool, OpenApiConnectionAuthDetails, OpenApiConnectionSecurityScheme\n",
    "\n",
    "\n",
    "# Create an Azure AI Client from a connection string, copied from your Azure AI Foundry project.\n",
    "# At the moment, it should be in the format \"<HostName>;<AzureSubscriptionId>;<ResourceGroup>;<HubName>\"\n",
    "# Customer needs to login to Azure subscription via Azure CLI and set the environment variables\n",
    "\n",
    "project_client = AIProjectClient.from_connection_string(\n",
    "    credential=DefaultAzureCredential(),\n",
    "    conn_str=os.environ[\"PROJECT_CONNECTION_STRING\"],\n",
    ")"
   ]
  },
  {
   "cell_type": "markdown",
   "id": "7d7fbe2a",
   "metadata": {},
   "source": [
    "## Step 2: Create the OpenAPI Spec tool definition"
   ]
  },
  {
   "cell_type": "code",
   "execution_count": 3,
   "id": "653d8795",
   "metadata": {},
   "outputs": [
    {
     "name": "stdout",
     "output_type": "stream",
     "text": [
      "{'openapi': '3.0.1', 'servers': [{'url': 'https://api.content.tripadvisor.com/api'}], 'info': {'version': '1.0.0', 'title': 'Content API - TripAdvisor(Knowledge)', 'description': 'SSP includes Locations Details, Locations Photos, Locations Reviews, Location Search'}, 'paths': {'/v1/location/{locationId}/details': {'get': {'summary': 'Location Details', 'description': 'A Location Details request returns comprehensive information about a location (hotel, restaurant, or an attraction) such as name, address, rating, and URLs for the listing on Tripadvisor.', 'operationId': 'getLocationDetails', 'tags': ['Location Details'], 'parameters': [{'name': 'locationId', 'in': 'path', 'description': 'A unique identifier for a location on Tripadvisor. The location ID can be obtained using the Location Search.', 'required': True, 'schema': {'type': 'integer', 'format': 'int32'}}, {'name': 'language', 'in': 'query', 'description': 'The language in which to return results (e.g. \"en\" for English or \"es\" for Spanish) from the list of our Supported Languages.', 'required': False, 'schema': {'default': 'en', 'type': 'string', 'enum': ['ar', 'zh', 'zh_TW', 'da', 'nl', 'en_AU', 'en_CA', 'en_HK', 'en_IN', 'en_IE', 'en_MY', 'en_NZ', 'en_PH', 'en_SG', 'en_ZA', 'en_UK', 'en', 'fr', 'fr_BE', 'fr_CA', 'fr_CH', 'de_AT', 'de', 'el', 'iw', 'in', 'it', 'it_CH', 'ja', 'ko', 'no', 'pt_PT', 'pt', 'ru', 'es_AR', 'es_CO', 'es_MX', 'es_PE', 'es', 'es_VE', 'es_CL', 'sv', 'th', 'tr', 'vi']}}, {'name': 'currency', 'in': 'query', 'description': 'The currency code to use for request and response (should follow ISO 4217).', 'required': False, 'schema': {'type': 'string', 'default': 'USD'}}], 'responses': {'200': {'description': 'Details for the location', 'content': {'application/json': {'schema': {'type': 'object', 'properties': {'location_id': {'description': 'Unique Tripadvisor location ID of the destination or POI', 'type': 'integer', 'format': 'int32'}, 'name': {'description': 'Name of the POI as listed on Tripadvisor', 'type': 'string'}, 'description': {'description': 'Description of the POI as listed on Tripadvisor', 'type': 'string'}, 'web_url': {'description': 'Link to the POI detail page on Tripadvisor. Link is localized to the correct domain if a language other than English is requested.', 'type': 'string'}, 'address_obj': {'description': 'Object containing address data for this location', 'type': 'object', 'properties': {'street1': {'type': 'string', 'description': 'The street name'}, 'street2': {'type': 'string', 'description': 'The street name continuation'}, 'city': {'type': 'string', 'description': 'The city name'}, 'state': {'type': 'string', 'description': 'The state'}, 'country': {'type': 'string', 'description': 'The country'}, 'postalcode': {'type': 'string', 'description': 'The address postal code'}, 'address_string': {'type': 'string', 'description': 'The address in one single sentence'}}}, 'ancestors': {'description': 'Ancestors describe where the POI or destination lives within the Tripadvisor destination or geo hierarchy.From this, you can derive the city where a POI is located, as well as state/province/region and country.', 'type': 'array', 'items': {'type': 'object', 'properties': {'abbrv': {'description': 'The ancestor location abbreviation', 'type': 'string'}, 'level': {'description': 'The ancestor location level in relation to the location', 'type': 'string'}, 'name': {'description': 'The ancestor location name', 'type': 'string'}, 'location_id': {'description': 'The ancestor location location identifier', 'type': 'integer', 'format': 'int32'}}}}, 'latitude': {'description': 'The latitude of this location in degrees, if available', 'type': 'number'}, 'longitude': {'description': 'The longitude of this location in degrees, if available', 'type': 'number'}, 'timezone': {'description': 'The timezone of the location', 'type': 'string'}, 'email': {'description': 'The email of the location, if available', 'type': 'string'}, 'phone': {'description': 'The phone number of the location, if available', 'type': 'string'}, 'website': {'description': 'The website of the location, if available', 'type': 'string'}, 'write_review': {'description': 'Link to the review form for this specific POI on Tripadvisor. Link is localized to the correct domain if a language other than English is requested.', 'type': 'string'}, 'ranking_data': {'description': \"Describes a POI's Popularity Index ranking on Tripadvisor, which compares places of interest (accomodations, restaurants, and attractions) within the same destination based on their popularity.This is measured by the quality, quantity, and recency of their review content on Tripadvisor.\", 'type': 'object', 'properties': {'geo_location_id': {'description': 'The destination id', 'type': 'integer', 'format': 'int32'}, 'ranking_string': {'description': 'The description of the ranking', 'type': 'string'}, 'geo_location_name': {'description': 'The destination name', 'type': 'string'}, 'ranking_out_of': {'description': 'The total number of locations on the ranking score', 'type': 'integer', 'format': 'int32'}, 'ranking': {'description': 'The location ranking', 'type': 'integer', 'format': 'int32'}}}, 'rating': {'description': 'Overall rating for this POI. Not applicable to geographic locations. Rating levels are defined as follows:5: Excellent4: Very good3: Average2: Poor1: Terrible', 'type': 'number'}, 'rating_image_url': {'description': 'URL to the bubble rating image for this location. Overall Bubble Ratings must be displayed using the Tripadvisor bubble rating image with the owl icon.', 'type': 'string'}, 'num_reviews': {'description': 'Count of total reviews published for this location', 'type': 'string'}, 'review_rating_count': {'description': 'Count of reviews for this location at each traveler rating level (1,2,3,4,5)', 'type': 'object', 'additionalProperties': {'type': 'string'}}, 'subratings': {'type': 'object', 'additionalProperties': {'allOf': [{'type': 'object', 'properties': {'name': {'type': 'string'}, 'localized_name': {'type': 'string'}}}, {'type': 'object', 'properties': {'rating_image_url': {'type': 'string'}, 'value': {'type': 'number', 'format': 'float'}}}]}}, 'photo_count': {'description': 'The count of photos for this POI published on Tripadvisor', 'type': 'integer', 'format': 'int32'}, 'see_all_photos': {'description': 'Link to open all photos posted for this POI in a photo viewer on Tripadvisor. Link is localized to the correct domain if a language other than English is requested.', 'type': 'string'}, 'price_level': {'description': 'The relative price level for the POI. Not available for all POIs. This string is localized to other currency symbols (e.g. ££££ or €€€€) if a language other than English (en_US) is requested or if a specific currency is selected.', 'type': 'string'}, 'hours': {'description': 'Provides localized opening hours for Restaurants and Attractions, using ISO 8601 format', 'type': 'object', 'properties': {'periods': {'type': 'array', 'items': {'type': 'object', 'properties': {'open': {'description': 'The day and times intervals in which the location is open', 'type': 'object', 'properties': {'day': {'type': 'integer', 'format': 'int32'}, 'time': {'type': 'string'}}}, 'close': {'description': 'The day and times intervals in which the location is closed', 'type': 'object', 'properties': {'day': {'type': 'integer', 'format': 'int32'}, 'time': {'type': 'string'}}}}}}, 'weekday_text': {'type': 'array', 'items': {'type': 'string'}}}}, 'amenities': {'description': 'The amenities provided by this hotel', 'type': 'array', 'items': {'type': 'string'}}, 'features': {'description': 'The features provided by this restaurant', 'type': 'array', 'items': {'type': 'string'}}, 'cuisine': {'description': 'The cuisines of this restaurant', 'type': 'array', 'items': {'type': 'object', 'properties': {'name': {'type': 'string'}, 'localized_name': {'type': 'string'}}}}, 'parent_brand': {'description': 'The parent brand of this hotel', 'type': 'string'}, 'brand': {'description': 'The brand of this hotel', 'type': 'string'}, 'category': {'description': 'Each POI on Tripadvisor is classified under a \"category\" and \"subcategory\", which is included in the API response.', 'type': 'object', 'properties': {'name': {'type': 'string'}, 'localized_name': {'type': 'string'}}}, 'subcategory': {'description': 'Listings that are accommodations/hotels or restaurants are assigned a single subcategory.Deprecated as of February 2017 for Attractions. Refer to the \"groups\" object for the most up to date classifications.', 'type': 'array', 'items': {'type': 'object', 'properties': {'name': {'type': 'string'}, 'localized_name': {'type': 'string'}}}}, 'groups': {'description': 'Hierarchical display of Attraction Groups and Categories. These fields are only applicable for location type \"attraction\".', 'type': 'array', 'items': {'allOf': [{'type': 'object', 'properties': {'name': {'type': 'string'}, 'localized_name': {'type': 'string'}}}, {'type': 'object', 'properties': {'categories': {'description': 'Attraction Categories', 'type': 'array', 'items': {'type': 'object', 'properties': {'name': {'type': 'string'}, 'localized_name': {'type': 'string'}}}}}}]}}, 'styles': {'description': 'The styles of the hotel', 'type': 'array', 'items': {'type': 'string'}}, 'neighborhood_info': {'description': 'List of neighborhoods close to the location', 'type': 'array', 'items': {'type': 'object', 'properties': {'location_id': {'type': 'string'}, 'name': {'type': 'string'}}}}, 'trip_types': {'description': 'Each review submitted on Tripadvisor is tagged with a trip type, as designated by the reviewer.For each POI location, a breakdown of the total review count by trip type is included in the \"trip_types\" object.', 'type': 'array', 'items': {'allOf': [{'type': 'object', 'properties': {'name': {'type': 'string'}, 'localized_name': {'type': 'string'}}}, {'type': 'object', 'properties': {'value': {'type': 'string'}}}]}}, 'awards': {'description': \"Returns a list of all of the awards for this location, which could include Certificate of Excellence, Travelers' Choice, and Green Leader.For each award, a small and large image will be returned as well.\", 'type': 'array', 'items': {'type': 'object', 'properties': {'award_type': {'description': 'Award type name', 'type': 'string'}, 'year': {'description': 'The year in which the award was awarded', 'type': 'integer', 'format': 'int32'}, 'images': {'description': 'The award image in its different sizes', 'type': 'object', 'properties': {'tiny': {'type': 'string'}, 'small': {'type': 'string'}, 'large': {'type': 'string'}}}, 'categories': {'description': 'The categories in which the award was awarded', 'type': 'array', 'items': {'type': 'string'}}, 'display_name': {'type': 'string'}}}}, 'error': {'type': 'object', 'properties': {'message': {'type': 'string'}, 'type': {'type': 'string'}, 'code': {'type': 'integer', 'format': 'int32'}}}}}}}}}, 'security': [{'cosoLocationApiLambdaAuthorizer': []}]}}, '/v1/location/{locationId}/photos': {'get': {'summary': 'Location Photos', 'description': 'The Location Photos request returns up to 5 high-quality photos for a specific location. Please note that the limits are different for the beta subscribers. You need to upgrade to get the higher limits mentioned here.The photos are ordered by recency.Sizes (height x width) for each photo type are as follows:Thumbnail: Fixed 50x50px, cropped, resized, and optimized by TripadvisorSmall: Fixed 150x150px, cropped, resized, and optimized by TripadvisorMedium: Max dimension 250px (can be height or width, depending on photo orientation), the other dimension is resized to maintain the aspect ratioLarge: Max dimension 550px (same rules as Medium, resized to maintain aspect ratio)Original: This is the photo in its original resolution and aspect ratio as provided by the user who submitted it.', 'operationId': 'getLocationPhotos', 'tags': ['Location Photos'], 'parameters': [{'name': 'locationId', 'in': 'path', 'description': 'A unique identifier for a location on Tripadvisor. The location ID can be obtained using the Location Search.', 'required': True, 'schema': {'type': 'integer', 'format': 'int32'}}, {'name': 'language', 'in': 'query', 'description': 'The language in which to return results (e.g. \"en\" for English or \"es\" for Spanish) from the list of our Supported Languages.', 'required': False, 'schema': {'default': 'en', 'type': 'string', 'enum': ['ar', 'zh', 'zh_TW', 'da', 'nl', 'en_AU', 'en_CA', 'en_HK', 'en_IN', 'en_IE', 'en_MY', 'en_NZ', 'en_PH', 'en_SG', 'en_ZA', 'en_UK', 'en', 'fr', 'fr_BE', 'fr_CA', 'fr_CH', 'de_AT', 'de', 'el', 'iw', 'in', 'it', 'it_CH', 'ja', 'ko', 'no', 'pt_PT', 'pt', 'ru', 'es_AR', 'es_CO', 'es_MX', 'es_PE', 'es', 'es_VE', 'es_CL', 'sv', 'th', 'tr', 'vi']}}, {'name': 'limit', 'in': 'query', 'description': 'The number of results to return', 'required': False, 'schema': {'type': 'number', 'format': 'int32'}}, {'name': 'offset', 'in': 'query', 'description': 'The index of the first result', 'required': False, 'schema': {'type': 'number', 'format': 'int32'}}, {'name': 'source', 'in': 'query', 'description': \"A comma-separated list of allowed photo sources. Allowed values are 'Expert', 'Management', 'Traveler'. If not specified, allow photos from all sources.\", 'required': False, 'schema': {'type': 'string'}}], 'responses': {'200': {'description': 'Details for the location', 'content': {'application/json': {'schema': {'type': 'object', 'properties': {'data': {'type': 'array', 'items': {'type': 'object', 'properties': {'id': {'description': 'A unique ID for this photo', 'type': 'integer', 'format': 'int32'}, 'is_blessed': {'description': 'Boolean whether or not this photo is blessed, i.e. reviewed at Tripadvisor as being a photo of exceptional quality', 'type': 'boolean'}, 'album': {'description': 'Name of the album the photo is featured in', 'type': 'string'}, 'caption': {'description': 'Caption of the photo', 'type': 'string'}, 'published_date': {'description': 'Date when this photo was published to Tripadvisor', 'type': 'string'}, 'images': {'description': 'Links to the photo in various sizes, along with the dimensions in pixels of each size', 'type': 'object', 'additionalProperties': {'type': 'object', 'properties': {'width': {'type': 'number'}, 'url': {'type': 'string'}, 'height': {'type': 'number'}}}}, 'source': {'description': 'Origin of the photo (Traveler, Expert, Management)', 'type': 'object', 'properties': {'name': {'type': 'string'}, 'localized_name': {'type': 'string'}}}, 'user': {'type': 'object', 'properties': {'username': {'description': 'The username that appears on the Tripadvisor website for the user', 'type': 'string'}, 'user_location': {'type': 'object', 'properties': {'name': {'description': \"The name of the user's location\", 'type': 'string'}, 'id': {'description': \"The location ID of the user's location\", 'type': 'string'}}}, 'review_count': {'description': 'The Review Count that appears on the Tripadvisor website for the user', 'type': 'integer', 'format': 'int32'}, 'reviewer_badge': {'description': 'The Reviewer Badge that appears on the Tripadvisor website for the user', 'type': 'string'}, 'avatar': {'type': 'object', 'additionalProperties': {'type': 'string'}}}}}}}, 'paging': {'type': 'object', 'properties': {'next': {'type': 'string'}, 'previous': {'type': 'string'}, 'results': {'type': 'integer', 'format': 'int32'}, 'total_results': {'type': 'integer', 'format': 'int32'}, 'skipped': {'type': 'integer', 'format': 'int32'}}}, 'error': {'type': 'object', 'properties': {'message': {'type': 'string'}, 'type': {'type': 'string'}, 'code': {'type': 'integer', 'format': 'int32'}}}}}}}}}, 'security': [{'cosoLocationApiLambdaAuthorizer': []}]}}, '/v1/location/{locationId}/reviews': {'get': {'summary': 'Location Reviews', 'description': 'The Location Reviews request returns up to 5 of the most recent reviews for a specific location. Please note that the limits are different for the beta subscribers. You need to upgrade to get the higher limits mentioned here.', 'operationId': 'getLocationReviews', 'tags': ['Location Reviews'], 'parameters': [{'name': 'locationId', 'in': 'path', 'description': 'A unique identifier for a location on Tripadvisor. The location ID can be obtained using the Location Search.', 'required': True, 'schema': {'type': 'integer', 'format': 'int32'}}, {'name': 'language', 'in': 'query', 'description': 'The language in which to return results (e.g. \"en\" for English or \"es\" for Spanish) from the list of our Supported Languages.', 'required': False, 'schema': {'default': 'en', 'type': 'string', 'enum': ['ar', 'zh', 'zh_TW', 'da', 'nl', 'en_AU', 'en_CA', 'en_HK', 'en_IN', 'en_IE', 'en_MY', 'en_NZ', 'en_PH', 'en_SG', 'en_ZA', 'en_UK', 'en', 'fr', 'fr_BE', 'fr_CA', 'fr_CH', 'de_AT', 'de', 'el', 'iw', 'in', 'it', 'it_CH', 'ja', 'ko', 'no', 'pt_PT', 'pt', 'ru', 'es_AR', 'es_CO', 'es_MX', 'es_PE', 'es', 'es_VE', 'es_CL', 'sv', 'th', 'tr', 'vi']}}, {'name': 'limit', 'in': 'query', 'description': 'The number of results to return', 'required': False, 'schema': {'type': 'number', 'format': 'int32'}}, {'name': 'offset', 'in': 'query', 'description': 'The index of the first result', 'required': False, 'schema': {'type': 'number', 'format': 'int32'}}], 'responses': {'200': {'description': 'Details for the location', 'content': {'application/json': {'schema': {'type': 'object', 'properties': {'data': {'type': 'array', 'items': {'type': 'object', 'properties': {'id': {'description': 'The Tripadvisor ID for the review.', 'type': 'integer', 'format': 'int32'}, 'lang': {'description': 'The language of the review.', 'type': 'string'}, 'location_id': {'description': 'Unique Tripadvisor location ID of the destination or POI.', 'type': 'integer', 'format': 'int32'}, 'published_date': {'description': 'The date the review was published to Tripadvisor.', 'type': 'string'}, 'rating': {'description': 'Overall rating for this POI. Not applicable to geographic locations. Rating levels are defined as follows:5: Excellent4: Very good3: Average2: Poor1: Terrible', 'type': 'integer', 'format': 'int32'}, 'helpful_votes': {'description': 'The number of helpful votes', 'type': 'integer', 'format': 'int32'}, 'rating_image_url': {'description': 'The URL to the bubble rating image for this location.', 'type': 'string'}, 'url': {'description': 'The URL to the review', 'type': 'string'}, 'trip_type': {'description': 'The Trip type of the review (Business, Couples, Family, Friends, Solo).', 'type': 'string'}, 'travel_date': {'description': 'The travel date of the review', 'type': 'string'}, 'text': {'description': 'The full text of the review.', 'type': 'string'}, 'title': {'description': 'The title of this review.', 'type': 'string'}, 'owner_response': {'description': 'The Management Response to this review, if one exists.', 'type': 'object', 'properties': {'id': {'description': 'The Tripadvisor ID for the owner respose.', 'type': 'integer', 'format': 'int32'}, 'lang': {'description': 'The language of the review.', 'type': 'string'}, 'text': {'description': 'The full text of the review.', 'type': 'string'}, 'title': {'description': 'The title of this review.', 'type': 'string'}, 'author': {'description': 'The owners name.', 'type': 'string'}, 'published_date': {'description': 'The date the review response was published to Tripadvisor.', 'type': 'string'}}}, 'is_machine_translated': {'description': 'True or false depending on whether this is a machine-translated review. (Outputs only if partner configured for inclusion of machine-translated reviews)', 'type': 'boolean'}, 'user': {'type': 'object', 'properties': {'username': {'description': 'The username that appears on the Tripadvisor website for the user', 'type': 'string'}, 'user_location': {'type': 'object', 'properties': {'name': {'description': \"The name of the user's location\", 'type': 'string'}, 'id': {'description': \"The location ID of the user's location\", 'type': 'string'}}}, 'review_count': {'description': 'The Review Count that appears on the Tripadvisor website for the user', 'type': 'integer', 'format': 'int32'}, 'reviewer_badge': {'description': 'The Reviewer Badge that appears on the Tripadvisor website for the user', 'type': 'string'}, 'avatar': {'type': 'object', 'additionalProperties': {'type': 'string'}}}}, 'subratings': {'type': 'object', 'additionalProperties': {'allOf': [{'type': 'object', 'properties': {'name': {'type': 'string'}, 'localized_name': {'type': 'string'}}}, {'type': 'object', 'properties': {'rating_image_url': {'type': 'string'}, 'value': {'type': 'number', 'format': 'float'}}}]}}}}}, 'paging': {'type': 'object', 'properties': {'next': {'type': 'string'}, 'previous': {'type': 'string'}, 'results': {'type': 'integer', 'format': 'int32'}, 'total_results': {'type': 'integer', 'format': 'int32'}, 'skipped': {'type': 'integer', 'format': 'int32'}}}, 'error': {'type': 'object', 'properties': {'message': {'type': 'string'}, 'type': {'type': 'string'}, 'code': {'type': 'integer', 'format': 'int32'}}}}}}}}}, 'security': [{'cosoLocationApiLambdaAuthorizer': []}]}}, '/v1/location/search': {'get': {'summary': 'Find Search', 'description': 'The Location Search request returns up to 10 locations found by the given search query.You can use category (\"hotels\", \"attractions\", \"restaurants\", \"geos\"), phone number, address, and latitude/longtitude to search with more accuracy.', 'operationId': 'searchForLocations', 'tags': ['Location Search'], 'parameters': [{'name': 'searchQuery', 'in': 'query', 'description': 'Text to use for searching based on the name of the location', 'required': True, 'schema': {'type': 'string'}}, {'name': 'category', 'in': 'query', 'description': 'Filters result set based on property type. Valid options are \"hotels\", \"attractions\", \"restaurants\", and \"geos\"', 'required': False, 'schema': {'type': 'string'}}, {'name': 'phone', 'in': 'query', 'description': 'Phone number to filter the search results by (this can be in any format with spaces and dashes but without the \"+\" sign at the beginning)', 'required': False, 'schema': {'type': 'string'}}, {'name': 'address', 'in': 'query', 'description': 'Address to filter the search results by', 'required': False, 'schema': {'type': 'string'}}, {'name': 'latLong', 'in': 'query', 'description': 'Latitude/Longitude pair to scope down the search around a specifc point - eg. \"42.3455,-71.10767\"', 'required': False, 'schema': {'type': 'string'}}, {'name': 'radius', 'in': 'query', 'description': 'Length of the radius from the provided latitude/longitude pair to filter results.', 'required': False, 'schema': {'type': 'number', 'minimum': 0, 'exclusiveMinimum': True}}, {'name': 'radiusUnit', 'in': 'query', 'description': 'Unit for length of the radius. Valid options are \"km\", \"mi\", \"m\" (km=kilometers, mi=miles, m=meters)', 'required': False, 'schema': {'type': 'string'}}, {'name': 'language', 'in': 'query', 'description': 'The language in which to return results (e.g. \"en\" for English or \"es\" for Spanish) from the list of our Supported Languages.', 'required': False, 'schema': {'default': 'en', 'type': 'string', 'enum': ['ar', 'zh', 'zh_TW', 'da', 'nl', 'en_AU', 'en_CA', 'en_HK', 'en_IN', 'en_IE', 'en_MY', 'en_NZ', 'en_PH', 'en_SG', 'en_ZA', 'en_UK', 'en', 'fr', 'fr_BE', 'fr_CA', 'fr_CH', 'de_AT', 'de', 'el', 'iw', 'in', 'it', 'it_CH', 'ja', 'ko', 'no', 'pt_PT', 'pt', 'ru', 'es_AR', 'es_CO', 'es_MX', 'es_PE', 'es', 'es_VE', 'es_CL', 'sv', 'th', 'tr', 'vi']}}], 'responses': {'200': {'description': 'Location Search Results', 'content': {'application/json': {'schema': {'type': 'object', 'properties': {'data': {'type': 'array', 'items': {'type': 'object', 'properties': {'location_id': {'description': 'A unique identifier for a location on Tripadvisor. This is to be used in the other endpoints that require a location ID.', 'type': 'integer', 'format': 'int32'}, 'name': {'description': 'Name of the location', 'type': 'string'}, 'distance': {'description': 'Distance, in miles, this location is from the passed in LatLong parameters', 'type': 'string'}, 'bearing': {'description': 'Direction this location is from the passed in LatLong parameters', 'type': 'string'}, 'address_obj': {'description': 'Object consisting of various address data', 'type': 'object', 'properties': {'street1': {'type': 'string', 'description': 'The street name'}, 'street2': {'type': 'string', 'description': 'The street name continuation'}, 'city': {'type': 'string', 'description': 'The city name'}, 'state': {'type': 'string', 'description': 'The state'}, 'country': {'type': 'string', 'description': 'The country'}, 'postalcode': {'type': 'string', 'description': 'The address postal code'}, 'address_string': {'type': 'string', 'description': 'The address in one single sentence'}}}}}}, 'error': {'type': 'object', 'properties': {'message': {'type': 'string'}, 'type': {'type': 'string'}, 'code': {'type': 'integer', 'format': 'int32'}}}}}}}}}, 'security': [{'cosoLocationApiLambdaAuthorizer': []}]}}, '/v1/location/nearby_search': {'get': {'summary': 'Nearby Search', 'description': 'The Nearby Location Search request returns up to 10 locations found near the given latitude/longtitude.You can use category (\"hotels\", \"attractions\", \"restaurants\", \"geos\"), phone number, address to search with more accuracy.', 'operationId': 'searchForNearbyLocations', 'tags': ['Nearby Location Search'], 'parameters': [{'name': 'latLong', 'in': 'query', 'description': 'Latitude/Longitude pair to scope down the search around a specifc point - eg. \"42.3455,-71.10767\"', 'required': True, 'schema': {'type': 'string'}}, {'name': 'category', 'in': 'query', 'description': 'Filters result set based on property type. Valid options are \"hotels\", \"attractions\", \"restaurants\", and \"geos\"', 'required': False, 'schema': {'type': 'string'}}, {'name': 'phone', 'in': 'query', 'description': 'Phone number to filter the search results by (this can be in any format with spaces and dashes but without the \"+\" sign at the beginning)', 'required': False, 'schema': {'type': 'string'}}, {'name': 'address', 'in': 'query', 'description': 'Address to filter the search results by', 'required': False, 'schema': {'type': 'string'}}, {'name': 'radius', 'in': 'query', 'description': 'Length of the radius from the provided latitude/longitude pair to filter results.', 'required': False, 'schema': {'type': 'string'}}, {'name': 'radiusUnit', 'in': 'query', 'description': 'Unit for length of the radius. Valid options are \"km\", \"mi\", \"m\" (km=kilometers, mi=miles, m=meters)', 'required': False, 'schema': {'type': 'string'}}, {'name': 'language', 'in': 'query', 'description': 'The language in which to return results (e.g. \"en\" for English or \"es\" for Spanish) from the list of our Supported Languages.', 'required': False, 'schema': {'default': 'en', 'type': 'string', 'enum': ['ar', 'zh', 'zh_TW', 'da', 'nl', 'en_AU', 'en_CA', 'en_HK', 'en_IN', 'en_IE', 'en_MY', 'en_NZ', 'en_PH', 'en_SG', 'en_ZA', 'en_UK', 'en', 'fr', 'fr_BE', 'fr_CA', 'fr_CH', 'de_AT', 'de', 'el', 'iw', 'in', 'it', 'it_CH', 'ja', 'ko', 'no', 'pt_PT', 'pt', 'ru', 'es_AR', 'es_CO', 'es_MX', 'es_PE', 'es', 'es_VE', 'es_CL', 'sv', 'th', 'tr', 'vi']}}], 'responses': {'200': {'description': 'Nearby Location Search Results', 'content': {'application/json': {'schema': {'type': 'object', 'properties': {'data': {'type': 'array', 'items': {'type': 'object', 'properties': {'location_id': {'description': 'A unique identifier for a location on Tripadvisor. This is to be used in the other endpoints that require a location ID.', 'type': 'integer', 'format': 'int32'}, 'name': {'description': 'Name of the location', 'type': 'string'}, 'distance': {'description': 'Distance, in miles, this location is from the passed in LatLong parameters', 'type': 'string'}, 'bearing': {'description': 'Direction this location is from the passed in LatLong parameters', 'type': 'string'}, 'address_obj': {'description': 'Object consisting of various address data', 'type': 'object', 'properties': {'street1': {'type': 'string', 'description': 'The street name'}, 'street2': {'type': 'string', 'description': 'The street name continuation'}, 'city': {'type': 'string', 'description': 'The city name'}, 'state': {'type': 'string', 'description': 'The state'}, 'country': {'type': 'string', 'description': 'The country'}, 'postalcode': {'type': 'string', 'description': 'The address postal code'}, 'address_string': {'type': 'string', 'description': 'The address in one single sentence'}}}}}}, 'error': {'type': 'object', 'properties': {'message': {'type': 'string'}, 'type': {'type': 'string'}, 'code': {'type': 'integer', 'format': 'int32'}}}}}}}}}, 'security': [{'cosoLocationApiLambdaAuthorizer': []}]}}}, 'components': {'securitySchemes': {'cosoLocationApiLambdaAuthorizer': {'type': 'apiKey', 'name': 'key', 'in': 'query'}}}}\n",
      "/subscriptions/f08cda90-375b-4b3e-a105-4656379a94ab/resourceGroups/rg-Ziggy-ai-agent-001/providers/Microsoft.MachineLearningServices/workspaces/ziggy-ai-agent-project-001/connections/tripadvisor\n"
     ]
    }
   ],
   "source": [
    "with open('./tripadvisor_openapi.json', 'r') as f:\n",
    "    openapi_spec = jsonref.loads(f.read())\n",
    "\n",
    "print(openapi_spec)\n",
    "\n",
    "tripadvisor_connection = project_client.connections.get(\n",
    "    connection_name=\"tripadvisor\"\n",
    ")\n",
    "conn_id = tripadvisor_connection.id\n",
    "print(conn_id)\n",
    "\n",
    "auth = OpenApiConnectionAuthDetails(security_scheme=OpenApiConnectionSecurityScheme(connection_id=conn_id))\n",
    "\n",
    "openapi = OpenApiTool(name=\"tripadvisor\", spec=openapi_spec, description=\"get hotel and restaurant reviews of a location\", auth=auth)"
   ]
  },
  {
   "cell_type": "markdown",
   "id": "bc6e8fe5",
   "metadata": {},
   "source": [
    "## Step 3: Create an agent and a thread"
   ]
  },
  {
   "cell_type": "code",
   "execution_count": 4,
   "id": "5f2ce530",
   "metadata": {},
   "outputs": [
    {
     "name": "stdout",
     "output_type": "stream",
     "text": [
      "Created agent, ID: asst_5n8GDK6WwISUPpbVY2M14D3f\n",
      "Created thread, ID: thread_Gfhrxn45ZMpHfU17XCiq29JJ\n"
     ]
    }
   ],
   "source": [
    "# Create agent with OpenAPI tool and process assistant run\n",
    "agent = project_client.agents.create_agent(\n",
    "    model=\"gpt-4o\",\n",
    "    name=\"my-tripadvisor-assistant\",\n",
    "    instructions=\"You are a helpful assistant that will information using the tools provided to you.\",\n",
    "    tools=openapi.definitions\n",
    ")\n",
    "print(f\"Created agent, ID: {agent.id}\")\n",
    "\n",
    "# Create thread for communication\n",
    "thread = project_client.agents.create_thread()\n",
    "print(f\"Created thread, ID: {thread.id}\")"
   ]
  },
  {
   "cell_type": "markdown",
   "id": "8380313f",
   "metadata": {},
   "source": [
    "## Helper Function\n",
    "- Add a message to the thread\n",
    "- Run the Agent\n",
    "- Check the Run Status\n",
    "- Display the Agent's Response\n"
   ]
  },
  {
   "cell_type": "code",
   "execution_count": 5,
   "id": "cf2fbaa9",
   "metadata": {},
   "outputs": [],
   "source": [
    "def run_agent(user_input):  \n",
    "    # Step 4: Add a message to the thread  \n",
    "    message = project_client.agents.create_message(\n",
    "        thread_id=thread.id,\n",
    "        role=\"user\",\n",
    "        content=user_input,\n",
    "    )\n",
    "    print(f\"Created message, ID: {message.id}\")\n",
    "\n",
    "    # Step 5 & 6: Create and process agent run in thread with tools\n",
    "    run = project_client.agents.create_and_process_run(thread_id=thread.id, agent_id=agent.id)\n",
    "\n",
    "    if run.status == \"failed\":\n",
    "        print(f\"Run failed: {run.last_error}\")\n",
    "\n",
    "    # Step 7: Display the Agent's Response\n",
    "    elif run.status == 'completed':\n",
    "            # Fetch all messages in the thread\n",
    "            messages = project_client.agents.list_messages(thread_id=thread.id)\n",
    "            if messages.data:\n",
    "                agent_message = messages.data[0]  # Get the last assistant message\n",
    "                print(f\"Agent Response: {agent_message.content[0].text.value}\") \n",
    "            else:\n",
    "                print(\"No messages found.\")"
   ]
  },
  {
   "cell_type": "markdown",
   "id": "3f1e106e",
   "metadata": {},
   "source": [
    "## Running the agent using the Helper Function"
   ]
  },
  {
   "cell_type": "code",
   "execution_count": 8,
   "id": "277a69ce",
   "metadata": {},
   "outputs": [
    {
     "name": "stdout",
     "output_type": "stream",
     "text": [
      "Created message, ID: msg_Fd2ZHOPVKSkMIkcbwvGGWMb1\n",
      "Agent Response: La Grande Boucherie refers to multiple locations. Here are the top ones:\n",
      "\n",
      "1. **La Grande Boucherie (New York City, NY)**  \n",
      "   Address: 145 W 53rd St, New York City, NY 10019-6005, United States\n",
      "\n",
      "2. **La Grande Boucherie (Chicago, IL)**  \n",
      "   Address: 431 N. Dearborn Street, Chicago, IL 60654, United States\n",
      "\n",
      "3. **La Grande Boucherie (Washington DC)**  \n",
      "   Address: 699 14th Street NW, Washington DC, DC 20005, United States\n",
      "\n",
      "If you are thinking of a specific location, let me know to explore further details for you.\n"
     ]
    }
   ],
   "source": [
    "user_input = \"What is the La Grande Boucherie?\"\n",
    "run_agent(user_input)"
   ]
  },
  {
   "cell_type": "code",
   "execution_count": 9,
   "id": "8737b5a6",
   "metadata": {},
   "outputs": [
    {
     "name": "stdout",
     "output_type": "stream",
     "text": [
      "Created message, ID: msg_UErcau1bqLoR8R4lfVGXlkde\n",
      "Agent Response: Here are some recent reviews for **La Grande Boucherie** in New York City:\n",
      "\n",
      "1. **Great hospitality and food!**  \n",
      "   Rated: ★★★★★  \n",
      "   *\"Great date night option. Took my misses here for her birthday. The hospitality was top-tier, and we're looking forward to coming back.\"*  \n",
      "   [Read more](https://www.tripadvisor.com/ShowUserReviews-g60763-d21410713-r1001448815-Reviews-La_Grande_Boucherie-New_York_City_New_York.html?m=66827#review1001448815)  \n",
      "\n",
      "2. **Perfect night out**  \n",
      "   Rated: ★★★★★  \n",
      "   *\"Celebrated my birthday here—fantastic food, warm atmosphere, and attentive staff. They even surprised me with a thoughtful birthday treat. Highly recommended for special occasions!\"*  \n",
      "   [Read more](https://www.tripadvisor.com/ShowUserReviews-g60763-d21410713-r1001425870-Reviews-La_Grande_Boucherie-New_York_City_New_York.html?m=66827#review1001425870)  \n",
      "\n",
      "3. **Great birthday brunch**  \n",
      "   Rated: ★★★★★  \n",
      "   *\"Had a large party of 10, and the food was solid. Professional and friendly service from Dorji and Luis.\"*  \n",
      "   [Read more](https://www.tripadvisor.com/ShowUserReviews-g60763-d21410713-r1001378303-Reviews-La_Grande_Boucherie-New_York_City_New_York.html?m=66827#review1001378303)  \n",
      "\n",
      "4. **Try it - you'll like it**  \n",
      "   Rated: ★★★★★  \n",
      "   *\"Wonderful food and service. Ghazal, our server, provided fantastic suggestions.\"*  \n",
      "   [Read more](https://www.tripadvisor.com/ShowUserReviews-g60763-d21410713-r1001363126-Reviews-La_Grande_Boucherie-New_York_City_New_York.html?m=66827#review1001363126)  \n",
      "\n",
      "5. **Great food in a beautiful setting!**  \n",
      "   Rated: ★★★★★  \n",
      "   *\"Beautiful place with amazing food. We loved the fixed-price lunch menu, including Caesar salads and cocktails. Great ambiance and service.\"*  \n",
      "   [Read more](https://www.tripadvisor.com/ShowUserReviews-g60763-d21410713-r1001103763-Reviews-La_Grande_Boucherie-New_York_City_New_York.html?m=66827#review1001103763)  \n",
      "\n",
      "Feel free to check out the detailed reviews via the links!\n"
     ]
    }
   ],
   "source": [
    "user_input = \"What is the review of the La Grande Boucherie in New York City?\"\n",
    "run_agent(user_input)"
   ]
  },
  {
   "cell_type": "markdown",
   "id": "6a1dc133",
   "metadata": {},
   "source": [
    "## Delete Agent to free up resources"
   ]
  },
  {
   "cell_type": "code",
   "execution_count": 9,
   "id": "35e89361",
   "metadata": {},
   "outputs": [
    {
     "name": "stdout",
     "output_type": "stream",
     "text": [
      "Deleted agent\n"
     ]
    }
   ],
   "source": [
    "# Delete the agent when done\n",
    "project_client.agents.delete_agent(agent.id)\n",
    "print(\"Deleted agent\")"
   ]
  }
 ],
 "metadata": {
  "kernelspec": {
   "display_name": "Python 3",
   "language": "python",
   "name": "python3"
  },
  "language_info": {
   "codemirror_mode": {
    "name": "ipython",
    "version": 3
   },
   "file_extension": ".py",
   "mimetype": "text/x-python",
   "name": "python",
   "nbconvert_exporter": "python",
   "pygments_lexer": "ipython3",
   "version": "3.12.1"
  }
 },
 "nbformat": 4,
 "nbformat_minor": 5
}
